{
  "nbformat": 4,
  "nbformat_minor": 0,
  "metadata": {
    "colab": {
      "private_outputs": true,
      "provenance": [],
      "authorship_tag": "ABX9TyNzkh7YpaMqKRYeq4k0bJxs",
      "include_colab_link": true
    },
    "kernelspec": {
      "name": "ir",
      "display_name": "R"
    },
    "language_info": {
      "name": "R"
    }
  },
  "cells": [
    {
      "cell_type": "markdown",
      "metadata": {
        "id": "view-in-github",
        "colab_type": "text"
      },
      "source": [
        "<a href=\"https://colab.research.google.com/github/ravichas/bioinformatics/blob/main/C11/C11_3_t_test_pwr.ipynb\" target=\"_parent\"><img src=\"https://colab.research.google.com/assets/colab-badge.svg\" alt=\"Open In Colab\"/></a>"
      ]
    },
    {
      "cell_type": "code",
      "source": [
        "s1 <- c(8,12,9,11)\n",
        "g1 <- rep(\"A\",4)\n",
        "s2 <- c(18,22,19,21)\n",
        "g2 <- rep(\"B\",4)"
      ],
      "metadata": {
        "id": "XSZUsOS_fVVH"
      },
      "execution_count": null,
      "outputs": []
    },
    {
      "cell_type": "code",
      "source": [
        "d12 <- c(s1,s2)\n",
        "g12 <- c(g1,g2)\n",
        "stripchart(d12 ~ g12, jitter = TRUE, vertical=TRUE)\n",
        "t.test(s1,s2)"
      ],
      "metadata": {
        "id": "hUSegZwFfX2U"
      },
      "execution_count": null,
      "outputs": []
    },
    {
      "cell_type": "markdown",
      "source": [
        "# II t-test example\n",
        "Note that in this case the II sample (s2) is not variable at all"
      ],
      "metadata": {
        "id": "3hWejlumfjRM"
      }
    },
    {
      "cell_type": "code",
      "execution_count": null,
      "metadata": {
        "id": "ixT6MKaVfGEN"
      },
      "outputs": [],
      "source": [
        "s1 <- c(8,12,9,11)\n",
        "g1 <- rep(\"A\",4)\n",
        "s2 <- c(12,12,12)\n",
        "g2 <- rep(\"B\",3)\n",
        "\n",
        "\n",
        "d12 <- c(s1,s2)\n",
        "g12 <- c(g1,g2)\n",
        "stripchart(d12 ~ g12, jitter = TRUE, vertical=TRUE)\n",
        "t.test(s1,s2) # here p-value is not significant because of the first group variability\n"
      ]
    },
    {
      "cell_type": "code",
      "source": [
        "# Last example with the mean of second group is 14\n",
        "s1 <- c(8,12,9,11)\n",
        "g1 <- rep(\"A\",length(s1))\n",
        "s2 <- c(14,14,14)\n",
        "g2 <- rep(\"B\",length(s2))\n",
        "\n",
        "d12 <- c(s1,s2)\n",
        "g12 <- c(g1,g2)\n",
        "stripchart(d12 ~ g12, jitter = TRUE, vertical=TRUE)\n",
        "\n",
        "t.test(s1,s2) # here p-value is significant\n"
      ],
      "metadata": {
        "id": "9fEuOeb2f087"
      },
      "execution_count": null,
      "outputs": []
    },
    {
      "cell_type": "markdown",
      "source": [
        "power of statistical test is the fraction of true positives that will be detected. This is a value between 0 and 1; 1 - beta;\n",
        "beta is the prob of concluding that there is no significant difference between two means\n",
        "usually, larger the sample size the power is larger\n",
        "\n",
        "pwr R package can compute power\n",
        "Other package is stats and the function is power.t.test\n",
        "\n",
        "\n",
        "Given a sample size of 11 in each group and a difference in the means\n",
        " of 1, at a significance level of 0.05, what is the power of a t-test?\n"
      ],
      "metadata": {
        "id": "MBOUNJnnf2Mn"
      }
    },
    {
      "cell_type": "code",
      "source": [
        "power.t.test(n=11, delta =1, sig.level=0.05)\n",
        "\n",
        "# if we want to achieve a power of 0.9 in a t-test, how many samples are needed?\n",
        "\n",
        "power.t.test(power=0.90,delta=1)\n",
        "\n",
        "# Note if n = 22.0211 then we have to make it 22 not a fraction, we cannot have\n",
        "# 22.02 mouse or transcripts etc.\n"
      ],
      "metadata": {
        "id": "LOrUVfCyf859"
      },
      "execution_count": null,
      "outputs": []
    }
  ]
}