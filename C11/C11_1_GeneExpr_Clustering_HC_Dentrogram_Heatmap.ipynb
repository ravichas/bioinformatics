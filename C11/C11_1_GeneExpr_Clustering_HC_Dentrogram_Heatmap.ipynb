{
  "nbformat": 4,
  "nbformat_minor": 0,
  "metadata": {
    "colab": {
      "provenance": [],
      "authorship_tag": "ABX9TyNgfpHZr0UboMDd1raVT+Dd",
      "include_colab_link": true
    },
    "kernelspec": {
      "name": "ir",
      "display_name": "R"
    },
    "language_info": {
      "name": "R"
    }
  },
  "cells": [
    {
      "cell_type": "markdown",
      "metadata": {
        "id": "view-in-github",
        "colab_type": "text"
      },
      "source": [
        "<a href=\"https://colab.research.google.com/github/ravichas/bioinformatics/blob/main/C11/C11_1_GeneExpr_Clustering_HC_Dentrogram_Heatmap.ipynb\" target=\"_parent\"><img src=\"https://colab.research.google.com/assets/colab-badge.svg\" alt=\"Open In Colab\"/></a>"
      ]
    },
    {
      "cell_type": "markdown",
      "source": [
        "# C11 Hands-on Exercise: S.Ravichandran"
      ],
      "metadata": {
        "id": "poHVGOiMOrwh"
      }
    },
    {
      "cell_type": "code",
      "source": [
        "# based on Prof.Pevsner Bioinformatics Book\n",
        "install.packages(\"rafalib\")\n",
        "library(rafalib)"
      ],
      "metadata": {
        "id": "MYEXIruBPB-4"
      },
      "execution_count": null,
      "outputs": []
    },
    {
      "cell_type": "code",
      "source": [
        "# prompt: download file from Github https://raw.githubusercontent.com/ravichas/bioinformatics/main/data/myarraydata.txt\n",
        "\n",
        "z <- read.delim(\"https://raw.githubusercontent.com/ravichas/bioinformatics/main/data/myarraydata.txt\", header = TRUE, sep=\"\\t\")\n"
      ],
      "metadata": {
        "id": "OQmBFN9OPl_g"
      },
      "execution_count": null,
      "outputs": []
    },
    {
      "cell_type": "code",
      "source": [
        "z"
      ],
      "metadata": {
        "id": "rGEzt0NLPXKT"
      },
      "execution_count": null,
      "outputs": []
    },
    {
      "cell_type": "code",
      "source": [
        "dim(z)\n",
        "row.names(z) <- z[,1]\n",
        "z"
      ],
      "metadata": {
        "id": "TxiyiXBFP7UA"
      },
      "execution_count": null,
      "outputs": []
    },
    {
      "cell_type": "markdown",
      "source": [
        "\n",
        "In genomics often cluster the data to discover groups\n",
        "Also, remember that genomics data is a high-D data.\n",
        "To cluster the data, we need to compute distance\n",
        "we need to understand the concept of distance.\n",
        "\n",
        "create a distance matrix using cols 3 to 16\n",
        "perform a hierarchical clustering using the complete linkage\n",
        "agglomeration method\n",
        "\n",
        "HC follows either a top-down (divisive) or agglomerative (bottom-up)\n",
        "approaches top-down, we take all the samples and divide them into two\n",
        "(not necessarily equally) and then divide them up into two\n",
        "until there are no more samples to divide"
      ],
      "metadata": {
        "id": "sz7sHwMsP_Ly"
      }
    },
    {
      "cell_type": "code",
      "source": [
        "clust <- hclust(dist(z[,3:16]),method=\"complete\")\n",
        "clust\n",
        "\n",
        "plot(clust)"
      ],
      "metadata": {
        "id": "WubzJlZxQI6Q"
      },
      "execution_count": null,
      "outputs": []
    },
    {
      "cell_type": "markdown",
      "source": [
        "it generates a clustering tree\n",
        "you can also repeat using methods=\"single\" or \"median\"\n",
        "`?hclust` for more options\n",
        "\n",
        "create a version of matrix called z.back in which 2 columns\n",
        "containing the gene names and chromosomal loci are removed"
      ],
      "metadata": {
        "id": "YMWPCSKsQTpA"
      }
    },
    {
      "cell_type": "code",
      "source": [
        "z.back=z[,-c(1,2)]\n",
        "\n",
        "z.back\n",
        "\n",
        "# create a new file called w by transposing z.back\n",
        "\n",
        "w <- t(z.back)\n",
        "\n",
        "w"
      ],
      "metadata": {
        "id": "jGJ5awnAQL9B"
      },
      "execution_count": null,
      "outputs": []
    },
    {
      "cell_type": "code",
      "source": [
        "clust <- hclust(dist(w[,1:8]))\n",
        "clust\n",
        "plot(clust)"
      ],
      "metadata": {
        "id": "MvuulStrQaVW"
      },
      "execution_count": null,
      "outputs": []
    },
    {
      "cell_type": "code",
      "source": [
        "clust <- hclust(dist(z[,3:16],method=\"manhattan\"),method=\"complete\")\n",
        "plot(clust)"
      ],
      "metadata": {
        "id": "DRTyO2lUQaSj"
      },
      "execution_count": null,
      "outputs": []
    },
    {
      "cell_type": "code",
      "source": [
        "clust <- hclust(dist(z[,3:16],method=\"minkowski\"),method=\"complete\")\n",
        "plot(clust)"
      ],
      "metadata": {
        "id": "WPnDRLwjQaPi"
      },
      "execution_count": null,
      "outputs": []
    },
    {
      "cell_type": "code",
      "source": [
        "clust <- hclust(dist(z[,3:16],method=\"binary\"),method=\"complete\")\n",
        "plot(clust)"
      ],
      "metadata": {
        "id": "XLuQkiAYQaLX"
      },
      "execution_count": null,
      "outputs": []
    },
    {
      "cell_type": "code",
      "source": [
        "clust <- hclust(dist(z[,3:16],method=\"maximum\"),method=\"complete\")\n",
        "plot(clust)"
      ],
      "metadata": {
        "id": "8fuWCag8Qldq"
      },
      "execution_count": null,
      "outputs": []
    },
    {
      "cell_type": "code",
      "source": [
        "clust <- hclust(dist(z[,3:16],method=\"canberra\"),method=\"complete\")\n",
        "plot(clust)"
      ],
      "metadata": {
        "id": "5ps0Ou8XQpOY"
      },
      "execution_count": null,
      "outputs": []
    },
    {
      "cell_type": "markdown",
      "source": [
        "you can vary the metric by which you create the distance matrix\n",
        "Euclidean, manhattan, minkowski, binary, maximum, canberra\n",
        "as well as varying the clustering method\n",
        "ward, single, complete, average, mcquitty, median or centroid"
      ],
      "metadata": {
        "id": "Vk-ubRzJQs2m"
      }
    },
    {
      "cell_type": "code",
      "source": [
        "library(devtools)\n",
        "install_github(\"genomicsclass/tissuesGeneExpression\")\n",
        "# or\n",
        "# BiocManager::install(\"genomicsclass/tissuesGeneExpression\")"
      ],
      "metadata": {
        "id": "zyquXXB2QzXa"
      },
      "execution_count": null,
      "outputs": []
    },
    {
      "cell_type": "code",
      "source": [
        "library(tissuesGeneExpression)\n",
        "data(tissuesGeneExpression)"
      ],
      "metadata": {
        "id": "oZV7xLUqQ-Ir"
      },
      "execution_count": null,
      "outputs": []
    },
    {
      "cell_type": "code",
      "source": [
        "# distance between sample1 and sample10\n",
        "sqrt(sum( (e[,1]-e[,10])^2 ) )"
      ],
      "metadata": {
        "id": "AB0JFsNnRBk_"
      },
      "execution_count": null,
      "outputs": []
    },
    {
      "cell_type": "markdown",
      "source": [
        "# distance matrix of samples\n",
        "distance between rows or samles (after transposing)"
      ],
      "metadata": {
        "id": "2M6qLiJvRGLV"
      }
    },
    {
      "cell_type": "code",
      "source": [
        "d <- dist( t(e) )  # only lower diagonal is stored\n",
        "hc <- hclust(d)\n",
        "class(hc)\n",
        "plot(hc) # plot knows what to do"
      ],
      "metadata": {
        "id": "_UEUdgEkRDy_"
      },
      "execution_count": null,
      "outputs": []
    },
    {
      "cell_type": "code",
      "source": [
        "plot(hc, cex = 0.5, label = tissue) # hc traks the order of tissue"
      ],
      "metadata": {
        "id": "GCiFOk4yRSgB"
      },
      "execution_count": null,
      "outputs": []
    },
    {
      "cell_type": "code",
      "source": [
        "myplclust(hc, cex = 0.5, label = tissue, lab.col = as.fumeric(tissue))\n",
        "abline(h = 120) # let us cut the tree at 120"
      ],
      "metadata": {
        "id": "ySNiyxZ8RVGq"
      },
      "execution_count": null,
      "outputs": []
    },
    {
      "cell_type": "markdown",
      "source": [
        "Remember thsee are just groupings\n",
        "if you want to create clusters using the groups\n",
        "then you have to decide on a cut-off and then\n",
        "group the tissues based on the groups from the cut-off\n",
        "\n",
        "How do we decide on the cut off\n",
        "the most distance I can move without any interference\n",
        "that is where I want to cut"
      ],
      "metadata": {
        "id": "GKbeLrmZRXtT"
      }
    },
    {
      "cell_type": "code",
      "source": [
        "cl <- cutree(hc, h = 120)\n",
        "table(tree=tissue, cluster=cl)"
      ],
      "metadata": {
        "id": "fw_mxXwFRc_K"
      },
      "execution_count": null,
      "outputs": []
    },
    {
      "cell_type": "markdown",
      "source": [
        "take a look at the table\n",
        "\n",
        "Are we doing good with colon samples?\n",
        "* what about liver\n",
        "* what about kidney ?\n",
        "\n",
        "# Quiz\n",
        "which pair (7, 13) or (11,20) is farthest in distance?"
      ],
      "metadata": {
        "id": "O4CQ9uz1RvcQ"
      }
    },
    {
      "cell_type": "code",
      "source": [
        "set.seed(100)\n",
        "m <- 10000\n",
        "n <- 24\n",
        "data <- matrix(rnorm(m*n),m,n)\n",
        "colnames(data) <- 1:n\n",
        "d <- dist(t(data))\n",
        "h <- hclust(d)\n",
        "plot(h)"
      ],
      "metadata": {
        "id": "Y7dg6rlyRu-R"
      },
      "execution_count": null,
      "outputs": []
    },
    {
      "cell_type": "markdown",
      "source": [
        "# k-means clustering\n",
        "\n",
        "very easy to understand but not useful for biological data\n",
        "  \n",
        "we need to decide upfront how many clusters we need\n",
        "\n",
        "then the algorithm then decides to put\n",
        "which sample goes to which cluster\n",
        "\n",
        "we pick 3 samles at ranodm we call this\n",
        "3 centroids then look for close sample\n",
        "then turn them into the corresponding cluster\n",
        "redefine the cluster centroid and continue thsi\n",
        "until there are no changes."
      ],
      "metadata": {
        "id": "_ob2aqtvR9nv"
      }
    },
    {
      "cell_type": "markdown",
      "source": [
        "# Caveats:\n",
        "\n",
        "KEEP in mind that there is a random component to this method\n",
        "\n",
        "we do not know up-front how many clusters we expect"
      ],
      "metadata": {
        "id": "fwDCyT3BSols"
      }
    },
    {
      "cell_type": "code",
      "source": [
        "length(unique(tissue))\n",
        "km <- kmeans( t(e), 7, centers = 7 )\n",
        "table(tissue, clusters=km$cluster)\n",
        "\n",
        "# what do you think about the result?"
      ],
      "metadata": {
        "id": "esJqT6kbSyx8"
      },
      "execution_count": null,
      "outputs": []
    },
    {
      "cell_type": "code",
      "source": [
        "km <- kmeans( t(e), 7, centers = 7 )\n",
        "table(tissue, clusters=km$cluster)"
      ],
      "metadata": {
        "id": "T72m8t0gS4Sc"
      },
      "execution_count": null,
      "outputs": []
    },
    {
      "cell_type": "markdown",
      "source": [
        "# Can we create a plot?\n",
        "yes, we have to use the MDS method"
      ],
      "metadata": {
        "id": "m-wfyoX2S6Ff"
      }
    },
    {
      "cell_type": "code",
      "source": [
        "d <- dist( t(e) )\n",
        "mds <- cmdscale( d )\n",
        "plot(mds[,1], mds[,2], col=km$cluster)"
      ],
      "metadata": {
        "id": "LWZ31DjITEJV"
      },
      "execution_count": null,
      "outputs": []
    },
    {
      "cell_type": "code",
      "source": [
        "# kmeans using one of the microarray data\n",
        "library(devtools)\n",
        "install_github(\"genomicsclass/GSE5859Subset\")\n",
        "library(GSE5859Subset)\n",
        "data(GSE5859Subset)\n",
        "set.seed(10)\n",
        "km <- kmeans( t(geneExpression), 5, centers = 5 )\n",
        "table(sampleInfo$date, km$cluster)\n",
        "table(sampleInfo$group, km$cluster)"
      ],
      "metadata": {
        "id": "o_jTfB6gTH7M"
      },
      "execution_count": null,
      "outputs": []
    },
    {
      "cell_type": "code",
      "source": [
        "#  Head Map\n",
        "library(devtools)\n",
        "#install_github(\"genomicsclass/tissuesGeneExpression\")\n",
        "library(tissuesGeneExpression)\n",
        "data(tissuesGeneExpression)"
      ],
      "metadata": {
        "id": "aev9WBJbTQzj"
      },
      "execution_count": null,
      "outputs": []
    },
    {
      "cell_type": "markdown",
      "source": [
        "## Heat map adds structure to the data\n",
        "it takes the data and clusters the gene and then it clustes the sample then it adds color yellow means high and red means low\n",
        "Why\n",
        "Becos, every pixel correspond to an entry in the table. we dont want to use all the rows"
      ],
      "metadata": {
        "id": "qemDrqjQTubZ"
      }
    },
    {
      "cell_type": "code",
      "source": [
        "dim(e)\n",
        "# 22215 x 189\n",
        "# so let us use the first 100 genes\n",
        "\n",
        "image( e[1:100,] )"
      ],
      "metadata": {
        "id": "iBiwmbgTT8qs"
      },
      "execution_count": null,
      "outputs": []
    },
    {
      "cell_type": "code",
      "source": [
        "# 8 minutes ** Time Consuming **\n",
        "if (!require(\"BiocManager\", quietly = TRUE))\n",
        "    install.packages(\"BiocManager\")\n",
        "\n",
        "BiocManager::install(\"genefilter\")"
      ],
      "metadata": {
        "id": "33dHoIgUUOX1"
      },
      "execution_count": null,
      "outputs": []
    },
    {
      "cell_type": "code",
      "execution_count": null,
      "metadata": {
        "id": "dnXhQQPVObg4"
      },
      "outputs": [],
      "source": [
        "library(genefilter)\n",
        "rv <- genefilter::rowVars(e)\n",
        "idx <- order(-rv)[1:40]\n",
        "heatmap(e[idx,])"
      ]
    },
    {
      "cell_type": "code",
      "source": [
        "# let us improve the color\n",
        "install.packages(\"RColorBrewer\")"
      ],
      "metadata": {
        "id": "sFzB8Bz5UXfp"
      },
      "execution_count": null,
      "outputs": []
    },
    {
      "cell_type": "code",
      "source": [
        "library(RColorBrewer)\n",
        "hmcol <- colorRampPalette(brewer.pal(9,\"GnBu\"))(100)\n",
        "heatmap(e[idx,],col=hmcol) # low is whie and high expr is blue\n",
        "# use heatmap2 instead\n"
      ],
      "metadata": {
        "id": "NyO72CNfSiyp"
      },
      "execution_count": null,
      "outputs": []
    },
    {
      "cell_type": "code",
      "source": [
        "install.packages(\"gplots\")\n",
        "\n",
        "library(gplots)\n",
        "library(rafalib)\n",
        "cols <- palette(brewer.pal(7,\"Dark2\"))[as.fumeric(tissue)]\n",
        "cbind(colnames(e),tissue,cols)\n",
        "heatmap.2(e[idx,], labCol=tissue, trace = \"none\",\n",
        "          ColSideColors = cols,\n",
        "          col = hmcol)"
      ],
      "metadata": {
        "id": "9CA8TMDLSXs-"
      },
      "execution_count": null,
      "outputs": []
    },
    {
      "cell_type": "markdown",
      "source": [
        "# So far we have always looked at sample clustering\n",
        "can we cluster gene"
      ],
      "metadata": {
        "id": "qgm_hd1fSRNj"
      }
    },
    {
      "cell_type": "code",
      "source": [
        "set.seed(1)\n",
        "m <- 10000\n",
        "n <- 24\n",
        "B <- 100\n",
        "cl <- vector(\"numeric\",B)\n",
        "test <- for (i in 1:B) {\n",
        "  x = matrix(rnorm(m*n),m,n)\n",
        "  hc <- hclust( dist(t(x)) )\n",
        "  cl[i] <- max(cutree(hc, h = 143))\n",
        "\n",
        "}\n",
        "cl\n",
        "sd(cl)/sqrt(23)\n"
      ],
      "metadata": {
        "id": "Pyca4u3wSNLX"
      },
      "execution_count": null,
      "outputs": []
    },
    {
      "cell_type": "markdown",
      "source": [
        "Finally, note that clustering involves computing\n",
        "distances and distances are very susceptible to noise\n"
      ],
      "metadata": {
        "id": "Bo9uBFJlSIib"
      }
    },
    {
      "cell_type": "code",
      "source": [
        "session_info()"
      ],
      "metadata": {
        "id": "zyNuo0GESKdR"
      },
      "execution_count": null,
      "outputs": []
    },
    {
      "cell_type": "code",
      "source": [],
      "metadata": {
        "id": "bMzIAEmjXCgB"
      },
      "execution_count": null,
      "outputs": []
    }
  ]
}