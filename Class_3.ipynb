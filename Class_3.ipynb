{
  "cells": [
    {
      "cell_type": "markdown",
      "metadata": {
        "id": "view-in-github",
        "colab_type": "text"
      },
      "source": [
        "<a href=\"https://colab.research.google.com/github/ravichas/bioinformatics/blob/main/Class_3.ipynb\" target=\"_parent\"><img src=\"https://colab.research.google.com/assets/colab-badge.svg\" alt=\"Open In Colab\"/></a>"
      ]
    },
    {
      "cell_type": "markdown",
      "metadata": {
        "id": "FjwSdwTPpwQl"
      },
      "source": [
        "## NCBI Edirect tutorial using COLAB \n",
        "S. Ravichandran (saka.ravi@gmail.com)\n",
        "\n",
        "\n"
      ]
    },
    {
      "cell_type": "markdown",
      "metadata": {
        "id": "-HGNGR6Op-5k"
      },
      "source": [
        "## Install EDIRECT\n",
        "\n",
        "https://www.ncbi.nlm.nih.gov/books/NBK179288/"
      ]
    },
    {
      "cell_type": "code",
      "execution_count": null,
      "metadata": {
        "colab": {
          "base_uri": "https://localhost:8080/"
        },
        "id": "LS0BR-gIxOAj",
        "outputId": "de6c3bc1-b6d5-4381-8fe8-107d5017f367"
      },
      "outputs": [
        {
          "name": "stdout",
          "output_type": "stream",
          "text": [
            "Tue Feb 22 22:23:41 UTC 2022\n"
          ]
        }
      ],
      "source": [
        "!date"
      ]
    },
    {
      "cell_type": "code",
      "execution_count": null,
      "metadata": {
        "id": "yEg6D3jn_XYo"
      },
      "outputs": [],
      "source": [
        "%%bash\n",
        "MINICONDA_INSTALLER_SCRIPT=Miniconda3-4.5.4-Linux-x86_64.sh\n",
        "MINICONDA_PREFIX=/usr/local\n",
        "wget https://repo.continuum.io/miniconda/$MINICONDA_INSTALLER_SCRIPT >& /dev/null\n",
        "chmod +x $MINICONDA_INSTALLER_SCRIPT\n",
        "./$MINICONDA_INSTALLER_SCRIPT -b -f -p $MINICONDA_PREFIX >& /dev/null "
      ]
    },
    {
      "cell_type": "code",
      "execution_count": null,
      "metadata": {
        "colab": {
          "base_uri": "https://localhost:8080/"
        },
        "id": "by5LfnneBgZJ",
        "outputId": "39616f1a-01ac-4f28-9f0b-86f6c576584a"
      },
      "outputs": [
        {
          "name": "stdout",
          "output_type": "stream",
          "text": [
            "/usr/local/bin/conda\n"
          ]
        }
      ],
      "source": [
        "!which conda # should return /usr/local/bin/conda"
      ]
    },
    {
      "cell_type": "code",
      "execution_count": null,
      "metadata": {
        "colab": {
          "base_uri": "https://localhost:8080/"
        },
        "id": "g7Nib60-CgxB",
        "outputId": "b1c4362b-063a-4e48-e23d-a4554cc99b0d"
      },
      "outputs": [
        {
          "name": "stdout",
          "output_type": "stream",
          "text": [
            "conda 4.5.4\n"
          ]
        }
      ],
      "source": [
        "!conda --version # should return 4.5.4"
      ]
    },
    {
      "cell_type": "code",
      "execution_count": null,
      "metadata": {
        "colab": {
          "base_uri": "https://localhost:8080/"
        },
        "id": "ub9QlZctBsRV",
        "outputId": "086754e7-03bf-401e-aa64-b8f3d8f39d97"
      },
      "outputs": [
        {
          "name": "stdout",
          "output_type": "stream",
          "text": [
            "/usr/local/bin/python\n"
          ]
        }
      ],
      "source": [
        "!which python # still returns /usr/local/bin/python"
      ]
    },
    {
      "cell_type": "code",
      "execution_count": null,
      "metadata": {
        "colab": {
          "base_uri": "https://localhost:8080/"
        },
        "id": "ru-8KXsq_ICC",
        "outputId": "91f7736f-daa9-4f07-befd-9ffa3033983b"
      },
      "outputs": [
        {
          "name": "stdout",
          "output_type": "stream",
          "text": [
            "Solving environment: ...working... done\n",
            "\n",
            "## Package Plan ##\n",
            "\n",
            "  environment location: /usr/local\n",
            "\n",
            "  added / updated specs: \n",
            "    - conda\n",
            "    - python=3.7\n",
            "\n",
            "\n",
            "The following packages will be downloaded:\n",
            "\n",
            "    package                    |            build\n",
            "    ---------------------------|-----------------\n",
            "    cffi-1.15.0                |   py37hd667e15_1         224 KB\n",
            "    urllib3-1.26.8             |     pyhd3eb1b0_0         100 KB\n",
            "    conda-4.11.0               |   py37h06a4308_0        16.9 MB\n",
            "    setuptools-58.0.4          |   py37h06a4308_0         979 KB\n",
            "    idna-3.3                   |     pyhd3eb1b0_0          55 KB\n",
            "    pycosat-0.6.3              |   py37h27cfd23_0         108 KB\n",
            "    brotlipy-0.7.0             |py37h27cfd23_1003         350 KB\n",
            "    zlib-1.2.11                |       h7f8727e_4         125 KB\n",
            "    ncurses-6.3                |       h7f8727e_2         1.0 MB\n",
            "    certifi-2021.10.8          |   py37h06a4308_2         156 KB\n",
            "    requests-2.27.1            |     pyhd3eb1b0_0          52 KB\n",
            "    pip-21.2.2                 |   py37h06a4308_0         2.0 MB\n",
            "    tqdm-4.62.3                |     pyhd3eb1b0_1          79 KB\n",
            "    xz-5.2.5                   |       h7b6447c_0         438 KB\n",
            "    wheel-0.37.1               |     pyhd3eb1b0_0          31 KB\n",
            "    pyopenssl-22.0.0           |     pyhd3eb1b0_0          49 KB\n",
            "    tk-8.6.11                  |       h1ccaba5_0         3.2 MB\n",
            "    openssl-1.1.1m             |       h7f8727e_0         3.8 MB\n",
            "    libgcc-ng-9.1.0            |       hdf63c60_0         8.1 MB\n",
            "    ca-certificates-2021.10.26 |       h06a4308_2         121 KB\n",
            "    charset-normalizer-2.0.4   |     pyhd3eb1b0_0          33 KB\n",
            "    pysocks-1.7.1              |           py37_1          27 KB\n",
            "    libstdcxx-ng-9.1.0         |       hdf63c60_0         4.0 MB\n",
            "    yaml-0.2.5                 |       h7b6447c_0          87 KB\n",
            "    ruamel_yaml-0.15.100       |   py37h27cfd23_0         267 KB\n",
            "    sqlite-3.37.2              |       hc218d9a_0         1.5 MB\n",
            "    conda-package-handling-1.7.3|   py37h27cfd23_1         962 KB\n",
            "    libffi-3.3                 |       he6710b0_2          54 KB\n",
            "    pycparser-2.21             |     pyhd3eb1b0_0          94 KB\n",
            "    _libgcc_mutex-0.1          |             main           3 KB\n",
            "    readline-8.1.2             |       h7f8727e_1         423 KB\n",
            "    ld_impl_linux-64-2.35.1    |       h7274673_9         637 KB\n",
            "    six-1.16.0                 |     pyhd3eb1b0_1          19 KB\n",
            "    cryptography-36.0.0        |   py37h9ce1e76_0         1.5 MB\n",
            "    python-3.7.11              |       h12debd9_0        52.9 MB\n",
            "    ------------------------------------------------------------\n",
            "                                           Total:       100.4 MB\n",
            "\n",
            "The following NEW packages will be INSTALLED:\n",
            "\n",
            "    _libgcc_mutex:          0.1-main               \n",
            "    brotlipy:               0.7.0-py37h27cfd23_1003\n",
            "    charset-normalizer:     2.0.4-pyhd3eb1b0_0     \n",
            "    conda-package-handling: 1.7.3-py37h27cfd23_1   \n",
            "    ld_impl_linux-64:       2.35.1-h7274673_9      \n",
            "    tqdm:                   4.62.3-pyhd3eb1b0_1    \n",
            "\n",
            "The following packages will be UPDATED:\n",
            "\n",
            "    ca-certificates:        2018.03.07-0            --> 2021.10.26-h06a4308_2   \n",
            "    certifi:                2018.4.16-py36_0        --> 2021.10.8-py37h06a4308_2\n",
            "    cffi:                   1.11.5-py36h9745a5d_0   --> 1.15.0-py37hd667e15_1   \n",
            "    conda:                  4.5.4-py36_0            --> 4.11.0-py37h06a4308_0   \n",
            "    cryptography:           2.2.2-py36h14c3975_0    --> 36.0.0-py37h9ce1e76_0   \n",
            "    idna:                   2.6-py36h82fb2a8_1      --> 3.3-pyhd3eb1b0_0        \n",
            "    libffi:                 3.2.1-hd88cf55_4        --> 3.3-he6710b0_2          \n",
            "    libgcc-ng:              7.2.0-hdf63c60_3        --> 9.1.0-hdf63c60_0        \n",
            "    libstdcxx-ng:           7.2.0-hdf63c60_3        --> 9.1.0-hdf63c60_0        \n",
            "    ncurses:                6.1-hf484d3e_0          --> 6.3-h7f8727e_2          \n",
            "    openssl:                1.0.2o-h20670df_0       --> 1.1.1m-h7f8727e_0       \n",
            "    pip:                    10.0.1-py36_0           --> 21.2.2-py37h06a4308_0   \n",
            "    pycosat:                0.6.3-py36h0a5515d_0    --> 0.6.3-py37h27cfd23_0    \n",
            "    pycparser:              2.18-py36hf9f622e_1     --> 2.21-pyhd3eb1b0_0       \n",
            "    pyopenssl:              18.0.0-py36_0           --> 22.0.0-pyhd3eb1b0_0     \n",
            "    pysocks:                1.6.8-py36_0            --> 1.7.1-py37_1            \n",
            "    python:                 3.6.5-hc3d631a_2        --> 3.7.11-h12debd9_0       \n",
            "    readline:               7.0-ha6073c6_4          --> 8.1.2-h7f8727e_1        \n",
            "    requests:               2.18.4-py36he2e5f8d_1   --> 2.27.1-pyhd3eb1b0_0     \n",
            "    ruamel_yaml:            0.15.37-py36h14c3975_2  --> 0.15.100-py37h27cfd23_0 \n",
            "    setuptools:             39.2.0-py36_0           --> 58.0.4-py37h06a4308_0   \n",
            "    six:                    1.11.0-py36h372c433_1   --> 1.16.0-pyhd3eb1b0_1     \n",
            "    sqlite:                 3.23.1-he433501_0       --> 3.37.2-hc218d9a_0       \n",
            "    tk:                     8.6.7-hc745277_3        --> 8.6.11-h1ccaba5_0       \n",
            "    urllib3:                1.22-py36hbe7ace6_0     --> 1.26.8-pyhd3eb1b0_0     \n",
            "    wheel:                  0.31.1-py36_0           --> 0.37.1-pyhd3eb1b0_0     \n",
            "    xz:                     5.2.4-h14c3975_4        --> 5.2.5-h7b6447c_0        \n",
            "    yaml:                   0.1.7-had09818_2        --> 0.2.5-h7b6447c_0        \n",
            "    zlib:                   1.2.11-ha838bed_2       --> 1.2.11-h7f8727e_4       \n",
            "\n",
            "\n",
            "Downloading and Extracting Packages\n",
            "Preparing transaction: ...working... done\n",
            "Verifying transaction: ...working... done\n",
            "Executing transaction: ...working... done\n",
            "Collecting package metadata (current_repodata.json): ...working... done\n",
            "Solving environment: ...working... done\n",
            "\n",
            "## Package Plan ##\n",
            "\n",
            "  environment location: /usr/local\n",
            "\n",
            "\n",
            "The following packages will be downloaded:\n",
            "\n",
            "    package                    |            build\n",
            "    ---------------------------|-----------------\n",
            "    _openmp_mutex-4.5          |            1_gnu          22 KB\n",
            "    libgcc-ng-9.3.0            |      h5101ec6_17         4.8 MB\n",
            "    libgomp-9.3.0              |      h5101ec6_17         311 KB\n",
            "    libstdcxx-ng-9.3.0         |      hd4cf53a_17         3.1 MB\n",
            "    ------------------------------------------------------------\n",
            "                                           Total:         8.2 MB\n",
            "\n",
            "The following NEW packages will be INSTALLED:\n",
            "\n",
            "  _openmp_mutex      pkgs/main/linux-64::_openmp_mutex-4.5-1_gnu\n",
            "  libgomp            pkgs/main/linux-64::libgomp-9.3.0-h5101ec6_17\n",
            "\n",
            "The following packages will be UPDATED:\n",
            "\n",
            "  libgcc-ng                                9.1.0-hdf63c60_0 --> 9.3.0-h5101ec6_17\n",
            "  libstdcxx-ng                             9.1.0-hdf63c60_0 --> 9.3.0-hd4cf53a_17\n",
            "\n",
            "\n",
            "\n",
            "Downloading and Extracting Packages\n",
            "\rlibgomp-9.3.0        | 311 KB    |            |   0% \rlibgomp-9.3.0        | 311 KB    | ########## | 100% \rlibgomp-9.3.0        | 311 KB    | ########## | 100% \n",
            "\rlibstdcxx-ng-9.3.0   | 3.1 MB    |            |   0% \rlibstdcxx-ng-9.3.0   | 3.1 MB    | ########## | 100% \rlibstdcxx-ng-9.3.0   | 3.1 MB    | ########## | 100% \n",
            "\r_openmp_mutex-4.5    | 22 KB     |            |   0% \r_openmp_mutex-4.5    | 22 KB     | ########## | 100% \n",
            "\rlibgcc-ng-9.3.0      | 4.8 MB    |            |   0% \rlibgcc-ng-9.3.0      | 4.8 MB    | ########## | 100% \rlibgcc-ng-9.3.0      | 4.8 MB    | ########## | 100% \n",
            "Preparing transaction: ...working... done\n",
            "Verifying transaction: ...working... done\n",
            "Executing transaction: ...working... done\n"
          ]
        },
        {
          "name": "stderr",
          "output_type": "stream",
          "text": [
            "\rcffi-1.15.0          |  224 KB |            |   0% \rcffi-1.15.0          |  224 KB | ########## | 100% \n",
            "\rurllib3-1.26.8       |  100 KB |            |   0% \rurllib3-1.26.8       |  100 KB | ########## | 100% \n",
            "\rconda-4.11.0         | 16.9 MB |            |   0% \rconda-4.11.0         | 16.9 MB | ###        |  31% \rconda-4.11.0         | 16.9 MB | #######5   |  75% \rconda-4.11.0         | 16.9 MB | #########4 |  95% \rconda-4.11.0         | 16.9 MB | ########## | 100% \n",
            "\rsetuptools-58.0.4    |  979 KB |            |   0% \rsetuptools-58.0.4    |  979 KB | #######9   |  80% \rsetuptools-58.0.4    |  979 KB | #########6 |  97% \rsetuptools-58.0.4    |  979 KB | ########## | 100% \n",
            "\ridna-3.3             |   55 KB |            |   0% \ridna-3.3             |   55 KB | ########## | 100% \n",
            "\rpycosat-0.6.3        |  108 KB |            |   0% \rpycosat-0.6.3        |  108 KB | ########## | 100% \n",
            "\rbrotlipy-0.7.0       |  350 KB |            |   0% \rbrotlipy-0.7.0       |  350 KB | ########## | 100% \n",
            "\rzlib-1.2.11          |  125 KB |            |   0% \rzlib-1.2.11          |  125 KB | ########## | 100% \n",
            "\rncurses-6.3          |  1.0 MB |            |   0% \rncurses-6.3          |  1.0 MB | ########3  |  83% \rncurses-6.3          |  1.0 MB | ########## | 100% \n",
            "\rcertifi-2021.10.8    |  156 KB |            |   0% \rcertifi-2021.10.8    |  156 KB | ########## | 100% \n",
            "\rrequests-2.27.1      |   52 KB |            |   0% \rrequests-2.27.1      |   52 KB | ########## | 100% \n",
            "\rpip-21.2.2           |  2.0 MB |            |   0% \rpip-21.2.2           |  2.0 MB | #####5     |  55% \rpip-21.2.2           |  2.0 MB | #######7   |  78% \rpip-21.2.2           |  2.0 MB | #########1 |  91% \rpip-21.2.2           |  2.0 MB | ########## | 100% \n",
            "\rtqdm-4.62.3          |   79 KB |            |   0% \rtqdm-4.62.3          |   79 KB | ########## | 100% \n",
            "\rxz-5.2.5             |  438 KB |            |   0% \rxz-5.2.5             |  438 KB | #########  |  90% \rxz-5.2.5             |  438 KB | ########## | 100% \n",
            "\rwheel-0.37.1         |   31 KB |            |   0% \rwheel-0.37.1         |   31 KB | ########## | 100% \n",
            "\rpyopenssl-22.0.0     |   49 KB |            |   0% \rpyopenssl-22.0.0     |   49 KB | ########## | 100% \n",
            "\rtk-8.6.11            |  3.2 MB |            |   0% \rtk-8.6.11            |  3.2 MB | #######6   |  77% \rtk-8.6.11            |  3.2 MB | ########9  |  89% \rtk-8.6.11            |  3.2 MB | #########9 | 100% \rtk-8.6.11            |  3.2 MB | ########## | 100% \n",
            "\ropenssl-1.1.1m       |  3.8 MB |            |   0% \ropenssl-1.1.1m       |  3.8 MB | #######7   |  77% \ropenssl-1.1.1m       |  3.8 MB | #########6 |  97% \ropenssl-1.1.1m       |  3.8 MB | ########## | 100% \n",
            "\rlibgcc-ng-9.1.0      |  8.1 MB |            |   0% \rlibgcc-ng-9.1.0      |  8.1 MB | #######5   |  76% \rlibgcc-ng-9.1.0      |  8.1 MB | #########2 |  92% \rlibgcc-ng-9.1.0      |  8.1 MB | ########## | 100% \n",
            "\rca-certificates-2021 |  121 KB |            |   0% \rca-certificates-2021 |  121 KB | ########## | 100% \n",
            "\rcharset-normalizer-2 |   33 KB |            |   0% \rcharset-normalizer-2 |   33 KB | ########## | 100% \n",
            "\rpysocks-1.7.1        |   27 KB |            |   0% \rpysocks-1.7.1        |   27 KB | ########## | 100% \n",
            "\rlibstdcxx-ng-9.1.0   |  4.0 MB |            |   0% \rlibstdcxx-ng-9.1.0   |  4.0 MB | #######6   |  77% \rlibstdcxx-ng-9.1.0   |  4.0 MB | #########6 |  97% \rlibstdcxx-ng-9.1.0   |  4.0 MB | ########## | 100% \n",
            "\ryaml-0.2.5           |   87 KB |            |   0% \ryaml-0.2.5           |   87 KB | ########## | 100% \n",
            "\rruamel_yaml-0.15.100 |  267 KB |            |   0% \rruamel_yaml-0.15.100 |  267 KB | #########5 |  96% \rruamel_yaml-0.15.100 |  267 KB | ########## | 100% \n",
            "\rsqlite-3.37.2        |  1.5 MB |            |   0% \rsqlite-3.37.2        |  1.5 MB | ########2  |  83% \rsqlite-3.37.2        |  1.5 MB | ########## | 100% \n",
            "\rconda-package-handli |  962 KB |            |   0% \rconda-package-handli |  962 KB | ########7  |  88% \rconda-package-handli |  962 KB | ########## | 100% \n",
            "\rlibffi-3.3           |   54 KB |            |   0% \rlibffi-3.3           |   54 KB | ########## | 100% \n",
            "\rpycparser-2.21       |   94 KB |            |   0% \rpycparser-2.21       |   94 KB | ########## | 100% \n",
            "\r_libgcc_mutex-0.1    |    3 KB |            |   0% \r_libgcc_mutex-0.1    |    3 KB | ########## | 100% \n",
            "\rreadline-8.1.2       |  423 KB |            |   0% \rreadline-8.1.2       |  423 KB | ########9  |  89% \rreadline-8.1.2       |  423 KB | ########## | 100% \n",
            "\rld_impl_linux-64-2.3 |  637 KB |            |   0% \rld_impl_linux-64-2.3 |  637 KB | #########1 |  92% \rld_impl_linux-64-2.3 |  637 KB | ########## | 100% \n",
            "\rsix-1.16.0           |   19 KB |            |   0% \rsix-1.16.0           |   19 KB | ########## | 100% \n",
            "\rcryptography-36.0.0  |  1.5 MB |            |   0% \rcryptography-36.0.0  |  1.5 MB | #######7   |  78% \rcryptography-36.0.0  |  1.5 MB | #########1 |  91% \rcryptography-36.0.0  |  1.5 MB | ########## | 100% \n",
            "\rpython-3.7.11        | 52.9 MB |            |   0% \rpython-3.7.11        | 52.9 MB | 4          |   5% \rpython-3.7.11        | 52.9 MB | 6          |   6% \rpython-3.7.11        | 52.9 MB | #5         |  16% \rpython-3.7.11        | 52.9 MB | ###2       |  32% \rpython-3.7.11        | 52.9 MB | ####1      |  41% \rpython-3.7.11        | 52.9 MB | #####2     |  52% \rpython-3.7.11        | 52.9 MB | ######     |  60% \rpython-3.7.11        | 52.9 MB | ######8    |  68% \rpython-3.7.11        | 52.9 MB | #######5   |  75% \rpython-3.7.11        | 52.9 MB | ########1  |  82% \rpython-3.7.11        | 52.9 MB | ########5  |  86% \rpython-3.7.11        | 52.9 MB | ########9  |  89% \rpython-3.7.11        | 52.9 MB | #########1 |  91% \rpython-3.7.11        | 52.9 MB | #########3 |  93% \rpython-3.7.11        | 52.9 MB | #########4 |  95% \rpython-3.7.11        | 52.9 MB | #########5 |  96% \rpython-3.7.11        | 52.9 MB | #########6 |  96% \rpython-3.7.11        | 52.9 MB | #########7 |  97% \rpython-3.7.11        | 52.9 MB | #########7 |  98% \rpython-3.7.11        | 52.9 MB | #########8 |  98% \rpython-3.7.11        | 52.9 MB | #########8 |  98% \rpython-3.7.11        | 52.9 MB | #########8 |  99% \rpython-3.7.11        | 52.9 MB | #########8 |  99% \rpython-3.7.11        | 52.9 MB | #########9 |  99% \rpython-3.7.11        | 52.9 MB | #########9 |  99% \rpython-3.7.11        | 52.9 MB | #########9 | 100% \rpython-3.7.11        | 52.9 MB | #########9 | 100% \rpython-3.7.11        | 52.9 MB | #########9 | 100% \rpython-3.7.11        | 52.9 MB | ########## | 100% \n",
            "\n",
            "The environment is inconsistent, please check the package plan carefully\n",
            "The following packages are causing the inconsistency:\n",
            "\n",
            "  - defaults/linux-64::asn1crypto==0.24.0=py36_0\n",
            "  - defaults/linux-64::chardet==3.0.4=py36h0f667ec_1\n"
          ]
        }
      ],
      "source": [
        "%%bash\n",
        "conda install --channel defaults conda python=3.7 --yes\n",
        "conda update --channel defaults --all --yes"
      ]
    },
    {
      "cell_type": "code",
      "execution_count": null,
      "metadata": {
        "colab": {
          "base_uri": "https://localhost:8080/"
        },
        "id": "Ns3KDyeUCyt6",
        "outputId": "8f59fcb7-dd61-4891-d30c-8baf8b32687a"
      },
      "outputs": [
        {
          "name": "stdout",
          "output_type": "stream",
          "text": [
            "conda 4.11.0\n"
          ]
        }
      ],
      "source": [
        "!conda --version # now returns 4.8.3"
      ]
    },
    {
      "cell_type": "code",
      "execution_count": null,
      "metadata": {
        "colab": {
          "base_uri": "https://localhost:8080/"
        },
        "id": "v7he1eU6IPlj",
        "outputId": "94996360-1342-4063-f19b-d1f977955150"
      },
      "outputs": [
        {
          "data": {
            "text/plain": [
              "['',\n",
              " '/content',\n",
              " '/env/python',\n",
              " '/usr/lib/python37.zip',\n",
              " '/usr/lib/python3.7',\n",
              " '/usr/lib/python3.7/lib-dynload',\n",
              " '/usr/local/lib/python3.7/dist-packages',\n",
              " '/usr/lib/python3/dist-packages',\n",
              " '/usr/local/lib/python3.7/dist-packages/IPython/extensions',\n",
              " '/root/.ipython']"
            ]
          },
          "execution_count": 8,
          "metadata": {},
          "output_type": "execute_result"
        }
      ],
      "source": [
        "import sys\n",
        "sys.path "
      ]
    },
    {
      "cell_type": "code",
      "execution_count": null,
      "metadata": {
        "id": "UGt9kLe_DgKP"
      },
      "outputs": [],
      "source": [
        "_ = (sys.path.append(\"/usr/local/lib/python3.7/site-packages\"))"
      ]
    },
    {
      "cell_type": "code",
      "execution_count": null,
      "metadata": {
        "colab": {
          "base_uri": "https://localhost:8080/"
        },
        "id": "P5kgs4URwE13",
        "outputId": "f775bd24-23e8-45a5-8313-f4c8e5f6f58d"
      },
      "outputs": [
        {
          "name": "stdout",
          "output_type": "stream",
          "text": [
            "Collecting package metadata (current_repodata.json): - \b\b\\ \b\b| \b\b/ \b\b- \b\b\\ \b\b| \b\b/ \b\b- \b\b\\ \b\b| \b\b/ \b\b- \b\b\\ \b\b| \b\b/ \b\b- \b\b\\ \b\b| \b\b/ \b\b- \b\b\\ \b\b| \b\b/ \b\b- \b\b\\ \b\b| \b\b/ \b\b- \b\b\\ \b\b| \b\bdone\n",
            "Solving environment: - \b\b\\ \b\b| \b\b/ \b\b- \b\b\\ \n",
            "The environment is inconsistent, please check the package plan carefully\n",
            "The following packages are causing the inconsistency:\n",
            "\n",
            "  - defaults/linux-64::asn1crypto==0.24.0=py36_0\n",
            "  - defaults/linux-64::chardet==3.0.4=py36h0f667ec_1\n",
            "\b\b| \b\b/ \b\bdone\n",
            "\n",
            "## Package Plan ##\n",
            "\n",
            "  environment location: /usr/local\n",
            "\n",
            "  added / updated specs:\n",
            "    - entrez-direct\n",
            "\n",
            "\n",
            "The following packages will be downloaded:\n",
            "\n",
            "    package                    |            build\n",
            "    ---------------------------|-----------------\n",
            "    asn1crypto-1.4.0           |             py_0          80 KB\n",
            "    chardet-4.0.0              |py37h06a4308_1003         195 KB\n",
            "    entrez-direct-16.2         |       he881be0_0         7.5 MB  bioconda\n",
            "    ------------------------------------------------------------\n",
            "                                           Total:         7.7 MB\n",
            "\n",
            "The following NEW packages will be INSTALLED:\n",
            "\n",
            "  entrez-direct      bioconda/linux-64::entrez-direct-16.2-he881be0_0\n",
            "\n",
            "The following packages will be UPDATED:\n",
            "\n",
            "  asn1crypto         pkgs/main/linux-64::asn1crypto-0.24.0~ --> pkgs/main/noarch::asn1crypto-1.4.0-py_0\n",
            "  chardet                              3.0.4-py36h0f667ec_1 --> 4.0.0-py37h06a4308_1003\n",
            "\n",
            "\n",
            "\n",
            "Downloading and Extracting Packages\n",
            "entrez-direct-16.2   | 7.5 MB    | : 100% 1.0/1 [00:01<00:00,  1.40s/it]\n",
            "chardet-4.0.0        | 195 KB    | : 100% 1.0/1 [00:00<00:00,  6.29it/s]                \n",
            "asn1crypto-1.4.0     | 80 KB     | : 100% 1.0/1 [00:00<00:00, 16.66it/s]\n",
            "Preparing transaction: \\ \b\bdone\n",
            "Verifying transaction: / \b\bdone\n",
            "Executing transaction: \\ \b\b| \b\b/ \b\b- \b\b\\ \b\b| \b\bdone\n"
          ]
        }
      ],
      "source": [
        "!conda install -c bioconda -y entrez-direct"
      ]
    },
    {
      "cell_type": "code",
      "execution_count": null,
      "metadata": {
        "colab": {
          "background_save": true
        },
        "id": "ikQ7e4VaCUx0",
        "outputId": "0ce448cc-caac-4de8-d5e1-68ae30e98e08"
      },
      "outputs": [
        {
          "name": "stdout",
          "output_type": "stream",
          "text": [
            "Collecting package metadata (current_repodata.json): ...working... done\n",
            "Solving environment: ...working... failed with initial frozen solve. Retrying with flexible solve.\n",
            "Collecting package metadata (repodata.json): ...working... done\n",
            "Solving environment: ...working... done\n",
            "\n",
            "## Package Plan ##\n",
            "\n",
            "  environment location: /usr/local\n",
            "\n",
            "  added / updated specs:\n",
            "    - samtools==1.11\n",
            "\n",
            "\n",
            "The following packages will be downloaded:\n",
            "\n",
            "    package                    |            build\n",
            "    ---------------------------|-----------------\n",
            "    bzip2-1.0.8                |       h7f98852_4         484 KB  conda-forge\n",
            "    ca-certificates-2021.10.8  |       ha878542_0         139 KB  conda-forge\n",
            "    certifi-2021.10.8          |   py37h89c1867_1         145 KB  conda-forge\n",
            "    conda-4.11.0               |   py37h89c1867_0        16.9 MB  conda-forge\n",
            "    htslib-1.11                |       hd3b49d5_2         1.8 MB  bioconda\n",
            "    krb5-1.17.1                |       h2fd8d38_0         1.5 MB  conda-forge\n",
            "    libcurl-7.71.1             |       hcdd3856_3         302 KB  conda-forge\n",
            "    libdeflate-1.7             |       h7f98852_5          67 KB  conda-forge\n",
            "    libssh2-1.9.0              |       ha56f1ee_6         226 KB  conda-forge\n",
            "    ncurses-6.2                |       h58526e2_4         985 KB  conda-forge\n",
            "    openssl-1.1.1k             |       h7f98852_0         2.1 MB  conda-forge\n",
            "    python_abi-3.7             |          2_cp37m           4 KB  conda-forge\n",
            "    readline-8.1               |       h46c0cb4_0         295 KB  conda-forge\n",
            "    samtools-1.11              |       h6270b1f_0         383 KB  bioconda\n",
            "    ------------------------------------------------------------\n",
            "                                           Total:        25.2 MB\n",
            "\n",
            "The following NEW packages will be INSTALLED:\n",
            "\n",
            "  bzip2              conda-forge/linux-64::bzip2-1.0.8-h7f98852_4\n",
            "  htslib             bioconda/linux-64::htslib-1.11-hd3b49d5_2\n",
            "  krb5               conda-forge/linux-64::krb5-1.17.1-h2fd8d38_0\n",
            "  libcurl            conda-forge/linux-64::libcurl-7.71.1-hcdd3856_3\n",
            "  libdeflate         conda-forge/linux-64::libdeflate-1.7-h7f98852_5\n",
            "  libssh2            conda-forge/linux-64::libssh2-1.9.0-ha56f1ee_6\n",
            "  python_abi         conda-forge/linux-64::python_abi-3.7-2_cp37m\n",
            "  samtools           bioconda/linux-64::samtools-1.11-h6270b1f_0\n",
            "\n",
            "The following packages will be SUPERSEDED by a higher-priority channel:\n",
            "\n",
            "  ca-certificates    pkgs/main::ca-certificates-2021.10.26~ --> conda-forge::ca-certificates-2021.10.8-ha878542_0\n",
            "  certifi            pkgs/main::certifi-2021.10.8-py37h06a~ --> conda-forge::certifi-2021.10.8-py37h89c1867_1\n",
            "  conda              pkgs/main::conda-4.11.0-py37h06a4308_0 --> conda-forge::conda-4.11.0-py37h89c1867_0\n",
            "  ncurses                 pkgs/main::ncurses-6.3-h7f8727e_2 --> conda-forge::ncurses-6.2-h58526e2_4\n",
            "  openssl              pkgs/main::openssl-1.1.1m-h7f8727e_0 --> conda-forge::openssl-1.1.1k-h7f98852_0\n",
            "  readline             pkgs/main::readline-8.1.2-h7f8727e_1 --> conda-forge::readline-8.1-h46c0cb4_0\n",
            "\n",
            "\n",
            "Proceed ([y]/n)? Invalid choice: conda install -y parallel-fastq-dump\n",
            "Proceed ([y]/n)? \n",
            "\n",
            "Downloading and Extracting Packages\n",
            "\rlibdeflate-1.7       | 67 KB     |            |   0% \rlibdeflate-1.7       | 67 KB     | ##3        |  24% \rlibdeflate-1.7       | 67 KB     | ########## | 100% \n",
            "\rconda-4.11.0         | 16.9 MB   |            |   0% \rconda-4.11.0         | 16.9 MB   | #2         |  12% \rconda-4.11.0         | 16.9 MB   | #######8   |  79% \rconda-4.11.0         | 16.9 MB   | ########## | 100% \n",
            "\rlibcurl-7.71.1       | 302 KB    |            |   0% \rlibcurl-7.71.1       | 302 KB    | ########## | 100% \rlibcurl-7.71.1       | 302 KB    | ########## | 100% \n",
            "\rpython_abi-3.7       | 4 KB      |            |   0% \rpython_abi-3.7       | 4 KB      | ########## | 100% \n",
            "\rbzip2-1.0.8          | 484 KB    |            |   0% \rbzip2-1.0.8          | 484 KB    | ########## | 100% \rbzip2-1.0.8          | 484 KB    | ########## | 100% \n",
            "\rca-certificates-2021 | 139 KB    |            |   0% \rca-certificates-2021 | 139 KB    | ########## | 100% \n",
            "\rcertifi-2021.10.8    | 145 KB    |            |   0% \rcertifi-2021.10.8    | 145 KB    | ########## | 100% \n",
            "\rsamtools-1.11        | 383 KB    |            |   0% \rsamtools-1.11        | 383 KB    | ########## | 100% \rsamtools-1.11        | 383 KB    | ########## | 100% \n",
            "\rlibssh2-1.9.0        | 226 KB    |            |   0% \rlibssh2-1.9.0        | 226 KB    | ########## | 100% \rlibssh2-1.9.0        | 226 KB    | ########## | 100% \n",
            "\rkrb5-1.17.1          | 1.5 MB    |            |   0% \rkrb5-1.17.1          | 1.5 MB    | ########   |  81% \rkrb5-1.17.1          | 1.5 MB    | ########## | 100% \n",
            "\rreadline-8.1         | 295 KB    |            |   0% \rreadline-8.1         | 295 KB    | ########## | 100% \rreadline-8.1         | 295 KB    | ########## | 100% \n",
            "\ropenssl-1.1.1k       | 2.1 MB    |            |   0% \ropenssl-1.1.1k       | 2.1 MB    | ########## | 100% \ropenssl-1.1.1k       | 2.1 MB    | ########## | 100% \n",
            "\rhtslib-1.11          | 1.8 MB    |            |   0% \rhtslib-1.11          | 1.8 MB    | ########## | 100% \rhtslib-1.11          | 1.8 MB    | ########## | 100% \n",
            "\rncurses-6.2          | 985 KB    |            |   0% \rncurses-6.2          | 985 KB    | ########## | 100% \rncurses-6.2          | 985 KB    | ########## | 100% \n",
            "Preparing transaction: ...working... done\n",
            "Verifying transaction: ...working... done\n",
            "Executing transaction: ...working... done\n"
          ]
        }
      ],
      "source": [
        "%%bash\n",
        "conda config --add channels bioconda\n",
        "conda config --add channels conda-forge\n",
        "conda install samtools==1.11\n",
        "conda install -y parallel-fastq-dump\n",
        "\n",
        "# conda install -c bioconda samtools openssl=1.0"
      ]
    },
    {
      "cell_type": "markdown",
      "metadata": {
        "id": "JlMDcYQ7qFY5"
      },
      "source": [
        "## Just making sure"
      ]
    },
    {
      "cell_type": "code",
      "execution_count": null,
      "metadata": {
        "colab": {
          "background_save": true
        },
        "id": "ZYwgwdl7_afm",
        "outputId": "5b4b42a5-a2b3-4981-8b34-0cc9437b19aa"
      },
      "outputs": [
        {
          "name": "stdout",
          "output_type": "stream",
          "text": [
            "<ENTREZ_DIRECT>\r\n",
            "  <Db>pubmed</Db>\r\n",
            "  <WebEnv>MCID_62156330518b9871a748cbac</WebEnv>\r\n",
            "  <QueryKey>1</QueryKey>\r\n",
            "  <Count>13930</Count>\r\n",
            "  <Step>1</Step>\r\n",
            "</ENTREZ_DIRECT>\r\n"
          ]
        }
      ],
      "source": [
        "!esearch -db pubmed -query \"childhood asthma\""
      ]
    },
    {
      "cell_type": "markdown",
      "metadata": {
        "id": "wBnZDiwI8ukW"
      },
      "source": [
        "# GenBank\n",
        "https://www.ncbi.nlm.nih.gov/Sitemap/samplerecord.html"
      ]
    },
    {
      "cell_type": "code",
      "execution_count": null,
      "metadata": {
        "colab": {
          "background_save": true
        },
        "id": "2AeTo3Hy8par",
        "outputId": "d66125a7-d754-411b-c6c1-e03e8d658168"
      },
      "outputs": [
        {
          "name": "stdout",
          "output_type": "stream",
          "text": [
            "LOCUS       NM_001369786            5417 bp    mRNA    linear   PRI 20-FEB-2022\r\n",
            "DEFINITION  Homo sapiens KRAS proto-oncogene, GTPase (KRAS), transcript variant\r\n",
            "            c, mRNA.\r\n",
            "ACCESSION   NM_001369786 XM_006719069\r\n",
            "VERSION     NM_001369786.1\r\n",
            "KEYWORDS    RefSeq.\r\n",
            "SOURCE      Homo sapiens (human)\r\n",
            "  ORGANISM  Homo sapiens\r\n",
            "            Eukaryota; Metazoa; Chordata; Craniata; Vertebrata; Euteleostomi;\r\n",
            "            Mammalia; Eutheria; Euarchontoglires; Primates; Haplorrhini;\r\n"
          ]
        }
      ],
      "source": [
        "! efetch -db nuccore -id  NM_001369786   -format gb | head"
      ]
    },
    {
      "cell_type": "markdown",
      "metadata": {
        "id": "baAnq85T9dAO"
      },
      "source": [
        "# FASTA"
      ]
    },
    {
      "cell_type": "code",
      "execution_count": null,
      "metadata": {
        "colab": {
          "background_save": true
        },
        "id": "aNNmkiY686k1",
        "outputId": "33d2c691-a617-4fdd-b903-ff15dd06e476"
      },
      "outputs": [
        {
          "name": "stdout",
          "output_type": "stream",
          "text": [
            ">NM_001369786.1 Homo sapiens KRAS proto-oncogene, GTPase (KRAS), transcript variant c, mRNA\r\n",
            "CTAGGCGGCGGCCGCGGCGGCGGAGGCAGCAGCGGCGGCGGCAGTGGCGGCGGCGAAGGTGGCGGCGGCT\r\n",
            "CGGCCAGTACTCCCGGCCCCCGCCATTTCGGACTGGGAGCGAGCGCGGCGCAGGCACTGAAGGCGGCGGC\r\n",
            "GGGGCCAGAGGCTCAGCGGCTCCCAGGCCTGCTGAAAATGACTGAATATAAACTTGTGGTAGTTGGAGCT\r\n",
            "GGTGGCGTAGGCAAGAGTGCCTTGACGATACAGCTAATTCAGAATCATTTTGTGGACGAATATGATCCAA\r\n",
            "CAATAGAGGATTCCTACAGGAAGCAAGTAGTAATTGATGGAGAAACCTGTCTCTTGGATATTCTCGACAC\r\n",
            "AGCAGGTCAAGAGGAGTACAGTGCAATGAGGGACCAGTACATGAGGACTGGGGAGGGCTTTCTTTGTGTA\r\n",
            "TTTGCCATAAATAATACTAAATCATTTGAAGATATTCACCATTATAGAGAACAAATTAAAAGAGTTAAGG\r\n",
            "ACTCTGAAGATGTACCTATGGTCCTAGTAGGAAATAAATGTGATTTGCCTTCTAGAACAGTAGACACAAA\r\n",
            "ACAGGCTCAGGACTTAGCAAGAAGTTATGGAATTCCTTTTATTGAAACATCAGCAAAGACAAGACAGAGA\r\n"
          ]
        }
      ],
      "source": [
        "! efetch -db nuccore -id  NM_001369786 -format fasta | head"
      ]
    },
    {
      "cell_type": "markdown",
      "metadata": {
        "id": "3GEIonlf9kDO"
      },
      "source": [
        "# GenBank format"
      ]
    },
    {
      "cell_type": "code",
      "execution_count": null,
      "metadata": {
        "colab": {
          "background_save": true
        },
        "id": "ie7YMAKc9tV1"
      },
      "outputs": [],
      "source": [
        "# !efetch -db nucleotide -help"
      ]
    },
    {
      "cell_type": "code",
      "execution_count": null,
      "metadata": {
        "colab": {
          "background_save": true
        },
        "id": "rFAuKFBO8-rm"
      },
      "outputs": [],
      "source": [
        "! efetch -db nucleotide -format gb -id AF086833 > AF086833.gb"
      ]
    },
    {
      "cell_type": "markdown",
      "metadata": {
        "id": "JWK-me3VHSeT"
      },
      "source": [
        "# SRA Tools"
      ]
    },
    {
      "cell_type": "code",
      "execution_count": null,
      "metadata": {
        "colab": {
          "background_save": true
        },
        "id": "BBVECu9BCyCX",
        "outputId": "033cfba2-24f6-4fb5-b250-9e3302e70727"
      },
      "outputs": [
        {
          "name": "stdout",
          "output_type": "stream",
          "text": [
            "/bin/bash: parallel-fastq-dump: command not found\n"
          ]
        }
      ],
      "source": [
        "#FASTQ \n",
        "! parallel-fastq-dump --sra-id SRR2244401 --threads 4 --outdir out/ --split-files --gzip"
      ]
    },
    {
      "cell_type": "markdown",
      "metadata": {
        "id": "sMq69tuSF161"
      },
      "source": [
        "# Converting one format to the other"
      ]
    },
    {
      "cell_type": "markdown",
      "metadata": {
        "id": "G1KkQrRWGAF4"
      },
      "source": [
        "Check using \"efetch -db nucleotide\" to see what options are available for id and format\n",
        "\n",
        "### GFF/FTF file formats\n",
        "Interval formats ; retain only position numbers\n",
        "https://useast.ensembl.org/info/website/upload/gff.html"
      ]
    },
    {
      "cell_type": "code",
      "execution_count": null,
      "metadata": {
        "colab": {
          "background_save": true
        },
        "id": "UNAj57oHTL2Z",
        "outputId": "1503ed78-b043-42aa-c7a9-6a2a13e58ba2"
      },
      "outputs": [
        {
          "name": "stdout",
          "output_type": "stream",
          "text": [
            "Collecting package metadata (current_repodata.json): - \b\b\\ \b\b| \b\b/ \b\b- \b\b\\ \b\b| \b\b/ \b\b- \b\b\\ \b\b| \b\b/ \b\b- \b\b\\ \b\b| \b\b/ \b\b- \b\b\\ \b\b| \b\b/ \b\b- \b\b\\ \b\b| \b\b/ \b\b- \b\b\\ \b\bdone\n",
            "Solving environment: / \b\b- \b\b\\ \b\b| \b\b/ \b\b- \b\b\\ \b\b| \b\b/ \b\b- \b\b\\ \b\b| \b\b/ \b\b- \b\b\\ \b\bdone\n",
            "\n",
            "## Package Plan ##\n",
            "\n",
            "  environment location: /usr/local\n",
            "\n",
            "  added / updated specs:\n",
            "    - emboss\n",
            "\n",
            "\n",
            "The following packages will be downloaded:\n",
            "\n",
            "    package                    |            build\n",
            "    ---------------------------|-----------------\n",
            "    emboss-6.6.0               |       h8719169_4        93.9 MB  bioconda\n",
            "    expat-2.2.10               |       h9c3ff4c_0         164 KB  conda-forge\n",
            "    fontconfig-2.13.1          |       h6c09931_0         250 KB\n",
            "    freetype-2.10.4            |       h0708190_1         890 KB  conda-forge\n",
            "    icu-67.1                   |       he1b5a44_0        12.9 MB  conda-forge\n",
            "    jpeg-9d                    |       h7f8727e_0         232 KB\n",
            "    libgd-2.3.3                |       h695aa2c_0         224 KB\n",
            "    libiconv-1.16              |       h516909a_0         1.4 MB  conda-forge\n",
            "    libpng-1.6.37              |       h21135ba_2         306 KB  conda-forge\n",
            "    libtiff-4.2.0              |       h85742a9_0         502 KB\n",
            "    libuuid-1.0.3              |       h7f8727e_2          17 KB\n",
            "    libwebp-base-1.2.2         |       h7f8727e_0         440 KB\n",
            "    libxml2-2.9.10             |       h68273f3_2         1.3 MB  conda-forge\n",
            "    lz4-c-1.9.3                |       h9c3ff4c_1         179 KB  conda-forge\n",
            "    zstd-1.4.9                 |       ha95c52a_0         431 KB  conda-forge\n",
            "    ------------------------------------------------------------\n",
            "                                           Total:       112.9 MB\n",
            "\n",
            "The following NEW packages will be INSTALLED:\n",
            "\n",
            "  emboss             bioconda/linux-64::emboss-6.6.0-h8719169_4\n",
            "  expat              conda-forge/linux-64::expat-2.2.10-h9c3ff4c_0\n",
            "  fontconfig         pkgs/main/linux-64::fontconfig-2.13.1-h6c09931_0\n",
            "  freetype           conda-forge/linux-64::freetype-2.10.4-h0708190_1\n",
            "  icu                conda-forge/linux-64::icu-67.1-he1b5a44_0\n",
            "  jpeg               pkgs/main/linux-64::jpeg-9d-h7f8727e_0\n",
            "  libgd              pkgs/main/linux-64::libgd-2.3.3-h695aa2c_0\n",
            "  libiconv           conda-forge/linux-64::libiconv-1.16-h516909a_0\n",
            "  libpng             conda-forge/linux-64::libpng-1.6.37-h21135ba_2\n",
            "  libtiff            pkgs/main/linux-64::libtiff-4.2.0-h85742a9_0\n",
            "  libuuid            pkgs/main/linux-64::libuuid-1.0.3-h7f8727e_2\n",
            "  libwebp-base       pkgs/main/linux-64::libwebp-base-1.2.2-h7f8727e_0\n",
            "  libxml2            conda-forge/linux-64::libxml2-2.9.10-h68273f3_2\n",
            "  lz4-c              conda-forge/linux-64::lz4-c-1.9.3-h9c3ff4c_1\n",
            "  zstd               conda-forge/linux-64::zstd-1.4.9-ha95c52a_0\n",
            "\n",
            "\n",
            "\n",
            "Downloading and Extracting Packages\n",
            "expat-2.2.10         | 164 KB    | : 100% 1.0/1 [00:00<00:00,  5.74it/s]                \n",
            "jpeg-9d              | 232 KB    | : 100% 1.0/1 [00:00<00:00,  6.10it/s]              \n",
            "libwebp-base-1.2.2   | 440 KB    | : 100% 1.0/1 [00:00<00:00,  9.77it/s]\n",
            "libtiff-4.2.0        | 502 KB    | : 100% 1.0/1 [00:00<00:00, 10.07it/s]\n",
            "fontconfig-2.13.1    | 250 KB    | : 100% 1.0/1 [00:00<00:00,  8.65it/s]\n",
            "libiconv-1.16        | 1.4 MB    | : 100% 1.0/1 [00:00<00:00,  3.76it/s]\n",
            "libxml2-2.9.10       | 1.3 MB    | : 100% 1.0/1 [00:00<00:00,  2.19it/s]\n",
            "emboss-6.6.0         | 93.9 MB   | : 100% 1.0/1 [00:27<00:00, 27.45s/it]               \n",
            "libpng-1.6.37        | 306 KB    | : 100% 1.0/1 [00:00<00:00,  6.74it/s]\n",
            "freetype-2.10.4      | 890 KB    | : 100% 1.0/1 [00:00<00:00,  3.94it/s]\n",
            "icu-67.1             | 12.9 MB   | : 100% 1.0/1 [00:02<00:00,  2.71s/it]               \n",
            "lz4-c-1.9.3          | 179 KB    | : 100% 1.0/1 [00:00<00:00, 10.31it/s]\n",
            "libuuid-1.0.3        | 17 KB     | : 100% 1.0/1 [00:00<00:00, 11.50it/s]\n",
            "libgd-2.3.3          | 224 KB    | : 100% 1.0/1 [00:00<00:00, 10.96it/s]\n",
            "zstd-1.4.9           | 431 KB    | : 100% 1.0/1 [00:00<00:00,  7.77it/s]\n",
            "Preparing transaction: / \b\b- \b\bdone\n",
            "Verifying transaction: | \b\b/ \b\b- \b\b\\ \b\b| \b\bdone\n",
            "Executing transaction: - \b\b\\ \b\b| \b\b/ \b\bdone\n"
          ]
        }
      ],
      "source": [
        "!conda install -c bioconda -y emboss"
      ]
    },
    {
      "cell_type": "code",
      "execution_count": null,
      "metadata": {
        "colab": {
          "background_save": true
        },
        "id": "pj6VSp-wGsfB"
      },
      "outputs": [],
      "source": [
        "%%bash\n",
        "efetch -db nucleotide -format gb -id AF086833 > AF086833.gb\n",
        "# We can convert the GenBank file into GFF3.\n",
        "# Need EMBOSS installation\n",
        "# Run this in a new window\n",
        "# EMBOSS is provided via Conda \n",
        "cat AF086833.gb | seqret -filter -feature -osformat gff3 > AF086833.gff"
      ]
    },
    {
      "cell_type": "code",
      "execution_count": null,
      "metadata": {
        "colab": {
          "background_save": true
        },
        "id": "puubyJBoUA7F",
        "outputId": "f4218002-adc8-4ff7-e56b-016e82bf183d"
      },
      "outputs": [
        {
          "name": "stdout",
          "output_type": "stream",
          "text": [
            "##gff-version 3\n",
            "##sequence-region AF086833 1 18959\n",
            "#!Date 2022-02-22\n",
            "#!Type DNA\n",
            "#!Source-version EMBOSS 6.6.0.0\n",
            "AF086833\tEMBL\tdatabank_entry\t1\t18959\t.\t+\t.\tID=AF086833.1;organism=Ebola virus - Mayinga%2C Zaire%2C 1976;mol_type=viral cRNA;strain=Mayinga;db_xref=taxon:128952\n",
            "AF086833\tEMBL\tfive_prime_UTR\t1\t55\t.\t+\t.\tID=AF086833.2;note=putative leader region;citation=[5];function=regulation or initiation of RNA replication\n",
            "AF086833\tEMBL\tgene\t56\t3026\t.\t+\t.\tID=AF086833.3;gene=NP\n",
            "AF086833\tEMBL\tmRNA\t56\t3026\t.\t+\t.\tID=AF086833.4;gene=NP;product=nucleoprotein\n",
            "AF086833\tEMBL\tsequence_feature\t56\t67\t.\t+\t.\tID=AF086833.5;note=*regulatory_class: other;gene=NP;note=putative%3B transcription start signal;citation=[5]\n"
          ]
        }
      ],
      "source": [
        "! head AF086833.gff"
      ]
    },
    {
      "cell_type": "code",
      "execution_count": null,
      "metadata": {
        "colab": {
          "background_save": true
        },
        "id": "T1mmeNBfGu8l",
        "outputId": "7bb73c53-543e-4c97-c2cc-629752face58"
      },
      "outputs": [
        {
          "name": "stdout",
          "output_type": "stream",
          "text": [
            ">AF086833 AF086833 Ebola virus - Mayinga, Zaire, 1976, complete genome.\n",
            "cggacacacaaaaagaaagaagaatttttaggatcttttgtgtgcgaataactatgagga\n",
            "agattaataattttcctctcattgaaatttatatcggaatttaaattgaaattgttactg\n",
            "taatcacacctggtttgtttcagagccacatcacaaagatagagaacaacctaggtctcc\n",
            "gaagggagcaagggcatcagtgtgctcagttgaaaatcccttgtcaacacctaggtctta\n",
            "tcacatcacaagttccacctcagactctgcagggtgatccaacaaccttaatagaaacat\n",
            "tattgttaaaggacagcattagttcacagtcaaacaagcaagattgagaattaaccttgg\n",
            "ttttgaacttgaacacttaggggattgaagattcaacaaccctaaagcttggggtaaaac\n",
            "attggaaatagttaaaagacaaattgctcggaatcacaaaattccgagtatggattctcg\n",
            "tcctcagaaaatctggatggcgccgagtctcactgaatctgacatggattaccacaagat\n"
          ]
        }
      ],
      "source": [
        "# We can convert the GenBank file into FASTA.\n",
        "# Need EMBOSS installation\n",
        "%%bash\n",
        "cat AF086833.gb | seqret -filter -feature -osformat fasta > AF086833.fa\n",
        "head AF086833.fa"
      ]
    },
    {
      "cell_type": "markdown",
      "metadata": {
        "id": "We98NqKo8xCu"
      },
      "source": [
        "# BAM format"
      ]
    },
    {
      "cell_type": "code",
      "execution_count": null,
      "metadata": {
        "colab": {
          "background_save": true
        },
        "id": "KzfEBS_bCox8",
        "outputId": "8c59daba-f670-47ec-8d58-4e1e62027f51"
      },
      "outputs": [
        {
          "name": "stdout",
          "output_type": "stream",
          "text": [
            "--2022-02-22 22:27:44--  http://data.biostarhandbook.com/bam/demo.bam\n",
            "Resolving data.biostarhandbook.com (data.biostarhandbook.com)... 198.74.58.207\n",
            "Connecting to data.biostarhandbook.com (data.biostarhandbook.com)|198.74.58.207|:80... connected.\n",
            "HTTP request sent, awaiting response... 200 OK\n",
            "Length: 1827218 (1.7M) [application/octet-stream]\n",
            "Saving to: ‘demo.bam’\n",
            "\n",
            "demo.bam            100%[===================>]   1.74M  8.28MB/s    in 0.2s    \n",
            "\n",
            "2022-02-22 22:27:45 (8.28 MB/s) - ‘demo.bam’ saved [1827218/1827218]\n",
            "\n",
            "SRR1553425.13617\t163\tAF086833.2\t46\t60\t101M\t=\t541\t596\tGAATAACTATGAGGAAGATTAATAATTTTCCTCTCATTGAAATTTATATCGGAATTTAAATTGAAATTGTTACTGTAATCATACCTGGTTTGTTTCAGAGC\t@<@FFFDDHHGHHJIJJIJJJJJJJJJJJJJJIIJJJJGIJJJJJJEIEIGIIJJJJJIIIIGIIIGGEGIIIGIIJJJGGGHHFHGFDDFDEEDDEDCDC\tNM:i:1\tMD:Z:81C19\tMC:Z:101M\tAS:i:96\tXS:i:0\n",
            "SRR1553425.13755\t99\tAF086833.2\t46\t60\t101M\t=\t46\t101\tGAATAACTATGAGGAAGATTAATAATTTTCCTCTCATTGAAATTTATATCGGAATTTAAATTGAAATTGTTACTGTAATCATACCTGGTTTGTTTCAGAGC\t?:@DBDDDFHGDHGIGEGAFGGHDHIIIIIIIGGGGIGEBHHGHFGHIDCHIIIIII<G@FGHDFGGHH@FGGEGGGEHIE@HHHGHF;?BC@CECFC:@>\tNM:i:1\tMD:Z:81C19\tMC:Z:101M\tAS:i:96\tXS:i:0\n",
            "SRR1553425.13755\t147\tAF086833.2\t46\t60\t101M\t=\t46\t-101\tGAATAACTATGAGGAAGATTAATAATTTTCCTCTCATTGAAATTTATATCGGAATTTAAATTGAAATTGTTACTGTAATCATACCTGGTTTGTTTCAGAGC\tDDDDCDDDDDECEEDEDFFFEFFGHHHHIGGHG@=@@=GIIJHIIHFDIIIIIIHHGJIFAJJJIGIJIIIJHHGGIGEGGHFHHJIIHHHGHFFFFFCCC\tNM:i:1\tMD:Z:81C19\tMC:Z:101M\tAS:i:96\tXS:i:0\n",
            "SRR1553425.11219\t2227\tAF086833.2\t47\t60\t71H30M\t=\t146\t171\tAATAACTATGAGGAAGATTAATAATTTTCC\tIGHF@GHEHIIHE>IIGHFDHDDDFFF@@@\tNM:i:0\tMD:Z:30\tMC:Z:101M\tAS:i:30\tXS:i:0\tSA:Z:AF086833.2,68,+,30S71M,60,1;\n",
            "SRR1553425.5956\t163\tAF086833.2\t51\t60\t101M\t=\t175\t225\tACTATGAGGAAGATTAATAATTTTCCTCTCATTGAAATTTATATCGGAATTTAAATTGAAATTGTTACTGTAATCATACCTGGTTTGTTTCAGAGCCATAT\tCCCFFFFFHHHHHJJJJJJJJJJJJJJJJJJJJJIJJJJJJJIJIJIJIJJJJIIJJJJJJIJEGIIEIJJJJJJIIJJIJHGHHHFFFFEEEECEBCDDD\tNM:i:2\tMD:Z:76C21C2\tMC:Z:101M\tAS:i:93\tXS:i:0\n"
          ]
        }
      ],
      "source": [
        "! wget http://data.biostarhandbook.com/bam/demo.bam\n",
        "! samtools view demo.bam | head -5"
      ]
    },
    {
      "cell_type": "markdown",
      "metadata": {
        "id": "ERQ_3DFqf-MY"
      },
      "source": [
        "# SRA"
      ]
    },
    {
      "cell_type": "code",
      "execution_count": null,
      "metadata": {
        "id": "cWSb_Z1_8ZgL"
      },
      "outputs": [],
      "source": [
        "%%bash\n",
        "\n",
        "esearch -db sra -query PRJNA257197 | efetch -format runinfo > runinfo.csv \n",
        "cat runinfo.csv | cut -f 1 -d , | grep SRR | head -3 > ids.txt\n",
        "cat ids.txt"
      ]
    },
    {
      "cell_type": "code",
      "execution_count": null,
      "metadata": {
        "id": "FB53yJyL8ZYo"
      },
      "outputs": [],
      "source": [
        ""
      ]
    },
    {
      "cell_type": "code",
      "execution_count": null,
      "metadata": {
        "id": "HFCcAM3i8ZOO"
      },
      "outputs": [],
      "source": [
        ""
      ]
    }
  ],
  "metadata": {
    "accelerator": "TPU",
    "colab": {
      "collapsed_sections": [],
      "name": "Class-3.ipynb",
      "provenance": [],
      "authorship_tag": "ABX9TyNBaXL3RRxkEoffYBUlKOhs",
      "include_colab_link": true
    },
    "kernelspec": {
      "display_name": "Python 3",
      "name": "python3"
    }
  },
  "nbformat": 4,
  "nbformat_minor": 0
}