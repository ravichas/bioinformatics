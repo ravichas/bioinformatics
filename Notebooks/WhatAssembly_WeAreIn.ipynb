{
  "nbformat": 4,
  "nbformat_minor": 0,
  "metadata": {
    "colab": {
      "private_outputs": true,
      "provenance": [],
      "authorship_tag": "ABX9TyNbAoSDXxLgJeEjVmeMuNXz",
      "include_colab_link": true
    },
    "kernelspec": {
      "name": "python3",
      "display_name": "Python 3"
    },
    "language_info": {
      "name": "python"
    }
  },
  "cells": [
    {
      "cell_type": "markdown",
      "metadata": {
        "id": "view-in-github",
        "colab_type": "text"
      },
      "source": [
        "<a href=\"https://colab.research.google.com/github/ravichas/bioinformatics/blob/main/Notebooks/WhatAssembly_WeAreIn.ipynb\" target=\"_parent\"><img src=\"https://colab.research.google.com/assets/colab-badge.svg\" alt=\"Open In Colab\"/></a>"
      ]
    },
    {
      "cell_type": "markdown",
      "source": [
        "https://www.ncbi.nlm.nih.gov/grc/human\n",
        "\n",
        "```\n",
        "Build#  Year  NCBI    UCSC\n",
        "35      2004  NCBI35  hg17\n",
        "36      2006  NCBI36  hg18\n",
        "37      2009  GRCh37  hg19\n",
        "38      2013  GRCh38  hg38\n",
        "```"
      ],
      "metadata": {
        "id": "asgqs12o2lgQ"
      }
    }
  ]
}