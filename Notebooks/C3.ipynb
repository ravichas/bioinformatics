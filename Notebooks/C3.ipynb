{
  "nbformat": 4,
  "nbformat_minor": 0,
  "metadata": {
    "colab": {
      "provenance": [],
      "authorship_tag": "ABX9TyNe3aXQ8GMkz6A4bLdi9eW7",
      "include_colab_link": true
    },
    "kernelspec": {
      "name": "python3",
      "display_name": "Python 3"
    },
    "language_info": {
      "name": "python"
    }
  },
  "cells": [
    {
      "cell_type": "markdown",
      "metadata": {
        "id": "view-in-github",
        "colab_type": "text"
      },
      "source": [
        "<a href=\"https://colab.research.google.com/github/ravichas/bioinformatics/blob/main/Notebooks/C3.ipynb\" target=\"_parent\"><img src=\"https://colab.research.google.com/assets/colab-badge.svg\" alt=\"Open In Colab\"/></a>"
      ]
    },
    {
      "cell_type": "markdown",
      "source": [
        "# Linux Script to estimate the % of unresolved NTs in a chromosome"
      ],
      "metadata": {
        "id": "DRfhYk_X0qcQ"
      }
    },
    {
      "cell_type": "code",
      "execution_count": 7,
      "metadata": {
        "id": "18BGUif4ywJ0"
      },
      "outputs": [],
      "source": [
        "%%bash\n",
        "wget http://hgdownload.cse.ucsc.edu/goldenpath/hg38/chromosomes/chr22.fa.gz >& /dev/null\n",
        "gunzip chr22.fa.gz"
      ]
    },
    {
      "cell_type": "code",
      "source": [
        "!cat chr22.fa | head -4"
      ],
      "metadata": {
        "colab": {
          "base_uri": "https://localhost:8080/"
        },
        "id": "RcWsx6yXzKoX",
        "outputId": "dcf890c5-109d-4dbb-8334-6d9527f9bf16"
      },
      "execution_count": 8,
      "outputs": [
        {
          "output_type": "stream",
          "name": "stdout",
          "text": [
            ">chr22\n",
            "NNNNNNNNNNNNNNNNNNNNNNNNNNNNNNNNNNNNNNNNNNNNNNNNNN\n",
            "NNNNNNNNNNNNNNNNNNNNNNNNNNNNNNNNNNNNNNNNNNNNNNNNNN\n",
            "NNNNNNNNNNNNNNNNNNNNNNNNNNNNNNNNNNNNNNNNNNNNNNNNNN\n"
          ]
        }
      ]
    },
    {
      "cell_type": "code",
      "source": [
        "# count the number of characters in chr22\n",
        "%%bash\n",
        "totalN=`cat chr22.fa | grep -o N | wc -l`\n",
        "total=`cat chr22.fa | wc -m`\n",
        "awk \"BEGIN {print $totalN/$total}\"\n"
      ],
      "metadata": {
        "colab": {
          "base_uri": "https://localhost:8080/"
        },
        "id": "j0gV_A7QzQdz",
        "outputId": "91c3ea2e-0334-451d-8e60-27112c3fd7bb"
      },
      "execution_count": 11,
      "outputs": [
        {
          "output_type": "stream",
          "name": "stdout",
          "text": [
            "0.22492\n"
          ]
        }
      ]
    }
  ]
}