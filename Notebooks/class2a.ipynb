{
  "nbformat": 4,
  "nbformat_minor": 0,
  "metadata": {
    "colab": {
      "private_outputs": true,
      "provenance": [],
      "authorship_tag": "ABX9TyMDAzEy2UNZLBjGD8kMDCjE",
      "include_colab_link": true
    },
    "kernelspec": {
      "name": "python3",
      "display_name": "Python 3"
    },
    "language_info": {
      "name": "python"
    }
  },
  "cells": [
    {
      "cell_type": "markdown",
      "metadata": {
        "id": "view-in-github",
        "colab_type": "text"
      },
      "source": [
        "<a href=\"https://colab.research.google.com/github/ravichas/bioinformatics/blob/main/Notebooks/class2a.ipynb\" target=\"_parent\"><img src=\"https://colab.research.google.com/assets/colab-badge.svg\" alt=\"Open In Colab\"/></a>"
      ]
    },
    {
      "cell_type": "markdown",
      "source": [
        "# Exploring Genomic Assemblies \n",
        "Sarangan Ravichandran,\n",
        "\n",
        "\n",
        "We will accomplish the following tasks in this notebook \n",
        "* Download hg38 and hg19 chr22 fasta files \n",
        "* Count the number of unresolved positions and report their percentage\n",
        "\n",
        "Exercise\n",
        "* Turn the task into a bash/csh script "
      ],
      "metadata": {
        "id": "vtoi4IqVCdOP"
      }
    },
    {
      "cell_type": "code",
      "source": [
        "!rm -fr chr22*\n"
      ],
      "metadata": {
        "id": "lCpBsbgcAzYl"
      },
      "execution_count": null,
      "outputs": []
    },
    {
      "cell_type": "code",
      "execution_count": null,
      "metadata": {
        "id": "AUN5OY8O9KEN"
      },
      "outputs": [],
      "source": [
        "## Explore/compare previous builds\n",
        "%%bash\n",
        "wget http://hgdownload.cse.ucsc.edu/goldenpath/hg38/chromosomes/chr22.fa.gz >& /dev/null \n",
        "gunzip chr22.fa.gz \n",
        "mv chr22.fa chr22_hg38.fa\n",
        "\n"
      ]
    },
    {
      "cell_type": "markdown",
      "source": [
        "## The following code chunks can be written as a shell script "
      ],
      "metadata": {
        "id": "7xaaKwaBDGcO"
      }
    },
    {
      "cell_type": "code",
      "source": [
        "%%bash\n",
        "wget http://hgdownload.cse.ucsc.edu/goldenpath/hg19/chromosomes/chr22.fa.gz >& /dev/null\n",
        "gunzip chr22.fa.gz\n",
        "mv chr22.fa chr22_hg19.fa"
      ],
      "metadata": {
        "id": "J1mB-_qnAoiU"
      },
      "execution_count": null,
      "outputs": []
    },
    {
      "cell_type": "markdown",
      "source": [
        "## Let us explore the fasta file of chr22 from hg38 \n"
      ],
      "metadata": {
        "id": "BVaqJ0voBpp_"
      }
    },
    {
      "cell_type": "code",
      "source": [
        "%%bash\n",
        "cp chr22_hg38.fa chr22.fa\n",
        "cat chr22.fa | head -4\n",
        "# count the number of characters in chr22\n",
        "totalN=`cat chr22.fa | grep -o N | wc -l`\n",
        "\n",
        "# count the total chars in chr22 \n",
        "total=`cat chr22.fa | wc -m`\n",
        "\n",
        "awk \"BEGIN {print $totalN/$total}\"\n"
      ],
      "metadata": {
        "id": "Figul0nG9rdR"
      },
      "execution_count": null,
      "outputs": []
    },
    {
      "cell_type": "code",
      "source": [
        "%%bash\n",
        "cp chr22_hg19.fa chr22.fa\n",
        "cat chr22.fa | head -4\n",
        "# count the number of characters in chr22\n",
        "totalN=`cat chr22.fa | grep -o N | wc -l`\n",
        "\n",
        "# count the total chars in chr22 \n",
        "total=`cat chr22.fa | wc -m`\n",
        "\n",
        "awk \"BEGIN {print $totalN/$total}\""
      ],
      "metadata": {
        "id": "-IGEwSf49cpo"
      },
      "execution_count": null,
      "outputs": []
    }
  ]
}