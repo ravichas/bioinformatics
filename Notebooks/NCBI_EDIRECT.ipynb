{
  "nbformat": 4,
  "nbformat_minor": 0,
  "metadata": {
    "colab": {
      "provenance": [],
      "collapsed_sections": [],
      "authorship_tag": "ABX9TyOG+YxF5djddrTEUxMjG87M",
      "include_colab_link": true
    },
    "kernelspec": {
      "name": "python3",
      "display_name": "Python 3"
    },
    "accelerator": "TPU"
  },
  "cells": [
    {
      "cell_type": "markdown",
      "metadata": {
        "id": "view-in-github",
        "colab_type": "text"
      },
      "source": [
        "<a href=\"https://colab.research.google.com/github/ravichas/bioinformatics/blob/main/Notebooks/NCBI_EDIRECT.ipynb\" target=\"_parent\"><img src=\"https://colab.research.google.com/assets/colab-badge.svg\" alt=\"Open In Colab\"/></a>"
      ]
    },
    {
      "cell_type": "markdown",
      "metadata": {
        "id": "FjwSdwTPpwQl"
      },
      "source": [
        "## NCBI Edirect tutorial using COLAB \n",
        "S. Ravichandran (saka.ravi@gmail.com)\n",
        "\n",
        "\n"
      ]
    },
    {
      "cell_type": "markdown",
      "metadata": {
        "id": "-HGNGR6Op-5k"
      },
      "source": [
        "## Install EDIRECT\n",
        "\n",
        "https://www.ncbi.nlm.nih.gov/books/NBK179288/"
      ]
    },
    {
      "cell_type": "code",
      "metadata": {
        "id": "LS0BR-gIxOAj"
      },
      "source": [
        "!date"
      ],
      "execution_count": null,
      "outputs": []
    },
    {
      "cell_type": "code",
      "metadata": {
        "id": "yEg6D3jn_XYo"
      },
      "source": [
        "%%bash\n",
        "MINICONDA_INSTALLER_SCRIPT=Miniconda3-4.5.4-Linux-x86_64.sh\n",
        "MINICONDA_PREFIX=/usr/local\n",
        "wget https://repo.continuum.io/miniconda/$MINICONDA_INSTALLER_SCRIPT >& /dev/null\n",
        "chmod +x $MINICONDA_INSTALLER_SCRIPT\n",
        "./$MINICONDA_INSTALLER_SCRIPT -b -f -p $MINICONDA_PREFIX >& /dev/null "
      ],
      "execution_count": null,
      "outputs": []
    },
    {
      "cell_type": "code",
      "metadata": {
        "id": "by5LfnneBgZJ"
      },
      "source": [
        "!which conda # should return /usr/local/bin/conda"
      ],
      "execution_count": null,
      "outputs": []
    },
    {
      "cell_type": "code",
      "metadata": {
        "id": "g7Nib60-CgxB"
      },
      "source": [
        "!conda --version # should return 4.5.4"
      ],
      "execution_count": null,
      "outputs": []
    },
    {
      "cell_type": "code",
      "metadata": {
        "id": "ub9QlZctBsRV"
      },
      "source": [
        "!which python # still returns /usr/local/bin/python"
      ],
      "execution_count": null,
      "outputs": []
    },
    {
      "cell_type": "code",
      "metadata": {
        "id": "ru-8KXsq_ICC"
      },
      "source": [
        "%%bash\n",
        "conda install --channel defaults conda python=3.7 --yes\n",
        "conda update --channel defaults --all --yes"
      ],
      "execution_count": null,
      "outputs": []
    },
    {
      "cell_type": "code",
      "metadata": {
        "id": "Ns3KDyeUCyt6"
      },
      "source": [
        "!conda --version # now returns 4.8.3"
      ],
      "execution_count": null,
      "outputs": []
    },
    {
      "cell_type": "code",
      "metadata": {
        "id": "v7he1eU6IPlj"
      },
      "source": [
        "import sys\n",
        "sys.path "
      ],
      "execution_count": null,
      "outputs": []
    },
    {
      "cell_type": "code",
      "metadata": {
        "id": "x2HOSzYGIZF8"
      },
      "source": [
        "!ls /usr/local/lib/python3.6/site-packages/"
      ],
      "execution_count": null,
      "outputs": []
    },
    {
      "cell_type": "code",
      "metadata": {
        "id": "UGt9kLe_DgKP"
      },
      "source": [
        "_ = (sys.path.append(\"/usr/local/lib/python3.7/site-packages\"))"
      ],
      "execution_count": null,
      "outputs": []
    },
    {
      "cell_type": "code",
      "metadata": {
        "id": "P5kgs4URwE13"
      },
      "source": [
        "!conda install -c bioconda -y entrez-direct"
      ],
      "execution_count": null,
      "outputs": []
    },
    {
      "cell_type": "code",
      "metadata": {
        "id": "u5gHoTd5IlOD"
      },
      "source": [
        "!ls /usr/local/lib/python3.7/site-packages/"
      ],
      "execution_count": null,
      "outputs": []
    },
    {
      "cell_type": "code",
      "metadata": {
        "id": "tia45APzDlJE"
      },
      "source": [
        "!ls  /usr/local/bin/efetch"
      ],
      "execution_count": null,
      "outputs": []
    },
    {
      "cell_type": "markdown",
      "metadata": {
        "id": "JlMDcYQ7qFY5"
      },
      "source": [
        "## Just making sure"
      ]
    },
    {
      "cell_type": "code",
      "metadata": {
        "id": "0DUQYTjM533N"
      },
      "source": [
        "!esearch -help"
      ],
      "execution_count": null,
      "outputs": []
    },
    {
      "cell_type": "code",
      "source": [
        "!esearch -db pubmed -query \"childhood asthma\""
      ],
      "metadata": {
        "id": "ZYwgwdl7_afm"
      },
      "execution_count": null,
      "outputs": []
    },
    {
      "cell_type": "code",
      "source": [
        "!esearch -db pubmed -query \"lycopene cyclase\""
      ],
      "metadata": {
        "id": "6HlEDn-BJIKB"
      },
      "execution_count": null,
      "outputs": []
    },
    {
      "cell_type": "markdown",
      "source": [
        "## Saving output in a file"
      ],
      "metadata": {
        "id": "Y5r9EZDwBwAR"
      }
    },
    {
      "cell_type": "code",
      "source": [
        "!esearch -db pubmed -query \"lycopene cyclase\" | \\\n",
        "efetch -format abstract > HitsFile.txt"
      ],
      "metadata": {
        "id": "ZYKwmDDlJ4yC"
      },
      "execution_count": null,
      "outputs": []
    },
    {
      "cell_type": "code",
      "metadata": {
        "id": "vluJjypf-x54"
      },
      "source": [
        "!esearch -db protein -query \"brca2\""
      ],
      "execution_count": null,
      "outputs": []
    },
    {
      "cell_type": "code",
      "metadata": {
        "id": "IVLwI46AuVJJ"
      },
      "source": [
        "%%bash\n",
        "echo \"***********************\" > installconfirm\n",
        "echo \"esearch version:\" >> installconfirm\n",
        "esearch -version >> installconfirm\n",
        "echo \"xtract version:\" >> installconfirm\n",
        "xtract -version >> installconfirm\n",
        "echo \"EDirect install status:\" >> installconfirm\n",
        "esearch -db pubmed -query \"Babalobi OO[au] AND 2008[pdat]\" | \\\n",
        "efetch -format xml | \\\n",
        "xtract -pattern Author -if Affiliation -contains Medicine \\\n",
        "-element Initials >> installconfirm\n",
        "echo \"***********************\" >> installconfirm"
      ],
      "execution_count": null,
      "outputs": []
    },
    {
      "cell_type": "code",
      "metadata": {
        "id": "hUZusrogI52n"
      },
      "source": [
        "!cat installconfirm"
      ],
      "execution_count": null,
      "outputs": []
    },
    {
      "cell_type": "markdown",
      "metadata": {
        "id": "SGLPj_jkqReM"
      },
      "source": [
        "## Run some edirect examples"
      ]
    },
    {
      "cell_type": "code",
      "metadata": {
        "id": "iUFVwun3gkq9"
      },
      "source": [
        "!esearch -db pubmed -query \"breast cancer\" "
      ],
      "execution_count": null,
      "outputs": []
    },
    {
      "cell_type": "code",
      "metadata": {
        "id": "Z0C5Km-Mgy8M"
      },
      "source": [
        "!esearch -db pubmed -query \"selective serotonin reuptake inhibitor\""
      ],
      "execution_count": null,
      "outputs": []
    },
    {
      "cell_type": "code",
      "metadata": {
        "id": "tY3sXZkBoyzn"
      },
      "source": [
        "!efetch -db protein -id 3OQZ_a -format fasta"
      ],
      "execution_count": null,
      "outputs": []
    },
    {
      "cell_type": "code",
      "metadata": {
        "id": "7HchBg9dkPdm"
      },
      "source": [
        "!efetch -db protein -id 7LYZ -format fasta"
      ],
      "execution_count": null,
      "outputs": []
    },
    {
      "cell_type": "code",
      "metadata": {
        "id": "pFQH2lUHpteW"
      },
      "source": [
        "%%bash\n",
        "esearch -db pubmed -query \"opsin gene conversion\" | elink -related | efilter -query \"tetrachromacy\""
      ],
      "execution_count": null,
      "outputs": []
    },
    {
      "cell_type": "code",
      "metadata": {
        "id": "ne2iI8AnuCC1"
      },
      "source": [
        "! efetch -db pubmed -id 1413997 -format xml | \\\n",
        "  xtract -pattern PubmedArticle -block Author -element Initials LastName"
      ],
      "execution_count": null,
      "outputs": []
    },
    {
      "cell_type": "code",
      "metadata": {
        "id": "ilp2i75xvC6V"
      },
      "source": [
        "%%bash\n",
        "esearch -db pubmed -query \"Havran W [AUTH]\" |\n",
        "  efetch -format xml |\n",
        "  xtract -pattern PubmedArticle -if \"#Author\" -lt 13 \\\n",
        "    -block Author -if LastName -is-not Havran \\\n",
        "      -sep \", \" -tab \"\\n\" -element LastName,Initials |\n",
        "  sort-uniq-count-rank"
      ],
      "execution_count": null,
      "outputs": []
    },
    {
      "cell_type": "code",
      "metadata": {
        "id": "I_vTqBm3vpzF"
      },
      "source": [
        "!esearch -db pubmed -query \"Havran W [AUTH]\""
      ],
      "execution_count": null,
      "outputs": []
    },
    {
      "cell_type": "code",
      "metadata": {
        "id": "DFgSeBWA0Tvg"
      },
      "source": [
        "%%bash\n",
        "esearch -db protein -query \"human[ORGN] AND 799000:900000[molwt]\" \\\n",
        "  | efetch -format gb\n"
      ],
      "execution_count": null,
      "outputs": []
    },
    {
      "cell_type": "code",
      "metadata": {
        "id": "0tlLiEOpX4J2"
      },
      "source": [
        "%%bash\n",
        "esearch -db pubmed -help"
      ],
      "execution_count": null,
      "outputs": []
    },
    {
      "cell_type": "code",
      "source": [
        "%%bash\n",
        "efetch -help"
      ],
      "metadata": {
        "id": "DkeT7w01BVh2"
      },
      "execution_count": null,
      "outputs": []
    },
    {
      "cell_type": "code",
      "source": [
        "%%bash\n",
        "efetch -db pubmed -id 6271474,6092233,16589597 -format docsum | xtract -pattern DocumentSummary -sep \"|\" -element Id PubDate Name"
      ],
      "metadata": {
        "id": "ofqKLDXZCELo"
      },
      "execution_count": null,
      "outputs": []
    }
  ]
}