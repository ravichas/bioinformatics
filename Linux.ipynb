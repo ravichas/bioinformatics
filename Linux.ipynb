{
  "nbformat": 4,
  "nbformat_minor": 0,
  "metadata": {
    "colab": {
      "provenance": [],
      "authorship_tag": "ABX9TyM31R4whEjGmfUWIytQ5HlR",
      "include_colab_link": true
    },
    "kernelspec": {
      "name": "python3",
      "display_name": "Python 3"
    },
    "accelerator": "TPU"
  },
  "cells": [
    {
      "cell_type": "markdown",
      "metadata": {
        "id": "view-in-github",
        "colab_type": "text"
      },
      "source": [
        "<a href=\"https://colab.research.google.com/github/ravichas/bioinformatics/blob/main/Linux.ipynb\" target=\"_parent\"><img src=\"https://colab.research.google.com/assets/colab-badge.svg\" alt=\"Open In Colab\"/></a>"
      ]
    },
    {
      "cell_type": "markdown",
      "metadata": {
        "id": "FjwSdwTPpwQl"
      },
      "source": [
        "*italicized text*## Linux tutorial using COLAB\n",
        "S. Ravichandran (saka.ravi@gmail.com)\n",
        "\n",
        "\n"
      ]
    },
    {
      "cell_type": "markdown",
      "metadata": {
        "id": "fOQZZbzkxlmk"
      },
      "source": [
        "## Linux"
      ]
    },
    {
      "cell_type": "code",
      "metadata": {
        "id": "wy32uvBBwAxk",
        "colab": {
          "base_uri": "https://localhost:8080/"
        },
        "outputId": "4cc96e01-fdc1-4493-a221-16a2733adc82"
      },
      "source": [
        "!uname -a"
      ],
      "execution_count": 34,
      "outputs": [
        {
          "output_type": "stream",
          "name": "stdout",
          "text": [
            "Linux 3447b15bb9be 5.15.109+ #1 SMP Fri Jun 9 10:57:30 UTC 2023 x86_64 x86_64 x86_64 GNU/Linux\n"
          ]
        }
      ]
    },
    {
      "cell_type": "code",
      "metadata": {
        "id": "MOZxPcynx-Ux",
        "colab": {
          "base_uri": "https://localhost:8080/"
        },
        "outputId": "19b66dfe-2f3e-42dd-9039-c7a6fb23d021"
      },
      "source": [
        "!cat /etc/issue"
      ],
      "execution_count": 35,
      "outputs": [
        {
          "output_type": "stream",
          "name": "stdout",
          "text": [
            "Ubuntu 22.04.2 LTS \\n \\l\n",
            "\n"
          ]
        }
      ]
    },
    {
      "cell_type": "code",
      "metadata": {
        "id": "Rx-fN-OD0SUm",
        "colab": {
          "base_uri": "https://localhost:8080/"
        },
        "outputId": "46ed474a-ad31-4528-d765-8de023ed8efb"
      },
      "source": [
        "!pwd\n"
      ],
      "execution_count": 36,
      "outputs": [
        {
          "output_type": "stream",
          "name": "stdout",
          "text": [
            "/content\n"
          ]
        }
      ]
    },
    {
      "cell_type": "code",
      "source": [
        "pip install google-colab-shell"
      ],
      "metadata": {
        "colab": {
          "base_uri": "https://localhost:8080/"
        },
        "id": "Git4meGCTqFD",
        "outputId": "70d6b7bd-b566-4fca-f79e-4904fe2fafbe"
      },
      "execution_count": 37,
      "outputs": [
        {
          "output_type": "stream",
          "name": "stdout",
          "text": [
            "Requirement already satisfied: google-colab-shell in /usr/local/lib/python3.10/dist-packages (0.2)\n"
          ]
        }
      ]
    },
    {
      "cell_type": "code",
      "source": [
        "# import the module once\n",
        "from google_colab_shell import getshell"
      ],
      "metadata": {
        "id": "R1_FRhLjUb7b"
      },
      "execution_count": 38,
      "outputs": []
    },
    {
      "cell_type": "code",
      "source": [
        "## Anytime you want to open a terminal\n",
        "\n",
        "getshell()\n",
        "\n",
        "getshell(height=400) # custom height of the terminal"
      ],
      "metadata": {
        "colab": {
          "base_uri": "https://localhost:8080/",
          "height": 417
        },
        "id": "0ExQQQEVX1Kl",
        "outputId": "34715cb3-a907-4a93-b6e7-3fc27b105658"
      },
      "execution_count": 39,
      "outputs": [
        {
          "output_type": "execute_result",
          "data": {
            "text/plain": [
              "<IPython.core.display.HTML object>"
            ],
            "text/html": [
              "<!--https://github.com/singhsidhukuldeep/Google-Colab-Shell/-->\n",
              "<!--Using JS/CSS from official sources with backups in-case :)-->\n",
              "<div id=colab_shell></div>\n",
              "<script src=\"https://code.jquery.com/jquery-latest.js\"></script>\n",
              "<script src=\"https://cdn.jsdelivr.net/npm/jquery.terminal/js/jquery.terminal.min.js\"></script>\n",
              "<link href=\"https://cdn.jsdelivr.net/npm/jquery.terminal/css/jquery.terminal.min.css\" rel=\"stylesheet\"/>\n",
              "<script>\n",
              "   $('#colab_shell').terminal(async function(command) {\n",
              "       if (command !== '') {\n",
              "           try {\n",
              "               let res = await google.colab.kernel.invokeFunction('shell', [command])\n",
              "               let out = res.data['application/json'][0]\n",
              "               this.echo(new String(out))\n",
              "           } catch(e) {\n",
              "               this.error(new String(e));\n",
              "           }\n",
              "       } else {\n",
              "           this.echo(\n",
              "             //   '>>Empty Command<<\\n'+\n",
              "             //   'If you can afford use Google Colab Pro'\n",
              "               );\n",
              "       }\n",
              "   }, {\n",
              "       greetings: 'Welcome to Google Colab Shell\\n'+\n",
              "         'If you can afford, please use Google Colab Pro ( https://colab.research.google.com/signup )\\n'+\n",
              "         '⭐ STAR the repo ⭐\\n https://github.com/singhsidhukuldeep/Google-Colab-Shell\\n\\n',\n",
              "       name: 'colab_shell',\n",
              "       height: 400,\n",
              "       prompt: '█$ colab>>\\t'\n",
              "   });\n",
              "</script>\n"
            ]
          },
          "metadata": {},
          "execution_count": 39
        }
      ]
    },
    {
      "cell_type": "markdown",
      "source": [
        "## Regular expressions\n",
        "\n",
        "*, ?, [], {}"
      ],
      "metadata": {
        "id": "6V8HWYnyMTeZ"
      }
    },
    {
      "cell_type": "code",
      "source": [
        "%%bash\n",
        "ls [a-z]*.csv\n",
        "pwd\n",
        "\n",
        "# wild cards\n",
        "touch file1.csv file2.csv\n",
        "ls {file1,file2}.csv"
      ],
      "metadata": {
        "colab": {
          "base_uri": "https://localhost:8080/"
        },
        "id": "pbcbQpRUxbG8",
        "outputId": "e9b1c280-ee4e-4959-d3ee-5ccf3f614a58"
      },
      "execution_count": 40,
      "outputs": [
        {
          "output_type": "stream",
          "name": "stdout",
          "text": [
            "file1.csv\n",
            "file2.csv\n",
            "/content\n",
            "file1.csv\n",
            "file2.csv\n"
          ]
        }
      ]
    },
    {
      "cell_type": "code",
      "metadata": {
        "id": "Zf6qND2dYn1H",
        "colab": {
          "base_uri": "https://localhost:8080/"
        },
        "outputId": "3ef46568-8550-429e-f517-c37e4d0aadf6"
      },
      "source": [
        "!which bash"
      ],
      "execution_count": 41,
      "outputs": [
        {
          "output_type": "stream",
          "name": "stdout",
          "text": [
            "/usr/bin/bash\n"
          ]
        }
      ]
    },
    {
      "cell_type": "markdown",
      "source": [
        "# Redirection commands\n",
        "\n",
        "Standard files: stdin, stdout, stderr\n",
        "\n",
        "<, >, |"
      ],
      "metadata": {
        "id": "5GZp-kQkM6a2"
      }
    },
    {
      "cell_type": "code",
      "source": [
        "!ls -ltr | grep csv"
      ],
      "metadata": {
        "colab": {
          "base_uri": "https://localhost:8080/"
        },
        "id": "AmVyK-xnNKG8",
        "outputId": "40e03b91-d391-4593-e886-1c77efbee362"
      },
      "execution_count": 42,
      "outputs": [
        {
          "output_type": "stream",
          "name": "stdout",
          "text": [
            "-rw-r--r-- 1 root root      0 Aug  5 17:35 file2.csv\n",
            "-rw-r--r-- 1 root root      0 Aug  5 17:35 file1.csv\n"
          ]
        }
      ]
    },
    {
      "cell_type": "code",
      "metadata": {
        "id": "jN-dDK8eYYxj",
        "colab": {
          "base_uri": "https://localhost:8080/"
        },
        "outputId": "de1c56b3-4699-44d0-9815-12a2c4f07fb7"
      },
      "source": [
        "# create a script\n",
        "\n",
        "%%bash\n",
        "echo \"#!/bin/bash\" >> myscript.sh\n",
        "echo \"echo \\\"I am executing the script, myscript.sh\\\" \" >> myscript.sh\n",
        "echo \"pwd\" >> myscript.sh\n",
        "echo \"date\" >> myscript.sh\n",
        "echo\n"
      ],
      "execution_count": 43,
      "outputs": [
        {
          "output_type": "stream",
          "name": "stdout",
          "text": [
            "\n"
          ]
        }
      ]
    },
    {
      "cell_type": "code",
      "metadata": {
        "id": "gn2DvNvSZICy",
        "colab": {
          "base_uri": "https://localhost:8080/"
        },
        "outputId": "4ab13b8e-54bc-4d38-f26f-ce3477dd00d8"
      },
      "source": [
        "!cat myscript.sh"
      ],
      "execution_count": 44,
      "outputs": [
        {
          "output_type": "stream",
          "name": "stdout",
          "text": [
            "#!/bin/bash\n",
            "echo \"I am executing the script, myscript.sh\" \n",
            "pwd\n",
            "date\n",
            "#!/bin/bash\n",
            "echo \"I am executing the script, myscript.sh\" \n",
            "pwd\n",
            "date\n"
          ]
        }
      ]
    },
    {
      "cell_type": "code",
      "metadata": {
        "id": "x0NrHoldZP2e",
        "colab": {
          "base_uri": "https://localhost:8080/"
        },
        "outputId": "43762a60-7273-435c-f5e1-ffc4aa1a7606"
      },
      "source": [
        "%%bash\n",
        "chmod +x ./myscript.sh\n",
        "./myscript.sh"
      ],
      "execution_count": 45,
      "outputs": [
        {
          "output_type": "stream",
          "name": "stdout",
          "text": [
            "I am executing the script, myscript.sh\n",
            "/content\n",
            "Sat Aug  5 05:35:52 PM UTC 2023\n",
            "I am executing the script, myscript.sh\n",
            "/content\n",
            "Sat Aug  5 05:35:52 PM UTC 2023\n"
          ]
        }
      ]
    },
    {
      "cell_type": "code",
      "metadata": {
        "id": "8Gg8J0bjzPfW",
        "colab": {
          "base_uri": "https://localhost:8080/"
        },
        "outputId": "33e4182c-70ac-42ae-eee4-e55c91712fbd"
      },
      "source": [
        "%%bash\n",
        "var1=98\n",
        "echo \" var1 is set to:  \" $var1\n",
        "\n",
        "if [ \"${var1}\" -gt  2 ]\n",
        "then\n",
        "   echo \"Var1 is > 3\"\n",
        "else\n",
        "   echo \"Var1 is <= 3\"\n",
        "fi\n",
        "\n"
      ],
      "execution_count": 46,
      "outputs": [
        {
          "output_type": "stream",
          "name": "stdout",
          "text": [
            " var1 is set to:   98\n",
            "Var1 is > 3\n"
          ]
        }
      ]
    },
    {
      "cell_type": "code",
      "metadata": {
        "id": "96FJ74Xh1Z1t",
        "colab": {
          "base_uri": "https://localhost:8080/"
        },
        "outputId": "17362d8f-c863-44ee-f001-9c3f2ebc98cc"
      },
      "source": [
        "%%bash\n",
        "cd /content\n",
        "pwd\n",
        "mkdir -p test\n",
        "cd test\n",
        "touch Ravi.txt\n",
        "pwd\n",
        "cd ..\n",
        "\n",
        "pwd"
      ],
      "execution_count": 47,
      "outputs": [
        {
          "output_type": "stream",
          "name": "stdout",
          "text": [
            "/content\n",
            "/content/test\n",
            "/content\n"
          ]
        }
      ]
    },
    {
      "cell_type": "code",
      "metadata": {
        "id": "suRmWqDXauWF"
      },
      "source": [
        "%%bash\n",
        "cd"
      ],
      "execution_count": 48,
      "outputs": []
    },
    {
      "cell_type": "code",
      "metadata": {
        "id": "C6Z3aSw_a0-H",
        "colab": {
          "base_uri": "https://localhost:8080/"
        },
        "outputId": "a43e71f8-6e66-46b8-b684-20440098650e"
      },
      "source": [
        "!pwd"
      ],
      "execution_count": 49,
      "outputs": [
        {
          "output_type": "stream",
          "name": "stdout",
          "text": [
            "/content\n"
          ]
        }
      ]
    },
    {
      "cell_type": "code",
      "metadata": {
        "id": "U7OIsUWl2Ijv",
        "colab": {
          "base_uri": "https://localhost:8080/"
        },
        "outputId": "0463badf-6292-40bb-f3e3-9c2d260028cf"
      },
      "source": [
        "%%bash\n",
        "\n",
        "ls\n",
        "\n",
        "ls -l -f\n"
      ],
      "execution_count": 50,
      "outputs": [
        {
          "output_type": "stream",
          "name": "stdout",
          "text": [
            "7lyz.pdb\n",
            "7lyz.pdb.1\n",
            "file1.csv\n",
            "file2.csv\n",
            "ids.txt\n",
            "myscript1.sh\n",
            "myscript.sh\n",
            "sample_data\n",
            "test\n",
            ".config\n",
            ".\n",
            "..\n",
            "ids.txt\n",
            "7lyz.pdb.1\n",
            "test\n",
            "file1.csv\n",
            "myscript.sh\n",
            "7lyz.pdb\n",
            "myscript1.sh\n",
            "file2.csv\n",
            "sample_data\n"
          ]
        }
      ]
    },
    {
      "cell_type": "code",
      "metadata": {
        "id": "r7XwQjoPc-A_",
        "colab": {
          "base_uri": "https://localhost:8080/"
        },
        "outputId": "3c383869-0ebd-48eb-c312-4e79aad08e41"
      },
      "source": [
        "%%bash\n",
        "cat > ids.txt <<EOL\n",
        "A\n",
        "B\n",
        "C\n",
        "EOL\n",
        "\n",
        "cat ids.txt"
      ],
      "execution_count": 51,
      "outputs": [
        {
          "output_type": "stream",
          "name": "stdout",
          "text": [
            "A\n",
            "B\n",
            "C\n"
          ]
        }
      ]
    },
    {
      "cell_type": "code",
      "metadata": {
        "id": "JcmT7pQreXdC",
        "colab": {
          "base_uri": "https://localhost:8080/"
        },
        "outputId": "77b9778e-7c66-4a9e-bcc5-d579c7f134f3"
      },
      "source": [
        "!which parallel"
      ],
      "execution_count": 52,
      "outputs": [
        {
          "output_type": "stream",
          "name": "stdout",
          "text": [
            "/usr/bin/parallel\n"
          ]
        }
      ]
    },
    {
      "cell_type": "code",
      "metadata": {
        "id": "iEBnbrape1A-",
        "colab": {
          "base_uri": "https://localhost:8080/"
        },
        "outputId": "cc7274d7-7081-468d-eaf3-14fa817fcaf7"
      },
      "source": [
        "!cat ids.txt"
      ],
      "execution_count": 53,
      "outputs": [
        {
          "output_type": "stream",
          "name": "stdout",
          "text": [
            "A\n",
            "B\n",
            "C\n"
          ]
        }
      ]
    },
    {
      "cell_type": "code",
      "metadata": {
        "id": "odgHCiaughMK",
        "colab": {
          "base_uri": "https://localhost:8080/"
        },
        "outputId": "625c1d98-2c3b-4d65-f7a1-3ae4d37dfb64"
      },
      "source": [
        "! parallel -j 3 -- ls df \"echo hi\""
      ],
      "execution_count": 54,
      "outputs": [
        {
          "output_type": "stream",
          "name": "stdout",
          "text": [
            "hi\n",
            "Filesystem     1K-blocks     Used Available Use% Mounted on\n",
            "overlay        112947452 26118568  86812500  24% /\n",
            "tmpfs              65536        0     65536   0% /dev\n",
            "shm              5988352        0   5988352   0% /dev/shm\n",
            "/dev/root        2003760  1095616    908144  55% /usr/sbin/docker-init\n",
            "tmpfs            6647124      860   6646264   1% /var/colab\n",
            "/dev/sda1       73032084 54286712  18728988  75% /etc/hosts\n",
            "tmpfs            6647124        0   6647124   0% /proc/acpi\n",
            "tmpfs            6647124        0   6647124   0% /proc/scsi\n",
            "tmpfs            6647124        0   6647124   0% /sys/firmware\n",
            "7lyz.pdb\n",
            "7lyz.pdb.1\n",
            "file1.csv\n",
            "file2.csv\n",
            "ids.txt\n",
            "myscript1.sh\n",
            "myscript.sh\n",
            "sample_data\n",
            "test\n"
          ]
        }
      ]
    },
    {
      "cell_type": "code",
      "metadata": {
        "id": "NPKP1VIaeI7F"
      },
      "source": [
        "%%bash\n",
        "cat ids.txt | parallel \"echo foo {} \\| bar \\> {}.txt\""
      ],
      "execution_count": 55,
      "outputs": []
    },
    {
      "cell_type": "code",
      "metadata": {
        "id": "gVWNcRBPfKW5",
        "colab": {
          "base_uri": "https://localhost:8080/"
        },
        "outputId": "2e86891e-d0ef-42a4-d83d-de7ea40a3859"
      },
      "source": [
        "%%bash\n",
        "NAME=Sam\n",
        "\n",
        "# Strings with double quotes or no quotes will be substituted\n",
        "echo Welcome $NAME\n",
        "echo \"Welcome $NAME\"\n",
        "\n",
        "# strings with single quote will be produced as such\n",
        "echo 'Welcome $NAME'"
      ],
      "execution_count": 56,
      "outputs": [
        {
          "output_type": "stream",
          "name": "stdout",
          "text": [
            "Welcome Sam\n",
            "Welcome Sam\n",
            "Welcome $NAME\n"
          ]
        }
      ]
    },
    {
      "cell_type": "markdown",
      "metadata": {
        "id": "4VTtd-45l-Tb"
      },
      "source": [
        "Rather than using explicit names, use variable names as proxy for creating efficient scripts"
      ]
    },
    {
      "cell_type": "code",
      "metadata": {
        "id": "ANgK8403leCF",
        "colab": {
          "base_uri": "https://localhost:8080/"
        },
        "outputId": "a42da8e1-2147-4fe8-9456-949b08223937"
      },
      "source": [
        "%%bash\n",
        "wget http://www.rcsb.org/pdb/files/7lyz.pdb >& /dev/null\n",
        "\n",
        "head 7lyz.pdb\n"
      ],
      "execution_count": 57,
      "outputs": [
        {
          "output_type": "stream",
          "name": "stdout",
          "text": [
            "HEADER    HYDROLASE(O-GLYCOSYL)                   06-MAY-77   7LYZ              \n",
            "TITLE     PROTEIN MODEL BUILDING BY THE USE OF A CONSTRAINED-                   \n",
            "TITLE    2 RESTRAINED LEAST-SQUARES PROCEDURE                                   \n",
            "COMPND    MOL_ID: 1;                                                            \n",
            "COMPND   2 MOLECULE: HEN EGG WHITE LYSOZYME;                                    \n",
            "COMPND   3 CHAIN: A;                                                            \n",
            "COMPND   4 EC: 3.2.1.17;                                                        \n",
            "COMPND   5 ENGINEERED: YES                                                      \n",
            "SOURCE    MOL_ID: 1;                                                            \n",
            "SOURCE   2 ORGANISM_SCIENTIFIC: GALLUS GALLUS;                                  \n"
          ]
        }
      ]
    },
    {
      "cell_type": "code",
      "metadata": {
        "id": "vbO9oJHHk1HD",
        "colab": {
          "base_uri": "https://localhost:8080/"
        },
        "outputId": "8753f7d5-7dce-45e4-9915-c1ac7e0595c9"
      },
      "source": [
        "%%bash\n",
        "PDB_ID=7lyz\n",
        "wget http://www.rcsb.org/pdb/files/${PDB_ID}.pdb >& /dev/null\n",
        "head ${PDB_ID}.pdb"
      ],
      "execution_count": 58,
      "outputs": [
        {
          "output_type": "stream",
          "name": "stdout",
          "text": [
            "HEADER    HYDROLASE(O-GLYCOSYL)                   06-MAY-77   7LYZ              \n",
            "TITLE     PROTEIN MODEL BUILDING BY THE USE OF A CONSTRAINED-                   \n",
            "TITLE    2 RESTRAINED LEAST-SQUARES PROCEDURE                                   \n",
            "COMPND    MOL_ID: 1;                                                            \n",
            "COMPND   2 MOLECULE: HEN EGG WHITE LYSOZYME;                                    \n",
            "COMPND   3 CHAIN: A;                                                            \n",
            "COMPND   4 EC: 3.2.1.17;                                                        \n",
            "COMPND   5 ENGINEERED: YES                                                      \n",
            "SOURCE    MOL_ID: 1;                                                            \n",
            "SOURCE   2 ORGANISM_SCIENTIFIC: GALLUS GALLUS;                                  \n"
          ]
        }
      ]
    },
    {
      "cell_type": "markdown",
      "metadata": {
        "id": "_4AO32dSnNMJ"
      },
      "source": [
        "# Script typos will not make the script stop"
      ]
    },
    {
      "cell_type": "code",
      "metadata": {
        "id": "oz6x0mPXpE2u"
      },
      "source": [
        "%%bash\n",
        "rm -f myscript1.sh\n",
        "\n",
        "cat > myscript1.sh <<EOL\n",
        "#!/bin/bash\n",
        "echo I am executing myscript1.sh\n",
        "du -h\n",
        "pwd\n",
        "ls -l\n",
        "echo Script successfully completed\n",
        "EOL"
      ],
      "execution_count": 59,
      "outputs": []
    },
    {
      "cell_type": "code",
      "metadata": {
        "id": "5-sgDTqrwDCQ",
        "colab": {
          "base_uri": "https://localhost:8080/"
        },
        "outputId": "3dccddb1-3c99-4e4c-f5cd-6264f9a374bd"
      },
      "source": [
        "%%bash\n",
        "chmod +x ./myscript1.sh\n",
        "./myscript1.sh"
      ],
      "execution_count": 60,
      "outputs": [
        {
          "output_type": "stream",
          "name": "stdout",
          "text": [
            "I am executing myscript1.sh\n",
            "8.0K\t./.config/configurations\n",
            "72K\t./.config/logs/2023.08.03\n",
            "76K\t./.config/logs\n",
            "120K\t./.config\n",
            "4.0K\t./test\n",
            "55M\t./sample_data\n",
            "55M\t.\n",
            "/content\n",
            "total 436\n",
            "-rw-r--r-- 1 root root 103275 Aug  5 17:25 7lyz.pdb\n",
            "-rw-r--r-- 1 root root 103275 Aug  5 17:25 7lyz.pdb.1\n",
            "-rw-r--r-- 1 root root 103275 Aug  5 17:35 7lyz.pdb.2\n",
            "-rw-r--r-- 1 root root 103275 Aug  5 17:35 7lyz.pdb.3\n",
            "-rw-r--r-- 1 root root      0 Aug  5 17:35 file1.csv\n",
            "-rw-r--r-- 1 root root      0 Aug  5 17:35 file2.csv\n",
            "-rw-r--r-- 1 root root      6 Aug  5 17:35 ids.txt\n",
            "-rwxr-xr-x 1 root root     99 Aug  5 17:35 myscript1.sh\n",
            "-rwxr-xr-x 1 root root    136 Aug  5 17:35 myscript.sh\n",
            "drwxr-xr-x 1 root root   4096 Aug  3 13:45 sample_data\n",
            "drwxr-xr-x 2 root root   4096 Aug  5 17:25 test\n",
            "Script successfully completed\n"
          ]
        }
      ]
    },
    {
      "cell_type": "markdown",
      "metadata": {
        "id": "De76QC3dqiYb"
      },
      "source": [
        "# Use \"set -ue\" to catch any errors"
      ]
    },
    {
      "cell_type": "code",
      "metadata": {
        "id": "4SPnRmF_w57A"
      },
      "source": [
        "%%bash\n",
        "rm -f myscript1.sh\n",
        "\n",
        "cat > myscript1.sh <<EOL\n",
        "#!/bin/bash\n",
        "set -ue\n",
        "echo I am executing myscript1.sh\n",
        "duu -h\n",
        "pwd\n",
        "ls -l\n",
        "echo Script successfully completed\n",
        "EOL"
      ],
      "execution_count": 61,
      "outputs": []
    },
    {
      "cell_type": "code",
      "source": [
        "!ls"
      ],
      "metadata": {
        "colab": {
          "base_uri": "https://localhost:8080/"
        },
        "id": "vj7-MFO7w04X",
        "outputId": "40827850-7e4b-48b7-eea0-913853f43cc0"
      },
      "execution_count": 62,
      "outputs": [
        {
          "output_type": "stream",
          "name": "stdout",
          "text": [
            "7lyz.pdb    7lyz.pdb.2\tfile1.csv  ids.txt\t myscript.sh  test\n",
            "7lyz.pdb.1  7lyz.pdb.3\tfile2.csv  myscript1.sh  sample_data\n"
          ]
        }
      ]
    },
    {
      "cell_type": "code",
      "metadata": {
        "id": "44l85rRZoCn7",
        "colab": {
          "base_uri": "https://localhost:8080/",
          "height": 399
        },
        "outputId": "043c743d-7b84-418e-a7d1-6df97f78bbd8"
      },
      "source": [
        "%%bash\n",
        "chmod +x ./myscript1.sh\n",
        "./myscript1.sh"
      ],
      "execution_count": 63,
      "outputs": [
        {
          "output_type": "stream",
          "name": "stdout",
          "text": [
            "I am executing myscript1.sh\n"
          ]
        },
        {
          "output_type": "stream",
          "name": "stderr",
          "text": [
            "./myscript1.sh: line 4: duu: command not found\n"
          ]
        },
        {
          "output_type": "error",
          "ename": "CalledProcessError",
          "evalue": "ignored",
          "traceback": [
            "\u001b[0;31m---------------------------------------------------------------------------\u001b[0m",
            "\u001b[0;31mCalledProcessError\u001b[0m                        Traceback (most recent call last)",
            "\u001b[0;32m<ipython-input-63-5e6b1ead96b1>\u001b[0m in \u001b[0;36m<cell line: 1>\u001b[0;34m()\u001b[0m\n\u001b[0;32m----> 1\u001b[0;31m \u001b[0mget_ipython\u001b[0m\u001b[0;34m(\u001b[0m\u001b[0;34m)\u001b[0m\u001b[0;34m.\u001b[0m\u001b[0mrun_cell_magic\u001b[0m\u001b[0;34m(\u001b[0m\u001b[0;34m'bash'\u001b[0m\u001b[0;34m,\u001b[0m \u001b[0;34m''\u001b[0m\u001b[0;34m,\u001b[0m \u001b[0;34m'chmod +x ./myscript1.sh\\n./myscript1.sh\\n'\u001b[0m\u001b[0;34m)\u001b[0m\u001b[0;34m\u001b[0m\u001b[0;34m\u001b[0m\u001b[0m\n\u001b[0m",
            "\u001b[0;32m/usr/local/lib/python3.10/dist-packages/google/colab/_shell.py\u001b[0m in \u001b[0;36mrun_cell_magic\u001b[0;34m(self, magic_name, line, cell)\u001b[0m\n\u001b[1;32m    332\u001b[0m     \u001b[0;32mif\u001b[0m \u001b[0mline\u001b[0m \u001b[0;32mand\u001b[0m \u001b[0;32mnot\u001b[0m \u001b[0mcell\u001b[0m\u001b[0;34m:\u001b[0m\u001b[0;34m\u001b[0m\u001b[0;34m\u001b[0m\u001b[0m\n\u001b[1;32m    333\u001b[0m       \u001b[0mcell\u001b[0m \u001b[0;34m=\u001b[0m \u001b[0;34m' '\u001b[0m\u001b[0;34m\u001b[0m\u001b[0;34m\u001b[0m\u001b[0m\n\u001b[0;32m--> 334\u001b[0;31m     \u001b[0;32mreturn\u001b[0m \u001b[0msuper\u001b[0m\u001b[0;34m(\u001b[0m\u001b[0;34m)\u001b[0m\u001b[0;34m.\u001b[0m\u001b[0mrun_cell_magic\u001b[0m\u001b[0;34m(\u001b[0m\u001b[0mmagic_name\u001b[0m\u001b[0;34m,\u001b[0m \u001b[0mline\u001b[0m\u001b[0;34m,\u001b[0m \u001b[0mcell\u001b[0m\u001b[0;34m)\u001b[0m\u001b[0;34m\u001b[0m\u001b[0;34m\u001b[0m\u001b[0m\n\u001b[0m\u001b[1;32m    335\u001b[0m \u001b[0;34m\u001b[0m\u001b[0m\n\u001b[1;32m    336\u001b[0m \u001b[0;34m\u001b[0m\u001b[0m\n",
            "\u001b[0;32m/usr/local/lib/python3.10/dist-packages/IPython/core/interactiveshell.py\u001b[0m in \u001b[0;36mrun_cell_magic\u001b[0;34m(self, magic_name, line, cell)\u001b[0m\n\u001b[1;32m   2471\u001b[0m             \u001b[0;32mwith\u001b[0m \u001b[0mself\u001b[0m\u001b[0;34m.\u001b[0m\u001b[0mbuiltin_trap\u001b[0m\u001b[0;34m:\u001b[0m\u001b[0;34m\u001b[0m\u001b[0;34m\u001b[0m\u001b[0m\n\u001b[1;32m   2472\u001b[0m                 \u001b[0margs\u001b[0m \u001b[0;34m=\u001b[0m \u001b[0;34m(\u001b[0m\u001b[0mmagic_arg_s\u001b[0m\u001b[0;34m,\u001b[0m \u001b[0mcell\u001b[0m\u001b[0;34m)\u001b[0m\u001b[0;34m\u001b[0m\u001b[0;34m\u001b[0m\u001b[0m\n\u001b[0;32m-> 2473\u001b[0;31m                 \u001b[0mresult\u001b[0m \u001b[0;34m=\u001b[0m \u001b[0mfn\u001b[0m\u001b[0;34m(\u001b[0m\u001b[0;34m*\u001b[0m\u001b[0margs\u001b[0m\u001b[0;34m,\u001b[0m \u001b[0;34m**\u001b[0m\u001b[0mkwargs\u001b[0m\u001b[0;34m)\u001b[0m\u001b[0;34m\u001b[0m\u001b[0;34m\u001b[0m\u001b[0m\n\u001b[0m\u001b[1;32m   2474\u001b[0m             \u001b[0;32mreturn\u001b[0m \u001b[0mresult\u001b[0m\u001b[0;34m\u001b[0m\u001b[0;34m\u001b[0m\u001b[0m\n\u001b[1;32m   2475\u001b[0m \u001b[0;34m\u001b[0m\u001b[0m\n",
            "\u001b[0;32m/usr/local/lib/python3.10/dist-packages/IPython/core/magics/script.py\u001b[0m in \u001b[0;36mnamed_script_magic\u001b[0;34m(line, cell)\u001b[0m\n\u001b[1;32m    140\u001b[0m             \u001b[0;32melse\u001b[0m\u001b[0;34m:\u001b[0m\u001b[0;34m\u001b[0m\u001b[0;34m\u001b[0m\u001b[0m\n\u001b[1;32m    141\u001b[0m                 \u001b[0mline\u001b[0m \u001b[0;34m=\u001b[0m \u001b[0mscript\u001b[0m\u001b[0;34m\u001b[0m\u001b[0;34m\u001b[0m\u001b[0m\n\u001b[0;32m--> 142\u001b[0;31m             \u001b[0;32mreturn\u001b[0m \u001b[0mself\u001b[0m\u001b[0;34m.\u001b[0m\u001b[0mshebang\u001b[0m\u001b[0;34m(\u001b[0m\u001b[0mline\u001b[0m\u001b[0;34m,\u001b[0m \u001b[0mcell\u001b[0m\u001b[0;34m)\u001b[0m\u001b[0;34m\u001b[0m\u001b[0;34m\u001b[0m\u001b[0m\n\u001b[0m\u001b[1;32m    143\u001b[0m \u001b[0;34m\u001b[0m\u001b[0m\n\u001b[1;32m    144\u001b[0m         \u001b[0;31m# write a basic docstring:\u001b[0m\u001b[0;34m\u001b[0m\u001b[0;34m\u001b[0m\u001b[0m\n",
            "\u001b[0;32m<decorator-gen-103>\u001b[0m in \u001b[0;36mshebang\u001b[0;34m(self, line, cell)\u001b[0m\n",
            "\u001b[0;32m/usr/local/lib/python3.10/dist-packages/IPython/core/magic.py\u001b[0m in \u001b[0;36m<lambda>\u001b[0;34m(f, *a, **k)\u001b[0m\n\u001b[1;32m    185\u001b[0m     \u001b[0;31m# but it's overkill for just that one bit of state.\u001b[0m\u001b[0;34m\u001b[0m\u001b[0;34m\u001b[0m\u001b[0m\n\u001b[1;32m    186\u001b[0m     \u001b[0;32mdef\u001b[0m \u001b[0mmagic_deco\u001b[0m\u001b[0;34m(\u001b[0m\u001b[0marg\u001b[0m\u001b[0;34m)\u001b[0m\u001b[0;34m:\u001b[0m\u001b[0;34m\u001b[0m\u001b[0;34m\u001b[0m\u001b[0m\n\u001b[0;32m--> 187\u001b[0;31m         \u001b[0mcall\u001b[0m \u001b[0;34m=\u001b[0m \u001b[0;32mlambda\u001b[0m \u001b[0mf\u001b[0m\u001b[0;34m,\u001b[0m \u001b[0;34m*\u001b[0m\u001b[0ma\u001b[0m\u001b[0;34m,\u001b[0m \u001b[0;34m**\u001b[0m\u001b[0mk\u001b[0m\u001b[0;34m:\u001b[0m \u001b[0mf\u001b[0m\u001b[0;34m(\u001b[0m\u001b[0;34m*\u001b[0m\u001b[0ma\u001b[0m\u001b[0;34m,\u001b[0m \u001b[0;34m**\u001b[0m\u001b[0mk\u001b[0m\u001b[0;34m)\u001b[0m\u001b[0;34m\u001b[0m\u001b[0;34m\u001b[0m\u001b[0m\n\u001b[0m\u001b[1;32m    188\u001b[0m \u001b[0;34m\u001b[0m\u001b[0m\n\u001b[1;32m    189\u001b[0m         \u001b[0;32mif\u001b[0m \u001b[0mcallable\u001b[0m\u001b[0;34m(\u001b[0m\u001b[0marg\u001b[0m\u001b[0;34m)\u001b[0m\u001b[0;34m:\u001b[0m\u001b[0;34m\u001b[0m\u001b[0;34m\u001b[0m\u001b[0m\n",
            "\u001b[0;32m/usr/local/lib/python3.10/dist-packages/IPython/core/magics/script.py\u001b[0m in \u001b[0;36mshebang\u001b[0;34m(self, line, cell)\u001b[0m\n\u001b[1;32m    243\u001b[0m             \u001b[0msys\u001b[0m\u001b[0;34m.\u001b[0m\u001b[0mstderr\u001b[0m\u001b[0;34m.\u001b[0m\u001b[0mflush\u001b[0m\u001b[0;34m(\u001b[0m\u001b[0;34m)\u001b[0m\u001b[0;34m\u001b[0m\u001b[0;34m\u001b[0m\u001b[0m\n\u001b[1;32m    244\u001b[0m         \u001b[0;32mif\u001b[0m \u001b[0margs\u001b[0m\u001b[0;34m.\u001b[0m\u001b[0mraise_error\u001b[0m \u001b[0;32mand\u001b[0m \u001b[0mp\u001b[0m\u001b[0;34m.\u001b[0m\u001b[0mreturncode\u001b[0m\u001b[0;34m!=\u001b[0m\u001b[0;36m0\u001b[0m\u001b[0;34m:\u001b[0m\u001b[0;34m\u001b[0m\u001b[0;34m\u001b[0m\u001b[0m\n\u001b[0;32m--> 245\u001b[0;31m             \u001b[0;32mraise\u001b[0m \u001b[0mCalledProcessError\u001b[0m\u001b[0;34m(\u001b[0m\u001b[0mp\u001b[0m\u001b[0;34m.\u001b[0m\u001b[0mreturncode\u001b[0m\u001b[0;34m,\u001b[0m \u001b[0mcell\u001b[0m\u001b[0;34m,\u001b[0m \u001b[0moutput\u001b[0m\u001b[0;34m=\u001b[0m\u001b[0mout\u001b[0m\u001b[0;34m,\u001b[0m \u001b[0mstderr\u001b[0m\u001b[0;34m=\u001b[0m\u001b[0merr\u001b[0m\u001b[0;34m)\u001b[0m\u001b[0;34m\u001b[0m\u001b[0;34m\u001b[0m\u001b[0m\n\u001b[0m\u001b[1;32m    246\u001b[0m \u001b[0;34m\u001b[0m\u001b[0m\n\u001b[1;32m    247\u001b[0m     \u001b[0;32mdef\u001b[0m \u001b[0m_run_script\u001b[0m\u001b[0;34m(\u001b[0m\u001b[0mself\u001b[0m\u001b[0;34m,\u001b[0m \u001b[0mp\u001b[0m\u001b[0;34m,\u001b[0m \u001b[0mcell\u001b[0m\u001b[0;34m,\u001b[0m \u001b[0mto_close\u001b[0m\u001b[0;34m)\u001b[0m\u001b[0;34m:\u001b[0m\u001b[0;34m\u001b[0m\u001b[0;34m\u001b[0m\u001b[0m\n",
            "\u001b[0;31mCalledProcessError\u001b[0m: Command 'b'chmod +x ./myscript1.sh\\n./myscript1.sh\\n'' returned non-zero exit status 127."
          ]
        }
      ]
    },
    {
      "cell_type": "markdown",
      "metadata": {
        "id": "BBDjCcbqrAB1"
      },
      "source": [
        "# pass variables"
      ]
    },
    {
      "cell_type": "code",
      "metadata": {
        "id": "DAdzHVCKx3a7"
      },
      "source": [
        "%%bash\n",
        "rm -f myscript2.sh\n",
        "\n",
        "cat > myscript2.sh <<EOL\n",
        "#!/bin/bash\n",
        "echo I am executing myscript2.sh\n",
        "set -ue\n",
        "\n",
        "filea=\\$1\n",
        "fileb=\\$2\n",
        "wget http://www.rcsb.org/pdb/files/\\${filea}.pdb >& /dev/null\n",
        "wget http://www.rcsb.org/pdb/files/\\${fileb}.pdb >& /dev/null\n",
        "EOL"
      ],
      "execution_count": null,
      "outputs": []
    },
    {
      "cell_type": "code",
      "metadata": {
        "id": "sxukLwp1yZFG"
      },
      "source": [
        "%%bash\n",
        "chmod +x ./myscript2.sh\n",
        "./myscript2.sh 7lyz 2src"
      ],
      "execution_count": null,
      "outputs": []
    },
    {
      "cell_type": "code",
      "metadata": {
        "id": "HL6Bsx9ntTRP"
      },
      "source": [
        "! ./myscript2.sh 7lyz 2src"
      ],
      "execution_count": null,
      "outputs": []
    },
    {
      "cell_type": "code",
      "metadata": {
        "id": "Jxb9Au0n1mzN"
      },
      "source": [
        "%%bash\n",
        "\n",
        "for i in *.pdb; do\n",
        "  echo $i\n",
        "done"
      ],
      "execution_count": null,
      "outputs": []
    },
    {
      "cell_type": "code",
      "metadata": {
        "id": "-UzyYonp2Mk5"
      },
      "source": [
        "%%bash\n",
        "\n",
        "cat ids.txt | parallel echo Hello {}"
      ],
      "execution_count": null,
      "outputs": []
    },
    {
      "cell_type": "markdown",
      "metadata": {
        "id": "_Xrapbx12mG1"
      },
      "source": [
        "## Help"
      ]
    },
    {
      "cell_type": "code",
      "metadata": {
        "id": "xfb9f3ry2g8w"
      },
      "source": [
        "man ls"
      ],
      "execution_count": null,
      "outputs": []
    },
    {
      "cell_type": "code",
      "metadata": {
        "id": "ucUY1QHD25nI"
      },
      "source": [
        "%%bash\n",
        "wget http://www.rcsb.org/pdb/files/7lyz.pdb >& /dev/null"
      ],
      "execution_count": null,
      "outputs": []
    },
    {
      "cell_type": "code",
      "metadata": {
        "id": "Yil2SEv7b-OJ"
      },
      "source": [
        "!tail 7lyz.pdb"
      ],
      "execution_count": null,
      "outputs": []
    },
    {
      "cell_type": "code",
      "metadata": {
        "id": "fG1GlDrqbtYR"
      },
      "source": [
        "%%bash\n",
        "cat 7lyz.pdb | grep \"ATOM\"  > 7lyzAllATOM.pdb\n",
        "cat 7lyz.pdb | grep \"^ATOM\" > 7lyzATOM.pdb"
      ],
      "execution_count": null,
      "outputs": []
    },
    {
      "cell_type": "code",
      "metadata": {
        "id": "QJWxmSO8btSB"
      },
      "source": [
        "!tail 7lyzATOM.pdb"
      ],
      "execution_count": null,
      "outputs": []
    },
    {
      "cell_type": "code",
      "metadata": {
        "id": "Fzn3C3NX3Acc"
      },
      "source": [
        "more 7lyz.pdb"
      ],
      "execution_count": null,
      "outputs": []
    },
    {
      "cell_type": "code",
      "metadata": {
        "id": "gFLxtvMQ3VuW"
      },
      "source": [
        "%%bash\n",
        "wget http://www.rcsb.org/pdb/files/2src.pdb"
      ],
      "execution_count": null,
      "outputs": []
    },
    {
      "cell_type": "code",
      "metadata": {
        "id": "lJ59wMKP3lY4"
      },
      "source": [
        "!mv 2src.pdb 2src.PDB"
      ],
      "execution_count": null,
      "outputs": []
    },
    {
      "cell_type": "code",
      "metadata": {
        "id": "t0uPriHI3pr7"
      },
      "source": [
        "!ls -l\n"
      ],
      "execution_count": null,
      "outputs": []
    },
    {
      "cell_type": "code",
      "metadata": {
        "id": "FfvD8A0Z3qj9"
      },
      "source": [
        "!rm -f 2src.PDB"
      ],
      "execution_count": null,
      "outputs": []
    },
    {
      "cell_type": "code",
      "metadata": {
        "id": "hcs_xP2S3xOH"
      },
      "source": [
        "!ls -l 2src.PDB"
      ],
      "execution_count": null,
      "outputs": []
    },
    {
      "cell_type": "code",
      "metadata": {
        "id": "kAcZCWVJ35fB"
      },
      "source": [
        "!touch new_file.txt\n"
      ],
      "execution_count": null,
      "outputs": []
    },
    {
      "cell_type": "code",
      "metadata": {
        "id": "tz-9bCse39PZ"
      },
      "source": [
        "!ls -l new_file.txt"
      ],
      "execution_count": null,
      "outputs": []
    },
    {
      "cell_type": "code",
      "metadata": {
        "id": "T6HHKaIK4BJw"
      },
      "source": [
        "!find /content -name edirect"
      ],
      "execution_count": null,
      "outputs": []
    },
    {
      "cell_type": "code",
      "metadata": {
        "id": "m86ngp5H4Eb9"
      },
      "source": [
        "!cat 7lyz.pdb | grep CA\n"
      ],
      "execution_count": null,
      "outputs": []
    },
    {
      "cell_type": "code",
      "metadata": {
        "id": "oQq-cCtn4Kea"
      },
      "source": [
        "!cat 7lyz.pdb | grep CA | wc -l"
      ],
      "execution_count": null,
      "outputs": []
    },
    {
      "cell_type": "code",
      "metadata": {
        "id": "-UNUlHp74ezO"
      },
      "source": [
        "!df"
      ],
      "execution_count": null,
      "outputs": []
    },
    {
      "cell_type": "code",
      "metadata": {
        "id": "f5oSwILd4hAI"
      },
      "source": [
        "!head 7lyz.pdb"
      ],
      "execution_count": null,
      "outputs": []
    },
    {
      "cell_type": "code",
      "metadata": {
        "id": "kiwpss994j2h"
      },
      "source": [
        "!tail 7lyz.pdb"
      ],
      "execution_count": null,
      "outputs": []
    },
    {
      "cell_type": "code",
      "metadata": {
        "id": "sjnDjlIr4mKj"
      },
      "source": [
        "%%bash\n",
        "cat << EOF > config.txt\n",
        "first line\n",
        "second lie\n",
        "third line\n",
        "EOF\n"
      ],
      "execution_count": null,
      "outputs": []
    },
    {
      "cell_type": "code",
      "metadata": {
        "id": "PRpP3RWn5EjI"
      },
      "source": [
        "!cat config.txt"
      ],
      "execution_count": null,
      "outputs": []
    },
    {
      "cell_type": "code",
      "metadata": {
        "id": "Po4KtWPE5xoj"
      },
      "source": [
        "# !top\n"
      ],
      "execution_count": null,
      "outputs": []
    },
    {
      "cell_type": "code",
      "metadata": {
        "id": "BF3RUl5e6aEr"
      },
      "source": [
        "%history"
      ],
      "execution_count": null,
      "outputs": []
    },
    {
      "cell_type": "code",
      "metadata": {
        "id": "PQJf8XYO6hPK"
      },
      "source": [
        "!which zip\n",
        "!which unzip"
      ],
      "execution_count": null,
      "outputs": []
    },
    {
      "cell_type": "markdown",
      "metadata": {
        "id": "drsRiwwq5h79"
      },
      "source": [
        "## Other important commands"
      ]
    },
    {
      "cell_type": "markdown",
      "metadata": {
        "id": "2aD06DXE5r2X"
      },
      "source": [
        "* chmod\n",
        "* chown\n",
        "* kill\n",
        "* Ctrl-c\n",
        "* Ctrl-z  # will pause the command\n"
      ]
    },
    {
      "cell_type": "code",
      "metadata": {
        "id": "qigIS91K5q9M"
      },
      "source": [
        "%%bash\n",
        "esearch -db pubmed -query \"lycopene cyclase\" |efetch -format abstract > HitsFile.txt"
      ],
      "execution_count": null,
      "outputs": []
    },
    {
      "cell_type": "code",
      "metadata": {
        "id": "LqxwaOtyChpk"
      },
      "source": [
        "!wc -l HitsFile.txt"
      ],
      "execution_count": null,
      "outputs": []
    },
    {
      "cell_type": "code",
      "metadata": {
        "id": "rZI07w1JCoS7"
      },
      "source": [
        "!ls"
      ],
      "execution_count": null,
      "outputs": []
    },
    {
      "cell_type": "code",
      "source": [
        "%%bash\n",
        "cat << 'EOF' > months\n",
        "January 1 Winter\n",
        "February 2 Winter\n",
        "March 3 Spring\n",
        "April 4 Spring\n",
        "May 5 Spring\n",
        "June 6 Summer\n",
        "July 7 Summer\n",
        "August 8 Summer\n",
        "September 9 Autumn\n",
        "October 10 Autumn\n",
        "November 11 Autumn\n",
        "December 12 Winter\n",
        "EOF"
      ],
      "metadata": {
        "id": "L_1Ph1_yJo0D"
      },
      "execution_count": null,
      "outputs": []
    },
    {
      "cell_type": "code",
      "source": [
        "!tr '[:upper:]' '[:lower:]' < months > monthst\n",
        "!mv monthst months"
      ],
      "metadata": {
        "id": "o0q9PM1QLETO"
      },
      "execution_count": null,
      "outputs": []
    },
    {
      "cell_type": "code",
      "source": [
        "!cat months"
      ],
      "metadata": {
        "id": "ZJGTt-13L0Gm"
      },
      "execution_count": null,
      "outputs": []
    },
    {
      "cell_type": "code",
      "source": [
        "!sort months"
      ],
      "metadata": {
        "id": "a1rAKecGNi3Y"
      },
      "execution_count": null,
      "outputs": []
    },
    {
      "cell_type": "code",
      "source": [
        "!sort -r months # reverse order"
      ],
      "metadata": {
        "id": "W4SfFeHNN0-g"
      },
      "execution_count": null,
      "outputs": []
    },
    {
      "cell_type": "code",
      "source": [
        "# sort 2nd column each column in 2nd field 10, 11, 12, 2, 3 ... 9\n",
        "!sort -k2 months"
      ],
      "metadata": {
        "id": "XRm1mvhGIIuD"
      },
      "execution_count": null,
      "outputs": []
    },
    {
      "cell_type": "code",
      "source": [
        "# sort 2nd column numeric quantity (n)\n",
        "!sort -k 2n months # sort by 2nd field"
      ],
      "metadata": {
        "id": "TzlhwJpMIQCg"
      },
      "execution_count": null,
      "outputs": []
    },
    {
      "cell_type": "code",
      "source": [
        "!sort -k 2nr months"
      ],
      "metadata": {
        "id": "tMnQDQ92KsFF"
      },
      "execution_count": null,
      "outputs": []
    },
    {
      "cell_type": "code",
      "source": [
        "!sort -k 3 months"
      ],
      "metadata": {
        "id": "av2YMFLEK0VZ"
      },
      "execution_count": null,
      "outputs": []
    },
    {
      "cell_type": "code",
      "source": [
        "!cut -d ' ' -f1,2 months. # or use -f1-3 for 3 columns"
      ],
      "metadata": {
        "id": "YkjSAw5oNu4Y"
      },
      "execution_count": null,
      "outputs": []
    },
    {
      "cell_type": "code",
      "source": [
        "!cat months | cut -d ' ' -f3"
      ],
      "metadata": {
        "id": "XQ7wqaXSObRg"
      },
      "execution_count": null,
      "outputs": []
    },
    {
      "cell_type": "markdown",
      "source": [
        "# Sorting multiple columns\n",
        "First sort by third column, then sort by 2 column numeric number\n",
        "\n"
      ],
      "metadata": {
        "id": "5LIVULNeP7iQ"
      }
    },
    {
      "cell_type": "code",
      "source": [
        "# sorting multiple columns\n",
        "!sort -k 3 -k 2n months\n"
      ],
      "metadata": {
        "id": "fIH9mCUlPxd-"
      },
      "execution_count": null,
      "outputs": []
    },
    {
      "cell_type": "code",
      "source": [
        "!sort -k 3 -k 2nr months"
      ],
      "metadata": {
        "id": "EGMVkDtER-Z5"
      },
      "execution_count": null,
      "outputs": []
    },
    {
      "cell_type": "code",
      "source": [
        "!cat months | cut -d ' ' -f3 | sort -u # unique"
      ],
      "metadata": {
        "id": "Z9a7CV7NOv3W"
      },
      "execution_count": null,
      "outputs": []
    },
    {
      "cell_type": "code",
      "source": [
        "# seasons in india\n",
        "%%bash\n",
        "cat << 'EOF' > monthsi\n",
        "january 1 winter\n",
        "february 2 winter\n",
        "march 3 summer\n",
        "april 4 summer\n",
        "may 5 summer\n",
        "june 6 monsoon\n",
        "july 7 monsoon\n",
        "august 8 monsoon\n",
        "september 9 monsoon\n",
        "october 10 monsoon\n",
        "november 11 monsoon\n",
        "december 12 post-monsoon\n",
        "EOF"
      ],
      "metadata": {
        "id": "YlVJpbqjRIdx"
      },
      "execution_count": null,
      "outputs": []
    },
    {
      "cell_type": "code",
      "source": [
        "!cut -f1,2 -d ' ' months"
      ],
      "metadata": {
        "id": "okzIGGsLSPwk"
      },
      "execution_count": null,
      "outputs": []
    },
    {
      "cell_type": "code",
      "source": [
        "%%bash\n",
        "sort months > months.sorted\n",
        "sort monthsi > monthsi.sorted"
      ],
      "metadata": {
        "id": "PruxlvcBWAkG"
      },
      "execution_count": null,
      "outputs": []
    },
    {
      "cell_type": "markdown",
      "source": [
        "You will see june 6 monsoon only appears in monthsi.sorted\n",
        "and the top-6 lines appear only on months file.\n",
        " lef-most column, followed by months.sorted and finally the"
      ],
      "metadata": {
        "id": "e4EXxHyrWnPa"
      }
    },
    {
      "cell_type": "code",
      "source": [
        "!cat months.sorted"
      ],
      "metadata": {
        "id": "2SApTQmxSqJo"
      },
      "execution_count": null,
      "outputs": []
    },
    {
      "cell_type": "code",
      "source": [
        "!cat monthsi.sorted"
      ],
      "metadata": {
        "id": "pwRjC0XETWcP"
      },
      "execution_count": null,
      "outputs": []
    },
    {
      "cell_type": "code",
      "source": [
        "!cut -d ' ' -f3 months > seasons"
      ],
      "metadata": {
        "id": "2ogpMgIUUDI4"
      },
      "execution_count": null,
      "outputs": []
    },
    {
      "cell_type": "code",
      "source": [
        "!uniq seasons"
      ],
      "metadata": {
        "id": "W92huQOWULcY"
      },
      "execution_count": null,
      "outputs": []
    },
    {
      "cell_type": "code",
      "source": [
        "!uniq seasons | sort -u"
      ],
      "metadata": {
        "id": "vHLaSOSJUOEo"
      },
      "execution_count": null,
      "outputs": []
    },
    {
      "cell_type": "code",
      "source": [
        "!uniq -c seasons"
      ],
      "metadata": {
        "id": "sM-hfl83UUtF"
      },
      "execution_count": null,
      "outputs": []
    },
    {
      "cell_type": "code",
      "source": [
        "!diff months monthsi"
      ],
      "metadata": {
        "id": "QJwoiVJqWGLR"
      },
      "execution_count": null,
      "outputs": []
    },
    {
      "cell_type": "code",
      "source": [
        "getshell()"
      ],
      "metadata": {
        "id": "fP3XKxucWy9I"
      },
      "execution_count": null,
      "outputs": []
    },
    {
      "cell_type": "markdown",
      "source": [
        "# comm\n",
        "\n",
        "To use comm and get meaningful results, we need to sort the files beforehand\n",
        "You will get results in three columns. The first column is the contents that is\n",
        "present only in file1 and column2 is for second file. The third column is the\n",
        "one that is present in both files. With flags -1 and -2 you can ignore columns\n",
        "1 and 2."
      ],
      "metadata": {
        "id": "LVbrf6Loduak"
      }
    },
    {
      "cell_type": "code",
      "source": [
        "!comm monthsi.sorted months.sorted # need to be sorted to get meaningful results"
      ],
      "metadata": {
        "id": "45kiGxa_S6s8"
      },
      "execution_count": null,
      "outputs": []
    },
    {
      "cell_type": "code",
      "source": [
        "!comm -1 -2 monthsi.sorted months.sorted # need to be sorted to get meaningful results"
      ],
      "metadata": {
        "id": "-RaYMfQeeBcR"
      },
      "execution_count": null,
      "outputs": []
    },
    {
      "cell_type": "code",
      "source": [
        "!cat monthsi.sorted"
      ],
      "metadata": {
        "id": "WbxKTnh2eaWa"
      },
      "execution_count": null,
      "outputs": []
    },
    {
      "cell_type": "code",
      "source": [
        "!cat months.sorted"
      ],
      "metadata": {
        "id": "vOdUqnzzflNT"
      },
      "execution_count": null,
      "outputs": []
    },
    {
      "cell_type": "markdown",
      "source": [
        "# Archiving files\n",
        "\n",
        "* gzip\n",
        "* gunzip\n",
        "\n",
        "* bzip2\n",
        "* bunzip2\n",
        "\n",
        "* tar"
      ],
      "metadata": {
        "id": "wZAsyx07gL1e"
      }
    },
    {
      "cell_type": "code",
      "source": [],
      "metadata": {
        "id": "RBL-3Wydfnt0"
      },
      "execution_count": null,
      "outputs": []
    }
  ]
}