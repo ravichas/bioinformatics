{
  "nbformat": 4,
  "nbformat_minor": 0,
  "metadata": {
    "colab": {
      "provenance": [],
      "authorship_tag": "ABX9TyPUqWaXrGmbKIM41Aa7hQEv",
      "include_colab_link": true
    },
    "kernelspec": {
      "name": "python3",
      "display_name": "Python 3"
    },
    "accelerator": "TPU"
  },
  "cells": [
    {
      "cell_type": "markdown",
      "metadata": {
        "id": "view-in-github",
        "colab_type": "text"
      },
      "source": [
        "<a href=\"https://colab.research.google.com/github/ravichas/bioinformatics/blob/main/Linux.ipynb\" target=\"_parent\"><img src=\"https://colab.research.google.com/assets/colab-badge.svg\" alt=\"Open In Colab\"/></a>"
      ]
    },
    {
      "cell_type": "markdown",
      "metadata": {
        "id": "FjwSdwTPpwQl"
      },
      "source": [
        "*italicized text*## Linux tutorial using COLAB\n",
        "S. Ravichandran (saka.ravi@gmail.com)\n",
        "\n",
        "\n"
      ]
    },
    {
      "cell_type": "markdown",
      "metadata": {
        "id": "fOQZZbzkxlmk"
      },
      "source": [
        "## Linux"
      ]
    },
    {
      "cell_type": "code",
      "metadata": {
        "id": "wy32uvBBwAxk",
        "colab": {
          "base_uri": "https://localhost:8080/"
        },
        "outputId": "508dd90d-4785-454a-ce4b-dcf59d01db01"
      },
      "source": [
        "!uname -a"
      ],
      "execution_count": 61,
      "outputs": [
        {
          "output_type": "stream",
          "name": "stdout",
          "text": [
            "Linux 3447b15bb9be 5.15.109+ #1 SMP Fri Jun 9 10:57:30 UTC 2023 x86_64 x86_64 x86_64 GNU/Linux\n"
          ]
        }
      ]
    },
    {
      "cell_type": "code",
      "metadata": {
        "id": "MOZxPcynx-Ux",
        "colab": {
          "base_uri": "https://localhost:8080/"
        },
        "outputId": "4953fd3f-8aec-46cc-9c03-0587cdae1578"
      },
      "source": [
        "!cat /etc/issue"
      ],
      "execution_count": 62,
      "outputs": [
        {
          "output_type": "stream",
          "name": "stdout",
          "text": [
            "Ubuntu 22.04.2 LTS \\n \\l\n",
            "\n"
          ]
        }
      ]
    },
    {
      "cell_type": "code",
      "metadata": {
        "id": "Rx-fN-OD0SUm",
        "colab": {
          "base_uri": "https://localhost:8080/"
        },
        "outputId": "684b8d77-0066-4b01-eb34-45b7bb5802b3"
      },
      "source": [
        "!pwd\n"
      ],
      "execution_count": 63,
      "outputs": [
        {
          "output_type": "stream",
          "name": "stdout",
          "text": [
            "/content\n"
          ]
        }
      ]
    },
    {
      "cell_type": "code",
      "source": [
        "pip install google-colab-shell"
      ],
      "metadata": {
        "colab": {
          "base_uri": "https://localhost:8080/"
        },
        "id": "Git4meGCTqFD",
        "outputId": "ea0e8f77-52f4-41dc-98ec-4537191399d6"
      },
      "execution_count": 64,
      "outputs": [
        {
          "output_type": "stream",
          "name": "stdout",
          "text": [
            "Requirement already satisfied: google-colab-shell in /usr/local/lib/python3.10/dist-packages (0.2)\n"
          ]
        }
      ]
    },
    {
      "cell_type": "code",
      "source": [
        "# import the module once\n",
        "from google_colab_shell import getshell"
      ],
      "metadata": {
        "id": "R1_FRhLjUb7b"
      },
      "execution_count": 65,
      "outputs": []
    },
    {
      "cell_type": "code",
      "source": [
        "## Anytime you want to open a terminal\n",
        "\n",
        "getshell()\n",
        "\n",
        "getshell(height=400) # custom height of the terminal"
      ],
      "metadata": {
        "colab": {
          "base_uri": "https://localhost:8080/",
          "height": 417
        },
        "id": "0ExQQQEVX1Kl",
        "outputId": "ea084fc0-6457-4331-fe20-331bcb9398ba"
      },
      "execution_count": 66,
      "outputs": [
        {
          "output_type": "execute_result",
          "data": {
            "text/plain": [
              "<IPython.core.display.HTML object>"
            ],
            "text/html": [
              "<!--https://github.com/singhsidhukuldeep/Google-Colab-Shell/-->\n",
              "<!--Using JS/CSS from official sources with backups in-case :)-->\n",
              "<div id=colab_shell></div>\n",
              "<script src=\"https://code.jquery.com/jquery-latest.js\"></script>\n",
              "<script src=\"https://cdn.jsdelivr.net/npm/jquery.terminal/js/jquery.terminal.min.js\"></script>\n",
              "<link href=\"https://cdn.jsdelivr.net/npm/jquery.terminal/css/jquery.terminal.min.css\" rel=\"stylesheet\"/>\n",
              "<script>\n",
              "   $('#colab_shell').terminal(async function(command) {\n",
              "       if (command !== '') {\n",
              "           try {\n",
              "               let res = await google.colab.kernel.invokeFunction('shell', [command])\n",
              "               let out = res.data['application/json'][0]\n",
              "               this.echo(new String(out))\n",
              "           } catch(e) {\n",
              "               this.error(new String(e));\n",
              "           }\n",
              "       } else {\n",
              "           this.echo(\n",
              "             //   '>>Empty Command<<\\n'+\n",
              "             //   'If you can afford use Google Colab Pro'\n",
              "               );\n",
              "       }\n",
              "   }, {\n",
              "       greetings: 'Welcome to Google Colab Shell\\n'+\n",
              "         'If you can afford, please use Google Colab Pro ( https://colab.research.google.com/signup )\\n'+\n",
              "         '⭐ STAR the repo ⭐\\n https://github.com/singhsidhukuldeep/Google-Colab-Shell\\n\\n',\n",
              "       name: 'colab_shell',\n",
              "       height: 400,\n",
              "       prompt: '█$ colab>>\\t'\n",
              "   });\n",
              "</script>\n"
            ]
          },
          "metadata": {},
          "execution_count": 66
        }
      ]
    },
    {
      "cell_type": "markdown",
      "source": [
        "## Regular expressions\n",
        "\n",
        "*, ?, [], {}"
      ],
      "metadata": {
        "id": "6V8HWYnyMTeZ"
      }
    },
    {
      "cell_type": "code",
      "source": [
        "%%bash\n",
        "ls [a-z]*.csv\n",
        "pwd\n",
        "\n",
        "# wild cards\n",
        "touch file1.csv file2.csv\n",
        "ls {file1,file2}.csv"
      ],
      "metadata": {
        "colab": {
          "base_uri": "https://localhost:8080/"
        },
        "id": "pbcbQpRUxbG8",
        "outputId": "dc9269aa-c274-42ff-f8a5-55eaa68a457c"
      },
      "execution_count": 67,
      "outputs": [
        {
          "output_type": "stream",
          "name": "stdout",
          "text": [
            "file1.csv\n",
            "file2.csv\n",
            "/content\n",
            "file1.csv\n",
            "file2.csv\n"
          ]
        }
      ]
    },
    {
      "cell_type": "code",
      "metadata": {
        "id": "Zf6qND2dYn1H",
        "colab": {
          "base_uri": "https://localhost:8080/"
        },
        "outputId": "41c75788-7430-46ab-df03-5f26c176d474"
      },
      "source": [
        "!which bash"
      ],
      "execution_count": 68,
      "outputs": [
        {
          "output_type": "stream",
          "name": "stdout",
          "text": [
            "/usr/bin/bash\n"
          ]
        }
      ]
    },
    {
      "cell_type": "markdown",
      "source": [
        "# Redirection commands\n",
        "\n",
        "Standard files: stdin, stdout, stderr\n",
        "\n",
        "<, >, |"
      ],
      "metadata": {
        "id": "5GZp-kQkM6a2"
      }
    },
    {
      "cell_type": "code",
      "source": [
        "!ls -ltr | grep csv"
      ],
      "metadata": {
        "colab": {
          "base_uri": "https://localhost:8080/"
        },
        "id": "AmVyK-xnNKG8",
        "outputId": "df005246-f04c-42d7-f89b-515d9084ab8d"
      },
      "execution_count": 69,
      "outputs": [
        {
          "output_type": "stream",
          "name": "stdout",
          "text": [
            "-rw-r--r-- 1 root root      0 Aug  5 17:39 file2.csv\n",
            "-rw-r--r-- 1 root root      0 Aug  5 17:39 file1.csv\n"
          ]
        }
      ]
    },
    {
      "cell_type": "code",
      "metadata": {
        "id": "jN-dDK8eYYxj",
        "colab": {
          "base_uri": "https://localhost:8080/"
        },
        "outputId": "e43a96be-481b-4218-d4e9-dde52857418a"
      },
      "source": [
        "# create a script\n",
        "\n",
        "%%bash\n",
        "echo \"#!/bin/bash\" >> myscript.sh\n",
        "echo \"echo \\\"I am executing the script, myscript.sh\\\" \" >> myscript.sh\n",
        "echo \"pwd\" >> myscript.sh\n",
        "echo \"date\" >> myscript.sh\n",
        "echo\n"
      ],
      "execution_count": 70,
      "outputs": [
        {
          "output_type": "stream",
          "name": "stdout",
          "text": [
            "\n"
          ]
        }
      ]
    },
    {
      "cell_type": "code",
      "metadata": {
        "id": "gn2DvNvSZICy",
        "colab": {
          "base_uri": "https://localhost:8080/"
        },
        "outputId": "c3e8afa7-9b06-4837-bb6c-45d64a1283b4"
      },
      "source": [
        "!cat myscript.sh"
      ],
      "execution_count": 71,
      "outputs": [
        {
          "output_type": "stream",
          "name": "stdout",
          "text": [
            "#!/bin/bash\n",
            "echo \"I am executing the script, myscript.sh\" \n",
            "pwd\n",
            "date\n",
            "#!/bin/bash\n",
            "echo \"I am executing the script, myscript.sh\" \n",
            "pwd\n",
            "date\n",
            "#!/bin/bash\n",
            "echo \"I am executing the script, myscript.sh\" \n",
            "pwd\n",
            "date\n",
            "#!/bin/bash\n",
            "echo \"I am executing the script, myscript.sh\" \n",
            "pwd\n",
            "date\n"
          ]
        }
      ]
    },
    {
      "cell_type": "code",
      "metadata": {
        "id": "x0NrHoldZP2e",
        "colab": {
          "base_uri": "https://localhost:8080/"
        },
        "outputId": "1d7ea601-9397-4045-f8ff-3e4042c141fe"
      },
      "source": [
        "%%bash\n",
        "chmod +x ./myscript.sh\n",
        "./myscript.sh"
      ],
      "execution_count": 72,
      "outputs": [
        {
          "output_type": "stream",
          "name": "stdout",
          "text": [
            "I am executing the script, myscript.sh\n",
            "/content\n",
            "Sat Aug  5 05:39:53 PM UTC 2023\n",
            "I am executing the script, myscript.sh\n",
            "/content\n",
            "Sat Aug  5 05:39:53 PM UTC 2023\n",
            "I am executing the script, myscript.sh\n",
            "/content\n",
            "Sat Aug  5 05:39:53 PM UTC 2023\n",
            "I am executing the script, myscript.sh\n",
            "/content\n",
            "Sat Aug  5 05:39:53 PM UTC 2023\n"
          ]
        }
      ]
    },
    {
      "cell_type": "code",
      "metadata": {
        "id": "8Gg8J0bjzPfW",
        "colab": {
          "base_uri": "https://localhost:8080/"
        },
        "outputId": "5d83d0d6-6431-49e6-f765-9657fca1177a"
      },
      "source": [
        "%%bash\n",
        "var1=98\n",
        "echo \" var1 is set to:  \" $var1\n",
        "\n",
        "if [ \"${var1}\" -gt  2 ]\n",
        "then\n",
        "   echo \"Var1 is > 3\"\n",
        "else\n",
        "   echo \"Var1 is <= 3\"\n",
        "fi\n",
        "\n"
      ],
      "execution_count": 73,
      "outputs": [
        {
          "output_type": "stream",
          "name": "stdout",
          "text": [
            " var1 is set to:   98\n",
            "Var1 is > 3\n"
          ]
        }
      ]
    },
    {
      "cell_type": "code",
      "metadata": {
        "id": "96FJ74Xh1Z1t",
        "colab": {
          "base_uri": "https://localhost:8080/"
        },
        "outputId": "f59c4017-a6f5-4ac5-ac08-8bfc753e8e57"
      },
      "source": [
        "%%bash\n",
        "cd /content\n",
        "pwd\n",
        "mkdir -p test\n",
        "cd test\n",
        "touch Ravi.txt\n",
        "pwd\n",
        "cd ..\n",
        "\n",
        "pwd"
      ],
      "execution_count": 74,
      "outputs": [
        {
          "output_type": "stream",
          "name": "stdout",
          "text": [
            "/content\n",
            "/content/test\n",
            "/content\n"
          ]
        }
      ]
    },
    {
      "cell_type": "code",
      "metadata": {
        "id": "suRmWqDXauWF"
      },
      "source": [
        "%%bash\n",
        "cd"
      ],
      "execution_count": 75,
      "outputs": []
    },
    {
      "cell_type": "code",
      "metadata": {
        "id": "C6Z3aSw_a0-H",
        "colab": {
          "base_uri": "https://localhost:8080/"
        },
        "outputId": "4c16a1de-f3e3-41fa-a550-0de541becebb"
      },
      "source": [
        "!pwd"
      ],
      "execution_count": 76,
      "outputs": [
        {
          "output_type": "stream",
          "name": "stdout",
          "text": [
            "/content\n"
          ]
        }
      ]
    },
    {
      "cell_type": "code",
      "metadata": {
        "id": "U7OIsUWl2Ijv",
        "colab": {
          "base_uri": "https://localhost:8080/"
        },
        "outputId": "a92dbbe9-705e-41a2-e4e0-5f6eea3900ce"
      },
      "source": [
        "%%bash\n",
        "\n",
        "ls\n",
        "\n",
        "ls -l -f\n"
      ],
      "execution_count": 77,
      "outputs": [
        {
          "output_type": "stream",
          "name": "stdout",
          "text": [
            "2src.pdb.1\n",
            "2src.pdb.2\n",
            "7lyzAllATOM.pdb\n",
            "7lyzATOM.pdb\n",
            "7lyz.pdb\n",
            "7lyz.pdb.1\n",
            "7lyz.pdb.2\n",
            "7lyz.pdb.3\n",
            "7lyz.pdb.4\n",
            "7lyz.pdb.5\n",
            "7lyz.pdb.6\n",
            "7lyz.pdb.7\n",
            "7lyz.pdb.8\n",
            "config.txt\n",
            "file1.csv\n",
            "file2.csv\n",
            "HitsFile.txt\n",
            "ids.txt\n",
            "myscript1.sh\n",
            "myscript2.sh\n",
            "myscript.sh\n",
            "new_file.txt\n",
            "sample_data\n",
            "test\n",
            ".config\n",
            ".\n",
            "..\n",
            "7lyz.pdb.2\n",
            "ids.txt\n",
            "7lyz.pdb.1\n",
            "test\n",
            "config.txt\n",
            "7lyzATOM.pdb\n",
            "file1.csv\n",
            "myscript.sh\n",
            "2src.pdb.2\n",
            "myscript2.sh\n",
            "7lyz.pdb\n",
            "7lyz.pdb.3\n",
            "7lyz.pdb.5\n",
            "new_file.txt\n",
            "7lyz.pdb.6\n",
            "2src.pdb.1\n",
            "myscript1.sh\n",
            "HitsFile.txt\n",
            "7lyz.pdb.8\n",
            "7lyzAllATOM.pdb\n",
            "7lyz.pdb.4\n",
            "7lyz.pdb.7\n",
            "file2.csv\n",
            "sample_data\n"
          ]
        }
      ]
    },
    {
      "cell_type": "code",
      "metadata": {
        "id": "r7XwQjoPc-A_",
        "colab": {
          "base_uri": "https://localhost:8080/"
        },
        "outputId": "054fd337-2b11-4575-9254-6f9955f76f6e"
      },
      "source": [
        "%%bash\n",
        "cat > ids.txt <<EOL\n",
        "A\n",
        "B\n",
        "C\n",
        "EOL\n",
        "\n",
        "cat ids.txt"
      ],
      "execution_count": 78,
      "outputs": [
        {
          "output_type": "stream",
          "name": "stdout",
          "text": [
            "A\n",
            "B\n",
            "C\n"
          ]
        }
      ]
    },
    {
      "cell_type": "code",
      "metadata": {
        "id": "JcmT7pQreXdC",
        "colab": {
          "base_uri": "https://localhost:8080/"
        },
        "outputId": "43244e7a-810b-4563-f12e-1863f51880fe"
      },
      "source": [
        "!which parallel"
      ],
      "execution_count": 79,
      "outputs": [
        {
          "output_type": "stream",
          "name": "stdout",
          "text": [
            "/usr/bin/parallel\n"
          ]
        }
      ]
    },
    {
      "cell_type": "code",
      "metadata": {
        "id": "iEBnbrape1A-",
        "colab": {
          "base_uri": "https://localhost:8080/"
        },
        "outputId": "4df07d02-34c5-4fa3-a271-3aff6e3a310f"
      },
      "source": [
        "!cat ids.txt"
      ],
      "execution_count": 80,
      "outputs": [
        {
          "output_type": "stream",
          "name": "stdout",
          "text": [
            "A\n",
            "B\n",
            "C\n"
          ]
        }
      ]
    },
    {
      "cell_type": "code",
      "metadata": {
        "id": "odgHCiaughMK",
        "colab": {
          "base_uri": "https://localhost:8080/"
        },
        "outputId": "26c99dc8-dde6-4ad8-df9f-3b2a71cd5ab2"
      },
      "source": [
        "! parallel -j 3 -- ls df \"echo hi\""
      ],
      "execution_count": 81,
      "outputs": [
        {
          "output_type": "stream",
          "name": "stdout",
          "text": [
            "hi\n",
            "Filesystem     1K-blocks     Used Available Use% Mounted on\n",
            "overlay        112947452 26120252  86810816  24% /\n",
            "tmpfs              65536        0     65536   0% /dev\n",
            "shm              5988352        0   5988352   0% /dev/shm\n",
            "/dev/root        2003760  1095616    908144  55% /usr/sbin/docker-init\n",
            "tmpfs            6647124     1820   6645304   1% /var/colab\n",
            "/dev/sda1       73032084 54295216  18720484  75% /etc/hosts\n",
            "tmpfs            6647124        0   6647124   0% /proc/acpi\n",
            "tmpfs            6647124        0   6647124   0% /proc/scsi\n",
            "tmpfs            6647124        0   6647124   0% /sys/firmware\n",
            "2src.pdb.1\n",
            "2src.pdb.2\n",
            "7lyzAllATOM.pdb\n",
            "7lyzATOM.pdb\n",
            "7lyz.pdb\n",
            "7lyz.pdb.1\n",
            "7lyz.pdb.2\n",
            "7lyz.pdb.3\n",
            "7lyz.pdb.4\n",
            "7lyz.pdb.5\n",
            "7lyz.pdb.6\n",
            "7lyz.pdb.7\n",
            "7lyz.pdb.8\n",
            "config.txt\n",
            "file1.csv\n",
            "file2.csv\n",
            "HitsFile.txt\n",
            "ids.txt\n",
            "myscript1.sh\n",
            "myscript2.sh\n",
            "myscript.sh\n",
            "new_file.txt\n",
            "sample_data\n",
            "test\n"
          ]
        }
      ]
    },
    {
      "cell_type": "code",
      "metadata": {
        "id": "NPKP1VIaeI7F"
      },
      "source": [
        "%%bash\n",
        "cat ids.txt | parallel \"echo foo {} \\| bar \\> {}.txt\""
      ],
      "execution_count": 82,
      "outputs": []
    },
    {
      "cell_type": "code",
      "metadata": {
        "id": "gVWNcRBPfKW5",
        "colab": {
          "base_uri": "https://localhost:8080/"
        },
        "outputId": "931e766f-a78b-4821-93f2-15da3334f5d1"
      },
      "source": [
        "%%bash\n",
        "NAME=Sam\n",
        "\n",
        "# Strings with double quotes or no quotes will be substituted\n",
        "echo Welcome $NAME\n",
        "echo \"Welcome $NAME\"\n",
        "\n",
        "# strings with single quote will be produced as such\n",
        "echo 'Welcome $NAME'"
      ],
      "execution_count": 83,
      "outputs": [
        {
          "output_type": "stream",
          "name": "stdout",
          "text": [
            "Welcome Sam\n",
            "Welcome Sam\n",
            "Welcome $NAME\n"
          ]
        }
      ]
    },
    {
      "cell_type": "markdown",
      "metadata": {
        "id": "4VTtd-45l-Tb"
      },
      "source": [
        "Rather than using explicit names, use variable names as proxy for creating efficient scripts"
      ]
    },
    {
      "cell_type": "code",
      "metadata": {
        "id": "ANgK8403leCF",
        "colab": {
          "base_uri": "https://localhost:8080/"
        },
        "outputId": "11cb4338-8876-4c22-8a62-a282467624d5"
      },
      "source": [
        "%%bash\n",
        "wget http://www.rcsb.org/pdb/files/7lyz.pdb >& /dev/null\n",
        "\n",
        "head 7lyz.pdb\n"
      ],
      "execution_count": 84,
      "outputs": [
        {
          "output_type": "stream",
          "name": "stdout",
          "text": [
            "HEADER    HYDROLASE(O-GLYCOSYL)                   06-MAY-77   7LYZ              \n",
            "TITLE     PROTEIN MODEL BUILDING BY THE USE OF A CONSTRAINED-                   \n",
            "TITLE    2 RESTRAINED LEAST-SQUARES PROCEDURE                                   \n",
            "COMPND    MOL_ID: 1;                                                            \n",
            "COMPND   2 MOLECULE: HEN EGG WHITE LYSOZYME;                                    \n",
            "COMPND   3 CHAIN: A;                                                            \n",
            "COMPND   4 EC: 3.2.1.17;                                                        \n",
            "COMPND   5 ENGINEERED: YES                                                      \n",
            "SOURCE    MOL_ID: 1;                                                            \n",
            "SOURCE   2 ORGANISM_SCIENTIFIC: GALLUS GALLUS;                                  \n"
          ]
        }
      ]
    },
    {
      "cell_type": "code",
      "metadata": {
        "id": "vbO9oJHHk1HD",
        "colab": {
          "base_uri": "https://localhost:8080/"
        },
        "outputId": "ef0c3feb-d710-41b9-db1d-ca3cbe2549a0"
      },
      "source": [
        "%%bash\n",
        "PDB_ID=7lyz\n",
        "wget http://www.rcsb.org/pdb/files/${PDB_ID}.pdb >& /dev/null\n",
        "head ${PDB_ID}.pdb"
      ],
      "execution_count": 85,
      "outputs": [
        {
          "output_type": "stream",
          "name": "stdout",
          "text": [
            "HEADER    HYDROLASE(O-GLYCOSYL)                   06-MAY-77   7LYZ              \n",
            "TITLE     PROTEIN MODEL BUILDING BY THE USE OF A CONSTRAINED-                   \n",
            "TITLE    2 RESTRAINED LEAST-SQUARES PROCEDURE                                   \n",
            "COMPND    MOL_ID: 1;                                                            \n",
            "COMPND   2 MOLECULE: HEN EGG WHITE LYSOZYME;                                    \n",
            "COMPND   3 CHAIN: A;                                                            \n",
            "COMPND   4 EC: 3.2.1.17;                                                        \n",
            "COMPND   5 ENGINEERED: YES                                                      \n",
            "SOURCE    MOL_ID: 1;                                                            \n",
            "SOURCE   2 ORGANISM_SCIENTIFIC: GALLUS GALLUS;                                  \n"
          ]
        }
      ]
    },
    {
      "cell_type": "markdown",
      "metadata": {
        "id": "_4AO32dSnNMJ"
      },
      "source": [
        "# Script typos will not make the script stop"
      ]
    },
    {
      "cell_type": "code",
      "metadata": {
        "id": "oz6x0mPXpE2u"
      },
      "source": [
        "%%bash\n",
        "rm -f myscript1.sh\n",
        "\n",
        "cat > myscript1.sh <<EOL\n",
        "#!/bin/bash\n",
        "echo I am executing myscript1.sh\n",
        "du -h\n",
        "pwd\n",
        "ls -l\n",
        "echo Script successfully completed\n",
        "EOL"
      ],
      "execution_count": 86,
      "outputs": []
    },
    {
      "cell_type": "code",
      "metadata": {
        "id": "5-sgDTqrwDCQ",
        "colab": {
          "base_uri": "https://localhost:8080/"
        },
        "outputId": "343e7302-6d85-4037-8a8a-75862cc92f70"
      },
      "source": [
        "%%bash\n",
        "chmod +x ./myscript1.sh\n",
        "./myscript1.sh"
      ],
      "execution_count": 87,
      "outputs": [
        {
          "output_type": "stream",
          "name": "stdout",
          "text": [
            "I am executing myscript1.sh\n",
            "8.0K\t./.config/configurations\n",
            "72K\t./.config/logs/2023.08.03\n",
            "76K\t./.config/logs\n",
            "120K\t./.config\n",
            "4.0K\t./test\n",
            "55M\t./sample_data\n",
            "57M\t.\n",
            "/content\n",
            "total 2028\n",
            "-rw-r--r-- 1 root root 353889 Aug  5 17:38 2src.pdb.1\n",
            "-rw-r--r-- 1 root root 353889 Aug  5 17:38 2src.pdb.2\n",
            "-rw-r--r-- 1 root root  81567 Aug  5 17:38 7lyzAllATOM.pdb\n",
            "-rw-r--r-- 1 root root  81000 Aug  5 17:38 7lyzATOM.pdb\n",
            "-rw-r--r-- 1 root root 103275 Aug  5 17:25 7lyz.pdb\n",
            "-rw-r--r-- 1 root root 103275 Aug  5 17:25 7lyz.pdb.1\n",
            "-rw-r--r-- 1 root root 103275 Aug  5 17:39 7lyz.pdb.10\n",
            "-rw-r--r-- 1 root root 103275 Aug  5 17:35 7lyz.pdb.2\n",
            "-rw-r--r-- 1 root root 103275 Aug  5 17:35 7lyz.pdb.3\n",
            "-rw-r--r-- 1 root root 103275 Aug  5 17:38 7lyz.pdb.4\n",
            "-rw-r--r-- 1 root root 103275 Aug  5 17:38 7lyz.pdb.5\n",
            "-rw-r--r-- 1 root root 103275 Aug  5 17:38 7lyz.pdb.6\n",
            "-rw-r--r-- 1 root root 103275 Aug  5 17:38 7lyz.pdb.7\n",
            "-rw-r--r-- 1 root root 103275 Aug  5 17:38 7lyz.pdb.8\n",
            "-rw-r--r-- 1 root root 103275 Aug  5 17:39 7lyz.pdb.9\n",
            "-rw-r--r-- 1 root root     34 Aug  5 17:38 config.txt\n",
            "-rw-r--r-- 1 root root      0 Aug  5 17:39 file1.csv\n",
            "-rw-r--r-- 1 root root      0 Aug  5 17:39 file2.csv\n",
            "-rw-r--r-- 1 root root      0 Aug  5 17:38 HitsFile.txt\n",
            "-rw-r--r-- 1 root root      6 Aug  5 17:39 ids.txt\n",
            "-rwxr-xr-x 1 root root     99 Aug  5 17:39 myscript1.sh\n",
            "-rwxr-xr-x 1 root root    196 Aug  5 17:38 myscript2.sh\n",
            "-rwxr-xr-x 1 root root    272 Aug  5 17:39 myscript.sh\n",
            "-rw-r--r-- 1 root root      0 Aug  5 17:38 new_file.txt\n",
            "drwxr-xr-x 1 root root   4096 Aug  3 13:45 sample_data\n",
            "drwxr-xr-x 2 root root   4096 Aug  5 17:25 test\n",
            "Script successfully completed\n"
          ]
        }
      ]
    },
    {
      "cell_type": "markdown",
      "metadata": {
        "id": "De76QC3dqiYb"
      },
      "source": [
        "# Use \"set -ue\" to catch any errors"
      ]
    },
    {
      "cell_type": "code",
      "metadata": {
        "id": "4SPnRmF_w57A"
      },
      "source": [
        "%%bash\n",
        "rm -f myscript1.sh\n",
        "\n",
        "cat > myscript1.sh <<EOL\n",
        "#!/bin/bash\n",
        "set -ue\n",
        "echo I am executing myscript1.sh\n",
        "du -h\n",
        "pwd\n",
        "ls -l\n",
        "echo Script successfully completed\n",
        "EOL"
      ],
      "execution_count": 88,
      "outputs": []
    },
    {
      "cell_type": "code",
      "source": [
        "!ls"
      ],
      "metadata": {
        "colab": {
          "base_uri": "https://localhost:8080/"
        },
        "id": "vj7-MFO7w04X",
        "outputId": "ba1bd47c-80ab-46a6-ee3b-e66ce6727e88"
      },
      "execution_count": 89,
      "outputs": [
        {
          "output_type": "stream",
          "name": "stdout",
          "text": [
            "2src.pdb.1\t 7lyz.pdb.1   7lyz.pdb.5  config.txt\tmyscript1.sh  test\n",
            "2src.pdb.2\t 7lyz.pdb.10  7lyz.pdb.6  file1.csv\tmyscript2.sh\n",
            "7lyzAllATOM.pdb  7lyz.pdb.2   7lyz.pdb.7  file2.csv\tmyscript.sh\n",
            "7lyzATOM.pdb\t 7lyz.pdb.3   7lyz.pdb.8  HitsFile.txt\tnew_file.txt\n",
            "7lyz.pdb\t 7lyz.pdb.4   7lyz.pdb.9  ids.txt\tsample_data\n"
          ]
        }
      ]
    },
    {
      "cell_type": "code",
      "metadata": {
        "id": "44l85rRZoCn7",
        "colab": {
          "base_uri": "https://localhost:8080/"
        },
        "outputId": "0ec5e6b6-0432-4d5e-f331-32d0619b6b0b"
      },
      "source": [
        "%%bash\n",
        "chmod +x ./myscript1.sh\n",
        "./myscript1.sh"
      ],
      "execution_count": 90,
      "outputs": [
        {
          "output_type": "stream",
          "name": "stdout",
          "text": [
            "I am executing myscript1.sh\n",
            "8.0K\t./.config/configurations\n",
            "72K\t./.config/logs/2023.08.03\n",
            "76K\t./.config/logs\n",
            "120K\t./.config\n",
            "4.0K\t./test\n",
            "55M\t./sample_data\n",
            "57M\t.\n",
            "/content\n",
            "total 2028\n",
            "-rw-r--r-- 1 root root 353889 Aug  5 17:38 2src.pdb.1\n",
            "-rw-r--r-- 1 root root 353889 Aug  5 17:38 2src.pdb.2\n",
            "-rw-r--r-- 1 root root  81567 Aug  5 17:38 7lyzAllATOM.pdb\n",
            "-rw-r--r-- 1 root root  81000 Aug  5 17:38 7lyzATOM.pdb\n",
            "-rw-r--r-- 1 root root 103275 Aug  5 17:25 7lyz.pdb\n",
            "-rw-r--r-- 1 root root 103275 Aug  5 17:25 7lyz.pdb.1\n",
            "-rw-r--r-- 1 root root 103275 Aug  5 17:39 7lyz.pdb.10\n",
            "-rw-r--r-- 1 root root 103275 Aug  5 17:35 7lyz.pdb.2\n",
            "-rw-r--r-- 1 root root 103275 Aug  5 17:35 7lyz.pdb.3\n",
            "-rw-r--r-- 1 root root 103275 Aug  5 17:38 7lyz.pdb.4\n",
            "-rw-r--r-- 1 root root 103275 Aug  5 17:38 7lyz.pdb.5\n",
            "-rw-r--r-- 1 root root 103275 Aug  5 17:38 7lyz.pdb.6\n",
            "-rw-r--r-- 1 root root 103275 Aug  5 17:38 7lyz.pdb.7\n",
            "-rw-r--r-- 1 root root 103275 Aug  5 17:38 7lyz.pdb.8\n",
            "-rw-r--r-- 1 root root 103275 Aug  5 17:39 7lyz.pdb.9\n",
            "-rw-r--r-- 1 root root     34 Aug  5 17:38 config.txt\n",
            "-rw-r--r-- 1 root root      0 Aug  5 17:39 file1.csv\n",
            "-rw-r--r-- 1 root root      0 Aug  5 17:39 file2.csv\n",
            "-rw-r--r-- 1 root root      0 Aug  5 17:38 HitsFile.txt\n",
            "-rw-r--r-- 1 root root      6 Aug  5 17:39 ids.txt\n",
            "-rwxr-xr-x 1 root root    107 Aug  5 17:39 myscript1.sh\n",
            "-rwxr-xr-x 1 root root    196 Aug  5 17:38 myscript2.sh\n",
            "-rwxr-xr-x 1 root root    272 Aug  5 17:39 myscript.sh\n",
            "-rw-r--r-- 1 root root      0 Aug  5 17:38 new_file.txt\n",
            "drwxr-xr-x 1 root root   4096 Aug  3 13:45 sample_data\n",
            "drwxr-xr-x 2 root root   4096 Aug  5 17:25 test\n",
            "Script successfully completed\n"
          ]
        }
      ]
    },
    {
      "cell_type": "markdown",
      "metadata": {
        "id": "BBDjCcbqrAB1"
      },
      "source": [
        "# pass variables"
      ]
    },
    {
      "cell_type": "code",
      "metadata": {
        "id": "DAdzHVCKx3a7"
      },
      "source": [
        "%%bash\n",
        "rm -f myscript2.sh\n",
        "\n",
        "cat > myscript2.sh <<EOL\n",
        "#!/bin/bash\n",
        "echo I am executing myscript2.sh\n",
        "set -ue\n",
        "\n",
        "filea=\\$1\n",
        "fileb=\\$2\n",
        "wget http://www.rcsb.org/pdb/files/\\${filea}.pdb >& /dev/null\n",
        "wget http://www.rcsb.org/pdb/files/\\${fileb}.pdb >& /dev/null\n",
        "EOL"
      ],
      "execution_count": 91,
      "outputs": []
    },
    {
      "cell_type": "code",
      "metadata": {
        "id": "sxukLwp1yZFG",
        "colab": {
          "base_uri": "https://localhost:8080/"
        },
        "outputId": "a5f21f0f-8588-4a46-8488-17cfcf4cdb45"
      },
      "source": [
        "%%bash\n",
        "chmod +x ./myscript2.sh\n",
        "./myscript2.sh 7lyz 2src"
      ],
      "execution_count": 92,
      "outputs": [
        {
          "output_type": "stream",
          "name": "stdout",
          "text": [
            "I am executing myscript2.sh\n"
          ]
        }
      ]
    },
    {
      "cell_type": "code",
      "metadata": {
        "id": "HL6Bsx9ntTRP",
        "colab": {
          "base_uri": "https://localhost:8080/"
        },
        "outputId": "84b03272-2465-4cce-e005-94210ece333c"
      },
      "source": [
        "! ./myscript2.sh 7lyz 2src"
      ],
      "execution_count": 93,
      "outputs": [
        {
          "output_type": "stream",
          "name": "stdout",
          "text": [
            "I am executing myscript2.sh\n"
          ]
        }
      ]
    },
    {
      "cell_type": "code",
      "metadata": {
        "id": "Jxb9Au0n1mzN",
        "colab": {
          "base_uri": "https://localhost:8080/"
        },
        "outputId": "6bfb38a1-b767-48a1-d28c-5260473befcf"
      },
      "source": [
        "%%bash\n",
        "\n",
        "for i in *.pdb; do\n",
        "  echo $i\n",
        "done"
      ],
      "execution_count": 94,
      "outputs": [
        {
          "output_type": "stream",
          "name": "stdout",
          "text": [
            "2src.pdb\n",
            "7lyzAllATOM.pdb\n",
            "7lyzATOM.pdb\n",
            "7lyz.pdb\n"
          ]
        }
      ]
    },
    {
      "cell_type": "code",
      "metadata": {
        "id": "-UzyYonp2Mk5"
      },
      "source": [
        "%%bash\n",
        "\n",
        "cat ids.txt | parallel echo Hello {}"
      ],
      "execution_count": 95,
      "outputs": []
    },
    {
      "cell_type": "markdown",
      "metadata": {
        "id": "_Xrapbx12mG1"
      },
      "source": [
        "## Help"
      ]
    },
    {
      "cell_type": "code",
      "metadata": {
        "id": "xfb9f3ry2g8w"
      },
      "source": [
        "man ls"
      ],
      "execution_count": 96,
      "outputs": []
    },
    {
      "cell_type": "code",
      "metadata": {
        "id": "ucUY1QHD25nI"
      },
      "source": [
        "%%bash\n",
        "wget http://www.rcsb.org/pdb/files/7lyz.pdb >& /dev/null"
      ],
      "execution_count": 97,
      "outputs": []
    },
    {
      "cell_type": "code",
      "metadata": {
        "id": "Yil2SEv7b-OJ",
        "colab": {
          "base_uri": "https://localhost:8080/"
        },
        "outputId": "c48d579d-b10c-4136-8e83-6fce9259f533"
      },
      "source": [
        "!tail 7lyz.pdb"
      ],
      "execution_count": 98,
      "outputs": [
        {
          "output_type": "stream",
          "name": "stdout",
          "text": [
            "CONECT   48  981                                                                \n",
            "CONECT  238  889                                                                \n",
            "CONECT  513  630                                                                \n",
            "CONECT  601  724                                                                \n",
            "CONECT  630  513                                                                \n",
            "CONECT  724  601                                                                \n",
            "CONECT  889  238                                                                \n",
            "CONECT  981   48                                                                \n",
            "MASTER      200    0    0    7    5    0    0    6 1000    1    8   10          \n",
            "END                                                                             \n"
          ]
        }
      ]
    },
    {
      "cell_type": "code",
      "metadata": {
        "id": "fG1GlDrqbtYR"
      },
      "source": [
        "%%bash\n",
        "cat 7lyz.pdb | grep \"ATOM\"  > 7lyzAllATOM.pdb\n",
        "cat 7lyz.pdb | grep \"^ATOM\" > 7lyzATOM.pdb"
      ],
      "execution_count": 99,
      "outputs": []
    },
    {
      "cell_type": "code",
      "metadata": {
        "id": "QJWxmSO8btSB",
        "colab": {
          "base_uri": "https://localhost:8080/"
        },
        "outputId": "fc09aa59-ba93-4564-9df9-dfddf16c8572"
      },
      "source": [
        "!tail 7lyzATOM.pdb"
      ],
      "execution_count": 100,
      "outputs": [
        {
          "output_type": "stream",
          "name": "stdout",
          "text": [
            "ATOM    991  NH1 ARG A 128     -11.338  18.534  -0.456  1.00  0.00           N  \n",
            "ATOM    992  NH2 ARG A 128     -11.089  20.570   0.601  1.00  0.00           N  \n",
            "ATOM    993  N   LEU A 129     -15.924  20.234   5.720  1.00  0.00           N  \n",
            "ATOM    994  CA  LEU A 129     -15.940  20.178   7.186  1.00  0.00           C  \n",
            "ATOM    995  C   LEU A 129     -17.401  20.237   7.574  1.00  0.00           C  \n",
            "ATOM    996  O   LEU A 129     -18.246  20.723   6.800  1.00  0.00           O  \n",
            "ATOM    997  CB  LEU A 129     -15.165  21.349   7.787  1.00  0.00           C  \n",
            "ATOM    998  CG  LEU A 129     -13.668  21.334   7.483  1.00  0.00           C  \n",
            "ATOM    999  CD1 LEU A 129     -12.937  22.555   8.033  1.00  0.00           C  \n",
            "ATOM   1000  CD2 LEU A 129     -13.023  20.057   7.984  1.00  0.00           C  \n"
          ]
        }
      ]
    },
    {
      "cell_type": "code",
      "metadata": {
        "id": "Fzn3C3NX3Acc"
      },
      "source": [
        "more 7lyz.pdb"
      ],
      "execution_count": 101,
      "outputs": []
    },
    {
      "cell_type": "code",
      "metadata": {
        "id": "gFLxtvMQ3VuW",
        "colab": {
          "base_uri": "https://localhost:8080/"
        },
        "outputId": "9b7d85db-e3a0-42ee-8a41-b8593310be20"
      },
      "source": [
        "%%bash\n",
        "wget http://www.rcsb.org/pdb/files/2src.pdb"
      ],
      "execution_count": 102,
      "outputs": [
        {
          "output_type": "stream",
          "name": "stderr",
          "text": [
            "URL transformed to HTTPS due to an HSTS policy\n",
            "--2023-08-05 17:39:59--  https://www.rcsb.org/pdb/files/2src.pdb\n",
            "Resolving www.rcsb.org (www.rcsb.org)... 128.6.159.248\n",
            "Connecting to www.rcsb.org (www.rcsb.org)|128.6.159.248|:443... connected.\n",
            "HTTP request sent, awaiting response... 301 Moved Permanently\n",
            "Location: https://files.rcsb.org/download/2src.pdb [following]\n",
            "--2023-08-05 17:39:59--  https://files.rcsb.org/download/2src.pdb\n",
            "Resolving files.rcsb.org (files.rcsb.org)... 132.249.210.234\n",
            "Connecting to files.rcsb.org (files.rcsb.org)|132.249.210.234|:443... connected.\n",
            "HTTP request sent, awaiting response... 200 OK\n",
            "Length: unspecified [application/octet-stream]\n",
            "Saving to: ‘2src.pdb.4’\n",
            "\n",
            "     0K .......... .......... .......... .......... ..........  492K\n",
            "    50K .......... .......... .......... .......... ..........  975K\n",
            "   100K .......... .......... .......... .......... .......... 35.3M\n",
            "   150K .......... .......... .......... .......... .......... 45.1M\n",
            "   200K .......... .......... .......... .......... .......... 1006K\n",
            "   250K .......... .......... .......... .......... .......... 41.5M\n",
            "   300K .......... .......... .......... .......... .....      46.1M=0.2s\n",
            "\n",
            "2023-08-05 17:39:59 (1.63 MB/s) - ‘2src.pdb.4’ saved [353889]\n",
            "\n"
          ]
        }
      ]
    },
    {
      "cell_type": "code",
      "metadata": {
        "id": "lJ59wMKP3lY4"
      },
      "source": [
        "!mv 2src.pdb 2src.PDB"
      ],
      "execution_count": 103,
      "outputs": []
    },
    {
      "cell_type": "code",
      "metadata": {
        "id": "t0uPriHI3pr7",
        "colab": {
          "base_uri": "https://localhost:8080/"
        },
        "outputId": "4383370a-69d1-4b30-9516-5f0f22ab176f"
      },
      "source": [
        "!ls -l\n"
      ],
      "execution_count": 104,
      "outputs": [
        {
          "output_type": "stream",
          "name": "stdout",
          "text": [
            "total 3384\n",
            "-rw-r--r-- 1 root root 353889 Aug  5 17:39 2src.PDB\n",
            "-rw-r--r-- 1 root root 353889 Aug  5 17:38 2src.pdb.1\n",
            "-rw-r--r-- 1 root root 353889 Aug  5 17:38 2src.pdb.2\n",
            "-rw-r--r-- 1 root root 353889 Aug  5 17:39 2src.pdb.3\n",
            "-rw-r--r-- 1 root root 353889 Aug  5 17:39 2src.pdb.4\n",
            "-rw-r--r-- 1 root root  81567 Aug  5 17:39 7lyzAllATOM.pdb\n",
            "-rw-r--r-- 1 root root  81000 Aug  5 17:39 7lyzATOM.pdb\n",
            "-rw-r--r-- 1 root root 103275 Aug  5 17:25 7lyz.pdb\n",
            "-rw-r--r-- 1 root root 103275 Aug  5 17:25 7lyz.pdb.1\n",
            "-rw-r--r-- 1 root root 103275 Aug  5 17:39 7lyz.pdb.10\n",
            "-rw-r--r-- 1 root root 103275 Aug  5 17:39 7lyz.pdb.11\n",
            "-rw-r--r-- 1 root root 103275 Aug  5 17:39 7lyz.pdb.12\n",
            "-rw-r--r-- 1 root root 103275 Aug  5 17:39 7lyz.pdb.13\n",
            "-rw-r--r-- 1 root root 103275 Aug  5 17:35 7lyz.pdb.2\n",
            "-rw-r--r-- 1 root root 103275 Aug  5 17:35 7lyz.pdb.3\n",
            "-rw-r--r-- 1 root root 103275 Aug  5 17:38 7lyz.pdb.4\n",
            "-rw-r--r-- 1 root root 103275 Aug  5 17:38 7lyz.pdb.5\n",
            "-rw-r--r-- 1 root root 103275 Aug  5 17:38 7lyz.pdb.6\n",
            "-rw-r--r-- 1 root root 103275 Aug  5 17:38 7lyz.pdb.7\n",
            "-rw-r--r-- 1 root root 103275 Aug  5 17:38 7lyz.pdb.8\n",
            "-rw-r--r-- 1 root root 103275 Aug  5 17:39 7lyz.pdb.9\n",
            "-rw-r--r-- 1 root root     34 Aug  5 17:38 config.txt\n",
            "-rw-r--r-- 1 root root      0 Aug  5 17:39 file1.csv\n",
            "-rw-r--r-- 1 root root      0 Aug  5 17:39 file2.csv\n",
            "-rw-r--r-- 1 root root      0 Aug  5 17:38 HitsFile.txt\n",
            "-rw-r--r-- 1 root root      6 Aug  5 17:39 ids.txt\n",
            "-rwxr-xr-x 1 root root    107 Aug  5 17:39 myscript1.sh\n",
            "-rwxr-xr-x 1 root root    196 Aug  5 17:39 myscript2.sh\n",
            "-rwxr-xr-x 1 root root    272 Aug  5 17:39 myscript.sh\n",
            "-rw-r--r-- 1 root root      0 Aug  5 17:38 new_file.txt\n",
            "drwxr-xr-x 1 root root   4096 Aug  3 13:45 sample_data\n",
            "drwxr-xr-x 2 root root   4096 Aug  5 17:25 test\n"
          ]
        }
      ]
    },
    {
      "cell_type": "code",
      "metadata": {
        "id": "FfvD8A0Z3qj9"
      },
      "source": [
        "!rm -f 2src.PDB"
      ],
      "execution_count": 105,
      "outputs": []
    },
    {
      "cell_type": "code",
      "metadata": {
        "id": "hcs_xP2S3xOH",
        "colab": {
          "base_uri": "https://localhost:8080/"
        },
        "outputId": "372e80b3-eff9-4a24-de64-b64780d02794"
      },
      "source": [
        "!ls -l 2src.PDB"
      ],
      "execution_count": 106,
      "outputs": [
        {
          "output_type": "stream",
          "name": "stdout",
          "text": [
            "ls: cannot access '2src.PDB': No such file or directory\n"
          ]
        }
      ]
    },
    {
      "cell_type": "code",
      "metadata": {
        "id": "kAcZCWVJ35fB"
      },
      "source": [
        "!touch new_file.txt\n"
      ],
      "execution_count": 107,
      "outputs": []
    },
    {
      "cell_type": "code",
      "metadata": {
        "id": "tz-9bCse39PZ",
        "colab": {
          "base_uri": "https://localhost:8080/"
        },
        "outputId": "821a4921-6309-4df9-ab90-b65a4cd0a2b6"
      },
      "source": [
        "!ls -l new_file.txt"
      ],
      "execution_count": 108,
      "outputs": [
        {
          "output_type": "stream",
          "name": "stdout",
          "text": [
            "-rw-r--r-- 1 root root 0 Aug  5 17:39 new_file.txt\n"
          ]
        }
      ]
    },
    {
      "cell_type": "code",
      "metadata": {
        "id": "T6HHKaIK4BJw"
      },
      "source": [
        "!find /content -name edirect"
      ],
      "execution_count": 109,
      "outputs": []
    },
    {
      "cell_type": "code",
      "metadata": {
        "id": "m86ngp5H4Eb9",
        "colab": {
          "base_uri": "https://localhost:8080/"
        },
        "outputId": "82f10c10-5b21-41a8-8768-6d43e5182809"
      },
      "source": [
        "!cat 7lyz.pdb | grep CA\n"
      ],
      "execution_count": 110,
      "outputs": [
        {
          "output_type": "stream",
          "name": "stdout",
          "text": [
            "REMARK   1  PUBL   NATIONAL BIOMEDICAL RESEARCH FOUNDATION, SILVER              \n",
            "REMARK 200  DATA SCALING SOFTWARE          : NULL                               \n",
            "REMARK 290 RECORDS IN THIS ENTRY TO PRODUCE CRYSTALLOGRAPHICALLY                \n",
            "REMARK 350 BIOLOGICALLY SIGNIFICANT OLIGOMERIZATION STATE OF THE                \n",
            "REMARK 350 MOLECULE CAN BE GENERATED BY APPLYING BIOMT TRANSFORMATIONS          \n",
            "REMARK 350 AUTHOR DETERMINED BIOLOGICAL UNIT: MONOMERIC                         \n",
            "SCALE1      0.036496  0.014745  0.013266        0.00000                         \n",
            "SCALE2      0.000000  0.033810  0.003113        0.00000                         \n",
            "SCALE3      0.000000  0.000000  0.030695        0.00000                         \n",
            "ATOM      2  CA  LYS A   1       2.413  10.425   9.258  1.00  0.00           C  \n",
            "ATOM     11  CA  VAL A   2       2.363  13.781   7.464  1.00  0.00           C  \n",
            "ATOM     18  CA  PHE A   3      -1.078  15.390   7.136  1.00  0.00           C  \n",
            "ATOM     29  CA  GLY A   4      -2.451  17.407   4.222  1.00  0.00           C  \n",
            "ATOM     33  CA  ARG A   5      -4.040  20.684   5.351  1.00  0.00           C  \n",
            "ATOM     44  CA  CYS A   6      -7.624  19.521   4.933  1.00  0.00           C  \n",
            "ATOM     50  CA  GLU A   7      -7.395  15.914   6.224  1.00  0.00           C  \n",
            "ATOM     59  CA  LEU A   8      -5.807  17.402   9.353  1.00  0.00           C  \n",
            "ATOM     67  CA  ALA A   9      -8.577  19.979   9.553  1.00  0.00           C  \n",
            "ATOM     72  CA  ALA A  10     -11.141  17.186   9.168  1.00  0.00           C  \n",
            "ATOM     77  CA  ALA A  11      -9.308  15.021  11.713  1.00  0.00           C  \n",
            "ATOM     82  CA  MET A  12      -8.901  17.761  14.310  1.00  0.00           C  \n",
            "ATOM     90  CA  LYS A  13     -12.620  18.437  13.794  1.00  0.00           C  \n",
            "ATOM     99  CA  ARG A  14     -13.433  14.744  14.270  1.00  0.00           C  \n",
            "ATOM    110  CA  HIS A  15     -11.794  15.212  17.653  1.00  0.00           C  \n",
            "ATOM    120  CA  GLY A  16     -13.816  18.313  18.760  1.00  0.00           C  \n",
            "ATOM    124  CA  LEU A  17     -11.067  20.964  18.342  1.00  0.00           C  \n",
            "ATOM    132  CA  ASP A  18     -13.280  23.360  16.386  1.00  0.00           C  \n",
            "ATOM    140  CA  ASN A  19     -14.196  25.976  18.999  1.00  0.00           C  \n",
            "ATOM    148  CA  TYR A  20     -12.551  24.258  21.975  1.00  0.00           C  \n",
            "ATOM    160  CA  ARG A  21     -11.883  26.918  24.621  1.00  0.00           C  \n",
            "ATOM    171  CA  GLY A  22     -12.921  29.606  22.102  1.00  0.00           C  \n",
            "ATOM    175  CA  TYR A  23     -10.334  28.963  19.366  1.00  0.00           C  \n",
            "ATOM    187  CA  SER A  24     -11.683  28.230  15.859  1.00  0.00           C  \n",
            "ATOM    193  CA  LEU A  25     -10.401  25.184  13.892  1.00  0.00           C  \n",
            "ATOM    201  CA  GLY A  26      -7.964  27.229  11.778  1.00  0.00           C  \n",
            "ATOM    205  CA  ASN A  27      -6.154  28.325  14.959  1.00  0.00           C  \n",
            "ATOM    213  CA  TRP A  28      -5.012  24.711  15.366  1.00  0.00           C  \n",
            "ATOM    227  CA  VAL A  29      -4.133  23.828  11.782  1.00  0.00           C  \n",
            "ATOM    234  CA  CYS A  30      -1.985  26.972  11.963  1.00  0.00           C  \n",
            "ATOM    240  CA  ALA A  31      -0.090  26.166  15.171  1.00  0.00           C  \n",
            "ATOM    245  CA  ALA A  32       0.646  22.666  13.853  1.00  0.00           C  \n",
            "ATOM    250  CA  LYS A  33       1.640  23.991  10.409  1.00  0.00           C  \n",
            "ATOM    259  CA  PHE A  34       4.343  26.228  11.894  1.00  0.00           C  \n",
            "ATOM    270  CA  GLU A  35       5.377  23.965  14.768  1.00  0.00           C  \n",
            "ATOM    279  CA  SER A  36       5.989  20.772  12.799  1.00  0.00           C  \n",
            "ATOM    285  CA  ASN A  37       4.780  21.019   9.159  1.00  0.00           C  \n",
            "ATOM    293  CA  PHE A  38       1.955  18.486   9.715  1.00  0.00           C  \n",
            "ATOM    304  CA  ASN A  39       4.824  16.143  10.746  1.00  0.00           C  \n",
            "ATOM    312  CA  THR A  40       3.639  13.880  13.595  1.00  0.00           C  \n",
            "ATOM    319  CA  GLN A  41       7.121  12.348  13.907  1.00  0.00           C  \n",
            "ATOM    328  CA  ALA A  42       9.004  15.615  14.422  1.00  0.00           C  \n",
            "ATOM    333  CA  THR A  43      11.189  15.890  17.516  1.00  0.00           C  \n",
            "ATOM    340  CA  ASN A  44      13.072  18.983  18.701  1.00  0.00           C  \n",
            "ATOM    348  CA  ARG A  45      15.554  19.046  21.552  1.00  0.00           C  \n",
            "ATOM    359  CA  ASN A  46      15.573  22.355  23.449  1.00  0.00           C  \n",
            "ATOM    367  CA  THR A  47      18.261  23.424  25.915  1.00  0.00           C  \n",
            "ATOM    374  CA  ASP A  48      16.935  22.414  29.384  1.00  0.00           C  \n",
            "ATOM    382  CA  GLY A  49      16.694  18.622  28.983  1.00  0.00           C  \n",
            "ATOM    386  CA  SER A  50      13.185  18.578  27.539  1.00  0.00           C  \n",
            "ATOM    392  CA  THR A  51      12.242  17.574  24.002  1.00  0.00           C  \n",
            "ATOM    399  CA  ASP A  52       9.194  18.413  21.899  1.00  0.00           C  \n",
            "ATOM    407  CA  TYR A  53       7.075  15.740  20.249  1.00  0.00           C  \n",
            "ATOM    419  CA  GLY A  54       4.685  15.256  17.323  1.00  0.00           C  \n",
            "ATOM    423  CA  ILE A  55       2.542  17.546  15.155  1.00  0.00           C  \n",
            "ATOM    431  CA  LEU A  56       1.857  20.009  17.989  1.00  0.00           C  \n",
            "ATOM    439  CA  GLN A  57       5.216  19.733  19.792  1.00  0.00           C  \n",
            "ATOM    448  CA  ILE A  58       4.318  19.025  23.370  1.00  0.00           C  \n",
            "ATOM    456  CA  ASN A  59       7.070  19.512  25.976  1.00  0.00           C  \n",
            "ATOM    464  CA  SER A  60       8.249  16.562  28.103  1.00  0.00           C  \n",
            "ATOM    470  CA  ARG A  61       8.741  18.474  31.374  1.00  0.00           C  \n",
            "ATOM    481  CA  TRP A  62       5.085  19.343  32.044  1.00  0.00           C  \n",
            "ATOM    495  CA  TRP A  63       3.096  17.120  29.723  1.00  0.00           C  \n",
            "ATOM    509  CA  CYS A  64       4.564  13.728  29.047  1.00  0.00           C  \n",
            "ATOM    515  CA  ASN A  65       7.004  11.041  30.254  1.00  0.00           C  \n",
            "ATOM    523  CA  ASP A  66      10.050  10.110  28.165  1.00  0.00           C  \n",
            "ATOM    531  CA  GLY A  67      11.945   9.538  31.443  1.00  0.00           C  \n",
            "ATOM    535  CA  ARG A  68      15.099  11.406  30.417  1.00  0.00           C  \n",
            "ATOM    546  CA  THR A  69      13.608  14.815  31.224  1.00  0.00           C  \n",
            "ATOM    553  CA  PRO A  70      14.123  15.886  34.801  1.00  0.00           C  \n",
            "ATOM    560  CA  GLY A  71      11.765  18.260  36.626  1.00  0.00           C  \n",
            "ATOM    564  CA  SER A  72       9.165  16.007  34.985  1.00  0.00           C  \n",
            "ATOM    570  CA  ARG A  73       5.480  16.191  35.705  1.00  0.00           C  \n",
            "ATOM    581  CA  ASN A  74       3.135  13.923  33.691  1.00  0.00           C  \n",
            "ATOM    589  CA  LEU A  75       0.030  16.092  33.351  1.00  0.00           C  \n",
            "ATOM    597  CA  CYS A  76      -1.209  14.225  30.293  1.00  0.00           C  \n",
            "ATOM    603  CA  ASN A  77      -0.412  10.770  31.719  1.00  0.00           C  \n",
            "ATOM    611  CA  ILE A  78       1.254   9.992  28.395  1.00  0.00           C  \n",
            "ATOM    619  CA  PRO A  79       4.649   8.729  27.375  1.00  0.00           C  \n",
            "ATOM    626  CA  CYS A  80       6.074  11.323  25.000  1.00  0.00           C  \n",
            "ATOM    632  CA  SER A  81       6.260   8.684  22.237  1.00  0.00           C  \n",
            "ATOM    638  CA  ALA A  82       2.490   8.150  22.131  1.00  0.00           C  \n",
            "ATOM    643  CA  LEU A  83       2.749  11.680  20.710  1.00  0.00           C  \n",
            "ATOM    651  CA  LEU A  84       4.574  10.407  17.600  1.00  0.00           C  \n",
            "ATOM    659  CA  SER A  85       2.080   7.892  16.212  1.00  0.00           C  \n",
            "ATOM    665  CA  SER A  86       0.009   8.578  13.058  1.00  0.00           C  \n",
            "ATOM    671  CA  ASP A  87      -3.307   8.921  14.874  1.00  0.00           C  \n",
            "ATOM    679  CA  ILE A  88      -3.571  12.350  16.520  1.00  0.00           C  \n",
            "ATOM    687  CA  THR A  89      -5.762  11.256  19.439  1.00  0.00           C  \n",
            "ATOM    694  CA  ALA A  90      -3.050  11.329  22.140  1.00  0.00           C  \n",
            "ATOM    699  CA  SER A  91      -1.832  14.713  20.849  1.00  0.00           C  \n",
            "ATOM    705  CA  VAL A  92      -5.302  16.250  20.638  1.00  0.00           C  \n",
            "ATOM    712  CA  ASN A  93      -6.102  14.849  24.075  1.00  0.00           C  \n",
            "ATOM    720  CA  CYS A  94      -2.902  16.272  25.474  1.00  0.00           C  \n",
            "ATOM    726  CA  ALA A  95      -3.545  19.586  23.656  1.00  0.00           C  \n",
            "ATOM    731  CA  LYS A  96      -6.883  20.134  25.425  1.00  0.00           C  \n",
            "ATOM    740  CA  LYS A  97      -5.247  19.488  28.781  1.00  0.00           C  \n",
            "ATOM    749  CA  ILE A  98      -2.636  22.163  28.038  1.00  0.00           C  \n",
            "ATOM    757  CA  VAL A  99      -4.865  24.909  26.605  1.00  0.00           C  \n",
            "ATOM    764  CA  SER A 100      -7.373  24.374  29.461  1.00  0.00           C  \n",
            "ATOM    770  CA  ASP A 101      -5.331  25.489  32.459  1.00  0.00           C  \n",
            "ATOM    778  CA  GLY A 102      -4.841  29.211  32.027  1.00  0.00           C  \n",
            "ATOM    782  CA  ASN A 103      -2.617  30.635  29.287  1.00  0.00           C  \n",
            "ATOM    790  CA  GLY A 104      -4.381  29.287  26.200  1.00  0.00           C  \n",
            "ATOM    794  CA  MET A 105      -2.748  28.573  22.854  1.00  0.00           C  \n",
            "ATOM    802  CA  ASN A 106      -0.235  31.139  24.096  1.00  0.00           C  \n",
            "ATOM    810  CA  ALA A 107       1.304  27.866  25.326  1.00  0.00           C  \n",
            "ATOM    815  CA  TRP A 108       2.461  27.342  21.722  1.00  0.00           C  \n",
            "ATOM    829  CA  VAL A 109       5.200  29.831  20.682  1.00  0.00           C  \n",
            "ATOM    836  CA  ALA A 110       4.588  29.376  16.942  1.00  0.00           C  \n",
            "ATOM    841  CA  TRP A 111       0.927  30.254  17.171  1.00  0.00           C  \n",
            "ATOM    855  CA  ARG A 112       1.899  33.256  19.285  1.00  0.00           C  \n",
            "ATOM    866  CA  ASN A 113       4.386  34.275  16.556  1.00  0.00           C  \n",
            "ATOM    874  CA  ARG A 114       2.784  33.447  13.218  1.00  0.00           C  \n",
            "ATOM    885  CA  CYS A 115      -0.952  32.829  13.682  1.00  0.00           C  \n",
            "ATOM    891  CA  LYS A 116      -1.910  35.144  16.558  1.00  0.00           C  \n",
            "ATOM    900  CA  GLY A 117      -4.303  37.846  15.302  1.00  0.00           C  \n",
            "ATOM    904  CA  THR A 118      -4.169  36.740  11.678  1.00  0.00           C  \n",
            "ATOM    911  CA  ASP A 119      -6.842  35.500   9.278  1.00  0.00           C  \n",
            "ATOM    919  CA  VAL A 120      -6.640  31.856  10.352  1.00  0.00           C  \n",
            "ATOM    926  CA  GLN A 121      -9.983  31.143   8.641  1.00  0.00           C  \n",
            "ATOM    935  CA  ALA A 122      -7.707  30.584   5.622  1.00  0.00           C  \n",
            "ATOM    940  CA  TRP A 123      -6.174  27.255   6.618  1.00  0.00           C  \n",
            "ATOM    954  CA  ILE A 124      -9.651  25.696   6.459  1.00  0.00           C  \n",
            "ATOM    962  CA  ARG A 125     -10.856  27.523   3.336  1.00  0.00           C  \n",
            "ATOM    973  CA  GLY A 126     -11.585  24.863   0.714  1.00  0.00           C  \n",
            "ATOM    977  CA  CYS A 127     -12.142  21.913   3.074  1.00  0.00           C  \n",
            "ATOM    983  CA  ARG A 128     -15.236  19.777   3.475  1.00  0.00           C  \n",
            "ATOM    994  CA  LEU A 129     -15.940  20.178   7.186  1.00  0.00           C  \n"
          ]
        }
      ]
    },
    {
      "cell_type": "code",
      "metadata": {
        "id": "oQq-cCtn4Kea",
        "colab": {
          "base_uri": "https://localhost:8080/"
        },
        "outputId": "4c4b9e3b-0ba0-459a-bfec-ca9fc9ea299c"
      },
      "source": [
        "!cat 7lyz.pdb | grep CA | wc -l"
      ],
      "execution_count": 111,
      "outputs": [
        {
          "output_type": "stream",
          "name": "stdout",
          "text": [
            "138\n"
          ]
        }
      ]
    },
    {
      "cell_type": "code",
      "metadata": {
        "id": "-UNUlHp74ezO",
        "colab": {
          "base_uri": "https://localhost:8080/"
        },
        "outputId": "4a725dce-26c6-482a-9015-9a4cbb33875f"
      },
      "source": [
        "!df"
      ],
      "execution_count": 112,
      "outputs": [
        {
          "output_type": "stream",
          "name": "stdout",
          "text": [
            "Filesystem     1K-blocks     Used Available Use% Mounted on\n",
            "overlay        112947452 26121480  86809588  24% /\n",
            "tmpfs              65536        0     65536   0% /dev\n",
            "shm              5988352        0   5988352   0% /dev/shm\n",
            "/dev/root        2003760  1095616    908144  55% /usr/sbin/docker-init\n",
            "tmpfs            6647124     1956   6645168   1% /var/colab\n",
            "/dev/sda1       73032084 54295216  18720484  75% /etc/hosts\n",
            "tmpfs            6647124        0   6647124   0% /proc/acpi\n",
            "tmpfs            6647124        0   6647124   0% /proc/scsi\n",
            "tmpfs            6647124        0   6647124   0% /sys/firmware\n"
          ]
        }
      ]
    },
    {
      "cell_type": "code",
      "metadata": {
        "id": "f5oSwILd4hAI",
        "colab": {
          "base_uri": "https://localhost:8080/"
        },
        "outputId": "ccd3288d-2e54-403f-eebc-1906f91dd7e3"
      },
      "source": [
        "!head 7lyz.pdb"
      ],
      "execution_count": 113,
      "outputs": [
        {
          "output_type": "stream",
          "name": "stdout",
          "text": [
            "HEADER    HYDROLASE(O-GLYCOSYL)                   06-MAY-77   7LYZ              \n",
            "TITLE     PROTEIN MODEL BUILDING BY THE USE OF A CONSTRAINED-                   \n",
            "TITLE    2 RESTRAINED LEAST-SQUARES PROCEDURE                                   \n",
            "COMPND    MOL_ID: 1;                                                            \n",
            "COMPND   2 MOLECULE: HEN EGG WHITE LYSOZYME;                                    \n",
            "COMPND   3 CHAIN: A;                                                            \n",
            "COMPND   4 EC: 3.2.1.17;                                                        \n",
            "COMPND   5 ENGINEERED: YES                                                      \n",
            "SOURCE    MOL_ID: 1;                                                            \n",
            "SOURCE   2 ORGANISM_SCIENTIFIC: GALLUS GALLUS;                                  \n"
          ]
        }
      ]
    },
    {
      "cell_type": "code",
      "metadata": {
        "id": "kiwpss994j2h",
        "colab": {
          "base_uri": "https://localhost:8080/"
        },
        "outputId": "d18a94ce-d84f-4b6a-f873-45c0bc713ce0"
      },
      "source": [
        "!tail 7lyz.pdb"
      ],
      "execution_count": 114,
      "outputs": [
        {
          "output_type": "stream",
          "name": "stdout",
          "text": [
            "CONECT   48  981                                                                \n",
            "CONECT  238  889                                                                \n",
            "CONECT  513  630                                                                \n",
            "CONECT  601  724                                                                \n",
            "CONECT  630  513                                                                \n",
            "CONECT  724  601                                                                \n",
            "CONECT  889  238                                                                \n",
            "CONECT  981   48                                                                \n",
            "MASTER      200    0    0    7    5    0    0    6 1000    1    8   10          \n",
            "END                                                                             \n"
          ]
        }
      ]
    },
    {
      "cell_type": "code",
      "metadata": {
        "id": "sjnDjlIr4mKj"
      },
      "source": [
        "%%bash\n",
        "cat << EOF > config.txt\n",
        "first line\n",
        "second lie\n",
        "third line\n",
        "EOF\n"
      ],
      "execution_count": 115,
      "outputs": []
    },
    {
      "cell_type": "code",
      "metadata": {
        "id": "PRpP3RWn5EjI",
        "colab": {
          "base_uri": "https://localhost:8080/"
        },
        "outputId": "5cb75186-41ab-4988-c796-ac2eaf1c3d44"
      },
      "source": [
        "!cat config.txt"
      ],
      "execution_count": 116,
      "outputs": [
        {
          "output_type": "stream",
          "name": "stdout",
          "text": [
            "first line\n",
            "second lie\n",
            "third line \n"
          ]
        }
      ]
    },
    {
      "cell_type": "code",
      "metadata": {
        "id": "Po4KtWPE5xoj"
      },
      "source": [
        "# !top\n"
      ],
      "execution_count": 117,
      "outputs": []
    },
    {
      "cell_type": "code",
      "metadata": {
        "id": "BF3RUl5e6aEr",
        "colab": {
          "base_uri": "https://localhost:8080/"
        },
        "outputId": "e5f8165d-257c-4148-e41a-48900a579a53"
      },
      "source": [
        "%history"
      ],
      "execution_count": 118,
      "outputs": [
        {
          "output_type": "stream",
          "name": "stdout",
          "text": [
            "!uname -a\n",
            "!cat /etc/issue\n",
            "!pwd\n",
            "pip install google-colab-shell\n",
            "# import the module once\n",
            "from google_colab_shell import getshell\n",
            "## Anytime you want to open a terminal\n",
            "\n",
            "getshell()\n",
            "\n",
            "getshell(height=400) # custom height of the terminal\n",
            "%%bash\n",
            "ls [a-z]*.csv\n",
            "pwd\n",
            "\n",
            "# wild cards\n",
            "touch file1.csv file2.csv\n",
            "ls {file1,file2}.csv\n",
            "!which bash\n",
            "!ls -ltr | grep csv\n",
            "\n",
            "%%bash\n",
            "echo \"#!/bin/bash\" >> myscript.sh\n",
            "echo \"echo \\\"I am executing the script, myscript.sh\\\" \" >> myscript.sh\n",
            "echo \"pwd\" >> myscript.sh\n",
            "echo \"date\" >> myscript.sh\n",
            "echo\n",
            "!cat myscript.sh\n",
            "%%bash\n",
            "chmod +x ./myscript.sh\n",
            "./myscript.sh\n",
            "%%bash\n",
            "var1=98\n",
            "echo \" var1 is set to:  \" $var1\n",
            "\n",
            "if [ \"${var1}\" -gt  2 ]\n",
            "then\n",
            "   echo \"Var1 is > 3\"\n",
            "else\n",
            "   echo \"Var1 is <= 3\"\n",
            "fi\n",
            "%%bash\n",
            "cd /content\n",
            "pwd\n",
            "mkdir -p test\n",
            "cd test\n",
            "touch Ravi.txt\n",
            "pwd\n",
            "cd ..\n",
            "\n",
            "pwd\n",
            "%%bash\n",
            "cd\n",
            "!pwd\n",
            "%%bash \n",
            "\n",
            "ls \n",
            "\n",
            "ls -l -f\n",
            "%%bash \n",
            "cat > ids.txt <<EOL\n",
            "A\n",
            "B\n",
            "C\n",
            "EOL\n",
            "\n",
            "cat ids.txt\n",
            "!which parallel\n",
            "!cat ids.txt\n",
            "! parallel -j 3 -- ls df \"echo hi\"\n",
            "%%bash\n",
            "cat ids.txt | parallel \"echo foo {} \\| bar \\> {}.txt\"\n",
            "%%bash\n",
            "NAME=Sam\n",
            "\n",
            "# Strings with double quotes or no quotes will be substituted\n",
            "echo Welcome $NAME\n",
            "echo \"Welcome $NAME\"\n",
            "\n",
            "# strings with single quote will be produced as such\n",
            "echo 'Welcome $NAME'\n",
            "%%bash\n",
            "wget http://www.rcsb.org/pdb/files/7lyz.pdb >& /dev/null\n",
            "\n",
            "head 7lyz.pdb\n",
            "%%bash\n",
            "PDB_ID=7lyz\n",
            "wget http://www.rcsb.org/pdb/files/${PDB_ID}.pdb >& /dev/null\n",
            "head ${PDB_ID}.pdb\n",
            "%%bash\n",
            "rm -f myscript1.sh\n",
            "\n",
            "cat > myscript1.sh <<EOL\n",
            "#!/bin/bash\n",
            "echo I am executing myscript1.sh\n",
            "du -h\n",
            "pwd  \n",
            "ls -l \n",
            "echo Script successfully completed\n",
            "EOL\n",
            "%%bash\n",
            "chmod +x ./myscript1.sh\n",
            "./myscript1.sh\n",
            "%%bash\n",
            "rm -f myscript1.sh\n",
            "\n",
            "cat > myscript1.sh <<EOL\n",
            "#!/bin/bash\n",
            "set -ue\n",
            "echo I am executing myscript1.sh\n",
            "du -h\n",
            "pwd  \n",
            "ls -l \n",
            "echo Script successfully completed\n",
            "EOL\n",
            "!ls\n",
            "%%bash\n",
            "chmod +x ./myscript1.sh\n",
            "./myscript1.sh\n",
            "%%bash\n",
            "rm -f myscript2.sh\n",
            "\n",
            "cat > myscript2.sh <<EOL\n",
            "#!/bin/bash\n",
            "echo I am executing myscript2.sh\n",
            "set -ue\n",
            "\n",
            "filea=\\$1\n",
            "fileb=\\$2\n",
            "wget http://www.rcsb.org/pdb/files/\\${filea}.pdb >& /dev/null \n",
            "wget http://www.rcsb.org/pdb/files/\\${fileb}.pdb >& /dev/null \n",
            "EOL\n",
            "%%bash \n",
            "chmod +x ./myscript2.sh\n",
            "./myscript2.sh 7lyz 2src\n",
            "! ./myscript2.sh 7lyz 2src\n",
            "%%bash\n",
            "\n",
            "for i in *.pdb; do \n",
            "  echo $i\n",
            "done\n",
            "%%bash\n",
            "\n",
            "cat ids.txt | parallel echo Hello {}\n",
            "man ls\n",
            "%%bash\n",
            "wget http://www.rcsb.org/pdb/files/7lyz.pdb >& /dev/null\n",
            "!tail 7lyz.pdb\n",
            "%%bash\n",
            "cat 7lyz.pdb | grep \"ATOM\"  > 7lyzAllATOM.pdb\n",
            "cat 7lyz.pdb | grep \"^ATOM\" > 7lyzATOM.pdb\n",
            "!tail 7lyzATOM.pdb\n",
            "more 7lyz.pdb\n",
            "%%bash\n",
            "wget http://www.rcsb.org/pdb/files/2src.pdb\n",
            "!mv 2src.pdb 2src.PDB\n",
            "!ls -l\n",
            "!rm -f 2src.PDB\n",
            "!ls -l 2src.PDB\n",
            "!touch new_file.txt\n",
            "!ls -l new_file.txt\n",
            "!find /content -name edirect\n",
            "!cat 7lyz.pdb | grep CA\n",
            "!cat 7lyz.pdb | grep CA | wc -l\n",
            "!df\n",
            "!head 7lyz.pdb\n",
            "!tail 7lyz.pdb\n",
            "%%bash\n",
            "cat << EOF > config.txt\n",
            "first line\n",
            "second lie\n",
            "third line \n",
            "EOF\n",
            "!cat config.txt\n",
            "# !top\n",
            "%history\n",
            "!which zip\n",
            "!which unzip\n",
            "%%bash\n",
            "esearch -db pubmed -query \"lycopene cyclase\" |efetch -format abstract > HitsFile.txt\n",
            "!uname -a\n",
            "!cat /etc/issue\n",
            "!pwd\n",
            "pip install google-colab-shell\n",
            "# import the module once\n",
            "from google_colab_shell import getshell\n",
            "## Anytime you want to open a terminal\n",
            "\n",
            "getshell()\n",
            "\n",
            "getshell(height=400) # custom height of the terminal\n",
            "%%bash\n",
            "ls [a-z]*.csv\n",
            "pwd\n",
            "\n",
            "# wild cards\n",
            "touch file1.csv file2.csv\n",
            "ls {file1,file2}.csv\n",
            "!which bash\n",
            "!ls -ltr | grep csv\n",
            "\n",
            "%%bash\n",
            "echo \"#!/bin/bash\" >> myscript.sh\n",
            "echo \"echo \\\"I am executing the script, myscript.sh\\\" \" >> myscript.sh\n",
            "echo \"pwd\" >> myscript.sh\n",
            "echo \"date\" >> myscript.sh\n",
            "echo\n",
            "!cat myscript.sh\n",
            "%%bash\n",
            "chmod +x ./myscript.sh\n",
            "./myscript.sh\n",
            "%%bash\n",
            "var1=98\n",
            "echo \" var1 is set to:  \" $var1\n",
            "\n",
            "if [ \"${var1}\" -gt  2 ]\n",
            "then\n",
            "   echo \"Var1 is > 3\"\n",
            "else\n",
            "   echo \"Var1 is <= 3\"\n",
            "fi\n",
            "%%bash\n",
            "cd /content\n",
            "pwd\n",
            "mkdir -p test\n",
            "cd test\n",
            "touch Ravi.txt\n",
            "pwd\n",
            "cd ..\n",
            "\n",
            "pwd\n",
            "%%bash\n",
            "cd\n",
            "!pwd\n",
            "%%bash \n",
            "\n",
            "ls \n",
            "\n",
            "ls -l -f\n",
            "%%bash \n",
            "cat > ids.txt <<EOL\n",
            "A\n",
            "B\n",
            "C\n",
            "EOL\n",
            "\n",
            "cat ids.txt\n",
            "!which parallel\n",
            "!cat ids.txt\n",
            "! parallel -j 3 -- ls df \"echo hi\"\n",
            "%%bash\n",
            "cat ids.txt | parallel \"echo foo {} \\| bar \\> {}.txt\"\n",
            "%%bash\n",
            "NAME=Sam\n",
            "\n",
            "# Strings with double quotes or no quotes will be substituted\n",
            "echo Welcome $NAME\n",
            "echo \"Welcome $NAME\"\n",
            "\n",
            "# strings with single quote will be produced as such\n",
            "echo 'Welcome $NAME'\n",
            "%%bash\n",
            "wget http://www.rcsb.org/pdb/files/7lyz.pdb >& /dev/null\n",
            "\n",
            "head 7lyz.pdb\n",
            "%%bash\n",
            "PDB_ID=7lyz\n",
            "wget http://www.rcsb.org/pdb/files/${PDB_ID}.pdb >& /dev/null\n",
            "head ${PDB_ID}.pdb\n",
            "%%bash\n",
            "rm -f myscript1.sh\n",
            "\n",
            "cat > myscript1.sh <<EOL\n",
            "#!/bin/bash\n",
            "echo I am executing myscript1.sh\n",
            "du -h\n",
            "pwd  \n",
            "ls -l \n",
            "echo Script successfully completed\n",
            "EOL\n",
            "%%bash\n",
            "chmod +x ./myscript1.sh\n",
            "./myscript1.sh\n",
            "%%bash\n",
            "rm -f myscript1.sh\n",
            "\n",
            "cat > myscript1.sh <<EOL\n",
            "#!/bin/bash\n",
            "set -ue\n",
            "echo I am executing myscript1.sh\n",
            "du -h\n",
            "pwd  \n",
            "ls -l \n",
            "echo Script successfully completed\n",
            "EOL\n",
            "!ls\n",
            "%%bash\n",
            "chmod +x ./myscript1.sh\n",
            "./myscript1.sh\n",
            "%%bash\n",
            "rm -f myscript2.sh\n",
            "\n",
            "cat > myscript2.sh <<EOL\n",
            "#!/bin/bash\n",
            "echo I am executing myscript2.sh\n",
            "set -ue\n",
            "\n",
            "filea=\\$1\n",
            "fileb=\\$2\n",
            "wget http://www.rcsb.org/pdb/files/\\${filea}.pdb >& /dev/null \n",
            "wget http://www.rcsb.org/pdb/files/\\${fileb}.pdb >& /dev/null \n",
            "EOL\n",
            "%%bash \n",
            "chmod +x ./myscript2.sh\n",
            "./myscript2.sh 7lyz 2src\n",
            "! ./myscript2.sh 7lyz 2src\n",
            "%%bash\n",
            "\n",
            "for i in *.pdb; do \n",
            "  echo $i\n",
            "done\n",
            "%%bash\n",
            "\n",
            "cat ids.txt | parallel echo Hello {}\n",
            "man ls\n",
            "%%bash\n",
            "wget http://www.rcsb.org/pdb/files/7lyz.pdb >& /dev/null\n",
            "!tail 7lyz.pdb\n",
            "%%bash\n",
            "cat 7lyz.pdb | grep \"ATOM\"  > 7lyzAllATOM.pdb\n",
            "cat 7lyz.pdb | grep \"^ATOM\" > 7lyzATOM.pdb\n",
            "!tail 7lyzATOM.pdb\n",
            "more 7lyz.pdb\n",
            "%%bash\n",
            "wget http://www.rcsb.org/pdb/files/2src.pdb\n",
            "!mv 2src.pdb 2src.PDB\n",
            "!ls -l\n",
            "!rm -f 2src.PDB\n",
            "!ls -l 2src.PDB\n",
            "!touch new_file.txt\n",
            "!ls -l new_file.txt\n",
            "!find /content -name edirect\n",
            "!cat 7lyz.pdb | grep CA\n",
            "!cat 7lyz.pdb | grep CA | wc -l\n",
            "!df\n",
            "!head 7lyz.pdb\n",
            "!tail 7lyz.pdb\n",
            "%%bash\n",
            "cat << EOF > config.txt\n",
            "first line\n",
            "second lie\n",
            "third line \n",
            "EOF\n",
            "!cat config.txt\n",
            "# !top\n",
            "%history\n"
          ]
        }
      ]
    },
    {
      "cell_type": "code",
      "metadata": {
        "id": "PQJf8XYO6hPK",
        "colab": {
          "base_uri": "https://localhost:8080/"
        },
        "outputId": "a157dbab-31b9-4c76-d010-44af90a40719"
      },
      "source": [
        "!which zip\n",
        "!which unzip"
      ],
      "execution_count": 119,
      "outputs": [
        {
          "output_type": "stream",
          "name": "stdout",
          "text": [
            "/usr/bin/zip\n",
            "/usr/bin/unzip\n"
          ]
        }
      ]
    },
    {
      "cell_type": "markdown",
      "metadata": {
        "id": "drsRiwwq5h79"
      },
      "source": [
        "## Other important commands"
      ]
    },
    {
      "cell_type": "markdown",
      "metadata": {
        "id": "2aD06DXE5r2X"
      },
      "source": [
        "* chmod\n",
        "* chown\n",
        "* kill\n",
        "* Ctrl-c\n",
        "* Ctrl-z  # will pause the command\n"
      ]
    },
    {
      "cell_type": "code",
      "metadata": {
        "id": "rZI07w1JCoS7",
        "colab": {
          "base_uri": "https://localhost:8080/"
        },
        "outputId": "7a90c850-2b39-418b-bf6a-e4df64184ed4"
      },
      "source": [
        "!ls"
      ],
      "execution_count": 120,
      "outputs": [
        {
          "output_type": "stream",
          "name": "stdout",
          "text": [
            "2src.pdb.1\t 7lyz.pdb     7lyz.pdb.2  7lyz.pdb.8\tids.txt       test\n",
            "2src.pdb.2\t 7lyz.pdb.1   7lyz.pdb.3  7lyz.pdb.9\tmyscript1.sh\n",
            "2src.pdb.3\t 7lyz.pdb.10  7lyz.pdb.4  config.txt\tmyscript2.sh\n",
            "2src.pdb.4\t 7lyz.pdb.11  7lyz.pdb.5  file1.csv\tmyscript.sh\n",
            "7lyzAllATOM.pdb  7lyz.pdb.12  7lyz.pdb.6  file2.csv\tnew_file.txt\n",
            "7lyzATOM.pdb\t 7lyz.pdb.13  7lyz.pdb.7  HitsFile.txt\tsample_data\n"
          ]
        }
      ]
    },
    {
      "cell_type": "code",
      "source": [
        "%%bash\n",
        "cat << 'EOF' > months\n",
        "January 1 Winter\n",
        "February 2 Winter\n",
        "March 3 Spring\n",
        "April 4 Spring\n",
        "May 5 Spring\n",
        "June 6 Summer\n",
        "July 7 Summer\n",
        "August 8 Summer\n",
        "September 9 Autumn\n",
        "October 10 Autumn\n",
        "November 11 Autumn\n",
        "December 12 Winter\n",
        "EOF"
      ],
      "metadata": {
        "id": "L_1Ph1_yJo0D"
      },
      "execution_count": 121,
      "outputs": []
    },
    {
      "cell_type": "code",
      "source": [
        "!tr '[:upper:]' '[:lower:]' < months > monthst\n",
        "!mv monthst months"
      ],
      "metadata": {
        "id": "o0q9PM1QLETO"
      },
      "execution_count": 122,
      "outputs": []
    },
    {
      "cell_type": "code",
      "source": [
        "!cat months"
      ],
      "metadata": {
        "colab": {
          "base_uri": "https://localhost:8080/"
        },
        "id": "ZJGTt-13L0Gm",
        "outputId": "c953cc13-fe28-4911-f340-a1678957e90a"
      },
      "execution_count": 123,
      "outputs": [
        {
          "output_type": "stream",
          "name": "stdout",
          "text": [
            "january 1 winter\n",
            "february 2 winter\n",
            "march 3 spring\n",
            "april 4 spring\n",
            "may 5 spring\n",
            "june 6 summer\n",
            "july 7 summer\n",
            "august 8 summer\n",
            "september 9 autumn\n",
            "october 10 autumn\n",
            "november 11 autumn\n",
            "december 12 winter\n"
          ]
        }
      ]
    },
    {
      "cell_type": "code",
      "source": [
        "!sort months"
      ],
      "metadata": {
        "colab": {
          "base_uri": "https://localhost:8080/"
        },
        "id": "a1rAKecGNi3Y",
        "outputId": "233fcb16-3023-4df2-9c96-097fb362d0cb"
      },
      "execution_count": 124,
      "outputs": [
        {
          "output_type": "stream",
          "name": "stdout",
          "text": [
            "april 4 spring\n",
            "august 8 summer\n",
            "december 12 winter\n",
            "february 2 winter\n",
            "january 1 winter\n",
            "july 7 summer\n",
            "june 6 summer\n",
            "march 3 spring\n",
            "may 5 spring\n",
            "november 11 autumn\n",
            "october 10 autumn\n",
            "september 9 autumn\n"
          ]
        }
      ]
    },
    {
      "cell_type": "code",
      "source": [
        "!sort -r months # reverse order"
      ],
      "metadata": {
        "colab": {
          "base_uri": "https://localhost:8080/"
        },
        "id": "W4SfFeHNN0-g",
        "outputId": "4d0cb462-172b-4b2e-f93c-efbe2982d451"
      },
      "execution_count": 125,
      "outputs": [
        {
          "output_type": "stream",
          "name": "stdout",
          "text": [
            "september 9 autumn\n",
            "october 10 autumn\n",
            "november 11 autumn\n",
            "may 5 spring\n",
            "march 3 spring\n",
            "june 6 summer\n",
            "july 7 summer\n",
            "january 1 winter\n",
            "february 2 winter\n",
            "december 12 winter\n",
            "august 8 summer\n",
            "april 4 spring\n"
          ]
        }
      ]
    },
    {
      "cell_type": "code",
      "source": [
        "# sort 2nd column each column in 2nd field 10, 11, 12, 2, 3 ... 9\n",
        "!sort -k2 months"
      ],
      "metadata": {
        "colab": {
          "base_uri": "https://localhost:8080/"
        },
        "id": "XRm1mvhGIIuD",
        "outputId": "cd521039-df4a-4897-e1e7-0daee544c67a"
      },
      "execution_count": 126,
      "outputs": [
        {
          "output_type": "stream",
          "name": "stdout",
          "text": [
            "october 10 autumn\n",
            "november 11 autumn\n",
            "december 12 winter\n",
            "january 1 winter\n",
            "february 2 winter\n",
            "march 3 spring\n",
            "april 4 spring\n",
            "may 5 spring\n",
            "june 6 summer\n",
            "july 7 summer\n",
            "august 8 summer\n",
            "september 9 autumn\n"
          ]
        }
      ]
    },
    {
      "cell_type": "code",
      "source": [
        "# sort 2nd column numeric quantity (n)\n",
        "!sort -k 2n months # sort by 2nd field"
      ],
      "metadata": {
        "colab": {
          "base_uri": "https://localhost:8080/"
        },
        "id": "TzlhwJpMIQCg",
        "outputId": "9997aa36-bc86-46a3-d604-10bf35c16ef7"
      },
      "execution_count": 127,
      "outputs": [
        {
          "output_type": "stream",
          "name": "stdout",
          "text": [
            "january 1 winter\n",
            "february 2 winter\n",
            "march 3 spring\n",
            "april 4 spring\n",
            "may 5 spring\n",
            "june 6 summer\n",
            "july 7 summer\n",
            "august 8 summer\n",
            "september 9 autumn\n",
            "october 10 autumn\n",
            "november 11 autumn\n",
            "december 12 winter\n"
          ]
        }
      ]
    },
    {
      "cell_type": "code",
      "source": [
        "!sort -k 2nr months"
      ],
      "metadata": {
        "colab": {
          "base_uri": "https://localhost:8080/"
        },
        "id": "tMnQDQ92KsFF",
        "outputId": "08e9cd4a-46f2-4005-9b7c-1c4d2b05f74f"
      },
      "execution_count": 128,
      "outputs": [
        {
          "output_type": "stream",
          "name": "stdout",
          "text": [
            "december 12 winter\n",
            "november 11 autumn\n",
            "october 10 autumn\n",
            "september 9 autumn\n",
            "august 8 summer\n",
            "july 7 summer\n",
            "june 6 summer\n",
            "may 5 spring\n",
            "april 4 spring\n",
            "march 3 spring\n",
            "february 2 winter\n",
            "january 1 winter\n"
          ]
        }
      ]
    },
    {
      "cell_type": "code",
      "source": [
        "!sort -k 3 months"
      ],
      "metadata": {
        "colab": {
          "base_uri": "https://localhost:8080/"
        },
        "id": "av2YMFLEK0VZ",
        "outputId": "354d571e-ea04-44fe-bac0-73008b8bdfcc"
      },
      "execution_count": 129,
      "outputs": [
        {
          "output_type": "stream",
          "name": "stdout",
          "text": [
            "november 11 autumn\n",
            "october 10 autumn\n",
            "september 9 autumn\n",
            "april 4 spring\n",
            "march 3 spring\n",
            "may 5 spring\n",
            "august 8 summer\n",
            "july 7 summer\n",
            "june 6 summer\n",
            "december 12 winter\n",
            "february 2 winter\n",
            "january 1 winter\n"
          ]
        }
      ]
    },
    {
      "cell_type": "code",
      "source": [
        "!cut -d ' ' -f1,2 months. # or use -f1-3 for 3 columns"
      ],
      "metadata": {
        "colab": {
          "base_uri": "https://localhost:8080/"
        },
        "id": "YkjSAw5oNu4Y",
        "outputId": "af0b6cf9-dfd4-42d4-f317-9088225091da"
      },
      "execution_count": 130,
      "outputs": [
        {
          "output_type": "stream",
          "name": "stdout",
          "text": [
            "cut: months.: No such file or directory\n"
          ]
        }
      ]
    },
    {
      "cell_type": "code",
      "source": [
        "!cat months | cut -d ' ' -f3"
      ],
      "metadata": {
        "colab": {
          "base_uri": "https://localhost:8080/"
        },
        "id": "XQ7wqaXSObRg",
        "outputId": "9639c017-5f90-4953-a02a-9248fd9ec1d9"
      },
      "execution_count": 131,
      "outputs": [
        {
          "output_type": "stream",
          "name": "stdout",
          "text": [
            "winter\n",
            "winter\n",
            "spring\n",
            "spring\n",
            "spring\n",
            "summer\n",
            "summer\n",
            "summer\n",
            "autumn\n",
            "autumn\n",
            "autumn\n",
            "winter\n"
          ]
        }
      ]
    },
    {
      "cell_type": "markdown",
      "source": [
        "# Sorting multiple columns\n",
        "First sort by third column, then sort by 2 column numeric number\n",
        "\n"
      ],
      "metadata": {
        "id": "5LIVULNeP7iQ"
      }
    },
    {
      "cell_type": "code",
      "source": [
        "# sorting multiple columns\n",
        "!sort -k 3 -k 2n months\n"
      ],
      "metadata": {
        "colab": {
          "base_uri": "https://localhost:8080/"
        },
        "id": "fIH9mCUlPxd-",
        "outputId": "31b479cb-4fa6-41ed-af74-7c3b3d4fafea"
      },
      "execution_count": 132,
      "outputs": [
        {
          "output_type": "stream",
          "name": "stdout",
          "text": [
            "september 9 autumn\n",
            "october 10 autumn\n",
            "november 11 autumn\n",
            "march 3 spring\n",
            "april 4 spring\n",
            "may 5 spring\n",
            "june 6 summer\n",
            "july 7 summer\n",
            "august 8 summer\n",
            "january 1 winter\n",
            "february 2 winter\n",
            "december 12 winter\n"
          ]
        }
      ]
    },
    {
      "cell_type": "code",
      "source": [
        "!sort -k 3 -k 2nr months"
      ],
      "metadata": {
        "colab": {
          "base_uri": "https://localhost:8080/"
        },
        "id": "EGMVkDtER-Z5",
        "outputId": "9a61361a-7c1d-446f-c3a5-41f6e5f15f4b"
      },
      "execution_count": 133,
      "outputs": [
        {
          "output_type": "stream",
          "name": "stdout",
          "text": [
            "november 11 autumn\n",
            "october 10 autumn\n",
            "september 9 autumn\n",
            "may 5 spring\n",
            "april 4 spring\n",
            "march 3 spring\n",
            "august 8 summer\n",
            "july 7 summer\n",
            "june 6 summer\n",
            "december 12 winter\n",
            "february 2 winter\n",
            "january 1 winter\n"
          ]
        }
      ]
    },
    {
      "cell_type": "code",
      "source": [
        "!cat months | cut -d ' ' -f3 | sort -u # unique"
      ],
      "metadata": {
        "colab": {
          "base_uri": "https://localhost:8080/"
        },
        "id": "Z9a7CV7NOv3W",
        "outputId": "adffa2b1-331c-4179-fca2-9ab94b45025c"
      },
      "execution_count": 134,
      "outputs": [
        {
          "output_type": "stream",
          "name": "stdout",
          "text": [
            "autumn\n",
            "spring\n",
            "summer\n",
            "winter\n"
          ]
        }
      ]
    },
    {
      "cell_type": "code",
      "source": [
        "# seasons in india\n",
        "%%bash\n",
        "cat << 'EOF' > monthsi\n",
        "january 1 winter\n",
        "february 2 winter\n",
        "march 3 summer\n",
        "april 4 summer\n",
        "may 5 summer\n",
        "june 6 monsoon\n",
        "july 7 monsoon\n",
        "august 8 monsoon\n",
        "september 9 monsoon\n",
        "october 10 monsoon\n",
        "november 11 monsoon\n",
        "december 12 post-monsoon\n",
        "EOF"
      ],
      "metadata": {
        "id": "YlVJpbqjRIdx"
      },
      "execution_count": 135,
      "outputs": []
    },
    {
      "cell_type": "code",
      "source": [
        "!cut -f1,2 -d ' ' months"
      ],
      "metadata": {
        "colab": {
          "base_uri": "https://localhost:8080/"
        },
        "id": "okzIGGsLSPwk",
        "outputId": "82c2bb95-cb81-4939-d36d-a5efc8532e21"
      },
      "execution_count": 136,
      "outputs": [
        {
          "output_type": "stream",
          "name": "stdout",
          "text": [
            "january 1\n",
            "february 2\n",
            "march 3\n",
            "april 4\n",
            "may 5\n",
            "june 6\n",
            "july 7\n",
            "august 8\n",
            "september 9\n",
            "october 10\n",
            "november 11\n",
            "december 12\n"
          ]
        }
      ]
    },
    {
      "cell_type": "code",
      "source": [
        "%%bash\n",
        "sort months > months.sorted\n",
        "sort monthsi > monthsi.sorted"
      ],
      "metadata": {
        "id": "PruxlvcBWAkG"
      },
      "execution_count": 137,
      "outputs": []
    },
    {
      "cell_type": "markdown",
      "source": [
        "You will see june 6 monsoon only appears in monthsi.sorted\n",
        "and the top-6 lines appear only on months file.\n",
        " lef-most column, followed by months.sorted and finally the"
      ],
      "metadata": {
        "id": "e4EXxHyrWnPa"
      }
    },
    {
      "cell_type": "code",
      "source": [
        "!cat months.sorted"
      ],
      "metadata": {
        "colab": {
          "base_uri": "https://localhost:8080/"
        },
        "id": "2SApTQmxSqJo",
        "outputId": "e2c13f1a-d0fe-49c4-90c9-c20913b20e55"
      },
      "execution_count": 138,
      "outputs": [
        {
          "output_type": "stream",
          "name": "stdout",
          "text": [
            "april 4 spring\n",
            "august 8 summer\n",
            "december 12 winter\n",
            "february 2 winter\n",
            "january 1 winter\n",
            "july 7 summer\n",
            "june 6 summer\n",
            "march 3 spring\n",
            "may 5 spring\n",
            "november 11 autumn\n",
            "october 10 autumn\n",
            "september 9 autumn\n"
          ]
        }
      ]
    },
    {
      "cell_type": "code",
      "source": [
        "!cat monthsi.sorted"
      ],
      "metadata": {
        "colab": {
          "base_uri": "https://localhost:8080/"
        },
        "id": "pwRjC0XETWcP",
        "outputId": "83afb981-6f48-4ba6-fc72-08b52e2fc751"
      },
      "execution_count": 139,
      "outputs": [
        {
          "output_type": "stream",
          "name": "stdout",
          "text": [
            "april 4 summer\n",
            "august 8 monsoon\n",
            "december 12 post-monsoon\n",
            "february 2 winter\n",
            "january 1 winter\n",
            "july 7 monsoon\n",
            "june 6 monsoon\n",
            "march 3 summer\n",
            "may 5 summer\n",
            "november 11 monsoon\n",
            "october 10 monsoon\n",
            "september 9 monsoon\n"
          ]
        }
      ]
    },
    {
      "cell_type": "code",
      "source": [
        "!cut -d ' ' -f3 months > seasons"
      ],
      "metadata": {
        "id": "2ogpMgIUUDI4"
      },
      "execution_count": 140,
      "outputs": []
    },
    {
      "cell_type": "code",
      "source": [
        "!uniq seasons"
      ],
      "metadata": {
        "colab": {
          "base_uri": "https://localhost:8080/"
        },
        "id": "W92huQOWULcY",
        "outputId": "e4651f53-6cb0-4d34-a085-c63fb73ef399"
      },
      "execution_count": 141,
      "outputs": [
        {
          "output_type": "stream",
          "name": "stdout",
          "text": [
            "winter\n",
            "spring\n",
            "summer\n",
            "autumn\n",
            "winter\n"
          ]
        }
      ]
    },
    {
      "cell_type": "code",
      "source": [
        "!uniq seasons | sort -u"
      ],
      "metadata": {
        "colab": {
          "base_uri": "https://localhost:8080/"
        },
        "id": "vHLaSOSJUOEo",
        "outputId": "c1b73f78-c3ea-46d7-8030-e5adf6d74a96"
      },
      "execution_count": 142,
      "outputs": [
        {
          "output_type": "stream",
          "name": "stdout",
          "text": [
            "autumn\n",
            "spring\n",
            "summer\n",
            "winter\n"
          ]
        }
      ]
    },
    {
      "cell_type": "code",
      "source": [
        "!uniq -c seasons"
      ],
      "metadata": {
        "colab": {
          "base_uri": "https://localhost:8080/"
        },
        "id": "sM-hfl83UUtF",
        "outputId": "f3d3c26b-5fe0-407e-b850-ced82afb0b3f"
      },
      "execution_count": 143,
      "outputs": [
        {
          "output_type": "stream",
          "name": "stdout",
          "text": [
            "      2 winter\n",
            "      3 spring\n",
            "      3 summer\n",
            "      3 autumn\n",
            "      1 winter\n"
          ]
        }
      ]
    },
    {
      "cell_type": "code",
      "source": [
        "!diff months monthsi"
      ],
      "metadata": {
        "colab": {
          "base_uri": "https://localhost:8080/"
        },
        "id": "QJwoiVJqWGLR",
        "outputId": "48814d75-8442-4023-d0e8-d92158c01037"
      },
      "execution_count": 144,
      "outputs": [
        {
          "output_type": "stream",
          "name": "stdout",
          "text": [
            "3,12c3,12\n",
            "< march 3 spring\n",
            "< april 4 spring\n",
            "< may 5 spring\n",
            "< june 6 summer\n",
            "< july 7 summer\n",
            "< august 8 summer\n",
            "< september 9 autumn\n",
            "< october 10 autumn\n",
            "< november 11 autumn\n",
            "< december 12 winter\n",
            "---\n",
            "> march 3 summer\n",
            "> april 4 summer\n",
            "> may 5 summer\n",
            "> june 6 monsoon\n",
            "> july 7 monsoon\n",
            "> august 8 monsoon\n",
            "> september 9 monsoon\n",
            "> october 10 monsoon\n",
            "> november 11 monsoon\n",
            "> december 12 post-monsoon\n"
          ]
        }
      ]
    },
    {
      "cell_type": "code",
      "source": [
        "getshell()"
      ],
      "metadata": {
        "colab": {
          "base_uri": "https://localhost:8080/",
          "height": 417
        },
        "id": "fP3XKxucWy9I",
        "outputId": "892d5ce2-cece-4b0e-d0f7-102f45924ae9"
      },
      "execution_count": 145,
      "outputs": [
        {
          "output_type": "execute_result",
          "data": {
            "text/plain": [
              "<IPython.core.display.HTML object>"
            ],
            "text/html": [
              "<!--https://github.com/singhsidhukuldeep/Google-Colab-Shell/-->\n",
              "<!--Using JS/CSS from official sources with backups in-case :)-->\n",
              "<div id=colab_shell></div>\n",
              "<script src=\"https://code.jquery.com/jquery-latest.js\"></script>\n",
              "<script src=\"https://cdn.jsdelivr.net/npm/jquery.terminal/js/jquery.terminal.min.js\"></script>\n",
              "<link href=\"https://cdn.jsdelivr.net/npm/jquery.terminal/css/jquery.terminal.min.css\" rel=\"stylesheet\"/>\n",
              "<script>\n",
              "   $('#colab_shell').terminal(async function(command) {\n",
              "       if (command !== '') {\n",
              "           try {\n",
              "               let res = await google.colab.kernel.invokeFunction('shell', [command])\n",
              "               let out = res.data['application/json'][0]\n",
              "               this.echo(new String(out))\n",
              "           } catch(e) {\n",
              "               this.error(new String(e));\n",
              "           }\n",
              "       } else {\n",
              "           this.echo(\n",
              "             //   '>>Empty Command<<\\n'+\n",
              "             //   'If you can afford use Google Colab Pro'\n",
              "               );\n",
              "       }\n",
              "   }, {\n",
              "       greetings: 'Welcome to Google Colab Shell\\n'+\n",
              "         'If you can afford, please use Google Colab Pro ( https://colab.research.google.com/signup )\\n'+\n",
              "         '⭐ STAR the repo ⭐\\n https://github.com/singhsidhukuldeep/Google-Colab-Shell\\n\\n',\n",
              "       name: 'colab_shell',\n",
              "       height: 400,\n",
              "       prompt: '█$ colab>>\\t'\n",
              "   });\n",
              "</script>\n"
            ]
          },
          "metadata": {},
          "execution_count": 145
        }
      ]
    },
    {
      "cell_type": "markdown",
      "source": [
        "# comm\n",
        "\n",
        "To use comm and get meaningful results, we need to sort the files beforehand\n",
        "You will get results in three columns. The first column is the contents that is\n",
        "present only in file1 and column2 is for second file. The third column is the\n",
        "one that is present in both files. With flags -1 and -2 you can ignore columns\n",
        "1 and 2."
      ],
      "metadata": {
        "id": "LVbrf6Loduak"
      }
    },
    {
      "cell_type": "code",
      "source": [
        "!comm monthsi.sorted months.sorted # need to be sorted to get meaningful results"
      ],
      "metadata": {
        "colab": {
          "base_uri": "https://localhost:8080/"
        },
        "id": "45kiGxa_S6s8",
        "outputId": "871a8bb2-1955-4557-9e23-5bb0917ef69e"
      },
      "execution_count": 146,
      "outputs": [
        {
          "output_type": "stream",
          "name": "stdout",
          "text": [
            "\tapril 4 spring\n",
            "april 4 summer\n",
            "august 8 monsoon\n",
            "\taugust 8 summer\n",
            "december 12 post-monsoon\n",
            "\tdecember 12 winter\n",
            "\t\tfebruary 2 winter\n",
            "\t\tjanuary 1 winter\n",
            "july 7 monsoon\n",
            "\tjuly 7 summer\n",
            "june 6 monsoon\n",
            "\tjune 6 summer\n",
            "\tmarch 3 spring\n",
            "march 3 summer\n",
            "\tmay 5 spring\n",
            "may 5 summer\n",
            "\tnovember 11 autumn\n",
            "november 11 monsoon\n",
            "\toctober 10 autumn\n",
            "october 10 monsoon\n",
            "\tseptember 9 autumn\n",
            "september 9 monsoon\n"
          ]
        }
      ]
    },
    {
      "cell_type": "code",
      "source": [
        "!comm -1 -2 monthsi.sorted months.sorted # need to be sorted to get meaningful results"
      ],
      "metadata": {
        "id": "-RaYMfQeeBcR",
        "colab": {
          "base_uri": "https://localhost:8080/"
        },
        "outputId": "f1fa5aa0-98b8-4627-a050-4d8a89071fa6"
      },
      "execution_count": 147,
      "outputs": [
        {
          "output_type": "stream",
          "name": "stdout",
          "text": [
            "february 2 winter\n",
            "january 1 winter\n"
          ]
        }
      ]
    },
    {
      "cell_type": "code",
      "source": [
        "!cat monthsi.sorted"
      ],
      "metadata": {
        "id": "WbxKTnh2eaWa",
        "colab": {
          "base_uri": "https://localhost:8080/"
        },
        "outputId": "bc9a90ef-c7d5-491a-bce0-367691cb57fc"
      },
      "execution_count": 148,
      "outputs": [
        {
          "output_type": "stream",
          "name": "stdout",
          "text": [
            "april 4 summer\n",
            "august 8 monsoon\n",
            "december 12 post-monsoon\n",
            "february 2 winter\n",
            "january 1 winter\n",
            "july 7 monsoon\n",
            "june 6 monsoon\n",
            "march 3 summer\n",
            "may 5 summer\n",
            "november 11 monsoon\n",
            "october 10 monsoon\n",
            "september 9 monsoon\n"
          ]
        }
      ]
    },
    {
      "cell_type": "code",
      "source": [
        "!cat months.sorted"
      ],
      "metadata": {
        "colab": {
          "base_uri": "https://localhost:8080/"
        },
        "id": "vOdUqnzzflNT",
        "outputId": "147b1777-ecc1-475c-cf3a-f4c858fe7668"
      },
      "execution_count": 149,
      "outputs": [
        {
          "output_type": "stream",
          "name": "stdout",
          "text": [
            "april 4 spring\n",
            "august 8 summer\n",
            "december 12 winter\n",
            "february 2 winter\n",
            "january 1 winter\n",
            "july 7 summer\n",
            "june 6 summer\n",
            "march 3 spring\n",
            "may 5 spring\n",
            "november 11 autumn\n",
            "october 10 autumn\n",
            "september 9 autumn\n"
          ]
        }
      ]
    },
    {
      "cell_type": "markdown",
      "source": [
        "# Archiving files\n",
        "\n",
        "* gzip\n",
        "* gunzip\n",
        "\n",
        "* bzip2\n",
        "* bunzip2\n",
        "\n",
        "* tar"
      ],
      "metadata": {
        "id": "wZAsyx07gL1e"
      }
    },
    {
      "cell_type": "code",
      "source": [],
      "metadata": {
        "id": "RBL-3Wydfnt0"
      },
      "execution_count": 149,
      "outputs": []
    }
  ]
}