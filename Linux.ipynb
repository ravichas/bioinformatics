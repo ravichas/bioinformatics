{
  "nbformat": 4,
  "nbformat_minor": 0,
  "metadata": {
    "colab": {
      "name": "Linux.ipynb",
      "provenance": [],
      "collapsed_sections": [],
      "authorship_tag": "ABX9TyOxyATHYxt0efhFPXJsnmFb",
      "include_colab_link": true
    },
    "kernelspec": {
      "name": "python3",
      "display_name": "Python 3"
    },
    "accelerator": "TPU"
  },
  "cells": [
    {
      "cell_type": "markdown",
      "metadata": {
        "id": "view-in-github",
        "colab_type": "text"
      },
      "source": [
        "<a href=\"https://colab.research.google.com/github/ravichas/bioinformatics/blob/main/Linux.ipynb\" target=\"_parent\"><img src=\"https://colab.research.google.com/assets/colab-badge.svg\" alt=\"Open In Colab\"/></a>"
      ]
    },
    {
      "cell_type": "markdown",
      "metadata": {
        "id": "FjwSdwTPpwQl"
      },
      "source": [
        "*italicized text*## Linux tutorial using COLAB\n",
        "S. Ravichandran (saka.ravi@gmail.com)\n",
        "\n",
        "\n"
      ]
    },
    {
      "cell_type": "markdown",
      "metadata": {
        "id": "fOQZZbzkxlmk"
      },
      "source": [
        "## Linux "
      ]
    },
    {
      "cell_type": "code",
      "metadata": {
        "id": "wy32uvBBwAxk",
        "colab": {
          "base_uri": "https://localhost:8080/"
        },
        "outputId": "b087e25d-258e-402d-f520-68deefa24eaa"
      },
      "source": [
        "!uname -a"
      ],
      "execution_count": 1,
      "outputs": [
        {
          "output_type": "stream",
          "name": "stdout",
          "text": [
            "Linux 087fb5679350 5.4.144+ #1 SMP Tue Dec 7 09:58:10 PST 2021 x86_64 x86_64 x86_64 GNU/Linux\n"
          ]
        }
      ]
    },
    {
      "cell_type": "code",
      "metadata": {
        "id": "MOZxPcynx-Ux",
        "colab": {
          "base_uri": "https://localhost:8080/"
        },
        "outputId": "ab89e473-6e32-4318-ad30-37866db73526"
      },
      "source": [
        "!cat /etc/issue"
      ],
      "execution_count": 2,
      "outputs": [
        {
          "output_type": "stream",
          "name": "stdout",
          "text": [
            "Ubuntu 18.04.5 LTS \\n \\l\n",
            "\n"
          ]
        }
      ]
    },
    {
      "cell_type": "code",
      "metadata": {
        "id": "Rx-fN-OD0SUm",
        "colab": {
          "base_uri": "https://localhost:8080/"
        },
        "outputId": "627fa5e6-bc7b-4dc9-8cd7-c2eba3394779"
      },
      "source": [
        "!pwd\n"
      ],
      "execution_count": 3,
      "outputs": [
        {
          "output_type": "stream",
          "name": "stdout",
          "text": [
            "/content\n"
          ]
        }
      ]
    },
    {
      "cell_type": "code",
      "source": [
        "pip install google-colab-shell"
      ],
      "metadata": {
        "colab": {
          "base_uri": "https://localhost:8080/"
        },
        "id": "Git4meGCTqFD",
        "outputId": "40ec86a3-ea39-4896-b7fb-0aea8e46b94e"
      },
      "execution_count": 4,
      "outputs": [
        {
          "output_type": "stream",
          "name": "stdout",
          "text": [
            "Collecting google-colab-shell\n",
            "  Downloading google-colab-shell-0.2.tar.gz (4.2 kB)\n",
            "Building wheels for collected packages: google-colab-shell\n",
            "  Building wheel for google-colab-shell (setup.py) ... \u001b[?25l\u001b[?25hdone\n",
            "  Created wheel for google-colab-shell: filename=google_colab_shell-0.2-py3-none-any.whl size=4124 sha256=8719d59b88a9912b0a9efd27f56121c99899a550570476530c7b078e5bdd8ac2\n",
            "  Stored in directory: /root/.cache/pip/wheels/ee/62/db/d033316a546102d1da60b51a0cc4ddcf0b8c3cc6044469a47b\n",
            "Successfully built google-colab-shell\n",
            "Installing collected packages: google-colab-shell\n",
            "Successfully installed google-colab-shell-0.2\n"
          ]
        }
      ]
    },
    {
      "cell_type": "code",
      "source": [
        "# import the module once\n",
        "from google_colab_shell import getshell"
      ],
      "metadata": {
        "id": "R1_FRhLjUb7b"
      },
      "execution_count": 5,
      "outputs": []
    },
    {
      "cell_type": "code",
      "source": [
        "## Anytime you want to open a terminal\n",
        "\n",
        "getshell()\n",
        "\n",
        "getshell(height=400) # custom height of the terminal"
      ],
      "metadata": {
        "colab": {
          "base_uri": "https://localhost:8080/",
          "height": 417
        },
        "id": "0ExQQQEVX1Kl",
        "outputId": "dc7520be-6ff1-4f49-d13a-bf02b6abb207"
      },
      "execution_count": 6,
      "outputs": [
        {
          "output_type": "execute_result",
          "data": {
            "text/html": [
              "<!--https://github.com/singhsidhukuldeep/Google-Colab-Shell/-->\n",
              "<!--Using JS/CSS from official sources with backups in-case :)-->\n",
              "<div id=colab_shell></div>\n",
              "<script src=\"https://code.jquery.com/jquery-latest.js\"></script>\n",
              "<script src=\"https://cdn.jsdelivr.net/npm/jquery.terminal/js/jquery.terminal.min.js\"></script>\n",
              "<link href=\"https://cdn.jsdelivr.net/npm/jquery.terminal/css/jquery.terminal.min.css\" rel=\"stylesheet\"/>\n",
              "<script>\n",
              "   $('#colab_shell').terminal(async function(command) {\n",
              "       if (command !== '') {\n",
              "           try {\n",
              "               let res = await google.colab.kernel.invokeFunction('shell', [command])\n",
              "               let out = res.data['application/json'][0]\n",
              "               this.echo(new String(out))\n",
              "           } catch(e) {\n",
              "               this.error(new String(e));\n",
              "           }\n",
              "       } else {\n",
              "           this.echo(\n",
              "             //   '>>Empty Command<<\\n'+\n",
              "             //   'If you can afford use Google Colab Pro'\n",
              "               );\n",
              "       }\n",
              "   }, {\n",
              "       greetings: 'Welcome to Google Colab Shell\\n'+\n",
              "         'If you can afford, please use Google Colab Pro\\n'+\n",
              "         '⭐ STAR the repo ⭐\\n https://github.com/singhsidhukuldeep/Google-Colab-Shell\\n\\n',\n",
              "       name: 'colab_shell',\n",
              "       height: 400,\n",
              "       prompt: '█$ colab>>\\t'\n",
              "   });\n",
              "</script>"
            ],
            "text/plain": [
              "<IPython.core.display.HTML object>"
            ]
          },
          "metadata": {},
          "execution_count": 6
        }
      ]
    },
    {
      "cell_type": "code",
      "source": [
        "%%bash\n",
        "ls [a-z]*.csv\n",
        "pwd\n",
        "\n",
        "# wild cards\n",
        "touch file1.csv file2.csv\n",
        "ls {file1,file2}.csv"
      ],
      "metadata": {
        "colab": {
          "base_uri": "https://localhost:8080/"
        },
        "id": "pbcbQpRUxbG8",
        "outputId": "d3b79089-dcbb-4dfd-bf26-af00b10aed8c"
      },
      "execution_count": 7,
      "outputs": [
        {
          "output_type": "stream",
          "name": "stdout",
          "text": [
            "/content\n",
            "file1.csv\n",
            "file2.csv\n"
          ]
        },
        {
          "output_type": "stream",
          "name": "stderr",
          "text": [
            "ls: cannot access '[a-z]*.csv': No such file or directory\n"
          ]
        }
      ]
    },
    {
      "cell_type": "code",
      "metadata": {
        "id": "Zf6qND2dYn1H",
        "colab": {
          "base_uri": "https://localhost:8080/"
        },
        "outputId": "ad36ddcf-f6dc-4811-820c-674f0a502fad"
      },
      "source": [
        "!which bash"
      ],
      "execution_count": 8,
      "outputs": [
        {
          "output_type": "stream",
          "name": "stdout",
          "text": [
            "/bin/bash\n"
          ]
        }
      ]
    },
    {
      "cell_type": "code",
      "metadata": {
        "id": "jN-dDK8eYYxj",
        "colab": {
          "base_uri": "https://localhost:8080/"
        },
        "outputId": "334c69da-d926-47d5-f998-f9c4bef91369"
      },
      "source": [
        "# create a script \n",
        "\n",
        "%%bash\n",
        "echo \"#!/bin/bash\" >> myscript.sh\n",
        "echo \"echo \\\"I am executing the script, myscript.sh\\\" \" >> myscript.sh\n",
        "echo \"pwd\" >> myscript.sh\n",
        "echo \"date\" >> myscript.sh\n",
        "echo\n"
      ],
      "execution_count": 9,
      "outputs": [
        {
          "output_type": "stream",
          "name": "stdout",
          "text": [
            "\n"
          ]
        }
      ]
    },
    {
      "cell_type": "code",
      "metadata": {
        "id": "gn2DvNvSZICy",
        "colab": {
          "base_uri": "https://localhost:8080/"
        },
        "outputId": "f859ddb2-5367-4b04-aa94-4c2c1a1e9c3c"
      },
      "source": [
        "!cat myscript.sh"
      ],
      "execution_count": 10,
      "outputs": [
        {
          "output_type": "stream",
          "name": "stdout",
          "text": [
            "#!/bin/bash\n",
            "echo \"I am executing the script, myscript.sh\" \n",
            "pwd\n",
            "date\n"
          ]
        }
      ]
    },
    {
      "cell_type": "code",
      "metadata": {
        "id": "x0NrHoldZP2e",
        "colab": {
          "base_uri": "https://localhost:8080/"
        },
        "outputId": "113d2560-a0d3-495e-fb04-f4282d1d2f11"
      },
      "source": [
        "%%bash\n",
        "chmod +x ./myscript.sh\n",
        "./myscript.sh"
      ],
      "execution_count": 11,
      "outputs": [
        {
          "output_type": "stream",
          "name": "stdout",
          "text": [
            "I am executing the script, myscript.sh\n",
            "/content\n",
            "Fri Jan 28 23:07:51 UTC 2022\n"
          ]
        }
      ]
    },
    {
      "cell_type": "code",
      "metadata": {
        "id": "8Gg8J0bjzPfW",
        "colab": {
          "base_uri": "https://localhost:8080/"
        },
        "outputId": "951d67f4-e45f-4c7f-e490-37d211ffa486"
      },
      "source": [
        "%%bash\n",
        "var1=98\n",
        "echo \" var1 is set to:  \" $var1\n",
        "\n",
        "if [ \"${var1}\" -gt  2 ]\n",
        "then\n",
        "   echo \"Var1 is > 3\"\n",
        "else\n",
        "   echo \"Var1 is <= 3\"\n",
        "fi\n",
        "\n"
      ],
      "execution_count": 12,
      "outputs": [
        {
          "output_type": "stream",
          "name": "stdout",
          "text": [
            " var1 is set to:   98\n",
            "Var1 is > 3\n"
          ]
        }
      ]
    },
    {
      "cell_type": "code",
      "metadata": {
        "id": "96FJ74Xh1Z1t",
        "colab": {
          "base_uri": "https://localhost:8080/"
        },
        "outputId": "bdb6d280-f669-4c8e-f480-2ccaf4be5fc3"
      },
      "source": [
        "%%bash\n",
        "cd /content\n",
        "pwd\n",
        "mkdir -p test\n",
        "cd test\n",
        "touch Ravi.txt\n",
        "pwd\n",
        "cd ..\n",
        "\n",
        "pwd"
      ],
      "execution_count": 13,
      "outputs": [
        {
          "output_type": "stream",
          "name": "stdout",
          "text": [
            "/content\n",
            "/content/test\n",
            "/content\n"
          ]
        }
      ]
    },
    {
      "cell_type": "code",
      "metadata": {
        "id": "suRmWqDXauWF"
      },
      "source": [
        "%%bash\n",
        "cd"
      ],
      "execution_count": 14,
      "outputs": []
    },
    {
      "cell_type": "code",
      "metadata": {
        "id": "C6Z3aSw_a0-H",
        "colab": {
          "base_uri": "https://localhost:8080/"
        },
        "outputId": "428b7505-acbe-4442-af2d-b7bf41220bb6"
      },
      "source": [
        "!pwd"
      ],
      "execution_count": 15,
      "outputs": [
        {
          "output_type": "stream",
          "name": "stdout",
          "text": [
            "/content\n"
          ]
        }
      ]
    },
    {
      "cell_type": "code",
      "metadata": {
        "id": "U7OIsUWl2Ijv",
        "colab": {
          "base_uri": "https://localhost:8080/"
        },
        "outputId": "8cfb454c-ddd9-4a8a-9128-162801de7f99"
      },
      "source": [
        "%%bash \n",
        "\n",
        "ls \n",
        "\n",
        "ls -l -f\n"
      ],
      "execution_count": 16,
      "outputs": [
        {
          "output_type": "stream",
          "name": "stdout",
          "text": [
            "file1.csv\n",
            "file2.csv\n",
            "myscript.sh\n",
            "sample_data\n",
            "test\n",
            ".\n",
            ".config\n",
            "..\n",
            "file2.csv\n",
            "test\n",
            "myscript.sh\n",
            "file1.csv\n",
            "sample_data\n"
          ]
        }
      ]
    },
    {
      "cell_type": "code",
      "metadata": {
        "id": "r7XwQjoPc-A_",
        "colab": {
          "base_uri": "https://localhost:8080/"
        },
        "outputId": "9b36643b-6c1a-4d23-cd0b-20666371cd33"
      },
      "source": [
        "%%bash \n",
        "cat > ids.txt <<EOL\n",
        "A\n",
        "B\n",
        "C\n",
        "EOL\n",
        "\n",
        "cat ids.txt"
      ],
      "execution_count": 17,
      "outputs": [
        {
          "output_type": "stream",
          "name": "stdout",
          "text": [
            "A\n",
            "B\n",
            "C\n"
          ]
        }
      ]
    },
    {
      "cell_type": "code",
      "metadata": {
        "id": "JcmT7pQreXdC",
        "colab": {
          "base_uri": "https://localhost:8080/"
        },
        "outputId": "f34891d4-80c2-47c1-8b0e-5e9cc0f39f91"
      },
      "source": [
        "!which parallel"
      ],
      "execution_count": 18,
      "outputs": [
        {
          "output_type": "stream",
          "name": "stdout",
          "text": [
            "/usr/bin/parallel\n"
          ]
        }
      ]
    },
    {
      "cell_type": "code",
      "metadata": {
        "id": "iEBnbrape1A-",
        "colab": {
          "base_uri": "https://localhost:8080/"
        },
        "outputId": "a57c541c-9500-4478-d612-8480c25e4e8a"
      },
      "source": [
        "!cat ids.txt"
      ],
      "execution_count": 19,
      "outputs": [
        {
          "output_type": "stream",
          "name": "stdout",
          "text": [
            "A\n",
            "B\n",
            "C\n"
          ]
        }
      ]
    },
    {
      "cell_type": "code",
      "metadata": {
        "id": "odgHCiaughMK",
        "colab": {
          "base_uri": "https://localhost:8080/"
        },
        "outputId": "a3a0c8b9-2200-4453-8e53-6e929adaff6c"
      },
      "source": [
        "! parallel -j 3 -- ls df \"echo hi\""
      ],
      "execution_count": 20,
      "outputs": [
        {
          "output_type": "stream",
          "name": "stdout",
          "text": [
            "hi\n",
            "Filesystem     1K-blocks     Used Available Use% Mounted on\n",
            "overlay        112947452 43906820  69024248  39% /\n",
            "tmpfs              65536        0     65536   0% /dev\n",
            "shm              5988352        0   5988352   0% /dev/shm\n",
            "/dev/root        2003760  1167556    836204  59% /sbin/docker-init\n",
            "tmpfs            6651460       28   6651432   1% /var/colab\n",
            "/dev/sda1       84611628 47834832  36760412  57% /etc/hosts\n",
            "tmpfs            6651460        0   6651460   0% /proc/acpi\n",
            "tmpfs            6651460        0   6651460   0% /proc/scsi\n",
            "tmpfs            6651460        0   6651460   0% /sys/firmware\n",
            "file1.csv\n",
            "file2.csv\n",
            "ids.txt\n",
            "myscript.sh\n",
            "sample_data\n",
            "test\n"
          ]
        }
      ]
    },
    {
      "cell_type": "code",
      "metadata": {
        "id": "NPKP1VIaeI7F"
      },
      "source": [
        "%%bash\n",
        "cat ids.txt | parallel \"echo foo {} \\| bar \\> {}.txt\""
      ],
      "execution_count": 21,
      "outputs": []
    },
    {
      "cell_type": "code",
      "metadata": {
        "id": "gVWNcRBPfKW5",
        "colab": {
          "base_uri": "https://localhost:8080/"
        },
        "outputId": "4880aab7-b479-4687-c9f9-428f495e2f96"
      },
      "source": [
        "%%bash\n",
        "NAME=Sam\n",
        "\n",
        "# Strings with double quotes or no quotes will be substituted\n",
        "echo Welcome $NAME\n",
        "echo \"Welcome $NAME\"\n",
        "\n",
        "# strings with single quote will be produced as such\n",
        "echo 'Welcome $NAME'"
      ],
      "execution_count": 22,
      "outputs": [
        {
          "output_type": "stream",
          "name": "stdout",
          "text": [
            "Welcome Sam\n",
            "Welcome Sam\n",
            "Welcome $NAME\n"
          ]
        }
      ]
    },
    {
      "cell_type": "markdown",
      "metadata": {
        "id": "4VTtd-45l-Tb"
      },
      "source": [
        "Rather than using explicit names, use variable names as proxy for creating efficient scripts"
      ]
    },
    {
      "cell_type": "code",
      "metadata": {
        "id": "ANgK8403leCF",
        "colab": {
          "base_uri": "https://localhost:8080/"
        },
        "outputId": "caf09959-a936-4b7e-9734-43dd0bb40986"
      },
      "source": [
        "%%bash\n",
        "wget http://www.rcsb.org/pdb/files/7lyz.pdb >& /dev/null\n",
        "\n",
        "head 7lyz.pdb\n"
      ],
      "execution_count": 23,
      "outputs": [
        {
          "output_type": "stream",
          "name": "stdout",
          "text": [
            "HEADER    HYDROLASE(O-GLYCOSYL)                   06-MAY-77   7LYZ              \n",
            "TITLE     PROTEIN MODEL BUILDING BY THE USE OF A CONSTRAINED-                   \n",
            "TITLE    2 RESTRAINED LEAST-SQUARES PROCEDURE                                   \n",
            "COMPND    MOL_ID: 1;                                                            \n",
            "COMPND   2 MOLECULE: HEN EGG WHITE LYSOZYME;                                    \n",
            "COMPND   3 CHAIN: A;                                                            \n",
            "COMPND   4 EC: 3.2.1.17;                                                        \n",
            "COMPND   5 ENGINEERED: YES                                                      \n",
            "SOURCE    MOL_ID: 1;                                                            \n",
            "SOURCE   2 ORGANISM_SCIENTIFIC: GALLUS GALLUS;                                  \n"
          ]
        }
      ]
    },
    {
      "cell_type": "code",
      "metadata": {
        "id": "vbO9oJHHk1HD",
        "colab": {
          "base_uri": "https://localhost:8080/"
        },
        "outputId": "b2bac101-338a-4271-b59d-5d4abd586cf8"
      },
      "source": [
        "%%bash\n",
        "PDB_ID=7lyz\n",
        "wget http://www.rcsb.org/pdb/files/${PDB_ID}.pdb >& /dev/null\n",
        "head ${PDB_ID}.pdb"
      ],
      "execution_count": 24,
      "outputs": [
        {
          "output_type": "stream",
          "name": "stdout",
          "text": [
            "HEADER    HYDROLASE(O-GLYCOSYL)                   06-MAY-77   7LYZ              \n",
            "TITLE     PROTEIN MODEL BUILDING BY THE USE OF A CONSTRAINED-                   \n",
            "TITLE    2 RESTRAINED LEAST-SQUARES PROCEDURE                                   \n",
            "COMPND    MOL_ID: 1;                                                            \n",
            "COMPND   2 MOLECULE: HEN EGG WHITE LYSOZYME;                                    \n",
            "COMPND   3 CHAIN: A;                                                            \n",
            "COMPND   4 EC: 3.2.1.17;                                                        \n",
            "COMPND   5 ENGINEERED: YES                                                      \n",
            "SOURCE    MOL_ID: 1;                                                            \n",
            "SOURCE   2 ORGANISM_SCIENTIFIC: GALLUS GALLUS;                                  \n"
          ]
        }
      ]
    },
    {
      "cell_type": "markdown",
      "metadata": {
        "id": "_4AO32dSnNMJ"
      },
      "source": [
        "# Script typos will not make the script stop "
      ]
    },
    {
      "cell_type": "code",
      "metadata": {
        "id": "oz6x0mPXpE2u"
      },
      "source": [
        "%%bash\n",
        "rm -f myscript1.sh\n",
        "\n",
        "cat > myscript1.sh <<EOL\n",
        "#!/bin/bash\n",
        "echo I am executing myscript1.sh\n",
        "duu -h\n",
        "pwd  \n",
        "ls -l \n",
        "echo Script successfully completed\n",
        "EOL"
      ],
      "execution_count": 25,
      "outputs": []
    },
    {
      "cell_type": "code",
      "metadata": {
        "id": "5-sgDTqrwDCQ",
        "colab": {
          "base_uri": "https://localhost:8080/"
        },
        "outputId": "b2793595-a7dd-42a4-864d-04ab7c381a5f"
      },
      "source": [
        "%%bash\n",
        "chmod +x ./myscript1.sh\n",
        "./myscript1.sh"
      ],
      "execution_count": 26,
      "outputs": [
        {
          "output_type": "stream",
          "name": "stdout",
          "text": [
            "I am executing myscript1.sh\n",
            "/content\n",
            "total 228\n",
            "-rw-r--r-- 1 root root 103275 Jan 28 23:07 7lyz.pdb\n",
            "-rw-r--r-- 1 root root 103275 Jan 28 23:07 7lyz.pdb.1\n",
            "-rw-r--r-- 1 root root      0 Jan 28 23:07 file1.csv\n",
            "-rw-r--r-- 1 root root      0 Jan 28 23:07 file2.csv\n",
            "-rw-r--r-- 1 root root      6 Jan 28 23:07 ids.txt\n",
            "-rwxr-xr-x 1 root root    100 Jan 28 23:07 myscript1.sh\n",
            "-rwxr-xr-x 1 root root     68 Jan 28 23:07 myscript.sh\n",
            "drwxr-xr-x 1 root root   4096 Jan  7 14:33 sample_data\n",
            "drwxr-xr-x 2 root root   4096 Jan 28 23:07 test\n",
            "Script successfully completed\n"
          ]
        },
        {
          "output_type": "stream",
          "name": "stderr",
          "text": [
            "./myscript1.sh: line 3: duu: command not found\n"
          ]
        }
      ]
    },
    {
      "cell_type": "markdown",
      "metadata": {
        "id": "De76QC3dqiYb"
      },
      "source": [
        "# Use \"set -ue\" to catch any errors"
      ]
    },
    {
      "cell_type": "code",
      "metadata": {
        "id": "4SPnRmF_w57A"
      },
      "source": [
        "%%bash\n",
        "rm -f myscript1.sh\n",
        "\n",
        "cat > myscript1.sh <<EOL\n",
        "#!/bin/bash\n",
        "set -ue\n",
        "echo I am executing myscript1.sh\n",
        "duu -h\n",
        "pwd  \n",
        "ls -l \n",
        "echo Script successfully completed\n",
        "EOL"
      ],
      "execution_count": 27,
      "outputs": []
    },
    {
      "cell_type": "code",
      "metadata": {
        "id": "44l85rRZoCn7",
        "colab": {
          "base_uri": "https://localhost:8080/"
        },
        "outputId": "df41a2eb-f732-4f71-9b21-4755896ca169"
      },
      "source": [
        "%%bash\n",
        "chmod +x ./myscript1.sh\n",
        "./myscript1.sh"
      ],
      "execution_count": 28,
      "outputs": [
        {
          "output_type": "stream",
          "name": "stdout",
          "text": [
            "I am executing myscript1.sh\n"
          ]
        },
        {
          "output_type": "stream",
          "name": "stderr",
          "text": [
            "./myscript1.sh: line 4: duu: command not found\n"
          ]
        }
      ]
    },
    {
      "cell_type": "markdown",
      "metadata": {
        "id": "BBDjCcbqrAB1"
      },
      "source": [
        "# pass variables "
      ]
    },
    {
      "cell_type": "code",
      "metadata": {
        "id": "DAdzHVCKx3a7"
      },
      "source": [
        "%%bash\n",
        "rm -f myscript2.sh\n",
        "\n",
        "cat > myscript2.sh <<EOL\n",
        "#!/bin/bash\n",
        "echo I am executing myscript2.sh\n",
        "set -ue\n",
        "\n",
        "filea=\\$1\n",
        "fileb=\\$2\n",
        "wget http://www.rcsb.org/pdb/files/\\${filea}.pdb >& /dev/null \n",
        "wget http://www.rcsb.org/pdb/files/\\${fileb}.pdb >& /dev/null \n",
        "EOL"
      ],
      "execution_count": 29,
      "outputs": []
    },
    {
      "cell_type": "code",
      "metadata": {
        "id": "sxukLwp1yZFG",
        "colab": {
          "base_uri": "https://localhost:8080/"
        },
        "outputId": "66b9ccb7-14c7-4b1e-ea58-327f08833637"
      },
      "source": [
        "%%bash \n",
        "chmod +x ./myscript2.sh\n",
        "./myscript2.sh 7lyz 2src"
      ],
      "execution_count": 30,
      "outputs": [
        {
          "output_type": "stream",
          "name": "stdout",
          "text": [
            "I am executing myscript2.sh\n"
          ]
        }
      ]
    },
    {
      "cell_type": "code",
      "metadata": {
        "id": "HL6Bsx9ntTRP",
        "colab": {
          "base_uri": "https://localhost:8080/"
        },
        "outputId": "cbb6d388-4fdc-47a2-cc8d-9d0075b30b50"
      },
      "source": [
        "! ./myscript2.sh 7lyz 2src"
      ],
      "execution_count": 31,
      "outputs": [
        {
          "output_type": "stream",
          "name": "stdout",
          "text": [
            "I am executing myscript2.sh\n"
          ]
        }
      ]
    },
    {
      "cell_type": "code",
      "metadata": {
        "id": "Jxb9Au0n1mzN",
        "colab": {
          "base_uri": "https://localhost:8080/"
        },
        "outputId": "317929d7-8468-46cb-91df-18be400e7c5f"
      },
      "source": [
        "%%bash\n",
        "\n",
        "for i in *.pdb; do \n",
        "  echo $i\n",
        "done"
      ],
      "execution_count": 32,
      "outputs": [
        {
          "output_type": "stream",
          "name": "stdout",
          "text": [
            "2src.pdb\n",
            "7lyz.pdb\n"
          ]
        }
      ]
    },
    {
      "cell_type": "code",
      "metadata": {
        "id": "-UzyYonp2Mk5"
      },
      "source": [
        "%%bash\n",
        "\n",
        "cat ids.txt | parallel echo Hello {}"
      ],
      "execution_count": 33,
      "outputs": []
    },
    {
      "cell_type": "markdown",
      "metadata": {
        "id": "_Xrapbx12mG1"
      },
      "source": [
        "## Help"
      ]
    },
    {
      "cell_type": "code",
      "metadata": {
        "id": "xfb9f3ry2g8w"
      },
      "source": [
        "man ls"
      ],
      "execution_count": 34,
      "outputs": []
    },
    {
      "cell_type": "code",
      "metadata": {
        "id": "ucUY1QHD25nI"
      },
      "source": [
        "%%bash\n",
        "wget http://www.rcsb.org/pdb/files/7lyz.pdb >& /dev/null"
      ],
      "execution_count": 35,
      "outputs": []
    },
    {
      "cell_type": "code",
      "metadata": {
        "id": "Yil2SEv7b-OJ",
        "colab": {
          "base_uri": "https://localhost:8080/"
        },
        "outputId": "d6399615-1f44-4a95-ce93-0a68086cf6d5"
      },
      "source": [
        "!tail 7lyz.pdb"
      ],
      "execution_count": 36,
      "outputs": [
        {
          "output_type": "stream",
          "name": "stdout",
          "text": [
            "CONECT   48  981                                                                \n",
            "CONECT  238  889                                                                \n",
            "CONECT  513  630                                                                \n",
            "CONECT  601  724                                                                \n",
            "CONECT  630  513                                                                \n",
            "CONECT  724  601                                                                \n",
            "CONECT  889  238                                                                \n",
            "CONECT  981   48                                                                \n",
            "MASTER      200    0    0    7    5    0    0    6 1000    1    8   10          \n",
            "END                                                                             \n"
          ]
        }
      ]
    },
    {
      "cell_type": "code",
      "metadata": {
        "id": "fG1GlDrqbtYR"
      },
      "source": [
        "%%bash\n",
        "cat 7lyz.pdb | grep \"ATOM\"  > 7lyzAllATOM.pdb\n",
        "cat 7lyz.pdb | grep \"^ATOM\" > 7lyzATOM.pdb"
      ],
      "execution_count": 37,
      "outputs": []
    },
    {
      "cell_type": "code",
      "metadata": {
        "id": "QJWxmSO8btSB",
        "colab": {
          "base_uri": "https://localhost:8080/"
        },
        "outputId": "df413b2c-8b4b-468f-a1dc-ce7837e4d29d"
      },
      "source": [
        "!tail 7lyzATOM.pdb"
      ],
      "execution_count": 38,
      "outputs": [
        {
          "output_type": "stream",
          "name": "stdout",
          "text": [
            "ATOM    991  NH1 ARG A 128     -11.338  18.534  -0.456  1.00  0.00           N  \n",
            "ATOM    992  NH2 ARG A 128     -11.089  20.570   0.601  1.00  0.00           N  \n",
            "ATOM    993  N   LEU A 129     -15.924  20.234   5.720  1.00  0.00           N  \n",
            "ATOM    994  CA  LEU A 129     -15.940  20.178   7.186  1.00  0.00           C  \n",
            "ATOM    995  C   LEU A 129     -17.401  20.237   7.574  1.00  0.00           C  \n",
            "ATOM    996  O   LEU A 129     -18.246  20.723   6.800  1.00  0.00           O  \n",
            "ATOM    997  CB  LEU A 129     -15.165  21.349   7.787  1.00  0.00           C  \n",
            "ATOM    998  CG  LEU A 129     -13.668  21.334   7.483  1.00  0.00           C  \n",
            "ATOM    999  CD1 LEU A 129     -12.937  22.555   8.033  1.00  0.00           C  \n",
            "ATOM   1000  CD2 LEU A 129     -13.023  20.057   7.984  1.00  0.00           C  \n"
          ]
        }
      ]
    },
    {
      "cell_type": "code",
      "metadata": {
        "id": "Fzn3C3NX3Acc"
      },
      "source": [
        "more 7lyz.pdb"
      ],
      "execution_count": 39,
      "outputs": []
    },
    {
      "cell_type": "code",
      "metadata": {
        "id": "gFLxtvMQ3VuW",
        "colab": {
          "base_uri": "https://localhost:8080/"
        },
        "outputId": "1d12ae26-8d6d-4710-adb8-4d57ac6fc1c4"
      },
      "source": [
        "%%bash\n",
        "wget http://www.rcsb.org/pdb/files/2src.pdb"
      ],
      "execution_count": 40,
      "outputs": [
        {
          "output_type": "stream",
          "name": "stderr",
          "text": [
            "URL transformed to HTTPS due to an HSTS policy\n",
            "--2022-01-28 23:07:58--  https://www.rcsb.org/pdb/files/2src.pdb\n",
            "Resolving www.rcsb.org (www.rcsb.org)... 128.6.159.248\n",
            "Connecting to www.rcsb.org (www.rcsb.org)|128.6.159.248|:443... connected.\n",
            "HTTP request sent, awaiting response... 301 Moved Permanently\n",
            "Location: https://files.rcsb.org/download/2src.pdb [following]\n",
            "--2022-01-28 23:07:58--  https://files.rcsb.org/download/2src.pdb\n",
            "Resolving files.rcsb.org (files.rcsb.org)... 132.249.210.234\n",
            "Connecting to files.rcsb.org (files.rcsb.org)|132.249.210.234|:443... connected.\n",
            "HTTP request sent, awaiting response... 200 OK\n",
            "Length: unspecified [application/octet-stream]\n",
            "Saving to: ‘2src.pdb.2’\n",
            "\n",
            "     0K .......... .......... .......... .......... ..........  504K\n",
            "    50K .......... .......... .......... .......... .......... 1006K\n",
            "   100K .......... .......... .......... .......... .......... 35.9M\n",
            "   150K .......... .......... .......... .......... .......... 35.7M\n",
            "   200K .......... .......... .......... .......... .......... 1.02M\n",
            "   250K .......... .......... .......... .......... .......... 56.1M\n",
            "   300K .......... .......... .......... .......... .....      63.6M=0.2s\n",
            "\n",
            "2022-01-28 23:07:58 (1.68 MB/s) - ‘2src.pdb.2’ saved [353889]\n",
            "\n"
          ]
        }
      ]
    },
    {
      "cell_type": "code",
      "metadata": {
        "id": "lJ59wMKP3lY4"
      },
      "source": [
        "!mv 2src.pdb 2src.PDB"
      ],
      "execution_count": 41,
      "outputs": []
    },
    {
      "cell_type": "code",
      "metadata": {
        "id": "t0uPriHI3pr7",
        "colab": {
          "base_uri": "https://localhost:8080/"
        },
        "outputId": "d253ed40-497c-4e8e-eef5-5e2ca7edbafc"
      },
      "source": [
        "!ls -l\n"
      ],
      "execution_count": 42,
      "outputs": [
        {
          "output_type": "stream",
          "name": "stdout",
          "text": [
            "total 1748\n",
            "-rw-r--r-- 1 root root 353889 Jan 28 23:07 2src.PDB\n",
            "-rw-r--r-- 1 root root 353889 Jan 28 23:07 2src.pdb.1\n",
            "-rw-r--r-- 1 root root 353889 Jan 28 23:07 2src.pdb.2\n",
            "-rw-r--r-- 1 root root  81567 Jan 28 23:07 7lyzAllATOM.pdb\n",
            "-rw-r--r-- 1 root root  81000 Jan 28 23:07 7lyzATOM.pdb\n",
            "-rw-r--r-- 1 root root 103275 Jan 28 23:07 7lyz.pdb\n",
            "-rw-r--r-- 1 root root 103275 Jan 28 23:07 7lyz.pdb.1\n",
            "-rw-r--r-- 1 root root 103275 Jan 28 23:07 7lyz.pdb.2\n",
            "-rw-r--r-- 1 root root 103275 Jan 28 23:07 7lyz.pdb.3\n",
            "-rw-r--r-- 1 root root 103275 Jan 28 23:07 7lyz.pdb.4\n",
            "-rw-r--r-- 1 root root      0 Jan 28 23:07 file1.csv\n",
            "-rw-r--r-- 1 root root      0 Jan 28 23:07 file2.csv\n",
            "-rw-r--r-- 1 root root      6 Jan 28 23:07 ids.txt\n",
            "-rwxr-xr-x 1 root root    108 Jan 28 23:07 myscript1.sh\n",
            "-rwxr-xr-x 1 root root    196 Jan 28 23:07 myscript2.sh\n",
            "-rwxr-xr-x 1 root root     68 Jan 28 23:07 myscript.sh\n",
            "drwxr-xr-x 1 root root   4096 Jan  7 14:33 sample_data\n",
            "drwxr-xr-x 2 root root   4096 Jan 28 23:07 test\n"
          ]
        }
      ]
    },
    {
      "cell_type": "code",
      "metadata": {
        "id": "FfvD8A0Z3qj9"
      },
      "source": [
        "!rm -f 2src.PDB"
      ],
      "execution_count": 43,
      "outputs": []
    },
    {
      "cell_type": "code",
      "metadata": {
        "id": "hcs_xP2S3xOH",
        "colab": {
          "base_uri": "https://localhost:8080/"
        },
        "outputId": "ceb462f8-05ba-477e-f088-7ea66b848ca7"
      },
      "source": [
        "!ls -l 2src.PDB"
      ],
      "execution_count": 44,
      "outputs": [
        {
          "output_type": "stream",
          "name": "stdout",
          "text": [
            "ls: cannot access '2src.PDB': No such file or directory\n"
          ]
        }
      ]
    },
    {
      "cell_type": "code",
      "metadata": {
        "id": "kAcZCWVJ35fB"
      },
      "source": [
        "!touch new_file.txt\n"
      ],
      "execution_count": 45,
      "outputs": []
    },
    {
      "cell_type": "code",
      "metadata": {
        "id": "tz-9bCse39PZ",
        "colab": {
          "base_uri": "https://localhost:8080/"
        },
        "outputId": "eedbd1a3-520b-4f0f-a50a-ade2e2d25bce"
      },
      "source": [
        "!ls -l new_file.txt"
      ],
      "execution_count": 46,
      "outputs": [
        {
          "output_type": "stream",
          "name": "stdout",
          "text": [
            "-rw-r--r-- 1 root root 0 Jan 28 23:07 new_file.txt\n"
          ]
        }
      ]
    },
    {
      "cell_type": "code",
      "metadata": {
        "id": "T6HHKaIK4BJw"
      },
      "source": [
        "!find /content -name edirect"
      ],
      "execution_count": 47,
      "outputs": []
    },
    {
      "cell_type": "code",
      "metadata": {
        "id": "m86ngp5H4Eb9",
        "colab": {
          "base_uri": "https://localhost:8080/"
        },
        "outputId": "523ec368-2f49-4438-c275-392fd879ed9e"
      },
      "source": [
        "!cat 7lyz.pdb | grep CA\n"
      ],
      "execution_count": 48,
      "outputs": [
        {
          "output_type": "stream",
          "name": "stdout",
          "text": [
            "REMARK   1  PUBL   NATIONAL BIOMEDICAL RESEARCH FOUNDATION, SILVER              \n",
            "REMARK 200  DATA SCALING SOFTWARE          : NULL                               \n",
            "REMARK 290 RECORDS IN THIS ENTRY TO PRODUCE CRYSTALLOGRAPHICALLY                \n",
            "REMARK 350 BIOLOGICALLY SIGNIFICANT OLIGOMERIZATION STATE OF THE                \n",
            "REMARK 350 MOLECULE CAN BE GENERATED BY APPLYING BIOMT TRANSFORMATIONS          \n",
            "REMARK 350 AUTHOR DETERMINED BIOLOGICAL UNIT: MONOMERIC                         \n",
            "SCALE1      0.036496  0.014745  0.013266        0.00000                         \n",
            "SCALE2      0.000000  0.033810  0.003113        0.00000                         \n",
            "SCALE3      0.000000  0.000000  0.030695        0.00000                         \n",
            "ATOM      2  CA  LYS A   1       2.413  10.425   9.258  1.00  0.00           C  \n",
            "ATOM     11  CA  VAL A   2       2.363  13.781   7.464  1.00  0.00           C  \n",
            "ATOM     18  CA  PHE A   3      -1.078  15.390   7.136  1.00  0.00           C  \n",
            "ATOM     29  CA  GLY A   4      -2.451  17.407   4.222  1.00  0.00           C  \n",
            "ATOM     33  CA  ARG A   5      -4.040  20.684   5.351  1.00  0.00           C  \n",
            "ATOM     44  CA  CYS A   6      -7.624  19.521   4.933  1.00  0.00           C  \n",
            "ATOM     50  CA  GLU A   7      -7.395  15.914   6.224  1.00  0.00           C  \n",
            "ATOM     59  CA  LEU A   8      -5.807  17.402   9.353  1.00  0.00           C  \n",
            "ATOM     67  CA  ALA A   9      -8.577  19.979   9.553  1.00  0.00           C  \n",
            "ATOM     72  CA  ALA A  10     -11.141  17.186   9.168  1.00  0.00           C  \n",
            "ATOM     77  CA  ALA A  11      -9.308  15.021  11.713  1.00  0.00           C  \n",
            "ATOM     82  CA  MET A  12      -8.901  17.761  14.310  1.00  0.00           C  \n",
            "ATOM     90  CA  LYS A  13     -12.620  18.437  13.794  1.00  0.00           C  \n",
            "ATOM     99  CA  ARG A  14     -13.433  14.744  14.270  1.00  0.00           C  \n",
            "ATOM    110  CA  HIS A  15     -11.794  15.212  17.653  1.00  0.00           C  \n",
            "ATOM    120  CA  GLY A  16     -13.816  18.313  18.760  1.00  0.00           C  \n",
            "ATOM    124  CA  LEU A  17     -11.067  20.964  18.342  1.00  0.00           C  \n",
            "ATOM    132  CA  ASP A  18     -13.280  23.360  16.386  1.00  0.00           C  \n",
            "ATOM    140  CA  ASN A  19     -14.196  25.976  18.999  1.00  0.00           C  \n",
            "ATOM    148  CA  TYR A  20     -12.551  24.258  21.975  1.00  0.00           C  \n",
            "ATOM    160  CA  ARG A  21     -11.883  26.918  24.621  1.00  0.00           C  \n",
            "ATOM    171  CA  GLY A  22     -12.921  29.606  22.102  1.00  0.00           C  \n",
            "ATOM    175  CA  TYR A  23     -10.334  28.963  19.366  1.00  0.00           C  \n",
            "ATOM    187  CA  SER A  24     -11.683  28.230  15.859  1.00  0.00           C  \n",
            "ATOM    193  CA  LEU A  25     -10.401  25.184  13.892  1.00  0.00           C  \n",
            "ATOM    201  CA  GLY A  26      -7.964  27.229  11.778  1.00  0.00           C  \n",
            "ATOM    205  CA  ASN A  27      -6.154  28.325  14.959  1.00  0.00           C  \n",
            "ATOM    213  CA  TRP A  28      -5.012  24.711  15.366  1.00  0.00           C  \n",
            "ATOM    227  CA  VAL A  29      -4.133  23.828  11.782  1.00  0.00           C  \n",
            "ATOM    234  CA  CYS A  30      -1.985  26.972  11.963  1.00  0.00           C  \n",
            "ATOM    240  CA  ALA A  31      -0.090  26.166  15.171  1.00  0.00           C  \n",
            "ATOM    245  CA  ALA A  32       0.646  22.666  13.853  1.00  0.00           C  \n",
            "ATOM    250  CA  LYS A  33       1.640  23.991  10.409  1.00  0.00           C  \n",
            "ATOM    259  CA  PHE A  34       4.343  26.228  11.894  1.00  0.00           C  \n",
            "ATOM    270  CA  GLU A  35       5.377  23.965  14.768  1.00  0.00           C  \n",
            "ATOM    279  CA  SER A  36       5.989  20.772  12.799  1.00  0.00           C  \n",
            "ATOM    285  CA  ASN A  37       4.780  21.019   9.159  1.00  0.00           C  \n",
            "ATOM    293  CA  PHE A  38       1.955  18.486   9.715  1.00  0.00           C  \n",
            "ATOM    304  CA  ASN A  39       4.824  16.143  10.746  1.00  0.00           C  \n",
            "ATOM    312  CA  THR A  40       3.639  13.880  13.595  1.00  0.00           C  \n",
            "ATOM    319  CA  GLN A  41       7.121  12.348  13.907  1.00  0.00           C  \n",
            "ATOM    328  CA  ALA A  42       9.004  15.615  14.422  1.00  0.00           C  \n",
            "ATOM    333  CA  THR A  43      11.189  15.890  17.516  1.00  0.00           C  \n",
            "ATOM    340  CA  ASN A  44      13.072  18.983  18.701  1.00  0.00           C  \n",
            "ATOM    348  CA  ARG A  45      15.554  19.046  21.552  1.00  0.00           C  \n",
            "ATOM    359  CA  ASN A  46      15.573  22.355  23.449  1.00  0.00           C  \n",
            "ATOM    367  CA  THR A  47      18.261  23.424  25.915  1.00  0.00           C  \n",
            "ATOM    374  CA  ASP A  48      16.935  22.414  29.384  1.00  0.00           C  \n",
            "ATOM    382  CA  GLY A  49      16.694  18.622  28.983  1.00  0.00           C  \n",
            "ATOM    386  CA  SER A  50      13.185  18.578  27.539  1.00  0.00           C  \n",
            "ATOM    392  CA  THR A  51      12.242  17.574  24.002  1.00  0.00           C  \n",
            "ATOM    399  CA  ASP A  52       9.194  18.413  21.899  1.00  0.00           C  \n",
            "ATOM    407  CA  TYR A  53       7.075  15.740  20.249  1.00  0.00           C  \n",
            "ATOM    419  CA  GLY A  54       4.685  15.256  17.323  1.00  0.00           C  \n",
            "ATOM    423  CA  ILE A  55       2.542  17.546  15.155  1.00  0.00           C  \n",
            "ATOM    431  CA  LEU A  56       1.857  20.009  17.989  1.00  0.00           C  \n",
            "ATOM    439  CA  GLN A  57       5.216  19.733  19.792  1.00  0.00           C  \n",
            "ATOM    448  CA  ILE A  58       4.318  19.025  23.370  1.00  0.00           C  \n",
            "ATOM    456  CA  ASN A  59       7.070  19.512  25.976  1.00  0.00           C  \n",
            "ATOM    464  CA  SER A  60       8.249  16.562  28.103  1.00  0.00           C  \n",
            "ATOM    470  CA  ARG A  61       8.741  18.474  31.374  1.00  0.00           C  \n",
            "ATOM    481  CA  TRP A  62       5.085  19.343  32.044  1.00  0.00           C  \n",
            "ATOM    495  CA  TRP A  63       3.096  17.120  29.723  1.00  0.00           C  \n",
            "ATOM    509  CA  CYS A  64       4.564  13.728  29.047  1.00  0.00           C  \n",
            "ATOM    515  CA  ASN A  65       7.004  11.041  30.254  1.00  0.00           C  \n",
            "ATOM    523  CA  ASP A  66      10.050  10.110  28.165  1.00  0.00           C  \n",
            "ATOM    531  CA  GLY A  67      11.945   9.538  31.443  1.00  0.00           C  \n",
            "ATOM    535  CA  ARG A  68      15.099  11.406  30.417  1.00  0.00           C  \n",
            "ATOM    546  CA  THR A  69      13.608  14.815  31.224  1.00  0.00           C  \n",
            "ATOM    553  CA  PRO A  70      14.123  15.886  34.801  1.00  0.00           C  \n",
            "ATOM    560  CA  GLY A  71      11.765  18.260  36.626  1.00  0.00           C  \n",
            "ATOM    564  CA  SER A  72       9.165  16.007  34.985  1.00  0.00           C  \n",
            "ATOM    570  CA  ARG A  73       5.480  16.191  35.705  1.00  0.00           C  \n",
            "ATOM    581  CA  ASN A  74       3.135  13.923  33.691  1.00  0.00           C  \n",
            "ATOM    589  CA  LEU A  75       0.030  16.092  33.351  1.00  0.00           C  \n",
            "ATOM    597  CA  CYS A  76      -1.209  14.225  30.293  1.00  0.00           C  \n",
            "ATOM    603  CA  ASN A  77      -0.412  10.770  31.719  1.00  0.00           C  \n",
            "ATOM    611  CA  ILE A  78       1.254   9.992  28.395  1.00  0.00           C  \n",
            "ATOM    619  CA  PRO A  79       4.649   8.729  27.375  1.00  0.00           C  \n",
            "ATOM    626  CA  CYS A  80       6.074  11.323  25.000  1.00  0.00           C  \n",
            "ATOM    632  CA  SER A  81       6.260   8.684  22.237  1.00  0.00           C  \n",
            "ATOM    638  CA  ALA A  82       2.490   8.150  22.131  1.00  0.00           C  \n",
            "ATOM    643  CA  LEU A  83       2.749  11.680  20.710  1.00  0.00           C  \n",
            "ATOM    651  CA  LEU A  84       4.574  10.407  17.600  1.00  0.00           C  \n",
            "ATOM    659  CA  SER A  85       2.080   7.892  16.212  1.00  0.00           C  \n",
            "ATOM    665  CA  SER A  86       0.009   8.578  13.058  1.00  0.00           C  \n",
            "ATOM    671  CA  ASP A  87      -3.307   8.921  14.874  1.00  0.00           C  \n",
            "ATOM    679  CA  ILE A  88      -3.571  12.350  16.520  1.00  0.00           C  \n",
            "ATOM    687  CA  THR A  89      -5.762  11.256  19.439  1.00  0.00           C  \n",
            "ATOM    694  CA  ALA A  90      -3.050  11.329  22.140  1.00  0.00           C  \n",
            "ATOM    699  CA  SER A  91      -1.832  14.713  20.849  1.00  0.00           C  \n",
            "ATOM    705  CA  VAL A  92      -5.302  16.250  20.638  1.00  0.00           C  \n",
            "ATOM    712  CA  ASN A  93      -6.102  14.849  24.075  1.00  0.00           C  \n",
            "ATOM    720  CA  CYS A  94      -2.902  16.272  25.474  1.00  0.00           C  \n",
            "ATOM    726  CA  ALA A  95      -3.545  19.586  23.656  1.00  0.00           C  \n",
            "ATOM    731  CA  LYS A  96      -6.883  20.134  25.425  1.00  0.00           C  \n",
            "ATOM    740  CA  LYS A  97      -5.247  19.488  28.781  1.00  0.00           C  \n",
            "ATOM    749  CA  ILE A  98      -2.636  22.163  28.038  1.00  0.00           C  \n",
            "ATOM    757  CA  VAL A  99      -4.865  24.909  26.605  1.00  0.00           C  \n",
            "ATOM    764  CA  SER A 100      -7.373  24.374  29.461  1.00  0.00           C  \n",
            "ATOM    770  CA  ASP A 101      -5.331  25.489  32.459  1.00  0.00           C  \n",
            "ATOM    778  CA  GLY A 102      -4.841  29.211  32.027  1.00  0.00           C  \n",
            "ATOM    782  CA  ASN A 103      -2.617  30.635  29.287  1.00  0.00           C  \n",
            "ATOM    790  CA  GLY A 104      -4.381  29.287  26.200  1.00  0.00           C  \n",
            "ATOM    794  CA  MET A 105      -2.748  28.573  22.854  1.00  0.00           C  \n",
            "ATOM    802  CA  ASN A 106      -0.235  31.139  24.096  1.00  0.00           C  \n",
            "ATOM    810  CA  ALA A 107       1.304  27.866  25.326  1.00  0.00           C  \n",
            "ATOM    815  CA  TRP A 108       2.461  27.342  21.722  1.00  0.00           C  \n",
            "ATOM    829  CA  VAL A 109       5.200  29.831  20.682  1.00  0.00           C  \n",
            "ATOM    836  CA  ALA A 110       4.588  29.376  16.942  1.00  0.00           C  \n",
            "ATOM    841  CA  TRP A 111       0.927  30.254  17.171  1.00  0.00           C  \n",
            "ATOM    855  CA  ARG A 112       1.899  33.256  19.285  1.00  0.00           C  \n",
            "ATOM    866  CA  ASN A 113       4.386  34.275  16.556  1.00  0.00           C  \n",
            "ATOM    874  CA  ARG A 114       2.784  33.447  13.218  1.00  0.00           C  \n",
            "ATOM    885  CA  CYS A 115      -0.952  32.829  13.682  1.00  0.00           C  \n",
            "ATOM    891  CA  LYS A 116      -1.910  35.144  16.558  1.00  0.00           C  \n",
            "ATOM    900  CA  GLY A 117      -4.303  37.846  15.302  1.00  0.00           C  \n",
            "ATOM    904  CA  THR A 118      -4.169  36.740  11.678  1.00  0.00           C  \n",
            "ATOM    911  CA  ASP A 119      -6.842  35.500   9.278  1.00  0.00           C  \n",
            "ATOM    919  CA  VAL A 120      -6.640  31.856  10.352  1.00  0.00           C  \n",
            "ATOM    926  CA  GLN A 121      -9.983  31.143   8.641  1.00  0.00           C  \n",
            "ATOM    935  CA  ALA A 122      -7.707  30.584   5.622  1.00  0.00           C  \n",
            "ATOM    940  CA  TRP A 123      -6.174  27.255   6.618  1.00  0.00           C  \n",
            "ATOM    954  CA  ILE A 124      -9.651  25.696   6.459  1.00  0.00           C  \n",
            "ATOM    962  CA  ARG A 125     -10.856  27.523   3.336  1.00  0.00           C  \n",
            "ATOM    973  CA  GLY A 126     -11.585  24.863   0.714  1.00  0.00           C  \n",
            "ATOM    977  CA  CYS A 127     -12.142  21.913   3.074  1.00  0.00           C  \n",
            "ATOM    983  CA  ARG A 128     -15.236  19.777   3.475  1.00  0.00           C  \n",
            "ATOM    994  CA  LEU A 129     -15.940  20.178   7.186  1.00  0.00           C  \n"
          ]
        }
      ]
    },
    {
      "cell_type": "code",
      "metadata": {
        "id": "oQq-cCtn4Kea",
        "colab": {
          "base_uri": "https://localhost:8080/"
        },
        "outputId": "cce41c25-9aed-4788-912c-3cc8bdc242ab"
      },
      "source": [
        "!cat 7lyz.pdb | grep CA | wc -l"
      ],
      "execution_count": 49,
      "outputs": [
        {
          "output_type": "stream",
          "name": "stdout",
          "text": [
            "138\n"
          ]
        }
      ]
    },
    {
      "cell_type": "code",
      "metadata": {
        "id": "-UNUlHp74ezO",
        "colab": {
          "base_uri": "https://localhost:8080/"
        },
        "outputId": "c0d7cb3a-994f-4caf-d4ab-7a4a5f2ed195"
      },
      "source": [
        "!df"
      ],
      "execution_count": 50,
      "outputs": [
        {
          "output_type": "stream",
          "name": "stdout",
          "text": [
            "Filesystem     1K-blocks     Used Available Use% Mounted on\n",
            "overlay        112947452 43908372  69022696  39% /\n",
            "tmpfs              65536        0     65536   0% /dev\n",
            "shm              5988352        0   5988352   0% /dev/shm\n",
            "/dev/root        2003760  1167556    836204  59% /sbin/docker-init\n",
            "tmpfs            6651460       28   6651432   1% /var/colab\n",
            "/dev/sda1       84611628 47834864  36760380  57% /etc/hosts\n",
            "tmpfs            6651460        0   6651460   0% /proc/acpi\n",
            "tmpfs            6651460        0   6651460   0% /proc/scsi\n",
            "tmpfs            6651460        0   6651460   0% /sys/firmware\n"
          ]
        }
      ]
    },
    {
      "cell_type": "code",
      "metadata": {
        "id": "f5oSwILd4hAI",
        "colab": {
          "base_uri": "https://localhost:8080/"
        },
        "outputId": "0cf6de02-bf4c-402e-d4ab-6d86b2629739"
      },
      "source": [
        "!head 7lyz.pdb"
      ],
      "execution_count": 51,
      "outputs": [
        {
          "output_type": "stream",
          "name": "stdout",
          "text": [
            "HEADER    HYDROLASE(O-GLYCOSYL)                   06-MAY-77   7LYZ              \n",
            "TITLE     PROTEIN MODEL BUILDING BY THE USE OF A CONSTRAINED-                   \n",
            "TITLE    2 RESTRAINED LEAST-SQUARES PROCEDURE                                   \n",
            "COMPND    MOL_ID: 1;                                                            \n",
            "COMPND   2 MOLECULE: HEN EGG WHITE LYSOZYME;                                    \n",
            "COMPND   3 CHAIN: A;                                                            \n",
            "COMPND   4 EC: 3.2.1.17;                                                        \n",
            "COMPND   5 ENGINEERED: YES                                                      \n",
            "SOURCE    MOL_ID: 1;                                                            \n",
            "SOURCE   2 ORGANISM_SCIENTIFIC: GALLUS GALLUS;                                  \n"
          ]
        }
      ]
    },
    {
      "cell_type": "code",
      "metadata": {
        "id": "kiwpss994j2h",
        "colab": {
          "base_uri": "https://localhost:8080/"
        },
        "outputId": "66d3a991-9160-44f8-bec4-88bddcbaf0eb"
      },
      "source": [
        "!tail 7lyz.pdb"
      ],
      "execution_count": 52,
      "outputs": [
        {
          "output_type": "stream",
          "name": "stdout",
          "text": [
            "CONECT   48  981                                                                \n",
            "CONECT  238  889                                                                \n",
            "CONECT  513  630                                                                \n",
            "CONECT  601  724                                                                \n",
            "CONECT  630  513                                                                \n",
            "CONECT  724  601                                                                \n",
            "CONECT  889  238                                                                \n",
            "CONECT  981   48                                                                \n",
            "MASTER      200    0    0    7    5    0    0    6 1000    1    8   10          \n",
            "END                                                                             \n"
          ]
        }
      ]
    },
    {
      "cell_type": "code",
      "metadata": {
        "id": "sjnDjlIr4mKj"
      },
      "source": [
        "%%bash\n",
        "cat << EOF > config.txt\n",
        "first line\n",
        "second lie\n",
        "third line \n",
        "EOF\n"
      ],
      "execution_count": 53,
      "outputs": []
    },
    {
      "cell_type": "code",
      "metadata": {
        "id": "PRpP3RWn5EjI",
        "colab": {
          "base_uri": "https://localhost:8080/"
        },
        "outputId": "90dfbb87-68d1-4eff-ece9-4e7dd1b4c948"
      },
      "source": [
        "!cat config.txt"
      ],
      "execution_count": 54,
      "outputs": [
        {
          "output_type": "stream",
          "name": "stdout",
          "text": [
            "first line\n",
            "second lie\n",
            "third line \n"
          ]
        }
      ]
    },
    {
      "cell_type": "code",
      "metadata": {
        "id": "Po4KtWPE5xoj"
      },
      "source": [
        "# !top\n"
      ],
      "execution_count": 55,
      "outputs": []
    },
    {
      "cell_type": "code",
      "metadata": {
        "id": "BF3RUl5e6aEr",
        "colab": {
          "base_uri": "https://localhost:8080/"
        },
        "outputId": "13579713-eae5-459a-da19-89fc729cc7c6"
      },
      "source": [
        "%history"
      ],
      "execution_count": 56,
      "outputs": [
        {
          "output_type": "stream",
          "name": "stdout",
          "text": [
            "!uname -a\n",
            "!cat /etc/issue\n",
            "!pwd\n",
            "pip install google-colab-shell\n",
            "# import the module once\n",
            "from google_colab_shell import getshell\n",
            "## Anytime you want to open a terminal\n",
            "\n",
            "getshell()\n",
            "\n",
            "getshell(height=400) # custom height of the terminal\n",
            "%%bash\n",
            "ls [a-z]*.csv\n",
            "pwd\n",
            "\n",
            "# wild cards\n",
            "touch file1.csv file2.csv\n",
            "ls {file1,file2}.csv\n",
            "!which bash\n",
            "\n",
            "%%bash\n",
            "echo \"#!/bin/bash\" >> myscript.sh\n",
            "echo \"echo \\\"I am executing the script, myscript.sh\\\" \" >> myscript.sh\n",
            "echo \"pwd\" >> myscript.sh\n",
            "echo \"date\" >> myscript.sh\n",
            "echo\n",
            "!cat myscript.sh\n",
            "%%bash\n",
            "chmod +x ./myscript.sh\n",
            "./myscript.sh\n",
            "%%bash\n",
            "var1=98\n",
            "echo \" var1 is set to:  \" $var1\n",
            "\n",
            "if [ \"${var1}\" -gt  2 ]\n",
            "then\n",
            "   echo \"Var1 is > 3\"\n",
            "else\n",
            "   echo \"Var1 is <= 3\"\n",
            "fi\n",
            "%%bash\n",
            "cd /content\n",
            "pwd\n",
            "mkdir -p test\n",
            "cd test\n",
            "touch Ravi.txt\n",
            "pwd\n",
            "cd ..\n",
            "\n",
            "pwd\n",
            "%%bash\n",
            "cd\n",
            "!pwd\n",
            "%%bash \n",
            "\n",
            "ls \n",
            "\n",
            "ls -l -f\n",
            "%%bash \n",
            "cat > ids.txt <<EOL\n",
            "A\n",
            "B\n",
            "C\n",
            "EOL\n",
            "\n",
            "cat ids.txt\n",
            "!which parallel\n",
            "!cat ids.txt\n",
            "! parallel -j 3 -- ls df \"echo hi\"\n",
            "%%bash\n",
            "cat ids.txt | parallel \"echo foo {} \\| bar \\> {}.txt\"\n",
            "%%bash\n",
            "NAME=Sam\n",
            "\n",
            "# Strings with double quotes or no quotes will be substituted\n",
            "echo Welcome $NAME\n",
            "echo \"Welcome $NAME\"\n",
            "\n",
            "# strings with single quote will be produced as such\n",
            "echo 'Welcome $NAME'\n",
            "%%bash\n",
            "wget http://www.rcsb.org/pdb/files/7lyz.pdb >& /dev/null\n",
            "\n",
            "head 7lyz.pdb\n",
            "%%bash\n",
            "PDB_ID=7lyz\n",
            "wget http://www.rcsb.org/pdb/files/${PDB_ID}.pdb >& /dev/null\n",
            "head ${PDB_ID}.pdb\n",
            "%%bash\n",
            "rm -f myscript1.sh\n",
            "\n",
            "cat > myscript1.sh <<EOL\n",
            "#!/bin/bash\n",
            "echo I am executing myscript1.sh\n",
            "duu -h\n",
            "pwd  \n",
            "ls -l \n",
            "echo Script successfully completed\n",
            "EOL\n",
            "%%bash\n",
            "chmod +x ./myscript1.sh\n",
            "./myscript1.sh\n",
            "%%bash\n",
            "rm -f myscript1.sh\n",
            "\n",
            "cat > myscript1.sh <<EOL\n",
            "#!/bin/bash\n",
            "set -ue\n",
            "echo I am executing myscript1.sh\n",
            "duu -h\n",
            "pwd  \n",
            "ls -l \n",
            "echo Script successfully completed\n",
            "EOL\n",
            "%%bash\n",
            "chmod +x ./myscript1.sh\n",
            "./myscript1.sh\n",
            "%%bash\n",
            "rm -f myscript2.sh\n",
            "\n",
            "cat > myscript2.sh <<EOL\n",
            "#!/bin/bash\n",
            "echo I am executing myscript2.sh\n",
            "set -ue\n",
            "\n",
            "filea=\\$1\n",
            "fileb=\\$2\n",
            "wget http://www.rcsb.org/pdb/files/\\${filea}.pdb >& /dev/null \n",
            "wget http://www.rcsb.org/pdb/files/\\${fileb}.pdb >& /dev/null \n",
            "EOL\n",
            "%%bash \n",
            "chmod +x ./myscript2.sh\n",
            "./myscript2.sh 7lyz 2src\n",
            "! ./myscript2.sh 7lyz 2src\n",
            "%%bash\n",
            "\n",
            "for i in *.pdb; do \n",
            "  echo $i\n",
            "done\n",
            "%%bash\n",
            "\n",
            "cat ids.txt | parallel echo Hello {}\n",
            "man ls\n",
            "%%bash\n",
            "wget http://www.rcsb.org/pdb/files/7lyz.pdb >& /dev/null\n",
            "!tail 7lyz.pdb\n",
            "%%bash\n",
            "cat 7lyz.pdb | grep \"ATOM\"  > 7lyzAllATOM.pdb\n",
            "cat 7lyz.pdb | grep \"^ATOM\" > 7lyzATOM.pdb\n",
            "!tail 7lyzATOM.pdb\n",
            "more 7lyz.pdb\n",
            "%%bash\n",
            "wget http://www.rcsb.org/pdb/files/2src.pdb\n",
            "!mv 2src.pdb 2src.PDB\n",
            "!ls -l\n",
            "!rm -f 2src.PDB\n",
            "!ls -l 2src.PDB\n",
            "!touch new_file.txt\n",
            "!ls -l new_file.txt\n",
            "!find /content -name edirect\n",
            "!cat 7lyz.pdb | grep CA\n",
            "!cat 7lyz.pdb | grep CA | wc -l\n",
            "!df\n",
            "!head 7lyz.pdb\n",
            "!tail 7lyz.pdb\n",
            "%%bash\n",
            "cat << EOF > config.txt\n",
            "first line\n",
            "second lie\n",
            "third line \n",
            "EOF\n",
            "!cat config.txt\n",
            "# !top\n",
            "%history\n"
          ]
        }
      ]
    },
    {
      "cell_type": "code",
      "metadata": {
        "id": "PQJf8XYO6hPK",
        "colab": {
          "base_uri": "https://localhost:8080/"
        },
        "outputId": "b3288c4b-2094-429f-a162-1a5975e657e1"
      },
      "source": [
        "!which zip\n",
        "!which unzip"
      ],
      "execution_count": 57,
      "outputs": [
        {
          "output_type": "stream",
          "name": "stdout",
          "text": [
            "/usr/bin/zip\n",
            "/usr/bin/unzip\n"
          ]
        }
      ]
    },
    {
      "cell_type": "markdown",
      "metadata": {
        "id": "drsRiwwq5h79"
      },
      "source": [
        "## Other important commands"
      ]
    },
    {
      "cell_type": "markdown",
      "metadata": {
        "id": "2aD06DXE5r2X"
      },
      "source": [
        "* chmod\n",
        "* chown\n",
        "* kill \n",
        "* Ctrl-c \n",
        "* Ctrl-z  # will pause the command\n"
      ]
    },
    {
      "cell_type": "code",
      "metadata": {
        "id": "qigIS91K5q9M",
        "colab": {
          "base_uri": "https://localhost:8080/"
        },
        "outputId": "db46136c-a686-43b2-aee5-de2847a2c221"
      },
      "source": [
        "%%bash\n",
        "esearch -db pubmed -query \"lycopene cyclase\" |efetch -format abstract > HitsFile.txt"
      ],
      "execution_count": 58,
      "outputs": [
        {
          "output_type": "stream",
          "name": "stderr",
          "text": [
            "bash: line 1: esearch: command not found\n",
            "bash: line 1: efetch: command not found\n"
          ]
        }
      ]
    },
    {
      "cell_type": "code",
      "metadata": {
        "id": "LqxwaOtyChpk",
        "colab": {
          "base_uri": "https://localhost:8080/"
        },
        "outputId": "bce830ea-2711-44c5-86b2-c82b91e63668"
      },
      "source": [
        "!wc -l HitsFile.txt"
      ],
      "execution_count": 59,
      "outputs": [
        {
          "output_type": "stream",
          "name": "stdout",
          "text": [
            "0 HitsFile.txt\n"
          ]
        }
      ]
    },
    {
      "cell_type": "code",
      "metadata": {
        "id": "rZI07w1JCoS7",
        "colab": {
          "base_uri": "https://localhost:8080/"
        },
        "outputId": "cc871aab-843e-454a-ce45-511474fff74a"
      },
      "source": [
        "!ls"
      ],
      "execution_count": 60,
      "outputs": [
        {
          "output_type": "stream",
          "name": "stdout",
          "text": [
            "2src.pdb.1\t 7lyz.pdb    7lyz.pdb.4  HitsFile.txt  myscript.sh\n",
            "2src.pdb.2\t 7lyz.pdb.1  config.txt  ids.txt       new_file.txt\n",
            "7lyzAllATOM.pdb  7lyz.pdb.2  file1.csv\t myscript1.sh  sample_data\n",
            "7lyzATOM.pdb\t 7lyz.pdb.3  file2.csv\t myscript2.sh  test\n"
          ]
        }
      ]
    },
    {
      "cell_type": "code",
      "source": [
        "%%bash\n",
        "cat << 'EOF' > months \n",
        "January 1 Winter\n",
        "February 2 Winter\n",
        "March 3 Spring\n",
        "April 4 Spring\n",
        "May 5 Spring\n",
        "June 6 Summer\n",
        "July 7 Summer\n",
        "August 8 Summer\n",
        "September 9 Autumn\n",
        "October 10 Autumn\n",
        "November 11 Autumn\n",
        "December 12 Winter\n",
        "EOF"
      ],
      "metadata": {
        "id": "L_1Ph1_yJo0D"
      },
      "execution_count": 61,
      "outputs": []
    },
    {
      "cell_type": "code",
      "source": [
        "!tr '[:upper:]' '[:lower:]' < months > monthst\n",
        "!mv monthst months"
      ],
      "metadata": {
        "id": "o0q9PM1QLETO"
      },
      "execution_count": 62,
      "outputs": []
    },
    {
      "cell_type": "code",
      "source": [
        "!cat months"
      ],
      "metadata": {
        "colab": {
          "base_uri": "https://localhost:8080/"
        },
        "id": "ZJGTt-13L0Gm",
        "outputId": "5eeb36ea-88c4-4a2c-93ac-c613b34cd613"
      },
      "execution_count": 63,
      "outputs": [
        {
          "output_type": "stream",
          "name": "stdout",
          "text": [
            "january 1 winter\n",
            "february 2 winter\n",
            "march 3 spring\n",
            "april 4 spring\n",
            "may 5 spring\n",
            "june 6 summer\n",
            "july 7 summer\n",
            "august 8 summer\n",
            "september 9 autumn\n",
            "october 10 autumn\n",
            "november 11 autumn\n",
            "december 12 winter\n"
          ]
        }
      ]
    },
    {
      "cell_type": "code",
      "source": [
        "!sort -k2 months "
      ],
      "metadata": {
        "colab": {
          "base_uri": "https://localhost:8080/"
        },
        "id": "XRm1mvhGIIuD",
        "outputId": "2b610663-b4ac-44b5-8b73-afc003eaed6c"
      },
      "execution_count": 64,
      "outputs": [
        {
          "output_type": "stream",
          "name": "stdout",
          "text": [
            "october 10 autumn\n",
            "november 11 autumn\n",
            "december 12 winter\n",
            "january 1 winter\n",
            "february 2 winter\n",
            "march 3 spring\n",
            "april 4 spring\n",
            "may 5 spring\n",
            "june 6 summer\n",
            "july 7 summer\n",
            "august 8 summer\n",
            "september 9 autumn\n"
          ]
        }
      ]
    },
    {
      "cell_type": "code",
      "source": [
        "!sort -k 2n months # sort by 2nd field"
      ],
      "metadata": {
        "colab": {
          "base_uri": "https://localhost:8080/"
        },
        "id": "TzlhwJpMIQCg",
        "outputId": "7b3c7356-ad54-4a20-87f6-ee13f2b560cd"
      },
      "execution_count": 65,
      "outputs": [
        {
          "output_type": "stream",
          "name": "stdout",
          "text": [
            "january 1 winter\n",
            "february 2 winter\n",
            "march 3 spring\n",
            "april 4 spring\n",
            "may 5 spring\n",
            "june 6 summer\n",
            "july 7 summer\n",
            "august 8 summer\n",
            "september 9 autumn\n",
            "october 10 autumn\n",
            "november 11 autumn\n",
            "december 12 winter\n"
          ]
        }
      ]
    },
    {
      "cell_type": "code",
      "source": [
        "!sort -k 2nr months"
      ],
      "metadata": {
        "colab": {
          "base_uri": "https://localhost:8080/"
        },
        "id": "tMnQDQ92KsFF",
        "outputId": "6e170e9f-e28d-479c-87c1-a40172f2cea9"
      },
      "execution_count": 66,
      "outputs": [
        {
          "output_type": "stream",
          "name": "stdout",
          "text": [
            "december 12 winter\n",
            "november 11 autumn\n",
            "october 10 autumn\n",
            "september 9 autumn\n",
            "august 8 summer\n",
            "july 7 summer\n",
            "june 6 summer\n",
            "may 5 spring\n",
            "april 4 spring\n",
            "march 3 spring\n",
            "february 2 winter\n",
            "january 1 winter\n"
          ]
        }
      ]
    },
    {
      "cell_type": "code",
      "source": [
        "!sort -k 3 months"
      ],
      "metadata": {
        "colab": {
          "base_uri": "https://localhost:8080/"
        },
        "id": "av2YMFLEK0VZ",
        "outputId": "d889d9e9-8924-4aab-830c-2bca47edd7e2"
      },
      "execution_count": 67,
      "outputs": [
        {
          "output_type": "stream",
          "name": "stdout",
          "text": [
            "november 11 autumn\n",
            "october 10 autumn\n",
            "september 9 autumn\n",
            "april 4 spring\n",
            "march 3 spring\n",
            "may 5 spring\n",
            "august 8 summer\n",
            "july 7 summer\n",
            "june 6 summer\n",
            "december 12 winter\n",
            "february 2 winter\n",
            "january 1 winter\n"
          ]
        }
      ]
    },
    {
      "cell_type": "code",
      "source": [
        "!cut -d ' ' -f1,2 months. # or use -f1-3 for 3 columns"
      ],
      "metadata": {
        "colab": {
          "base_uri": "https://localhost:8080/"
        },
        "id": "YkjSAw5oNu4Y",
        "outputId": "ab09a9f9-38c0-4263-92c5-fcfc52821258"
      },
      "execution_count": 68,
      "outputs": [
        {
          "output_type": "stream",
          "name": "stdout",
          "text": [
            "cut: months.: No such file or directory\n"
          ]
        }
      ]
    },
    {
      "cell_type": "code",
      "source": [
        "!cat months | cut -d ' ' -f3"
      ],
      "metadata": {
        "colab": {
          "base_uri": "https://localhost:8080/"
        },
        "id": "XQ7wqaXSObRg",
        "outputId": "31879fee-282d-4ddc-f1f0-700eef040709"
      },
      "execution_count": 69,
      "outputs": [
        {
          "output_type": "stream",
          "name": "stdout",
          "text": [
            "winter\n",
            "winter\n",
            "spring\n",
            "spring\n",
            "spring\n",
            "summer\n",
            "summer\n",
            "summer\n",
            "autumn\n",
            "autumn\n",
            "autumn\n",
            "winter\n"
          ]
        }
      ]
    },
    {
      "cell_type": "code",
      "source": [
        "!cat months | cut -d ' ' -f3 | sort -u # unique"
      ],
      "metadata": {
        "colab": {
          "base_uri": "https://localhost:8080/"
        },
        "id": "Z9a7CV7NOv3W",
        "outputId": "5856e4d3-66df-4724-8d05-c17fa837cbf1"
      },
      "execution_count": 70,
      "outputs": [
        {
          "output_type": "stream",
          "name": "stdout",
          "text": [
            "autumn\n",
            "spring\n",
            "summer\n",
            "winter\n"
          ]
        }
      ]
    },
    {
      "cell_type": "code",
      "source": [
        "# seasons in india\n",
        "%%bash\n",
        "cat << 'EOF' > monthsi \n",
        "january 1 winter\n",
        "february 2 winter\n",
        "march 3 summer\n",
        "april 4 summer\n",
        "may 5 summer\n",
        "june 6 monsoon\n",
        "july 7 monsoon\n",
        "august 8 monsoon\n",
        "september 9 monsoon\n",
        "october 10 monsoon\n",
        "november 11 monsoon\n",
        "december 12 post-monsoon\n",
        "EOF"
      ],
      "metadata": {
        "id": "YlVJpbqjRIdx"
      },
      "execution_count": 71,
      "outputs": []
    },
    {
      "cell_type": "code",
      "source": [
        "%%bash\n",
        "sort months > months.sorted\n",
        "sort monthsi > monthsi.sorted"
      ],
      "metadata": {
        "id": "PruxlvcBWAkG"
      },
      "execution_count": 72,
      "outputs": []
    },
    {
      "cell_type": "markdown",
      "source": [
        "You will see june 6 monsoon only appears in monthsi.sorted\n",
        "and the top-6 lines appear only on months file. \n",
        " lef-most column, followed by months.sorted and finally the "
      ],
      "metadata": {
        "id": "e4EXxHyrWnPa"
      }
    },
    {
      "cell_type": "code",
      "source": [
        "!comm monthsi.sorted months.sorted # need to be sorted to get meaningful results"
      ],
      "metadata": {
        "colab": {
          "base_uri": "https://localhost:8080/"
        },
        "id": "45kiGxa_S6s8",
        "outputId": "0da33c46-f503-463e-82ac-f15f4827306b"
      },
      "execution_count": 73,
      "outputs": [
        {
          "output_type": "stream",
          "name": "stdout",
          "text": [
            "\tapril 4 spring\n",
            "april 4 summer\n",
            "august 8 monsoon\n",
            "\taugust 8 summer\n",
            "december 12 post-monsoon\n",
            "\tdecember 12 winter\n",
            "\t\tfebruary 2 winter\n",
            "\t\tjanuary 1 winter\n",
            "july 7 monsoon\n",
            "\tjuly 7 summer\n",
            "june 6 monsoon\n",
            "\tjune 6 summer\n",
            "\tmarch 3 spring\n",
            "march 3 summer\n",
            "\tmay 5 spring\n",
            "may 5 summer\n",
            "\tnovember 11 autumn\n",
            "november 11 monsoon\n",
            "\toctober 10 autumn\n",
            "october 10 monsoon\n",
            "\tseptember 9 autumn\n",
            "september 9 monsoon\n"
          ]
        }
      ]
    }
  ]
}