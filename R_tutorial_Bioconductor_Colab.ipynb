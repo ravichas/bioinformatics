{
  "nbformat": 4,
  "nbformat_minor": 0,
  "metadata": {
    "colab": {
      "provenance": [],
      "authorship_tag": "ABX9TyMfzootBE9z0TKEQilfpsba",
      "include_colab_link": true
    },
    "kernelspec": {
      "name": "ir",
      "display_name": "R"
    },
    "language_info": {
      "name": "R"
    },
    "accelerator": "TPU"
  },
  "cells": [
    {
      "cell_type": "markdown",
      "metadata": {
        "id": "view-in-github",
        "colab_type": "text"
      },
      "source": [
        "<a href=\"https://colab.research.google.com/github/ravichas/bioinformatics/blob/main/R_tutorial_Bioconductor_Colab.ipynb\" target=\"_parent\"><img src=\"https://colab.research.google.com/assets/colab-badge.svg\" alt=\"Open In Colab\"/></a>"
      ]
    },
    {
      "cell_type": "markdown",
      "source": [
        "You can use COLAB to run R. Here are two different ways to run R using COLAB:\n",
        "\n",
        "* Copy this notebook to your Google drive and modify it\n",
        "* Go to https://colab.research.google.com/#create=true&language=r, or use the following short URL https://colab.to/r"
      ],
      "metadata": {
        "id": "UvRlyAAHP-YG"
      }
    },
    {
      "cell_type": "code",
      "metadata": {
        "colab": {
          "base_uri": "https://localhost:8080/",
          "height": 376
        },
        "id": "SxEQfTC0mtv6",
        "outputId": "b45c27b9-d4ad-405c-84f6-8f942685522b"
      },
      "source": [
        "head(mtcars)"
      ],
      "execution_count": 1,
      "outputs": [
        {
          "output_type": "display_data",
          "data": {
            "text/html": [
              "<table class=\"dataframe\">\n",
              "<caption>A data.frame: 6 × 11</caption>\n",
              "<thead>\n",
              "\t<tr><th></th><th scope=col>mpg</th><th scope=col>cyl</th><th scope=col>disp</th><th scope=col>hp</th><th scope=col>drat</th><th scope=col>wt</th><th scope=col>qsec</th><th scope=col>vs</th><th scope=col>am</th><th scope=col>gear</th><th scope=col>carb</th></tr>\n",
              "\t<tr><th></th><th scope=col>&lt;dbl&gt;</th><th scope=col>&lt;dbl&gt;</th><th scope=col>&lt;dbl&gt;</th><th scope=col>&lt;dbl&gt;</th><th scope=col>&lt;dbl&gt;</th><th scope=col>&lt;dbl&gt;</th><th scope=col>&lt;dbl&gt;</th><th scope=col>&lt;dbl&gt;</th><th scope=col>&lt;dbl&gt;</th><th scope=col>&lt;dbl&gt;</th><th scope=col>&lt;dbl&gt;</th></tr>\n",
              "</thead>\n",
              "<tbody>\n",
              "\t<tr><th scope=row>Mazda RX4</th><td>21.0</td><td>6</td><td>160</td><td>110</td><td>3.90</td><td>2.620</td><td>16.46</td><td>0</td><td>1</td><td>4</td><td>4</td></tr>\n",
              "\t<tr><th scope=row>Mazda RX4 Wag</th><td>21.0</td><td>6</td><td>160</td><td>110</td><td>3.90</td><td>2.875</td><td>17.02</td><td>0</td><td>1</td><td>4</td><td>4</td></tr>\n",
              "\t<tr><th scope=row>Datsun 710</th><td>22.8</td><td>4</td><td>108</td><td> 93</td><td>3.85</td><td>2.320</td><td>18.61</td><td>1</td><td>1</td><td>4</td><td>1</td></tr>\n",
              "\t<tr><th scope=row>Hornet 4 Drive</th><td>21.4</td><td>6</td><td>258</td><td>110</td><td>3.08</td><td>3.215</td><td>19.44</td><td>1</td><td>0</td><td>3</td><td>1</td></tr>\n",
              "\t<tr><th scope=row>Hornet Sportabout</th><td>18.7</td><td>8</td><td>360</td><td>175</td><td>3.15</td><td>3.440</td><td>17.02</td><td>0</td><td>0</td><td>3</td><td>2</td></tr>\n",
              "\t<tr><th scope=row>Valiant</th><td>18.1</td><td>6</td><td>225</td><td>105</td><td>2.76</td><td>3.460</td><td>20.22</td><td>1</td><td>0</td><td>3</td><td>1</td></tr>\n",
              "</tbody>\n",
              "</table>\n"
            ],
            "text/markdown": "\nA data.frame: 6 × 11\n\n| <!--/--> | mpg &lt;dbl&gt; | cyl &lt;dbl&gt; | disp &lt;dbl&gt; | hp &lt;dbl&gt; | drat &lt;dbl&gt; | wt &lt;dbl&gt; | qsec &lt;dbl&gt; | vs &lt;dbl&gt; | am &lt;dbl&gt; | gear &lt;dbl&gt; | carb &lt;dbl&gt; |\n|---|---|---|---|---|---|---|---|---|---|---|---|\n| Mazda RX4 | 21.0 | 6 | 160 | 110 | 3.90 | 2.620 | 16.46 | 0 | 1 | 4 | 4 |\n| Mazda RX4 Wag | 21.0 | 6 | 160 | 110 | 3.90 | 2.875 | 17.02 | 0 | 1 | 4 | 4 |\n| Datsun 710 | 22.8 | 4 | 108 |  93 | 3.85 | 2.320 | 18.61 | 1 | 1 | 4 | 1 |\n| Hornet 4 Drive | 21.4 | 6 | 258 | 110 | 3.08 | 3.215 | 19.44 | 1 | 0 | 3 | 1 |\n| Hornet Sportabout | 18.7 | 8 | 360 | 175 | 3.15 | 3.440 | 17.02 | 0 | 0 | 3 | 2 |\n| Valiant | 18.1 | 6 | 225 | 105 | 2.76 | 3.460 | 20.22 | 1 | 0 | 3 | 1 |\n\n",
            "text/latex": "A data.frame: 6 × 11\n\\begin{tabular}{r|lllllllllll}\n  & mpg & cyl & disp & hp & drat & wt & qsec & vs & am & gear & carb\\\\\n  & <dbl> & <dbl> & <dbl> & <dbl> & <dbl> & <dbl> & <dbl> & <dbl> & <dbl> & <dbl> & <dbl>\\\\\n\\hline\n\tMazda RX4 & 21.0 & 6 & 160 & 110 & 3.90 & 2.620 & 16.46 & 0 & 1 & 4 & 4\\\\\n\tMazda RX4 Wag & 21.0 & 6 & 160 & 110 & 3.90 & 2.875 & 17.02 & 0 & 1 & 4 & 4\\\\\n\tDatsun 710 & 22.8 & 4 & 108 &  93 & 3.85 & 2.320 & 18.61 & 1 & 1 & 4 & 1\\\\\n\tHornet 4 Drive & 21.4 & 6 & 258 & 110 & 3.08 & 3.215 & 19.44 & 1 & 0 & 3 & 1\\\\\n\tHornet Sportabout & 18.7 & 8 & 360 & 175 & 3.15 & 3.440 & 17.02 & 0 & 0 & 3 & 2\\\\\n\tValiant & 18.1 & 6 & 225 & 105 & 2.76 & 3.460 & 20.22 & 1 & 0 & 3 & 1\\\\\n\\end{tabular}\n",
            "text/plain": [
              "                  mpg  cyl disp hp  drat wt    qsec  vs am gear carb\n",
              "Mazda RX4         21.0 6   160  110 3.90 2.620 16.46 0  1  4    4   \n",
              "Mazda RX4 Wag     21.0 6   160  110 3.90 2.875 17.02 0  1  4    4   \n",
              "Datsun 710        22.8 4   108   93 3.85 2.320 18.61 1  1  4    1   \n",
              "Hornet 4 Drive    21.4 6   258  110 3.08 3.215 19.44 1  0  3    1   \n",
              "Hornet Sportabout 18.7 8   360  175 3.15 3.440 17.02 0  0  3    2   \n",
              "Valiant           18.1 6   225  105 2.76 3.460 20.22 1  0  3    1   "
            ]
          },
          "metadata": {}
        }
      ]
    },
    {
      "cell_type": "code",
      "metadata": {
        "colab": {
          "base_uri": "https://localhost:8080/",
          "height": 34
        },
        "id": "J9jtE92rm6rh",
        "outputId": "9bcbc35e-e232-4024-ff52-4a18b1f74c3d"
      },
      "source": [
        "colnames(mtcars)"
      ],
      "execution_count": 2,
      "outputs": [
        {
          "output_type": "display_data",
          "data": {
            "text/html": [
              "<style>\n",
              ".list-inline {list-style: none; margin:0; padding: 0}\n",
              ".list-inline>li {display: inline-block}\n",
              ".list-inline>li:not(:last-child)::after {content: \"\\00b7\"; padding: 0 .5ex}\n",
              "</style>\n",
              "<ol class=list-inline><li>'mpg'</li><li>'cyl'</li><li>'disp'</li><li>'hp'</li><li>'drat'</li><li>'wt'</li><li>'qsec'</li><li>'vs'</li><li>'am'</li><li>'gear'</li><li>'carb'</li></ol>\n"
            ],
            "text/markdown": "1. 'mpg'\n2. 'cyl'\n3. 'disp'\n4. 'hp'\n5. 'drat'\n6. 'wt'\n7. 'qsec'\n8. 'vs'\n9. 'am'\n10. 'gear'\n11. 'carb'\n\n\n",
            "text/latex": "\\begin{enumerate*}\n\\item 'mpg'\n\\item 'cyl'\n\\item 'disp'\n\\item 'hp'\n\\item 'drat'\n\\item 'wt'\n\\item 'qsec'\n\\item 'vs'\n\\item 'am'\n\\item 'gear'\n\\item 'carb'\n\\end{enumerate*}\n",
            "text/plain": [
              " [1] \"mpg\"  \"cyl\"  \"disp\" \"hp\"   \"drat\" \"wt\"   \"qsec\" \"vs\"   \"am\"   \"gear\"\n",
              "[11] \"carb\""
            ]
          },
          "metadata": {}
        }
      ]
    },
    {
      "cell_type": "code",
      "metadata": {
        "colab": {
          "base_uri": "https://localhost:8080/",
          "height": 52
        },
        "id": "tZurRFbGm8rV",
        "outputId": "ee1539dc-b066-4cfb-937d-24fb678a8ca4"
      },
      "source": [
        "mtcars$hp"
      ],
      "execution_count": 3,
      "outputs": [
        {
          "output_type": "display_data",
          "data": {
            "text/html": [
              "<style>\n",
              ".list-inline {list-style: none; margin:0; padding: 0}\n",
              ".list-inline>li {display: inline-block}\n",
              ".list-inline>li:not(:last-child)::after {content: \"\\00b7\"; padding: 0 .5ex}\n",
              "</style>\n",
              "<ol class=list-inline><li>110</li><li>110</li><li>93</li><li>110</li><li>175</li><li>105</li><li>245</li><li>62</li><li>95</li><li>123</li><li>123</li><li>180</li><li>180</li><li>180</li><li>205</li><li>215</li><li>230</li><li>66</li><li>52</li><li>65</li><li>97</li><li>150</li><li>150</li><li>245</li><li>175</li><li>66</li><li>91</li><li>113</li><li>264</li><li>175</li><li>335</li><li>109</li></ol>\n"
            ],
            "text/markdown": "1. 110\n2. 110\n3. 93\n4. 110\n5. 175\n6. 105\n7. 245\n8. 62\n9. 95\n10. 123\n11. 123\n12. 180\n13. 180\n14. 180\n15. 205\n16. 215\n17. 230\n18. 66\n19. 52\n20. 65\n21. 97\n22. 150\n23. 150\n24. 245\n25. 175\n26. 66\n27. 91\n28. 113\n29. 264\n30. 175\n31. 335\n32. 109\n\n\n",
            "text/latex": "\\begin{enumerate*}\n\\item 110\n\\item 110\n\\item 93\n\\item 110\n\\item 175\n\\item 105\n\\item 245\n\\item 62\n\\item 95\n\\item 123\n\\item 123\n\\item 180\n\\item 180\n\\item 180\n\\item 205\n\\item 215\n\\item 230\n\\item 66\n\\item 52\n\\item 65\n\\item 97\n\\item 150\n\\item 150\n\\item 245\n\\item 175\n\\item 66\n\\item 91\n\\item 113\n\\item 264\n\\item 175\n\\item 335\n\\item 109\n\\end{enumerate*}\n",
            "text/plain": [
              " [1] 110 110  93 110 175 105 245  62  95 123 123 180 180 180 205 215 230  66  52\n",
              "[20]  65  97 150 150 245 175  66  91 113 264 175 335 109"
            ]
          },
          "metadata": {}
        }
      ]
    },
    {
      "cell_type": "markdown",
      "source": [
        "## How to see what libraries are installed?"
      ],
      "metadata": {
        "id": "w5JdamobP4Xu"
      }
    },
    {
      "cell_type": "code",
      "metadata": {
        "id": "G9f8n-Zlm95w"
      },
      "source": [
        "# print(installed.packages())"
      ],
      "execution_count": 4,
      "outputs": []
    },
    {
      "cell_type": "markdown",
      "source": [
        "## Bioconductor\n",
        "\n",
        "Let us install Bioconductor and run some genomics modeling"
      ],
      "metadata": {
        "id": "CQyQcE9wQzYT"
      }
    },
    {
      "cell_type": "code",
      "source": [
        "if (!require(\"BiocManager\", quietly = TRUE))\n",
        "    install.packages(\"BiocManager\")\n",
        "BiocManager::install()"
      ],
      "metadata": {
        "colab": {
          "base_uri": "https://localhost:8080/"
        },
        "id": "v7tZeO9NNXbI",
        "outputId": "353d3c67-b8c1-42dc-be55-85ccb20905e3"
      },
      "execution_count": 5,
      "outputs": [
        {
          "output_type": "stream",
          "name": "stderr",
          "text": [
            "Installing package into ‘/usr/local/lib/R/site-library’\n",
            "(as ‘lib’ is unspecified)\n",
            "\n",
            "'getOption(\"repos\")' replaces Bioconductor standard repositories, see\n",
            "'help(\"repositories\", package = \"BiocManager\")' for details.\n",
            "Replacement repositories:\n",
            "    CRAN: https://cran.rstudio.com\n",
            "\n",
            "Bioconductor version 3.17 (BiocManager 1.30.22), R 4.3.1 (2023-06-16)\n",
            "\n",
            "Installing package(s) 'BiocVersion'\n",
            "\n",
            "Old packages: 'bit', 'bslib', 'curl', 'devtools', 'fontawesome', 'gargle',\n",
            "  'ggplot2', 'highr', 'httr', 'isoband', 'openssl', 'rmarkdown', 'roxygen2',\n",
            "  'uuid', 'whisker', 'boot', 'foreign', 'Matrix', 'nlme', 'survival'\n",
            "\n"
          ]
        }
      ]
    },
    {
      "cell_type": "code",
      "source": [
        "BiocManager::install('Biobase')"
      ],
      "metadata": {
        "colab": {
          "base_uri": "https://localhost:8080/"
        },
        "id": "u4uY23UeOOnb",
        "outputId": "6c7486db-3f2c-47cd-a1c6-3a658bc0a9a7"
      },
      "execution_count": 6,
      "outputs": [
        {
          "output_type": "stream",
          "name": "stderr",
          "text": [
            "'getOption(\"repos\")' replaces Bioconductor standard repositories, see\n",
            "'help(\"repositories\", package = \"BiocManager\")' for details.\n",
            "Replacement repositories:\n",
            "    CRAN: https://cran.rstudio.com\n",
            "\n",
            "Bioconductor version 3.17 (BiocManager 1.30.22), R 4.3.1 (2023-06-16)\n",
            "\n",
            "Installing package(s) 'Biobase'\n",
            "\n",
            "also installing the dependency ‘BiocGenerics’\n",
            "\n",
            "\n",
            "Old packages: 'bit', 'bslib', 'curl', 'devtools', 'fontawesome', 'gargle',\n",
            "  'ggplot2', 'highr', 'httr', 'isoband', 'openssl', 'rmarkdown', 'roxygen2',\n",
            "  'uuid', 'whisker', 'boot', 'foreign', 'Matrix', 'nlme', 'survival'\n",
            "\n"
          ]
        }
      ]
    },
    {
      "cell_type": "code",
      "source": [
        "suppressPackageStartupMessages({\n",
        "   library(devtools)\n",
        "  library(Biobase) })"
      ],
      "metadata": {
        "id": "VY6uaqlMNfSK"
      },
      "execution_count": 7,
      "outputs": []
    },
    {
      "cell_type": "markdown",
      "source": [
        "Bioinformatics and Functional Genomics Book Chapter 3 exercise"
      ],
      "metadata": {
        "id": "WXW228ujfSL0"
      }
    },
    {
      "cell_type": "code",
      "source": [
        "BiocManager::install(\"Biostrings\")"
      ],
      "metadata": {
        "colab": {
          "base_uri": "https://localhost:8080/"
        },
        "id": "jfwiDZFvfX59",
        "outputId": "f3273b0e-2535-46e7-96ab-3dbe553296e4"
      },
      "execution_count": 8,
      "outputs": [
        {
          "output_type": "stream",
          "name": "stderr",
          "text": [
            "'getOption(\"repos\")' replaces Bioconductor standard repositories, see\n",
            "'help(\"repositories\", package = \"BiocManager\")' for details.\n",
            "Replacement repositories:\n",
            "    CRAN: https://cran.rstudio.com\n",
            "\n",
            "Bioconductor version 3.17 (BiocManager 1.30.22), R 4.3.1 (2023-06-16)\n",
            "\n",
            "Installing package(s) 'Biostrings'\n",
            "\n",
            "also installing the dependencies ‘bitops’, ‘zlibbioc’, ‘RCurl’, ‘GenomeInfoDbData’, ‘S4Vectors’, ‘IRanges’, ‘XVector’, ‘GenomeInfoDb’\n",
            "\n",
            "\n",
            "Old packages: 'bit', 'bslib', 'curl', 'devtools', 'fontawesome', 'gargle',\n",
            "  'ggplot2', 'highr', 'httr', 'isoband', 'openssl', 'rmarkdown', 'roxygen2',\n",
            "  'uuid', 'whisker', 'boot', 'foreign', 'Matrix', 'nlme', 'survival'\n",
            "\n"
          ]
        }
      ]
    },
    {
      "cell_type": "code",
      "source": [
        "library(Biostrings)\n",
        "data(BLOSUM50) # load the data for the BLOSUM50 matrix\n",
        "BLOSUM50[1:4,1:4] # view the first four rows and columns of this matrix"
      ],
      "metadata": {
        "colab": {
          "base_uri": "https://localhost:8080/",
          "height": 782
        },
        "id": "sZL1_63XeyaP",
        "outputId": "bf3c2b64-29a9-40b8-b0b8-42696c421e24"
      },
      "execution_count": 9,
      "outputs": [
        {
          "output_type": "stream",
          "name": "stderr",
          "text": [
            "Loading required package: S4Vectors\n",
            "\n",
            "Loading required package: stats4\n",
            "\n",
            "\n",
            "Attaching package: ‘S4Vectors’\n",
            "\n",
            "\n",
            "The following object is masked from ‘package:utils’:\n",
            "\n",
            "    findMatches\n",
            "\n",
            "\n",
            "The following objects are masked from ‘package:base’:\n",
            "\n",
            "    expand.grid, I, unname\n",
            "\n",
            "\n",
            "Loading required package: IRanges\n",
            "\n",
            "Loading required package: XVector\n",
            "\n",
            "Loading required package: GenomeInfoDb\n",
            "\n",
            "\n",
            "Attaching package: ‘Biostrings’\n",
            "\n",
            "\n",
            "The following object is masked from ‘package:base’:\n",
            "\n",
            "    strsplit\n",
            "\n",
            "\n"
          ]
        },
        {
          "output_type": "display_data",
          "data": {
            "text/html": [
              "<table class=\"dataframe\">\n",
              "<caption>A matrix: 4 × 4 of type int</caption>\n",
              "<thead>\n",
              "\t<tr><th></th><th scope=col>A</th><th scope=col>R</th><th scope=col>N</th><th scope=col>D</th></tr>\n",
              "</thead>\n",
              "<tbody>\n",
              "\t<tr><th scope=row>A</th><td> 5</td><td>-2</td><td>-1</td><td>-2</td></tr>\n",
              "\t<tr><th scope=row>R</th><td>-2</td><td> 7</td><td>-1</td><td>-2</td></tr>\n",
              "\t<tr><th scope=row>N</th><td>-1</td><td>-1</td><td> 7</td><td> 2</td></tr>\n",
              "\t<tr><th scope=row>D</th><td>-2</td><td>-2</td><td> 2</td><td> 8</td></tr>\n",
              "</tbody>\n",
              "</table>\n"
            ],
            "text/markdown": "\nA matrix: 4 × 4 of type int\n\n| <!--/--> | A | R | N | D |\n|---|---|---|---|---|\n| A |  5 | -2 | -1 | -2 |\n| R | -2 |  7 | -1 | -2 |\n| N | -1 | -1 |  7 |  2 |\n| D | -2 | -2 |  2 |  8 |\n\n",
            "text/latex": "A matrix: 4 × 4 of type int\n\\begin{tabular}{r|llll}\n  & A & R & N & D\\\\\n\\hline\n\tA &  5 & -2 & -1 & -2\\\\\n\tR & -2 &  7 & -1 & -2\\\\\n\tN & -1 & -1 &  7 &  2\\\\\n\tD & -2 & -2 &  2 &  8\\\\\n\\end{tabular}\n",
            "text/plain": [
              "  A  R  N  D \n",
              "A  5 -2 -1 -2\n",
              "R -2  7 -1 -2\n",
              "N -1 -1  7  2\n",
              "D -2 -2  2  8"
            ]
          },
          "metadata": {}
        }
      ]
    },
    {
      "cell_type": "code",
      "source": [
        "nw <- pairwiseAlignment(AAString(\"PAWHEAE\"),\n",
        "AAString(\"HEAGAWGHEE\"), substitutionMatrix = BLOSUM50,\n",
        "gapOpening = 0, gapExtension = -8) # create object nw\n",
        "\n",
        "# aligning two amino acid strings with the specified matrix and gap\n",
        "# penalties\n",
        "nw # view the result.\n",
        "# Try repeating this alignment with\n",
        "# different gap penalties and scoring matrices. Biostrings\n",
        "# includes 10 matrices (PAM30 PAM40, PAM70, PAM120, PAM250,\n",
        "# BLOSUM45, BLOSUM50, BLOSUM62, BLOSUM80, and BLOSUM100).\n",
        "compareStrings(nw) # view the alignment"
      ],
      "metadata": {
        "colab": {
          "base_uri": "https://localhost:8080/",
          "height": 104
        },
        "id": "bvl84BY1eCnb",
        "outputId": "9f852148-91a4-4eec-e074-62198a194803"
      },
      "execution_count": 10,
      "outputs": [
        {
          "output_type": "display_data",
          "data": {
            "text/plain": [
              "Global PairwiseAlignmentsSingleSubject (1 of 1)\n",
              "pattern: -\u001b[47m\u001b[30mP\u001b[39m\u001b[49m\u001b[47m\u001b[30mA\u001b[39m\u001b[49m--\u001b[47m\u001b[30mW\u001b[39m\u001b[49m-\u001b[47m\u001b[30mH\u001b[39m\u001b[49m\u001b[47m\u001b[30mE\u001b[39m\u001b[49m\u001b[47m\u001b[30mA\u001b[39m\u001b[49m\u001b[47m\u001b[30mE\u001b[39m\u001b[49m\n",
              "subject: \u001b[47m\u001b[30mH\u001b[39m\u001b[49m\u001b[47m\u001b[30mE\u001b[39m\u001b[49m\u001b[47m\u001b[30mA\u001b[39m\u001b[49m\u001b[47m\u001b[30mG\u001b[39m\u001b[49m\u001b[47m\u001b[30mA\u001b[39m\u001b[49m\u001b[47m\u001b[30mW\u001b[39m\u001b[49m\u001b[47m\u001b[30mG\u001b[39m\u001b[49m\u001b[47m\u001b[30mH\u001b[39m\u001b[49m\u001b[47m\u001b[30mE\u001b[39m\u001b[49m-\u001b[47m\u001b[30mE\u001b[39m\u001b[49m\n",
              "score: 1 "
            ]
          },
          "metadata": {}
        },
        {
          "output_type": "display_data",
          "data": {
            "text/html": [
              "'?A--W-HE+E'"
            ],
            "text/markdown": "'?A--W-HE+E'",
            "text/latex": "'?A--W-HE+E'",
            "text/plain": [
              "[1] \"?A--W-HE+E\""
            ]
          },
          "metadata": {}
        }
      ]
    },
    {
      "cell_type": "markdown",
      "source": [
        "## Genomic Expression data loading and analysis\n",
        "Let us load expression data"
      ],
      "metadata": {
        "id": "1etWOSNUOhJl"
      }
    },
    {
      "cell_type": "code",
      "source": [
        "con=url(\"http://bowtie-bio.sourceforge.net/recount/ExpressionSets/bodymap_eset.RData\")\n",
        "load(file=con)\n",
        "close(con)"
      ],
      "metadata": {
        "id": "c_G4PjQ3OaFC"
      },
      "execution_count": 11,
      "outputs": []
    },
    {
      "cell_type": "markdown",
      "source": [
        "## bm (see below) object contains three tables"
      ],
      "metadata": {
        "id": "A8HhM1YlPcyU"
      }
    },
    {
      "cell_type": "markdown",
      "source": [
        "What is `bm`? It is a SummarizedExperiment like object. Read about this object here, https://www.bioconductor.org/help/course-materials/2019/BSS2019/04_Practical_CoreApproachesInBioconductor.html"
      ],
      "metadata": {
        "id": "4cU-DCaP7avI"
      }
    },
    {
      "cell_type": "code",
      "source": [
        "bm = bodymap.eset\n",
        "bm"
      ],
      "metadata": {
        "colab": {
          "base_uri": "https://localhost:8080/",
          "height": 277
        },
        "id": "zZKvBEL5OmHv",
        "outputId": "d52b991d-a74d-438b-fe23-179dafeeaf1c"
      },
      "execution_count": 12,
      "outputs": [
        {
          "output_type": "display_data",
          "data": {
            "text/plain": [
              "ExpressionSet (storageMode: lockedEnvironment)\n",
              "assayData: 52580 features, 19 samples \n",
              "  element names: exprs \n",
              "protocolData: none\n",
              "phenoData\n",
              "  sampleNames: ERS025098 ERS025092 ... ERS025091 (19 total)\n",
              "  varLabels: sample.id num.tech.reps ... race (6 total)\n",
              "  varMetadata: labelDescription\n",
              "featureData\n",
              "  featureNames: ENSG00000000003 ENSG00000000005 ... LRG_99 (52580\n",
              "    total)\n",
              "  fvarLabels: gene\n",
              "  fvarMetadata: labelDescription\n",
              "experimentData: use 'experimentData(object)'\n",
              "Annotation:  "
            ]
          },
          "metadata": {}
        }
      ]
    },
    {
      "cell_type": "code",
      "source": [
        "class(bm)"
      ],
      "metadata": {
        "colab": {
          "base_uri": "https://localhost:8080/",
          "height": 34
        },
        "id": "uidZEniF7r29",
        "outputId": "569cb59b-e3ae-4f8c-89d1-50c7799d176e"
      },
      "execution_count": 13,
      "outputs": [
        {
          "output_type": "display_data",
          "data": {
            "text/html": [
              "'ExpressionSet'"
            ],
            "text/markdown": "'ExpressionSet'",
            "text/latex": "'ExpressionSet'",
            "text/plain": [
              "[1] \"ExpressionSet\"\n",
              "attr(,\"package\")\n",
              "[1] \"Biobase\""
            ]
          },
          "metadata": {}
        }
      ]
    },
    {
      "cell_type": "markdown",
      "source": [
        "## Table1: Expression data"
      ],
      "metadata": {
        "id": "YM47I2rpO8M7"
      }
    },
    {
      "cell_type": "code",
      "source": [
        "exp_data = exprs(bm)\n",
        "dim(exp_data)\n",
        "head(exp_data,n=5)"
      ],
      "metadata": {
        "colab": {
          "base_uri": "https://localhost:8080/",
          "height": 261
        },
        "id": "E_TJd4eqO84Z",
        "outputId": "039fbb35-3c5e-467a-e2ae-de6eb08959aa"
      },
      "execution_count": 14,
      "outputs": [
        {
          "output_type": "display_data",
          "data": {
            "text/html": [
              "<style>\n",
              ".list-inline {list-style: none; margin:0; padding: 0}\n",
              ".list-inline>li {display: inline-block}\n",
              ".list-inline>li:not(:last-child)::after {content: \"\\00b7\"; padding: 0 .5ex}\n",
              "</style>\n",
              "<ol class=list-inline><li>52580</li><li>19</li></ol>\n"
            ],
            "text/markdown": "1. 52580\n2. 19\n\n\n",
            "text/latex": "\\begin{enumerate*}\n\\item 52580\n\\item 19\n\\end{enumerate*}\n",
            "text/plain": [
              "[1] 52580    19"
            ]
          },
          "metadata": {}
        },
        {
          "output_type": "display_data",
          "data": {
            "text/html": [
              "<table class=\"dataframe\">\n",
              "<caption>A matrix: 5 × 19 of type int</caption>\n",
              "<thead>\n",
              "\t<tr><th></th><th scope=col>ERS025098</th><th scope=col>ERS025092</th><th scope=col>ERS025085</th><th scope=col>ERS025088</th><th scope=col>ERS025089</th><th scope=col>ERS025082</th><th scope=col>ERS025081</th><th scope=col>ERS025096</th><th scope=col>ERS025099</th><th scope=col>ERS025086</th><th scope=col>ERS025084</th><th scope=col>ERS025087</th><th scope=col>ERS025093</th><th scope=col>ERS025083</th><th scope=col>ERS025095</th><th scope=col>ERS025097</th><th scope=col>ERS025094</th><th scope=col>ERS025090</th><th scope=col>ERS025091</th></tr>\n",
              "</thead>\n",
              "<tbody>\n",
              "\t<tr><th scope=row>ENSG00000000003</th><td>1354</td><td>216</td><td>215</td><td> 924</td><td>725</td><td>125</td><td>796</td><td>1954</td><td>815</td><td>249</td><td>4614</td><td>6548</td><td>5030</td><td>1450</td><td>781</td><td> 69</td><td>1888</td><td> 983</td><td>  3</td></tr>\n",
              "\t<tr><th scope=row>ENSG00000000005</th><td> 712</td><td>134</td><td>  4</td><td>1495</td><td>119</td><td> 20</td><td>  7</td><td>   0</td><td>  0</td><td> 16</td><td> 975</td><td> 923</td><td> 696</td><td>  15</td><td> 24</td><td>  0</td><td>  20</td><td>   4</td><td>  0</td></tr>\n",
              "\t<tr><th scope=row>ENSG00000000419</th><td> 450</td><td>547</td><td>516</td><td> 529</td><td>808</td><td>680</td><td>744</td><td> 369</td><td>636</td><td>486</td><td>1200</td><td>2823</td><td>2159</td><td> 933</td><td>870</td><td>621</td><td>1026</td><td>1185</td><td>765</td></tr>\n",
              "\t<tr><th scope=row>ENSG00000000457</th><td> 188</td><td>368</td><td>196</td><td> 386</td><td>156</td><td>259</td><td>436</td><td> 288</td><td>187</td><td>553</td><td>1543</td><td>1194</td><td> 876</td><td> 655</td><td>862</td><td>242</td><td> 569</td><td> 609</td><td>782</td></tr>\n",
              "\t<tr><th scope=row>ENSG00000000460</th><td>  66</td><td> 29</td><td>  1</td><td>  26</td><td> 11</td><td>  9</td><td> 25</td><td>  42</td><td> 12</td><td> 22</td><td> 213</td><td>  80</td><td>  57</td><td>  13</td><td> 78</td><td> 17</td><td> 351</td><td>  46</td><td> 73</td></tr>\n",
              "</tbody>\n",
              "</table>\n"
            ],
            "text/markdown": "\nA matrix: 5 × 19 of type int\n\n| <!--/--> | ERS025098 | ERS025092 | ERS025085 | ERS025088 | ERS025089 | ERS025082 | ERS025081 | ERS025096 | ERS025099 | ERS025086 | ERS025084 | ERS025087 | ERS025093 | ERS025083 | ERS025095 | ERS025097 | ERS025094 | ERS025090 | ERS025091 |\n|---|---|---|---|---|---|---|---|---|---|---|---|---|---|---|---|---|---|---|---|\n| ENSG00000000003 | 1354 | 216 | 215 |  924 | 725 | 125 | 796 | 1954 | 815 | 249 | 4614 | 6548 | 5030 | 1450 | 781 |  69 | 1888 |  983 |   3 |\n| ENSG00000000005 |  712 | 134 |   4 | 1495 | 119 |  20 |   7 |    0 |   0 |  16 |  975 |  923 |  696 |   15 |  24 |   0 |   20 |    4 |   0 |\n| ENSG00000000419 |  450 | 547 | 516 |  529 | 808 | 680 | 744 |  369 | 636 | 486 | 1200 | 2823 | 2159 |  933 | 870 | 621 | 1026 | 1185 | 765 |\n| ENSG00000000457 |  188 | 368 | 196 |  386 | 156 | 259 | 436 |  288 | 187 | 553 | 1543 | 1194 |  876 |  655 | 862 | 242 |  569 |  609 | 782 |\n| ENSG00000000460 |   66 |  29 |   1 |   26 |  11 |   9 |  25 |   42 |  12 |  22 |  213 |   80 |   57 |   13 |  78 |  17 |  351 |   46 |  73 |\n\n",
            "text/latex": "A matrix: 5 × 19 of type int\n\\begin{tabular}{r|lllllllllllllllllll}\n  & ERS025098 & ERS025092 & ERS025085 & ERS025088 & ERS025089 & ERS025082 & ERS025081 & ERS025096 & ERS025099 & ERS025086 & ERS025084 & ERS025087 & ERS025093 & ERS025083 & ERS025095 & ERS025097 & ERS025094 & ERS025090 & ERS025091\\\\\n\\hline\n\tENSG00000000003 & 1354 & 216 & 215 &  924 & 725 & 125 & 796 & 1954 & 815 & 249 & 4614 & 6548 & 5030 & 1450 & 781 &  69 & 1888 &  983 &   3\\\\\n\tENSG00000000005 &  712 & 134 &   4 & 1495 & 119 &  20 &   7 &    0 &   0 &  16 &  975 &  923 &  696 &   15 &  24 &   0 &   20 &    4 &   0\\\\\n\tENSG00000000419 &  450 & 547 & 516 &  529 & 808 & 680 & 744 &  369 & 636 & 486 & 1200 & 2823 & 2159 &  933 & 870 & 621 & 1026 & 1185 & 765\\\\\n\tENSG00000000457 &  188 & 368 & 196 &  386 & 156 & 259 & 436 &  288 & 187 & 553 & 1543 & 1194 &  876 &  655 & 862 & 242 &  569 &  609 & 782\\\\\n\tENSG00000000460 &   66 &  29 &   1 &   26 &  11 &   9 &  25 &   42 &  12 &  22 &  213 &   80 &   57 &   13 &  78 &  17 &  351 &   46 &  73\\\\\n\\end{tabular}\n",
            "text/plain": [
              "                ERS025098 ERS025092 ERS025085 ERS025088 ERS025089 ERS025082\n",
              "ENSG00000000003 1354      216       215        924      725       125      \n",
              "ENSG00000000005  712      134         4       1495      119        20      \n",
              "ENSG00000000419  450      547       516        529      808       680      \n",
              "ENSG00000000457  188      368       196        386      156       259      \n",
              "ENSG00000000460   66       29         1         26       11         9      \n",
              "                ERS025081 ERS025096 ERS025099 ERS025086 ERS025084 ERS025087\n",
              "ENSG00000000003 796       1954      815       249       4614      6548     \n",
              "ENSG00000000005   7          0        0        16        975       923     \n",
              "ENSG00000000419 744        369      636       486       1200      2823     \n",
              "ENSG00000000457 436        288      187       553       1543      1194     \n",
              "ENSG00000000460  25         42       12        22        213        80     \n",
              "                ERS025093 ERS025083 ERS025095 ERS025097 ERS025094 ERS025090\n",
              "ENSG00000000003 5030      1450      781        69       1888       983     \n",
              "ENSG00000000005  696        15       24         0         20         4     \n",
              "ENSG00000000419 2159       933      870       621       1026      1185     \n",
              "ENSG00000000457  876       655      862       242        569       609     \n",
              "ENSG00000000460   57        13       78        17        351        46     \n",
              "                ERS025091\n",
              "ENSG00000000003   3      \n",
              "ENSG00000000005   0      \n",
              "ENSG00000000419 765      \n",
              "ENSG00000000457 782      \n",
              "ENSG00000000460  73      "
            ]
          },
          "metadata": {}
        }
      ]
    },
    {
      "cell_type": "markdown",
      "source": [
        "## Table 2: Phenotypic data"
      ],
      "metadata": {
        "id": "Xgbc49zOPTT2"
      }
    },
    {
      "cell_type": "code",
      "source": [
        "pheno_data = pData(bm)\n",
        "dim(pheno_data)\n",
        "head(pheno_data)"
      ],
      "metadata": {
        "colab": {
          "base_uri": "https://localhost:8080/",
          "height": 304
        },
        "id": "Rf87FmQzPDHX",
        "outputId": "8ad6f6bf-9ce8-4cf2-d4e5-04476fd68f38"
      },
      "execution_count": 15,
      "outputs": [
        {
          "output_type": "display_data",
          "data": {
            "text/html": [
              "<style>\n",
              ".list-inline {list-style: none; margin:0; padding: 0}\n",
              ".list-inline>li {display: inline-block}\n",
              ".list-inline>li:not(:last-child)::after {content: \"\\00b7\"; padding: 0 .5ex}\n",
              "</style>\n",
              "<ol class=list-inline><li>19</li><li>6</li></ol>\n"
            ],
            "text/markdown": "1. 19\n2. 6\n\n\n",
            "text/latex": "\\begin{enumerate*}\n\\item 19\n\\item 6\n\\end{enumerate*}\n",
            "text/plain": [
              "[1] 19  6"
            ]
          },
          "metadata": {}
        },
        {
          "output_type": "display_data",
          "data": {
            "text/html": [
              "<table class=\"dataframe\">\n",
              "<caption>A data.frame: 6 × 6</caption>\n",
              "<thead>\n",
              "\t<tr><th></th><th scope=col>sample.id</th><th scope=col>num.tech.reps</th><th scope=col>tissue.type</th><th scope=col>gender</th><th scope=col>age</th><th scope=col>race</th></tr>\n",
              "\t<tr><th></th><th scope=col>&lt;fct&gt;</th><th scope=col>&lt;dbl&gt;</th><th scope=col>&lt;fct&gt;</th><th scope=col>&lt;fct&gt;</th><th scope=col>&lt;dbl&gt;</th><th scope=col>&lt;fct&gt;</th></tr>\n",
              "</thead>\n",
              "<tbody>\n",
              "\t<tr><th scope=row>ERS025098</th><td>ERS025098</td><td>2</td><td>adipose</td><td>F</td><td>73</td><td>caucasian</td></tr>\n",
              "\t<tr><th scope=row>ERS025092</th><td>ERS025092</td><td>2</td><td>adrenal</td><td>M</td><td>60</td><td>caucasian</td></tr>\n",
              "\t<tr><th scope=row>ERS025085</th><td>ERS025085</td><td>2</td><td>brain  </td><td>F</td><td>77</td><td>caucasian</td></tr>\n",
              "\t<tr><th scope=row>ERS025088</th><td>ERS025088</td><td>2</td><td>breast </td><td>F</td><td>29</td><td>caucasian</td></tr>\n",
              "\t<tr><th scope=row>ERS025089</th><td>ERS025089</td><td>2</td><td>colon  </td><td>F</td><td>68</td><td>caucasian</td></tr>\n",
              "\t<tr><th scope=row>ERS025082</th><td>ERS025082</td><td>2</td><td>heart  </td><td>M</td><td>77</td><td>caucasian</td></tr>\n",
              "</tbody>\n",
              "</table>\n"
            ],
            "text/markdown": "\nA data.frame: 6 × 6\n\n| <!--/--> | sample.id &lt;fct&gt; | num.tech.reps &lt;dbl&gt; | tissue.type &lt;fct&gt; | gender &lt;fct&gt; | age &lt;dbl&gt; | race &lt;fct&gt; |\n|---|---|---|---|---|---|---|\n| ERS025098 | ERS025098 | 2 | adipose | F | 73 | caucasian |\n| ERS025092 | ERS025092 | 2 | adrenal | M | 60 | caucasian |\n| ERS025085 | ERS025085 | 2 | brain   | F | 77 | caucasian |\n| ERS025088 | ERS025088 | 2 | breast  | F | 29 | caucasian |\n| ERS025089 | ERS025089 | 2 | colon   | F | 68 | caucasian |\n| ERS025082 | ERS025082 | 2 | heart   | M | 77 | caucasian |\n\n",
            "text/latex": "A data.frame: 6 × 6\n\\begin{tabular}{r|llllll}\n  & sample.id & num.tech.reps & tissue.type & gender & age & race\\\\\n  & <fct> & <dbl> & <fct> & <fct> & <dbl> & <fct>\\\\\n\\hline\n\tERS025098 & ERS025098 & 2 & adipose & F & 73 & caucasian\\\\\n\tERS025092 & ERS025092 & 2 & adrenal & M & 60 & caucasian\\\\\n\tERS025085 & ERS025085 & 2 & brain   & F & 77 & caucasian\\\\\n\tERS025088 & ERS025088 & 2 & breast  & F & 29 & caucasian\\\\\n\tERS025089 & ERS025089 & 2 & colon   & F & 68 & caucasian\\\\\n\tERS025082 & ERS025082 & 2 & heart   & M & 77 & caucasian\\\\\n\\end{tabular}\n",
            "text/plain": [
              "          sample.id num.tech.reps tissue.type gender age race     \n",
              "ERS025098 ERS025098 2             adipose     F      73  caucasian\n",
              "ERS025092 ERS025092 2             adrenal     M      60  caucasian\n",
              "ERS025085 ERS025085 2             brain       F      77  caucasian\n",
              "ERS025088 ERS025088 2             breast      F      29  caucasian\n",
              "ERS025089 ERS025089 2             colon       F      68  caucasian\n",
              "ERS025082 ERS025082 2             heart       M      77  caucasian"
            ]
          },
          "metadata": {}
        }
      ]
    },
    {
      "cell_type": "markdown",
      "source": [
        "## Table 3: Feature Data"
      ],
      "metadata": {
        "id": "PaBKBhD3PkcZ"
      }
    },
    {
      "cell_type": "code",
      "source": [
        "feature_data = fData(bm)\n",
        "dim(fData(bodymap.eset))\n",
        "head(fData(bodymap.eset))"
      ],
      "metadata": {
        "colab": {
          "base_uri": "https://localhost:8080/",
          "height": 304
        },
        "id": "XDpWf3aAPjcq",
        "outputId": "675f6127-d475-48d0-c308-558e945f7f36"
      },
      "execution_count": 16,
      "outputs": [
        {
          "output_type": "display_data",
          "data": {
            "text/html": [
              "<style>\n",
              ".list-inline {list-style: none; margin:0; padding: 0}\n",
              ".list-inline>li {display: inline-block}\n",
              ".list-inline>li:not(:last-child)::after {content: \"\\00b7\"; padding: 0 .5ex}\n",
              "</style>\n",
              "<ol class=list-inline><li>52580</li><li>1</li></ol>\n"
            ],
            "text/markdown": "1. 52580\n2. 1\n\n\n",
            "text/latex": "\\begin{enumerate*}\n\\item 52580\n\\item 1\n\\end{enumerate*}\n",
            "text/plain": [
              "[1] 52580     1"
            ]
          },
          "metadata": {}
        },
        {
          "output_type": "display_data",
          "data": {
            "text/html": [
              "<table class=\"dataframe\">\n",
              "<caption>A data.frame: 6 × 1</caption>\n",
              "<thead>\n",
              "\t<tr><th></th><th scope=col>gene</th></tr>\n",
              "\t<tr><th></th><th scope=col>&lt;fct&gt;</th></tr>\n",
              "</thead>\n",
              "<tbody>\n",
              "\t<tr><th scope=row>ENSG00000000003</th><td>ENSG00000000003</td></tr>\n",
              "\t<tr><th scope=row>ENSG00000000005</th><td>ENSG00000000005</td></tr>\n",
              "\t<tr><th scope=row>ENSG00000000419</th><td>ENSG00000000419</td></tr>\n",
              "\t<tr><th scope=row>ENSG00000000457</th><td>ENSG00000000457</td></tr>\n",
              "\t<tr><th scope=row>ENSG00000000460</th><td>ENSG00000000460</td></tr>\n",
              "\t<tr><th scope=row>ENSG00000000938</th><td>ENSG00000000938</td></tr>\n",
              "</tbody>\n",
              "</table>\n"
            ],
            "text/markdown": "\nA data.frame: 6 × 1\n\n| <!--/--> | gene &lt;fct&gt; |\n|---|---|\n| ENSG00000000003 | ENSG00000000003 |\n| ENSG00000000005 | ENSG00000000005 |\n| ENSG00000000419 | ENSG00000000419 |\n| ENSG00000000457 | ENSG00000000457 |\n| ENSG00000000460 | ENSG00000000460 |\n| ENSG00000000938 | ENSG00000000938 |\n\n",
            "text/latex": "A data.frame: 6 × 1\n\\begin{tabular}{r|l}\n  & gene\\\\\n  & <fct>\\\\\n\\hline\n\tENSG00000000003 & ENSG00000000003\\\\\n\tENSG00000000005 & ENSG00000000005\\\\\n\tENSG00000000419 & ENSG00000000419\\\\\n\tENSG00000000457 & ENSG00000000457\\\\\n\tENSG00000000460 & ENSG00000000460\\\\\n\tENSG00000000938 & ENSG00000000938\\\\\n\\end{tabular}\n",
            "text/plain": [
              "                gene           \n",
              "ENSG00000000003 ENSG00000000003\n",
              "ENSG00000000005 ENSG00000000005\n",
              "ENSG00000000419 ENSG00000000419\n",
              "ENSG00000000457 ENSG00000000457\n",
              "ENSG00000000460 ENSG00000000460\n",
              "ENSG00000000938 ENSG00000000938"
            ]
          },
          "metadata": {}
        }
      ]
    }
  ]
}