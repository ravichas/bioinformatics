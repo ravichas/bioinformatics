{
  "nbformat": 4,
  "nbformat_minor": 0,
  "metadata": {
    "colab": {
      "name": "R-tutorial-Bioconductor-Colab.ipynb",
      "provenance": [],
      "collapsed_sections": [],
      "authorship_tag": "ABX9TyOWThxd9w4AiC20Ce+lwR45",
      "include_colab_link": true
    },
    "kernelspec": {
      "name": "ir",
      "display_name": "R"
    },
    "language_info": {
      "name": "R"
    },
    "accelerator": "TPU"
  },
  "cells": [
    {
      "cell_type": "markdown",
      "metadata": {
        "id": "view-in-github",
        "colab_type": "text"
      },
      "source": [
        "<a href=\"https://colab.research.google.com/github/ravichas/bioinformatics/blob/main/R_tutorial_Bioconductor_Colab.ipynb\" target=\"_parent\"><img src=\"https://colab.research.google.com/assets/colab-badge.svg\" alt=\"Open In Colab\"/></a>"
      ]
    },
    {
      "cell_type": "markdown",
      "source": [
        "You can use COLAB to run R. Here are two different ways to run R using COLAB: \n",
        "\n",
        "* Copy this notebook to your Google drive and modify it \n",
        "* Go to https://colab.research.google.com/#create=true&language=r, or use the following short URL https://colab.to/r"
      ],
      "metadata": {
        "id": "UvRlyAAHP-YG"
      }
    },
    {
      "cell_type": "code",
      "metadata": {
        "colab": {
          "base_uri": "https://localhost:8080/",
          "height": 286
        },
        "id": "SxEQfTC0mtv6",
        "outputId": "f4ac80e3-25da-4d8b-ad5f-29277667f11d"
      },
      "source": [
        "head(mtcars)"
      ],
      "execution_count": null,
      "outputs": [
        {
          "output_type": "display_data",
          "data": {
            "text/plain": [
              "                  mpg  cyl disp hp  drat wt    qsec  vs am gear carb\n",
              "Mazda RX4         21.0 6   160  110 3.90 2.620 16.46 0  1  4    4   \n",
              "Mazda RX4 Wag     21.0 6   160  110 3.90 2.875 17.02 0  1  4    4   \n",
              "Datsun 710        22.8 4   108   93 3.85 2.320 18.61 1  1  4    1   \n",
              "Hornet 4 Drive    21.4 6   258  110 3.08 3.215 19.44 1  0  3    1   \n",
              "Hornet Sportabout 18.7 8   360  175 3.15 3.440 17.02 0  0  3    2   \n",
              "Valiant           18.1 6   225  105 2.76 3.460 20.22 1  0  3    1   "
            ],
            "text/latex": "A data.frame: 6 × 11\n\\begin{tabular}{r|lllllllllll}\n  & mpg & cyl & disp & hp & drat & wt & qsec & vs & am & gear & carb\\\\\n  & <dbl> & <dbl> & <dbl> & <dbl> & <dbl> & <dbl> & <dbl> & <dbl> & <dbl> & <dbl> & <dbl>\\\\\n\\hline\n\tMazda RX4 & 21.0 & 6 & 160 & 110 & 3.90 & 2.620 & 16.46 & 0 & 1 & 4 & 4\\\\\n\tMazda RX4 Wag & 21.0 & 6 & 160 & 110 & 3.90 & 2.875 & 17.02 & 0 & 1 & 4 & 4\\\\\n\tDatsun 710 & 22.8 & 4 & 108 &  93 & 3.85 & 2.320 & 18.61 & 1 & 1 & 4 & 1\\\\\n\tHornet 4 Drive & 21.4 & 6 & 258 & 110 & 3.08 & 3.215 & 19.44 & 1 & 0 & 3 & 1\\\\\n\tHornet Sportabout & 18.7 & 8 & 360 & 175 & 3.15 & 3.440 & 17.02 & 0 & 0 & 3 & 2\\\\\n\tValiant & 18.1 & 6 & 225 & 105 & 2.76 & 3.460 & 20.22 & 1 & 0 & 3 & 1\\\\\n\\end{tabular}\n",
            "text/markdown": "\nA data.frame: 6 × 11\n\n| <!--/--> | mpg &lt;dbl&gt; | cyl &lt;dbl&gt; | disp &lt;dbl&gt; | hp &lt;dbl&gt; | drat &lt;dbl&gt; | wt &lt;dbl&gt; | qsec &lt;dbl&gt; | vs &lt;dbl&gt; | am &lt;dbl&gt; | gear &lt;dbl&gt; | carb &lt;dbl&gt; |\n|---|---|---|---|---|---|---|---|---|---|---|---|\n| Mazda RX4 | 21.0 | 6 | 160 | 110 | 3.90 | 2.620 | 16.46 | 0 | 1 | 4 | 4 |\n| Mazda RX4 Wag | 21.0 | 6 | 160 | 110 | 3.90 | 2.875 | 17.02 | 0 | 1 | 4 | 4 |\n| Datsun 710 | 22.8 | 4 | 108 |  93 | 3.85 | 2.320 | 18.61 | 1 | 1 | 4 | 1 |\n| Hornet 4 Drive | 21.4 | 6 | 258 | 110 | 3.08 | 3.215 | 19.44 | 1 | 0 | 3 | 1 |\n| Hornet Sportabout | 18.7 | 8 | 360 | 175 | 3.15 | 3.440 | 17.02 | 0 | 0 | 3 | 2 |\n| Valiant | 18.1 | 6 | 225 | 105 | 2.76 | 3.460 | 20.22 | 1 | 0 | 3 | 1 |\n\n",
            "text/html": [
              "<table class=\"dataframe\">\n",
              "<caption>A data.frame: 6 × 11</caption>\n",
              "<thead>\n",
              "\t<tr><th></th><th scope=col>mpg</th><th scope=col>cyl</th><th scope=col>disp</th><th scope=col>hp</th><th scope=col>drat</th><th scope=col>wt</th><th scope=col>qsec</th><th scope=col>vs</th><th scope=col>am</th><th scope=col>gear</th><th scope=col>carb</th></tr>\n",
              "\t<tr><th></th><th scope=col>&lt;dbl&gt;</th><th scope=col>&lt;dbl&gt;</th><th scope=col>&lt;dbl&gt;</th><th scope=col>&lt;dbl&gt;</th><th scope=col>&lt;dbl&gt;</th><th scope=col>&lt;dbl&gt;</th><th scope=col>&lt;dbl&gt;</th><th scope=col>&lt;dbl&gt;</th><th scope=col>&lt;dbl&gt;</th><th scope=col>&lt;dbl&gt;</th><th scope=col>&lt;dbl&gt;</th></tr>\n",
              "</thead>\n",
              "<tbody>\n",
              "\t<tr><th scope=row>Mazda RX4</th><td>21.0</td><td>6</td><td>160</td><td>110</td><td>3.90</td><td>2.620</td><td>16.46</td><td>0</td><td>1</td><td>4</td><td>4</td></tr>\n",
              "\t<tr><th scope=row>Mazda RX4 Wag</th><td>21.0</td><td>6</td><td>160</td><td>110</td><td>3.90</td><td>2.875</td><td>17.02</td><td>0</td><td>1</td><td>4</td><td>4</td></tr>\n",
              "\t<tr><th scope=row>Datsun 710</th><td>22.8</td><td>4</td><td>108</td><td> 93</td><td>3.85</td><td>2.320</td><td>18.61</td><td>1</td><td>1</td><td>4</td><td>1</td></tr>\n",
              "\t<tr><th scope=row>Hornet 4 Drive</th><td>21.4</td><td>6</td><td>258</td><td>110</td><td>3.08</td><td>3.215</td><td>19.44</td><td>1</td><td>0</td><td>3</td><td>1</td></tr>\n",
              "\t<tr><th scope=row>Hornet Sportabout</th><td>18.7</td><td>8</td><td>360</td><td>175</td><td>3.15</td><td>3.440</td><td>17.02</td><td>0</td><td>0</td><td>3</td><td>2</td></tr>\n",
              "\t<tr><th scope=row>Valiant</th><td>18.1</td><td>6</td><td>225</td><td>105</td><td>2.76</td><td>3.460</td><td>20.22</td><td>1</td><td>0</td><td>3</td><td>1</td></tr>\n",
              "</tbody>\n",
              "</table>\n"
            ]
          },
          "metadata": {}
        }
      ]
    },
    {
      "cell_type": "code",
      "metadata": {
        "colab": {
          "base_uri": "https://localhost:8080/",
          "height": 35
        },
        "id": "J9jtE92rm6rh",
        "outputId": "ce537e82-133f-4930-dddf-581d45f549e6"
      },
      "source": [
        "colnames(mtcars)"
      ],
      "execution_count": null,
      "outputs": [
        {
          "output_type": "display_data",
          "data": {
            "text/plain": [
              " [1] \"mpg\"  \"cyl\"  \"disp\" \"hp\"   \"drat\" \"wt\"   \"qsec\" \"vs\"   \"am\"   \"gear\"\n",
              "[11] \"carb\""
            ],
            "text/latex": "\\begin{enumerate*}\n\\item 'mpg'\n\\item 'cyl'\n\\item 'disp'\n\\item 'hp'\n\\item 'drat'\n\\item 'wt'\n\\item 'qsec'\n\\item 'vs'\n\\item 'am'\n\\item 'gear'\n\\item 'carb'\n\\end{enumerate*}\n",
            "text/markdown": "1. 'mpg'\n2. 'cyl'\n3. 'disp'\n4. 'hp'\n5. 'drat'\n6. 'wt'\n7. 'qsec'\n8. 'vs'\n9. 'am'\n10. 'gear'\n11. 'carb'\n\n\n",
            "text/html": [
              "<style>\n",
              ".list-inline {list-style: none; margin:0; padding: 0}\n",
              ".list-inline>li {display: inline-block}\n",
              ".list-inline>li:not(:last-child)::after {content: \"\\00b7\"; padding: 0 .5ex}\n",
              "</style>\n",
              "<ol class=list-inline><li>'mpg'</li><li>'cyl'</li><li>'disp'</li><li>'hp'</li><li>'drat'</li><li>'wt'</li><li>'qsec'</li><li>'vs'</li><li>'am'</li><li>'gear'</li><li>'carb'</li></ol>\n"
            ]
          },
          "metadata": {}
        }
      ]
    },
    {
      "cell_type": "code",
      "metadata": {
        "colab": {
          "base_uri": "https://localhost:8080/",
          "height": 96
        },
        "id": "tZurRFbGm8rV",
        "outputId": "95bbd10c-84d1-4409-b343-fdbd958cc575"
      },
      "source": [
        "mtcars$hp"
      ],
      "execution_count": null,
      "outputs": [
        {
          "output_type": "error",
          "ename": "ERROR",
          "evalue": "ignored",
          "traceback": [
            "Error in eval(expr, envir, enclos): object 'mtcarsA' not found\nTraceback:\n"
          ]
        }
      ]
    },
    {
      "cell_type": "markdown",
      "source": [
        "## How to see what libraries are installed?"
      ],
      "metadata": {
        "id": "w5JdamobP4Xu"
      }
    },
    {
      "cell_type": "code",
      "metadata": {
        "id": "G9f8n-Zlm95w"
      },
      "source": [
        "# print(installed.packages())"
      ],
      "execution_count": 11,
      "outputs": []
    },
    {
      "cell_type": "markdown",
      "source": [
        "## Bioconductor \n",
        "\n",
        "Let us install Bioconductor and run some genomics modeling"
      ],
      "metadata": {
        "id": "CQyQcE9wQzYT"
      }
    },
    {
      "cell_type": "code",
      "source": [
        "if (!require(\"BiocManager\", quietly = TRUE))\n",
        "    install.packages(\"BiocManager\")\n",
        "BiocManager::install(version = \"3.14\")"
      ],
      "metadata": {
        "colab": {
          "base_uri": "https://localhost:8080/"
        },
        "id": "v7tZeO9NNXbI",
        "outputId": "6ed07f5e-6592-4f8e-9daa-668da23352ec"
      },
      "execution_count": 2,
      "outputs": [
        {
          "output_type": "stream",
          "name": "stderr",
          "text": [
            "Installing package into ‘/usr/local/lib/R/site-library’\n",
            "(as ‘lib’ is unspecified)\n",
            "\n",
            "'getOption(\"repos\")' replaces Bioconductor standard repositories, see\n",
            "'?repositories' for details\n",
            "\n",
            "replacement repositories:\n",
            "    CRAN: https://cran.rstudio.com\n",
            "\n",
            "\n",
            "Bioconductor version 3.14 (BiocManager 1.30.16), R 4.1.2 (2021-11-01)\n",
            "\n",
            "Installing package(s) 'BiocVersion'\n",
            "\n",
            "Old packages: 'broom', 'cli', 'dtplyr', 'fansi', 'gert', 'jsonlite', 'Rcpp',\n",
            "  'testthat', 'class', 'foreign', 'MASS', 'nlme', 'nnet', 'spatial'\n",
            "\n"
          ]
        }
      ]
    },
    {
      "cell_type": "code",
      "source": [
        "BiocManager::install('Biobase')"
      ],
      "metadata": {
        "colab": {
          "base_uri": "https://localhost:8080/"
        },
        "id": "u4uY23UeOOnb",
        "outputId": "19e0a775-4565-4f18-ceb0-0350aa478563"
      },
      "execution_count": 5,
      "outputs": [
        {
          "output_type": "stream",
          "name": "stderr",
          "text": [
            "'getOption(\"repos\")' replaces Bioconductor standard repositories, see\n",
            "'?repositories' for details\n",
            "\n",
            "replacement repositories:\n",
            "    CRAN: https://cran.rstudio.com\n",
            "\n",
            "\n",
            "Bioconductor version 3.14 (BiocManager 1.30.16), R 4.1.2 (2021-11-01)\n",
            "\n",
            "Installing package(s) 'Biobase'\n",
            "\n",
            "also installing the dependency ‘BiocGenerics’\n",
            "\n",
            "\n",
            "Old packages: 'broom', 'cli', 'dtplyr', 'fansi', 'gert', 'jsonlite', 'Rcpp',\n",
            "  'testthat', 'class', 'foreign', 'MASS', 'nlme', 'nnet', 'spatial'\n",
            "\n"
          ]
        }
      ]
    },
    {
      "cell_type": "code",
      "source": [
        "suppressPackageStartupMessages({\n",
        "   library(devtools)\n",
        "  library(Biobase) })"
      ],
      "metadata": {
        "id": "VY6uaqlMNfSK"
      },
      "execution_count": 6,
      "outputs": []
    },
    {
      "cell_type": "markdown",
      "source": [
        "## Load data\n",
        "Let us load expression data"
      ],
      "metadata": {
        "id": "1etWOSNUOhJl"
      }
    },
    {
      "cell_type": "code",
      "source": [
        "con=url(\"http://bowtie-bio.sourceforge.net/recount/ExpressionSets/bodymap_eset.RData\")\n",
        "load(file=con)\n",
        "close(con)"
      ],
      "metadata": {
        "id": "c_G4PjQ3OaFC"
      },
      "execution_count": 7,
      "outputs": []
    },
    {
      "cell_type": "markdown",
      "source": [
        "## bm (see below) object contains three tables"
      ],
      "metadata": {
        "id": "A8HhM1YlPcyU"
      }
    },
    {
      "cell_type": "code",
      "source": [
        "bm = bodymap.eset\n",
        "bm\n"
      ],
      "metadata": {
        "colab": {
          "base_uri": "https://localhost:8080/",
          "height": 277
        },
        "id": "zZKvBEL5OmHv",
        "outputId": "3a4ab777-65ea-43d4-b176-aaaf1046d398"
      },
      "execution_count": 8,
      "outputs": [
        {
          "output_type": "display_data",
          "data": {
            "text/plain": [
              "ExpressionSet (storageMode: lockedEnvironment)\n",
              "assayData: 52580 features, 19 samples \n",
              "  element names: exprs \n",
              "protocolData: none\n",
              "phenoData\n",
              "  sampleNames: ERS025098 ERS025092 ... ERS025091 (19 total)\n",
              "  varLabels: sample.id num.tech.reps ... race (6 total)\n",
              "  varMetadata: labelDescription\n",
              "featureData\n",
              "  featureNames: ENSG00000000003 ENSG00000000005 ... LRG_99 (52580\n",
              "    total)\n",
              "  fvarLabels: gene\n",
              "  fvarMetadata: labelDescription\n",
              "experimentData: use 'experimentData(object)'\n",
              "Annotation:  "
            ]
          },
          "metadata": {}
        }
      ]
    },
    {
      "cell_type": "markdown",
      "source": [
        "## Table1: Expression data"
      ],
      "metadata": {
        "id": "YM47I2rpO8M7"
      }
    },
    {
      "cell_type": "code",
      "source": [
        "exp_data = exprs(bm)\n",
        "dim(exp_data)\n",
        "head(exp_data,n=5)"
      ],
      "metadata": {
        "colab": {
          "base_uri": "https://localhost:8080/",
          "height": 261
        },
        "id": "E_TJd4eqO84Z",
        "outputId": "f1cf78e9-c678-493c-95f5-6b5e2c2f1cca"
      },
      "execution_count": 9,
      "outputs": [
        {
          "output_type": "display_data",
          "data": {
            "text/plain": [
              "[1] 52580    19"
            ],
            "text/latex": "\\begin{enumerate*}\n\\item 52580\n\\item 19\n\\end{enumerate*}\n",
            "text/markdown": "1. 52580\n2. 19\n\n\n",
            "text/html": [
              "<style>\n",
              ".list-inline {list-style: none; margin:0; padding: 0}\n",
              ".list-inline>li {display: inline-block}\n",
              ".list-inline>li:not(:last-child)::after {content: \"\\00b7\"; padding: 0 .5ex}\n",
              "</style>\n",
              "<ol class=list-inline><li>52580</li><li>19</li></ol>\n"
            ]
          },
          "metadata": {}
        },
        {
          "output_type": "display_data",
          "data": {
            "text/plain": [
              "                ERS025098 ERS025092 ERS025085 ERS025088 ERS025089 ERS025082\n",
              "ENSG00000000003 1354      216       215        924      725       125      \n",
              "ENSG00000000005  712      134         4       1495      119        20      \n",
              "ENSG00000000419  450      547       516        529      808       680      \n",
              "ENSG00000000457  188      368       196        386      156       259      \n",
              "ENSG00000000460   66       29         1         26       11         9      \n",
              "                ERS025081 ERS025096 ERS025099 ERS025086 ERS025084 ERS025087\n",
              "ENSG00000000003 796       1954      815       249       4614      6548     \n",
              "ENSG00000000005   7          0        0        16        975       923     \n",
              "ENSG00000000419 744        369      636       486       1200      2823     \n",
              "ENSG00000000457 436        288      187       553       1543      1194     \n",
              "ENSG00000000460  25         42       12        22        213        80     \n",
              "                ERS025093 ERS025083 ERS025095 ERS025097 ERS025094 ERS025090\n",
              "ENSG00000000003 5030      1450      781        69       1888       983     \n",
              "ENSG00000000005  696        15       24         0         20         4     \n",
              "ENSG00000000419 2159       933      870       621       1026      1185     \n",
              "ENSG00000000457  876       655      862       242        569       609     \n",
              "ENSG00000000460   57        13       78        17        351        46     \n",
              "                ERS025091\n",
              "ENSG00000000003   3      \n",
              "ENSG00000000005   0      \n",
              "ENSG00000000419 765      \n",
              "ENSG00000000457 782      \n",
              "ENSG00000000460  73      "
            ],
            "text/latex": "A matrix: 5 × 19 of type int\n\\begin{tabular}{r|lllllllllllllllllll}\n  & ERS025098 & ERS025092 & ERS025085 & ERS025088 & ERS025089 & ERS025082 & ERS025081 & ERS025096 & ERS025099 & ERS025086 & ERS025084 & ERS025087 & ERS025093 & ERS025083 & ERS025095 & ERS025097 & ERS025094 & ERS025090 & ERS025091\\\\\n\\hline\n\tENSG00000000003 & 1354 & 216 & 215 &  924 & 725 & 125 & 796 & 1954 & 815 & 249 & 4614 & 6548 & 5030 & 1450 & 781 &  69 & 1888 &  983 &   3\\\\\n\tENSG00000000005 &  712 & 134 &   4 & 1495 & 119 &  20 &   7 &    0 &   0 &  16 &  975 &  923 &  696 &   15 &  24 &   0 &   20 &    4 &   0\\\\\n\tENSG00000000419 &  450 & 547 & 516 &  529 & 808 & 680 & 744 &  369 & 636 & 486 & 1200 & 2823 & 2159 &  933 & 870 & 621 & 1026 & 1185 & 765\\\\\n\tENSG00000000457 &  188 & 368 & 196 &  386 & 156 & 259 & 436 &  288 & 187 & 553 & 1543 & 1194 &  876 &  655 & 862 & 242 &  569 &  609 & 782\\\\\n\tENSG00000000460 &   66 &  29 &   1 &   26 &  11 &   9 &  25 &   42 &  12 &  22 &  213 &   80 &   57 &   13 &  78 &  17 &  351 &   46 &  73\\\\\n\\end{tabular}\n",
            "text/markdown": "\nA matrix: 5 × 19 of type int\n\n| <!--/--> | ERS025098 | ERS025092 | ERS025085 | ERS025088 | ERS025089 | ERS025082 | ERS025081 | ERS025096 | ERS025099 | ERS025086 | ERS025084 | ERS025087 | ERS025093 | ERS025083 | ERS025095 | ERS025097 | ERS025094 | ERS025090 | ERS025091 |\n|---|---|---|---|---|---|---|---|---|---|---|---|---|---|---|---|---|---|---|---|\n| ENSG00000000003 | 1354 | 216 | 215 |  924 | 725 | 125 | 796 | 1954 | 815 | 249 | 4614 | 6548 | 5030 | 1450 | 781 |  69 | 1888 |  983 |   3 |\n| ENSG00000000005 |  712 | 134 |   4 | 1495 | 119 |  20 |   7 |    0 |   0 |  16 |  975 |  923 |  696 |   15 |  24 |   0 |   20 |    4 |   0 |\n| ENSG00000000419 |  450 | 547 | 516 |  529 | 808 | 680 | 744 |  369 | 636 | 486 | 1200 | 2823 | 2159 |  933 | 870 | 621 | 1026 | 1185 | 765 |\n| ENSG00000000457 |  188 | 368 | 196 |  386 | 156 | 259 | 436 |  288 | 187 | 553 | 1543 | 1194 |  876 |  655 | 862 | 242 |  569 |  609 | 782 |\n| ENSG00000000460 |   66 |  29 |   1 |   26 |  11 |   9 |  25 |   42 |  12 |  22 |  213 |   80 |   57 |   13 |  78 |  17 |  351 |   46 |  73 |\n\n",
            "text/html": [
              "<table class=\"dataframe\">\n",
              "<caption>A matrix: 5 × 19 of type int</caption>\n",
              "<thead>\n",
              "\t<tr><th></th><th scope=col>ERS025098</th><th scope=col>ERS025092</th><th scope=col>ERS025085</th><th scope=col>ERS025088</th><th scope=col>ERS025089</th><th scope=col>ERS025082</th><th scope=col>ERS025081</th><th scope=col>ERS025096</th><th scope=col>ERS025099</th><th scope=col>ERS025086</th><th scope=col>ERS025084</th><th scope=col>ERS025087</th><th scope=col>ERS025093</th><th scope=col>ERS025083</th><th scope=col>ERS025095</th><th scope=col>ERS025097</th><th scope=col>ERS025094</th><th scope=col>ERS025090</th><th scope=col>ERS025091</th></tr>\n",
              "</thead>\n",
              "<tbody>\n",
              "\t<tr><th scope=row>ENSG00000000003</th><td>1354</td><td>216</td><td>215</td><td> 924</td><td>725</td><td>125</td><td>796</td><td>1954</td><td>815</td><td>249</td><td>4614</td><td>6548</td><td>5030</td><td>1450</td><td>781</td><td> 69</td><td>1888</td><td> 983</td><td>  3</td></tr>\n",
              "\t<tr><th scope=row>ENSG00000000005</th><td> 712</td><td>134</td><td>  4</td><td>1495</td><td>119</td><td> 20</td><td>  7</td><td>   0</td><td>  0</td><td> 16</td><td> 975</td><td> 923</td><td> 696</td><td>  15</td><td> 24</td><td>  0</td><td>  20</td><td>   4</td><td>  0</td></tr>\n",
              "\t<tr><th scope=row>ENSG00000000419</th><td> 450</td><td>547</td><td>516</td><td> 529</td><td>808</td><td>680</td><td>744</td><td> 369</td><td>636</td><td>486</td><td>1200</td><td>2823</td><td>2159</td><td> 933</td><td>870</td><td>621</td><td>1026</td><td>1185</td><td>765</td></tr>\n",
              "\t<tr><th scope=row>ENSG00000000457</th><td> 188</td><td>368</td><td>196</td><td> 386</td><td>156</td><td>259</td><td>436</td><td> 288</td><td>187</td><td>553</td><td>1543</td><td>1194</td><td> 876</td><td> 655</td><td>862</td><td>242</td><td> 569</td><td> 609</td><td>782</td></tr>\n",
              "\t<tr><th scope=row>ENSG00000000460</th><td>  66</td><td> 29</td><td>  1</td><td>  26</td><td> 11</td><td>  9</td><td> 25</td><td>  42</td><td> 12</td><td> 22</td><td> 213</td><td>  80</td><td>  57</td><td>  13</td><td> 78</td><td> 17</td><td> 351</td><td>  46</td><td> 73</td></tr>\n",
              "</tbody>\n",
              "</table>\n"
            ]
          },
          "metadata": {}
        }
      ]
    },
    {
      "cell_type": "markdown",
      "source": [
        "## Table 2: Phenotypic data"
      ],
      "metadata": {
        "id": "Xgbc49zOPTT2"
      }
    },
    {
      "cell_type": "code",
      "source": [
        "pheno_data = pData(bm)\n",
        "dim(pheno_data)\n",
        "head(pheno_data)"
      ],
      "metadata": {
        "colab": {
          "base_uri": "https://localhost:8080/",
          "height": 304
        },
        "id": "Rf87FmQzPDHX",
        "outputId": "8f2cf183-f5ae-4e26-be3b-514a24d0cebb"
      },
      "execution_count": 10,
      "outputs": [
        {
          "output_type": "display_data",
          "data": {
            "text/plain": [
              "[1] 19  6"
            ],
            "text/latex": "\\begin{enumerate*}\n\\item 19\n\\item 6\n\\end{enumerate*}\n",
            "text/markdown": "1. 19\n2. 6\n\n\n",
            "text/html": [
              "<style>\n",
              ".list-inline {list-style: none; margin:0; padding: 0}\n",
              ".list-inline>li {display: inline-block}\n",
              ".list-inline>li:not(:last-child)::after {content: \"\\00b7\"; padding: 0 .5ex}\n",
              "</style>\n",
              "<ol class=list-inline><li>19</li><li>6</li></ol>\n"
            ]
          },
          "metadata": {}
        },
        {
          "output_type": "display_data",
          "data": {
            "text/plain": [
              "          sample.id num.tech.reps tissue.type gender age race     \n",
              "ERS025098 ERS025098 2             adipose     F      73  caucasian\n",
              "ERS025092 ERS025092 2             adrenal     M      60  caucasian\n",
              "ERS025085 ERS025085 2             brain       F      77  caucasian\n",
              "ERS025088 ERS025088 2             breast      F      29  caucasian\n",
              "ERS025089 ERS025089 2             colon       F      68  caucasian\n",
              "ERS025082 ERS025082 2             heart       M      77  caucasian"
            ],
            "text/latex": "A data.frame: 6 × 6\n\\begin{tabular}{r|llllll}\n  & sample.id & num.tech.reps & tissue.type & gender & age & race\\\\\n  & <fct> & <dbl> & <fct> & <fct> & <dbl> & <fct>\\\\\n\\hline\n\tERS025098 & ERS025098 & 2 & adipose & F & 73 & caucasian\\\\\n\tERS025092 & ERS025092 & 2 & adrenal & M & 60 & caucasian\\\\\n\tERS025085 & ERS025085 & 2 & brain   & F & 77 & caucasian\\\\\n\tERS025088 & ERS025088 & 2 & breast  & F & 29 & caucasian\\\\\n\tERS025089 & ERS025089 & 2 & colon   & F & 68 & caucasian\\\\\n\tERS025082 & ERS025082 & 2 & heart   & M & 77 & caucasian\\\\\n\\end{tabular}\n",
            "text/markdown": "\nA data.frame: 6 × 6\n\n| <!--/--> | sample.id &lt;fct&gt; | num.tech.reps &lt;dbl&gt; | tissue.type &lt;fct&gt; | gender &lt;fct&gt; | age &lt;dbl&gt; | race &lt;fct&gt; |\n|---|---|---|---|---|---|---|\n| ERS025098 | ERS025098 | 2 | adipose | F | 73 | caucasian |\n| ERS025092 | ERS025092 | 2 | adrenal | M | 60 | caucasian |\n| ERS025085 | ERS025085 | 2 | brain   | F | 77 | caucasian |\n| ERS025088 | ERS025088 | 2 | breast  | F | 29 | caucasian |\n| ERS025089 | ERS025089 | 2 | colon   | F | 68 | caucasian |\n| ERS025082 | ERS025082 | 2 | heart   | M | 77 | caucasian |\n\n",
            "text/html": [
              "<table class=\"dataframe\">\n",
              "<caption>A data.frame: 6 × 6</caption>\n",
              "<thead>\n",
              "\t<tr><th></th><th scope=col>sample.id</th><th scope=col>num.tech.reps</th><th scope=col>tissue.type</th><th scope=col>gender</th><th scope=col>age</th><th scope=col>race</th></tr>\n",
              "\t<tr><th></th><th scope=col>&lt;fct&gt;</th><th scope=col>&lt;dbl&gt;</th><th scope=col>&lt;fct&gt;</th><th scope=col>&lt;fct&gt;</th><th scope=col>&lt;dbl&gt;</th><th scope=col>&lt;fct&gt;</th></tr>\n",
              "</thead>\n",
              "<tbody>\n",
              "\t<tr><th scope=row>ERS025098</th><td>ERS025098</td><td>2</td><td>adipose</td><td>F</td><td>73</td><td>caucasian</td></tr>\n",
              "\t<tr><th scope=row>ERS025092</th><td>ERS025092</td><td>2</td><td>adrenal</td><td>M</td><td>60</td><td>caucasian</td></tr>\n",
              "\t<tr><th scope=row>ERS025085</th><td>ERS025085</td><td>2</td><td>brain  </td><td>F</td><td>77</td><td>caucasian</td></tr>\n",
              "\t<tr><th scope=row>ERS025088</th><td>ERS025088</td><td>2</td><td>breast </td><td>F</td><td>29</td><td>caucasian</td></tr>\n",
              "\t<tr><th scope=row>ERS025089</th><td>ERS025089</td><td>2</td><td>colon  </td><td>F</td><td>68</td><td>caucasian</td></tr>\n",
              "\t<tr><th scope=row>ERS025082</th><td>ERS025082</td><td>2</td><td>heart  </td><td>M</td><td>77</td><td>caucasian</td></tr>\n",
              "</tbody>\n",
              "</table>\n"
            ]
          },
          "metadata": {}
        }
      ]
    },
    {
      "cell_type": "markdown",
      "source": [
        "## Table 3: Feature Data"
      ],
      "metadata": {
        "id": "PaBKBhD3PkcZ"
      }
    },
    {
      "cell_type": "code",
      "source": [
        "feature_data = fData(bm)\n",
        "dim(fData(bodymap.eset))\n",
        "fData(bodymap.eset)[1:5,,1]"
      ],
      "metadata": {
        "id": "XDpWf3aAPjcq"
      },
      "execution_count": null,
      "outputs": []
    }
  ]
}