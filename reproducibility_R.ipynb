{
  "nbformat": 4,
  "nbformat_minor": 0,
  "metadata": {
    "colab": {
      "private_outputs": true,
      "provenance": [],
      "authorship_tag": "ABX9TyO2nuQRPXew0obGUJ8VRGGm",
      "include_colab_link": true
    },
    "kernelspec": {
      "name": "ir",
      "display_name": "R"
    },
    "language_info": {
      "name": "R"
    }
  },
  "cells": [
    {
      "cell_type": "markdown",
      "metadata": {
        "id": "view-in-github",
        "colab_type": "text"
      },
      "source": [
        "<a href=\"https://colab.research.google.com/github/ravichas/bioinformatics/blob/main/reproducibility_R.ipynb\" target=\"_parent\"><img src=\"https://colab.research.google.com/assets/colab-badge.svg\" alt=\"Open In Colab\"/></a>"
      ]
    },
    {
      "cell_type": "code",
      "source": [
        "# Reproducible Code ; S. Ravichandran, Ph.D. 01/23/2017\n",
        "\n",
        "\n",
        "# load libraries at the top of the script\n",
        "install.packages('rafalib'); library(rafalib)\n",
        "\n",
        "# if not installed\n",
        "# install.packages(\"rafalib\")\n",
        "# set seed for reproducibility\n",
        "set.seed(100)\n",
        "\n",
        "# create 100 uniform normally distributed random numbers\n",
        "x <- rnorm(100)\n",
        "y <- rnorm(100)\n",
        "\n",
        "\n",
        "# use mypar from rafalib to plot 2 figs in 1 row\n",
        "mypar(1,2)\n",
        "hist(x,col=\"red\"); hist(y,col=\"blue\") # use two lines; for lack of space used 1 line\n",
        "ttest <- t.test(x,y, alternative = \"two.sided\", conf.level = 0.95) # p-value = 0.94\n",
        "\n",
        "# add an outlier in y and call it my\n",
        "m_y <- c(y, 150)\n",
        "# use dput(data) if you want to send data via email; ex. dput(m_y)\n",
        "\n",
        "\n",
        "#use two lines; for lack of space used 1 line\n",
        "hist(x,col=\"red\"); hist(m_y,col=\"blue\")\n",
        "ottest <- t.test(x, m_y, alternative = \"two.sided\", conf.level = 0.95) # p-value = 0.94\n",
        "ottest\n",
        "sessionInfo() # provide sessionInfo()\n"
      ],
      "metadata": {
        "id": "HAaw8bpcdx7g"
      },
      "execution_count": null,
      "outputs": []
    }
  ]
}