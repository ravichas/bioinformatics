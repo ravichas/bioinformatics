{
  "nbformat": 4,
  "nbformat_minor": 0,
  "metadata": {
    "colab": {
      "provenance": [],
      "authorship_tag": "ABX9TyO+5Ju8qmGZAZXBFGdZVG1H",
      "include_colab_link": true
    },
    "kernelspec": {
      "name": "ir",
      "display_name": "R"
    },
    "language_info": {
      "name": "R"
    },
    "accelerator": "TPU"
  },
  "cells": [
    {
      "cell_type": "markdown",
      "metadata": {
        "id": "view-in-github",
        "colab_type": "text"
      },
      "source": [
        "<a href=\"https://colab.research.google.com/github/ravichas/bioinformatics/blob/main/BioConductor/RNASeq.ipynb\" target=\"_parent\"><img src=\"https://colab.research.google.com/assets/colab-badge.svg\" alt=\"Open In Colab\"/></a>"
      ]
    },
    {
      "cell_type": "markdown",
      "source": [
        "# Prepared for BIFX-550\n",
        "Sarangan **Ravi**chandran\n",
        "\n",
        "Last updated 12/24/2023"
      ],
      "metadata": {
        "id": "RoIF3pPGNMb2"
      }
    },
    {
      "cell_type": "markdown",
      "source": [
        "# RNASeq\n",
        "\n",
        "* Goal is to identify genes/transcripts which are expressed at different levels between our defined sample groups\n",
        "* Common approach is the differential gene/transcript expression (DGE/DTE)\n",
        "\n",
        "Important steps:\n",
        "* Alignment and counting\n",
        "* Diff gene expression\n",
        "* Visualization (PCA)\n",
        "* Gene set analysis\n",
        "* Diff Transcript Utilization Analysis\n"
      ],
      "metadata": {
        "id": "kdktNQKriMpW"
      }
    },
    {
      "cell_type": "markdown",
      "source": [
        "## Basics\n",
        "\n",
        "* 1970s : Northern Blot\n",
        "* 1980s : qPCR\n",
        "* 1990s : Microarrays\n",
        "* Present: RNA-Seq"
      ],
      "metadata": {
        "id": "w5JdamobP4Xu"
      }
    },
    {
      "cell_type": "markdown",
      "source": [
        "RNASeq\n",
        "\n",
        "* No prior information is needed\n",
        "* Massively high-throughput\n",
        "* SNPs\n",
        "\n",
        "\n",
        "What is RNA-Seq?\n",
        "\n",
        "* Begin with cell or tissues\n",
        "* expressed genes\n",
        "* HTS\n",
        "* learn about changes in gene expression or novel splicing events\n",
        "\n",
        "INtro to NGS\n",
        "\n",
        "WGS\n",
        "* input DNA\n",
        "* Fragmentation\n",
        "* Adaptor ligation\n",
        "* Sequencing\n",
        "\n",
        "Read:\n",
        "\n",
        "A sequence (dsDNA) of a nucleotide that is sequenced.\n",
        "\n",
        "Sequencing options:\n",
        "* Single-end sequencing\n",
        "  * Studying gene expression changes\n",
        "* PES uses\n",
        "  * WGS\n",
        "  * Alternative splicing\n",
        "  * De novo transcriptome studies\n",
        "\n",
        "Key points:\n",
        "* Read Lengths\n",
        "  * Real Lengths can vary in length (ex., 75/150/300 nt)\n",
        "    * 75 nt is common read length\n",
        "  * Short reads: Ideal for gene expression, resequencing\n",
        "  * Longer reads: Suitable for transcriptomes, WGS for eukaryotes\n",
        "* Coverage:\n",
        "  * If a position in a genome is covered by 2 reads, we describe this as 2x coverage\n",
        "  * If another position in a genome is covered by 4 reads, then this is called 4x coverage\n",
        "  * To get the coverage for the whole region. Add all the coverages and divide by the position to get the coverage for the region\n",
        "* Most of the RNA in a cell is not mRNA\n",
        "  * ribosomalRNA: ~ 85-86%\n",
        "  * tRNA: ~ 10-12%\n",
        "  * mRNA: ~ 2-3%\n",
        "  * cRNA/lncRNA, miRNA: < 2%\n",
        "* If you are starting with totalRNA, you need enrichment to get to mRNA. For eukaryotes, we can use either one of the following options:\n",
        "  * Poly-A enrichment: Use special beads that bding to Poly-A tails in mRNA\n",
        "  * rRNA depletion: To target mRNA plus special RNAs like micro RNAs\n"
      ],
      "metadata": {
        "id": "IHsH4K9Lndw9"
      }
    },
    {
      "cell_type": "markdown",
      "source": [
        "Designing a project: Which option is suitable?\n",
        "\n",
        "* De novo transcriptome assembly\n",
        "  * Need greater sequencing depth\n",
        "  * Longer reads\n",
        "* Single-End-Sequencing\n",
        "  * Study changes in gene expression\n",
        "* Identify Novel transcripts\n",
        "  * Paired-end-Sequencing\n",
        "  * Greater sequencing depth\n",
        "  "
      ],
      "metadata": {
        "id": "5V8hOv0fndtm"
      }
    },
    {
      "cell_type": "markdown",
      "source": [
        "# RNA-seq workflow:\n",
        "* Library prep\n",
        "  * Clonal Amplification/cluster generation\n",
        "* Bridge PCR\n",
        "* Sequencing by Synthesis\n",
        "* Analytis\n",
        "\n",
        "# Detail steps:\n",
        "* Access Quality\n",
        "  * is mRNA degraded?\n",
        "    * Yes: Repair\n",
        "    * No: Proceed with Poly-A Selection\n",
        "* Convert input RNA to DNA\n",
        "* Basic Library Preparation\n",
        "  * Fragmentation (to deal with DNA of different sizes; this process creates equal sized fragments)\n",
        "    * To create eqaul sized fragments\n",
        "      * QC: Example, Agilent Bioanalyzer   \n",
        "    * Adapter ligation\n",
        "      * QC: qPCR\n",
        "* Cluster Generation/Brige PCR\n",
        "  * Issues: Overclustering will lead to sequencing failures\n",
        "  * Issues: Underclustering will lead to low sequencing output.\n",
        "\n",
        "\n",
        "QC (common) technologies:\n",
        "\n",
        "* Qubit: Measure DNA concentration to resolve low amount of starting material; Remedies: Amplify mRNA using poly-A tail before RNASeq\n",
        "  * The amount of nucleic acids present in the sample.\n",
        "  * How much is sequenceable library present in the sample\n",
        "* Agilent Bioanalyzer: Analyze DNA library and access fragmentation quality; typically large # of larger fragment size is good\n",
        "* qPCR: What % of the prepared library contain actual sequences. This is typically used during Adapter Ligation step in Library preparation.\n",
        "\n",
        "\n",
        "\n",
        "\n",
        "  "
      ],
      "metadata": {
        "id": "z56JT-p3ndqc"
      }
    },
    {
      "cell_type": "markdown",
      "source": [
        "NGS Data\n",
        "\n",
        "* Raw Data (Raw Sequencing Data) --> FASTQ (fasgta plus QC info) --> ..? --> Data Anlaysis"
      ],
      "metadata": {
        "id": "uemrRTghndnD"
      }
    },
    {
      "cell_type": "markdown",
      "source": [
        "Example pipeline\n",
        "\n",
        "Fastq --> Alignment --> Normalize (essential before analysis) --> Analyze --> Publish"
      ],
      "metadata": {
        "id": "d1bqCG6Undja"
      }
    },
    {
      "cell_type": "markdown",
      "source": [
        "Normalization:\n",
        "\n",
        "How can we normalize the data?\n",
        "\n",
        "* Normalize the # of reads/sample\n",
        "* Normalize the # of reads/gene, considering genes are of different lengths\n",
        "\n",
        "Let us talk about Normalization:\n",
        "\n",
        "Let us take three samples: A, B and C\n",
        "* A: 20M reads\n",
        "* B: 30M reads\n",
        "* C: 10M reads\n",
        "\n",
        "Without normalization, we will come to the conclusion that sample C has 1/3 of gene expression compare dto sample B.\n",
        "\n",
        "Next, we need to normalize relative to length of the gene. For example, gene AA - 1kb and gene BB - 2 kb. For example, if gene A has 5 reads and gene B has 10 reads. But gene B is twice as long. Again, if we dont normalize, we might conclude that B is expressed more compared to A.\n",
        "\n",
        "```\n",
        "Gene A-1kb\n",
        "\n",
        "-------------------\n",
        "-----   ------------\n",
        "  -------   \n",
        "       ----------\n",
        "  ----\n",
        "```\n",
        "```\n",
        "Gene B-2kb\n",
        "----------------------------------------\n",
        "------       -------     --------- -----\n",
        "    --------     --------\n",
        "         --------              -------            \n",
        "                      ---------\n",
        "  ------                       \n",
        "```\n",
        "\n",
        "Taking into these two constraints, a new measure was introduced:\n",
        "\n",
        "Fragments per Kilobase of transcript per Million mapped reads (FPKM)\n",
        "\n",
        "FPKM = Normalized estimation of gene expression based on RNA-seq data. The relative expression of a transcript is proportional to the # of cDNA fragments that originate from it.\n",
        "\n",
        "\n"
      ],
      "metadata": {
        "id": "-E32XlmPndfR"
      }
    },
    {
      "cell_type": "markdown",
      "source": [
        "\n",
        "\n",
        "After normalization,\n",
        "\n",
        "FPKM   |   Control Sample | Treated\n",
        "-------|------------------|--------\n",
        "Gene A |   2              |   10\n",
        "Gene B |   2              |    2\n",
        "\n"
      ],
      "metadata": {
        "id": "AgHBe8NfndbH"
      }
    },
    {
      "cell_type": "markdown",
      "source": [
        "# Analysis\n",
        "\n",
        "*  Clustering\n",
        "  * Heatmaps to see any difference between genomic expression between samples and contorl\n",
        "* PCA\n",
        "* Functional Analysis"
      ],
      "metadata": {
        "id": "EeryWbvM96jx"
      }
    },
    {
      "cell_type": "markdown",
      "source": [
        "# Encode\n",
        "\n",
        "* Efforts began in 2003\n",
        "* Goal is to identify all functional elements in the genome (human)\n",
        "* Transcriptomic Bi data --> epigenetic/genetic regulation info\n",
        "\n",
        "\n",
        "# The Cancer Genome Atlas (TCGA)\n",
        "* Efforts began in 2005\n",
        "* Goal is to collect/analyze patient tumor samples to understand disease progression\n",
        "* visit https://www.cancer.gov/ccg/research/genome-sequencing/tcga"
      ],
      "metadata": {
        "id": "GjDuC2RP-UTK"
      }
    },
    {
      "cell_type": "code",
      "source": [],
      "metadata": {
        "id": "7QY9wy7CndHD"
      },
      "execution_count": null,
      "outputs": []
    },
    {
      "cell_type": "code",
      "metadata": {
        "id": "G9f8n-Zlm95w"
      },
      "source": [
        "# print(installed.packages())"
      ],
      "execution_count": null,
      "outputs": []
    },
    {
      "cell_type": "markdown",
      "source": [
        "## Bioconductor\n",
        "\n",
        "Let us install Bioconductor and run some genomics modeling"
      ],
      "metadata": {
        "id": "CQyQcE9wQzYT"
      }
    },
    {
      "cell_type": "code",
      "source": [
        "# 12 sec\n",
        "if (!require(\"BiocManager\", quietly = TRUE))\n",
        "    install.packages(\"BiocManager\")\n",
        "BiocManager::install()"
      ],
      "metadata": {
        "colab": {
          "base_uri": "https://localhost:8080/"
        },
        "id": "v7tZeO9NNXbI",
        "outputId": "995ecb48-7a7c-4496-cb2f-43bf7ffa7585"
      },
      "execution_count": null,
      "outputs": [
        {
          "output_type": "stream",
          "name": "stderr",
          "text": [
            "Installing package into ‘/usr/local/lib/R/site-library’\n",
            "(as ‘lib’ is unspecified)\n",
            "\n",
            "'getOption(\"repos\")' replaces Bioconductor standard repositories, see\n",
            "'help(\"repositories\", package = \"BiocManager\")' for details.\n",
            "Replacement repositories:\n",
            "    CRAN: https://cran.rstudio.com\n",
            "\n",
            "Bioconductor version 3.18 (BiocManager 1.30.22), R 4.3.3 (2024-02-29)\n",
            "\n",
            "Installing package(s) 'BiocVersion'\n",
            "\n",
            "Old packages: 'bit', 'bslib', 'callr', 'curl', 'data.table', 'DBI', 'dbplyr',\n",
            "  'devtools', 'digest', 'gargle', 'ggplot2', 'gh', 'highr', 'htmltools',\n",
            "  'httr2', 'isoband', 'knitr', 'munsell', 'openssl', 'pkgbuild', 'processx',\n",
            "  'ragg', 'remotes', 'rmarkdown', 'rstudioapi', 'rvest', 'sass', 'systemfonts',\n",
            "  'textshaping', 'tidyselect', 'tinytex', 'usethis', 'whisker', 'xfun', 'zip',\n",
            "  'codetools', 'lattice', 'nlme'\n",
            "\n"
          ]
        }
      ]
    },
    {
      "cell_type": "code",
      "source": [
        "# 1 min\n",
        "\n",
        "if (!dir.exists(\"rnaseq\")) {\n",
        "  dir.create(\"rnaseq\")\n",
        "}\n",
        "\n",
        "BiocManager::install('RockefellerUniversity/RU_RNAseq', subdir='rnaseq')\n",
        "#BiocManager::install('SummarizedExperiment')"
      ],
      "metadata": {
        "colab": {
          "base_uri": "https://localhost:8080/"
        },
        "id": "u4uY23UeOOnb",
        "outputId": "0ccc0890-7495-4d94-f3da-e7e3a9c622cd"
      },
      "execution_count": null,
      "outputs": [
        {
          "output_type": "stream",
          "name": "stderr",
          "text": [
            "'getOption(\"repos\")' replaces Bioconductor standard repositories, see\n",
            "'help(\"repositories\", package = \"BiocManager\")' for details.\n",
            "Replacement repositories:\n",
            "    CRAN: https://cran.rstudio.com\n",
            "\n",
            "Bioconductor version 3.18 (BiocManager 1.30.22), R 4.3.3 (2024-02-29)\n",
            "\n",
            "Installing github package(s) 'RockefellerUniversity/RU_RNAseq'\n",
            "\n",
            "Downloading GitHub repo RockefellerUniversity/RU_RNAseq@HEAD\n",
            "\n"
          ]
        },
        {
          "output_type": "stream",
          "name": "stdout",
          "text": [
            "Error in utils::download.file(url, path, method = method, quiet = quiet,  : \n",
            "  download from 'https://api.github.com/repos/RockefellerUniversity/RU_RNAseq/tarball/HEAD' failed\n"
          ]
        },
        {
          "output_type": "stream",
          "name": "stderr",
          "text": [
            "Old packages: 'bit', 'bslib', 'callr', 'curl', 'data.table', 'DBI', 'dbplyr',\n",
            "  'devtools', 'digest', 'gargle', 'ggplot2', 'gh', 'highr', 'htmltools',\n",
            "  'httr2', 'isoband', 'knitr', 'munsell', 'openssl', 'pkgbuild', 'processx',\n",
            "  'ragg', 'remotes', 'rmarkdown', 'rstudioapi', 'rvest', 'sass', 'systemfonts',\n",
            "  'textshaping', 'tidyselect', 'tinytex', 'usethis', 'whisker', 'xfun', 'zip',\n",
            "  'codetools', 'lattice', 'nlme'\n",
            "\n"
          ]
        }
      ]
    },
    {
      "cell_type": "code",
      "source": [
        "# 57 sec\n",
        "BiocManager::install('GEOquery')"
      ],
      "metadata": {
        "colab": {
          "base_uri": "https://localhost:8080/"
        },
        "id": "OtsGjT8L_X7y",
        "outputId": "b75d59d3-14e6-4105-8674-52f5c8c97733"
      },
      "execution_count": null,
      "outputs": [
        {
          "output_type": "stream",
          "name": "stderr",
          "text": [
            "'getOption(\"repos\")' replaces Bioconductor standard repositories, see\n",
            "'help(\"repositories\", package = \"BiocManager\")' for details.\n",
            "Replacement repositories:\n",
            "    CRAN: https://cran.rstudio.com\n",
            "\n",
            "Bioconductor version 3.18 (BiocManager 1.30.22), R 4.3.3 (2024-02-29)\n",
            "\n",
            "Installing package(s) 'GEOquery'\n",
            "\n",
            "also installing the dependencies ‘BiocGenerics’, ‘statmod’, ‘R.oo’, ‘R.methodsS3’, ‘Biobase’, ‘limma’, ‘R.utils’\n",
            "\n",
            "\n",
            "Old packages: 'bit', 'bslib', 'callr', 'curl', 'data.table', 'DBI', 'dbplyr',\n",
            "  'devtools', 'digest', 'gargle', 'ggplot2', 'gh', 'highr', 'htmltools',\n",
            "  'httr2', 'isoband', 'knitr', 'munsell', 'openssl', 'pkgbuild', 'processx',\n",
            "  'ragg', 'remotes', 'rmarkdown', 'rstudioapi', 'rvest', 'sass', 'systemfonts',\n",
            "  'textshaping', 'tidyselect', 'tinytex', 'usethis', 'whisker', 'xfun', 'zip',\n",
            "  'codetools', 'lattice', 'nlme'\n",
            "\n"
          ]
        }
      ]
    },
    {
      "cell_type": "code",
      "source": [
        "# 2 sec\n",
        "BiocManager::install('SummarizedExperiment')"
      ],
      "metadata": {
        "colab": {
          "base_uri": "https://localhost:8080/"
        },
        "id": "JF-4XN9_BKkb",
        "outputId": "a878a90e-12ec-4e99-d5af-b5f16f269b6f"
      },
      "execution_count": null,
      "outputs": [
        {
          "metadata": {
            "tags": null
          },
          "name": "stderr",
          "output_type": "stream",
          "text": [
            "'getOption(\"repos\")' replaces Bioconductor standard repositories, see\n",
            "'help(\"repositories\", package = \"BiocManager\")' for details.\n",
            "Replacement repositories:\n",
            "    CRAN: https://cran.rstudio.com\n",
            "\n",
            "Bioconductor version 3.18 (BiocManager 1.30.22), R 4.3.3 (2024-02-29)\n",
            "\n",
            "Installing package(s) 'SummarizedExperiment'\n",
            "\n",
            "also installing the dependencies ‘zlibbioc’, ‘bitops’, ‘matrixStats’, ‘XVector’, ‘RCurl’, ‘GenomeInfoDbData’, ‘abind’, ‘SparseArray’, ‘MatrixGenerics’, ‘GenomicRanges’, ‘S4Vectors’, ‘IRanges’, ‘GenomeInfoDb’, ‘S4Arrays’, ‘DelayedArray’\n",
            "\n",
            "\n",
            "Old packages: 'bit', 'bslib', 'callr', 'curl', 'data.table', 'DBI', 'dbplyr',\n",
            "  'devtools', 'digest', 'gargle', 'ggplot2', 'gh', 'highr', 'htmltools',\n",
            "  'httr2', 'isoband', 'knitr', 'munsell', 'openssl', 'pkgbuild', 'processx',\n",
            "  'ragg', 'remotes', 'rmarkdown', 'rstudioapi', 'rvest', 'sass', 'systemfonts',\n",
            "  'textshaping', 'tidyselect', 'tinytex', 'usethis', 'whisker', 'xfun', 'zip',\n",
            "  'codetools', 'lattice', 'nlme'\n",
            "\n"
          ]
        }
      ]
    },
    {
      "cell_type": "markdown",
      "source": [
        "## What is BioConductor??\n",
        "* Open-source, repository for Biology data software\n",
        "* Provides infrastructure in R for reproducible research\n",
        "  * Uses S3/S4 data objects\n",
        "  * Public access software repo\n",
        "  * Experimental/annotation packages\n",
        "\n",
        "https://www.bioconductor.org/\n",
        "![Structure-of-summarizedExperiment-objects.png](data:image/png;base64,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)"
      ],
      "metadata": {
        "id": "EPjCwDKrAjhy"
      }
    },
    {
      "cell_type": "markdown",
      "source": [
        "# GEO\n",
        "\n",
        "According to NCBI/GEO, GEO is a,\n",
        "\n",
        "*Gene Expression Omnibus (GEO) is a public functional data repository supporting MIAME-compliant data submissions. Array- and sequence-based data are accepted. Tools are provided to help users query and download experiments and cureated gene expression profiles*\n",
        "\n",
        "Note that in GEO, DB entries are connected to record accessions. And each record types are identified by a specific id. Here are some conventions:\n",
        "\n",
        "* Platform `GPL[0-9]+`\n",
        "  * Summary of microarray or sequencer platform\n",
        "\n",
        "* Sample `GSM[0-9]+`\n",
        "  * Describes experimental conditions/results for a single sample.\n",
        "\n",
        "* Series `GSE[0-9]+`\n",
        "  * Links related samples\n",
        "  * May contain multiple platform/sample records\n",
        "\n",
        "* Datasets `GSD[0-9]+`\n",
        "  * NCBI staff curated datassets\n",
        "\n",
        "  "
      ],
      "metadata": {
        "id": "WXW228ujfSL0"
      }
    },
    {
      "cell_type": "code",
      "source": [
        "library(GEOquery)\n",
        "if (!dir.exists(\"GEO\")) {\n",
        "  dir.create(\"GEO\")\n",
        "}"
      ],
      "metadata": {
        "colab": {
          "base_uri": "https://localhost:8080/"
        },
        "id": "10fq6OezDhgx",
        "outputId": "e831525e-c285-4a52-dde1-7e99a0dc1714"
      },
      "execution_count": null,
      "outputs": [
        {
          "metadata": {
            "tags": null
          },
          "name": "stderr",
          "output_type": "stream",
          "text": [
            "Loading required package: Biobase\n",
            "\n",
            "Loading required package: BiocGenerics\n",
            "\n",
            "\n",
            "Attaching package: ‘BiocGenerics’\n",
            "\n",
            "\n",
            "The following objects are masked from ‘package:stats’:\n",
            "\n",
            "    IQR, mad, sd, var, xtabs\n",
            "\n",
            "\n",
            "The following objects are masked from ‘package:base’:\n",
            "\n",
            "    anyDuplicated, aperm, append, as.data.frame, basename, cbind,\n",
            "    colnames, dirname, do.call, duplicated, eval, evalq, Filter, Find,\n",
            "    get, grep, grepl, intersect, is.unsorted, lapply, Map, mapply,\n",
            "    match, mget, order, paste, pmax, pmax.int, pmin, pmin.int,\n",
            "    Position, rank, rbind, Reduce, rownames, sapply, setdiff, sort,\n",
            "    table, tapply, union, unique, unsplit, which.max, which.min\n",
            "\n",
            "\n",
            "Welcome to Bioconductor\n",
            "\n",
            "    Vignettes contain introductory material; view with\n",
            "    'browseVignettes()'. To cite Bioconductor, see\n",
            "    'citation(\"Biobase\")', and for packages 'citation(\"pkgname\")'.\n",
            "\n",
            "\n",
            "Setting options('download.file.method.GEOquery'='auto')\n",
            "\n",
            "Setting options('GEOquery.inmemory.gpl'=FALSE)\n",
            "\n"
          ]
        }
      ]
    },
    {
      "cell_type": "markdown",
      "source": [
        "# `getGEO`\n",
        "\n",
        "* The GEOQuery package funciton to access GEO records"
      ],
      "metadata": {
        "id": "Wo9qwyZjDx8G"
      }
    },
    {
      "cell_type": "code",
      "source": [
        "gse <- getGEO(GEO = \"GSE103512\", destdir = \"GEO\") # 32 secGSE"
      ],
      "metadata": {
        "colab": {
          "base_uri": "https://localhost:8080/"
        },
        "id": "FbKUW8KtDuPt",
        "outputId": "77f83024-a398-4640-c174-576b10e921f5"
      },
      "execution_count": null,
      "outputs": [
        {
          "metadata": {
            "tags": null
          },
          "name": "stderr",
          "output_type": "stream",
          "text": [
            "Found 1 file(s)\n",
            "\n",
            "GSE103512_series_matrix.txt.gz\n",
            "\n"
          ]
        }
      ]
    },
    {
      "cell_type": "code",
      "source": [
        "# 50 sec\n",
        "gse <- getGEO(GEO = \"GSE103512\", destdir = \"GEO\")"
      ],
      "metadata": {
        "id": "s9vruSLDDuHz"
      },
      "execution_count": null,
      "outputs": []
    },
    {
      "cell_type": "markdown",
      "source": [
        "# GSE103512\n",
        "\n",
        "Go to NCBI and explore GSE103512 record.\n",
        "\n",
        "This GEO Series describes human gene expression profiles of breast, colorectal, prostrate, and non-small lung cancer.\n",
        "\n",
        "Check out the summary:\n",
        "* What is the experiment type?\n",
        "* Summary?\n",
        "* Overall design?\n",
        "* Publication\n",
        "* What year?\n",
        "* What platform?\n",
        "* How many samples?"
      ],
      "metadata": {
        "id": "85sB5Nx_EHLb"
      }
    },
    {
      "cell_type": "code",
      "source": [
        "list.files(\"GEO\")"
      ],
      "metadata": {
        "id": "zBJWH7xaDuNg"
      },
      "execution_count": null,
      "outputs": []
    },
    {
      "cell_type": "code",
      "source": [
        "tempdir() # GEO default download directory"
      ],
      "metadata": {
        "colab": {
          "base_uri": "https://localhost:8080/",
          "height": 34
        },
        "id": "jKcaKXlCDuKo",
        "outputId": "12bd2c7e-2176-46db-9fa5-61e41e05e241"
      },
      "execution_count": null,
      "outputs": [
        {
          "output_type": "display_data",
          "data": {
            "text/html": [
              "'/tmp/RtmprRprHV'"
            ],
            "text/markdown": "'/tmp/RtmprRprHV'",
            "text/latex": "'/tmp/RtmprRprHV'",
            "text/plain": [
              "[1] \"/tmp/RtmprRprHV\""
            ]
          },
          "metadata": {}
        }
      ]
    },
    {
      "cell_type": "code",
      "source": [
        "gse"
      ],
      "metadata": {
        "id": "ScB-bARuDuE0"
      },
      "execution_count": null,
      "outputs": []
    },
    {
      "cell_type": "markdown",
      "source": [
        "Exploring GSE object:\n"
      ],
      "metadata": {
        "id": "fwx0aIe8HD3W"
      }
    },
    {
      "cell_type": "code",
      "source": [
        "class(gse)"
      ],
      "metadata": {
        "colab": {
          "base_uri": "https://localhost:8080/",
          "height": 34
        },
        "id": "EqTWNZ72DuBh",
        "outputId": "bd140191-2163-42ca-bde3-33fed676a5cb"
      },
      "execution_count": null,
      "outputs": [
        {
          "output_type": "display_data",
          "data": {
            "text/html": [
              "'list'"
            ],
            "text/markdown": "'list'",
            "text/latex": "'list'",
            "text/plain": [
              "[1] \"list\""
            ]
          },
          "metadata": {}
        }
      ]
    },
    {
      "cell_type": "code",
      "source": [
        "length(gse)"
      ],
      "metadata": {
        "colab": {
          "base_uri": "https://localhost:8080/",
          "height": 34
        },
        "id": "Pvc0MgkrGTK4",
        "outputId": "dea1bec9-e299-4ba6-ff94-a5f4c5c3e682"
      },
      "execution_count": null,
      "outputs": [
        {
          "output_type": "display_data",
          "data": {
            "text/html": [
              "1"
            ],
            "text/markdown": "1",
            "text/latex": "1",
            "text/plain": [
              "[1] 1"
            ]
          },
          "metadata": {}
        }
      ]
    },
    {
      "cell_type": "markdown",
      "source": [
        "Note that gse is an ExpressionSet object.  \n",
        "\n",
        "`ExpressionSet` Components:\n",
        "\n",
        "* `assayData`\n",
        "  * Matrix data (microarray or RNASeq)\n",
        "  * Rows: In this case, 54715, genes or probes\n",
        "  * Columns: (n=280): Correspond to samples (assay)\n",
        "* `phenoData`\n",
        "  * Metadata annotations corresponding to experimental samples\n",
        "    * Treatment conditions, genotype, cellline/tissue ino etc.\n",
        "    * Sample links (if any) to other NCBI resources (SRA etc.)\n",
        "* `featureData`\n",
        "  * Annotations corresponding to assay probes (genomic range etc.)\n",
        "* `Annotation`\n",
        "  * GEO platform record or other information"
      ],
      "metadata": {
        "id": "TNz-IUm2HNop"
      }
    },
    {
      "cell_type": "code",
      "source": [
        "class(gse)"
      ],
      "metadata": {
        "colab": {
          "base_uri": "https://localhost:8080/",
          "height": 34
        },
        "id": "ij3OrHeZGTIF",
        "outputId": "adea5a58-a686-46e9-c38b-108194c59195"
      },
      "execution_count": null,
      "outputs": [
        {
          "output_type": "display_data",
          "data": {
            "text/html": [
              "'list'"
            ],
            "text/markdown": "'list'",
            "text/latex": "'list'",
            "text/plain": [
              "[1] \"list\""
            ]
          },
          "metadata": {}
        }
      ]
    },
    {
      "cell_type": "code",
      "source": [
        "str(gse) # list of one"
      ],
      "metadata": {
        "colab": {
          "base_uri": "https://localhost:8080/"
        },
        "id": "xztoFGu-GTFF",
        "outputId": "0c4b7bbc-e9ab-4009-b174-9dffd9ec2344"
      },
      "execution_count": null,
      "outputs": [
        {
          "output_type": "stream",
          "name": "stdout",
          "text": [
            "List of 1\n",
            " $ GSE103512_series_matrix.txt.gz:Formal class 'ExpressionSet' [package \"Biobase\"] with 7 slots\n",
            "  .. ..@ experimentData   :Formal class 'MIAME' [package \"Biobase\"] with 13 slots\n",
            "  .. .. .. ..@ name             : chr \"Wei-Yi,,Cheng\"\n",
            "  .. .. .. ..@ lab              : chr \"\"\n",
            "  .. .. .. ..@ contact          : chr \"\"\n",
            "  .. .. .. ..@ title            : chr \"Gene expression profiles of breast, colorectal, prostate, and non-small cell lung cancer\"\n",
            "  .. .. .. ..@ abstract         : chr \"Gene expression profiles from 280 formalin-fixed and paraffin embedded normal and tumor samples of four cancer types\"\n",
            "  .. .. .. ..@ url              : chr \"https://www.ncbi.nlm.nih.gov/geo/query/acc.cgi?acc=GSE103512\"\n",
            "  .. .. .. ..@ pubMedIds        : chr \"29133367\"\n",
            "  .. .. .. ..@ samples          : list()\n",
            "  .. .. .. ..@ hybridizations   : list()\n",
            "  .. .. .. ..@ normControls     : list()\n",
            "  .. .. .. ..@ preprocessing    : list()\n",
            "  .. .. .. ..@ other            :List of 23\n",
            "  .. .. .. .. ..$ contact_address        : chr \"Roche Translational and Clinical Research Center, 430 East 29th Street\"\n",
            "  .. .. .. .. ..$ contact_city           : chr \"New York\"\n",
            "  .. .. .. .. ..$ contact_country        : chr \"USA\"\n",
            "  .. .. .. .. ..$ contact_department     : chr \"Pharma Research and Early Development\"\n",
            "  .. .. .. .. ..$ contact_institute      : chr \"Roche Innovation Center New York\"\n",
            "  .. .. .. .. ..$ contact_name           : chr \"Wei-Yi,,Cheng\"\n",
            "  .. .. .. .. ..$ contact_state          : chr \"New York\"\n",
            "  .. .. .. .. ..$ contact_zip/postal_code: chr \"10016\"\n",
            "  .. .. .. .. ..$ contributor            : chr \"Jurriaan,,Brouwer-Visser\\nWei-Yi,,Cheng\\nAnna,,Bauer-Mehren\\nDaniela,,Maisel\\nKatharina,,Lechner\\nEmilia,,Ander\"| __truncated__\n",
            "  .. .. .. .. ..$ geo_accession          : chr \"GSE103512\"\n",
            "  .. .. .. .. ..$ last_update_date       : chr \"Jul 25 2021\"\n",
            "  .. .. .. .. ..$ overall_design         : chr \"65 breast cancer with 10 matched normal; 57 colorectal cancer with 12 matched normal; 60 non-small cell lung ca\"| __truncated__\n",
            "  .. .. .. .. ..$ platform_id            : chr \"GPL13158\"\n",
            "  .. .. .. .. ..$ platform_taxid         : chr \"9606\"\n",
            "  .. .. .. .. ..$ pubmed_id              : chr \"29133367\"\n",
            "  .. .. .. .. ..$ sample_id              : chr \"GSM2772660 GSM2772661 GSM2772662 GSM2772663 GSM2772664 GSM2772665 GSM2772666 GSM2772667 GSM2772668 GSM2772669 G\"| __truncated__\n",
            "  .. .. .. .. ..$ sample_taxid           : chr \"9606\"\n",
            "  .. .. .. .. ..$ status                 : chr \"Public on Sep 07 2017\"\n",
            "  .. .. .. .. ..$ submission_date        : chr \"Sep 05 2017\"\n",
            "  .. .. .. .. ..$ summary                : chr \"Gene expression profiles from 280 formalin-fixed and paraffin embedded normal and tumor samples of four cancer types\"\n",
            "  .. .. .. .. ..$ supplementary_file     : chr \"ftp://ftp.ncbi.nlm.nih.gov/geo/series/GSE103nnn/GSE103512/suppl/GSE103512_RAW.tar\"\n",
            "  .. .. .. .. ..$ title                  : chr \"Gene expression profiles of breast, colorectal, prostate, and non-small cell lung cancer\"\n",
            "  .. .. .. .. ..$ type                   : chr \"Expression profiling by array\"\n",
            "  .. .. .. ..@ .__classVersion__:Formal class 'Versions' [package \"Biobase\"] with 1 slot\n",
            "  .. .. .. .. .. ..@ .Data:List of 2\n",
            "  .. .. .. .. .. .. ..$ : int [1:3] 1 0 0\n",
            "  .. .. .. .. .. .. ..$ : int [1:3] 1 1 0\n",
            "  .. .. .. .. .. ..$ names: chr [1:2] \"MIAxE\" \"MIAME\"\n",
            "  .. ..@ assayData        :<environment: 0x583c6f886640> \n",
            "  .. ..@ phenoData        :Formal class 'AnnotatedDataFrame' [package \"Biobase\"] with 4 slots\n",
            "  .. .. .. ..@ varMetadata      :'data.frame':\t72 obs. of  1 variable:\n",
            "  .. .. .. .. ..$ labelDescription: chr [1:72] NA NA NA NA ...\n",
            "  .. .. .. ..@ data             :'data.frame':\t280 obs. of  72 variables:\n",
            "  .. .. .. .. ..$ title                      : chr [1:280] \"BC_coex_path_001\" \"BC_coex_path_002\" \"BC_coex_path_003\" \"BC_coex_path_004\" ...\n",
            "  .. .. .. .. ..$ geo_accession              : chr [1:280] \"GSM2772660\" \"GSM2772661\" \"GSM2772662\" \"GSM2772663\" ...\n",
            "  .. .. .. .. ..$ status                     : chr [1:280] \"Public on Sep 07 2017\" \"Public on Sep 07 2017\" \"Public on Sep 07 2017\" \"Public on Sep 07 2017\" ...\n",
            "  .. .. .. .. ..$ submission_date            : chr [1:280] \"Sep 05 2017\" \"Sep 05 2017\" \"Sep 05 2017\" \"Sep 05 2017\" ...\n",
            "  .. .. .. .. ..$ last_update_date           : chr [1:280] \"Jan 23 2018\" \"Jan 23 2018\" \"Jan 23 2018\" \"Jan 23 2018\" ...\n",
            "  .. .. .. .. ..$ type                       : chr [1:280] \"RNA\" \"RNA\" \"RNA\" \"RNA\" ...\n",
            "  .. .. .. .. ..$ channel_count              : chr [1:280] \"1\" \"1\" \"1\" \"1\" ...\n",
            "  .. .. .. .. ..$ source_name_ch1            : chr [1:280] \"Total RNA Seq profiling of sample\" \"Total RNA Seq profiling of sample\" \"Total RNA Seq profiling of sample\" \"Total RNA Seq profiling of sample\" ...\n",
            "  .. .. .. .. ..$ organism_ch1               : chr [1:280] \"Homo sapiens\" \"Homo sapiens\" \"Homo sapiens\" \"Homo sapiens\" ...\n",
            "  .. .. .. .. ..$ characteristics_ch1        : chr [1:280] \"cancer type: BC\" \"cancer type: BC\" \"cancer type: BC\" \"cancer type: BC\" ...\n",
            "  .. .. .. .. ..$ characteristics_ch1.1      : chr [1:280] \"normal: no\" \"normal: no\" \"normal: no\" \"normal: no\" ...\n",
            "  .. .. .. .. ..$ characteristics_ch1.2      : chr [1:280] \"batch i/ii: I\" \"batch i/ii: I\" \"batch i/ii: I\" \"batch i/ii: I\" ...\n",
            "  .. .. .. .. ..$ characteristics_ch1.3      : chr [1:280] \"histology: na\" \"histology: na\" \"histology: na\" \"histology: na\" ...\n",
            "  .. .. .. .. ..$ characteristics_ch1.4      : chr [1:280] \"age: na\" \"age: na\" \"age: na\" \"age: na\" ...\n",
            "  .. .. .. .. ..$ characteristics_ch1.5      : chr [1:280] \"gender: na\" \"gender: na\" \"gender: na\" \"gender: na\" ...\n",
            "  .. .. .. .. ..$ characteristics_ch1.6      : chr [1:280] \"weight: na\" \"weight: na\" \"weight: na\" \"weight: na\" ...\n",
            "  .. .. .. .. ..$ characteristics_ch1.7      : chr [1:280] \"bodyheight: na\" \"bodyheight: na\" \"bodyheight: na\" \"bodyheight: na\" ...\n",
            "  .. .. .. .. ..$ characteristics_ch1.8      : chr [1:280] \"bmi: na\" \"bmi: na\" \"bmi: na\" \"bmi: na\" ...\n",
            "  .. .. .. .. ..$ characteristics_ch1.9      : chr [1:280] \"diseasecode: na\" \"diseasecode: na\" \"diseasecode: na\" \"diseasecode: na\" ...\n",
            "  .. .. .. .. ..$ characteristics_ch1.10     : chr [1:280] \"diseasedescription: na\" \"diseasedescription: na\" \"diseasedescription: na\" \"diseasedescription: na\" ...\n",
            "  .. .. .. .. ..$ characteristics_ch1.11     : chr [1:280] \"primary / relapse tumor: na\" \"primary / relapse tumor: na\" \"primary / relapse tumor: na\" \"primary / relapse tumor: na\" ...\n",
            "  .. .. .. .. ..$ characteristics_ch1.12     : chr [1:280] \"tumorsize: na\" \"tumorsize: na\" \"tumorsize: na\" \"tumorsize: na\" ...\n",
            "  .. .. .. .. ..$ characteristics_ch1.13     : chr [1:280] \"ischemiatime: na\" \"ischemiatime: na\" \"ischemiatime: na\" \"ischemiatime: na\" ...\n",
            "  .. .. .. .. ..$ characteristics_ch1.14     : chr [1:280] \"tumorcontent: na\" \"tumorcontent: na\" \"tumorcontent: na\" \"tumorcontent: na\" ...\n",
            "  .. .. .. .. ..$ characteristics_ch1.15     : chr [1:280] \"organ: na\" \"organ: na\" \"organ: na\" \"organ: na\" ...\n",
            "  .. .. .. .. ..$ characteristics_ch1.16     : chr [1:280] \"tumorlocalization: na\" \"tumorlocalization: na\" \"tumorlocalization: na\" \"tumorlocalization: na\" ...\n",
            "  .. .. .. .. ..$ characteristics_ch1.17     : chr [1:280] \"Stage: na\" \"Stage: na\" \"Stage: na\" \"Stage: na\" ...\n",
            "  .. .. .. .. ..$ characteristics_ch1.18     : chr [1:280] \"radicality: na\" \"radicality: na\" \"radicality: na\" \"radicality: na\" ...\n",
            "  .. .. .. .. ..$ characteristics_ch1.19     : chr [1:280] \"grading: na\" \"grading: na\" \"grading: na\" \"grading: na\" ...\n",
            "  .. .. .. .. ..$ characteristics_ch1.20     : chr [1:280] \"dignity: na\" \"dignity: na\" \"dignity: na\" \"dignity: na\" ...\n",
            "  .. .. .. .. ..$ treatment_protocol_ch1     : chr [1:280] \"Tumor samples were formalin-fixed and paraffin embedded. RNA amplification: 100ng total RNA\" \"Tumor samples were formalin-fixed and paraffin embedded. RNA amplification: 100ng total RNA\" \"Tumor samples were formalin-fixed and paraffin embedded. RNA amplification: 100ng total RNA\" \"Tumor samples were formalin-fixed and paraffin embedded. RNA amplification: 100ng total RNA\" ...\n",
            "  .. .. .. .. ..$ growth_protocol_ch1        : chr [1:280] \"Samples were extracted from tumor or adjacent normal tissue, and then formalin-fixed and paraffin embedded\" \"Samples were extracted from tumor or adjacent normal tissue, and then formalin-fixed and paraffin embedded\" \"Samples were extracted from tumor or adjacent normal tissue, and then formalin-fixed and paraffin embedded\" \"Samples were extracted from tumor or adjacent normal tissue, and then formalin-fixed and paraffin embedded\" ...\n",
            "  .. .. .. .. ..$ molecule_ch1               : chr [1:280] \"total RNA\" \"total RNA\" \"total RNA\" \"total RNA\" ...\n",
            "  .. .. .. .. ..$ extract_protocol_ch1       : chr [1:280] \"Extraction was done using High Pure FFPET RNA Isolation Kits /Cat. No. 06650775001\" \"Extraction was done using High Pure FFPET RNA Isolation Kits /Cat. No. 06650775001\" \"Extraction was done using High Pure FFPET RNA Isolation Kits /Cat. No. 06650775001\" \"Extraction was done using High Pure FFPET RNA Isolation Kits /Cat. No. 06650775001\" ...\n",
            "  .. .. .. .. ..$ label_ch1                  : chr [1:280] \"biotin\" \"biotin\" \"biotin\" \"biotin\" ...\n",
            "  .. .. .. .. ..$ label_protocol_ch1         : chr [1:280] \"Biotin-Labeling and enzymatic fragmentation\" \"Biotin-Labeling and enzymatic fragmentation\" \"Biotin-Labeling and enzymatic fragmentation\" \"Biotin-Labeling and enzymatic fragmentation\" ...\n",
            "  .. .. .. .. ..$ taxid_ch1                  : chr [1:280] \"9606\" \"9606\" \"9606\" \"9606\" ...\n",
            "  .. .. .. .. ..$ hyb_protocol               : chr [1:280] \"3 ug (15 ul) labeled cDNA + 105ul  Master Mix. Hybridization was done using GeneTitan Hybridization, Wash and Stain Kit\" \"3 ug (15 ul) labeled cDNA + 105ul  Master Mix. Hybridization was done using GeneTitan Hybridization, Wash and Stain Kit\" \"3 ug (15 ul) labeled cDNA + 105ul  Master Mix. Hybridization was done using GeneTitan Hybridization, Wash and Stain Kit\" \"3 ug (15 ul) labeled cDNA + 105ul  Master Mix. Hybridization was done using GeneTitan Hybridization, Wash and Stain Kit\" ...\n",
            "  .. .. .. .. ..$ scan_protocol              : chr [1:280] \"Scanning was done using GeneTitan Instrument\" \"Scanning was done using GeneTitan Instrument\" \"Scanning was done using GeneTitan Instrument\" \"Scanning was done using GeneTitan Instrument\" ...\n",
            "  .. .. .. .. ..$ data_processing            : chr [1:280] \"The CEL files were normalized and summarized into probe-set values using RMA normalization.\" \"The CEL files were normalized and summarized into probe-set values using RMA normalization.\" \"The CEL files were normalized and summarized into probe-set values using RMA normalization.\" \"The CEL files were normalized and summarized into probe-set values using RMA normalization.\" ...\n",
            "  .. .. .. .. ..$ platform_id                : chr [1:280] \"GPL13158\" \"GPL13158\" \"GPL13158\" \"GPL13158\" ...\n",
            "  .. .. .. .. ..$ contact_name               : chr [1:280] \"Wei-Yi,,Cheng\" \"Wei-Yi,,Cheng\" \"Wei-Yi,,Cheng\" \"Wei-Yi,,Cheng\" ...\n",
            "  .. .. .. .. ..$ contact_department         : chr [1:280] \"Pharma Research and Early Development\" \"Pharma Research and Early Development\" \"Pharma Research and Early Development\" \"Pharma Research and Early Development\" ...\n",
            "  .. .. .. .. ..$ contact_institute          : chr [1:280] \"Roche Innovation Center New York\" \"Roche Innovation Center New York\" \"Roche Innovation Center New York\" \"Roche Innovation Center New York\" ...\n",
            "  .. .. .. .. ..$ contact_address            : chr [1:280] \"Roche Translational and Clinical Research Center, 430 East 29th Street\" \"Roche Translational and Clinical Research Center, 430 East 29th Street\" \"Roche Translational and Clinical Research Center, 430 East 29th Street\" \"Roche Translational and Clinical Research Center, 430 East 29th Street\" ...\n",
            "  .. .. .. .. ..$ contact_city               : chr [1:280] \"New York\" \"New York\" \"New York\" \"New York\" ...\n",
            "  .. .. .. .. ..$ contact_state              : chr [1:280] \"New York\" \"New York\" \"New York\" \"New York\" ...\n",
            "  .. .. .. .. ..$ contact_zip/postal_code    : chr [1:280] \"10016\" \"10016\" \"10016\" \"10016\" ...\n",
            "  .. .. .. .. ..$ contact_country            : chr [1:280] \"USA\" \"USA\" \"USA\" \"USA\" ...\n",
            "  .. .. .. .. ..$ supplementary_file         : chr [1:280] \"ftp://ftp.ncbi.nlm.nih.gov/geo/samples/GSM2772nnn/GSM2772660/suppl/GSM2772660_BC_coex_path_001.CEL.gz\" \"ftp://ftp.ncbi.nlm.nih.gov/geo/samples/GSM2772nnn/GSM2772661/suppl/GSM2772661_BC_coex_path_002.CEL.gz\" \"ftp://ftp.ncbi.nlm.nih.gov/geo/samples/GSM2772nnn/GSM2772662/suppl/GSM2772662_BC_coex_path_003.CEL.gz\" \"ftp://ftp.ncbi.nlm.nih.gov/geo/samples/GSM2772nnn/GSM2772663/suppl/GSM2772663_BC_coex_path_004.CEL.gz\" ...\n",
            "  .. .. .. .. ..$ data_row_count             : chr [1:280] \"54715\" \"54715\" \"54715\" \"54715\" ...\n",
            "  .. .. .. .. ..$ age:ch1                    : chr [1:280] \"na\" \"na\" \"na\" \"na\" ...\n",
            "  .. .. .. .. ..$ batch i/ii:ch1             : chr [1:280] \"I\" \"I\" \"I\" \"I\" ...\n",
            "  .. .. .. .. ..$ bmi:ch1                    : chr [1:280] \"na\" \"na\" \"na\" \"na\" ...\n",
            "  .. .. .. .. ..$ bodyheight:ch1             : chr [1:280] \"na\" \"na\" \"na\" \"na\" ...\n",
            "  .. .. .. .. ..$ cancer type:ch1            : chr [1:280] \"BC\" \"BC\" \"BC\" \"BC\" ...\n",
            "  .. .. .. .. ..$ dignity:ch1                : chr [1:280] \"na\" \"na\" \"na\" \"na\" ...\n",
            "  .. .. .. .. ..$ diseasecode:ch1            : chr [1:280] \"na\" \"na\" \"na\" \"na\" ...\n",
            "  .. .. .. .. ..$ diseasedescription:ch1     : chr [1:280] \"na\" \"na\" \"na\" \"na\" ...\n",
            "  .. .. .. .. ..$ gender:ch1                 : chr [1:280] \"na\" \"na\" \"na\" \"na\" ...\n",
            "  .. .. .. .. ..$ grading:ch1                : chr [1:280] \"na\" \"na\" \"na\" \"na\" ...\n",
            "  .. .. .. .. ..$ histology:ch1              : chr [1:280] \"na\" \"na\" \"na\" \"na\" ...\n",
            "  .. .. .. .. ..$ ischemiatime:ch1           : chr [1:280] \"na\" \"na\" \"na\" \"na\" ...\n",
            "  .. .. .. .. ..$ normal:ch1                 : chr [1:280] \"no\" \"no\" \"no\" \"no\" ...\n",
            "  .. .. .. .. ..$ organ:ch1                  : chr [1:280] \"na\" \"na\" \"na\" \"na\" ...\n",
            "  .. .. .. .. ..$ primary / relapse tumor:ch1: chr [1:280] \"na\" \"na\" \"na\" \"na\" ...\n",
            "  .. .. .. .. ..$ radicality:ch1             : chr [1:280] \"na\" \"na\" \"na\" \"na\" ...\n",
            "  .. .. .. .. ..$ Stage:ch1                  : chr [1:280] \"na\" \"na\" \"na\" \"na\" ...\n",
            "  .. .. .. .. ..$ tumorcontent:ch1           : chr [1:280] \"na\" \"na\" \"na\" \"na\" ...\n",
            "  .. .. .. .. ..$ tumorlocalization:ch1      : chr [1:280] \"na\" \"na\" \"na\" \"na\" ...\n",
            "  .. .. .. .. ..$ tumorsize:ch1              : chr [1:280] \"na\" \"na\" \"na\" \"na\" ...\n",
            "  .. .. .. .. ..$ weight:ch1                 : chr [1:280] \"na\" \"na\" \"na\" \"na\" ...\n",
            "  .. .. .. ..@ dimLabels        : chr [1:2] \"sampleNames\" \"sampleColumns\"\n",
            "  .. .. .. ..@ .__classVersion__:Formal class 'Versions' [package \"Biobase\"] with 1 slot\n",
            "  .. .. .. .. .. ..@ .Data:List of 1\n",
            "  .. .. .. .. .. .. ..$ : int [1:3] 1 1 0\n",
            "  .. .. .. .. .. ..$ names: chr \"AnnotatedDataFrame\"\n",
            "  .. ..@ featureData      :Formal class 'AnnotatedDataFrame' [package \"Biobase\"] with 4 slots\n",
            "  .. .. .. ..@ varMetadata      :'data.frame':\t16 obs. of  3 variables:\n",
            "  .. .. .. .. ..$ Column          : chr [1:16] \"ID\" \"GB_ACC\" \"\" \"Species Scientific Name\" ...\n",
            "  .. .. .. .. ..$ Description     : chr [1:16] \"Affymetrix Probe Set ID LINK_PRE:\\\"https://www.affymetrix.com/LinkServlet?probeset=\\\"\" \"GenBank Accession Number LINK_PRE:\\\"http://www.ncbi.nlm.nih.gov/nuccore/?term=\\\"\" \"SPOT_ID =\" \"The genus and species of the organism represented by the probe set.\" ...\n",
            "  .. .. .. .. ..$ labelDescription: chr [1:16] NA NA NA NA ...\n",
            "  .. .. .. ..@ data             :'data.frame':\t54715 obs. of  16 variables:\n",
            "  .. .. .. .. ..$ ID                              : chr [1:54715] \"1007_PM_s_at\" \"1053_PM_at\" \"117_PM_at\" \"121_PM_at\" ...\n",
            "  .. .. .. .. ..$ GB_ACC                          : chr [1:54715] \"U48705\" \"M87338\" \"X51757\" \"X69699\" ...\n",
            "  .. .. .. .. ..$ SPOT_ID                         : chr [1:54715] \"\" \"\" \"\" \"\" ...\n",
            "  .. .. .. .. ..$ Species Scientific Name         : chr [1:54715] \"Homo sapiens\" \"Homo sapiens\" \"Homo sapiens\" \"Homo sapiens\" ...\n",
            "  .. .. .. .. ..$ Annotation Date                 : chr [1:54715] \"Aug 20, 2010\" \"Aug 20, 2010\" \"Aug 20, 2010\" \"Aug 20, 2010\" ...\n",
            "  .. .. .. .. ..$ Sequence Type                   : chr [1:54715] \"Exemplar sequence\" \"Exemplar sequence\" \"Exemplar sequence\" \"Exemplar sequence\" ...\n",
            "  .. .. .. .. ..$ Sequence Source                 : chr [1:54715] \"Affymetrix Proprietary Database\" \"GenBank\" \"Affymetrix Proprietary Database\" \"GenBank\" ...\n",
            "  .. .. .. .. ..$ Target Description              : chr [1:54715] \"U48705 /FEATURE=mRNA /DEFINITION=HSU48705 Human receptor tyrosine kinase DDR gene, complete cds\" \"M87338 /FEATURE= /DEFINITION=HUMA1SBU Human replication factor C, 40-kDa subunit (A1) mRNA, complete cds\" \"X51757 /FEATURE=cds /DEFINITION=HSP70B Human heat-shock protein HSP70B' gene\" \"X69699 /FEATURE= /DEFINITION=HSPAX8A H.sapiens Pax8 mRNA\" ...\n",
            "  .. .. .. .. ..$ Representative Public ID        : chr [1:54715] \"U48705\" \"M87338\" \"X51757\" \"X69699\" ...\n",
            "  .. .. .. .. ..$ Gene Title                      : chr [1:54715] \"discoidin domain receptor tyrosine kinase 1\" \"replication factor C (activator 1) 2, 40kDa\" \"heat shock 70kDa protein 6 (HSP70B')\" \"paired box 8\" ...\n",
            "  .. .. .. .. ..$ Gene Symbol                     : chr [1:54715] \"DDR1\" \"RFC2\" \"HSPA6\" \"PAX8\" ...\n",
            "  .. .. .. .. ..$ ENTREZ_GENE_ID                  : chr [1:54715] \"780\" \"5982\" \"3310\" \"7849\" ...\n",
            "  .. .. .. .. ..$ RefSeq Transcript ID            : chr [1:54715] \"NM_001954 /// NM_013993 /// NM_013994\" \"NM_002914 /// NM_181471\" \"NM_002155\" \"NM_003466 /// NM_013951 /// NM_013952 /// NM_013953 /// NM_013992\" ...\n",
            "  .. .. .. .. ..$ Gene Ontology Biological Process: chr [1:54715] \"0001558 // regulation of cell growth // inferred from electronic annotation /// 0001952 // regulation of cell-m\"| __truncated__ \"0006260 // DNA replication // not recorded /// 0006260 // DNA replication // inferred from electronic annotatio\"| __truncated__ \"0006950 // response to stress // inferred from electronic annotation /// 0006986 // response to unfolded protei\"| __truncated__ \"0001656 // metanephros development // inferred from electronic annotation /// 0006350 // transcription // infer\"| __truncated__ ...\n",
            "  .. .. .. .. ..$ Gene Ontology Cellular Component: chr [1:54715] \"0005576 // extracellular region // inferred from electronic annotation /// 0005886 // plasma membrane // inferr\"| __truncated__ \"0005634 // nucleus // inferred from electronic annotation /// 0005654 // nucleoplasm // not recorded /// 000566\"| __truncated__ \"\" \"0005634 // nucleus // inferred from electronic annotation /// 0005654 // nucleoplasm // inferred from sequence \"| __truncated__ ...\n",
            "  .. .. .. .. ..$ Gene Ontology Molecular Function: chr [1:54715] \"0000166 // nucleotide binding // inferred from electronic annotation /// 0004672 // protein kinase activity // \"| __truncated__ \"0000166 // nucleotide binding // inferred from electronic annotation /// 0003677 // DNA binding // inferred fro\"| __truncated__ \"0000166 // nucleotide binding // inferred from electronic annotation /// 0005524 // ATP binding // inferred fro\"| __truncated__ \"0003677 // DNA binding // inferred from direct assay /// 0003677 // DNA binding // inferred from electronic ann\"| __truncated__ ...\n",
            "  .. .. .. ..@ dimLabels        : chr [1:2] \"featureNames\" \"featureColumns\"\n",
            "  .. .. .. ..@ .__classVersion__:Formal class 'Versions' [package \"Biobase\"] with 1 slot\n",
            "  .. .. .. .. .. ..@ .Data:List of 1\n",
            "  .. .. .. .. .. .. ..$ : int [1:3] 1 1 0\n",
            "  .. .. .. .. .. ..$ names: chr \"AnnotatedDataFrame\"\n",
            "  .. ..@ annotation       : chr \"GPL13158\"\n",
            "  .. ..@ protocolData     :Formal class 'AnnotatedDataFrame' [package \"Biobase\"] with 4 slots\n",
            "  .. .. .. ..@ varMetadata      :'data.frame':\t0 obs. of  1 variable:\n",
            "  .. .. .. .. ..$ labelDescription: chr(0) \n",
            "  .. .. .. ..@ data             :'data.frame':\t280 obs. of  0 variables\n",
            "  .. .. .. ..@ dimLabels        : chr [1:2] \"sampleNames\" \"sampleColumns\"\n",
            "  .. .. .. ..@ .__classVersion__:Formal class 'Versions' [package \"Biobase\"] with 1 slot\n",
            "  .. .. .. .. .. ..@ .Data:List of 1\n",
            "  .. .. .. .. .. .. ..$ : int [1:3] 1 1 0\n",
            "  .. .. .. .. .. ..$ names: chr \"AnnotatedDataFrame\"\n",
            "  .. ..@ .__classVersion__:Formal class 'Versions' [package \"Biobase\"] with 1 slot\n",
            "  .. .. .. ..@ .Data:List of 4\n",
            "  .. .. .. .. ..$ : int [1:3] 4 3 3\n",
            "  .. .. .. .. ..$ : int [1:3] 2 62 0\n",
            "  .. .. .. .. ..$ : int [1:3] 1 3 0\n",
            "  .. .. .. .. ..$ : int [1:3] 1 0 0\n",
            "  .. .. .. ..$ names: chr [1:4] \"R\" \"Biobase\" \"eSet\" \"ExpressionSet\"\n"
          ]
        }
      ]
    },
    {
      "cell_type": "code",
      "source": [],
      "metadata": {
        "id": "MIZGGDiuI9Wq"
      },
      "execution_count": null,
      "outputs": []
    },
    {
      "cell_type": "markdown",
      "source": [
        "`ExpressionSet` objects are older Bioconductor data structure.\n",
        "\n",
        "Let us take the ExpressionSet object and convert it into `SummarizedExperiment` data structure. This class is used in lot of packages for the analysis of RNASeq, Methyl-seq, CHIP-seq, scRNAseq etc.\n",
        "\n"
      ],
      "metadata": {
        "id": "rxG9TnRpJSOh"
      }
    },
    {
      "cell_type": "code",
      "source": [
        "library(SummarizedExperiment)\n",
        "gse103512 <- as(gse$GSE103512_series_matrix.txt.gz, \"SummarizedExperiment\")"
      ],
      "metadata": {
        "colab": {
          "base_uri": "https://localhost:8080/"
        },
        "id": "HvMmOoO4GTCV",
        "outputId": "395ddd47-9696-4af3-cc15-d9f21c8a4bf4"
      },
      "execution_count": null,
      "outputs": [
        {
          "output_type": "stream",
          "name": "stderr",
          "text": [
            "Loading required package: MatrixGenerics\n",
            "\n",
            "Loading required package: matrixStats\n",
            "\n",
            "\n",
            "Attaching package: ‘matrixStats’\n",
            "\n",
            "\n",
            "The following objects are masked from ‘package:Biobase’:\n",
            "\n",
            "    anyMissing, rowMedians\n",
            "\n",
            "\n",
            "\n",
            "Attaching package: ‘MatrixGenerics’\n",
            "\n",
            "\n",
            "The following objects are masked from ‘package:matrixStats’:\n",
            "\n",
            "    colAlls, colAnyNAs, colAnys, colAvgsPerRowSet, colCollapse,\n",
            "    colCounts, colCummaxs, colCummins, colCumprods, colCumsums,\n",
            "    colDiffs, colIQRDiffs, colIQRs, colLogSumExps, colMadDiffs,\n",
            "    colMads, colMaxs, colMeans2, colMedians, colMins, colOrderStats,\n",
            "    colProds, colQuantiles, colRanges, colRanks, colSdDiffs, colSds,\n",
            "    colSums2, colTabulates, colVarDiffs, colVars, colWeightedMads,\n",
            "    colWeightedMeans, colWeightedMedians, colWeightedSds,\n",
            "    colWeightedVars, rowAlls, rowAnyNAs, rowAnys, rowAvgsPerColSet,\n",
            "    rowCollapse, rowCounts, rowCummaxs, rowCummins, rowCumprods,\n",
            "    rowCumsums, rowDiffs, rowIQRDiffs, rowIQRs, rowLogSumExps,\n",
            "    rowMadDiffs, rowMads, rowMaxs, rowMeans2, rowMedians, rowMins,\n",
            "    rowOrderStats, rowProds, rowQuantiles, rowRanges, rowRanks,\n",
            "    rowSdDiffs, rowSds, rowSums2, rowTabulates, rowVarDiffs, rowVars,\n",
            "    rowWeightedMads, rowWeightedMeans, rowWeightedMedians,\n",
            "    rowWeightedSds, rowWeightedVars\n",
            "\n",
            "\n",
            "The following object is masked from ‘package:Biobase’:\n",
            "\n",
            "    rowMedians\n",
            "\n",
            "\n",
            "Loading required package: GenomicRanges\n",
            "\n",
            "Loading required package: stats4\n",
            "\n",
            "Loading required package: S4Vectors\n",
            "\n",
            "\n",
            "Attaching package: ‘S4Vectors’\n",
            "\n",
            "\n",
            "The following object is masked from ‘package:utils’:\n",
            "\n",
            "    findMatches\n",
            "\n",
            "\n",
            "The following objects are masked from ‘package:base’:\n",
            "\n",
            "    expand.grid, I, unname\n",
            "\n",
            "\n",
            "Loading required package: IRanges\n",
            "\n",
            "Loading required package: GenomeInfoDb\n",
            "\n"
          ]
        }
      ]
    },
    {
      "cell_type": "code",
      "source": [
        "class(gse)"
      ],
      "metadata": {
        "colab": {
          "base_uri": "https://localhost:8080/",
          "height": 34
        },
        "id": "qG7899YKJOPK",
        "outputId": "11206d60-07db-4c13-8baf-62f5b4c36a5f"
      },
      "execution_count": null,
      "outputs": [
        {
          "output_type": "display_data",
          "data": {
            "text/html": [
              "'list'"
            ],
            "text/markdown": "'list'",
            "text/latex": "'list'",
            "text/plain": [
              "[1] \"list\""
            ]
          },
          "metadata": {}
        }
      ]
    },
    {
      "cell_type": "markdown",
      "source": [
        "![image.png](data:image/png;base64,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)"
      ],
      "metadata": {
        "id": "TkskiANgK6Tt"
      }
    },
    {
      "cell_type": "markdown",
      "source": [
        "`SummarizedExperiment` Components:\n",
        "\n",
        "* `assays`\n",
        "  * Matrix data (microarray or RNASeq)\n",
        "  * Rows: In this case, 54715, genes or features or probes\n",
        "  * Columns: (n=280): Correspond to samples (assay)\n",
        "* `rowData`\n",
        "  * Feature metadata (e.g. Entrez/ensembl ids, gene symbols)\n",
        "  * class extension `RangesSummarizedExperiment` accomodates `GRanges` (Genomic Ranges data)\n",
        "* `colData`\n",
        "  * Sample level covariate data (tissue, cell line, genotype, experiment etc.)\n",
        "* `metadata`\n",
        "  * List of experimental information\n",
        "    * objects retained from `ExpressionSet` (ex. MIAME object)  "
      ],
      "metadata": {
        "id": "YkXJq9okM9Ew"
      }
    },
    {
      "cell_type": "markdown",
      "source": [
        "# Brief introduction to S4 class\n",
        "\n",
        "S4 is a special class defined to deal with complex data structures like genomic data. (References: Hadley Wickem (OOP system in R) and O'Neil (2017)).\n",
        "\n",
        "1. Formal Definition of S4\n",
        "\n",
        "Unlike S3 classes, which rely on object attributes for classification, S4 classes have a formal definition using the setClass function. This definition specifies the **class name, a list of slots (like member variables), and optional parent classes for inheritance**. This formal structure enables stricter type checking and clearer program logic.\n",
        "\n",
        "2. Slots:\n",
        "\n",
        "Slots are named components that hold the data associated with an object of a specific S4 class. Each slot has a defined type, ensuring data consistency and preventing the accidental assignment of incompatible values. Think of slots as containers that hold specific types of information relevant to the class.\n",
        "\n",
        "3. Methods:\n",
        "\n",
        "Methods are functions that operate on objects of a particular class. They can be defined within the class definition using the setMethod function and are dispatched based on the class of the first argument. This allows for custom handling of different types of objects, promoting code reuse and cleaner logic.\n",
        "\n",
        "4. Multiple Inheritance:\n",
        "\n",
        "S4 classes support multiple inheritance, enabling a class to inherit features and properties from multiple parent classes. This allows for building complex object hierarchies and reusing common functionality across different classes.\n",
        "\n",
        "5. Generic Functions:\n",
        "\n",
        "Generic functions are functions that can operate on objects of different classes, leveraging specific methods based on the object's type. This promotes flexibility and enables generic code that can handle various object types with appropriate behavior.\n",
        "\n"
      ],
      "metadata": {
        "id": "UhtklgBJN5IU"
      }
    },
    {
      "cell_type": "code",
      "source": [
        "# confirm that gse is not S4 class\n",
        "typeof(gse)\n",
        "isS4(gse)"
      ],
      "metadata": {
        "colab": {
          "base_uri": "https://localhost:8080/",
          "height": 52
        },
        "id": "wZIabMj8QE7N",
        "outputId": "889313fc-3233-4037-ba52-2f1b2ad3bfc1"
      },
      "execution_count": null,
      "outputs": [
        {
          "output_type": "display_data",
          "data": {
            "text/html": [
              "'list'"
            ],
            "text/markdown": "'list'",
            "text/latex": "'list'",
            "text/plain": [
              "[1] \"list\""
            ]
          },
          "metadata": {}
        },
        {
          "output_type": "display_data",
          "data": {
            "text/html": [
              "FALSE"
            ],
            "text/markdown": "FALSE",
            "text/latex": "FALSE",
            "text/plain": [
              "[1] FALSE"
            ]
          },
          "metadata": {}
        }
      ]
    },
    {
      "cell_type": "code",
      "source": [
        "# checing whether S4 or not\n",
        "\n",
        "is(gse103512, \"SummarizedExperiment\")\n",
        "\n",
        "isS4(gse103512)\n",
        "\n",
        "typeof(gse103512)\n",
        "\n",
        "getClass(\"SummarizedExperiment\")"
      ],
      "metadata": {
        "colab": {
          "base_uri": "https://localhost:8080/",
          "height": 382
        },
        "id": "YZWiaHv2PVzm",
        "outputId": "797ca493-06e5-49ef-e0a2-a592b440edfa"
      },
      "execution_count": null,
      "outputs": [
        {
          "output_type": "display_data",
          "data": {
            "text/html": [
              "TRUE"
            ],
            "text/markdown": "TRUE",
            "text/latex": "TRUE",
            "text/plain": [
              "[1] TRUE"
            ]
          },
          "metadata": {}
        },
        {
          "output_type": "display_data",
          "data": {
            "text/html": [
              "TRUE"
            ],
            "text/markdown": "TRUE",
            "text/latex": "TRUE",
            "text/plain": [
              "[1] TRUE"
            ]
          },
          "metadata": {}
        },
        {
          "output_type": "display_data",
          "data": {
            "text/html": [
              "'S4'"
            ],
            "text/markdown": "'S4'",
            "text/latex": "'S4'",
            "text/plain": [
              "[1] \"S4\""
            ]
          },
          "metadata": {}
        },
        {
          "output_type": "display_data",
          "data": {
            "text/plain": [
              "Class \"SummarizedExperiment\" [package \"SummarizedExperiment\"]\n",
              "\n",
              "Slots:\n",
              "                                                                              \n",
              "Name:            colData            assays             NAMES   elementMetadata\n",
              "Class:         DataFrame    Assays_OR_NULL character_OR_NULL         DataFrame\n",
              "                        \n",
              "Name:           metadata\n",
              "Class:              list\n",
              "\n",
              "Extends: \n",
              "Class \"RectangularData\", directly\n",
              "Class \"Vector\", directly\n",
              "Class \"Annotated\", by class \"Vector\", distance 2\n",
              "Class \"vector_OR_Vector\", by class \"Vector\", distance 2\n",
              "\n",
              "Known Subclasses: \n",
              "Class \"RangedSummarizedExperiment\", directly, with explicit coerce"
            ]
          },
          "metadata": {}
        }
      ]
    },
    {
      "cell_type": "code",
      "source": [
        "# may or may not have all slots filled in\n",
        "slotNames(gse103512)"
      ],
      "metadata": {
        "id": "MJ-UVa-2Qljf",
        "colab": {
          "base_uri": "https://localhost:8080/",
          "height": 34
        },
        "outputId": "d566e81f-772f-4cb3-f80f-7afdab18b70b"
      },
      "execution_count": null,
      "outputs": [
        {
          "output_type": "display_data",
          "data": {
            "text/html": [
              "<style>\n",
              ".list-inline {list-style: none; margin:0; padding: 0}\n",
              ".list-inline>li {display: inline-block}\n",
              ".list-inline>li:not(:last-child)::after {content: \"\\00b7\"; padding: 0 .5ex}\n",
              "</style>\n",
              "<ol class=list-inline><li>'colData'</li><li>'assays'</li><li>'NAMES'</li><li>'elementMetadata'</li><li>'metadata'</li></ol>\n"
            ],
            "text/markdown": "1. 'colData'\n2. 'assays'\n3. 'NAMES'\n4. 'elementMetadata'\n5. 'metadata'\n\n\n",
            "text/latex": "\\begin{enumerate*}\n\\item 'colData'\n\\item 'assays'\n\\item 'NAMES'\n\\item 'elementMetadata'\n\\item 'metadata'\n\\end{enumerate*}\n",
            "text/plain": [
              "[1] \"colData\"         \"assays\"          \"NAMES\"           \"elementMetadata\"\n",
              "[5] \"metadata\"       "
            ]
          },
          "metadata": {}
        }
      ]
    },
    {
      "cell_type": "code",
      "source": [
        "metadata(gse103512)"
      ],
      "metadata": {
        "colab": {
          "base_uri": "https://localhost:8080/",
          "height": 1000
        },
        "id": "4XJ4OiNcQyri",
        "outputId": "348b7616-a12f-4e46-c74e-298310ede2f5"
      },
      "execution_count": null,
      "outputs": [
        {
          "output_type": "display_data",
          "data": {
            "text/plain": [
              "$experimentData\n",
              "Experiment data\n",
              "  Experimenter name: Wei-Yi,,Cheng \n",
              "  Laboratory:  \n",
              "  Contact information:  \n",
              "  Title: Gene expression profiles of breast, colorectal, prostate, and non-small cell lung cancer \n",
              "  URL: https://www.ncbi.nlm.nih.gov/geo/query/acc.cgi?acc=GSE103512 \n",
              "  PMIDs: 29133367 \n",
              "\n",
              "  Abstract: A 17 word abstract is available. Use 'abstract' method.\n",
              "  notes:\n",
              "   contact_address:     \n",
              "      Roche Translational and Clinical Research Center, 430 East 29th Street\n",
              "   contact_city:     \n",
              "      New York\n",
              "   contact_country:     \n",
              "      USA\n",
              "   contact_department:     \n",
              "      Pharma Research and Early Development\n",
              "   contact_institute:     \n",
              "      Roche Innovation Center New York\n",
              "   contact_name:     \n",
              "      Wei-Yi,,Cheng\n",
              "   contact_state:     \n",
              "      New York\n",
              "   contact_zip/postal_code:     \n",
              "      10016\n",
              "   contributor:     \n",
              "      Jurriaan,,Brouwer-Visser\n",
              "Wei-Yi,,Cheng\n",
              "Anna,,Bauer-Mehren\n",
              "Daniela,,Maisel\n",
              "\n",
              "Katharina,,Lechner\n",
              "Emilia,,Andersson\n",
              "Joel,T,Dudley\n",
              "Francesca,,Milletti\n",
              "   geo_accession:     \n",
              "      GSE103512\n",
              "   last_update_date:     \n",
              "      Jul 25 2021\n",
              "   overall_design:     \n",
              "      65 breast cancer with 10 matched normal; 57 colorectal cancer with 12 matc\n",
              "hed normal; 60 non-small cell lung cancer with 9 matched normal; 60 prosta\n",
              "te cancer with 7 matched normal\n",
              "   platform_id:     \n",
              "      GPL13158\n",
              "   platform_taxid:     \n",
              "      9606\n",
              "   pubmed_id:     \n",
              "      29133367\n",
              "   sample_id:     \n",
              "      GSM2772660 GSM2772661 GSM2772662 GSM2772663 GSM2772664 GSM2772665 GSM27726\n",
              "66 GSM2772667 GSM2772668 GSM2772669 GSM2772670 GSM2772671 GSM2772672 GSM27\n",
              "72673 GSM2772674 GSM2772675 GSM2772676 GSM2772677 GSM2772678 GSM2772679 GS\n",
              "M2772680 GSM2772681 GSM2772682 GSM2772683 GSM2772684 GSM2772685 GSM2772686\n",
              " GSM2772687 GSM2772688 GSM2772689 GSM2772690 GSM2772691 GSM2772692 GSM2772\n",
              "693 GSM2772694 GSM2772695 GSM2772696 GSM2772697 GSM2772698 GSM2772699 GSM2\n",
              "772700 GSM2772701 GSM2772702 GSM2772703 GSM2772704 GSM2772705 GSM2772706 G\n",
              "SM2772707 GSM2772708 GSM2772709 GSM2772710 GSM2772711 GSM2772712 GSM277271\n",
              "3 GSM2772714 GSM2772715 GSM2772716 GSM2772717 GSM2772718 GSM2772719 GSM277\n",
              "2720 GSM2772721 GSM2772722 GSM2772723 GSM2772724 GSM2772725 GSM2772726 GSM\n",
              "2772727 GSM2772728 GSM2772729 GSM2772730 GSM2772731 GSM2772732 GSM2772733 \n",
              "GSM2772734 GSM2772735 GSM2772736 GSM2772737 GSM2772738 GSM2772739 GSM27727\n",
              "40 GSM2772741 GSM2772742 GSM2772743 GSM2772744 GSM2772745 GSM2772746 GSM27\n",
              "72747 GSM2772748 GSM2772749 GSM2772750 GSM2772751 GSM2772752 GSM2772753 GS\n",
              "M2772754 GSM2772755 GSM2772756 GSM2772757 GSM2772758 GSM2772759 GSM2772760\n",
              " GSM2772761 GSM2772762 GSM2772763 GSM2772764 GSM2772765 GSM2772766 GSM2772\n",
              "767 GSM2772768 GSM2772769 GSM2772770 GSM2772771 GSM2772772 GSM2772773 GSM2\n",
              "772774 GSM2772775 GSM2772776 GSM2772777 GSM2772778 GSM2772779 GSM2772780 G\n",
              "SM2772781 GSM2772782 GSM2772783 GSM2772784 GSM2772785 GSM2772786 GSM277278\n",
              "7 GSM2772788 GSM2772789 GSM2772790 GSM2772791 GSM2772792 GSM2772793 GSM277\n",
              "2794 GSM2772795 GSM2772796 GSM2772797 GSM2772798 GSM2772799 GSM2772800 GSM\n",
              "2772801 GSM2772802 GSM2772803 GSM2772804 GSM2772805 GSM2772806 GSM2772807 \n",
              "GSM2772808 GSM2772809 GSM2772810 GSM2772811 GSM2772812 GSM2772813 GSM27728\n",
              "14 GSM2772815 GSM2772816 GSM2772817 GSM2772818 GSM2772819 GSM2772820 GSM27\n",
              "72821 GSM2772822 GSM2772823 GSM2772824 GSM2772825 GSM2772826 GSM2772827 GS\n",
              "M2772828 GSM2772829 GSM2772830 GSM2772831 GSM2772832 GSM2772833 GSM2772834\n",
              " GSM2772835 GSM2772836 GSM2772837 GSM2772838 GSM2772839 GSM2772840 GSM2772\n",
              "841 GSM2772842 GSM2772843 GSM2772844 GSM2772845 GSM2772846 GSM2772847 GSM2\n",
              "772848 GSM2772849 GSM2772850 GSM2772851 GSM2772852 GSM2772853 GSM2772854 G\n",
              "SM2772855 GSM2772856 GSM2772857 GSM2772858 GSM2772859 GSM2772860 GSM277286\n",
              "1 GSM2772862 GSM2772863 GSM2772864 GSM2772865 GSM2772866 GSM2772867 GSM277\n",
              "2868 GSM2772869 GSM2772870 GSM2772871 GSM2772872 GSM2772873 GSM2772874 GSM\n",
              "2772875 GSM2772876 GSM2772877 GSM2772878 GSM2772879 GSM2772880 GSM2772881 \n",
              "GSM2772882 GSM2772883 GSM2772884 GSM2772885 GSM2772886 GSM2772887 GSM27728\n",
              "88 GSM2772889 GSM2772890 GSM2772891 GSM2772892 GSM2772893 GSM2772894 GSM27\n",
              "72895 GSM2772896 GSM2772897 GSM2772898 GSM2772899 GSM2772900 GSM2772901 GS\n",
              "M2772902 GSM2772903 GSM2772904 GSM2772905 GSM2772906 GSM2772907 GSM2772908\n",
              " GSM2772909 GSM2772910 GSM2772911 GSM2772912 GSM2772913 GSM2772914 GSM2772\n",
              "915 GSM2772916 GSM2772917 GSM2772918 GSM2772919 GSM2772920 GSM2772921 GSM2\n",
              "772922 GSM2772923 GSM2772924 GSM2772925 GSM2772926 GSM2772927 GSM2772928 G\n",
              "SM2772929 GSM2772930 GSM2772931 GSM2772932 GSM2772933 GSM2772934 GSM277293\n",
              "5 GSM2772936 GSM2772937 GSM2772938 GSM2772939 \n",
              "   sample_taxid:     \n",
              "      9606\n",
              "   status:     \n",
              "      Public on Sep 07 2017\n",
              "   submission_date:     \n",
              "      Sep 05 2017\n",
              "   summary:     \n",
              "      Gene expression profiles from 280 formalin-fixed and paraffin embedded nor\n",
              "mal and tumor samples of four cancer types\n",
              "   supplementary_file:     \n",
              "      ftp://ftp.ncbi.nlm.nih.gov/geo/series/GSE103nnn/GSE103512/suppl/GSE103512_\n",
              "RAW.tar\n",
              "   title:     \n",
              "      Gene expression profiles of breast, colorectal, prostate, and non-small ce\n",
              "ll lung cancer\n",
              "   type:     \n",
              "      Expression profiling by array\n",
              "\n",
              "$annotation\n",
              "[1] \"GPL13158\"\n",
              "\n",
              "$protocolData\n",
              "An object of class 'AnnotatedDataFrame': none\n"
            ]
          },
          "metadata": {}
        }
      ]
    },
    {
      "cell_type": "code",
      "source": [
        "class(metadata(gse103512)) # returns a list"
      ],
      "metadata": {
        "colab": {
          "base_uri": "https://localhost:8080/",
          "height": 34
        },
        "id": "5Tri6vqQQynY",
        "outputId": "75388f99-860f-41a0-853c-725780b29637"
      },
      "execution_count": null,
      "outputs": [
        {
          "output_type": "display_data",
          "data": {
            "text/html": [
              "'list'"
            ],
            "text/markdown": "'list'",
            "text/latex": "'list'",
            "text/plain": [
              "[1] \"list\""
            ]
          },
          "metadata": {}
        }
      ]
    },
    {
      "cell_type": "code",
      "source": [
        "names(metadata(gse103512))"
      ],
      "metadata": {
        "colab": {
          "base_uri": "https://localhost:8080/",
          "height": 34
        },
        "id": "UuIcPWh5QycM",
        "outputId": "87dc9af9-433d-46ca-c926-038dfd858b28"
      },
      "execution_count": null,
      "outputs": [
        {
          "output_type": "display_data",
          "data": {
            "text/html": [
              "<style>\n",
              ".list-inline {list-style: none; margin:0; padding: 0}\n",
              ".list-inline>li {display: inline-block}\n",
              ".list-inline>li:not(:last-child)::after {content: \"\\00b7\"; padding: 0 .5ex}\n",
              "</style>\n",
              "<ol class=list-inline><li>'experimentData'</li><li>'annotation'</li><li>'protocolData'</li></ol>\n"
            ],
            "text/markdown": "1. 'experimentData'\n2. 'annotation'\n3. 'protocolData'\n\n\n",
            "text/latex": "\\begin{enumerate*}\n\\item 'experimentData'\n\\item 'annotation'\n\\item 'protocolData'\n\\end{enumerate*}\n",
            "text/plain": [
              "[1] \"experimentData\" \"annotation\"     \"protocolData\"  "
            ]
          },
          "metadata": {}
        }
      ]
    },
    {
      "cell_type": "markdown",
      "source": [
        "You can add custom metadata to the list"
      ],
      "metadata": {
        "id": "BqHWK1IhReHg"
      }
    },
    {
      "cell_type": "code",
      "source": [
        "metadata(gse103512)$formula <- expres ~ cancer.types.ch1 + normal.ch1"
      ],
      "metadata": {
        "id": "JLmqVKrtRCZB"
      },
      "execution_count": null,
      "outputs": []
    },
    {
      "cell_type": "code",
      "source": [
        "metadata(gse103512)['experimentData']"
      ],
      "metadata": {
        "colab": {
          "base_uri": "https://localhost:8080/",
          "height": 1000
        },
        "id": "m3OzRVTkRCUH",
        "outputId": "f4089c8d-8cc9-4d38-a92f-3daba3f08cb3"
      },
      "execution_count": null,
      "outputs": [
        {
          "data": {
            "text/plain": [
              "$experimentData\n",
              "Experiment data\n",
              "  Experimenter name: Wei-Yi,,Cheng \n",
              "  Laboratory:  \n",
              "  Contact information:  \n",
              "  Title: Gene expression profiles of breast, colorectal, prostate, and non-small cell lung cancer \n",
              "  URL: https://www.ncbi.nlm.nih.gov/geo/query/acc.cgi?acc=GSE103512 \n",
              "  PMIDs: 29133367 \n",
              "\n",
              "  Abstract: A 17 word abstract is available. Use 'abstract' method.\n",
              "  notes:\n",
              "   contact_address:     \n",
              "      Roche Translational and Clinical Research Center, 430 East 29th Street\n",
              "   contact_city:     \n",
              "      New York\n",
              "   contact_country:     \n",
              "      USA\n",
              "   contact_department:     \n",
              "      Pharma Research and Early Development\n",
              "   contact_institute:     \n",
              "      Roche Innovation Center New York\n",
              "   contact_name:     \n",
              "      Wei-Yi,,Cheng\n",
              "   contact_state:     \n",
              "      New York\n",
              "   contact_zip/postal_code:     \n",
              "      10016\n",
              "   contributor:     \n",
              "      Jurriaan,,Brouwer-Visser\n",
              "Wei-Yi,,Cheng\n",
              "Anna,,Bauer-Mehren\n",
              "Daniela,,Maisel\n",
              "\n",
              "Katharina,,Lechner\n",
              "Emilia,,Andersson\n",
              "Joel,T,Dudley\n",
              "Francesca,,Milletti\n",
              "   geo_accession:     \n",
              "      GSE103512\n",
              "   last_update_date:     \n",
              "      Jul 25 2021\n",
              "   overall_design:     \n",
              "      65 breast cancer with 10 matched normal; 57 colorectal cancer with 12 matc\n",
              "hed normal; 60 non-small cell lung cancer with 9 matched normal; 60 prosta\n",
              "te cancer with 7 matched normal\n",
              "   platform_id:     \n",
              "      GPL13158\n",
              "   platform_taxid:     \n",
              "      9606\n",
              "   pubmed_id:     \n",
              "      29133367\n",
              "   sample_id:     \n",
              "      GSM2772660 GSM2772661 GSM2772662 GSM2772663 GSM2772664 GSM2772665 GSM27726\n",
              "66 GSM2772667 GSM2772668 GSM2772669 GSM2772670 GSM2772671 GSM2772672 GSM27\n",
              "72673 GSM2772674 GSM2772675 GSM2772676 GSM2772677 GSM2772678 GSM2772679 GS\n",
              "M2772680 GSM2772681 GSM2772682 GSM2772683 GSM2772684 GSM2772685 GSM2772686\n",
              " GSM2772687 GSM2772688 GSM2772689 GSM2772690 GSM2772691 GSM2772692 GSM2772\n",
              "693 GSM2772694 GSM2772695 GSM2772696 GSM2772697 GSM2772698 GSM2772699 GSM2\n",
              "772700 GSM2772701 GSM2772702 GSM2772703 GSM2772704 GSM2772705 GSM2772706 G\n",
              "SM2772707 GSM2772708 GSM2772709 GSM2772710 GSM2772711 GSM2772712 GSM277271\n",
              "3 GSM2772714 GSM2772715 GSM2772716 GSM2772717 GSM2772718 GSM2772719 GSM277\n",
              "2720 GSM2772721 GSM2772722 GSM2772723 GSM2772724 GSM2772725 GSM2772726 GSM\n",
              "2772727 GSM2772728 GSM2772729 GSM2772730 GSM2772731 GSM2772732 GSM2772733 \n",
              "GSM2772734 GSM2772735 GSM2772736 GSM2772737 GSM2772738 GSM2772739 GSM27727\n",
              "40 GSM2772741 GSM2772742 GSM2772743 GSM2772744 GSM2772745 GSM2772746 GSM27\n",
              "72747 GSM2772748 GSM2772749 GSM2772750 GSM2772751 GSM2772752 GSM2772753 GS\n",
              "M2772754 GSM2772755 GSM2772756 GSM2772757 GSM2772758 GSM2772759 GSM2772760\n",
              " GSM2772761 GSM2772762 GSM2772763 GSM2772764 GSM2772765 GSM2772766 GSM2772\n",
              "767 GSM2772768 GSM2772769 GSM2772770 GSM2772771 GSM2772772 GSM2772773 GSM2\n",
              "772774 GSM2772775 GSM2772776 GSM2772777 GSM2772778 GSM2772779 GSM2772780 G\n",
              "SM2772781 GSM2772782 GSM2772783 GSM2772784 GSM2772785 GSM2772786 GSM277278\n",
              "7 GSM2772788 GSM2772789 GSM2772790 GSM2772791 GSM2772792 GSM2772793 GSM277\n",
              "2794 GSM2772795 GSM2772796 GSM2772797 GSM2772798 GSM2772799 GSM2772800 GSM\n",
              "2772801 GSM2772802 GSM2772803 GSM2772804 GSM2772805 GSM2772806 GSM2772807 \n",
              "GSM2772808 GSM2772809 GSM2772810 GSM2772811 GSM2772812 GSM2772813 GSM27728\n",
              "14 GSM2772815 GSM2772816 GSM2772817 GSM2772818 GSM2772819 GSM2772820 GSM27\n",
              "72821 GSM2772822 GSM2772823 GSM2772824 GSM2772825 GSM2772826 GSM2772827 GS\n",
              "M2772828 GSM2772829 GSM2772830 GSM2772831 GSM2772832 GSM2772833 GSM2772834\n",
              " GSM2772835 GSM2772836 GSM2772837 GSM2772838 GSM2772839 GSM2772840 GSM2772\n",
              "841 GSM2772842 GSM2772843 GSM2772844 GSM2772845 GSM2772846 GSM2772847 GSM2\n",
              "772848 GSM2772849 GSM2772850 GSM2772851 GSM2772852 GSM2772853 GSM2772854 G\n",
              "SM2772855 GSM2772856 GSM2772857 GSM2772858 GSM2772859 GSM2772860 GSM277286\n",
              "1 GSM2772862 GSM2772863 GSM2772864 GSM2772865 GSM2772866 GSM2772867 GSM277\n",
              "2868 GSM2772869 GSM2772870 GSM2772871 GSM2772872 GSM2772873 GSM2772874 GSM\n",
              "2772875 GSM2772876 GSM2772877 GSM2772878 GSM2772879 GSM2772880 GSM2772881 \n",
              "GSM2772882 GSM2772883 GSM2772884 GSM2772885 GSM2772886 GSM2772887 GSM27728\n",
              "88 GSM2772889 GSM2772890 GSM2772891 GSM2772892 GSM2772893 GSM2772894 GSM27\n",
              "72895 GSM2772896 GSM2772897 GSM2772898 GSM2772899 GSM2772900 GSM2772901 GS\n",
              "M2772902 GSM2772903 GSM2772904 GSM2772905 GSM2772906 GSM2772907 GSM2772908\n",
              " GSM2772909 GSM2772910 GSM2772911 GSM2772912 GSM2772913 GSM2772914 GSM2772\n",
              "915 GSM2772916 GSM2772917 GSM2772918 GSM2772919 GSM2772920 GSM2772921 GSM2\n",
              "772922 GSM2772923 GSM2772924 GSM2772925 GSM2772926 GSM2772927 GSM2772928 G\n",
              "SM2772929 GSM2772930 GSM2772931 GSM2772932 GSM2772933 GSM2772934 GSM277293\n",
              "5 GSM2772936 GSM2772937 GSM2772938 GSM2772939 \n",
              "   sample_taxid:     \n",
              "      9606\n",
              "   status:     \n",
              "      Public on Sep 07 2017\n",
              "   submission_date:     \n",
              "      Sep 05 2017\n",
              "   summary:     \n",
              "      Gene expression profiles from 280 formalin-fixed and paraffin embedded nor\n",
              "mal and tumor samples of four cancer types\n",
              "   supplementary_file:     \n",
              "      ftp://ftp.ncbi.nlm.nih.gov/geo/series/GSE103nnn/GSE103512/suppl/GSE103512_\n",
              "RAW.tar\n",
              "   title:     \n",
              "      Gene expression profiles of breast, colorectal, prostate, and non-small ce\n",
              "ll lung cancer\n",
              "   type:     \n",
              "      Expression profiling by array\n"
            ]
          },
          "metadata": {},
          "output_type": "display_data"
        }
      ]
    },
    {
      "cell_type": "code",
      "source": [
        "class(metadata(gse103512)[[\"experimentData\"]]) # MIAME class\n",
        "\n",
        "?Biobase::`MIAME-class`"
      ],
      "metadata": {
        "colab": {
          "base_uri": "https://localhost:8080/",
          "height": 34
        },
        "id": "nlr1Ma6KR-K1",
        "outputId": "c8da4d7b-c3be-4566-e647-8a4cd57abf42"
      },
      "execution_count": null,
      "outputs": [
        {
          "output_type": "display_data",
          "data": {
            "text/html": [
              "'MIAME'"
            ],
            "text/markdown": "'MIAME'",
            "text/latex": "'MIAME'",
            "text/plain": [
              "[1] \"MIAME\"\n",
              "attr(,\"package\")\n",
              "[1] \"Biobase\""
            ]
          },
          "metadata": {}
        }
      ]
    },
    {
      "cell_type": "code",
      "source": [
        "class(assay(gse103512, \"exprs\"))"
      ],
      "metadata": {
        "colab": {
          "base_uri": "https://localhost:8080/",
          "height": 34
        },
        "id": "Uw_iS7avJFu2",
        "outputId": "39644117-f892-4332-fb86-a90d82483656"
      },
      "execution_count": null,
      "outputs": [
        {
          "output_type": "display_data",
          "data": {
            "text/html": [
              "<style>\n",
              ".list-inline {list-style: none; margin:0; padding: 0}\n",
              ".list-inline>li {display: inline-block}\n",
              ".list-inline>li:not(:last-child)::after {content: \"\\00b7\"; padding: 0 .5ex}\n",
              "</style>\n",
              "<ol class=list-inline><li>'matrix'</li><li>'array'</li></ol>\n"
            ],
            "text/markdown": "1. 'matrix'\n2. 'array'\n\n\n",
            "text/latex": "\\begin{enumerate*}\n\\item 'matrix'\n\\item 'array'\n\\end{enumerate*}\n",
            "text/plain": [
              "[1] \"matrix\" \"array\" "
            ]
          },
          "metadata": {}
        }
      ]
    },
    {
      "cell_type": "code",
      "source": [
        "e <- assay(gse103512, \"exprs\")"
      ],
      "metadata": {
        "id": "kdLNa9zeJFo1"
      },
      "execution_count": null,
      "outputs": []
    },
    {
      "cell_type": "code",
      "source": [
        "dim(e)"
      ],
      "metadata": {
        "colab": {
          "base_uri": "https://localhost:8080/",
          "height": 34
        },
        "id": "-Fdn3qfOWCaQ",
        "outputId": "56dfe45c-76aa-4bc1-971e-354646be08b1"
      },
      "execution_count": null,
      "outputs": [
        {
          "output_type": "display_data",
          "data": {
            "text/html": [
              "<style>\n",
              ".list-inline {list-style: none; margin:0; padding: 0}\n",
              ".list-inline>li {display: inline-block}\n",
              ".list-inline>li:not(:last-child)::after {content: \"\\00b7\"; padding: 0 .5ex}\n",
              "</style>\n",
              "<ol class=list-inline><li>54715</li><li>280</li></ol>\n"
            ],
            "text/markdown": "1. 54715\n2. 280\n\n\n",
            "text/latex": "\\begin{enumerate*}\n\\item 54715\n\\item 280\n\\end{enumerate*}\n",
            "text/plain": [
              "[1] 54715   280"
            ]
          },
          "metadata": {}
        }
      ]
    },
    {
      "cell_type": "code",
      "source": [
        "e"
      ],
      "metadata": {
        "colab": {
          "base_uri": "https://localhost:8080/",
          "height": 1000
        },
        "id": "tZXuPIA5WD_8",
        "outputId": "0cf5ad29-c5c9-4c07-c811-566e3116047c"
      },
      "execution_count": null,
      "outputs": [
        {
          "output_type": "display_data",
          "data": {
            "text/html": [
              "<table class=\"dataframe\">\n",
              "<caption>A matrix: 54715 × 280 of type dbl</caption>\n",
              "<thead>\n",
              "\t<tr><th></th><th scope=col>GSM2772660</th><th scope=col>GSM2772661</th><th scope=col>GSM2772662</th><th scope=col>GSM2772663</th><th scope=col>GSM2772664</th><th scope=col>GSM2772665</th><th scope=col>GSM2772666</th><th scope=col>GSM2772667</th><th scope=col>GSM2772668</th><th scope=col>GSM2772669</th><th scope=col>⋯</th><th scope=col>GSM2772930</th><th scope=col>GSM2772931</th><th scope=col>GSM2772932</th><th scope=col>GSM2772933</th><th scope=col>GSM2772934</th><th scope=col>GSM2772935</th><th scope=col>GSM2772936</th><th scope=col>GSM2772937</th><th scope=col>GSM2772938</th><th scope=col>GSM2772939</th></tr>\n",
              "</thead>\n",
              "<tbody>\n",
              "\t<tr><th scope=row>1007_PM_s_at</th><td>8.710718</td><td>8.874406</td><td>9.157600</td><td>7.710366</td><td>7.889133</td><td>9.187891</td><td>8.502790</td><td>7.985991</td><td>9.288803</td><td>8.037423</td><td>⋯</td><td>7.591758</td><td>8.417337</td><td>8.773584</td><td>6.014932</td><td>8.118485</td><td>7.750079</td><td>7.864324</td><td>7.541111</td><td>8.390298</td><td>7.755427</td></tr>\n",
              "\t<tr><th scope=row>1053_PM_at</th><td>4.646897</td><td>5.946730</td><td>5.769209</td><td>4.512610</td><td>6.000142</td><td>4.529334</td><td>5.326246</td><td>5.772236</td><td>5.757419</td><td>5.547636</td><td>⋯</td><td>4.757886</td><td>4.622830</td><td>4.427917</td><td>4.139551</td><td>4.374756</td><td>4.173053</td><td>4.259325</td><td>4.522224</td><td>4.355016</td><td>4.367581</td></tr>\n",
              "\t<tr><th scope=row>117_PM_at</th><td>6.850312</td><td>7.420204</td><td>7.277934</td><td>7.036745</td><td>7.085630</td><td>7.001320</td><td>7.226530</td><td>7.395984</td><td>6.985698</td><td>7.915826</td><td>⋯</td><td>7.579409</td><td>6.720147</td><td>6.928376</td><td>7.491676</td><td>6.353371</td><td>6.424754</td><td>6.478735</td><td>6.865915</td><td>6.765574</td><td>7.624744</td></tr>\n",
              "\t<tr><th scope=row>121_PM_at</th><td>5.699862</td><td>5.955848</td><td>5.819856</td><td>5.992074</td><td>5.965098</td><td>5.978569</td><td>5.975539</td><td>6.133506</td><td>5.623385</td><td>5.919976</td><td>⋯</td><td>6.244688</td><td>6.067174</td><td>5.778329</td><td>6.482538</td><td>5.982061</td><td>6.619358</td><td>7.989656</td><td>6.025906</td><td>6.136103</td><td>6.106748</td></tr>\n",
              "\t<tr><th scope=row>1255_PM_g_at</th><td>3.344434</td><td>3.252921</td><td>3.121310</td><td>3.304214</td><td>3.206685</td><td>3.123327</td><td>3.070930</td><td>3.161671</td><td>3.308474</td><td>3.214317</td><td>⋯</td><td>3.321744</td><td>3.119197</td><td>3.081535</td><td>3.376316</td><td>3.253850</td><td>3.114041</td><td>3.135294</td><td>3.328501</td><td>3.282186</td><td>3.310275</td></tr>\n",
              "\t<tr><th scope=row>1294_PM_at</th><td>5.868637</td><td>6.131208</td><td>6.343273</td><td>6.553460</td><td>6.514260</td><td>6.147398</td><td>6.229095</td><td>6.772412</td><td>6.389352</td><td>7.125314</td><td>⋯</td><td>7.610335</td><td>6.775906</td><td>5.846778</td><td>7.738880</td><td>6.734127</td><td>6.403276</td><td>6.953802</td><td>7.491566</td><td>7.041392</td><td>6.623066</td></tr>\n",
              "\t<tr><th scope=row>1316_PM_at</th><td>6.328466</td><td>6.503984</td><td>6.757951</td><td>6.548922</td><td>6.122024</td><td>6.445232</td><td>6.397701</td><td>6.042659</td><td>6.081688</td><td>6.235222</td><td>⋯</td><td>7.028600</td><td>6.991170</td><td>6.469142</td><td>7.427648</td><td>7.080309</td><td>6.887373</td><td>7.364023</td><td>7.143206</td><td>6.903466</td><td>6.689848</td></tr>\n",
              "\t<tr><th scope=row>1320_PM_at</th><td>6.208219</td><td>5.571839</td><td>6.507097</td><td>6.199720</td><td>6.203894</td><td>6.529891</td><td>6.313014</td><td>5.330517</td><td>6.254045</td><td>5.597243</td><td>⋯</td><td>6.419826</td><td>6.056686</td><td>6.181039</td><td>6.609450</td><td>6.593351</td><td>6.472842</td><td>6.761640</td><td>6.799355</td><td>6.475198</td><td>7.006135</td></tr>\n",
              "\t<tr><th scope=row>1405_PM_i_at</th><td>3.132818</td><td>3.415128</td><td>3.778575</td><td>3.466669</td><td>3.514805</td><td>3.487149</td><td>3.494214</td><td>3.475587</td><td>3.346958</td><td>4.211679</td><td>⋯</td><td>3.892010</td><td>3.380310</td><td>3.324342</td><td>3.983311</td><td>3.334427</td><td>3.430526</td><td>3.282007</td><td>3.479946</td><td>3.185831</td><td>3.047845</td></tr>\n",
              "\t<tr><th scope=row>1431_PM_at</th><td>3.733856</td><td>3.539647</td><td>3.438108</td><td>3.700839</td><td>3.702347</td><td>3.460528</td><td>3.856685</td><td>3.729152</td><td>3.581554</td><td>3.586390</td><td>⋯</td><td>3.687228</td><td>3.754468</td><td>3.400861</td><td>4.057299</td><td>3.642167</td><td>3.478233</td><td>4.105242</td><td>4.053750</td><td>3.742345</td><td>3.906835</td></tr>\n",
              "\t<tr><th scope=row>1438_PM_at</th><td>7.610252</td><td>7.004654</td><td>6.702438</td><td>6.100804</td><td>6.090036</td><td>6.961523</td><td>7.590945</td><td>6.071426</td><td>6.858493</td><td>5.650750</td><td>⋯</td><td>5.989493</td><td>5.768124</td><td>5.183648</td><td>5.667558</td><td>5.975436</td><td>5.578107</td><td>5.637942</td><td>6.201278</td><td>5.833880</td><td>6.029981</td></tr>\n",
              "\t<tr><th scope=row>1487_PM_at</th><td>5.788125</td><td>7.136023</td><td>6.186522</td><td>5.924929</td><td>6.208900</td><td>6.421186</td><td>6.280378</td><td>6.088713</td><td>6.602386</td><td>6.374070</td><td>⋯</td><td>6.061958</td><td>6.207517</td><td>6.354013</td><td>6.172448</td><td>6.637894</td><td>6.124872</td><td>6.224117</td><td>6.299540</td><td>6.445489</td><td>5.961816</td></tr>\n",
              "\t<tr><th scope=row>1494_PM_f_at</th><td>4.526675</td><td>5.007525</td><td>4.697680</td><td>7.346633</td><td>4.619856</td><td>5.222669</td><td>4.662985</td><td>4.694242</td><td>4.758329</td><td>4.688817</td><td>⋯</td><td>4.808429</td><td>4.324944</td><td>4.716287</td><td>5.167433</td><td>4.727752</td><td>4.488996</td><td>4.540959</td><td>5.003473</td><td>4.466132</td><td>4.499061</td></tr>\n",
              "\t<tr><th scope=row>1552256_PM_a_at</th><td>6.175916</td><td>6.596336</td><td>6.853145</td><td>6.255963</td><td>5.613406</td><td>6.622564</td><td>6.388585</td><td>6.981732</td><td>5.484935</td><td>6.749273</td><td>⋯</td><td>6.034261</td><td>6.318915</td><td>6.624817</td><td>5.737086</td><td>5.455112</td><td>5.877065</td><td>5.777251</td><td>5.950221</td><td>5.819474</td><td>5.395518</td></tr>\n",
              "\t<tr><th scope=row>1552257_PM_a_at</th><td>5.718520</td><td>5.989007</td><td>5.713065</td><td>5.684500</td><td>5.686125</td><td>5.642609</td><td>5.799371</td><td>5.446785</td><td>5.622447</td><td>5.406135</td><td>⋯</td><td>5.215390</td><td>5.517788</td><td>5.494737</td><td>4.541361</td><td>5.381566</td><td>5.195050</td><td>4.839825</td><td>5.147524</td><td>5.220633</td><td>4.987466</td></tr>\n",
              "\t<tr><th scope=row>1552258_PM_at</th><td>6.120856</td><td>5.686528</td><td>6.129119</td><td>5.914609</td><td>6.399094</td><td>6.581994</td><td>6.592915</td><td>5.570232</td><td>6.476941</td><td>6.338501</td><td>⋯</td><td>5.603387</td><td>5.281114</td><td>5.447686</td><td>5.024311</td><td>5.654772</td><td>5.210625</td><td>5.340103</td><td>5.248969</td><td>5.657474</td><td>5.393393</td></tr>\n",
              "\t<tr><th scope=row>1552261_PM_at</th><td>4.859691</td><td>5.017196</td><td>4.565536</td><td>4.960701</td><td>4.669767</td><td>4.389944</td><td>4.721349</td><td>4.570590</td><td>5.228010</td><td>5.837043</td><td>⋯</td><td>4.907119</td><td>5.238682</td><td>4.566476</td><td>5.400525</td><td>4.978317</td><td>4.757484</td><td>5.710688</td><td>5.012431</td><td>6.381543</td><td>4.681431</td></tr>\n",
              "\t<tr><th scope=row>1552263_PM_at</th><td>4.208919</td><td>3.675481</td><td>3.905913</td><td>3.942027</td><td>4.136753</td><td>3.982833</td><td>3.944142</td><td>3.557496</td><td>3.983942</td><td>3.748262</td><td>⋯</td><td>3.588252</td><td>3.376109</td><td>3.612507</td><td>3.751223</td><td>4.018474</td><td>3.672570</td><td>3.915302</td><td>3.181065</td><td>3.750482</td><td>3.675065</td></tr>\n",
              "\t<tr><th scope=row>1552264_PM_a_at</th><td>9.065565</td><td>8.898784</td><td>9.217201</td><td>8.960346</td><td>9.322506</td><td>8.921966</td><td>8.983366</td><td>8.614708</td><td>9.386170</td><td>8.855714</td><td>⋯</td><td>8.584307</td><td>8.679016</td><td>8.841823</td><td>7.856904</td><td>8.614613</td><td>8.546375</td><td>8.721467</td><td>8.585130</td><td>8.373553</td><td>8.674633</td></tr>\n",
              "\t<tr><th scope=row>1552266_PM_at</th><td>3.394521</td><td>3.266931</td><td>3.300064</td><td>3.342916</td><td>3.409557</td><td>3.517821</td><td>3.445827</td><td>3.473149</td><td>3.095228</td><td>3.510448</td><td>⋯</td><td>3.663224</td><td>3.741129</td><td>3.470521</td><td>4.055955</td><td>3.441005</td><td>3.083271</td><td>3.483106</td><td>3.512454</td><td>3.318655</td><td>3.880566</td></tr>\n",
              "\t<tr><th scope=row>1552269_PM_at</th><td>3.455415</td><td>3.776119</td><td>3.700130</td><td>3.559179</td><td>3.466699</td><td>3.581125</td><td>3.558926</td><td>4.319197</td><td>3.686962</td><td>3.460544</td><td>⋯</td><td>3.377771</td><td>3.685016</td><td>3.356726</td><td>3.788385</td><td>3.331636</td><td>3.583266</td><td>3.622302</td><td>3.738494</td><td>4.013802</td><td>3.409909</td></tr>\n",
              "\t<tr><th scope=row>1552271_PM_at</th><td>5.220450</td><td>5.457247</td><td>5.066827</td><td>5.629885</td><td>5.285212</td><td>5.469515</td><td>5.447031</td><td>5.629642</td><td>5.437954</td><td>5.317467</td><td>⋯</td><td>5.302943</td><td>5.608134</td><td>5.016618</td><td>6.069220</td><td>5.646781</td><td>5.108338</td><td>5.432807</td><td>5.857224</td><td>5.315707</td><td>5.373689</td></tr>\n",
              "\t<tr><th scope=row>1552272_PM_a_at</th><td>5.165224</td><td>5.274808</td><td>5.088125</td><td>4.981484</td><td>5.061699</td><td>5.452313</td><td>5.318931</td><td>5.308035</td><td>5.065224</td><td>4.744614</td><td>⋯</td><td>4.984220</td><td>4.862046</td><td>4.910663</td><td>5.161933</td><td>4.511387</td><td>4.568073</td><td>4.694518</td><td>5.378836</td><td>5.048058</td><td>5.090953</td></tr>\n",
              "\t<tr><th scope=row>1552274_PM_at</th><td>5.183767</td><td>5.599022</td><td>5.523847</td><td>5.787182</td><td>5.587673</td><td>5.908624</td><td>5.657962</td><td>4.907619</td><td>5.283485</td><td>5.580372</td><td>⋯</td><td>5.980234</td><td>5.502985</td><td>5.605563</td><td>6.375463</td><td>5.511904</td><td>6.114137</td><td>6.333841</td><td>6.637212</td><td>6.019013</td><td>5.654522</td></tr>\n",
              "\t<tr><th scope=row>1552275_PM_s_at</th><td>6.063618</td><td>5.805057</td><td>6.171927</td><td>6.363907</td><td>5.935886</td><td>5.929836</td><td>6.374152</td><td>5.404390</td><td>5.529999</td><td>6.110392</td><td>⋯</td><td>6.003798</td><td>6.187132</td><td>6.239480</td><td>5.555113</td><td>6.143220</td><td>6.491463</td><td>6.814779</td><td>5.943121</td><td>6.334576</td><td>5.992864</td></tr>\n",
              "\t<tr><th scope=row>1552276_PM_a_at</th><td>5.926353</td><td>6.501224</td><td>6.286900</td><td>6.191946</td><td>6.307256</td><td>6.275659</td><td>6.097798</td><td>6.107602</td><td>6.773994</td><td>6.568289</td><td>⋯</td><td>6.385783</td><td>5.723349</td><td>5.861922</td><td>6.142083</td><td>6.024705</td><td>6.038508</td><td>5.938182</td><td>6.013510</td><td>6.268556</td><td>6.050134</td></tr>\n",
              "\t<tr><th scope=row>1552277_PM_a_at</th><td>4.735268</td><td>5.138029</td><td>4.513231</td><td>4.225513</td><td>4.097454</td><td>4.508061</td><td>5.246336</td><td>4.806667</td><td>5.533119</td><td>5.603630</td><td>⋯</td><td>4.325725</td><td>4.397455</td><td>4.478868</td><td>3.714017</td><td>3.883221</td><td>4.285750</td><td>4.616572</td><td>4.472302</td><td>4.335842</td><td>4.145857</td></tr>\n",
              "\t<tr><th scope=row>1552278_PM_a_at</th><td>3.810447</td><td>3.849535</td><td>3.930334</td><td>4.375154</td><td>3.818202</td><td>4.475559</td><td>4.570739</td><td>3.530396</td><td>3.986708</td><td>4.695478</td><td>⋯</td><td>4.890325</td><td>5.136979</td><td>5.350373</td><td>5.164471</td><td>4.893221</td><td>5.613742</td><td>4.662284</td><td>5.084240</td><td>5.168315</td><td>3.884383</td></tr>\n",
              "\t<tr><th scope=row>1552279_PM_a_at</th><td>4.570476</td><td>4.628548</td><td>4.573795</td><td>4.883699</td><td>5.085888</td><td>5.114427</td><td>5.007183</td><td>4.314488</td><td>5.134620</td><td>4.949501</td><td>⋯</td><td>4.978972</td><td>5.642967</td><td>5.590975</td><td>5.223452</td><td>5.474585</td><td>6.009787</td><td>5.447022</td><td>4.841001</td><td>5.443408</td><td>5.082711</td></tr>\n",
              "\t<tr><th scope=row>1552280_PM_at</th><td>2.870621</td><td>3.274426</td><td>3.122811</td><td>3.041369</td><td>3.236837</td><td>2.953528</td><td>3.984600</td><td>3.050733</td><td>3.151727</td><td>3.252812</td><td>⋯</td><td>3.143336</td><td>3.729793</td><td>3.202946</td><td>3.338282</td><td>3.241305</td><td>2.988423</td><td>3.080760</td><td>3.569523</td><td>2.946357</td><td>3.137762</td></tr>\n",
              "\t<tr><th scope=row>⋮</th><td>⋮</td><td>⋮</td><td>⋮</td><td>⋮</td><td>⋮</td><td>⋮</td><td>⋮</td><td>⋮</td><td>⋮</td><td>⋮</td><td>⋱</td><td>⋮</td><td>⋮</td><td>⋮</td><td>⋮</td><td>⋮</td><td>⋮</td><td>⋮</td><td>⋮</td><td>⋮</td><td>⋮</td></tr>\n",
              "\t<tr><th scope=row>AFFX-r2-Ec-bioB-M_at</th><td> 6.206346</td><td> 6.991656</td><td> 6.711330</td><td> 6.605047</td><td> 6.419037</td><td> 7.163469</td><td> 6.213469</td><td> 6.687530</td><td> 6.727841</td><td> 6.538699</td><td>⋯</td><td>10.399822</td><td>10.178980</td><td>10.257398</td><td>10.727768</td><td> 9.832932</td><td>10.076804</td><td> 9.764981</td><td>10.713911</td><td>10.183186</td><td> 9.884574</td></tr>\n",
              "\t<tr><th scope=row>AFFX-r2-Ec-bioC-3_at</th><td> 9.444757</td><td> 9.701150</td><td> 9.775212</td><td> 9.663823</td><td> 9.600573</td><td>10.251249</td><td> 9.217058</td><td> 9.808556</td><td> 9.634020</td><td> 9.536962</td><td>⋯</td><td>11.185617</td><td>11.057513</td><td>11.071912</td><td>11.674026</td><td>10.638487</td><td>10.824828</td><td>10.815999</td><td>11.766821</td><td>10.975284</td><td>10.776606</td></tr>\n",
              "\t<tr><th scope=row>AFFX-r2-Ec-bioC-5_at</th><td> 9.475398</td><td> 9.872693</td><td> 9.838519</td><td> 9.770866</td><td> 9.853972</td><td>10.347370</td><td> 9.475349</td><td>10.059193</td><td> 9.847969</td><td> 9.750288</td><td>⋯</td><td>11.219900</td><td>11.018578</td><td>11.132342</td><td>11.872986</td><td>10.883216</td><td>11.044103</td><td>10.945046</td><td>11.827392</td><td>11.227470</td><td>10.685720</td></tr>\n",
              "\t<tr><th scope=row>AFFX-r2-Ec-bioD-3_at</th><td>11.688866</td><td>12.238937</td><td>12.038147</td><td>11.908215</td><td>11.964315</td><td>12.454274</td><td>11.737666</td><td>12.128244</td><td>11.899007</td><td>11.742343</td><td>⋯</td><td>12.886232</td><td>12.801757</td><td>12.762556</td><td>13.101364</td><td>12.640193</td><td>12.554748</td><td>12.596383</td><td>13.184303</td><td>12.857403</td><td>12.782267</td></tr>\n",
              "\t<tr><th scope=row>AFFX-r2-Ec-bioD-5_at</th><td>11.420819</td><td>11.935659</td><td>11.711015</td><td>11.551794</td><td>11.548885</td><td>12.097431</td><td>11.471836</td><td>11.805777</td><td>11.696203</td><td>11.471217</td><td>⋯</td><td>12.362711</td><td>12.398507</td><td>12.284179</td><td>12.698614</td><td>12.280761</td><td>12.191411</td><td>12.103833</td><td>12.771110</td><td>12.314932</td><td>12.391454</td></tr>\n",
              "\t<tr><th scope=row>AFFX-r2-P1-cre-3_at</th><td>13.313835</td><td>13.485951</td><td>13.458908</td><td>13.387272</td><td>13.326656</td><td>13.606033</td><td>13.274434</td><td>13.430699</td><td>13.330122</td><td>13.173560</td><td>⋯</td><td>13.858173</td><td>13.811228</td><td>13.873312</td><td>13.832150</td><td>13.672692</td><td>13.671612</td><td>13.667307</td><td>14.005771</td><td>13.758174</td><td>13.857653</td></tr>\n",
              "\t<tr><th scope=row>AFFX-r2-P1-cre-5_at</th><td>13.051443</td><td>13.292273</td><td>13.268783</td><td>13.177733</td><td>13.106871</td><td>13.410746</td><td>12.931072</td><td>13.131958</td><td>13.034943</td><td>12.823646</td><td>⋯</td><td>13.714327</td><td>13.613645</td><td>13.630676</td><td>13.615001</td><td>13.422067</td><td>13.480590</td><td>13.466508</td><td>13.814316</td><td>13.514400</td><td>13.789310</td></tr>\n",
              "\t<tr><th scope=row>AFFX-r2-TagA_at</th><td> 3.523244</td><td> 3.824111</td><td> 3.459434</td><td> 3.611941</td><td> 3.516737</td><td> 3.690925</td><td> 3.509029</td><td> 3.809023</td><td> 3.669035</td><td> 3.643934</td><td>⋯</td><td> 3.682133</td><td> 3.616704</td><td> 3.628382</td><td> 4.271082</td><td> 3.695145</td><td> 3.495496</td><td> 3.549550</td><td> 4.060019</td><td> 3.600491</td><td> 3.655808</td></tr>\n",
              "\t<tr><th scope=row>AFFX-r2-TagB_at</th><td> 4.383910</td><td> 4.708648</td><td> 4.432899</td><td> 4.526895</td><td> 4.488259</td><td> 4.608074</td><td> 4.580424</td><td> 4.661504</td><td> 4.625802</td><td> 4.716292</td><td>⋯</td><td> 4.386812</td><td> 4.689315</td><td> 4.462116</td><td> 5.072281</td><td> 4.453736</td><td> 4.406650</td><td> 4.287105</td><td> 4.758810</td><td> 4.607904</td><td> 4.734079</td></tr>\n",
              "\t<tr><th scope=row>AFFX-r2-TagC_at</th><td> 2.699883</td><td> 2.930418</td><td> 2.895077</td><td> 2.841102</td><td> 2.940084</td><td> 2.980981</td><td> 2.765654</td><td> 2.913163</td><td> 2.889444</td><td> 2.879680</td><td>⋯</td><td> 2.864582</td><td> 2.784695</td><td> 2.680536</td><td> 3.649778</td><td> 2.747202</td><td> 2.712709</td><td> 3.027214</td><td> 3.145410</td><td> 2.937561</td><td> 3.043163</td></tr>\n",
              "\t<tr><th scope=row>AFFX-r2-TagD_at</th><td> 3.678612</td><td> 4.317831</td><td> 3.630917</td><td> 4.069397</td><td> 3.984527</td><td> 4.351098</td><td> 3.788386</td><td> 4.497050</td><td> 4.117898</td><td> 4.109412</td><td>⋯</td><td> 4.060275</td><td> 4.232263</td><td> 4.316402</td><td> 5.187065</td><td> 3.739662</td><td> 3.823767</td><td> 3.917055</td><td> 4.709099</td><td> 4.162795</td><td> 4.337622</td></tr>\n",
              "\t<tr><th scope=row>AFFX-r2-TagE_at</th><td> 2.810256</td><td> 2.942094</td><td> 2.749979</td><td> 2.832647</td><td> 2.857159</td><td> 3.062247</td><td> 2.847811</td><td> 2.791887</td><td> 2.963075</td><td> 2.769324</td><td>⋯</td><td> 2.857095</td><td> 2.919019</td><td> 3.113097</td><td> 3.568712</td><td> 2.831971</td><td> 2.746883</td><td> 2.645809</td><td> 2.852994</td><td> 2.971102</td><td> 2.947954</td></tr>\n",
              "\t<tr><th scope=row>AFFX-r2-TagF_at</th><td> 3.645858</td><td> 4.269586</td><td> 4.006102</td><td> 4.255848</td><td> 4.150610</td><td> 4.267042</td><td> 4.212577</td><td> 4.214772</td><td> 4.082522</td><td> 4.203976</td><td>⋯</td><td> 4.227882</td><td> 3.919838</td><td> 4.013516</td><td> 4.642268</td><td> 4.273528</td><td> 4.169034</td><td> 3.915246</td><td> 4.465848</td><td> 4.327164</td><td> 3.918879</td></tr>\n",
              "\t<tr><th scope=row>AFFX-r2-TagG_at</th><td> 3.316370</td><td> 3.581908</td><td> 3.056942</td><td> 3.410769</td><td> 3.284309</td><td> 3.618276</td><td> 3.359935</td><td> 3.479047</td><td> 3.491158</td><td> 3.362470</td><td>⋯</td><td> 3.355085</td><td> 3.711451</td><td> 3.379424</td><td> 3.843903</td><td> 3.309006</td><td> 3.352782</td><td> 3.333953</td><td> 3.745820</td><td> 3.402854</td><td> 3.540243</td></tr>\n",
              "\t<tr><th scope=row>AFFX-r2-TagH_at</th><td> 3.167166</td><td> 3.512675</td><td> 3.353169</td><td> 3.283520</td><td> 3.218687</td><td> 3.799080</td><td> 3.347829</td><td> 3.629776</td><td> 3.627991</td><td> 3.695275</td><td>⋯</td><td> 3.332981</td><td> 3.196769</td><td> 3.188798</td><td> 4.126638</td><td> 3.642643</td><td> 3.417962</td><td> 3.444908</td><td> 3.609687</td><td> 3.592507</td><td> 3.475932</td></tr>\n",
              "\t<tr><th scope=row>AFFX-r2-TagIN-3_at</th><td> 3.307161</td><td> 3.824200</td><td> 3.351805</td><td> 3.643437</td><td> 3.542098</td><td> 3.487272</td><td> 3.377926</td><td> 3.687712</td><td> 3.355104</td><td> 3.356845</td><td>⋯</td><td> 3.467579</td><td> 3.235629</td><td> 3.517249</td><td> 4.328894</td><td> 3.507714</td><td> 3.329776</td><td> 3.445722</td><td> 3.608715</td><td> 3.511458</td><td> 3.472844</td></tr>\n",
              "\t<tr><th scope=row>AFFX-r2-TagIN-5_at</th><td> 3.065139</td><td> 3.481522</td><td> 3.080329</td><td> 3.311515</td><td> 3.262023</td><td> 3.431707</td><td> 3.229945</td><td> 3.375576</td><td> 3.282620</td><td> 3.275312</td><td>⋯</td><td> 3.458485</td><td> 3.378340</td><td> 3.558310</td><td> 3.584067</td><td> 3.307731</td><td> 3.134882</td><td> 3.298894</td><td> 3.192620</td><td> 3.429774</td><td> 3.283683</td></tr>\n",
              "\t<tr><th scope=row>AFFX-r2-TagIN-M_at</th><td> 3.164347</td><td> 3.759421</td><td> 3.449879</td><td> 3.503902</td><td> 3.630515</td><td> 3.791123</td><td> 3.579631</td><td> 3.706983</td><td> 3.759666</td><td> 3.606362</td><td>⋯</td><td> 3.611630</td><td> 3.252134</td><td> 3.592723</td><td> 3.786969</td><td> 3.365953</td><td> 3.533912</td><td> 3.516784</td><td> 3.837090</td><td> 3.489005</td><td> 3.598844</td></tr>\n",
              "\t<tr><th scope=row>AFFX-r2-TagJ-3_at</th><td> 3.985617</td><td> 4.121967</td><td> 4.170324</td><td> 4.035717</td><td> 3.909104</td><td> 4.501956</td><td> 4.088104</td><td> 3.944891</td><td> 4.075566</td><td> 4.323960</td><td>⋯</td><td> 3.794481</td><td> 3.839005</td><td> 4.286551</td><td> 4.202446</td><td> 4.241039</td><td> 4.100354</td><td> 4.068351</td><td> 3.585064</td><td> 3.769250</td><td> 3.875789</td></tr>\n",
              "\t<tr><th scope=row>AFFX-r2-TagJ-5_at</th><td> 2.835899</td><td> 3.167495</td><td> 3.005392</td><td> 2.795883</td><td> 2.958170</td><td> 3.002738</td><td> 2.977597</td><td> 2.899119</td><td> 3.186762</td><td> 3.106919</td><td>⋯</td><td> 3.047260</td><td> 3.014277</td><td> 2.952087</td><td> 3.883303</td><td> 3.276816</td><td> 2.849243</td><td> 3.007336</td><td> 2.963200</td><td> 3.047950</td><td> 2.959284</td></tr>\n",
              "\t<tr><th scope=row>AFFX-r2-TagO-3_at</th><td> 3.117956</td><td> 3.535316</td><td> 3.209264</td><td> 3.221393</td><td> 3.215291</td><td> 3.551413</td><td> 3.369410</td><td> 3.373935</td><td> 3.254937</td><td> 3.385676</td><td>⋯</td><td> 3.365475</td><td> 3.409748</td><td> 3.570846</td><td> 3.567051</td><td> 3.240954</td><td> 3.090263</td><td> 3.355941</td><td> 3.488553</td><td> 3.338271</td><td> 3.406502</td></tr>\n",
              "\t<tr><th scope=row>AFFX-r2-TagO-5_at</th><td> 3.047157</td><td> 3.431708</td><td> 3.330659</td><td> 3.341041</td><td> 3.566731</td><td> 3.204193</td><td> 3.264422</td><td> 3.405817</td><td> 3.553040</td><td> 3.504425</td><td>⋯</td><td> 3.001414</td><td> 3.235973</td><td> 3.226530</td><td> 3.529287</td><td> 3.060954</td><td> 3.067836</td><td> 3.212776</td><td> 3.260856</td><td> 2.960611</td><td> 3.030411</td></tr>\n",
              "\t<tr><th scope=row>AFFX-r2-TagQ-3_at</th><td> 3.071249</td><td> 3.685181</td><td> 3.477734</td><td> 3.404597</td><td> 3.312801</td><td> 3.384805</td><td> 3.514775</td><td> 3.559333</td><td> 3.603369</td><td> 3.570392</td><td>⋯</td><td> 3.327272</td><td> 3.255692</td><td> 3.234356</td><td> 3.836111</td><td> 3.882375</td><td> 3.678365</td><td> 3.136699</td><td> 4.134082</td><td> 3.291691</td><td> 3.699374</td></tr>\n",
              "\t<tr><th scope=row>AFFX-r2-TagQ-5_at</th><td> 3.569393</td><td> 4.022193</td><td> 3.791581</td><td> 3.543309</td><td> 3.549559</td><td> 3.568266</td><td> 3.626582</td><td> 3.772964</td><td> 3.836052</td><td> 3.918502</td><td>⋯</td><td> 3.500579</td><td> 3.682433</td><td> 3.632227</td><td> 3.514454</td><td> 3.788481</td><td> 3.344181</td><td> 3.973577</td><td> 3.819999</td><td> 3.647019</td><td> 3.701474</td></tr>\n",
              "\t<tr><th scope=row>AFFX-ThrX-3_at</th><td> 5.401454</td><td> 5.670560</td><td> 5.312411</td><td> 5.394079</td><td> 5.304960</td><td> 5.703434</td><td> 5.444171</td><td> 5.424428</td><td> 5.605376</td><td> 5.447614</td><td>⋯</td><td> 5.375420</td><td> 5.200523</td><td> 5.262061</td><td> 5.506354</td><td> 5.028747</td><td> 5.105038</td><td> 5.233263</td><td> 4.961615</td><td> 5.391048</td><td> 5.222846</td></tr>\n",
              "\t<tr><th scope=row>AFFX-ThrX-5_at</th><td> 3.503531</td><td> 3.754342</td><td> 3.621420</td><td> 3.597073</td><td> 3.450297</td><td> 3.709608</td><td> 3.745658</td><td> 3.749129</td><td> 3.857364</td><td> 3.578071</td><td>⋯</td><td> 3.392356</td><td> 3.551869</td><td> 3.706591</td><td> 4.510672</td><td> 3.452462</td><td> 3.388442</td><td> 3.724406</td><td> 3.739153</td><td> 3.670171</td><td> 3.597497</td></tr>\n",
              "\t<tr><th scope=row>AFFX-ThrX-M_at</th><td> 3.809207</td><td> 4.016082</td><td> 3.787557</td><td> 3.889417</td><td> 3.895821</td><td> 3.968783</td><td> 3.868369</td><td> 4.098820</td><td> 3.726171</td><td> 4.047202</td><td>⋯</td><td> 3.966562</td><td> 3.874095</td><td> 3.732510</td><td> 4.056094</td><td> 3.973047</td><td> 3.699432</td><td> 3.789657</td><td> 3.757168</td><td> 3.974066</td><td> 3.993834</td></tr>\n",
              "\t<tr><th scope=row>AFFX-TrpnX-3_at</th><td> 3.265365</td><td> 3.339168</td><td> 3.307359</td><td> 3.185923</td><td> 3.195152</td><td> 3.335317</td><td> 3.190299</td><td> 3.459762</td><td> 3.394946</td><td> 3.384897</td><td>⋯</td><td> 3.299135</td><td> 3.163061</td><td> 3.397570</td><td> 3.870384</td><td> 3.157707</td><td> 3.055493</td><td> 3.203055</td><td> 3.348073</td><td> 3.165001</td><td> 3.604398</td></tr>\n",
              "\t<tr><th scope=row>AFFX-TrpnX-5_at</th><td> 3.025283</td><td> 3.184374</td><td> 2.999147</td><td> 3.092109</td><td> 2.971140</td><td> 3.033708</td><td> 3.092448</td><td> 2.971268</td><td> 3.019203</td><td> 3.075111</td><td>⋯</td><td> 3.280260</td><td> 3.103965</td><td> 3.121383</td><td> 3.520557</td><td> 3.114530</td><td> 3.028562</td><td> 3.089924</td><td> 3.215887</td><td> 3.308247</td><td> 3.257296</td></tr>\n",
              "\t<tr><th scope=row>AFFX-TrpnX-M_at</th><td> 4.046307</td><td> 4.299740</td><td> 3.977641</td><td> 4.053675</td><td> 4.000778</td><td> 4.284038</td><td> 3.943451</td><td> 4.101517</td><td> 4.222448</td><td> 4.079160</td><td>⋯</td><td> 3.870091</td><td> 4.081766</td><td> 3.884419</td><td> 4.615082</td><td> 4.208954</td><td> 4.047930</td><td> 3.993888</td><td> 4.196950</td><td> 4.118002</td><td> 4.171202</td></tr>\n",
              "</tbody>\n",
              "</table>\n"
            ],
            "text/markdown": "\nA matrix: 54715 × 280 of type dbl\n\n| <!--/--> | GSM2772660 | GSM2772661 | GSM2772662 | GSM2772663 | GSM2772664 | GSM2772665 | GSM2772666 | GSM2772667 | GSM2772668 | GSM2772669 | ⋯ | GSM2772930 | GSM2772931 | GSM2772932 | GSM2772933 | GSM2772934 | GSM2772935 | GSM2772936 | GSM2772937 | GSM2772938 | GSM2772939 |\n|---|---|---|---|---|---|---|---|---|---|---|---|---|---|---|---|---|---|---|---|---|---|\n| 1007_PM_s_at | 8.710718 | 8.874406 | 9.157600 | 7.710366 | 7.889133 | 9.187891 | 8.502790 | 7.985991 | 9.288803 | 8.037423 | ⋯ | 7.591758 | 8.417337 | 8.773584 | 6.014932 | 8.118485 | 7.750079 | 7.864324 | 7.541111 | 8.390298 | 7.755427 |\n| 1053_PM_at | 4.646897 | 5.946730 | 5.769209 | 4.512610 | 6.000142 | 4.529334 | 5.326246 | 5.772236 | 5.757419 | 5.547636 | ⋯ | 4.757886 | 4.622830 | 4.427917 | 4.139551 | 4.374756 | 4.173053 | 4.259325 | 4.522224 | 4.355016 | 4.367581 |\n| 117_PM_at | 6.850312 | 7.420204 | 7.277934 | 7.036745 | 7.085630 | 7.001320 | 7.226530 | 7.395984 | 6.985698 | 7.915826 | ⋯ | 7.579409 | 6.720147 | 6.928376 | 7.491676 | 6.353371 | 6.424754 | 6.478735 | 6.865915 | 6.765574 | 7.624744 |\n| 121_PM_at | 5.699862 | 5.955848 | 5.819856 | 5.992074 | 5.965098 | 5.978569 | 5.975539 | 6.133506 | 5.623385 | 5.919976 | ⋯ | 6.244688 | 6.067174 | 5.778329 | 6.482538 | 5.982061 | 6.619358 | 7.989656 | 6.025906 | 6.136103 | 6.106748 |\n| 1255_PM_g_at | 3.344434 | 3.252921 | 3.121310 | 3.304214 | 3.206685 | 3.123327 | 3.070930 | 3.161671 | 3.308474 | 3.214317 | ⋯ | 3.321744 | 3.119197 | 3.081535 | 3.376316 | 3.253850 | 3.114041 | 3.135294 | 3.328501 | 3.282186 | 3.310275 |\n| 1294_PM_at | 5.868637 | 6.131208 | 6.343273 | 6.553460 | 6.514260 | 6.147398 | 6.229095 | 6.772412 | 6.389352 | 7.125314 | ⋯ | 7.610335 | 6.775906 | 5.846778 | 7.738880 | 6.734127 | 6.403276 | 6.953802 | 7.491566 | 7.041392 | 6.623066 |\n| 1316_PM_at | 6.328466 | 6.503984 | 6.757951 | 6.548922 | 6.122024 | 6.445232 | 6.397701 | 6.042659 | 6.081688 | 6.235222 | ⋯ | 7.028600 | 6.991170 | 6.469142 | 7.427648 | 7.080309 | 6.887373 | 7.364023 | 7.143206 | 6.903466 | 6.689848 |\n| 1320_PM_at | 6.208219 | 5.571839 | 6.507097 | 6.199720 | 6.203894 | 6.529891 | 6.313014 | 5.330517 | 6.254045 | 5.597243 | ⋯ | 6.419826 | 6.056686 | 6.181039 | 6.609450 | 6.593351 | 6.472842 | 6.761640 | 6.799355 | 6.475198 | 7.006135 |\n| 1405_PM_i_at | 3.132818 | 3.415128 | 3.778575 | 3.466669 | 3.514805 | 3.487149 | 3.494214 | 3.475587 | 3.346958 | 4.211679 | ⋯ | 3.892010 | 3.380310 | 3.324342 | 3.983311 | 3.334427 | 3.430526 | 3.282007 | 3.479946 | 3.185831 | 3.047845 |\n| 1431_PM_at | 3.733856 | 3.539647 | 3.438108 | 3.700839 | 3.702347 | 3.460528 | 3.856685 | 3.729152 | 3.581554 | 3.586390 | ⋯ | 3.687228 | 3.754468 | 3.400861 | 4.057299 | 3.642167 | 3.478233 | 4.105242 | 4.053750 | 3.742345 | 3.906835 |\n| 1438_PM_at | 7.610252 | 7.004654 | 6.702438 | 6.100804 | 6.090036 | 6.961523 | 7.590945 | 6.071426 | 6.858493 | 5.650750 | ⋯ | 5.989493 | 5.768124 | 5.183648 | 5.667558 | 5.975436 | 5.578107 | 5.637942 | 6.201278 | 5.833880 | 6.029981 |\n| 1487_PM_at | 5.788125 | 7.136023 | 6.186522 | 5.924929 | 6.208900 | 6.421186 | 6.280378 | 6.088713 | 6.602386 | 6.374070 | ⋯ | 6.061958 | 6.207517 | 6.354013 | 6.172448 | 6.637894 | 6.124872 | 6.224117 | 6.299540 | 6.445489 | 5.961816 |\n| 1494_PM_f_at | 4.526675 | 5.007525 | 4.697680 | 7.346633 | 4.619856 | 5.222669 | 4.662985 | 4.694242 | 4.758329 | 4.688817 | ⋯ | 4.808429 | 4.324944 | 4.716287 | 5.167433 | 4.727752 | 4.488996 | 4.540959 | 5.003473 | 4.466132 | 4.499061 |\n| 1552256_PM_a_at | 6.175916 | 6.596336 | 6.853145 | 6.255963 | 5.613406 | 6.622564 | 6.388585 | 6.981732 | 5.484935 | 6.749273 | ⋯ | 6.034261 | 6.318915 | 6.624817 | 5.737086 | 5.455112 | 5.877065 | 5.777251 | 5.950221 | 5.819474 | 5.395518 |\n| 1552257_PM_a_at | 5.718520 | 5.989007 | 5.713065 | 5.684500 | 5.686125 | 5.642609 | 5.799371 | 5.446785 | 5.622447 | 5.406135 | ⋯ | 5.215390 | 5.517788 | 5.494737 | 4.541361 | 5.381566 | 5.195050 | 4.839825 | 5.147524 | 5.220633 | 4.987466 |\n| 1552258_PM_at | 6.120856 | 5.686528 | 6.129119 | 5.914609 | 6.399094 | 6.581994 | 6.592915 | 5.570232 | 6.476941 | 6.338501 | ⋯ | 5.603387 | 5.281114 | 5.447686 | 5.024311 | 5.654772 | 5.210625 | 5.340103 | 5.248969 | 5.657474 | 5.393393 |\n| 1552261_PM_at | 4.859691 | 5.017196 | 4.565536 | 4.960701 | 4.669767 | 4.389944 | 4.721349 | 4.570590 | 5.228010 | 5.837043 | ⋯ | 4.907119 | 5.238682 | 4.566476 | 5.400525 | 4.978317 | 4.757484 | 5.710688 | 5.012431 | 6.381543 | 4.681431 |\n| 1552263_PM_at | 4.208919 | 3.675481 | 3.905913 | 3.942027 | 4.136753 | 3.982833 | 3.944142 | 3.557496 | 3.983942 | 3.748262 | ⋯ | 3.588252 | 3.376109 | 3.612507 | 3.751223 | 4.018474 | 3.672570 | 3.915302 | 3.181065 | 3.750482 | 3.675065 |\n| 1552264_PM_a_at | 9.065565 | 8.898784 | 9.217201 | 8.960346 | 9.322506 | 8.921966 | 8.983366 | 8.614708 | 9.386170 | 8.855714 | ⋯ | 8.584307 | 8.679016 | 8.841823 | 7.856904 | 8.614613 | 8.546375 | 8.721467 | 8.585130 | 8.373553 | 8.674633 |\n| 1552266_PM_at | 3.394521 | 3.266931 | 3.300064 | 3.342916 | 3.409557 | 3.517821 | 3.445827 | 3.473149 | 3.095228 | 3.510448 | ⋯ | 3.663224 | 3.741129 | 3.470521 | 4.055955 | 3.441005 | 3.083271 | 3.483106 | 3.512454 | 3.318655 | 3.880566 |\n| 1552269_PM_at | 3.455415 | 3.776119 | 3.700130 | 3.559179 | 3.466699 | 3.581125 | 3.558926 | 4.319197 | 3.686962 | 3.460544 | ⋯ | 3.377771 | 3.685016 | 3.356726 | 3.788385 | 3.331636 | 3.583266 | 3.622302 | 3.738494 | 4.013802 | 3.409909 |\n| 1552271_PM_at | 5.220450 | 5.457247 | 5.066827 | 5.629885 | 5.285212 | 5.469515 | 5.447031 | 5.629642 | 5.437954 | 5.317467 | ⋯ | 5.302943 | 5.608134 | 5.016618 | 6.069220 | 5.646781 | 5.108338 | 5.432807 | 5.857224 | 5.315707 | 5.373689 |\n| 1552272_PM_a_at | 5.165224 | 5.274808 | 5.088125 | 4.981484 | 5.061699 | 5.452313 | 5.318931 | 5.308035 | 5.065224 | 4.744614 | ⋯ | 4.984220 | 4.862046 | 4.910663 | 5.161933 | 4.511387 | 4.568073 | 4.694518 | 5.378836 | 5.048058 | 5.090953 |\n| 1552274_PM_at | 5.183767 | 5.599022 | 5.523847 | 5.787182 | 5.587673 | 5.908624 | 5.657962 | 4.907619 | 5.283485 | 5.580372 | ⋯ | 5.980234 | 5.502985 | 5.605563 | 6.375463 | 5.511904 | 6.114137 | 6.333841 | 6.637212 | 6.019013 | 5.654522 |\n| 1552275_PM_s_at | 6.063618 | 5.805057 | 6.171927 | 6.363907 | 5.935886 | 5.929836 | 6.374152 | 5.404390 | 5.529999 | 6.110392 | ⋯ | 6.003798 | 6.187132 | 6.239480 | 5.555113 | 6.143220 | 6.491463 | 6.814779 | 5.943121 | 6.334576 | 5.992864 |\n| 1552276_PM_a_at | 5.926353 | 6.501224 | 6.286900 | 6.191946 | 6.307256 | 6.275659 | 6.097798 | 6.107602 | 6.773994 | 6.568289 | ⋯ | 6.385783 | 5.723349 | 5.861922 | 6.142083 | 6.024705 | 6.038508 | 5.938182 | 6.013510 | 6.268556 | 6.050134 |\n| 1552277_PM_a_at | 4.735268 | 5.138029 | 4.513231 | 4.225513 | 4.097454 | 4.508061 | 5.246336 | 4.806667 | 5.533119 | 5.603630 | ⋯ | 4.325725 | 4.397455 | 4.478868 | 3.714017 | 3.883221 | 4.285750 | 4.616572 | 4.472302 | 4.335842 | 4.145857 |\n| 1552278_PM_a_at | 3.810447 | 3.849535 | 3.930334 | 4.375154 | 3.818202 | 4.475559 | 4.570739 | 3.530396 | 3.986708 | 4.695478 | ⋯ | 4.890325 | 5.136979 | 5.350373 | 5.164471 | 4.893221 | 5.613742 | 4.662284 | 5.084240 | 5.168315 | 3.884383 |\n| 1552279_PM_a_at | 4.570476 | 4.628548 | 4.573795 | 4.883699 | 5.085888 | 5.114427 | 5.007183 | 4.314488 | 5.134620 | 4.949501 | ⋯ | 4.978972 | 5.642967 | 5.590975 | 5.223452 | 5.474585 | 6.009787 | 5.447022 | 4.841001 | 5.443408 | 5.082711 |\n| 1552280_PM_at | 2.870621 | 3.274426 | 3.122811 | 3.041369 | 3.236837 | 2.953528 | 3.984600 | 3.050733 | 3.151727 | 3.252812 | ⋯ | 3.143336 | 3.729793 | 3.202946 | 3.338282 | 3.241305 | 2.988423 | 3.080760 | 3.569523 | 2.946357 | 3.137762 |\n| ⋮ | ⋮ | ⋮ | ⋮ | ⋮ | ⋮ | ⋮ | ⋮ | ⋮ | ⋮ | ⋮ | ⋱ | ⋮ | ⋮ | ⋮ | ⋮ | ⋮ | ⋮ | ⋮ | ⋮ | ⋮ | ⋮ |\n| AFFX-r2-Ec-bioB-M_at |  6.206346 |  6.991656 |  6.711330 |  6.605047 |  6.419037 |  7.163469 |  6.213469 |  6.687530 |  6.727841 |  6.538699 | ⋯ | 10.399822 | 10.178980 | 10.257398 | 10.727768 |  9.832932 | 10.076804 |  9.764981 | 10.713911 | 10.183186 |  9.884574 |\n| AFFX-r2-Ec-bioC-3_at |  9.444757 |  9.701150 |  9.775212 |  9.663823 |  9.600573 | 10.251249 |  9.217058 |  9.808556 |  9.634020 |  9.536962 | ⋯ | 11.185617 | 11.057513 | 11.071912 | 11.674026 | 10.638487 | 10.824828 | 10.815999 | 11.766821 | 10.975284 | 10.776606 |\n| AFFX-r2-Ec-bioC-5_at |  9.475398 |  9.872693 |  9.838519 |  9.770866 |  9.853972 | 10.347370 |  9.475349 | 10.059193 |  9.847969 |  9.750288 | ⋯ | 11.219900 | 11.018578 | 11.132342 | 11.872986 | 10.883216 | 11.044103 | 10.945046 | 11.827392 | 11.227470 | 10.685720 |\n| AFFX-r2-Ec-bioD-3_at | 11.688866 | 12.238937 | 12.038147 | 11.908215 | 11.964315 | 12.454274 | 11.737666 | 12.128244 | 11.899007 | 11.742343 | ⋯ | 12.886232 | 12.801757 | 12.762556 | 13.101364 | 12.640193 | 12.554748 | 12.596383 | 13.184303 | 12.857403 | 12.782267 |\n| AFFX-r2-Ec-bioD-5_at | 11.420819 | 11.935659 | 11.711015 | 11.551794 | 11.548885 | 12.097431 | 11.471836 | 11.805777 | 11.696203 | 11.471217 | ⋯ | 12.362711 | 12.398507 | 12.284179 | 12.698614 | 12.280761 | 12.191411 | 12.103833 | 12.771110 | 12.314932 | 12.391454 |\n| AFFX-r2-P1-cre-3_at | 13.313835 | 13.485951 | 13.458908 | 13.387272 | 13.326656 | 13.606033 | 13.274434 | 13.430699 | 13.330122 | 13.173560 | ⋯ | 13.858173 | 13.811228 | 13.873312 | 13.832150 | 13.672692 | 13.671612 | 13.667307 | 14.005771 | 13.758174 | 13.857653 |\n| AFFX-r2-P1-cre-5_at | 13.051443 | 13.292273 | 13.268783 | 13.177733 | 13.106871 | 13.410746 | 12.931072 | 13.131958 | 13.034943 | 12.823646 | ⋯ | 13.714327 | 13.613645 | 13.630676 | 13.615001 | 13.422067 | 13.480590 | 13.466508 | 13.814316 | 13.514400 | 13.789310 |\n| AFFX-r2-TagA_at |  3.523244 |  3.824111 |  3.459434 |  3.611941 |  3.516737 |  3.690925 |  3.509029 |  3.809023 |  3.669035 |  3.643934 | ⋯ |  3.682133 |  3.616704 |  3.628382 |  4.271082 |  3.695145 |  3.495496 |  3.549550 |  4.060019 |  3.600491 |  3.655808 |\n| AFFX-r2-TagB_at |  4.383910 |  4.708648 |  4.432899 |  4.526895 |  4.488259 |  4.608074 |  4.580424 |  4.661504 |  4.625802 |  4.716292 | ⋯ |  4.386812 |  4.689315 |  4.462116 |  5.072281 |  4.453736 |  4.406650 |  4.287105 |  4.758810 |  4.607904 |  4.734079 |\n| AFFX-r2-TagC_at |  2.699883 |  2.930418 |  2.895077 |  2.841102 |  2.940084 |  2.980981 |  2.765654 |  2.913163 |  2.889444 |  2.879680 | ⋯ |  2.864582 |  2.784695 |  2.680536 |  3.649778 |  2.747202 |  2.712709 |  3.027214 |  3.145410 |  2.937561 |  3.043163 |\n| AFFX-r2-TagD_at |  3.678612 |  4.317831 |  3.630917 |  4.069397 |  3.984527 |  4.351098 |  3.788386 |  4.497050 |  4.117898 |  4.109412 | ⋯ |  4.060275 |  4.232263 |  4.316402 |  5.187065 |  3.739662 |  3.823767 |  3.917055 |  4.709099 |  4.162795 |  4.337622 |\n| AFFX-r2-TagE_at |  2.810256 |  2.942094 |  2.749979 |  2.832647 |  2.857159 |  3.062247 |  2.847811 |  2.791887 |  2.963075 |  2.769324 | ⋯ |  2.857095 |  2.919019 |  3.113097 |  3.568712 |  2.831971 |  2.746883 |  2.645809 |  2.852994 |  2.971102 |  2.947954 |\n| AFFX-r2-TagF_at |  3.645858 |  4.269586 |  4.006102 |  4.255848 |  4.150610 |  4.267042 |  4.212577 |  4.214772 |  4.082522 |  4.203976 | ⋯ |  4.227882 |  3.919838 |  4.013516 |  4.642268 |  4.273528 |  4.169034 |  3.915246 |  4.465848 |  4.327164 |  3.918879 |\n| AFFX-r2-TagG_at |  3.316370 |  3.581908 |  3.056942 |  3.410769 |  3.284309 |  3.618276 |  3.359935 |  3.479047 |  3.491158 |  3.362470 | ⋯ |  3.355085 |  3.711451 |  3.379424 |  3.843903 |  3.309006 |  3.352782 |  3.333953 |  3.745820 |  3.402854 |  3.540243 |\n| AFFX-r2-TagH_at |  3.167166 |  3.512675 |  3.353169 |  3.283520 |  3.218687 |  3.799080 |  3.347829 |  3.629776 |  3.627991 |  3.695275 | ⋯ |  3.332981 |  3.196769 |  3.188798 |  4.126638 |  3.642643 |  3.417962 |  3.444908 |  3.609687 |  3.592507 |  3.475932 |\n| AFFX-r2-TagIN-3_at |  3.307161 |  3.824200 |  3.351805 |  3.643437 |  3.542098 |  3.487272 |  3.377926 |  3.687712 |  3.355104 |  3.356845 | ⋯ |  3.467579 |  3.235629 |  3.517249 |  4.328894 |  3.507714 |  3.329776 |  3.445722 |  3.608715 |  3.511458 |  3.472844 |\n| AFFX-r2-TagIN-5_at |  3.065139 |  3.481522 |  3.080329 |  3.311515 |  3.262023 |  3.431707 |  3.229945 |  3.375576 |  3.282620 |  3.275312 | ⋯ |  3.458485 |  3.378340 |  3.558310 |  3.584067 |  3.307731 |  3.134882 |  3.298894 |  3.192620 |  3.429774 |  3.283683 |\n| AFFX-r2-TagIN-M_at |  3.164347 |  3.759421 |  3.449879 |  3.503902 |  3.630515 |  3.791123 |  3.579631 |  3.706983 |  3.759666 |  3.606362 | ⋯ |  3.611630 |  3.252134 |  3.592723 |  3.786969 |  3.365953 |  3.533912 |  3.516784 |  3.837090 |  3.489005 |  3.598844 |\n| AFFX-r2-TagJ-3_at |  3.985617 |  4.121967 |  4.170324 |  4.035717 |  3.909104 |  4.501956 |  4.088104 |  3.944891 |  4.075566 |  4.323960 | ⋯ |  3.794481 |  3.839005 |  4.286551 |  4.202446 |  4.241039 |  4.100354 |  4.068351 |  3.585064 |  3.769250 |  3.875789 |\n| AFFX-r2-TagJ-5_at |  2.835899 |  3.167495 |  3.005392 |  2.795883 |  2.958170 |  3.002738 |  2.977597 |  2.899119 |  3.186762 |  3.106919 | ⋯ |  3.047260 |  3.014277 |  2.952087 |  3.883303 |  3.276816 |  2.849243 |  3.007336 |  2.963200 |  3.047950 |  2.959284 |\n| AFFX-r2-TagO-3_at |  3.117956 |  3.535316 |  3.209264 |  3.221393 |  3.215291 |  3.551413 |  3.369410 |  3.373935 |  3.254937 |  3.385676 | ⋯ |  3.365475 |  3.409748 |  3.570846 |  3.567051 |  3.240954 |  3.090263 |  3.355941 |  3.488553 |  3.338271 |  3.406502 |\n| AFFX-r2-TagO-5_at |  3.047157 |  3.431708 |  3.330659 |  3.341041 |  3.566731 |  3.204193 |  3.264422 |  3.405817 |  3.553040 |  3.504425 | ⋯ |  3.001414 |  3.235973 |  3.226530 |  3.529287 |  3.060954 |  3.067836 |  3.212776 |  3.260856 |  2.960611 |  3.030411 |\n| AFFX-r2-TagQ-3_at |  3.071249 |  3.685181 |  3.477734 |  3.404597 |  3.312801 |  3.384805 |  3.514775 |  3.559333 |  3.603369 |  3.570392 | ⋯ |  3.327272 |  3.255692 |  3.234356 |  3.836111 |  3.882375 |  3.678365 |  3.136699 |  4.134082 |  3.291691 |  3.699374 |\n| AFFX-r2-TagQ-5_at |  3.569393 |  4.022193 |  3.791581 |  3.543309 |  3.549559 |  3.568266 |  3.626582 |  3.772964 |  3.836052 |  3.918502 | ⋯ |  3.500579 |  3.682433 |  3.632227 |  3.514454 |  3.788481 |  3.344181 |  3.973577 |  3.819999 |  3.647019 |  3.701474 |\n| AFFX-ThrX-3_at |  5.401454 |  5.670560 |  5.312411 |  5.394079 |  5.304960 |  5.703434 |  5.444171 |  5.424428 |  5.605376 |  5.447614 | ⋯ |  5.375420 |  5.200523 |  5.262061 |  5.506354 |  5.028747 |  5.105038 |  5.233263 |  4.961615 |  5.391048 |  5.222846 |\n| AFFX-ThrX-5_at |  3.503531 |  3.754342 |  3.621420 |  3.597073 |  3.450297 |  3.709608 |  3.745658 |  3.749129 |  3.857364 |  3.578071 | ⋯ |  3.392356 |  3.551869 |  3.706591 |  4.510672 |  3.452462 |  3.388442 |  3.724406 |  3.739153 |  3.670171 |  3.597497 |\n| AFFX-ThrX-M_at |  3.809207 |  4.016082 |  3.787557 |  3.889417 |  3.895821 |  3.968783 |  3.868369 |  4.098820 |  3.726171 |  4.047202 | ⋯ |  3.966562 |  3.874095 |  3.732510 |  4.056094 |  3.973047 |  3.699432 |  3.789657 |  3.757168 |  3.974066 |  3.993834 |\n| AFFX-TrpnX-3_at |  3.265365 |  3.339168 |  3.307359 |  3.185923 |  3.195152 |  3.335317 |  3.190299 |  3.459762 |  3.394946 |  3.384897 | ⋯ |  3.299135 |  3.163061 |  3.397570 |  3.870384 |  3.157707 |  3.055493 |  3.203055 |  3.348073 |  3.165001 |  3.604398 |\n| AFFX-TrpnX-5_at |  3.025283 |  3.184374 |  2.999147 |  3.092109 |  2.971140 |  3.033708 |  3.092448 |  2.971268 |  3.019203 |  3.075111 | ⋯ |  3.280260 |  3.103965 |  3.121383 |  3.520557 |  3.114530 |  3.028562 |  3.089924 |  3.215887 |  3.308247 |  3.257296 |\n| AFFX-TrpnX-M_at |  4.046307 |  4.299740 |  3.977641 |  4.053675 |  4.000778 |  4.284038 |  3.943451 |  4.101517 |  4.222448 |  4.079160 | ⋯ |  3.870091 |  4.081766 |  3.884419 |  4.615082 |  4.208954 |  4.047930 |  3.993888 |  4.196950 |  4.118002 |  4.171202 |\n\n",
            "text/latex": "A matrix: 54715 × 280 of type dbl\n\\begin{tabular}{r|lllllllllllllllllllll}\n  & GSM2772660 & GSM2772661 & GSM2772662 & GSM2772663 & GSM2772664 & GSM2772665 & GSM2772666 & GSM2772667 & GSM2772668 & GSM2772669 & ⋯ & GSM2772930 & GSM2772931 & GSM2772932 & GSM2772933 & GSM2772934 & GSM2772935 & GSM2772936 & GSM2772937 & GSM2772938 & GSM2772939\\\\\n\\hline\n\t1007\\_PM\\_s\\_at & 8.710718 & 8.874406 & 9.157600 & 7.710366 & 7.889133 & 9.187891 & 8.502790 & 7.985991 & 9.288803 & 8.037423 & ⋯ & 7.591758 & 8.417337 & 8.773584 & 6.014932 & 8.118485 & 7.750079 & 7.864324 & 7.541111 & 8.390298 & 7.755427\\\\\n\t1053\\_PM\\_at & 4.646897 & 5.946730 & 5.769209 & 4.512610 & 6.000142 & 4.529334 & 5.326246 & 5.772236 & 5.757419 & 5.547636 & ⋯ & 4.757886 & 4.622830 & 4.427917 & 4.139551 & 4.374756 & 4.173053 & 4.259325 & 4.522224 & 4.355016 & 4.367581\\\\\n\t117\\_PM\\_at & 6.850312 & 7.420204 & 7.277934 & 7.036745 & 7.085630 & 7.001320 & 7.226530 & 7.395984 & 6.985698 & 7.915826 & ⋯ & 7.579409 & 6.720147 & 6.928376 & 7.491676 & 6.353371 & 6.424754 & 6.478735 & 6.865915 & 6.765574 & 7.624744\\\\\n\t121\\_PM\\_at & 5.699862 & 5.955848 & 5.819856 & 5.992074 & 5.965098 & 5.978569 & 5.975539 & 6.133506 & 5.623385 & 5.919976 & ⋯ & 6.244688 & 6.067174 & 5.778329 & 6.482538 & 5.982061 & 6.619358 & 7.989656 & 6.025906 & 6.136103 & 6.106748\\\\\n\t1255\\_PM\\_g\\_at & 3.344434 & 3.252921 & 3.121310 & 3.304214 & 3.206685 & 3.123327 & 3.070930 & 3.161671 & 3.308474 & 3.214317 & ⋯ & 3.321744 & 3.119197 & 3.081535 & 3.376316 & 3.253850 & 3.114041 & 3.135294 & 3.328501 & 3.282186 & 3.310275\\\\\n\t1294\\_PM\\_at & 5.868637 & 6.131208 & 6.343273 & 6.553460 & 6.514260 & 6.147398 & 6.229095 & 6.772412 & 6.389352 & 7.125314 & ⋯ & 7.610335 & 6.775906 & 5.846778 & 7.738880 & 6.734127 & 6.403276 & 6.953802 & 7.491566 & 7.041392 & 6.623066\\\\\n\t1316\\_PM\\_at & 6.328466 & 6.503984 & 6.757951 & 6.548922 & 6.122024 & 6.445232 & 6.397701 & 6.042659 & 6.081688 & 6.235222 & ⋯ & 7.028600 & 6.991170 & 6.469142 & 7.427648 & 7.080309 & 6.887373 & 7.364023 & 7.143206 & 6.903466 & 6.689848\\\\\n\t1320\\_PM\\_at & 6.208219 & 5.571839 & 6.507097 & 6.199720 & 6.203894 & 6.529891 & 6.313014 & 5.330517 & 6.254045 & 5.597243 & ⋯ & 6.419826 & 6.056686 & 6.181039 & 6.609450 & 6.593351 & 6.472842 & 6.761640 & 6.799355 & 6.475198 & 7.006135\\\\\n\t1405\\_PM\\_i\\_at & 3.132818 & 3.415128 & 3.778575 & 3.466669 & 3.514805 & 3.487149 & 3.494214 & 3.475587 & 3.346958 & 4.211679 & ⋯ & 3.892010 & 3.380310 & 3.324342 & 3.983311 & 3.334427 & 3.430526 & 3.282007 & 3.479946 & 3.185831 & 3.047845\\\\\n\t1431\\_PM\\_at & 3.733856 & 3.539647 & 3.438108 & 3.700839 & 3.702347 & 3.460528 & 3.856685 & 3.729152 & 3.581554 & 3.586390 & ⋯ & 3.687228 & 3.754468 & 3.400861 & 4.057299 & 3.642167 & 3.478233 & 4.105242 & 4.053750 & 3.742345 & 3.906835\\\\\n\t1438\\_PM\\_at & 7.610252 & 7.004654 & 6.702438 & 6.100804 & 6.090036 & 6.961523 & 7.590945 & 6.071426 & 6.858493 & 5.650750 & ⋯ & 5.989493 & 5.768124 & 5.183648 & 5.667558 & 5.975436 & 5.578107 & 5.637942 & 6.201278 & 5.833880 & 6.029981\\\\\n\t1487\\_PM\\_at & 5.788125 & 7.136023 & 6.186522 & 5.924929 & 6.208900 & 6.421186 & 6.280378 & 6.088713 & 6.602386 & 6.374070 & ⋯ & 6.061958 & 6.207517 & 6.354013 & 6.172448 & 6.637894 & 6.124872 & 6.224117 & 6.299540 & 6.445489 & 5.961816\\\\\n\t1494\\_PM\\_f\\_at & 4.526675 & 5.007525 & 4.697680 & 7.346633 & 4.619856 & 5.222669 & 4.662985 & 4.694242 & 4.758329 & 4.688817 & ⋯ & 4.808429 & 4.324944 & 4.716287 & 5.167433 & 4.727752 & 4.488996 & 4.540959 & 5.003473 & 4.466132 & 4.499061\\\\\n\t1552256\\_PM\\_a\\_at & 6.175916 & 6.596336 & 6.853145 & 6.255963 & 5.613406 & 6.622564 & 6.388585 & 6.981732 & 5.484935 & 6.749273 & ⋯ & 6.034261 & 6.318915 & 6.624817 & 5.737086 & 5.455112 & 5.877065 & 5.777251 & 5.950221 & 5.819474 & 5.395518\\\\\n\t1552257\\_PM\\_a\\_at & 5.718520 & 5.989007 & 5.713065 & 5.684500 & 5.686125 & 5.642609 & 5.799371 & 5.446785 & 5.622447 & 5.406135 & ⋯ & 5.215390 & 5.517788 & 5.494737 & 4.541361 & 5.381566 & 5.195050 & 4.839825 & 5.147524 & 5.220633 & 4.987466\\\\\n\t1552258\\_PM\\_at & 6.120856 & 5.686528 & 6.129119 & 5.914609 & 6.399094 & 6.581994 & 6.592915 & 5.570232 & 6.476941 & 6.338501 & ⋯ & 5.603387 & 5.281114 & 5.447686 & 5.024311 & 5.654772 & 5.210625 & 5.340103 & 5.248969 & 5.657474 & 5.393393\\\\\n\t1552261\\_PM\\_at & 4.859691 & 5.017196 & 4.565536 & 4.960701 & 4.669767 & 4.389944 & 4.721349 & 4.570590 & 5.228010 & 5.837043 & ⋯ & 4.907119 & 5.238682 & 4.566476 & 5.400525 & 4.978317 & 4.757484 & 5.710688 & 5.012431 & 6.381543 & 4.681431\\\\\n\t1552263\\_PM\\_at & 4.208919 & 3.675481 & 3.905913 & 3.942027 & 4.136753 & 3.982833 & 3.944142 & 3.557496 & 3.983942 & 3.748262 & ⋯ & 3.588252 & 3.376109 & 3.612507 & 3.751223 & 4.018474 & 3.672570 & 3.915302 & 3.181065 & 3.750482 & 3.675065\\\\\n\t1552264\\_PM\\_a\\_at & 9.065565 & 8.898784 & 9.217201 & 8.960346 & 9.322506 & 8.921966 & 8.983366 & 8.614708 & 9.386170 & 8.855714 & ⋯ & 8.584307 & 8.679016 & 8.841823 & 7.856904 & 8.614613 & 8.546375 & 8.721467 & 8.585130 & 8.373553 & 8.674633\\\\\n\t1552266\\_PM\\_at & 3.394521 & 3.266931 & 3.300064 & 3.342916 & 3.409557 & 3.517821 & 3.445827 & 3.473149 & 3.095228 & 3.510448 & ⋯ & 3.663224 & 3.741129 & 3.470521 & 4.055955 & 3.441005 & 3.083271 & 3.483106 & 3.512454 & 3.318655 & 3.880566\\\\\n\t1552269\\_PM\\_at & 3.455415 & 3.776119 & 3.700130 & 3.559179 & 3.466699 & 3.581125 & 3.558926 & 4.319197 & 3.686962 & 3.460544 & ⋯ & 3.377771 & 3.685016 & 3.356726 & 3.788385 & 3.331636 & 3.583266 & 3.622302 & 3.738494 & 4.013802 & 3.409909\\\\\n\t1552271\\_PM\\_at & 5.220450 & 5.457247 & 5.066827 & 5.629885 & 5.285212 & 5.469515 & 5.447031 & 5.629642 & 5.437954 & 5.317467 & ⋯ & 5.302943 & 5.608134 & 5.016618 & 6.069220 & 5.646781 & 5.108338 & 5.432807 & 5.857224 & 5.315707 & 5.373689\\\\\n\t1552272\\_PM\\_a\\_at & 5.165224 & 5.274808 & 5.088125 & 4.981484 & 5.061699 & 5.452313 & 5.318931 & 5.308035 & 5.065224 & 4.744614 & ⋯ & 4.984220 & 4.862046 & 4.910663 & 5.161933 & 4.511387 & 4.568073 & 4.694518 & 5.378836 & 5.048058 & 5.090953\\\\\n\t1552274\\_PM\\_at & 5.183767 & 5.599022 & 5.523847 & 5.787182 & 5.587673 & 5.908624 & 5.657962 & 4.907619 & 5.283485 & 5.580372 & ⋯ & 5.980234 & 5.502985 & 5.605563 & 6.375463 & 5.511904 & 6.114137 & 6.333841 & 6.637212 & 6.019013 & 5.654522\\\\\n\t1552275\\_PM\\_s\\_at & 6.063618 & 5.805057 & 6.171927 & 6.363907 & 5.935886 & 5.929836 & 6.374152 & 5.404390 & 5.529999 & 6.110392 & ⋯ & 6.003798 & 6.187132 & 6.239480 & 5.555113 & 6.143220 & 6.491463 & 6.814779 & 5.943121 & 6.334576 & 5.992864\\\\\n\t1552276\\_PM\\_a\\_at & 5.926353 & 6.501224 & 6.286900 & 6.191946 & 6.307256 & 6.275659 & 6.097798 & 6.107602 & 6.773994 & 6.568289 & ⋯ & 6.385783 & 5.723349 & 5.861922 & 6.142083 & 6.024705 & 6.038508 & 5.938182 & 6.013510 & 6.268556 & 6.050134\\\\\n\t1552277\\_PM\\_a\\_at & 4.735268 & 5.138029 & 4.513231 & 4.225513 & 4.097454 & 4.508061 & 5.246336 & 4.806667 & 5.533119 & 5.603630 & ⋯ & 4.325725 & 4.397455 & 4.478868 & 3.714017 & 3.883221 & 4.285750 & 4.616572 & 4.472302 & 4.335842 & 4.145857\\\\\n\t1552278\\_PM\\_a\\_at & 3.810447 & 3.849535 & 3.930334 & 4.375154 & 3.818202 & 4.475559 & 4.570739 & 3.530396 & 3.986708 & 4.695478 & ⋯ & 4.890325 & 5.136979 & 5.350373 & 5.164471 & 4.893221 & 5.613742 & 4.662284 & 5.084240 & 5.168315 & 3.884383\\\\\n\t1552279\\_PM\\_a\\_at & 4.570476 & 4.628548 & 4.573795 & 4.883699 & 5.085888 & 5.114427 & 5.007183 & 4.314488 & 5.134620 & 4.949501 & ⋯ & 4.978972 & 5.642967 & 5.590975 & 5.223452 & 5.474585 & 6.009787 & 5.447022 & 4.841001 & 5.443408 & 5.082711\\\\\n\t1552280\\_PM\\_at & 2.870621 & 3.274426 & 3.122811 & 3.041369 & 3.236837 & 2.953528 & 3.984600 & 3.050733 & 3.151727 & 3.252812 & ⋯ & 3.143336 & 3.729793 & 3.202946 & 3.338282 & 3.241305 & 2.988423 & 3.080760 & 3.569523 & 2.946357 & 3.137762\\\\\n\t⋮ & ⋮ & ⋮ & ⋮ & ⋮ & ⋮ & ⋮ & ⋮ & ⋮ & ⋮ & ⋮ & ⋱ & ⋮ & ⋮ & ⋮ & ⋮ & ⋮ & ⋮ & ⋮ & ⋮ & ⋮ & ⋮\\\\\n\tAFFX-r2-Ec-bioB-M\\_at &  6.206346 &  6.991656 &  6.711330 &  6.605047 &  6.419037 &  7.163469 &  6.213469 &  6.687530 &  6.727841 &  6.538699 & ⋯ & 10.399822 & 10.178980 & 10.257398 & 10.727768 &  9.832932 & 10.076804 &  9.764981 & 10.713911 & 10.183186 &  9.884574\\\\\n\tAFFX-r2-Ec-bioC-3\\_at &  9.444757 &  9.701150 &  9.775212 &  9.663823 &  9.600573 & 10.251249 &  9.217058 &  9.808556 &  9.634020 &  9.536962 & ⋯ & 11.185617 & 11.057513 & 11.071912 & 11.674026 & 10.638487 & 10.824828 & 10.815999 & 11.766821 & 10.975284 & 10.776606\\\\\n\tAFFX-r2-Ec-bioC-5\\_at &  9.475398 &  9.872693 &  9.838519 &  9.770866 &  9.853972 & 10.347370 &  9.475349 & 10.059193 &  9.847969 &  9.750288 & ⋯ & 11.219900 & 11.018578 & 11.132342 & 11.872986 & 10.883216 & 11.044103 & 10.945046 & 11.827392 & 11.227470 & 10.685720\\\\\n\tAFFX-r2-Ec-bioD-3\\_at & 11.688866 & 12.238937 & 12.038147 & 11.908215 & 11.964315 & 12.454274 & 11.737666 & 12.128244 & 11.899007 & 11.742343 & ⋯ & 12.886232 & 12.801757 & 12.762556 & 13.101364 & 12.640193 & 12.554748 & 12.596383 & 13.184303 & 12.857403 & 12.782267\\\\\n\tAFFX-r2-Ec-bioD-5\\_at & 11.420819 & 11.935659 & 11.711015 & 11.551794 & 11.548885 & 12.097431 & 11.471836 & 11.805777 & 11.696203 & 11.471217 & ⋯ & 12.362711 & 12.398507 & 12.284179 & 12.698614 & 12.280761 & 12.191411 & 12.103833 & 12.771110 & 12.314932 & 12.391454\\\\\n\tAFFX-r2-P1-cre-3\\_at & 13.313835 & 13.485951 & 13.458908 & 13.387272 & 13.326656 & 13.606033 & 13.274434 & 13.430699 & 13.330122 & 13.173560 & ⋯ & 13.858173 & 13.811228 & 13.873312 & 13.832150 & 13.672692 & 13.671612 & 13.667307 & 14.005771 & 13.758174 & 13.857653\\\\\n\tAFFX-r2-P1-cre-5\\_at & 13.051443 & 13.292273 & 13.268783 & 13.177733 & 13.106871 & 13.410746 & 12.931072 & 13.131958 & 13.034943 & 12.823646 & ⋯ & 13.714327 & 13.613645 & 13.630676 & 13.615001 & 13.422067 & 13.480590 & 13.466508 & 13.814316 & 13.514400 & 13.789310\\\\\n\tAFFX-r2-TagA\\_at &  3.523244 &  3.824111 &  3.459434 &  3.611941 &  3.516737 &  3.690925 &  3.509029 &  3.809023 &  3.669035 &  3.643934 & ⋯ &  3.682133 &  3.616704 &  3.628382 &  4.271082 &  3.695145 &  3.495496 &  3.549550 &  4.060019 &  3.600491 &  3.655808\\\\\n\tAFFX-r2-TagB\\_at &  4.383910 &  4.708648 &  4.432899 &  4.526895 &  4.488259 &  4.608074 &  4.580424 &  4.661504 &  4.625802 &  4.716292 & ⋯ &  4.386812 &  4.689315 &  4.462116 &  5.072281 &  4.453736 &  4.406650 &  4.287105 &  4.758810 &  4.607904 &  4.734079\\\\\n\tAFFX-r2-TagC\\_at &  2.699883 &  2.930418 &  2.895077 &  2.841102 &  2.940084 &  2.980981 &  2.765654 &  2.913163 &  2.889444 &  2.879680 & ⋯ &  2.864582 &  2.784695 &  2.680536 &  3.649778 &  2.747202 &  2.712709 &  3.027214 &  3.145410 &  2.937561 &  3.043163\\\\\n\tAFFX-r2-TagD\\_at &  3.678612 &  4.317831 &  3.630917 &  4.069397 &  3.984527 &  4.351098 &  3.788386 &  4.497050 &  4.117898 &  4.109412 & ⋯ &  4.060275 &  4.232263 &  4.316402 &  5.187065 &  3.739662 &  3.823767 &  3.917055 &  4.709099 &  4.162795 &  4.337622\\\\\n\tAFFX-r2-TagE\\_at &  2.810256 &  2.942094 &  2.749979 &  2.832647 &  2.857159 &  3.062247 &  2.847811 &  2.791887 &  2.963075 &  2.769324 & ⋯ &  2.857095 &  2.919019 &  3.113097 &  3.568712 &  2.831971 &  2.746883 &  2.645809 &  2.852994 &  2.971102 &  2.947954\\\\\n\tAFFX-r2-TagF\\_at &  3.645858 &  4.269586 &  4.006102 &  4.255848 &  4.150610 &  4.267042 &  4.212577 &  4.214772 &  4.082522 &  4.203976 & ⋯ &  4.227882 &  3.919838 &  4.013516 &  4.642268 &  4.273528 &  4.169034 &  3.915246 &  4.465848 &  4.327164 &  3.918879\\\\\n\tAFFX-r2-TagG\\_at &  3.316370 &  3.581908 &  3.056942 &  3.410769 &  3.284309 &  3.618276 &  3.359935 &  3.479047 &  3.491158 &  3.362470 & ⋯ &  3.355085 &  3.711451 &  3.379424 &  3.843903 &  3.309006 &  3.352782 &  3.333953 &  3.745820 &  3.402854 &  3.540243\\\\\n\tAFFX-r2-TagH\\_at &  3.167166 &  3.512675 &  3.353169 &  3.283520 &  3.218687 &  3.799080 &  3.347829 &  3.629776 &  3.627991 &  3.695275 & ⋯ &  3.332981 &  3.196769 &  3.188798 &  4.126638 &  3.642643 &  3.417962 &  3.444908 &  3.609687 &  3.592507 &  3.475932\\\\\n\tAFFX-r2-TagIN-3\\_at &  3.307161 &  3.824200 &  3.351805 &  3.643437 &  3.542098 &  3.487272 &  3.377926 &  3.687712 &  3.355104 &  3.356845 & ⋯ &  3.467579 &  3.235629 &  3.517249 &  4.328894 &  3.507714 &  3.329776 &  3.445722 &  3.608715 &  3.511458 &  3.472844\\\\\n\tAFFX-r2-TagIN-5\\_at &  3.065139 &  3.481522 &  3.080329 &  3.311515 &  3.262023 &  3.431707 &  3.229945 &  3.375576 &  3.282620 &  3.275312 & ⋯ &  3.458485 &  3.378340 &  3.558310 &  3.584067 &  3.307731 &  3.134882 &  3.298894 &  3.192620 &  3.429774 &  3.283683\\\\\n\tAFFX-r2-TagIN-M\\_at &  3.164347 &  3.759421 &  3.449879 &  3.503902 &  3.630515 &  3.791123 &  3.579631 &  3.706983 &  3.759666 &  3.606362 & ⋯ &  3.611630 &  3.252134 &  3.592723 &  3.786969 &  3.365953 &  3.533912 &  3.516784 &  3.837090 &  3.489005 &  3.598844\\\\\n\tAFFX-r2-TagJ-3\\_at &  3.985617 &  4.121967 &  4.170324 &  4.035717 &  3.909104 &  4.501956 &  4.088104 &  3.944891 &  4.075566 &  4.323960 & ⋯ &  3.794481 &  3.839005 &  4.286551 &  4.202446 &  4.241039 &  4.100354 &  4.068351 &  3.585064 &  3.769250 &  3.875789\\\\\n\tAFFX-r2-TagJ-5\\_at &  2.835899 &  3.167495 &  3.005392 &  2.795883 &  2.958170 &  3.002738 &  2.977597 &  2.899119 &  3.186762 &  3.106919 & ⋯ &  3.047260 &  3.014277 &  2.952087 &  3.883303 &  3.276816 &  2.849243 &  3.007336 &  2.963200 &  3.047950 &  2.959284\\\\\n\tAFFX-r2-TagO-3\\_at &  3.117956 &  3.535316 &  3.209264 &  3.221393 &  3.215291 &  3.551413 &  3.369410 &  3.373935 &  3.254937 &  3.385676 & ⋯ &  3.365475 &  3.409748 &  3.570846 &  3.567051 &  3.240954 &  3.090263 &  3.355941 &  3.488553 &  3.338271 &  3.406502\\\\\n\tAFFX-r2-TagO-5\\_at &  3.047157 &  3.431708 &  3.330659 &  3.341041 &  3.566731 &  3.204193 &  3.264422 &  3.405817 &  3.553040 &  3.504425 & ⋯ &  3.001414 &  3.235973 &  3.226530 &  3.529287 &  3.060954 &  3.067836 &  3.212776 &  3.260856 &  2.960611 &  3.030411\\\\\n\tAFFX-r2-TagQ-3\\_at &  3.071249 &  3.685181 &  3.477734 &  3.404597 &  3.312801 &  3.384805 &  3.514775 &  3.559333 &  3.603369 &  3.570392 & ⋯ &  3.327272 &  3.255692 &  3.234356 &  3.836111 &  3.882375 &  3.678365 &  3.136699 &  4.134082 &  3.291691 &  3.699374\\\\\n\tAFFX-r2-TagQ-5\\_at &  3.569393 &  4.022193 &  3.791581 &  3.543309 &  3.549559 &  3.568266 &  3.626582 &  3.772964 &  3.836052 &  3.918502 & ⋯ &  3.500579 &  3.682433 &  3.632227 &  3.514454 &  3.788481 &  3.344181 &  3.973577 &  3.819999 &  3.647019 &  3.701474\\\\\n\tAFFX-ThrX-3\\_at &  5.401454 &  5.670560 &  5.312411 &  5.394079 &  5.304960 &  5.703434 &  5.444171 &  5.424428 &  5.605376 &  5.447614 & ⋯ &  5.375420 &  5.200523 &  5.262061 &  5.506354 &  5.028747 &  5.105038 &  5.233263 &  4.961615 &  5.391048 &  5.222846\\\\\n\tAFFX-ThrX-5\\_at &  3.503531 &  3.754342 &  3.621420 &  3.597073 &  3.450297 &  3.709608 &  3.745658 &  3.749129 &  3.857364 &  3.578071 & ⋯ &  3.392356 &  3.551869 &  3.706591 &  4.510672 &  3.452462 &  3.388442 &  3.724406 &  3.739153 &  3.670171 &  3.597497\\\\\n\tAFFX-ThrX-M\\_at &  3.809207 &  4.016082 &  3.787557 &  3.889417 &  3.895821 &  3.968783 &  3.868369 &  4.098820 &  3.726171 &  4.047202 & ⋯ &  3.966562 &  3.874095 &  3.732510 &  4.056094 &  3.973047 &  3.699432 &  3.789657 &  3.757168 &  3.974066 &  3.993834\\\\\n\tAFFX-TrpnX-3\\_at &  3.265365 &  3.339168 &  3.307359 &  3.185923 &  3.195152 &  3.335317 &  3.190299 &  3.459762 &  3.394946 &  3.384897 & ⋯ &  3.299135 &  3.163061 &  3.397570 &  3.870384 &  3.157707 &  3.055493 &  3.203055 &  3.348073 &  3.165001 &  3.604398\\\\\n\tAFFX-TrpnX-5\\_at &  3.025283 &  3.184374 &  2.999147 &  3.092109 &  2.971140 &  3.033708 &  3.092448 &  2.971268 &  3.019203 &  3.075111 & ⋯ &  3.280260 &  3.103965 &  3.121383 &  3.520557 &  3.114530 &  3.028562 &  3.089924 &  3.215887 &  3.308247 &  3.257296\\\\\n\tAFFX-TrpnX-M\\_at &  4.046307 &  4.299740 &  3.977641 &  4.053675 &  4.000778 &  4.284038 &  3.943451 &  4.101517 &  4.222448 &  4.079160 & ⋯ &  3.870091 &  4.081766 &  3.884419 &  4.615082 &  4.208954 &  4.047930 &  3.993888 &  4.196950 &  4.118002 &  4.171202\\\\\n\\end{tabular}\n",
            "text/plain": [
              "                     GSM2772660 GSM2772661 GSM2772662 GSM2772663 GSM2772664\n",
              "1007_PM_s_at         8.710718   8.874406   9.157600   7.710366   7.889133  \n",
              "1053_PM_at           4.646897   5.946730   5.769209   4.512610   6.000142  \n",
              "117_PM_at            6.850312   7.420204   7.277934   7.036745   7.085630  \n",
              "121_PM_at            5.699862   5.955848   5.819856   5.992074   5.965098  \n",
              "1255_PM_g_at         3.344434   3.252921   3.121310   3.304214   3.206685  \n",
              "1294_PM_at           5.868637   6.131208   6.343273   6.553460   6.514260  \n",
              "1316_PM_at           6.328466   6.503984   6.757951   6.548922   6.122024  \n",
              "1320_PM_at           6.208219   5.571839   6.507097   6.199720   6.203894  \n",
              "1405_PM_i_at         3.132818   3.415128   3.778575   3.466669   3.514805  \n",
              "1431_PM_at           3.733856   3.539647   3.438108   3.700839   3.702347  \n",
              "1438_PM_at           7.610252   7.004654   6.702438   6.100804   6.090036  \n",
              "1487_PM_at           5.788125   7.136023   6.186522   5.924929   6.208900  \n",
              "1494_PM_f_at         4.526675   5.007525   4.697680   7.346633   4.619856  \n",
              "1552256_PM_a_at      6.175916   6.596336   6.853145   6.255963   5.613406  \n",
              "1552257_PM_a_at      5.718520   5.989007   5.713065   5.684500   5.686125  \n",
              "1552258_PM_at        6.120856   5.686528   6.129119   5.914609   6.399094  \n",
              "1552261_PM_at        4.859691   5.017196   4.565536   4.960701   4.669767  \n",
              "1552263_PM_at        4.208919   3.675481   3.905913   3.942027   4.136753  \n",
              "1552264_PM_a_at      9.065565   8.898784   9.217201   8.960346   9.322506  \n",
              "1552266_PM_at        3.394521   3.266931   3.300064   3.342916   3.409557  \n",
              "1552269_PM_at        3.455415   3.776119   3.700130   3.559179   3.466699  \n",
              "1552271_PM_at        5.220450   5.457247   5.066827   5.629885   5.285212  \n",
              "1552272_PM_a_at      5.165224   5.274808   5.088125   4.981484   5.061699  \n",
              "1552274_PM_at        5.183767   5.599022   5.523847   5.787182   5.587673  \n",
              "1552275_PM_s_at      6.063618   5.805057   6.171927   6.363907   5.935886  \n",
              "1552276_PM_a_at      5.926353   6.501224   6.286900   6.191946   6.307256  \n",
              "1552277_PM_a_at      4.735268   5.138029   4.513231   4.225513   4.097454  \n",
              "1552278_PM_a_at      3.810447   3.849535   3.930334   4.375154   3.818202  \n",
              "1552279_PM_a_at      4.570476   4.628548   4.573795   4.883699   5.085888  \n",
              "1552280_PM_at        2.870621   3.274426   3.122811   3.041369   3.236837  \n",
              "⋮                    ⋮          ⋮          ⋮          ⋮          ⋮         \n",
              "AFFX-r2-Ec-bioB-M_at  6.206346   6.991656   6.711330   6.605047   6.419037 \n",
              "AFFX-r2-Ec-bioC-3_at  9.444757   9.701150   9.775212   9.663823   9.600573 \n",
              "AFFX-r2-Ec-bioC-5_at  9.475398   9.872693   9.838519   9.770866   9.853972 \n",
              "AFFX-r2-Ec-bioD-3_at 11.688866  12.238937  12.038147  11.908215  11.964315 \n",
              "AFFX-r2-Ec-bioD-5_at 11.420819  11.935659  11.711015  11.551794  11.548885 \n",
              "AFFX-r2-P1-cre-3_at  13.313835  13.485951  13.458908  13.387272  13.326656 \n",
              "AFFX-r2-P1-cre-5_at  13.051443  13.292273  13.268783  13.177733  13.106871 \n",
              "AFFX-r2-TagA_at       3.523244   3.824111   3.459434   3.611941   3.516737 \n",
              "AFFX-r2-TagB_at       4.383910   4.708648   4.432899   4.526895   4.488259 \n",
              "AFFX-r2-TagC_at       2.699883   2.930418   2.895077   2.841102   2.940084 \n",
              "AFFX-r2-TagD_at       3.678612   4.317831   3.630917   4.069397   3.984527 \n",
              "AFFX-r2-TagE_at       2.810256   2.942094   2.749979   2.832647   2.857159 \n",
              "AFFX-r2-TagF_at       3.645858   4.269586   4.006102   4.255848   4.150610 \n",
              "AFFX-r2-TagG_at       3.316370   3.581908   3.056942   3.410769   3.284309 \n",
              "AFFX-r2-TagH_at       3.167166   3.512675   3.353169   3.283520   3.218687 \n",
              "AFFX-r2-TagIN-3_at    3.307161   3.824200   3.351805   3.643437   3.542098 \n",
              "AFFX-r2-TagIN-5_at    3.065139   3.481522   3.080329   3.311515   3.262023 \n",
              "AFFX-r2-TagIN-M_at    3.164347   3.759421   3.449879   3.503902   3.630515 \n",
              "AFFX-r2-TagJ-3_at     3.985617   4.121967   4.170324   4.035717   3.909104 \n",
              "AFFX-r2-TagJ-5_at     2.835899   3.167495   3.005392   2.795883   2.958170 \n",
              "AFFX-r2-TagO-3_at     3.117956   3.535316   3.209264   3.221393   3.215291 \n",
              "AFFX-r2-TagO-5_at     3.047157   3.431708   3.330659   3.341041   3.566731 \n",
              "AFFX-r2-TagQ-3_at     3.071249   3.685181   3.477734   3.404597   3.312801 \n",
              "AFFX-r2-TagQ-5_at     3.569393   4.022193   3.791581   3.543309   3.549559 \n",
              "AFFX-ThrX-3_at        5.401454   5.670560   5.312411   5.394079   5.304960 \n",
              "AFFX-ThrX-5_at        3.503531   3.754342   3.621420   3.597073   3.450297 \n",
              "AFFX-ThrX-M_at        3.809207   4.016082   3.787557   3.889417   3.895821 \n",
              "AFFX-TrpnX-3_at       3.265365   3.339168   3.307359   3.185923   3.195152 \n",
              "AFFX-TrpnX-5_at       3.025283   3.184374   2.999147   3.092109   2.971140 \n",
              "AFFX-TrpnX-M_at       4.046307   4.299740   3.977641   4.053675   4.000778 \n",
              "                     GSM2772665 GSM2772666 GSM2772667 GSM2772668 GSM2772669 ⋯\n",
              "1007_PM_s_at         9.187891   8.502790   7.985991   9.288803   8.037423   ⋯\n",
              "1053_PM_at           4.529334   5.326246   5.772236   5.757419   5.547636   ⋯\n",
              "117_PM_at            7.001320   7.226530   7.395984   6.985698   7.915826   ⋯\n",
              "121_PM_at            5.978569   5.975539   6.133506   5.623385   5.919976   ⋯\n",
              "1255_PM_g_at         3.123327   3.070930   3.161671   3.308474   3.214317   ⋯\n",
              "1294_PM_at           6.147398   6.229095   6.772412   6.389352   7.125314   ⋯\n",
              "1316_PM_at           6.445232   6.397701   6.042659   6.081688   6.235222   ⋯\n",
              "1320_PM_at           6.529891   6.313014   5.330517   6.254045   5.597243   ⋯\n",
              "1405_PM_i_at         3.487149   3.494214   3.475587   3.346958   4.211679   ⋯\n",
              "1431_PM_at           3.460528   3.856685   3.729152   3.581554   3.586390   ⋯\n",
              "1438_PM_at           6.961523   7.590945   6.071426   6.858493   5.650750   ⋯\n",
              "1487_PM_at           6.421186   6.280378   6.088713   6.602386   6.374070   ⋯\n",
              "1494_PM_f_at         5.222669   4.662985   4.694242   4.758329   4.688817   ⋯\n",
              "1552256_PM_a_at      6.622564   6.388585   6.981732   5.484935   6.749273   ⋯\n",
              "1552257_PM_a_at      5.642609   5.799371   5.446785   5.622447   5.406135   ⋯\n",
              "1552258_PM_at        6.581994   6.592915   5.570232   6.476941   6.338501   ⋯\n",
              "1552261_PM_at        4.389944   4.721349   4.570590   5.228010   5.837043   ⋯\n",
              "1552263_PM_at        3.982833   3.944142   3.557496   3.983942   3.748262   ⋯\n",
              "1552264_PM_a_at      8.921966   8.983366   8.614708   9.386170   8.855714   ⋯\n",
              "1552266_PM_at        3.517821   3.445827   3.473149   3.095228   3.510448   ⋯\n",
              "1552269_PM_at        3.581125   3.558926   4.319197   3.686962   3.460544   ⋯\n",
              "1552271_PM_at        5.469515   5.447031   5.629642   5.437954   5.317467   ⋯\n",
              "1552272_PM_a_at      5.452313   5.318931   5.308035   5.065224   4.744614   ⋯\n",
              "1552274_PM_at        5.908624   5.657962   4.907619   5.283485   5.580372   ⋯\n",
              "1552275_PM_s_at      5.929836   6.374152   5.404390   5.529999   6.110392   ⋯\n",
              "1552276_PM_a_at      6.275659   6.097798   6.107602   6.773994   6.568289   ⋯\n",
              "1552277_PM_a_at      4.508061   5.246336   4.806667   5.533119   5.603630   ⋯\n",
              "1552278_PM_a_at      4.475559   4.570739   3.530396   3.986708   4.695478   ⋯\n",
              "1552279_PM_a_at      5.114427   5.007183   4.314488   5.134620   4.949501   ⋯\n",
              "1552280_PM_at        2.953528   3.984600   3.050733   3.151727   3.252812   ⋯\n",
              "⋮                    ⋮          ⋮          ⋮          ⋮          ⋮          ⋱\n",
              "AFFX-r2-Ec-bioB-M_at  7.163469   6.213469   6.687530   6.727841   6.538699  ⋯\n",
              "AFFX-r2-Ec-bioC-3_at 10.251249   9.217058   9.808556   9.634020   9.536962  ⋯\n",
              "AFFX-r2-Ec-bioC-5_at 10.347370   9.475349  10.059193   9.847969   9.750288  ⋯\n",
              "AFFX-r2-Ec-bioD-3_at 12.454274  11.737666  12.128244  11.899007  11.742343  ⋯\n",
              "AFFX-r2-Ec-bioD-5_at 12.097431  11.471836  11.805777  11.696203  11.471217  ⋯\n",
              "AFFX-r2-P1-cre-3_at  13.606033  13.274434  13.430699  13.330122  13.173560  ⋯\n",
              "AFFX-r2-P1-cre-5_at  13.410746  12.931072  13.131958  13.034943  12.823646  ⋯\n",
              "AFFX-r2-TagA_at       3.690925   3.509029   3.809023   3.669035   3.643934  ⋯\n",
              "AFFX-r2-TagB_at       4.608074   4.580424   4.661504   4.625802   4.716292  ⋯\n",
              "AFFX-r2-TagC_at       2.980981   2.765654   2.913163   2.889444   2.879680  ⋯\n",
              "AFFX-r2-TagD_at       4.351098   3.788386   4.497050   4.117898   4.109412  ⋯\n",
              "AFFX-r2-TagE_at       3.062247   2.847811   2.791887   2.963075   2.769324  ⋯\n",
              "AFFX-r2-TagF_at       4.267042   4.212577   4.214772   4.082522   4.203976  ⋯\n",
              "AFFX-r2-TagG_at       3.618276   3.359935   3.479047   3.491158   3.362470  ⋯\n",
              "AFFX-r2-TagH_at       3.799080   3.347829   3.629776   3.627991   3.695275  ⋯\n",
              "AFFX-r2-TagIN-3_at    3.487272   3.377926   3.687712   3.355104   3.356845  ⋯\n",
              "AFFX-r2-TagIN-5_at    3.431707   3.229945   3.375576   3.282620   3.275312  ⋯\n",
              "AFFX-r2-TagIN-M_at    3.791123   3.579631   3.706983   3.759666   3.606362  ⋯\n",
              "AFFX-r2-TagJ-3_at     4.501956   4.088104   3.944891   4.075566   4.323960  ⋯\n",
              "AFFX-r2-TagJ-5_at     3.002738   2.977597   2.899119   3.186762   3.106919  ⋯\n",
              "AFFX-r2-TagO-3_at     3.551413   3.369410   3.373935   3.254937   3.385676  ⋯\n",
              "AFFX-r2-TagO-5_at     3.204193   3.264422   3.405817   3.553040   3.504425  ⋯\n",
              "AFFX-r2-TagQ-3_at     3.384805   3.514775   3.559333   3.603369   3.570392  ⋯\n",
              "AFFX-r2-TagQ-5_at     3.568266   3.626582   3.772964   3.836052   3.918502  ⋯\n",
              "AFFX-ThrX-3_at        5.703434   5.444171   5.424428   5.605376   5.447614  ⋯\n",
              "AFFX-ThrX-5_at        3.709608   3.745658   3.749129   3.857364   3.578071  ⋯\n",
              "AFFX-ThrX-M_at        3.968783   3.868369   4.098820   3.726171   4.047202  ⋯\n",
              "AFFX-TrpnX-3_at       3.335317   3.190299   3.459762   3.394946   3.384897  ⋯\n",
              "AFFX-TrpnX-5_at       3.033708   3.092448   2.971268   3.019203   3.075111  ⋯\n",
              "AFFX-TrpnX-M_at       4.284038   3.943451   4.101517   4.222448   4.079160  ⋯\n",
              "                     GSM2772930 GSM2772931 GSM2772932 GSM2772933 GSM2772934\n",
              "1007_PM_s_at         7.591758   8.417337   8.773584   6.014932   8.118485  \n",
              "1053_PM_at           4.757886   4.622830   4.427917   4.139551   4.374756  \n",
              "117_PM_at            7.579409   6.720147   6.928376   7.491676   6.353371  \n",
              "121_PM_at            6.244688   6.067174   5.778329   6.482538   5.982061  \n",
              "1255_PM_g_at         3.321744   3.119197   3.081535   3.376316   3.253850  \n",
              "1294_PM_at           7.610335   6.775906   5.846778   7.738880   6.734127  \n",
              "1316_PM_at           7.028600   6.991170   6.469142   7.427648   7.080309  \n",
              "1320_PM_at           6.419826   6.056686   6.181039   6.609450   6.593351  \n",
              "1405_PM_i_at         3.892010   3.380310   3.324342   3.983311   3.334427  \n",
              "1431_PM_at           3.687228   3.754468   3.400861   4.057299   3.642167  \n",
              "1438_PM_at           5.989493   5.768124   5.183648   5.667558   5.975436  \n",
              "1487_PM_at           6.061958   6.207517   6.354013   6.172448   6.637894  \n",
              "1494_PM_f_at         4.808429   4.324944   4.716287   5.167433   4.727752  \n",
              "1552256_PM_a_at      6.034261   6.318915   6.624817   5.737086   5.455112  \n",
              "1552257_PM_a_at      5.215390   5.517788   5.494737   4.541361   5.381566  \n",
              "1552258_PM_at        5.603387   5.281114   5.447686   5.024311   5.654772  \n",
              "1552261_PM_at        4.907119   5.238682   4.566476   5.400525   4.978317  \n",
              "1552263_PM_at        3.588252   3.376109   3.612507   3.751223   4.018474  \n",
              "1552264_PM_a_at      8.584307   8.679016   8.841823   7.856904   8.614613  \n",
              "1552266_PM_at        3.663224   3.741129   3.470521   4.055955   3.441005  \n",
              "1552269_PM_at        3.377771   3.685016   3.356726   3.788385   3.331636  \n",
              "1552271_PM_at        5.302943   5.608134   5.016618   6.069220   5.646781  \n",
              "1552272_PM_a_at      4.984220   4.862046   4.910663   5.161933   4.511387  \n",
              "1552274_PM_at        5.980234   5.502985   5.605563   6.375463   5.511904  \n",
              "1552275_PM_s_at      6.003798   6.187132   6.239480   5.555113   6.143220  \n",
              "1552276_PM_a_at      6.385783   5.723349   5.861922   6.142083   6.024705  \n",
              "1552277_PM_a_at      4.325725   4.397455   4.478868   3.714017   3.883221  \n",
              "1552278_PM_a_at      4.890325   5.136979   5.350373   5.164471   4.893221  \n",
              "1552279_PM_a_at      4.978972   5.642967   5.590975   5.223452   5.474585  \n",
              "1552280_PM_at        3.143336   3.729793   3.202946   3.338282   3.241305  \n",
              "⋮                    ⋮          ⋮          ⋮          ⋮          ⋮         \n",
              "AFFX-r2-Ec-bioB-M_at 10.399822  10.178980  10.257398  10.727768   9.832932 \n",
              "AFFX-r2-Ec-bioC-3_at 11.185617  11.057513  11.071912  11.674026  10.638487 \n",
              "AFFX-r2-Ec-bioC-5_at 11.219900  11.018578  11.132342  11.872986  10.883216 \n",
              "AFFX-r2-Ec-bioD-3_at 12.886232  12.801757  12.762556  13.101364  12.640193 \n",
              "AFFX-r2-Ec-bioD-5_at 12.362711  12.398507  12.284179  12.698614  12.280761 \n",
              "AFFX-r2-P1-cre-3_at  13.858173  13.811228  13.873312  13.832150  13.672692 \n",
              "AFFX-r2-P1-cre-5_at  13.714327  13.613645  13.630676  13.615001  13.422067 \n",
              "AFFX-r2-TagA_at       3.682133   3.616704   3.628382   4.271082   3.695145 \n",
              "AFFX-r2-TagB_at       4.386812   4.689315   4.462116   5.072281   4.453736 \n",
              "AFFX-r2-TagC_at       2.864582   2.784695   2.680536   3.649778   2.747202 \n",
              "AFFX-r2-TagD_at       4.060275   4.232263   4.316402   5.187065   3.739662 \n",
              "AFFX-r2-TagE_at       2.857095   2.919019   3.113097   3.568712   2.831971 \n",
              "AFFX-r2-TagF_at       4.227882   3.919838   4.013516   4.642268   4.273528 \n",
              "AFFX-r2-TagG_at       3.355085   3.711451   3.379424   3.843903   3.309006 \n",
              "AFFX-r2-TagH_at       3.332981   3.196769   3.188798   4.126638   3.642643 \n",
              "AFFX-r2-TagIN-3_at    3.467579   3.235629   3.517249   4.328894   3.507714 \n",
              "AFFX-r2-TagIN-5_at    3.458485   3.378340   3.558310   3.584067   3.307731 \n",
              "AFFX-r2-TagIN-M_at    3.611630   3.252134   3.592723   3.786969   3.365953 \n",
              "AFFX-r2-TagJ-3_at     3.794481   3.839005   4.286551   4.202446   4.241039 \n",
              "AFFX-r2-TagJ-5_at     3.047260   3.014277   2.952087   3.883303   3.276816 \n",
              "AFFX-r2-TagO-3_at     3.365475   3.409748   3.570846   3.567051   3.240954 \n",
              "AFFX-r2-TagO-5_at     3.001414   3.235973   3.226530   3.529287   3.060954 \n",
              "AFFX-r2-TagQ-3_at     3.327272   3.255692   3.234356   3.836111   3.882375 \n",
              "AFFX-r2-TagQ-5_at     3.500579   3.682433   3.632227   3.514454   3.788481 \n",
              "AFFX-ThrX-3_at        5.375420   5.200523   5.262061   5.506354   5.028747 \n",
              "AFFX-ThrX-5_at        3.392356   3.551869   3.706591   4.510672   3.452462 \n",
              "AFFX-ThrX-M_at        3.966562   3.874095   3.732510   4.056094   3.973047 \n",
              "AFFX-TrpnX-3_at       3.299135   3.163061   3.397570   3.870384   3.157707 \n",
              "AFFX-TrpnX-5_at       3.280260   3.103965   3.121383   3.520557   3.114530 \n",
              "AFFX-TrpnX-M_at       3.870091   4.081766   3.884419   4.615082   4.208954 \n",
              "                     GSM2772935 GSM2772936 GSM2772937 GSM2772938 GSM2772939\n",
              "1007_PM_s_at         7.750079   7.864324   7.541111   8.390298   7.755427  \n",
              "1053_PM_at           4.173053   4.259325   4.522224   4.355016   4.367581  \n",
              "117_PM_at            6.424754   6.478735   6.865915   6.765574   7.624744  \n",
              "121_PM_at            6.619358   7.989656   6.025906   6.136103   6.106748  \n",
              "1255_PM_g_at         3.114041   3.135294   3.328501   3.282186   3.310275  \n",
              "1294_PM_at           6.403276   6.953802   7.491566   7.041392   6.623066  \n",
              "1316_PM_at           6.887373   7.364023   7.143206   6.903466   6.689848  \n",
              "1320_PM_at           6.472842   6.761640   6.799355   6.475198   7.006135  \n",
              "1405_PM_i_at         3.430526   3.282007   3.479946   3.185831   3.047845  \n",
              "1431_PM_at           3.478233   4.105242   4.053750   3.742345   3.906835  \n",
              "1438_PM_at           5.578107   5.637942   6.201278   5.833880   6.029981  \n",
              "1487_PM_at           6.124872   6.224117   6.299540   6.445489   5.961816  \n",
              "1494_PM_f_at         4.488996   4.540959   5.003473   4.466132   4.499061  \n",
              "1552256_PM_a_at      5.877065   5.777251   5.950221   5.819474   5.395518  \n",
              "1552257_PM_a_at      5.195050   4.839825   5.147524   5.220633   4.987466  \n",
              "1552258_PM_at        5.210625   5.340103   5.248969   5.657474   5.393393  \n",
              "1552261_PM_at        4.757484   5.710688   5.012431   6.381543   4.681431  \n",
              "1552263_PM_at        3.672570   3.915302   3.181065   3.750482   3.675065  \n",
              "1552264_PM_a_at      8.546375   8.721467   8.585130   8.373553   8.674633  \n",
              "1552266_PM_at        3.083271   3.483106   3.512454   3.318655   3.880566  \n",
              "1552269_PM_at        3.583266   3.622302   3.738494   4.013802   3.409909  \n",
              "1552271_PM_at        5.108338   5.432807   5.857224   5.315707   5.373689  \n",
              "1552272_PM_a_at      4.568073   4.694518   5.378836   5.048058   5.090953  \n",
              "1552274_PM_at        6.114137   6.333841   6.637212   6.019013   5.654522  \n",
              "1552275_PM_s_at      6.491463   6.814779   5.943121   6.334576   5.992864  \n",
              "1552276_PM_a_at      6.038508   5.938182   6.013510   6.268556   6.050134  \n",
              "1552277_PM_a_at      4.285750   4.616572   4.472302   4.335842   4.145857  \n",
              "1552278_PM_a_at      5.613742   4.662284   5.084240   5.168315   3.884383  \n",
              "1552279_PM_a_at      6.009787   5.447022   4.841001   5.443408   5.082711  \n",
              "1552280_PM_at        2.988423   3.080760   3.569523   2.946357   3.137762  \n",
              "⋮                    ⋮          ⋮          ⋮          ⋮          ⋮         \n",
              "AFFX-r2-Ec-bioB-M_at 10.076804   9.764981  10.713911  10.183186   9.884574 \n",
              "AFFX-r2-Ec-bioC-3_at 10.824828  10.815999  11.766821  10.975284  10.776606 \n",
              "AFFX-r2-Ec-bioC-5_at 11.044103  10.945046  11.827392  11.227470  10.685720 \n",
              "AFFX-r2-Ec-bioD-3_at 12.554748  12.596383  13.184303  12.857403  12.782267 \n",
              "AFFX-r2-Ec-bioD-5_at 12.191411  12.103833  12.771110  12.314932  12.391454 \n",
              "AFFX-r2-P1-cre-3_at  13.671612  13.667307  14.005771  13.758174  13.857653 \n",
              "AFFX-r2-P1-cre-5_at  13.480590  13.466508  13.814316  13.514400  13.789310 \n",
              "AFFX-r2-TagA_at       3.495496   3.549550   4.060019   3.600491   3.655808 \n",
              "AFFX-r2-TagB_at       4.406650   4.287105   4.758810   4.607904   4.734079 \n",
              "AFFX-r2-TagC_at       2.712709   3.027214   3.145410   2.937561   3.043163 \n",
              "AFFX-r2-TagD_at       3.823767   3.917055   4.709099   4.162795   4.337622 \n",
              "AFFX-r2-TagE_at       2.746883   2.645809   2.852994   2.971102   2.947954 \n",
              "AFFX-r2-TagF_at       4.169034   3.915246   4.465848   4.327164   3.918879 \n",
              "AFFX-r2-TagG_at       3.352782   3.333953   3.745820   3.402854   3.540243 \n",
              "AFFX-r2-TagH_at       3.417962   3.444908   3.609687   3.592507   3.475932 \n",
              "AFFX-r2-TagIN-3_at    3.329776   3.445722   3.608715   3.511458   3.472844 \n",
              "AFFX-r2-TagIN-5_at    3.134882   3.298894   3.192620   3.429774   3.283683 \n",
              "AFFX-r2-TagIN-M_at    3.533912   3.516784   3.837090   3.489005   3.598844 \n",
              "AFFX-r2-TagJ-3_at     4.100354   4.068351   3.585064   3.769250   3.875789 \n",
              "AFFX-r2-TagJ-5_at     2.849243   3.007336   2.963200   3.047950   2.959284 \n",
              "AFFX-r2-TagO-3_at     3.090263   3.355941   3.488553   3.338271   3.406502 \n",
              "AFFX-r2-TagO-5_at     3.067836   3.212776   3.260856   2.960611   3.030411 \n",
              "AFFX-r2-TagQ-3_at     3.678365   3.136699   4.134082   3.291691   3.699374 \n",
              "AFFX-r2-TagQ-5_at     3.344181   3.973577   3.819999   3.647019   3.701474 \n",
              "AFFX-ThrX-3_at        5.105038   5.233263   4.961615   5.391048   5.222846 \n",
              "AFFX-ThrX-5_at        3.388442   3.724406   3.739153   3.670171   3.597497 \n",
              "AFFX-ThrX-M_at        3.699432   3.789657   3.757168   3.974066   3.993834 \n",
              "AFFX-TrpnX-3_at       3.055493   3.203055   3.348073   3.165001   3.604398 \n",
              "AFFX-TrpnX-5_at       3.028562   3.089924   3.215887   3.308247   3.257296 \n",
              "AFFX-TrpnX-M_at       4.047930   3.993888   4.196950   4.118002   4.171202 "
            ]
          },
          "metadata": {}
        }
      ]
    },
    {
      "cell_type": "code",
      "source": [
        "# to control the output, let us convert the e data into a tibble\n",
        "tibble::as_tibble(e)"
      ],
      "metadata": {
        "colab": {
          "base_uri": "https://localhost:8080/",
          "height": 1000
        },
        "id": "y7McflhLJFmI",
        "outputId": "b0adc678-4100-4547-fd1c-c83c0c382be8"
      },
      "execution_count": null,
      "outputs": [
        {
          "output_type": "display_data",
          "data": {
            "text/html": [
              "<table class=\"dataframe\">\n",
              "<caption>A tibble: 54715 × 280</caption>\n",
              "<thead>\n",
              "\t<tr><th scope=col>GSM2772660</th><th scope=col>GSM2772661</th><th scope=col>GSM2772662</th><th scope=col>GSM2772663</th><th scope=col>GSM2772664</th><th scope=col>GSM2772665</th><th scope=col>GSM2772666</th><th scope=col>GSM2772667</th><th scope=col>GSM2772668</th><th scope=col>GSM2772669</th><th scope=col>⋯</th><th scope=col>GSM2772930</th><th scope=col>GSM2772931</th><th scope=col>GSM2772932</th><th scope=col>GSM2772933</th><th scope=col>GSM2772934</th><th scope=col>GSM2772935</th><th scope=col>GSM2772936</th><th scope=col>GSM2772937</th><th scope=col>GSM2772938</th><th scope=col>GSM2772939</th></tr>\n",
              "\t<tr><th scope=col>&lt;dbl&gt;</th><th scope=col>&lt;dbl&gt;</th><th scope=col>&lt;dbl&gt;</th><th scope=col>&lt;dbl&gt;</th><th scope=col>&lt;dbl&gt;</th><th scope=col>&lt;dbl&gt;</th><th scope=col>&lt;dbl&gt;</th><th scope=col>&lt;dbl&gt;</th><th scope=col>&lt;dbl&gt;</th><th scope=col>&lt;dbl&gt;</th><th scope=col>⋯</th><th scope=col>&lt;dbl&gt;</th><th scope=col>&lt;dbl&gt;</th><th scope=col>&lt;dbl&gt;</th><th scope=col>&lt;dbl&gt;</th><th scope=col>&lt;dbl&gt;</th><th scope=col>&lt;dbl&gt;</th><th scope=col>&lt;dbl&gt;</th><th scope=col>&lt;dbl&gt;</th><th scope=col>&lt;dbl&gt;</th><th scope=col>&lt;dbl&gt;</th></tr>\n",
              "</thead>\n",
              "<tbody>\n",
              "\t<tr><td>8.710718</td><td>8.874406</td><td>9.157600</td><td>7.710366</td><td>7.889133</td><td>9.187891</td><td>8.502790</td><td>7.985991</td><td>9.288803</td><td>8.037423</td><td>⋯</td><td>7.591758</td><td>8.417337</td><td>8.773584</td><td>6.014932</td><td>8.118485</td><td>7.750079</td><td>7.864324</td><td>7.541111</td><td>8.390298</td><td>7.755427</td></tr>\n",
              "\t<tr><td>4.646897</td><td>5.946730</td><td>5.769209</td><td>4.512610</td><td>6.000142</td><td>4.529334</td><td>5.326246</td><td>5.772236</td><td>5.757419</td><td>5.547636</td><td>⋯</td><td>4.757886</td><td>4.622830</td><td>4.427917</td><td>4.139551</td><td>4.374756</td><td>4.173053</td><td>4.259325</td><td>4.522224</td><td>4.355016</td><td>4.367581</td></tr>\n",
              "\t<tr><td>6.850312</td><td>7.420204</td><td>7.277934</td><td>7.036745</td><td>7.085630</td><td>7.001320</td><td>7.226530</td><td>7.395984</td><td>6.985698</td><td>7.915826</td><td>⋯</td><td>7.579409</td><td>6.720147</td><td>6.928376</td><td>7.491676</td><td>6.353371</td><td>6.424754</td><td>6.478735</td><td>6.865915</td><td>6.765574</td><td>7.624744</td></tr>\n",
              "\t<tr><td>5.699862</td><td>5.955848</td><td>5.819856</td><td>5.992074</td><td>5.965098</td><td>5.978569</td><td>5.975539</td><td>6.133506</td><td>5.623385</td><td>5.919976</td><td>⋯</td><td>6.244688</td><td>6.067174</td><td>5.778329</td><td>6.482538</td><td>5.982061</td><td>6.619358</td><td>7.989656</td><td>6.025906</td><td>6.136103</td><td>6.106748</td></tr>\n",
              "\t<tr><td>3.344434</td><td>3.252921</td><td>3.121310</td><td>3.304214</td><td>3.206685</td><td>3.123327</td><td>3.070930</td><td>3.161671</td><td>3.308474</td><td>3.214317</td><td>⋯</td><td>3.321744</td><td>3.119197</td><td>3.081535</td><td>3.376316</td><td>3.253850</td><td>3.114041</td><td>3.135294</td><td>3.328501</td><td>3.282186</td><td>3.310275</td></tr>\n",
              "\t<tr><td>5.868637</td><td>6.131208</td><td>6.343273</td><td>6.553460</td><td>6.514260</td><td>6.147398</td><td>6.229095</td><td>6.772412</td><td>6.389352</td><td>7.125314</td><td>⋯</td><td>7.610335</td><td>6.775906</td><td>5.846778</td><td>7.738880</td><td>6.734127</td><td>6.403276</td><td>6.953802</td><td>7.491566</td><td>7.041392</td><td>6.623066</td></tr>\n",
              "\t<tr><td>6.328466</td><td>6.503984</td><td>6.757951</td><td>6.548922</td><td>6.122024</td><td>6.445232</td><td>6.397701</td><td>6.042659</td><td>6.081688</td><td>6.235222</td><td>⋯</td><td>7.028600</td><td>6.991170</td><td>6.469142</td><td>7.427648</td><td>7.080309</td><td>6.887373</td><td>7.364023</td><td>7.143206</td><td>6.903466</td><td>6.689848</td></tr>\n",
              "\t<tr><td>6.208219</td><td>5.571839</td><td>6.507097</td><td>6.199720</td><td>6.203894</td><td>6.529891</td><td>6.313014</td><td>5.330517</td><td>6.254045</td><td>5.597243</td><td>⋯</td><td>6.419826</td><td>6.056686</td><td>6.181039</td><td>6.609450</td><td>6.593351</td><td>6.472842</td><td>6.761640</td><td>6.799355</td><td>6.475198</td><td>7.006135</td></tr>\n",
              "\t<tr><td>3.132818</td><td>3.415128</td><td>3.778575</td><td>3.466669</td><td>3.514805</td><td>3.487149</td><td>3.494214</td><td>3.475587</td><td>3.346958</td><td>4.211679</td><td>⋯</td><td>3.892010</td><td>3.380310</td><td>3.324342</td><td>3.983311</td><td>3.334427</td><td>3.430526</td><td>3.282007</td><td>3.479946</td><td>3.185831</td><td>3.047845</td></tr>\n",
              "\t<tr><td>3.733856</td><td>3.539647</td><td>3.438108</td><td>3.700839</td><td>3.702347</td><td>3.460528</td><td>3.856685</td><td>3.729152</td><td>3.581554</td><td>3.586390</td><td>⋯</td><td>3.687228</td><td>3.754468</td><td>3.400861</td><td>4.057299</td><td>3.642167</td><td>3.478233</td><td>4.105242</td><td>4.053750</td><td>3.742345</td><td>3.906835</td></tr>\n",
              "\t<tr><td>7.610252</td><td>7.004654</td><td>6.702438</td><td>6.100804</td><td>6.090036</td><td>6.961523</td><td>7.590945</td><td>6.071426</td><td>6.858493</td><td>5.650750</td><td>⋯</td><td>5.989493</td><td>5.768124</td><td>5.183648</td><td>5.667558</td><td>5.975436</td><td>5.578107</td><td>5.637942</td><td>6.201278</td><td>5.833880</td><td>6.029981</td></tr>\n",
              "\t<tr><td>5.788125</td><td>7.136023</td><td>6.186522</td><td>5.924929</td><td>6.208900</td><td>6.421186</td><td>6.280378</td><td>6.088713</td><td>6.602386</td><td>6.374070</td><td>⋯</td><td>6.061958</td><td>6.207517</td><td>6.354013</td><td>6.172448</td><td>6.637894</td><td>6.124872</td><td>6.224117</td><td>6.299540</td><td>6.445489</td><td>5.961816</td></tr>\n",
              "\t<tr><td>4.526675</td><td>5.007525</td><td>4.697680</td><td>7.346633</td><td>4.619856</td><td>5.222669</td><td>4.662985</td><td>4.694242</td><td>4.758329</td><td>4.688817</td><td>⋯</td><td>4.808429</td><td>4.324944</td><td>4.716287</td><td>5.167433</td><td>4.727752</td><td>4.488996</td><td>4.540959</td><td>5.003473</td><td>4.466132</td><td>4.499061</td></tr>\n",
              "\t<tr><td>6.175916</td><td>6.596336</td><td>6.853145</td><td>6.255963</td><td>5.613406</td><td>6.622564</td><td>6.388585</td><td>6.981732</td><td>5.484935</td><td>6.749273</td><td>⋯</td><td>6.034261</td><td>6.318915</td><td>6.624817</td><td>5.737086</td><td>5.455112</td><td>5.877065</td><td>5.777251</td><td>5.950221</td><td>5.819474</td><td>5.395518</td></tr>\n",
              "\t<tr><td>5.718520</td><td>5.989007</td><td>5.713065</td><td>5.684500</td><td>5.686125</td><td>5.642609</td><td>5.799371</td><td>5.446785</td><td>5.622447</td><td>5.406135</td><td>⋯</td><td>5.215390</td><td>5.517788</td><td>5.494737</td><td>4.541361</td><td>5.381566</td><td>5.195050</td><td>4.839825</td><td>5.147524</td><td>5.220633</td><td>4.987466</td></tr>\n",
              "\t<tr><td>6.120856</td><td>5.686528</td><td>6.129119</td><td>5.914609</td><td>6.399094</td><td>6.581994</td><td>6.592915</td><td>5.570232</td><td>6.476941</td><td>6.338501</td><td>⋯</td><td>5.603387</td><td>5.281114</td><td>5.447686</td><td>5.024311</td><td>5.654772</td><td>5.210625</td><td>5.340103</td><td>5.248969</td><td>5.657474</td><td>5.393393</td></tr>\n",
              "\t<tr><td>4.859691</td><td>5.017196</td><td>4.565536</td><td>4.960701</td><td>4.669767</td><td>4.389944</td><td>4.721349</td><td>4.570590</td><td>5.228010</td><td>5.837043</td><td>⋯</td><td>4.907119</td><td>5.238682</td><td>4.566476</td><td>5.400525</td><td>4.978317</td><td>4.757484</td><td>5.710688</td><td>5.012431</td><td>6.381543</td><td>4.681431</td></tr>\n",
              "\t<tr><td>4.208919</td><td>3.675481</td><td>3.905913</td><td>3.942027</td><td>4.136753</td><td>3.982833</td><td>3.944142</td><td>3.557496</td><td>3.983942</td><td>3.748262</td><td>⋯</td><td>3.588252</td><td>3.376109</td><td>3.612507</td><td>3.751223</td><td>4.018474</td><td>3.672570</td><td>3.915302</td><td>3.181065</td><td>3.750482</td><td>3.675065</td></tr>\n",
              "\t<tr><td>9.065565</td><td>8.898784</td><td>9.217201</td><td>8.960346</td><td>9.322506</td><td>8.921966</td><td>8.983366</td><td>8.614708</td><td>9.386170</td><td>8.855714</td><td>⋯</td><td>8.584307</td><td>8.679016</td><td>8.841823</td><td>7.856904</td><td>8.614613</td><td>8.546375</td><td>8.721467</td><td>8.585130</td><td>8.373553</td><td>8.674633</td></tr>\n",
              "\t<tr><td>3.394521</td><td>3.266931</td><td>3.300064</td><td>3.342916</td><td>3.409557</td><td>3.517821</td><td>3.445827</td><td>3.473149</td><td>3.095228</td><td>3.510448</td><td>⋯</td><td>3.663224</td><td>3.741129</td><td>3.470521</td><td>4.055955</td><td>3.441005</td><td>3.083271</td><td>3.483106</td><td>3.512454</td><td>3.318655</td><td>3.880566</td></tr>\n",
              "\t<tr><td>3.455415</td><td>3.776119</td><td>3.700130</td><td>3.559179</td><td>3.466699</td><td>3.581125</td><td>3.558926</td><td>4.319197</td><td>3.686962</td><td>3.460544</td><td>⋯</td><td>3.377771</td><td>3.685016</td><td>3.356726</td><td>3.788385</td><td>3.331636</td><td>3.583266</td><td>3.622302</td><td>3.738494</td><td>4.013802</td><td>3.409909</td></tr>\n",
              "\t<tr><td>5.220450</td><td>5.457247</td><td>5.066827</td><td>5.629885</td><td>5.285212</td><td>5.469515</td><td>5.447031</td><td>5.629642</td><td>5.437954</td><td>5.317467</td><td>⋯</td><td>5.302943</td><td>5.608134</td><td>5.016618</td><td>6.069220</td><td>5.646781</td><td>5.108338</td><td>5.432807</td><td>5.857224</td><td>5.315707</td><td>5.373689</td></tr>\n",
              "\t<tr><td>5.165224</td><td>5.274808</td><td>5.088125</td><td>4.981484</td><td>5.061699</td><td>5.452313</td><td>5.318931</td><td>5.308035</td><td>5.065224</td><td>4.744614</td><td>⋯</td><td>4.984220</td><td>4.862046</td><td>4.910663</td><td>5.161933</td><td>4.511387</td><td>4.568073</td><td>4.694518</td><td>5.378836</td><td>5.048058</td><td>5.090953</td></tr>\n",
              "\t<tr><td>5.183767</td><td>5.599022</td><td>5.523847</td><td>5.787182</td><td>5.587673</td><td>5.908624</td><td>5.657962</td><td>4.907619</td><td>5.283485</td><td>5.580372</td><td>⋯</td><td>5.980234</td><td>5.502985</td><td>5.605563</td><td>6.375463</td><td>5.511904</td><td>6.114137</td><td>6.333841</td><td>6.637212</td><td>6.019013</td><td>5.654522</td></tr>\n",
              "\t<tr><td>6.063618</td><td>5.805057</td><td>6.171927</td><td>6.363907</td><td>5.935886</td><td>5.929836</td><td>6.374152</td><td>5.404390</td><td>5.529999</td><td>6.110392</td><td>⋯</td><td>6.003798</td><td>6.187132</td><td>6.239480</td><td>5.555113</td><td>6.143220</td><td>6.491463</td><td>6.814779</td><td>5.943121</td><td>6.334576</td><td>5.992864</td></tr>\n",
              "\t<tr><td>5.926353</td><td>6.501224</td><td>6.286900</td><td>6.191946</td><td>6.307256</td><td>6.275659</td><td>6.097798</td><td>6.107602</td><td>6.773994</td><td>6.568289</td><td>⋯</td><td>6.385783</td><td>5.723349</td><td>5.861922</td><td>6.142083</td><td>6.024705</td><td>6.038508</td><td>5.938182</td><td>6.013510</td><td>6.268556</td><td>6.050134</td></tr>\n",
              "\t<tr><td>4.735268</td><td>5.138029</td><td>4.513231</td><td>4.225513</td><td>4.097454</td><td>4.508061</td><td>5.246336</td><td>4.806667</td><td>5.533119</td><td>5.603630</td><td>⋯</td><td>4.325725</td><td>4.397455</td><td>4.478868</td><td>3.714017</td><td>3.883221</td><td>4.285750</td><td>4.616572</td><td>4.472302</td><td>4.335842</td><td>4.145857</td></tr>\n",
              "\t<tr><td>3.810447</td><td>3.849535</td><td>3.930334</td><td>4.375154</td><td>3.818202</td><td>4.475559</td><td>4.570739</td><td>3.530396</td><td>3.986708</td><td>4.695478</td><td>⋯</td><td>4.890325</td><td>5.136979</td><td>5.350373</td><td>5.164471</td><td>4.893221</td><td>5.613742</td><td>4.662284</td><td>5.084240</td><td>5.168315</td><td>3.884383</td></tr>\n",
              "\t<tr><td>4.570476</td><td>4.628548</td><td>4.573795</td><td>4.883699</td><td>5.085888</td><td>5.114427</td><td>5.007183</td><td>4.314488</td><td>5.134620</td><td>4.949501</td><td>⋯</td><td>4.978972</td><td>5.642967</td><td>5.590975</td><td>5.223452</td><td>5.474585</td><td>6.009787</td><td>5.447022</td><td>4.841001</td><td>5.443408</td><td>5.082711</td></tr>\n",
              "\t<tr><td>2.870621</td><td>3.274426</td><td>3.122811</td><td>3.041369</td><td>3.236837</td><td>2.953528</td><td>3.984600</td><td>3.050733</td><td>3.151727</td><td>3.252812</td><td>⋯</td><td>3.143336</td><td>3.729793</td><td>3.202946</td><td>3.338282</td><td>3.241305</td><td>2.988423</td><td>3.080760</td><td>3.569523</td><td>2.946357</td><td>3.137762</td></tr>\n",
              "\t<tr><td>⋮</td><td>⋮</td><td>⋮</td><td>⋮</td><td>⋮</td><td>⋮</td><td>⋮</td><td>⋮</td><td>⋮</td><td>⋮</td><td>⋱</td><td>⋮</td><td>⋮</td><td>⋮</td><td>⋮</td><td>⋮</td><td>⋮</td><td>⋮</td><td>⋮</td><td>⋮</td><td>⋮</td></tr>\n",
              "\t<tr><td> 6.206346</td><td> 6.991656</td><td> 6.711330</td><td> 6.605047</td><td> 6.419037</td><td> 7.163469</td><td> 6.213469</td><td> 6.687530</td><td> 6.727841</td><td> 6.538699</td><td>⋯</td><td>10.399822</td><td>10.178980</td><td>10.257398</td><td>10.727768</td><td> 9.832932</td><td>10.076804</td><td> 9.764981</td><td>10.713911</td><td>10.183186</td><td> 9.884574</td></tr>\n",
              "\t<tr><td> 9.444757</td><td> 9.701150</td><td> 9.775212</td><td> 9.663823</td><td> 9.600573</td><td>10.251249</td><td> 9.217058</td><td> 9.808556</td><td> 9.634020</td><td> 9.536962</td><td>⋯</td><td>11.185617</td><td>11.057513</td><td>11.071912</td><td>11.674026</td><td>10.638487</td><td>10.824828</td><td>10.815999</td><td>11.766821</td><td>10.975284</td><td>10.776606</td></tr>\n",
              "\t<tr><td> 9.475398</td><td> 9.872693</td><td> 9.838519</td><td> 9.770866</td><td> 9.853972</td><td>10.347370</td><td> 9.475349</td><td>10.059193</td><td> 9.847969</td><td> 9.750288</td><td>⋯</td><td>11.219900</td><td>11.018578</td><td>11.132342</td><td>11.872986</td><td>10.883216</td><td>11.044103</td><td>10.945046</td><td>11.827392</td><td>11.227470</td><td>10.685720</td></tr>\n",
              "\t<tr><td>11.688866</td><td>12.238937</td><td>12.038147</td><td>11.908215</td><td>11.964315</td><td>12.454274</td><td>11.737666</td><td>12.128244</td><td>11.899007</td><td>11.742343</td><td>⋯</td><td>12.886232</td><td>12.801757</td><td>12.762556</td><td>13.101364</td><td>12.640193</td><td>12.554748</td><td>12.596383</td><td>13.184303</td><td>12.857403</td><td>12.782267</td></tr>\n",
              "\t<tr><td>11.420819</td><td>11.935659</td><td>11.711015</td><td>11.551794</td><td>11.548885</td><td>12.097431</td><td>11.471836</td><td>11.805777</td><td>11.696203</td><td>11.471217</td><td>⋯</td><td>12.362711</td><td>12.398507</td><td>12.284179</td><td>12.698614</td><td>12.280761</td><td>12.191411</td><td>12.103833</td><td>12.771110</td><td>12.314932</td><td>12.391454</td></tr>\n",
              "\t<tr><td>13.313835</td><td>13.485951</td><td>13.458908</td><td>13.387272</td><td>13.326656</td><td>13.606033</td><td>13.274434</td><td>13.430699</td><td>13.330122</td><td>13.173560</td><td>⋯</td><td>13.858173</td><td>13.811228</td><td>13.873312</td><td>13.832150</td><td>13.672692</td><td>13.671612</td><td>13.667307</td><td>14.005771</td><td>13.758174</td><td>13.857653</td></tr>\n",
              "\t<tr><td>13.051443</td><td>13.292273</td><td>13.268783</td><td>13.177733</td><td>13.106871</td><td>13.410746</td><td>12.931072</td><td>13.131958</td><td>13.034943</td><td>12.823646</td><td>⋯</td><td>13.714327</td><td>13.613645</td><td>13.630676</td><td>13.615001</td><td>13.422067</td><td>13.480590</td><td>13.466508</td><td>13.814316</td><td>13.514400</td><td>13.789310</td></tr>\n",
              "\t<tr><td> 3.523244</td><td> 3.824111</td><td> 3.459434</td><td> 3.611941</td><td> 3.516737</td><td> 3.690925</td><td> 3.509029</td><td> 3.809023</td><td> 3.669035</td><td> 3.643934</td><td>⋯</td><td> 3.682133</td><td> 3.616704</td><td> 3.628382</td><td> 4.271082</td><td> 3.695145</td><td> 3.495496</td><td> 3.549550</td><td> 4.060019</td><td> 3.600491</td><td> 3.655808</td></tr>\n",
              "\t<tr><td> 4.383910</td><td> 4.708648</td><td> 4.432899</td><td> 4.526895</td><td> 4.488259</td><td> 4.608074</td><td> 4.580424</td><td> 4.661504</td><td> 4.625802</td><td> 4.716292</td><td>⋯</td><td> 4.386812</td><td> 4.689315</td><td> 4.462116</td><td> 5.072281</td><td> 4.453736</td><td> 4.406650</td><td> 4.287105</td><td> 4.758810</td><td> 4.607904</td><td> 4.734079</td></tr>\n",
              "\t<tr><td> 2.699883</td><td> 2.930418</td><td> 2.895077</td><td> 2.841102</td><td> 2.940084</td><td> 2.980981</td><td> 2.765654</td><td> 2.913163</td><td> 2.889444</td><td> 2.879680</td><td>⋯</td><td> 2.864582</td><td> 2.784695</td><td> 2.680536</td><td> 3.649778</td><td> 2.747202</td><td> 2.712709</td><td> 3.027214</td><td> 3.145410</td><td> 2.937561</td><td> 3.043163</td></tr>\n",
              "\t<tr><td> 3.678612</td><td> 4.317831</td><td> 3.630917</td><td> 4.069397</td><td> 3.984527</td><td> 4.351098</td><td> 3.788386</td><td> 4.497050</td><td> 4.117898</td><td> 4.109412</td><td>⋯</td><td> 4.060275</td><td> 4.232263</td><td> 4.316402</td><td> 5.187065</td><td> 3.739662</td><td> 3.823767</td><td> 3.917055</td><td> 4.709099</td><td> 4.162795</td><td> 4.337622</td></tr>\n",
              "\t<tr><td> 2.810256</td><td> 2.942094</td><td> 2.749979</td><td> 2.832647</td><td> 2.857159</td><td> 3.062247</td><td> 2.847811</td><td> 2.791887</td><td> 2.963075</td><td> 2.769324</td><td>⋯</td><td> 2.857095</td><td> 2.919019</td><td> 3.113097</td><td> 3.568712</td><td> 2.831971</td><td> 2.746883</td><td> 2.645809</td><td> 2.852994</td><td> 2.971102</td><td> 2.947954</td></tr>\n",
              "\t<tr><td> 3.645858</td><td> 4.269586</td><td> 4.006102</td><td> 4.255848</td><td> 4.150610</td><td> 4.267042</td><td> 4.212577</td><td> 4.214772</td><td> 4.082522</td><td> 4.203976</td><td>⋯</td><td> 4.227882</td><td> 3.919838</td><td> 4.013516</td><td> 4.642268</td><td> 4.273528</td><td> 4.169034</td><td> 3.915246</td><td> 4.465848</td><td> 4.327164</td><td> 3.918879</td></tr>\n",
              "\t<tr><td> 3.316370</td><td> 3.581908</td><td> 3.056942</td><td> 3.410769</td><td> 3.284309</td><td> 3.618276</td><td> 3.359935</td><td> 3.479047</td><td> 3.491158</td><td> 3.362470</td><td>⋯</td><td> 3.355085</td><td> 3.711451</td><td> 3.379424</td><td> 3.843903</td><td> 3.309006</td><td> 3.352782</td><td> 3.333953</td><td> 3.745820</td><td> 3.402854</td><td> 3.540243</td></tr>\n",
              "\t<tr><td> 3.167166</td><td> 3.512675</td><td> 3.353169</td><td> 3.283520</td><td> 3.218687</td><td> 3.799080</td><td> 3.347829</td><td> 3.629776</td><td> 3.627991</td><td> 3.695275</td><td>⋯</td><td> 3.332981</td><td> 3.196769</td><td> 3.188798</td><td> 4.126638</td><td> 3.642643</td><td> 3.417962</td><td> 3.444908</td><td> 3.609687</td><td> 3.592507</td><td> 3.475932</td></tr>\n",
              "\t<tr><td> 3.307161</td><td> 3.824200</td><td> 3.351805</td><td> 3.643437</td><td> 3.542098</td><td> 3.487272</td><td> 3.377926</td><td> 3.687712</td><td> 3.355104</td><td> 3.356845</td><td>⋯</td><td> 3.467579</td><td> 3.235629</td><td> 3.517249</td><td> 4.328894</td><td> 3.507714</td><td> 3.329776</td><td> 3.445722</td><td> 3.608715</td><td> 3.511458</td><td> 3.472844</td></tr>\n",
              "\t<tr><td> 3.065139</td><td> 3.481522</td><td> 3.080329</td><td> 3.311515</td><td> 3.262023</td><td> 3.431707</td><td> 3.229945</td><td> 3.375576</td><td> 3.282620</td><td> 3.275312</td><td>⋯</td><td> 3.458485</td><td> 3.378340</td><td> 3.558310</td><td> 3.584067</td><td> 3.307731</td><td> 3.134882</td><td> 3.298894</td><td> 3.192620</td><td> 3.429774</td><td> 3.283683</td></tr>\n",
              "\t<tr><td> 3.164347</td><td> 3.759421</td><td> 3.449879</td><td> 3.503902</td><td> 3.630515</td><td> 3.791123</td><td> 3.579631</td><td> 3.706983</td><td> 3.759666</td><td> 3.606362</td><td>⋯</td><td> 3.611630</td><td> 3.252134</td><td> 3.592723</td><td> 3.786969</td><td> 3.365953</td><td> 3.533912</td><td> 3.516784</td><td> 3.837090</td><td> 3.489005</td><td> 3.598844</td></tr>\n",
              "\t<tr><td> 3.985617</td><td> 4.121967</td><td> 4.170324</td><td> 4.035717</td><td> 3.909104</td><td> 4.501956</td><td> 4.088104</td><td> 3.944891</td><td> 4.075566</td><td> 4.323960</td><td>⋯</td><td> 3.794481</td><td> 3.839005</td><td> 4.286551</td><td> 4.202446</td><td> 4.241039</td><td> 4.100354</td><td> 4.068351</td><td> 3.585064</td><td> 3.769250</td><td> 3.875789</td></tr>\n",
              "\t<tr><td> 2.835899</td><td> 3.167495</td><td> 3.005392</td><td> 2.795883</td><td> 2.958170</td><td> 3.002738</td><td> 2.977597</td><td> 2.899119</td><td> 3.186762</td><td> 3.106919</td><td>⋯</td><td> 3.047260</td><td> 3.014277</td><td> 2.952087</td><td> 3.883303</td><td> 3.276816</td><td> 2.849243</td><td> 3.007336</td><td> 2.963200</td><td> 3.047950</td><td> 2.959284</td></tr>\n",
              "\t<tr><td> 3.117956</td><td> 3.535316</td><td> 3.209264</td><td> 3.221393</td><td> 3.215291</td><td> 3.551413</td><td> 3.369410</td><td> 3.373935</td><td> 3.254937</td><td> 3.385676</td><td>⋯</td><td> 3.365475</td><td> 3.409748</td><td> 3.570846</td><td> 3.567051</td><td> 3.240954</td><td> 3.090263</td><td> 3.355941</td><td> 3.488553</td><td> 3.338271</td><td> 3.406502</td></tr>\n",
              "\t<tr><td> 3.047157</td><td> 3.431708</td><td> 3.330659</td><td> 3.341041</td><td> 3.566731</td><td> 3.204193</td><td> 3.264422</td><td> 3.405817</td><td> 3.553040</td><td> 3.504425</td><td>⋯</td><td> 3.001414</td><td> 3.235973</td><td> 3.226530</td><td> 3.529287</td><td> 3.060954</td><td> 3.067836</td><td> 3.212776</td><td> 3.260856</td><td> 2.960611</td><td> 3.030411</td></tr>\n",
              "\t<tr><td> 3.071249</td><td> 3.685181</td><td> 3.477734</td><td> 3.404597</td><td> 3.312801</td><td> 3.384805</td><td> 3.514775</td><td> 3.559333</td><td> 3.603369</td><td> 3.570392</td><td>⋯</td><td> 3.327272</td><td> 3.255692</td><td> 3.234356</td><td> 3.836111</td><td> 3.882375</td><td> 3.678365</td><td> 3.136699</td><td> 4.134082</td><td> 3.291691</td><td> 3.699374</td></tr>\n",
              "\t<tr><td> 3.569393</td><td> 4.022193</td><td> 3.791581</td><td> 3.543309</td><td> 3.549559</td><td> 3.568266</td><td> 3.626582</td><td> 3.772964</td><td> 3.836052</td><td> 3.918502</td><td>⋯</td><td> 3.500579</td><td> 3.682433</td><td> 3.632227</td><td> 3.514454</td><td> 3.788481</td><td> 3.344181</td><td> 3.973577</td><td> 3.819999</td><td> 3.647019</td><td> 3.701474</td></tr>\n",
              "\t<tr><td> 5.401454</td><td> 5.670560</td><td> 5.312411</td><td> 5.394079</td><td> 5.304960</td><td> 5.703434</td><td> 5.444171</td><td> 5.424428</td><td> 5.605376</td><td> 5.447614</td><td>⋯</td><td> 5.375420</td><td> 5.200523</td><td> 5.262061</td><td> 5.506354</td><td> 5.028747</td><td> 5.105038</td><td> 5.233263</td><td> 4.961615</td><td> 5.391048</td><td> 5.222846</td></tr>\n",
              "\t<tr><td> 3.503531</td><td> 3.754342</td><td> 3.621420</td><td> 3.597073</td><td> 3.450297</td><td> 3.709608</td><td> 3.745658</td><td> 3.749129</td><td> 3.857364</td><td> 3.578071</td><td>⋯</td><td> 3.392356</td><td> 3.551869</td><td> 3.706591</td><td> 4.510672</td><td> 3.452462</td><td> 3.388442</td><td> 3.724406</td><td> 3.739153</td><td> 3.670171</td><td> 3.597497</td></tr>\n",
              "\t<tr><td> 3.809207</td><td> 4.016082</td><td> 3.787557</td><td> 3.889417</td><td> 3.895821</td><td> 3.968783</td><td> 3.868369</td><td> 4.098820</td><td> 3.726171</td><td> 4.047202</td><td>⋯</td><td> 3.966562</td><td> 3.874095</td><td> 3.732510</td><td> 4.056094</td><td> 3.973047</td><td> 3.699432</td><td> 3.789657</td><td> 3.757168</td><td> 3.974066</td><td> 3.993834</td></tr>\n",
              "\t<tr><td> 3.265365</td><td> 3.339168</td><td> 3.307359</td><td> 3.185923</td><td> 3.195152</td><td> 3.335317</td><td> 3.190299</td><td> 3.459762</td><td> 3.394946</td><td> 3.384897</td><td>⋯</td><td> 3.299135</td><td> 3.163061</td><td> 3.397570</td><td> 3.870384</td><td> 3.157707</td><td> 3.055493</td><td> 3.203055</td><td> 3.348073</td><td> 3.165001</td><td> 3.604398</td></tr>\n",
              "\t<tr><td> 3.025283</td><td> 3.184374</td><td> 2.999147</td><td> 3.092109</td><td> 2.971140</td><td> 3.033708</td><td> 3.092448</td><td> 2.971268</td><td> 3.019203</td><td> 3.075111</td><td>⋯</td><td> 3.280260</td><td> 3.103965</td><td> 3.121383</td><td> 3.520557</td><td> 3.114530</td><td> 3.028562</td><td> 3.089924</td><td> 3.215887</td><td> 3.308247</td><td> 3.257296</td></tr>\n",
              "\t<tr><td> 4.046307</td><td> 4.299740</td><td> 3.977641</td><td> 4.053675</td><td> 4.000778</td><td> 4.284038</td><td> 3.943451</td><td> 4.101517</td><td> 4.222448</td><td> 4.079160</td><td>⋯</td><td> 3.870091</td><td> 4.081766</td><td> 3.884419</td><td> 4.615082</td><td> 4.208954</td><td> 4.047930</td><td> 3.993888</td><td> 4.196950</td><td> 4.118002</td><td> 4.171202</td></tr>\n",
              "</tbody>\n",
              "</table>\n"
            ],
            "text/markdown": "\nA tibble: 54715 × 280\n\n| GSM2772660 &lt;dbl&gt; | GSM2772661 &lt;dbl&gt; | GSM2772662 &lt;dbl&gt; | GSM2772663 &lt;dbl&gt; | GSM2772664 &lt;dbl&gt; | GSM2772665 &lt;dbl&gt; | GSM2772666 &lt;dbl&gt; | GSM2772667 &lt;dbl&gt; | GSM2772668 &lt;dbl&gt; | GSM2772669 &lt;dbl&gt; | ⋯ ⋯ | GSM2772930 &lt;dbl&gt; | GSM2772931 &lt;dbl&gt; | GSM2772932 &lt;dbl&gt; | GSM2772933 &lt;dbl&gt; | GSM2772934 &lt;dbl&gt; | GSM2772935 &lt;dbl&gt; | GSM2772936 &lt;dbl&gt; | GSM2772937 &lt;dbl&gt; | GSM2772938 &lt;dbl&gt; | GSM2772939 &lt;dbl&gt; |\n|---|---|---|---|---|---|---|---|---|---|---|---|---|---|---|---|---|---|---|---|---|\n| 8.710718 | 8.874406 | 9.157600 | 7.710366 | 7.889133 | 9.187891 | 8.502790 | 7.985991 | 9.288803 | 8.037423 | ⋯ | 7.591758 | 8.417337 | 8.773584 | 6.014932 | 8.118485 | 7.750079 | 7.864324 | 7.541111 | 8.390298 | 7.755427 |\n| 4.646897 | 5.946730 | 5.769209 | 4.512610 | 6.000142 | 4.529334 | 5.326246 | 5.772236 | 5.757419 | 5.547636 | ⋯ | 4.757886 | 4.622830 | 4.427917 | 4.139551 | 4.374756 | 4.173053 | 4.259325 | 4.522224 | 4.355016 | 4.367581 |\n| 6.850312 | 7.420204 | 7.277934 | 7.036745 | 7.085630 | 7.001320 | 7.226530 | 7.395984 | 6.985698 | 7.915826 | ⋯ | 7.579409 | 6.720147 | 6.928376 | 7.491676 | 6.353371 | 6.424754 | 6.478735 | 6.865915 | 6.765574 | 7.624744 |\n| 5.699862 | 5.955848 | 5.819856 | 5.992074 | 5.965098 | 5.978569 | 5.975539 | 6.133506 | 5.623385 | 5.919976 | ⋯ | 6.244688 | 6.067174 | 5.778329 | 6.482538 | 5.982061 | 6.619358 | 7.989656 | 6.025906 | 6.136103 | 6.106748 |\n| 3.344434 | 3.252921 | 3.121310 | 3.304214 | 3.206685 | 3.123327 | 3.070930 | 3.161671 | 3.308474 | 3.214317 | ⋯ | 3.321744 | 3.119197 | 3.081535 | 3.376316 | 3.253850 | 3.114041 | 3.135294 | 3.328501 | 3.282186 | 3.310275 |\n| 5.868637 | 6.131208 | 6.343273 | 6.553460 | 6.514260 | 6.147398 | 6.229095 | 6.772412 | 6.389352 | 7.125314 | ⋯ | 7.610335 | 6.775906 | 5.846778 | 7.738880 | 6.734127 | 6.403276 | 6.953802 | 7.491566 | 7.041392 | 6.623066 |\n| 6.328466 | 6.503984 | 6.757951 | 6.548922 | 6.122024 | 6.445232 | 6.397701 | 6.042659 | 6.081688 | 6.235222 | ⋯ | 7.028600 | 6.991170 | 6.469142 | 7.427648 | 7.080309 | 6.887373 | 7.364023 | 7.143206 | 6.903466 | 6.689848 |\n| 6.208219 | 5.571839 | 6.507097 | 6.199720 | 6.203894 | 6.529891 | 6.313014 | 5.330517 | 6.254045 | 5.597243 | ⋯ | 6.419826 | 6.056686 | 6.181039 | 6.609450 | 6.593351 | 6.472842 | 6.761640 | 6.799355 | 6.475198 | 7.006135 |\n| 3.132818 | 3.415128 | 3.778575 | 3.466669 | 3.514805 | 3.487149 | 3.494214 | 3.475587 | 3.346958 | 4.211679 | ⋯ | 3.892010 | 3.380310 | 3.324342 | 3.983311 | 3.334427 | 3.430526 | 3.282007 | 3.479946 | 3.185831 | 3.047845 |\n| 3.733856 | 3.539647 | 3.438108 | 3.700839 | 3.702347 | 3.460528 | 3.856685 | 3.729152 | 3.581554 | 3.586390 | ⋯ | 3.687228 | 3.754468 | 3.400861 | 4.057299 | 3.642167 | 3.478233 | 4.105242 | 4.053750 | 3.742345 | 3.906835 |\n| 7.610252 | 7.004654 | 6.702438 | 6.100804 | 6.090036 | 6.961523 | 7.590945 | 6.071426 | 6.858493 | 5.650750 | ⋯ | 5.989493 | 5.768124 | 5.183648 | 5.667558 | 5.975436 | 5.578107 | 5.637942 | 6.201278 | 5.833880 | 6.029981 |\n| 5.788125 | 7.136023 | 6.186522 | 5.924929 | 6.208900 | 6.421186 | 6.280378 | 6.088713 | 6.602386 | 6.374070 | ⋯ | 6.061958 | 6.207517 | 6.354013 | 6.172448 | 6.637894 | 6.124872 | 6.224117 | 6.299540 | 6.445489 | 5.961816 |\n| 4.526675 | 5.007525 | 4.697680 | 7.346633 | 4.619856 | 5.222669 | 4.662985 | 4.694242 | 4.758329 | 4.688817 | ⋯ | 4.808429 | 4.324944 | 4.716287 | 5.167433 | 4.727752 | 4.488996 | 4.540959 | 5.003473 | 4.466132 | 4.499061 |\n| 6.175916 | 6.596336 | 6.853145 | 6.255963 | 5.613406 | 6.622564 | 6.388585 | 6.981732 | 5.484935 | 6.749273 | ⋯ | 6.034261 | 6.318915 | 6.624817 | 5.737086 | 5.455112 | 5.877065 | 5.777251 | 5.950221 | 5.819474 | 5.395518 |\n| 5.718520 | 5.989007 | 5.713065 | 5.684500 | 5.686125 | 5.642609 | 5.799371 | 5.446785 | 5.622447 | 5.406135 | ⋯ | 5.215390 | 5.517788 | 5.494737 | 4.541361 | 5.381566 | 5.195050 | 4.839825 | 5.147524 | 5.220633 | 4.987466 |\n| 6.120856 | 5.686528 | 6.129119 | 5.914609 | 6.399094 | 6.581994 | 6.592915 | 5.570232 | 6.476941 | 6.338501 | ⋯ | 5.603387 | 5.281114 | 5.447686 | 5.024311 | 5.654772 | 5.210625 | 5.340103 | 5.248969 | 5.657474 | 5.393393 |\n| 4.859691 | 5.017196 | 4.565536 | 4.960701 | 4.669767 | 4.389944 | 4.721349 | 4.570590 | 5.228010 | 5.837043 | ⋯ | 4.907119 | 5.238682 | 4.566476 | 5.400525 | 4.978317 | 4.757484 | 5.710688 | 5.012431 | 6.381543 | 4.681431 |\n| 4.208919 | 3.675481 | 3.905913 | 3.942027 | 4.136753 | 3.982833 | 3.944142 | 3.557496 | 3.983942 | 3.748262 | ⋯ | 3.588252 | 3.376109 | 3.612507 | 3.751223 | 4.018474 | 3.672570 | 3.915302 | 3.181065 | 3.750482 | 3.675065 |\n| 9.065565 | 8.898784 | 9.217201 | 8.960346 | 9.322506 | 8.921966 | 8.983366 | 8.614708 | 9.386170 | 8.855714 | ⋯ | 8.584307 | 8.679016 | 8.841823 | 7.856904 | 8.614613 | 8.546375 | 8.721467 | 8.585130 | 8.373553 | 8.674633 |\n| 3.394521 | 3.266931 | 3.300064 | 3.342916 | 3.409557 | 3.517821 | 3.445827 | 3.473149 | 3.095228 | 3.510448 | ⋯ | 3.663224 | 3.741129 | 3.470521 | 4.055955 | 3.441005 | 3.083271 | 3.483106 | 3.512454 | 3.318655 | 3.880566 |\n| 3.455415 | 3.776119 | 3.700130 | 3.559179 | 3.466699 | 3.581125 | 3.558926 | 4.319197 | 3.686962 | 3.460544 | ⋯ | 3.377771 | 3.685016 | 3.356726 | 3.788385 | 3.331636 | 3.583266 | 3.622302 | 3.738494 | 4.013802 | 3.409909 |\n| 5.220450 | 5.457247 | 5.066827 | 5.629885 | 5.285212 | 5.469515 | 5.447031 | 5.629642 | 5.437954 | 5.317467 | ⋯ | 5.302943 | 5.608134 | 5.016618 | 6.069220 | 5.646781 | 5.108338 | 5.432807 | 5.857224 | 5.315707 | 5.373689 |\n| 5.165224 | 5.274808 | 5.088125 | 4.981484 | 5.061699 | 5.452313 | 5.318931 | 5.308035 | 5.065224 | 4.744614 | ⋯ | 4.984220 | 4.862046 | 4.910663 | 5.161933 | 4.511387 | 4.568073 | 4.694518 | 5.378836 | 5.048058 | 5.090953 |\n| 5.183767 | 5.599022 | 5.523847 | 5.787182 | 5.587673 | 5.908624 | 5.657962 | 4.907619 | 5.283485 | 5.580372 | ⋯ | 5.980234 | 5.502985 | 5.605563 | 6.375463 | 5.511904 | 6.114137 | 6.333841 | 6.637212 | 6.019013 | 5.654522 |\n| 6.063618 | 5.805057 | 6.171927 | 6.363907 | 5.935886 | 5.929836 | 6.374152 | 5.404390 | 5.529999 | 6.110392 | ⋯ | 6.003798 | 6.187132 | 6.239480 | 5.555113 | 6.143220 | 6.491463 | 6.814779 | 5.943121 | 6.334576 | 5.992864 |\n| 5.926353 | 6.501224 | 6.286900 | 6.191946 | 6.307256 | 6.275659 | 6.097798 | 6.107602 | 6.773994 | 6.568289 | ⋯ | 6.385783 | 5.723349 | 5.861922 | 6.142083 | 6.024705 | 6.038508 | 5.938182 | 6.013510 | 6.268556 | 6.050134 |\n| 4.735268 | 5.138029 | 4.513231 | 4.225513 | 4.097454 | 4.508061 | 5.246336 | 4.806667 | 5.533119 | 5.603630 | ⋯ | 4.325725 | 4.397455 | 4.478868 | 3.714017 | 3.883221 | 4.285750 | 4.616572 | 4.472302 | 4.335842 | 4.145857 |\n| 3.810447 | 3.849535 | 3.930334 | 4.375154 | 3.818202 | 4.475559 | 4.570739 | 3.530396 | 3.986708 | 4.695478 | ⋯ | 4.890325 | 5.136979 | 5.350373 | 5.164471 | 4.893221 | 5.613742 | 4.662284 | 5.084240 | 5.168315 | 3.884383 |\n| 4.570476 | 4.628548 | 4.573795 | 4.883699 | 5.085888 | 5.114427 | 5.007183 | 4.314488 | 5.134620 | 4.949501 | ⋯ | 4.978972 | 5.642967 | 5.590975 | 5.223452 | 5.474585 | 6.009787 | 5.447022 | 4.841001 | 5.443408 | 5.082711 |\n| 2.870621 | 3.274426 | 3.122811 | 3.041369 | 3.236837 | 2.953528 | 3.984600 | 3.050733 | 3.151727 | 3.252812 | ⋯ | 3.143336 | 3.729793 | 3.202946 | 3.338282 | 3.241305 | 2.988423 | 3.080760 | 3.569523 | 2.946357 | 3.137762 |\n| ⋮ | ⋮ | ⋮ | ⋮ | ⋮ | ⋮ | ⋮ | ⋮ | ⋮ | ⋮ | ⋱ | ⋮ | ⋮ | ⋮ | ⋮ | ⋮ | ⋮ | ⋮ | ⋮ | ⋮ | ⋮ |\n|  6.206346 |  6.991656 |  6.711330 |  6.605047 |  6.419037 |  7.163469 |  6.213469 |  6.687530 |  6.727841 |  6.538699 | ⋯ | 10.399822 | 10.178980 | 10.257398 | 10.727768 |  9.832932 | 10.076804 |  9.764981 | 10.713911 | 10.183186 |  9.884574 |\n|  9.444757 |  9.701150 |  9.775212 |  9.663823 |  9.600573 | 10.251249 |  9.217058 |  9.808556 |  9.634020 |  9.536962 | ⋯ | 11.185617 | 11.057513 | 11.071912 | 11.674026 | 10.638487 | 10.824828 | 10.815999 | 11.766821 | 10.975284 | 10.776606 |\n|  9.475398 |  9.872693 |  9.838519 |  9.770866 |  9.853972 | 10.347370 |  9.475349 | 10.059193 |  9.847969 |  9.750288 | ⋯ | 11.219900 | 11.018578 | 11.132342 | 11.872986 | 10.883216 | 11.044103 | 10.945046 | 11.827392 | 11.227470 | 10.685720 |\n| 11.688866 | 12.238937 | 12.038147 | 11.908215 | 11.964315 | 12.454274 | 11.737666 | 12.128244 | 11.899007 | 11.742343 | ⋯ | 12.886232 | 12.801757 | 12.762556 | 13.101364 | 12.640193 | 12.554748 | 12.596383 | 13.184303 | 12.857403 | 12.782267 |\n| 11.420819 | 11.935659 | 11.711015 | 11.551794 | 11.548885 | 12.097431 | 11.471836 | 11.805777 | 11.696203 | 11.471217 | ⋯ | 12.362711 | 12.398507 | 12.284179 | 12.698614 | 12.280761 | 12.191411 | 12.103833 | 12.771110 | 12.314932 | 12.391454 |\n| 13.313835 | 13.485951 | 13.458908 | 13.387272 | 13.326656 | 13.606033 | 13.274434 | 13.430699 | 13.330122 | 13.173560 | ⋯ | 13.858173 | 13.811228 | 13.873312 | 13.832150 | 13.672692 | 13.671612 | 13.667307 | 14.005771 | 13.758174 | 13.857653 |\n| 13.051443 | 13.292273 | 13.268783 | 13.177733 | 13.106871 | 13.410746 | 12.931072 | 13.131958 | 13.034943 | 12.823646 | ⋯ | 13.714327 | 13.613645 | 13.630676 | 13.615001 | 13.422067 | 13.480590 | 13.466508 | 13.814316 | 13.514400 | 13.789310 |\n|  3.523244 |  3.824111 |  3.459434 |  3.611941 |  3.516737 |  3.690925 |  3.509029 |  3.809023 |  3.669035 |  3.643934 | ⋯ |  3.682133 |  3.616704 |  3.628382 |  4.271082 |  3.695145 |  3.495496 |  3.549550 |  4.060019 |  3.600491 |  3.655808 |\n|  4.383910 |  4.708648 |  4.432899 |  4.526895 |  4.488259 |  4.608074 |  4.580424 |  4.661504 |  4.625802 |  4.716292 | ⋯ |  4.386812 |  4.689315 |  4.462116 |  5.072281 |  4.453736 |  4.406650 |  4.287105 |  4.758810 |  4.607904 |  4.734079 |\n|  2.699883 |  2.930418 |  2.895077 |  2.841102 |  2.940084 |  2.980981 |  2.765654 |  2.913163 |  2.889444 |  2.879680 | ⋯ |  2.864582 |  2.784695 |  2.680536 |  3.649778 |  2.747202 |  2.712709 |  3.027214 |  3.145410 |  2.937561 |  3.043163 |\n|  3.678612 |  4.317831 |  3.630917 |  4.069397 |  3.984527 |  4.351098 |  3.788386 |  4.497050 |  4.117898 |  4.109412 | ⋯ |  4.060275 |  4.232263 |  4.316402 |  5.187065 |  3.739662 |  3.823767 |  3.917055 |  4.709099 |  4.162795 |  4.337622 |\n|  2.810256 |  2.942094 |  2.749979 |  2.832647 |  2.857159 |  3.062247 |  2.847811 |  2.791887 |  2.963075 |  2.769324 | ⋯ |  2.857095 |  2.919019 |  3.113097 |  3.568712 |  2.831971 |  2.746883 |  2.645809 |  2.852994 |  2.971102 |  2.947954 |\n|  3.645858 |  4.269586 |  4.006102 |  4.255848 |  4.150610 |  4.267042 |  4.212577 |  4.214772 |  4.082522 |  4.203976 | ⋯ |  4.227882 |  3.919838 |  4.013516 |  4.642268 |  4.273528 |  4.169034 |  3.915246 |  4.465848 |  4.327164 |  3.918879 |\n|  3.316370 |  3.581908 |  3.056942 |  3.410769 |  3.284309 |  3.618276 |  3.359935 |  3.479047 |  3.491158 |  3.362470 | ⋯ |  3.355085 |  3.711451 |  3.379424 |  3.843903 |  3.309006 |  3.352782 |  3.333953 |  3.745820 |  3.402854 |  3.540243 |\n|  3.167166 |  3.512675 |  3.353169 |  3.283520 |  3.218687 |  3.799080 |  3.347829 |  3.629776 |  3.627991 |  3.695275 | ⋯ |  3.332981 |  3.196769 |  3.188798 |  4.126638 |  3.642643 |  3.417962 |  3.444908 |  3.609687 |  3.592507 |  3.475932 |\n|  3.307161 |  3.824200 |  3.351805 |  3.643437 |  3.542098 |  3.487272 |  3.377926 |  3.687712 |  3.355104 |  3.356845 | ⋯ |  3.467579 |  3.235629 |  3.517249 |  4.328894 |  3.507714 |  3.329776 |  3.445722 |  3.608715 |  3.511458 |  3.472844 |\n|  3.065139 |  3.481522 |  3.080329 |  3.311515 |  3.262023 |  3.431707 |  3.229945 |  3.375576 |  3.282620 |  3.275312 | ⋯ |  3.458485 |  3.378340 |  3.558310 |  3.584067 |  3.307731 |  3.134882 |  3.298894 |  3.192620 |  3.429774 |  3.283683 |\n|  3.164347 |  3.759421 |  3.449879 |  3.503902 |  3.630515 |  3.791123 |  3.579631 |  3.706983 |  3.759666 |  3.606362 | ⋯ |  3.611630 |  3.252134 |  3.592723 |  3.786969 |  3.365953 |  3.533912 |  3.516784 |  3.837090 |  3.489005 |  3.598844 |\n|  3.985617 |  4.121967 |  4.170324 |  4.035717 |  3.909104 |  4.501956 |  4.088104 |  3.944891 |  4.075566 |  4.323960 | ⋯ |  3.794481 |  3.839005 |  4.286551 |  4.202446 |  4.241039 |  4.100354 |  4.068351 |  3.585064 |  3.769250 |  3.875789 |\n|  2.835899 |  3.167495 |  3.005392 |  2.795883 |  2.958170 |  3.002738 |  2.977597 |  2.899119 |  3.186762 |  3.106919 | ⋯ |  3.047260 |  3.014277 |  2.952087 |  3.883303 |  3.276816 |  2.849243 |  3.007336 |  2.963200 |  3.047950 |  2.959284 |\n|  3.117956 |  3.535316 |  3.209264 |  3.221393 |  3.215291 |  3.551413 |  3.369410 |  3.373935 |  3.254937 |  3.385676 | ⋯ |  3.365475 |  3.409748 |  3.570846 |  3.567051 |  3.240954 |  3.090263 |  3.355941 |  3.488553 |  3.338271 |  3.406502 |\n|  3.047157 |  3.431708 |  3.330659 |  3.341041 |  3.566731 |  3.204193 |  3.264422 |  3.405817 |  3.553040 |  3.504425 | ⋯ |  3.001414 |  3.235973 |  3.226530 |  3.529287 |  3.060954 |  3.067836 |  3.212776 |  3.260856 |  2.960611 |  3.030411 |\n|  3.071249 |  3.685181 |  3.477734 |  3.404597 |  3.312801 |  3.384805 |  3.514775 |  3.559333 |  3.603369 |  3.570392 | ⋯ |  3.327272 |  3.255692 |  3.234356 |  3.836111 |  3.882375 |  3.678365 |  3.136699 |  4.134082 |  3.291691 |  3.699374 |\n|  3.569393 |  4.022193 |  3.791581 |  3.543309 |  3.549559 |  3.568266 |  3.626582 |  3.772964 |  3.836052 |  3.918502 | ⋯ |  3.500579 |  3.682433 |  3.632227 |  3.514454 |  3.788481 |  3.344181 |  3.973577 |  3.819999 |  3.647019 |  3.701474 |\n|  5.401454 |  5.670560 |  5.312411 |  5.394079 |  5.304960 |  5.703434 |  5.444171 |  5.424428 |  5.605376 |  5.447614 | ⋯ |  5.375420 |  5.200523 |  5.262061 |  5.506354 |  5.028747 |  5.105038 |  5.233263 |  4.961615 |  5.391048 |  5.222846 |\n|  3.503531 |  3.754342 |  3.621420 |  3.597073 |  3.450297 |  3.709608 |  3.745658 |  3.749129 |  3.857364 |  3.578071 | ⋯ |  3.392356 |  3.551869 |  3.706591 |  4.510672 |  3.452462 |  3.388442 |  3.724406 |  3.739153 |  3.670171 |  3.597497 |\n|  3.809207 |  4.016082 |  3.787557 |  3.889417 |  3.895821 |  3.968783 |  3.868369 |  4.098820 |  3.726171 |  4.047202 | ⋯ |  3.966562 |  3.874095 |  3.732510 |  4.056094 |  3.973047 |  3.699432 |  3.789657 |  3.757168 |  3.974066 |  3.993834 |\n|  3.265365 |  3.339168 |  3.307359 |  3.185923 |  3.195152 |  3.335317 |  3.190299 |  3.459762 |  3.394946 |  3.384897 | ⋯ |  3.299135 |  3.163061 |  3.397570 |  3.870384 |  3.157707 |  3.055493 |  3.203055 |  3.348073 |  3.165001 |  3.604398 |\n|  3.025283 |  3.184374 |  2.999147 |  3.092109 |  2.971140 |  3.033708 |  3.092448 |  2.971268 |  3.019203 |  3.075111 | ⋯ |  3.280260 |  3.103965 |  3.121383 |  3.520557 |  3.114530 |  3.028562 |  3.089924 |  3.215887 |  3.308247 |  3.257296 |\n|  4.046307 |  4.299740 |  3.977641 |  4.053675 |  4.000778 |  4.284038 |  3.943451 |  4.101517 |  4.222448 |  4.079160 | ⋯ |  3.870091 |  4.081766 |  3.884419 |  4.615082 |  4.208954 |  4.047930 |  3.993888 |  4.196950 |  4.118002 |  4.171202 |\n\n",
            "text/latex": "A tibble: 54715 × 280\n\\begin{tabular}{lllllllllllllllllllll}\n GSM2772660 & GSM2772661 & GSM2772662 & GSM2772663 & GSM2772664 & GSM2772665 & GSM2772666 & GSM2772667 & GSM2772668 & GSM2772669 & ⋯ & GSM2772930 & GSM2772931 & GSM2772932 & GSM2772933 & GSM2772934 & GSM2772935 & GSM2772936 & GSM2772937 & GSM2772938 & GSM2772939\\\\\n <dbl> & <dbl> & <dbl> & <dbl> & <dbl> & <dbl> & <dbl> & <dbl> & <dbl> & <dbl> & ⋯ & <dbl> & <dbl> & <dbl> & <dbl> & <dbl> & <dbl> & <dbl> & <dbl> & <dbl> & <dbl>\\\\\n\\hline\n\t 8.710718 & 8.874406 & 9.157600 & 7.710366 & 7.889133 & 9.187891 & 8.502790 & 7.985991 & 9.288803 & 8.037423 & ⋯ & 7.591758 & 8.417337 & 8.773584 & 6.014932 & 8.118485 & 7.750079 & 7.864324 & 7.541111 & 8.390298 & 7.755427\\\\\n\t 4.646897 & 5.946730 & 5.769209 & 4.512610 & 6.000142 & 4.529334 & 5.326246 & 5.772236 & 5.757419 & 5.547636 & ⋯ & 4.757886 & 4.622830 & 4.427917 & 4.139551 & 4.374756 & 4.173053 & 4.259325 & 4.522224 & 4.355016 & 4.367581\\\\\n\t 6.850312 & 7.420204 & 7.277934 & 7.036745 & 7.085630 & 7.001320 & 7.226530 & 7.395984 & 6.985698 & 7.915826 & ⋯ & 7.579409 & 6.720147 & 6.928376 & 7.491676 & 6.353371 & 6.424754 & 6.478735 & 6.865915 & 6.765574 & 7.624744\\\\\n\t 5.699862 & 5.955848 & 5.819856 & 5.992074 & 5.965098 & 5.978569 & 5.975539 & 6.133506 & 5.623385 & 5.919976 & ⋯ & 6.244688 & 6.067174 & 5.778329 & 6.482538 & 5.982061 & 6.619358 & 7.989656 & 6.025906 & 6.136103 & 6.106748\\\\\n\t 3.344434 & 3.252921 & 3.121310 & 3.304214 & 3.206685 & 3.123327 & 3.070930 & 3.161671 & 3.308474 & 3.214317 & ⋯ & 3.321744 & 3.119197 & 3.081535 & 3.376316 & 3.253850 & 3.114041 & 3.135294 & 3.328501 & 3.282186 & 3.310275\\\\\n\t 5.868637 & 6.131208 & 6.343273 & 6.553460 & 6.514260 & 6.147398 & 6.229095 & 6.772412 & 6.389352 & 7.125314 & ⋯ & 7.610335 & 6.775906 & 5.846778 & 7.738880 & 6.734127 & 6.403276 & 6.953802 & 7.491566 & 7.041392 & 6.623066\\\\\n\t 6.328466 & 6.503984 & 6.757951 & 6.548922 & 6.122024 & 6.445232 & 6.397701 & 6.042659 & 6.081688 & 6.235222 & ⋯ & 7.028600 & 6.991170 & 6.469142 & 7.427648 & 7.080309 & 6.887373 & 7.364023 & 7.143206 & 6.903466 & 6.689848\\\\\n\t 6.208219 & 5.571839 & 6.507097 & 6.199720 & 6.203894 & 6.529891 & 6.313014 & 5.330517 & 6.254045 & 5.597243 & ⋯ & 6.419826 & 6.056686 & 6.181039 & 6.609450 & 6.593351 & 6.472842 & 6.761640 & 6.799355 & 6.475198 & 7.006135\\\\\n\t 3.132818 & 3.415128 & 3.778575 & 3.466669 & 3.514805 & 3.487149 & 3.494214 & 3.475587 & 3.346958 & 4.211679 & ⋯ & 3.892010 & 3.380310 & 3.324342 & 3.983311 & 3.334427 & 3.430526 & 3.282007 & 3.479946 & 3.185831 & 3.047845\\\\\n\t 3.733856 & 3.539647 & 3.438108 & 3.700839 & 3.702347 & 3.460528 & 3.856685 & 3.729152 & 3.581554 & 3.586390 & ⋯ & 3.687228 & 3.754468 & 3.400861 & 4.057299 & 3.642167 & 3.478233 & 4.105242 & 4.053750 & 3.742345 & 3.906835\\\\\n\t 7.610252 & 7.004654 & 6.702438 & 6.100804 & 6.090036 & 6.961523 & 7.590945 & 6.071426 & 6.858493 & 5.650750 & ⋯ & 5.989493 & 5.768124 & 5.183648 & 5.667558 & 5.975436 & 5.578107 & 5.637942 & 6.201278 & 5.833880 & 6.029981\\\\\n\t 5.788125 & 7.136023 & 6.186522 & 5.924929 & 6.208900 & 6.421186 & 6.280378 & 6.088713 & 6.602386 & 6.374070 & ⋯ & 6.061958 & 6.207517 & 6.354013 & 6.172448 & 6.637894 & 6.124872 & 6.224117 & 6.299540 & 6.445489 & 5.961816\\\\\n\t 4.526675 & 5.007525 & 4.697680 & 7.346633 & 4.619856 & 5.222669 & 4.662985 & 4.694242 & 4.758329 & 4.688817 & ⋯ & 4.808429 & 4.324944 & 4.716287 & 5.167433 & 4.727752 & 4.488996 & 4.540959 & 5.003473 & 4.466132 & 4.499061\\\\\n\t 6.175916 & 6.596336 & 6.853145 & 6.255963 & 5.613406 & 6.622564 & 6.388585 & 6.981732 & 5.484935 & 6.749273 & ⋯ & 6.034261 & 6.318915 & 6.624817 & 5.737086 & 5.455112 & 5.877065 & 5.777251 & 5.950221 & 5.819474 & 5.395518\\\\\n\t 5.718520 & 5.989007 & 5.713065 & 5.684500 & 5.686125 & 5.642609 & 5.799371 & 5.446785 & 5.622447 & 5.406135 & ⋯ & 5.215390 & 5.517788 & 5.494737 & 4.541361 & 5.381566 & 5.195050 & 4.839825 & 5.147524 & 5.220633 & 4.987466\\\\\n\t 6.120856 & 5.686528 & 6.129119 & 5.914609 & 6.399094 & 6.581994 & 6.592915 & 5.570232 & 6.476941 & 6.338501 & ⋯ & 5.603387 & 5.281114 & 5.447686 & 5.024311 & 5.654772 & 5.210625 & 5.340103 & 5.248969 & 5.657474 & 5.393393\\\\\n\t 4.859691 & 5.017196 & 4.565536 & 4.960701 & 4.669767 & 4.389944 & 4.721349 & 4.570590 & 5.228010 & 5.837043 & ⋯ & 4.907119 & 5.238682 & 4.566476 & 5.400525 & 4.978317 & 4.757484 & 5.710688 & 5.012431 & 6.381543 & 4.681431\\\\\n\t 4.208919 & 3.675481 & 3.905913 & 3.942027 & 4.136753 & 3.982833 & 3.944142 & 3.557496 & 3.983942 & 3.748262 & ⋯ & 3.588252 & 3.376109 & 3.612507 & 3.751223 & 4.018474 & 3.672570 & 3.915302 & 3.181065 & 3.750482 & 3.675065\\\\\n\t 9.065565 & 8.898784 & 9.217201 & 8.960346 & 9.322506 & 8.921966 & 8.983366 & 8.614708 & 9.386170 & 8.855714 & ⋯ & 8.584307 & 8.679016 & 8.841823 & 7.856904 & 8.614613 & 8.546375 & 8.721467 & 8.585130 & 8.373553 & 8.674633\\\\\n\t 3.394521 & 3.266931 & 3.300064 & 3.342916 & 3.409557 & 3.517821 & 3.445827 & 3.473149 & 3.095228 & 3.510448 & ⋯ & 3.663224 & 3.741129 & 3.470521 & 4.055955 & 3.441005 & 3.083271 & 3.483106 & 3.512454 & 3.318655 & 3.880566\\\\\n\t 3.455415 & 3.776119 & 3.700130 & 3.559179 & 3.466699 & 3.581125 & 3.558926 & 4.319197 & 3.686962 & 3.460544 & ⋯ & 3.377771 & 3.685016 & 3.356726 & 3.788385 & 3.331636 & 3.583266 & 3.622302 & 3.738494 & 4.013802 & 3.409909\\\\\n\t 5.220450 & 5.457247 & 5.066827 & 5.629885 & 5.285212 & 5.469515 & 5.447031 & 5.629642 & 5.437954 & 5.317467 & ⋯ & 5.302943 & 5.608134 & 5.016618 & 6.069220 & 5.646781 & 5.108338 & 5.432807 & 5.857224 & 5.315707 & 5.373689\\\\\n\t 5.165224 & 5.274808 & 5.088125 & 4.981484 & 5.061699 & 5.452313 & 5.318931 & 5.308035 & 5.065224 & 4.744614 & ⋯ & 4.984220 & 4.862046 & 4.910663 & 5.161933 & 4.511387 & 4.568073 & 4.694518 & 5.378836 & 5.048058 & 5.090953\\\\\n\t 5.183767 & 5.599022 & 5.523847 & 5.787182 & 5.587673 & 5.908624 & 5.657962 & 4.907619 & 5.283485 & 5.580372 & ⋯ & 5.980234 & 5.502985 & 5.605563 & 6.375463 & 5.511904 & 6.114137 & 6.333841 & 6.637212 & 6.019013 & 5.654522\\\\\n\t 6.063618 & 5.805057 & 6.171927 & 6.363907 & 5.935886 & 5.929836 & 6.374152 & 5.404390 & 5.529999 & 6.110392 & ⋯ & 6.003798 & 6.187132 & 6.239480 & 5.555113 & 6.143220 & 6.491463 & 6.814779 & 5.943121 & 6.334576 & 5.992864\\\\\n\t 5.926353 & 6.501224 & 6.286900 & 6.191946 & 6.307256 & 6.275659 & 6.097798 & 6.107602 & 6.773994 & 6.568289 & ⋯ & 6.385783 & 5.723349 & 5.861922 & 6.142083 & 6.024705 & 6.038508 & 5.938182 & 6.013510 & 6.268556 & 6.050134\\\\\n\t 4.735268 & 5.138029 & 4.513231 & 4.225513 & 4.097454 & 4.508061 & 5.246336 & 4.806667 & 5.533119 & 5.603630 & ⋯ & 4.325725 & 4.397455 & 4.478868 & 3.714017 & 3.883221 & 4.285750 & 4.616572 & 4.472302 & 4.335842 & 4.145857\\\\\n\t 3.810447 & 3.849535 & 3.930334 & 4.375154 & 3.818202 & 4.475559 & 4.570739 & 3.530396 & 3.986708 & 4.695478 & ⋯ & 4.890325 & 5.136979 & 5.350373 & 5.164471 & 4.893221 & 5.613742 & 4.662284 & 5.084240 & 5.168315 & 3.884383\\\\\n\t 4.570476 & 4.628548 & 4.573795 & 4.883699 & 5.085888 & 5.114427 & 5.007183 & 4.314488 & 5.134620 & 4.949501 & ⋯ & 4.978972 & 5.642967 & 5.590975 & 5.223452 & 5.474585 & 6.009787 & 5.447022 & 4.841001 & 5.443408 & 5.082711\\\\\n\t 2.870621 & 3.274426 & 3.122811 & 3.041369 & 3.236837 & 2.953528 & 3.984600 & 3.050733 & 3.151727 & 3.252812 & ⋯ & 3.143336 & 3.729793 & 3.202946 & 3.338282 & 3.241305 & 2.988423 & 3.080760 & 3.569523 & 2.946357 & 3.137762\\\\\n\t ⋮ & ⋮ & ⋮ & ⋮ & ⋮ & ⋮ & ⋮ & ⋮ & ⋮ & ⋮ & ⋱ & ⋮ & ⋮ & ⋮ & ⋮ & ⋮ & ⋮ & ⋮ & ⋮ & ⋮ & ⋮\\\\\n\t  6.206346 &  6.991656 &  6.711330 &  6.605047 &  6.419037 &  7.163469 &  6.213469 &  6.687530 &  6.727841 &  6.538699 & ⋯ & 10.399822 & 10.178980 & 10.257398 & 10.727768 &  9.832932 & 10.076804 &  9.764981 & 10.713911 & 10.183186 &  9.884574\\\\\n\t  9.444757 &  9.701150 &  9.775212 &  9.663823 &  9.600573 & 10.251249 &  9.217058 &  9.808556 &  9.634020 &  9.536962 & ⋯ & 11.185617 & 11.057513 & 11.071912 & 11.674026 & 10.638487 & 10.824828 & 10.815999 & 11.766821 & 10.975284 & 10.776606\\\\\n\t  9.475398 &  9.872693 &  9.838519 &  9.770866 &  9.853972 & 10.347370 &  9.475349 & 10.059193 &  9.847969 &  9.750288 & ⋯ & 11.219900 & 11.018578 & 11.132342 & 11.872986 & 10.883216 & 11.044103 & 10.945046 & 11.827392 & 11.227470 & 10.685720\\\\\n\t 11.688866 & 12.238937 & 12.038147 & 11.908215 & 11.964315 & 12.454274 & 11.737666 & 12.128244 & 11.899007 & 11.742343 & ⋯ & 12.886232 & 12.801757 & 12.762556 & 13.101364 & 12.640193 & 12.554748 & 12.596383 & 13.184303 & 12.857403 & 12.782267\\\\\n\t 11.420819 & 11.935659 & 11.711015 & 11.551794 & 11.548885 & 12.097431 & 11.471836 & 11.805777 & 11.696203 & 11.471217 & ⋯ & 12.362711 & 12.398507 & 12.284179 & 12.698614 & 12.280761 & 12.191411 & 12.103833 & 12.771110 & 12.314932 & 12.391454\\\\\n\t 13.313835 & 13.485951 & 13.458908 & 13.387272 & 13.326656 & 13.606033 & 13.274434 & 13.430699 & 13.330122 & 13.173560 & ⋯ & 13.858173 & 13.811228 & 13.873312 & 13.832150 & 13.672692 & 13.671612 & 13.667307 & 14.005771 & 13.758174 & 13.857653\\\\\n\t 13.051443 & 13.292273 & 13.268783 & 13.177733 & 13.106871 & 13.410746 & 12.931072 & 13.131958 & 13.034943 & 12.823646 & ⋯ & 13.714327 & 13.613645 & 13.630676 & 13.615001 & 13.422067 & 13.480590 & 13.466508 & 13.814316 & 13.514400 & 13.789310\\\\\n\t  3.523244 &  3.824111 &  3.459434 &  3.611941 &  3.516737 &  3.690925 &  3.509029 &  3.809023 &  3.669035 &  3.643934 & ⋯ &  3.682133 &  3.616704 &  3.628382 &  4.271082 &  3.695145 &  3.495496 &  3.549550 &  4.060019 &  3.600491 &  3.655808\\\\\n\t  4.383910 &  4.708648 &  4.432899 &  4.526895 &  4.488259 &  4.608074 &  4.580424 &  4.661504 &  4.625802 &  4.716292 & ⋯ &  4.386812 &  4.689315 &  4.462116 &  5.072281 &  4.453736 &  4.406650 &  4.287105 &  4.758810 &  4.607904 &  4.734079\\\\\n\t  2.699883 &  2.930418 &  2.895077 &  2.841102 &  2.940084 &  2.980981 &  2.765654 &  2.913163 &  2.889444 &  2.879680 & ⋯ &  2.864582 &  2.784695 &  2.680536 &  3.649778 &  2.747202 &  2.712709 &  3.027214 &  3.145410 &  2.937561 &  3.043163\\\\\n\t  3.678612 &  4.317831 &  3.630917 &  4.069397 &  3.984527 &  4.351098 &  3.788386 &  4.497050 &  4.117898 &  4.109412 & ⋯ &  4.060275 &  4.232263 &  4.316402 &  5.187065 &  3.739662 &  3.823767 &  3.917055 &  4.709099 &  4.162795 &  4.337622\\\\\n\t  2.810256 &  2.942094 &  2.749979 &  2.832647 &  2.857159 &  3.062247 &  2.847811 &  2.791887 &  2.963075 &  2.769324 & ⋯ &  2.857095 &  2.919019 &  3.113097 &  3.568712 &  2.831971 &  2.746883 &  2.645809 &  2.852994 &  2.971102 &  2.947954\\\\\n\t  3.645858 &  4.269586 &  4.006102 &  4.255848 &  4.150610 &  4.267042 &  4.212577 &  4.214772 &  4.082522 &  4.203976 & ⋯ &  4.227882 &  3.919838 &  4.013516 &  4.642268 &  4.273528 &  4.169034 &  3.915246 &  4.465848 &  4.327164 &  3.918879\\\\\n\t  3.316370 &  3.581908 &  3.056942 &  3.410769 &  3.284309 &  3.618276 &  3.359935 &  3.479047 &  3.491158 &  3.362470 & ⋯ &  3.355085 &  3.711451 &  3.379424 &  3.843903 &  3.309006 &  3.352782 &  3.333953 &  3.745820 &  3.402854 &  3.540243\\\\\n\t  3.167166 &  3.512675 &  3.353169 &  3.283520 &  3.218687 &  3.799080 &  3.347829 &  3.629776 &  3.627991 &  3.695275 & ⋯ &  3.332981 &  3.196769 &  3.188798 &  4.126638 &  3.642643 &  3.417962 &  3.444908 &  3.609687 &  3.592507 &  3.475932\\\\\n\t  3.307161 &  3.824200 &  3.351805 &  3.643437 &  3.542098 &  3.487272 &  3.377926 &  3.687712 &  3.355104 &  3.356845 & ⋯ &  3.467579 &  3.235629 &  3.517249 &  4.328894 &  3.507714 &  3.329776 &  3.445722 &  3.608715 &  3.511458 &  3.472844\\\\\n\t  3.065139 &  3.481522 &  3.080329 &  3.311515 &  3.262023 &  3.431707 &  3.229945 &  3.375576 &  3.282620 &  3.275312 & ⋯ &  3.458485 &  3.378340 &  3.558310 &  3.584067 &  3.307731 &  3.134882 &  3.298894 &  3.192620 &  3.429774 &  3.283683\\\\\n\t  3.164347 &  3.759421 &  3.449879 &  3.503902 &  3.630515 &  3.791123 &  3.579631 &  3.706983 &  3.759666 &  3.606362 & ⋯ &  3.611630 &  3.252134 &  3.592723 &  3.786969 &  3.365953 &  3.533912 &  3.516784 &  3.837090 &  3.489005 &  3.598844\\\\\n\t  3.985617 &  4.121967 &  4.170324 &  4.035717 &  3.909104 &  4.501956 &  4.088104 &  3.944891 &  4.075566 &  4.323960 & ⋯ &  3.794481 &  3.839005 &  4.286551 &  4.202446 &  4.241039 &  4.100354 &  4.068351 &  3.585064 &  3.769250 &  3.875789\\\\\n\t  2.835899 &  3.167495 &  3.005392 &  2.795883 &  2.958170 &  3.002738 &  2.977597 &  2.899119 &  3.186762 &  3.106919 & ⋯ &  3.047260 &  3.014277 &  2.952087 &  3.883303 &  3.276816 &  2.849243 &  3.007336 &  2.963200 &  3.047950 &  2.959284\\\\\n\t  3.117956 &  3.535316 &  3.209264 &  3.221393 &  3.215291 &  3.551413 &  3.369410 &  3.373935 &  3.254937 &  3.385676 & ⋯ &  3.365475 &  3.409748 &  3.570846 &  3.567051 &  3.240954 &  3.090263 &  3.355941 &  3.488553 &  3.338271 &  3.406502\\\\\n\t  3.047157 &  3.431708 &  3.330659 &  3.341041 &  3.566731 &  3.204193 &  3.264422 &  3.405817 &  3.553040 &  3.504425 & ⋯ &  3.001414 &  3.235973 &  3.226530 &  3.529287 &  3.060954 &  3.067836 &  3.212776 &  3.260856 &  2.960611 &  3.030411\\\\\n\t  3.071249 &  3.685181 &  3.477734 &  3.404597 &  3.312801 &  3.384805 &  3.514775 &  3.559333 &  3.603369 &  3.570392 & ⋯ &  3.327272 &  3.255692 &  3.234356 &  3.836111 &  3.882375 &  3.678365 &  3.136699 &  4.134082 &  3.291691 &  3.699374\\\\\n\t  3.569393 &  4.022193 &  3.791581 &  3.543309 &  3.549559 &  3.568266 &  3.626582 &  3.772964 &  3.836052 &  3.918502 & ⋯ &  3.500579 &  3.682433 &  3.632227 &  3.514454 &  3.788481 &  3.344181 &  3.973577 &  3.819999 &  3.647019 &  3.701474\\\\\n\t  5.401454 &  5.670560 &  5.312411 &  5.394079 &  5.304960 &  5.703434 &  5.444171 &  5.424428 &  5.605376 &  5.447614 & ⋯ &  5.375420 &  5.200523 &  5.262061 &  5.506354 &  5.028747 &  5.105038 &  5.233263 &  4.961615 &  5.391048 &  5.222846\\\\\n\t  3.503531 &  3.754342 &  3.621420 &  3.597073 &  3.450297 &  3.709608 &  3.745658 &  3.749129 &  3.857364 &  3.578071 & ⋯ &  3.392356 &  3.551869 &  3.706591 &  4.510672 &  3.452462 &  3.388442 &  3.724406 &  3.739153 &  3.670171 &  3.597497\\\\\n\t  3.809207 &  4.016082 &  3.787557 &  3.889417 &  3.895821 &  3.968783 &  3.868369 &  4.098820 &  3.726171 &  4.047202 & ⋯ &  3.966562 &  3.874095 &  3.732510 &  4.056094 &  3.973047 &  3.699432 &  3.789657 &  3.757168 &  3.974066 &  3.993834\\\\\n\t  3.265365 &  3.339168 &  3.307359 &  3.185923 &  3.195152 &  3.335317 &  3.190299 &  3.459762 &  3.394946 &  3.384897 & ⋯ &  3.299135 &  3.163061 &  3.397570 &  3.870384 &  3.157707 &  3.055493 &  3.203055 &  3.348073 &  3.165001 &  3.604398\\\\\n\t  3.025283 &  3.184374 &  2.999147 &  3.092109 &  2.971140 &  3.033708 &  3.092448 &  2.971268 &  3.019203 &  3.075111 & ⋯ &  3.280260 &  3.103965 &  3.121383 &  3.520557 &  3.114530 &  3.028562 &  3.089924 &  3.215887 &  3.308247 &  3.257296\\\\\n\t  4.046307 &  4.299740 &  3.977641 &  4.053675 &  4.000778 &  4.284038 &  3.943451 &  4.101517 &  4.222448 &  4.079160 & ⋯ &  3.870091 &  4.081766 &  3.884419 &  4.615082 &  4.208954 &  4.047930 &  3.993888 &  4.196950 &  4.118002 &  4.171202\\\\\n\\end{tabular}\n",
            "text/plain": [
              "      GSM2772660 GSM2772661 GSM2772662 GSM2772663 GSM2772664 GSM2772665\n",
              "1     8.710718   8.874406   9.157600   7.710366   7.889133   9.187891  \n",
              "2     4.646897   5.946730   5.769209   4.512610   6.000142   4.529334  \n",
              "3     6.850312   7.420204   7.277934   7.036745   7.085630   7.001320  \n",
              "4     5.699862   5.955848   5.819856   5.992074   5.965098   5.978569  \n",
              "5     3.344434   3.252921   3.121310   3.304214   3.206685   3.123327  \n",
              "6     5.868637   6.131208   6.343273   6.553460   6.514260   6.147398  \n",
              "7     6.328466   6.503984   6.757951   6.548922   6.122024   6.445232  \n",
              "8     6.208219   5.571839   6.507097   6.199720   6.203894   6.529891  \n",
              "9     3.132818   3.415128   3.778575   3.466669   3.514805   3.487149  \n",
              "10    3.733856   3.539647   3.438108   3.700839   3.702347   3.460528  \n",
              "11    7.610252   7.004654   6.702438   6.100804   6.090036   6.961523  \n",
              "12    5.788125   7.136023   6.186522   5.924929   6.208900   6.421186  \n",
              "13    4.526675   5.007525   4.697680   7.346633   4.619856   5.222669  \n",
              "14    6.175916   6.596336   6.853145   6.255963   5.613406   6.622564  \n",
              "15    5.718520   5.989007   5.713065   5.684500   5.686125   5.642609  \n",
              "16    6.120856   5.686528   6.129119   5.914609   6.399094   6.581994  \n",
              "17    4.859691   5.017196   4.565536   4.960701   4.669767   4.389944  \n",
              "18    4.208919   3.675481   3.905913   3.942027   4.136753   3.982833  \n",
              "19    9.065565   8.898784   9.217201   8.960346   9.322506   8.921966  \n",
              "20    3.394521   3.266931   3.300064   3.342916   3.409557   3.517821  \n",
              "21    3.455415   3.776119   3.700130   3.559179   3.466699   3.581125  \n",
              "22    5.220450   5.457247   5.066827   5.629885   5.285212   5.469515  \n",
              "23    5.165224   5.274808   5.088125   4.981484   5.061699   5.452313  \n",
              "24    5.183767   5.599022   5.523847   5.787182   5.587673   5.908624  \n",
              "25    6.063618   5.805057   6.171927   6.363907   5.935886   5.929836  \n",
              "26    5.926353   6.501224   6.286900   6.191946   6.307256   6.275659  \n",
              "27    4.735268   5.138029   4.513231   4.225513   4.097454   4.508061  \n",
              "28    3.810447   3.849535   3.930334   4.375154   3.818202   4.475559  \n",
              "29    4.570476   4.628548   4.573795   4.883699   5.085888   5.114427  \n",
              "30    2.870621   3.274426   3.122811   3.041369   3.236837   2.953528  \n",
              "⋮     ⋮          ⋮          ⋮          ⋮          ⋮          ⋮         \n",
              "54686  6.206346   6.991656   6.711330   6.605047   6.419037   7.163469 \n",
              "54687  9.444757   9.701150   9.775212   9.663823   9.600573  10.251249 \n",
              "54688  9.475398   9.872693   9.838519   9.770866   9.853972  10.347370 \n",
              "54689 11.688866  12.238937  12.038147  11.908215  11.964315  12.454274 \n",
              "54690 11.420819  11.935659  11.711015  11.551794  11.548885  12.097431 \n",
              "54691 13.313835  13.485951  13.458908  13.387272  13.326656  13.606033 \n",
              "54692 13.051443  13.292273  13.268783  13.177733  13.106871  13.410746 \n",
              "54693  3.523244   3.824111   3.459434   3.611941   3.516737   3.690925 \n",
              "54694  4.383910   4.708648   4.432899   4.526895   4.488259   4.608074 \n",
              "54695  2.699883   2.930418   2.895077   2.841102   2.940084   2.980981 \n",
              "54696  3.678612   4.317831   3.630917   4.069397   3.984527   4.351098 \n",
              "54697  2.810256   2.942094   2.749979   2.832647   2.857159   3.062247 \n",
              "54698  3.645858   4.269586   4.006102   4.255848   4.150610   4.267042 \n",
              "54699  3.316370   3.581908   3.056942   3.410769   3.284309   3.618276 \n",
              "54700  3.167166   3.512675   3.353169   3.283520   3.218687   3.799080 \n",
              "54701  3.307161   3.824200   3.351805   3.643437   3.542098   3.487272 \n",
              "54702  3.065139   3.481522   3.080329   3.311515   3.262023   3.431707 \n",
              "54703  3.164347   3.759421   3.449879   3.503902   3.630515   3.791123 \n",
              "54704  3.985617   4.121967   4.170324   4.035717   3.909104   4.501956 \n",
              "54705  2.835899   3.167495   3.005392   2.795883   2.958170   3.002738 \n",
              "54706  3.117956   3.535316   3.209264   3.221393   3.215291   3.551413 \n",
              "54707  3.047157   3.431708   3.330659   3.341041   3.566731   3.204193 \n",
              "54708  3.071249   3.685181   3.477734   3.404597   3.312801   3.384805 \n",
              "54709  3.569393   4.022193   3.791581   3.543309   3.549559   3.568266 \n",
              "54710  5.401454   5.670560   5.312411   5.394079   5.304960   5.703434 \n",
              "54711  3.503531   3.754342   3.621420   3.597073   3.450297   3.709608 \n",
              "54712  3.809207   4.016082   3.787557   3.889417   3.895821   3.968783 \n",
              "54713  3.265365   3.339168   3.307359   3.185923   3.195152   3.335317 \n",
              "54714  3.025283   3.184374   2.999147   3.092109   2.971140   3.033708 \n",
              "54715  4.046307   4.299740   3.977641   4.053675   4.000778   4.284038 \n",
              "      GSM2772666 GSM2772667 GSM2772668 GSM2772669 ⋯ GSM2772930 GSM2772931\n",
              "1     8.502790   7.985991   9.288803   8.037423   ⋯ 7.591758   8.417337  \n",
              "2     5.326246   5.772236   5.757419   5.547636   ⋯ 4.757886   4.622830  \n",
              "3     7.226530   7.395984   6.985698   7.915826   ⋯ 7.579409   6.720147  \n",
              "4     5.975539   6.133506   5.623385   5.919976   ⋯ 6.244688   6.067174  \n",
              "5     3.070930   3.161671   3.308474   3.214317   ⋯ 3.321744   3.119197  \n",
              "6     6.229095   6.772412   6.389352   7.125314   ⋯ 7.610335   6.775906  \n",
              "7     6.397701   6.042659   6.081688   6.235222   ⋯ 7.028600   6.991170  \n",
              "8     6.313014   5.330517   6.254045   5.597243   ⋯ 6.419826   6.056686  \n",
              "9     3.494214   3.475587   3.346958   4.211679   ⋯ 3.892010   3.380310  \n",
              "10    3.856685   3.729152   3.581554   3.586390   ⋯ 3.687228   3.754468  \n",
              "11    7.590945   6.071426   6.858493   5.650750   ⋯ 5.989493   5.768124  \n",
              "12    6.280378   6.088713   6.602386   6.374070   ⋯ 6.061958   6.207517  \n",
              "13    4.662985   4.694242   4.758329   4.688817   ⋯ 4.808429   4.324944  \n",
              "14    6.388585   6.981732   5.484935   6.749273   ⋯ 6.034261   6.318915  \n",
              "15    5.799371   5.446785   5.622447   5.406135   ⋯ 5.215390   5.517788  \n",
              "16    6.592915   5.570232   6.476941   6.338501   ⋯ 5.603387   5.281114  \n",
              "17    4.721349   4.570590   5.228010   5.837043   ⋯ 4.907119   5.238682  \n",
              "18    3.944142   3.557496   3.983942   3.748262   ⋯ 3.588252   3.376109  \n",
              "19    8.983366   8.614708   9.386170   8.855714   ⋯ 8.584307   8.679016  \n",
              "20    3.445827   3.473149   3.095228   3.510448   ⋯ 3.663224   3.741129  \n",
              "21    3.558926   4.319197   3.686962   3.460544   ⋯ 3.377771   3.685016  \n",
              "22    5.447031   5.629642   5.437954   5.317467   ⋯ 5.302943   5.608134  \n",
              "23    5.318931   5.308035   5.065224   4.744614   ⋯ 4.984220   4.862046  \n",
              "24    5.657962   4.907619   5.283485   5.580372   ⋯ 5.980234   5.502985  \n",
              "25    6.374152   5.404390   5.529999   6.110392   ⋯ 6.003798   6.187132  \n",
              "26    6.097798   6.107602   6.773994   6.568289   ⋯ 6.385783   5.723349  \n",
              "27    5.246336   4.806667   5.533119   5.603630   ⋯ 4.325725   4.397455  \n",
              "28    4.570739   3.530396   3.986708   4.695478   ⋯ 4.890325   5.136979  \n",
              "29    5.007183   4.314488   5.134620   4.949501   ⋯ 4.978972   5.642967  \n",
              "30    3.984600   3.050733   3.151727   3.252812   ⋯ 3.143336   3.729793  \n",
              "⋮     ⋮          ⋮          ⋮          ⋮          ⋱ ⋮          ⋮         \n",
              "54686  6.213469   6.687530   6.727841   6.538699  ⋯ 10.399822  10.178980 \n",
              "54687  9.217058   9.808556   9.634020   9.536962  ⋯ 11.185617  11.057513 \n",
              "54688  9.475349  10.059193   9.847969   9.750288  ⋯ 11.219900  11.018578 \n",
              "54689 11.737666  12.128244  11.899007  11.742343  ⋯ 12.886232  12.801757 \n",
              "54690 11.471836  11.805777  11.696203  11.471217  ⋯ 12.362711  12.398507 \n",
              "54691 13.274434  13.430699  13.330122  13.173560  ⋯ 13.858173  13.811228 \n",
              "54692 12.931072  13.131958  13.034943  12.823646  ⋯ 13.714327  13.613645 \n",
              "54693  3.509029   3.809023   3.669035   3.643934  ⋯  3.682133   3.616704 \n",
              "54694  4.580424   4.661504   4.625802   4.716292  ⋯  4.386812   4.689315 \n",
              "54695  2.765654   2.913163   2.889444   2.879680  ⋯  2.864582   2.784695 \n",
              "54696  3.788386   4.497050   4.117898   4.109412  ⋯  4.060275   4.232263 \n",
              "54697  2.847811   2.791887   2.963075   2.769324  ⋯  2.857095   2.919019 \n",
              "54698  4.212577   4.214772   4.082522   4.203976  ⋯  4.227882   3.919838 \n",
              "54699  3.359935   3.479047   3.491158   3.362470  ⋯  3.355085   3.711451 \n",
              "54700  3.347829   3.629776   3.627991   3.695275  ⋯  3.332981   3.196769 \n",
              "54701  3.377926   3.687712   3.355104   3.356845  ⋯  3.467579   3.235629 \n",
              "54702  3.229945   3.375576   3.282620   3.275312  ⋯  3.458485   3.378340 \n",
              "54703  3.579631   3.706983   3.759666   3.606362  ⋯  3.611630   3.252134 \n",
              "54704  4.088104   3.944891   4.075566   4.323960  ⋯  3.794481   3.839005 \n",
              "54705  2.977597   2.899119   3.186762   3.106919  ⋯  3.047260   3.014277 \n",
              "54706  3.369410   3.373935   3.254937   3.385676  ⋯  3.365475   3.409748 \n",
              "54707  3.264422   3.405817   3.553040   3.504425  ⋯  3.001414   3.235973 \n",
              "54708  3.514775   3.559333   3.603369   3.570392  ⋯  3.327272   3.255692 \n",
              "54709  3.626582   3.772964   3.836052   3.918502  ⋯  3.500579   3.682433 \n",
              "54710  5.444171   5.424428   5.605376   5.447614  ⋯  5.375420   5.200523 \n",
              "54711  3.745658   3.749129   3.857364   3.578071  ⋯  3.392356   3.551869 \n",
              "54712  3.868369   4.098820   3.726171   4.047202  ⋯  3.966562   3.874095 \n",
              "54713  3.190299   3.459762   3.394946   3.384897  ⋯  3.299135   3.163061 \n",
              "54714  3.092448   2.971268   3.019203   3.075111  ⋯  3.280260   3.103965 \n",
              "54715  3.943451   4.101517   4.222448   4.079160  ⋯  3.870091   4.081766 \n",
              "      GSM2772932 GSM2772933 GSM2772934 GSM2772935 GSM2772936 GSM2772937\n",
              "1     8.773584   6.014932   8.118485   7.750079   7.864324   7.541111  \n",
              "2     4.427917   4.139551   4.374756   4.173053   4.259325   4.522224  \n",
              "3     6.928376   7.491676   6.353371   6.424754   6.478735   6.865915  \n",
              "4     5.778329   6.482538   5.982061   6.619358   7.989656   6.025906  \n",
              "5     3.081535   3.376316   3.253850   3.114041   3.135294   3.328501  \n",
              "6     5.846778   7.738880   6.734127   6.403276   6.953802   7.491566  \n",
              "7     6.469142   7.427648   7.080309   6.887373   7.364023   7.143206  \n",
              "8     6.181039   6.609450   6.593351   6.472842   6.761640   6.799355  \n",
              "9     3.324342   3.983311   3.334427   3.430526   3.282007   3.479946  \n",
              "10    3.400861   4.057299   3.642167   3.478233   4.105242   4.053750  \n",
              "11    5.183648   5.667558   5.975436   5.578107   5.637942   6.201278  \n",
              "12    6.354013   6.172448   6.637894   6.124872   6.224117   6.299540  \n",
              "13    4.716287   5.167433   4.727752   4.488996   4.540959   5.003473  \n",
              "14    6.624817   5.737086   5.455112   5.877065   5.777251   5.950221  \n",
              "15    5.494737   4.541361   5.381566   5.195050   4.839825   5.147524  \n",
              "16    5.447686   5.024311   5.654772   5.210625   5.340103   5.248969  \n",
              "17    4.566476   5.400525   4.978317   4.757484   5.710688   5.012431  \n",
              "18    3.612507   3.751223   4.018474   3.672570   3.915302   3.181065  \n",
              "19    8.841823   7.856904   8.614613   8.546375   8.721467   8.585130  \n",
              "20    3.470521   4.055955   3.441005   3.083271   3.483106   3.512454  \n",
              "21    3.356726   3.788385   3.331636   3.583266   3.622302   3.738494  \n",
              "22    5.016618   6.069220   5.646781   5.108338   5.432807   5.857224  \n",
              "23    4.910663   5.161933   4.511387   4.568073   4.694518   5.378836  \n",
              "24    5.605563   6.375463   5.511904   6.114137   6.333841   6.637212  \n",
              "25    6.239480   5.555113   6.143220   6.491463   6.814779   5.943121  \n",
              "26    5.861922   6.142083   6.024705   6.038508   5.938182   6.013510  \n",
              "27    4.478868   3.714017   3.883221   4.285750   4.616572   4.472302  \n",
              "28    5.350373   5.164471   4.893221   5.613742   4.662284   5.084240  \n",
              "29    5.590975   5.223452   5.474585   6.009787   5.447022   4.841001  \n",
              "30    3.202946   3.338282   3.241305   2.988423   3.080760   3.569523  \n",
              "⋮     ⋮          ⋮          ⋮          ⋮          ⋮          ⋮         \n",
              "54686 10.257398  10.727768   9.832932  10.076804   9.764981  10.713911 \n",
              "54687 11.071912  11.674026  10.638487  10.824828  10.815999  11.766821 \n",
              "54688 11.132342  11.872986  10.883216  11.044103  10.945046  11.827392 \n",
              "54689 12.762556  13.101364  12.640193  12.554748  12.596383  13.184303 \n",
              "54690 12.284179  12.698614  12.280761  12.191411  12.103833  12.771110 \n",
              "54691 13.873312  13.832150  13.672692  13.671612  13.667307  14.005771 \n",
              "54692 13.630676  13.615001  13.422067  13.480590  13.466508  13.814316 \n",
              "54693  3.628382   4.271082   3.695145   3.495496   3.549550   4.060019 \n",
              "54694  4.462116   5.072281   4.453736   4.406650   4.287105   4.758810 \n",
              "54695  2.680536   3.649778   2.747202   2.712709   3.027214   3.145410 \n",
              "54696  4.316402   5.187065   3.739662   3.823767   3.917055   4.709099 \n",
              "54697  3.113097   3.568712   2.831971   2.746883   2.645809   2.852994 \n",
              "54698  4.013516   4.642268   4.273528   4.169034   3.915246   4.465848 \n",
              "54699  3.379424   3.843903   3.309006   3.352782   3.333953   3.745820 \n",
              "54700  3.188798   4.126638   3.642643   3.417962   3.444908   3.609687 \n",
              "54701  3.517249   4.328894   3.507714   3.329776   3.445722   3.608715 \n",
              "54702  3.558310   3.584067   3.307731   3.134882   3.298894   3.192620 \n",
              "54703  3.592723   3.786969   3.365953   3.533912   3.516784   3.837090 \n",
              "54704  4.286551   4.202446   4.241039   4.100354   4.068351   3.585064 \n",
              "54705  2.952087   3.883303   3.276816   2.849243   3.007336   2.963200 \n",
              "54706  3.570846   3.567051   3.240954   3.090263   3.355941   3.488553 \n",
              "54707  3.226530   3.529287   3.060954   3.067836   3.212776   3.260856 \n",
              "54708  3.234356   3.836111   3.882375   3.678365   3.136699   4.134082 \n",
              "54709  3.632227   3.514454   3.788481   3.344181   3.973577   3.819999 \n",
              "54710  5.262061   5.506354   5.028747   5.105038   5.233263   4.961615 \n",
              "54711  3.706591   4.510672   3.452462   3.388442   3.724406   3.739153 \n",
              "54712  3.732510   4.056094   3.973047   3.699432   3.789657   3.757168 \n",
              "54713  3.397570   3.870384   3.157707   3.055493   3.203055   3.348073 \n",
              "54714  3.121383   3.520557   3.114530   3.028562   3.089924   3.215887 \n",
              "54715  3.884419   4.615082   4.208954   4.047930   3.993888   4.196950 \n",
              "      GSM2772938 GSM2772939\n",
              "1     8.390298   7.755427  \n",
              "2     4.355016   4.367581  \n",
              "3     6.765574   7.624744  \n",
              "4     6.136103   6.106748  \n",
              "5     3.282186   3.310275  \n",
              "6     7.041392   6.623066  \n",
              "7     6.903466   6.689848  \n",
              "8     6.475198   7.006135  \n",
              "9     3.185831   3.047845  \n",
              "10    3.742345   3.906835  \n",
              "11    5.833880   6.029981  \n",
              "12    6.445489   5.961816  \n",
              "13    4.466132   4.499061  \n",
              "14    5.819474   5.395518  \n",
              "15    5.220633   4.987466  \n",
              "16    5.657474   5.393393  \n",
              "17    6.381543   4.681431  \n",
              "18    3.750482   3.675065  \n",
              "19    8.373553   8.674633  \n",
              "20    3.318655   3.880566  \n",
              "21    4.013802   3.409909  \n",
              "22    5.315707   5.373689  \n",
              "23    5.048058   5.090953  \n",
              "24    6.019013   5.654522  \n",
              "25    6.334576   5.992864  \n",
              "26    6.268556   6.050134  \n",
              "27    4.335842   4.145857  \n",
              "28    5.168315   3.884383  \n",
              "29    5.443408   5.082711  \n",
              "30    2.946357   3.137762  \n",
              "⋮     ⋮          ⋮         \n",
              "54686 10.183186   9.884574 \n",
              "54687 10.975284  10.776606 \n",
              "54688 11.227470  10.685720 \n",
              "54689 12.857403  12.782267 \n",
              "54690 12.314932  12.391454 \n",
              "54691 13.758174  13.857653 \n",
              "54692 13.514400  13.789310 \n",
              "54693  3.600491   3.655808 \n",
              "54694  4.607904   4.734079 \n",
              "54695  2.937561   3.043163 \n",
              "54696  4.162795   4.337622 \n",
              "54697  2.971102   2.947954 \n",
              "54698  4.327164   3.918879 \n",
              "54699  3.402854   3.540243 \n",
              "54700  3.592507   3.475932 \n",
              "54701  3.511458   3.472844 \n",
              "54702  3.429774   3.283683 \n",
              "54703  3.489005   3.598844 \n",
              "54704  3.769250   3.875789 \n",
              "54705  3.047950   2.959284 \n",
              "54706  3.338271   3.406502 \n",
              "54707  2.960611   3.030411 \n",
              "54708  3.291691   3.699374 \n",
              "54709  3.647019   3.701474 \n",
              "54710  5.391048   5.222846 \n",
              "54711  3.670171   3.597497 \n",
              "54712  3.974066   3.993834 \n",
              "54713  3.165001   3.604398 \n",
              "54714  3.308247   3.257296 \n",
              "54715  4.118002   4.171202 "
            ]
          },
          "metadata": {}
        }
      ]
    },
    {
      "cell_type": "code",
      "source": [
        "colData(gse103512)"
      ],
      "metadata": {
        "colab": {
          "base_uri": "https://localhost:8080/",
          "height": 1000
        },
        "id": "m9OHU57bJFi_",
        "outputId": "3ed963b5-8f53-4620-a980-8cdea53ced86"
      },
      "execution_count": null,
      "outputs": [
        {
          "output_type": "display_data",
          "data": {
            "text/plain": [
              "DataFrame with 280 rows and 72 columns\n",
              "                            title geo_accession                status\n",
              "                      <character>   <character>           <character>\n",
              "GSM2772660       BC_coex_path_001    GSM2772660 Public on Sep 07 2017\n",
              "GSM2772661       BC_coex_path_002    GSM2772661 Public on Sep 07 2017\n",
              "GSM2772662       BC_coex_path_003    GSM2772662 Public on Sep 07 2017\n",
              "GSM2772663       BC_coex_path_004    GSM2772663 Public on Sep 07 2017\n",
              "GSM2772664       BC_coex_path_005    GSM2772664 Public on Sep 07 2017\n",
              "...                           ...           ...                   ...\n",
              "GSM2772935 PC_coex_path_002_nor..    GSM2772935 Public on Sep 07 2017\n",
              "GSM2772936 PC_coex_path_003_nor..    GSM2772936 Public on Sep 07 2017\n",
              "GSM2772937 PC_coex_path_009_nor..    GSM2772937 Public on Sep 07 2017\n",
              "GSM2772938 PC_coex_path_004_nor..    GSM2772938 Public on Sep 07 2017\n",
              "GSM2772939 PC_coex_path_010_nor..    GSM2772939 Public on Sep 07 2017\n",
              "           submission_date last_update_date        type channel_count\n",
              "               <character>      <character> <character>   <character>\n",
              "GSM2772660     Sep 05 2017      Jan 23 2018         RNA             1\n",
              "GSM2772661     Sep 05 2017      Jan 23 2018         RNA             1\n",
              "GSM2772662     Sep 05 2017      Jan 23 2018         RNA             1\n",
              "GSM2772663     Sep 05 2017      Jan 23 2018         RNA             1\n",
              "GSM2772664     Sep 05 2017      Jan 23 2018         RNA             1\n",
              "...                    ...              ...         ...           ...\n",
              "GSM2772935     Sep 05 2017      Jan 23 2018         RNA             1\n",
              "GSM2772936     Sep 05 2017      Jan 23 2018         RNA             1\n",
              "GSM2772937     Sep 05 2017      Jan 23 2018         RNA             1\n",
              "GSM2772938     Sep 05 2017      Jan 23 2018         RNA             1\n",
              "GSM2772939     Sep 05 2017      Jan 23 2018         RNA             1\n",
              "                  source_name_ch1 organism_ch1 characteristics_ch1\n",
              "                      <character>  <character>         <character>\n",
              "GSM2772660 Total RNA Seq profil.. Homo sapiens     cancer type: BC\n",
              "GSM2772661 Total RNA Seq profil.. Homo sapiens     cancer type: BC\n",
              "GSM2772662 Total RNA Seq profil.. Homo sapiens     cancer type: BC\n",
              "GSM2772663 Total RNA Seq profil.. Homo sapiens     cancer type: BC\n",
              "GSM2772664 Total RNA Seq profil.. Homo sapiens     cancer type: BC\n",
              "...                           ...          ...                 ...\n",
              "GSM2772935 Total RNA Seq profil.. Homo sapiens    cancer type: PCA\n",
              "GSM2772936 Total RNA Seq profil.. Homo sapiens    cancer type: PCA\n",
              "GSM2772937 Total RNA Seq profil.. Homo sapiens    cancer type: PCA\n",
              "GSM2772938 Total RNA Seq profil.. Homo sapiens    cancer type: PCA\n",
              "GSM2772939 Total RNA Seq profil.. Homo sapiens    cancer type: PCA\n",
              "           characteristics_ch1.1 characteristics_ch1.2 characteristics_ch1.3\n",
              "                     <character>           <character>           <character>\n",
              "GSM2772660            normal: no         batch i/ii: I         histology: na\n",
              "GSM2772661            normal: no         batch i/ii: I         histology: na\n",
              "GSM2772662            normal: no         batch i/ii: I         histology: na\n",
              "GSM2772663            normal: no         batch i/ii: I         histology: na\n",
              "GSM2772664            normal: no         batch i/ii: I         histology: na\n",
              "...                          ...                   ...                   ...\n",
              "GSM2772935           normal: yes        batch i/ii: II         histology: na\n",
              "GSM2772936           normal: yes        batch i/ii: II         histology: na\n",
              "GSM2772937           normal: yes        batch i/ii: II         histology: na\n",
              "GSM2772938           normal: yes        batch i/ii: II         histology: na\n",
              "GSM2772939           normal: yes        batch i/ii: II         histology: na\n",
              "           characteristics_ch1.4 characteristics_ch1.5 characteristics_ch1.6\n",
              "                     <character>           <character>           <character>\n",
              "GSM2772660               age: na            gender: na            weight: na\n",
              "GSM2772661               age: na            gender: na            weight: na\n",
              "GSM2772662               age: na            gender: na            weight: na\n",
              "GSM2772663               age: na            gender: na            weight: na\n",
              "GSM2772664               age: na            gender: na            weight: na\n",
              "...                          ...                   ...                   ...\n",
              "GSM2772935               age: na            gender: na            weight: na\n",
              "GSM2772936               age: na            gender: na            weight: na\n",
              "GSM2772937               age: na            gender: na            weight: na\n",
              "GSM2772938               age: na            gender: na            weight: na\n",
              "GSM2772939               age: na            gender: na            weight: na\n",
              "           characteristics_ch1.7 characteristics_ch1.8 characteristics_ch1.9\n",
              "                     <character>           <character>           <character>\n",
              "GSM2772660        bodyheight: na               bmi: na       diseasecode: na\n",
              "GSM2772661        bodyheight: na               bmi: na       diseasecode: na\n",
              "GSM2772662        bodyheight: na               bmi: na       diseasecode: na\n",
              "GSM2772663        bodyheight: na               bmi: na       diseasecode: na\n",
              "GSM2772664        bodyheight: na               bmi: na       diseasecode: na\n",
              "...                          ...                   ...                   ...\n",
              "GSM2772935        bodyheight: na               bmi: na       diseasecode: na\n",
              "GSM2772936        bodyheight: na               bmi: na       diseasecode: na\n",
              "GSM2772937        bodyheight: na               bmi: na       diseasecode: na\n",
              "GSM2772938        bodyheight: na               bmi: na       diseasecode: na\n",
              "GSM2772939        bodyheight: na               bmi: na       diseasecode: na\n",
              "           characteristics_ch1.10 characteristics_ch1.11 characteristics_ch1.12\n",
              "                      <character>            <character>            <character>\n",
              "GSM2772660 diseasedescription: na primary / relapse tu..          tumorsize: na\n",
              "GSM2772661 diseasedescription: na primary / relapse tu..          tumorsize: na\n",
              "GSM2772662 diseasedescription: na primary / relapse tu..          tumorsize: na\n",
              "GSM2772663 diseasedescription: na primary / relapse tu..          tumorsize: na\n",
              "GSM2772664 diseasedescription: na primary / relapse tu..          tumorsize: na\n",
              "...                           ...                    ...                    ...\n",
              "GSM2772935 diseasedescription: na primary / relapse tu..          tumorsize: na\n",
              "GSM2772936 diseasedescription: na primary / relapse tu..          tumorsize: na\n",
              "GSM2772937 diseasedescription: na primary / relapse tu..          tumorsize: na\n",
              "GSM2772938 diseasedescription: na primary / relapse tu..          tumorsize: na\n",
              "GSM2772939 diseasedescription: na primary / relapse tu..          tumorsize: na\n",
              "           characteristics_ch1.13 characteristics_ch1.14 characteristics_ch1.15\n",
              "                      <character>            <character>            <character>\n",
              "GSM2772660       ischemiatime: na       tumorcontent: na              organ: na\n",
              "GSM2772661       ischemiatime: na       tumorcontent: na              organ: na\n",
              "GSM2772662       ischemiatime: na       tumorcontent: na              organ: na\n",
              "GSM2772663       ischemiatime: na       tumorcontent: na              organ: na\n",
              "GSM2772664       ischemiatime: na       tumorcontent: na              organ: na\n",
              "...                           ...                    ...                    ...\n",
              "GSM2772935       ischemiatime: na       tumorcontent: na              organ: na\n",
              "GSM2772936       ischemiatime: na       tumorcontent: na              organ: na\n",
              "GSM2772937       ischemiatime: na       tumorcontent: na              organ: na\n",
              "GSM2772938       ischemiatime: na       tumorcontent: na              organ: na\n",
              "GSM2772939       ischemiatime: na       tumorcontent: na              organ: na\n",
              "           characteristics_ch1.16 characteristics_ch1.17 characteristics_ch1.18\n",
              "                      <character>            <character>            <character>\n",
              "GSM2772660  tumorlocalization: na              Stage: na         radicality: na\n",
              "GSM2772661  tumorlocalization: na              Stage: na         radicality: na\n",
              "GSM2772662  tumorlocalization: na              Stage: na         radicality: na\n",
              "GSM2772663  tumorlocalization: na              Stage: na         radicality: na\n",
              "GSM2772664  tumorlocalization: na              Stage: na         radicality: na\n",
              "...                           ...                    ...                    ...\n",
              "GSM2772935  tumorlocalization: na              Stage: na         radicality: na\n",
              "GSM2772936  tumorlocalization: na              Stage: na         radicality: na\n",
              "GSM2772937  tumorlocalization: na              Stage: na         radicality: na\n",
              "GSM2772938  tumorlocalization: na              Stage: na         radicality: na\n",
              "GSM2772939  tumorlocalization: na              Stage: na         radicality: na\n",
              "           characteristics_ch1.19 characteristics_ch1.20 treatment_protocol_ch1\n",
              "                      <character>            <character>            <character>\n",
              "GSM2772660            grading: na            dignity: na Tumor samples were f..\n",
              "GSM2772661            grading: na            dignity: na Tumor samples were f..\n",
              "GSM2772662            grading: na            dignity: na Tumor samples were f..\n",
              "GSM2772663            grading: na            dignity: na Tumor samples were f..\n",
              "GSM2772664            grading: na            dignity: na Tumor samples were f..\n",
              "...                           ...                    ...                    ...\n",
              "GSM2772935            grading: na            dignity: na Tumor samples were f..\n",
              "GSM2772936            grading: na            dignity: na Tumor samples were f..\n",
              "GSM2772937            grading: na            dignity: na Tumor samples were f..\n",
              "GSM2772938            grading: na            dignity: na Tumor samples were f..\n",
              "GSM2772939            grading: na            dignity: na Tumor samples were f..\n",
              "              growth_protocol_ch1 molecule_ch1   extract_protocol_ch1\n",
              "                      <character>  <character>            <character>\n",
              "GSM2772660 Samples were extract..    total RNA Extraction was done ..\n",
              "GSM2772661 Samples were extract..    total RNA Extraction was done ..\n",
              "GSM2772662 Samples were extract..    total RNA Extraction was done ..\n",
              "GSM2772663 Samples were extract..    total RNA Extraction was done ..\n",
              "GSM2772664 Samples were extract..    total RNA Extraction was done ..\n",
              "...                           ...          ...                    ...\n",
              "GSM2772935 Samples were extract..    total RNA Extraction was done ..\n",
              "GSM2772936 Samples were extract..    total RNA Extraction was done ..\n",
              "GSM2772937 Samples were extract..    total RNA Extraction was done ..\n",
              "GSM2772938 Samples were extract..    total RNA Extraction was done ..\n",
              "GSM2772939 Samples were extract..    total RNA Extraction was done ..\n",
              "             label_ch1     label_protocol_ch1   taxid_ch1\n",
              "           <character>            <character> <character>\n",
              "GSM2772660      biotin Biotin-Labeling and ..        9606\n",
              "GSM2772661      biotin Biotin-Labeling and ..        9606\n",
              "GSM2772662      biotin Biotin-Labeling and ..        9606\n",
              "GSM2772663      biotin Biotin-Labeling and ..        9606\n",
              "GSM2772664      biotin Biotin-Labeling and ..        9606\n",
              "...                ...                    ...         ...\n",
              "GSM2772935      biotin Biotin-Labeling and ..        9606\n",
              "GSM2772936      biotin Biotin-Labeling and ..        9606\n",
              "GSM2772937      biotin Biotin-Labeling and ..        9606\n",
              "GSM2772938      biotin Biotin-Labeling and ..        9606\n",
              "GSM2772939      biotin Biotin-Labeling and ..        9606\n",
              "                     hyb_protocol          scan_protocol        data_processing\n",
              "                      <character>            <character>            <character>\n",
              "GSM2772660 3 ug (15 ul) labeled.. Scanning was done us.. The CEL files were n..\n",
              "GSM2772661 3 ug (15 ul) labeled.. Scanning was done us.. The CEL files were n..\n",
              "GSM2772662 3 ug (15 ul) labeled.. Scanning was done us.. The CEL files were n..\n",
              "GSM2772663 3 ug (15 ul) labeled.. Scanning was done us.. The CEL files were n..\n",
              "GSM2772664 3 ug (15 ul) labeled.. Scanning was done us.. The CEL files were n..\n",
              "...                           ...                    ...                    ...\n",
              "GSM2772935 3 ug (15 ul) labeled.. Scanning was done us.. The CEL files were n..\n",
              "GSM2772936 3 ug (15 ul) labeled.. Scanning was done us.. The CEL files were n..\n",
              "GSM2772937 3 ug (15 ul) labeled.. Scanning was done us.. The CEL files were n..\n",
              "GSM2772938 3 ug (15 ul) labeled.. Scanning was done us.. The CEL files were n..\n",
              "GSM2772939 3 ug (15 ul) labeled.. Scanning was done us.. The CEL files were n..\n",
              "           platform_id  contact_name     contact_department\n",
              "           <character>   <character>            <character>\n",
              "GSM2772660    GPL13158 Wei-Yi,,Cheng Pharma Research and ..\n",
              "GSM2772661    GPL13158 Wei-Yi,,Cheng Pharma Research and ..\n",
              "GSM2772662    GPL13158 Wei-Yi,,Cheng Pharma Research and ..\n",
              "GSM2772663    GPL13158 Wei-Yi,,Cheng Pharma Research and ..\n",
              "GSM2772664    GPL13158 Wei-Yi,,Cheng Pharma Research and ..\n",
              "...                ...           ...                    ...\n",
              "GSM2772935    GPL13158 Wei-Yi,,Cheng Pharma Research and ..\n",
              "GSM2772936    GPL13158 Wei-Yi,,Cheng Pharma Research and ..\n",
              "GSM2772937    GPL13158 Wei-Yi,,Cheng Pharma Research and ..\n",
              "GSM2772938    GPL13158 Wei-Yi,,Cheng Pharma Research and ..\n",
              "GSM2772939    GPL13158 Wei-Yi,,Cheng Pharma Research and ..\n",
              "                contact_institute        contact_address contact_city\n",
              "                      <character>            <character>  <character>\n",
              "GSM2772660 Roche Innovation Cen.. Roche Translational ..     New York\n",
              "GSM2772661 Roche Innovation Cen.. Roche Translational ..     New York\n",
              "GSM2772662 Roche Innovation Cen.. Roche Translational ..     New York\n",
              "GSM2772663 Roche Innovation Cen.. Roche Translational ..     New York\n",
              "GSM2772664 Roche Innovation Cen.. Roche Translational ..     New York\n",
              "...                           ...                    ...          ...\n",
              "GSM2772935 Roche Innovation Cen.. Roche Translational ..     New York\n",
              "GSM2772936 Roche Innovation Cen.. Roche Translational ..     New York\n",
              "GSM2772937 Roche Innovation Cen.. Roche Translational ..     New York\n",
              "GSM2772938 Roche Innovation Cen.. Roche Translational ..     New York\n",
              "GSM2772939 Roche Innovation Cen.. Roche Translational ..     New York\n",
              "           contact_state contact_zip.postal_code contact_country\n",
              "             <character>             <character>     <character>\n",
              "GSM2772660      New York                   10016             USA\n",
              "GSM2772661      New York                   10016             USA\n",
              "GSM2772662      New York                   10016             USA\n",
              "GSM2772663      New York                   10016             USA\n",
              "GSM2772664      New York                   10016             USA\n",
              "...                  ...                     ...             ...\n",
              "GSM2772935      New York                   10016             USA\n",
              "GSM2772936      New York                   10016             USA\n",
              "GSM2772937      New York                   10016             USA\n",
              "GSM2772938      New York                   10016             USA\n",
              "GSM2772939      New York                   10016             USA\n",
              "               supplementary_file data_row_count     age.ch1 batch.i.ii.ch1\n",
              "                      <character>    <character> <character>    <character>\n",
              "GSM2772660 ftp://ftp.ncbi.nlm.n..          54715          na              I\n",
              "GSM2772661 ftp://ftp.ncbi.nlm.n..          54715          na              I\n",
              "GSM2772662 ftp://ftp.ncbi.nlm.n..          54715          na              I\n",
              "GSM2772663 ftp://ftp.ncbi.nlm.n..          54715          na              I\n",
              "GSM2772664 ftp://ftp.ncbi.nlm.n..          54715          na              I\n",
              "...                           ...            ...         ...            ...\n",
              "GSM2772935 ftp://ftp.ncbi.nlm.n..          54715          na             II\n",
              "GSM2772936 ftp://ftp.ncbi.nlm.n..          54715          na             II\n",
              "GSM2772937 ftp://ftp.ncbi.nlm.n..          54715          na             II\n",
              "GSM2772938 ftp://ftp.ncbi.nlm.n..          54715          na             II\n",
              "GSM2772939 ftp://ftp.ncbi.nlm.n..          54715          na             II\n",
              "               bmi.ch1 bodyheight.ch1 cancer.type.ch1 dignity.ch1\n",
              "           <character>    <character>     <character> <character>\n",
              "GSM2772660          na             na              BC          na\n",
              "GSM2772661          na             na              BC          na\n",
              "GSM2772662          na             na              BC          na\n",
              "GSM2772663          na             na              BC          na\n",
              "GSM2772664          na             na              BC          na\n",
              "...                ...            ...             ...         ...\n",
              "GSM2772935          na             na             PCA          na\n",
              "GSM2772936          na             na             PCA          na\n",
              "GSM2772937          na             na             PCA          na\n",
              "GSM2772938          na             na             PCA          na\n",
              "GSM2772939          na             na             PCA          na\n",
              "           diseasecode.ch1 diseasedescription.ch1  gender.ch1 grading.ch1\n",
              "               <character>            <character> <character> <character>\n",
              "GSM2772660              na                     na          na          na\n",
              "GSM2772661              na                     na          na          na\n",
              "GSM2772662              na                     na          na          na\n",
              "GSM2772663              na                     na          na          na\n",
              "GSM2772664              na                     na          na          na\n",
              "...                    ...                    ...         ...         ...\n",
              "GSM2772935              na                     na          na          na\n",
              "GSM2772936              na                     na          na          na\n",
              "GSM2772937              na                     na          na          na\n",
              "GSM2772938              na                     na          na          na\n",
              "GSM2772939              na                     na          na          na\n",
              "           histology.ch1 ischemiatime.ch1  normal.ch1   organ.ch1\n",
              "             <character>      <character> <character> <character>\n",
              "GSM2772660            na               na          no          na\n",
              "GSM2772661            na               na          no          na\n",
              "GSM2772662            na               na          no          na\n",
              "GSM2772663            na               na          no          na\n",
              "GSM2772664            na               na          no          na\n",
              "...                  ...              ...         ...         ...\n",
              "GSM2772935            na               na         yes          na\n",
              "GSM2772936            na               na         yes          na\n",
              "GSM2772937            na               na         yes          na\n",
              "GSM2772938            na               na         yes          na\n",
              "GSM2772939            na               na         yes          na\n",
              "           primary...relapse.tumor.ch1 radicality.ch1   Stage.ch1\n",
              "                           <character>    <character> <character>\n",
              "GSM2772660                          na             na          na\n",
              "GSM2772661                          na             na          na\n",
              "GSM2772662                          na             na          na\n",
              "GSM2772663                          na             na          na\n",
              "GSM2772664                          na             na          na\n",
              "...                                ...            ...         ...\n",
              "GSM2772935                          na             na          na\n",
              "GSM2772936                          na             na          na\n",
              "GSM2772937                          na             na          na\n",
              "GSM2772938                          na             na          na\n",
              "GSM2772939                          na             na          na\n",
              "           tumorcontent.ch1 tumorlocalization.ch1 tumorsize.ch1  weight.ch1\n",
              "                <character>           <character>   <character> <character>\n",
              "GSM2772660               na                    na            na          na\n",
              "GSM2772661               na                    na            na          na\n",
              "GSM2772662               na                    na            na          na\n",
              "GSM2772663               na                    na            na          na\n",
              "GSM2772664               na                    na            na          na\n",
              "...                     ...                   ...           ...         ...\n",
              "GSM2772935               na                    na            na          na\n",
              "GSM2772936               na                    na            na          na\n",
              "GSM2772937               na                    na            na          na\n",
              "GSM2772938               na                    na            na          na\n",
              "GSM2772939               na                    na            na          na"
            ]
          },
          "metadata": {}
        }
      ]
    },
    {
      "cell_type": "code",
      "source": [
        "metadata(gse103512)"
      ],
      "metadata": {
        "colab": {
          "base_uri": "https://localhost:8080/",
          "height": 1000
        },
        "id": "07-HV5rbJFdK",
        "outputId": "3ef5c267-8c44-4a44-db6c-e6211e7a0abb"
      },
      "execution_count": null,
      "outputs": [
        {
          "output_type": "display_data",
          "data": {
            "text/plain": [
              "$experimentData\n",
              "Experiment data\n",
              "  Experimenter name: Wei-Yi,,Cheng \n",
              "  Laboratory:  \n",
              "  Contact information:  \n",
              "  Title: Gene expression profiles of breast, colorectal, prostate, and non-small cell lung cancer \n",
              "  URL: https://www.ncbi.nlm.nih.gov/geo/query/acc.cgi?acc=GSE103512 \n",
              "  PMIDs: 29133367 \n",
              "\n",
              "  Abstract: A 17 word abstract is available. Use 'abstract' method.\n",
              "  notes:\n",
              "   contact_address:     \n",
              "      Roche Translational and Clinical Research Center, 430 East 29th Street\n",
              "   contact_city:     \n",
              "      New York\n",
              "   contact_country:     \n",
              "      USA\n",
              "   contact_department:     \n",
              "      Pharma Research and Early Development\n",
              "   contact_institute:     \n",
              "      Roche Innovation Center New York\n",
              "   contact_name:     \n",
              "      Wei-Yi,,Cheng\n",
              "   contact_state:     \n",
              "      New York\n",
              "   contact_zip/postal_code:     \n",
              "      10016\n",
              "   contributor:     \n",
              "      Jurriaan,,Brouwer-Visser\n",
              "Wei-Yi,,Cheng\n",
              "Anna,,Bauer-Mehren\n",
              "Daniela,,Maisel\n",
              "\n",
              "Katharina,,Lechner\n",
              "Emilia,,Andersson\n",
              "Joel,T,Dudley\n",
              "Francesca,,Milletti\n",
              "   geo_accession:     \n",
              "      GSE103512\n",
              "   last_update_date:     \n",
              "      Jul 25 2021\n",
              "   overall_design:     \n",
              "      65 breast cancer with 10 matched normal; 57 colorectal cancer with 12 matc\n",
              "hed normal; 60 non-small cell lung cancer with 9 matched normal; 60 prosta\n",
              "te cancer with 7 matched normal\n",
              "   platform_id:     \n",
              "      GPL13158\n",
              "   platform_taxid:     \n",
              "      9606\n",
              "   pubmed_id:     \n",
              "      29133367\n",
              "   sample_id:     \n",
              "      GSM2772660 GSM2772661 GSM2772662 GSM2772663 GSM2772664 GSM2772665 GSM27726\n",
              "66 GSM2772667 GSM2772668 GSM2772669 GSM2772670 GSM2772671 GSM2772672 GSM27\n",
              "72673 GSM2772674 GSM2772675 GSM2772676 GSM2772677 GSM2772678 GSM2772679 GS\n",
              "M2772680 GSM2772681 GSM2772682 GSM2772683 GSM2772684 GSM2772685 GSM2772686\n",
              " GSM2772687 GSM2772688 GSM2772689 GSM2772690 GSM2772691 GSM2772692 GSM2772\n",
              "693 GSM2772694 GSM2772695 GSM2772696 GSM2772697 GSM2772698 GSM2772699 GSM2\n",
              "772700 GSM2772701 GSM2772702 GSM2772703 GSM2772704 GSM2772705 GSM2772706 G\n",
              "SM2772707 GSM2772708 GSM2772709 GSM2772710 GSM2772711 GSM2772712 GSM277271\n",
              "3 GSM2772714 GSM2772715 GSM2772716 GSM2772717 GSM2772718 GSM2772719 GSM277\n",
              "2720 GSM2772721 GSM2772722 GSM2772723 GSM2772724 GSM2772725 GSM2772726 GSM\n",
              "2772727 GSM2772728 GSM2772729 GSM2772730 GSM2772731 GSM2772732 GSM2772733 \n",
              "GSM2772734 GSM2772735 GSM2772736 GSM2772737 GSM2772738 GSM2772739 GSM27727\n",
              "40 GSM2772741 GSM2772742 GSM2772743 GSM2772744 GSM2772745 GSM2772746 GSM27\n",
              "72747 GSM2772748 GSM2772749 GSM2772750 GSM2772751 GSM2772752 GSM2772753 GS\n",
              "M2772754 GSM2772755 GSM2772756 GSM2772757 GSM2772758 GSM2772759 GSM2772760\n",
              " GSM2772761 GSM2772762 GSM2772763 GSM2772764 GSM2772765 GSM2772766 GSM2772\n",
              "767 GSM2772768 GSM2772769 GSM2772770 GSM2772771 GSM2772772 GSM2772773 GSM2\n",
              "772774 GSM2772775 GSM2772776 GSM2772777 GSM2772778 GSM2772779 GSM2772780 G\n",
              "SM2772781 GSM2772782 GSM2772783 GSM2772784 GSM2772785 GSM2772786 GSM277278\n",
              "7 GSM2772788 GSM2772789 GSM2772790 GSM2772791 GSM2772792 GSM2772793 GSM277\n",
              "2794 GSM2772795 GSM2772796 GSM2772797 GSM2772798 GSM2772799 GSM2772800 GSM\n",
              "2772801 GSM2772802 GSM2772803 GSM2772804 GSM2772805 GSM2772806 GSM2772807 \n",
              "GSM2772808 GSM2772809 GSM2772810 GSM2772811 GSM2772812 GSM2772813 GSM27728\n",
              "14 GSM2772815 GSM2772816 GSM2772817 GSM2772818 GSM2772819 GSM2772820 GSM27\n",
              "72821 GSM2772822 GSM2772823 GSM2772824 GSM2772825 GSM2772826 GSM2772827 GS\n",
              "M2772828 GSM2772829 GSM2772830 GSM2772831 GSM2772832 GSM2772833 GSM2772834\n",
              " GSM2772835 GSM2772836 GSM2772837 GSM2772838 GSM2772839 GSM2772840 GSM2772\n",
              "841 GSM2772842 GSM2772843 GSM2772844 GSM2772845 GSM2772846 GSM2772847 GSM2\n",
              "772848 GSM2772849 GSM2772850 GSM2772851 GSM2772852 GSM2772853 GSM2772854 G\n",
              "SM2772855 GSM2772856 GSM2772857 GSM2772858 GSM2772859 GSM2772860 GSM277286\n",
              "1 GSM2772862 GSM2772863 GSM2772864 GSM2772865 GSM2772866 GSM2772867 GSM277\n",
              "2868 GSM2772869 GSM2772870 GSM2772871 GSM2772872 GSM2772873 GSM2772874 GSM\n",
              "2772875 GSM2772876 GSM2772877 GSM2772878 GSM2772879 GSM2772880 GSM2772881 \n",
              "GSM2772882 GSM2772883 GSM2772884 GSM2772885 GSM2772886 GSM2772887 GSM27728\n",
              "88 GSM2772889 GSM2772890 GSM2772891 GSM2772892 GSM2772893 GSM2772894 GSM27\n",
              "72895 GSM2772896 GSM2772897 GSM2772898 GSM2772899 GSM2772900 GSM2772901 GS\n",
              "M2772902 GSM2772903 GSM2772904 GSM2772905 GSM2772906 GSM2772907 GSM2772908\n",
              " GSM2772909 GSM2772910 GSM2772911 GSM2772912 GSM2772913 GSM2772914 GSM2772\n",
              "915 GSM2772916 GSM2772917 GSM2772918 GSM2772919 GSM2772920 GSM2772921 GSM2\n",
              "772922 GSM2772923 GSM2772924 GSM2772925 GSM2772926 GSM2772927 GSM2772928 G\n",
              "SM2772929 GSM2772930 GSM2772931 GSM2772932 GSM2772933 GSM2772934 GSM277293\n",
              "5 GSM2772936 GSM2772937 GSM2772938 GSM2772939 \n",
              "   sample_taxid:     \n",
              "      9606\n",
              "   status:     \n",
              "      Public on Sep 07 2017\n",
              "   submission_date:     \n",
              "      Sep 05 2017\n",
              "   summary:     \n",
              "      Gene expression profiles from 280 formalin-fixed and paraffin embedded nor\n",
              "mal and tumor samples of four cancer types\n",
              "   supplementary_file:     \n",
              "      ftp://ftp.ncbi.nlm.nih.gov/geo/series/GSE103nnn/GSE103512/suppl/GSE103512_\n",
              "RAW.tar\n",
              "   title:     \n",
              "      Gene expression profiles of breast, colorectal, prostate, and non-small ce\n",
              "ll lung cancer\n",
              "   type:     \n",
              "      Expression profiling by array\n",
              "\n",
              "$annotation\n",
              "[1] \"GPL13158\"\n",
              "\n",
              "$protocolData\n",
              "An object of class 'AnnotatedDataFrame': none\n",
              "\n",
              "$formula\n",
              "expres ~ cancer.types.ch1 + normal.ch1\n"
            ]
          },
          "metadata": {}
        }
      ]
    },
    {
      "cell_type": "code",
      "source": [],
      "metadata": {
        "id": "_hvBQjpgJFZu"
      },
      "execution_count": null,
      "outputs": []
    },
    {
      "cell_type": "markdown",
      "source": [
        "## Genomic Expression data loading and analysis\n",
        "Let us load expression data"
      ],
      "metadata": {
        "id": "1etWOSNUOhJl"
      }
    },
    {
      "cell_type": "code",
      "source": [
        "con=url(\"http://bowtie-bio.sourceforge.net/recount/ExpressionSets/bodymap_eset.RData\")\n",
        "load(file=con)\n",
        "close(con)"
      ],
      "metadata": {
        "id": "c_G4PjQ3OaFC"
      },
      "execution_count": null,
      "outputs": []
    },
    {
      "cell_type": "markdown",
      "source": [
        "## bm (see below) object contains three tables"
      ],
      "metadata": {
        "id": "A8HhM1YlPcyU"
      }
    },
    {
      "cell_type": "markdown",
      "source": [
        "What is `bm`? It is a SummarizedExperiment like object. Read about this object here, https://www.bioconductor.org/help/course-materials/2019/BSS2019/04_Practical_CoreApproachesInBioconductor.html"
      ],
      "metadata": {
        "id": "4cU-DCaP7avI"
      }
    },
    {
      "cell_type": "code",
      "source": [
        "bm = bodymap.eset\n",
        "bm"
      ],
      "metadata": {
        "id": "zZKvBEL5OmHv"
      },
      "execution_count": null,
      "outputs": []
    },
    {
      "cell_type": "code",
      "source": [
        "class(bm)"
      ],
      "metadata": {
        "colab": {
          "base_uri": "https://localhost:8080/",
          "height": 34
        },
        "id": "uidZEniF7r29",
        "outputId": "fe51151c-fa41-4934-bedf-7deed6a98019"
      },
      "execution_count": null,
      "outputs": [
        {
          "output_type": "display_data",
          "data": {
            "text/html": [
              "'ExpressionSet'"
            ],
            "text/markdown": "'ExpressionSet'",
            "text/latex": "'ExpressionSet'",
            "text/plain": [
              "[1] \"ExpressionSet\"\n",
              "attr(,\"package\")\n",
              "[1] \"Biobase\""
            ]
          },
          "metadata": {}
        }
      ]
    },
    {
      "cell_type": "markdown",
      "source": [
        "## Three Important tables  thr(based on Prof. Jeff Leek's class notes)\n",
        "\n",
        "* Expression data\n",
        "* Phenotypic data\n",
        "* Feature data"
      ],
      "metadata": {
        "id": "YM47I2rpO8M7"
      }
    },
    {
      "cell_type": "code",
      "source": [
        "exp_data = exprs(bm)\n",
        "dim(exp_data)\n",
        "head(exp_data,n=5)"
      ],
      "metadata": {
        "colab": {
          "base_uri": "https://localhost:8080/",
          "height": 261
        },
        "id": "E_TJd4eqO84Z",
        "outputId": "e0bef972-9e4e-47f4-b311-5bf84ee4161c"
      },
      "execution_count": null,
      "outputs": [
        {
          "output_type": "display_data",
          "data": {
            "text/html": [
              "<style>\n",
              ".list-inline {list-style: none; margin:0; padding: 0}\n",
              ".list-inline>li {display: inline-block}\n",
              ".list-inline>li:not(:last-child)::after {content: \"\\00b7\"; padding: 0 .5ex}\n",
              "</style>\n",
              "<ol class=list-inline><li>52580</li><li>19</li></ol>\n"
            ],
            "text/markdown": "1. 52580\n2. 19\n\n\n",
            "text/latex": "\\begin{enumerate*}\n\\item 52580\n\\item 19\n\\end{enumerate*}\n",
            "text/plain": [
              "[1] 52580    19"
            ]
          },
          "metadata": {}
        },
        {
          "output_type": "display_data",
          "data": {
            "text/html": [
              "<table class=\"dataframe\">\n",
              "<caption>A matrix: 5 × 19 of type int</caption>\n",
              "<thead>\n",
              "\t<tr><th></th><th scope=col>ERS025098</th><th scope=col>ERS025092</th><th scope=col>ERS025085</th><th scope=col>ERS025088</th><th scope=col>ERS025089</th><th scope=col>ERS025082</th><th scope=col>ERS025081</th><th scope=col>ERS025096</th><th scope=col>ERS025099</th><th scope=col>ERS025086</th><th scope=col>ERS025084</th><th scope=col>ERS025087</th><th scope=col>ERS025093</th><th scope=col>ERS025083</th><th scope=col>ERS025095</th><th scope=col>ERS025097</th><th scope=col>ERS025094</th><th scope=col>ERS025090</th><th scope=col>ERS025091</th></tr>\n",
              "</thead>\n",
              "<tbody>\n",
              "\t<tr><th scope=row>ENSG00000000003</th><td>1354</td><td>216</td><td>215</td><td> 924</td><td>725</td><td>125</td><td>796</td><td>1954</td><td>815</td><td>249</td><td>4614</td><td>6548</td><td>5030</td><td>1450</td><td>781</td><td> 69</td><td>1888</td><td> 983</td><td>  3</td></tr>\n",
              "\t<tr><th scope=row>ENSG00000000005</th><td> 712</td><td>134</td><td>  4</td><td>1495</td><td>119</td><td> 20</td><td>  7</td><td>   0</td><td>  0</td><td> 16</td><td> 975</td><td> 923</td><td> 696</td><td>  15</td><td> 24</td><td>  0</td><td>  20</td><td>   4</td><td>  0</td></tr>\n",
              "\t<tr><th scope=row>ENSG00000000419</th><td> 450</td><td>547</td><td>516</td><td> 529</td><td>808</td><td>680</td><td>744</td><td> 369</td><td>636</td><td>486</td><td>1200</td><td>2823</td><td>2159</td><td> 933</td><td>870</td><td>621</td><td>1026</td><td>1185</td><td>765</td></tr>\n",
              "\t<tr><th scope=row>ENSG00000000457</th><td> 188</td><td>368</td><td>196</td><td> 386</td><td>156</td><td>259</td><td>436</td><td> 288</td><td>187</td><td>553</td><td>1543</td><td>1194</td><td> 876</td><td> 655</td><td>862</td><td>242</td><td> 569</td><td> 609</td><td>782</td></tr>\n",
              "\t<tr><th scope=row>ENSG00000000460</th><td>  66</td><td> 29</td><td>  1</td><td>  26</td><td> 11</td><td>  9</td><td> 25</td><td>  42</td><td> 12</td><td> 22</td><td> 213</td><td>  80</td><td>  57</td><td>  13</td><td> 78</td><td> 17</td><td> 351</td><td>  46</td><td> 73</td></tr>\n",
              "</tbody>\n",
              "</table>\n"
            ],
            "text/markdown": "\nA matrix: 5 × 19 of type int\n\n| <!--/--> | ERS025098 | ERS025092 | ERS025085 | ERS025088 | ERS025089 | ERS025082 | ERS025081 | ERS025096 | ERS025099 | ERS025086 | ERS025084 | ERS025087 | ERS025093 | ERS025083 | ERS025095 | ERS025097 | ERS025094 | ERS025090 | ERS025091 |\n|---|---|---|---|---|---|---|---|---|---|---|---|---|---|---|---|---|---|---|---|\n| ENSG00000000003 | 1354 | 216 | 215 |  924 | 725 | 125 | 796 | 1954 | 815 | 249 | 4614 | 6548 | 5030 | 1450 | 781 |  69 | 1888 |  983 |   3 |\n| ENSG00000000005 |  712 | 134 |   4 | 1495 | 119 |  20 |   7 |    0 |   0 |  16 |  975 |  923 |  696 |   15 |  24 |   0 |   20 |    4 |   0 |\n| ENSG00000000419 |  450 | 547 | 516 |  529 | 808 | 680 | 744 |  369 | 636 | 486 | 1200 | 2823 | 2159 |  933 | 870 | 621 | 1026 | 1185 | 765 |\n| ENSG00000000457 |  188 | 368 | 196 |  386 | 156 | 259 | 436 |  288 | 187 | 553 | 1543 | 1194 |  876 |  655 | 862 | 242 |  569 |  609 | 782 |\n| ENSG00000000460 |   66 |  29 |   1 |   26 |  11 |   9 |  25 |   42 |  12 |  22 |  213 |   80 |   57 |   13 |  78 |  17 |  351 |   46 |  73 |\n\n",
            "text/latex": "A matrix: 5 × 19 of type int\n\\begin{tabular}{r|lllllllllllllllllll}\n  & ERS025098 & ERS025092 & ERS025085 & ERS025088 & ERS025089 & ERS025082 & ERS025081 & ERS025096 & ERS025099 & ERS025086 & ERS025084 & ERS025087 & ERS025093 & ERS025083 & ERS025095 & ERS025097 & ERS025094 & ERS025090 & ERS025091\\\\\n\\hline\n\tENSG00000000003 & 1354 & 216 & 215 &  924 & 725 & 125 & 796 & 1954 & 815 & 249 & 4614 & 6548 & 5030 & 1450 & 781 &  69 & 1888 &  983 &   3\\\\\n\tENSG00000000005 &  712 & 134 &   4 & 1495 & 119 &  20 &   7 &    0 &   0 &  16 &  975 &  923 &  696 &   15 &  24 &   0 &   20 &    4 &   0\\\\\n\tENSG00000000419 &  450 & 547 & 516 &  529 & 808 & 680 & 744 &  369 & 636 & 486 & 1200 & 2823 & 2159 &  933 & 870 & 621 & 1026 & 1185 & 765\\\\\n\tENSG00000000457 &  188 & 368 & 196 &  386 & 156 & 259 & 436 &  288 & 187 & 553 & 1543 & 1194 &  876 &  655 & 862 & 242 &  569 &  609 & 782\\\\\n\tENSG00000000460 &   66 &  29 &   1 &   26 &  11 &   9 &  25 &   42 &  12 &  22 &  213 &   80 &   57 &   13 &  78 &  17 &  351 &   46 &  73\\\\\n\\end{tabular}\n",
            "text/plain": [
              "                ERS025098 ERS025092 ERS025085 ERS025088 ERS025089 ERS025082\n",
              "ENSG00000000003 1354      216       215        924      725       125      \n",
              "ENSG00000000005  712      134         4       1495      119        20      \n",
              "ENSG00000000419  450      547       516        529      808       680      \n",
              "ENSG00000000457  188      368       196        386      156       259      \n",
              "ENSG00000000460   66       29         1         26       11         9      \n",
              "                ERS025081 ERS025096 ERS025099 ERS025086 ERS025084 ERS025087\n",
              "ENSG00000000003 796       1954      815       249       4614      6548     \n",
              "ENSG00000000005   7          0        0        16        975       923     \n",
              "ENSG00000000419 744        369      636       486       1200      2823     \n",
              "ENSG00000000457 436        288      187       553       1543      1194     \n",
              "ENSG00000000460  25         42       12        22        213        80     \n",
              "                ERS025093 ERS025083 ERS025095 ERS025097 ERS025094 ERS025090\n",
              "ENSG00000000003 5030      1450      781        69       1888       983     \n",
              "ENSG00000000005  696        15       24         0         20         4     \n",
              "ENSG00000000419 2159       933      870       621       1026      1185     \n",
              "ENSG00000000457  876       655      862       242        569       609     \n",
              "ENSG00000000460   57        13       78        17        351        46     \n",
              "                ERS025091\n",
              "ENSG00000000003   3      \n",
              "ENSG00000000005   0      \n",
              "ENSG00000000419 765      \n",
              "ENSG00000000457 782      \n",
              "ENSG00000000460  73      "
            ]
          },
          "metadata": {}
        }
      ]
    },
    {
      "cell_type": "markdown",
      "source": [
        "## Table 2: Phenotypic data"
      ],
      "metadata": {
        "id": "Xgbc49zOPTT2"
      }
    },
    {
      "cell_type": "code",
      "source": [
        "pheno_data = pData(bm)\n",
        "dim(pheno_data)\n",
        "head(pheno_data)"
      ],
      "metadata": {
        "colab": {
          "base_uri": "https://localhost:8080/",
          "height": 303
        },
        "id": "Rf87FmQzPDHX",
        "outputId": "b257d204-dc75-4ec4-9abe-7ef932cc1b8b"
      },
      "execution_count": null,
      "outputs": [
        {
          "output_type": "display_data",
          "data": {
            "text/html": [
              "<style>\n",
              ".list-inline {list-style: none; margin:0; padding: 0}\n",
              ".list-inline>li {display: inline-block}\n",
              ".list-inline>li:not(:last-child)::after {content: \"\\00b7\"; padding: 0 .5ex}\n",
              "</style>\n",
              "<ol class=list-inline><li>19</li><li>6</li></ol>\n"
            ],
            "text/markdown": "1. 19\n2. 6\n\n\n",
            "text/latex": "\\begin{enumerate*}\n\\item 19\n\\item 6\n\\end{enumerate*}\n",
            "text/plain": [
              "[1] 19  6"
            ]
          },
          "metadata": {}
        },
        {
          "output_type": "display_data",
          "data": {
            "text/html": [
              "<table class=\"dataframe\">\n",
              "<caption>A data.frame: 6 × 6</caption>\n",
              "<thead>\n",
              "\t<tr><th></th><th scope=col>sample.id</th><th scope=col>num.tech.reps</th><th scope=col>tissue.type</th><th scope=col>gender</th><th scope=col>age</th><th scope=col>race</th></tr>\n",
              "\t<tr><th></th><th scope=col>&lt;fct&gt;</th><th scope=col>&lt;dbl&gt;</th><th scope=col>&lt;fct&gt;</th><th scope=col>&lt;fct&gt;</th><th scope=col>&lt;dbl&gt;</th><th scope=col>&lt;fct&gt;</th></tr>\n",
              "</thead>\n",
              "<tbody>\n",
              "\t<tr><th scope=row>ERS025098</th><td>ERS025098</td><td>2</td><td>adipose</td><td>F</td><td>73</td><td>caucasian</td></tr>\n",
              "\t<tr><th scope=row>ERS025092</th><td>ERS025092</td><td>2</td><td>adrenal</td><td>M</td><td>60</td><td>caucasian</td></tr>\n",
              "\t<tr><th scope=row>ERS025085</th><td>ERS025085</td><td>2</td><td>brain  </td><td>F</td><td>77</td><td>caucasian</td></tr>\n",
              "\t<tr><th scope=row>ERS025088</th><td>ERS025088</td><td>2</td><td>breast </td><td>F</td><td>29</td><td>caucasian</td></tr>\n",
              "\t<tr><th scope=row>ERS025089</th><td>ERS025089</td><td>2</td><td>colon  </td><td>F</td><td>68</td><td>caucasian</td></tr>\n",
              "\t<tr><th scope=row>ERS025082</th><td>ERS025082</td><td>2</td><td>heart  </td><td>M</td><td>77</td><td>caucasian</td></tr>\n",
              "</tbody>\n",
              "</table>\n"
            ],
            "text/markdown": "\nA data.frame: 6 × 6\n\n| <!--/--> | sample.id &lt;fct&gt; | num.tech.reps &lt;dbl&gt; | tissue.type &lt;fct&gt; | gender &lt;fct&gt; | age &lt;dbl&gt; | race &lt;fct&gt; |\n|---|---|---|---|---|---|---|\n| ERS025098 | ERS025098 | 2 | adipose | F | 73 | caucasian |\n| ERS025092 | ERS025092 | 2 | adrenal | M | 60 | caucasian |\n| ERS025085 | ERS025085 | 2 | brain   | F | 77 | caucasian |\n| ERS025088 | ERS025088 | 2 | breast  | F | 29 | caucasian |\n| ERS025089 | ERS025089 | 2 | colon   | F | 68 | caucasian |\n| ERS025082 | ERS025082 | 2 | heart   | M | 77 | caucasian |\n\n",
            "text/latex": "A data.frame: 6 × 6\n\\begin{tabular}{r|llllll}\n  & sample.id & num.tech.reps & tissue.type & gender & age & race\\\\\n  & <fct> & <dbl> & <fct> & <fct> & <dbl> & <fct>\\\\\n\\hline\n\tERS025098 & ERS025098 & 2 & adipose & F & 73 & caucasian\\\\\n\tERS025092 & ERS025092 & 2 & adrenal & M & 60 & caucasian\\\\\n\tERS025085 & ERS025085 & 2 & brain   & F & 77 & caucasian\\\\\n\tERS025088 & ERS025088 & 2 & breast  & F & 29 & caucasian\\\\\n\tERS025089 & ERS025089 & 2 & colon   & F & 68 & caucasian\\\\\n\tERS025082 & ERS025082 & 2 & heart   & M & 77 & caucasian\\\\\n\\end{tabular}\n",
            "text/plain": [
              "          sample.id num.tech.reps tissue.type gender age race     \n",
              "ERS025098 ERS025098 2             adipose     F      73  caucasian\n",
              "ERS025092 ERS025092 2             adrenal     M      60  caucasian\n",
              "ERS025085 ERS025085 2             brain       F      77  caucasian\n",
              "ERS025088 ERS025088 2             breast      F      29  caucasian\n",
              "ERS025089 ERS025089 2             colon       F      68  caucasian\n",
              "ERS025082 ERS025082 2             heart       M      77  caucasian"
            ]
          },
          "metadata": {}
        }
      ]
    },
    {
      "cell_type": "markdown",
      "source": [
        "## Table 3: Feature Data"
      ],
      "metadata": {
        "id": "PaBKBhD3PkcZ"
      }
    },
    {
      "cell_type": "code",
      "source": [
        "feature_data = fData(bm)\n",
        "dim(fData(bodymap.eset))\n",
        "head(fData(bodymap.eset))"
      ],
      "metadata": {
        "colab": {
          "base_uri": "https://localhost:8080/",
          "height": 590
        },
        "id": "XDpWf3aAPjcq",
        "outputId": "0b4cfbee-35f5-4d54-a870-6830047921d2"
      },
      "execution_count": null,
      "outputs": [
        {
          "data": {
            "text/html": [
              "<style>\n",
              ".list-inline {list-style: none; margin:0; padding: 0}\n",
              ".list-inline>li {display: inline-block}\n",
              ".list-inline>li:not(:last-child)::after {content: \"\\00b7\"; padding: 0 .5ex}\n",
              "</style>\n",
              "<ol class=list-inline><li>52580</li><li>1</li></ol>\n"
            ],
            "text/latex": "\\begin{enumerate*}\n\\item 52580\n\\item 1\n\\end{enumerate*}\n",
            "text/markdown": "1. 52580\n2. 1\n\n\n",
            "text/plain": [
              "[1] 52580     1"
            ]
          },
          "metadata": {},
          "output_type": "display_data"
        },
        {
          "data": {
            "text/html": [
              "<table class=\"dataframe\">\n",
              "<caption>A data.frame: 6 × 1</caption>\n",
              "<thead>\n",
              "\t<tr><th></th><th scope=col>gene</th></tr>\n",
              "\t<tr><th></th><th scope=col>&lt;fct&gt;</th></tr>\n",
              "</thead>\n",
              "<tbody>\n",
              "\t<tr><th scope=row>ENSG00000000003</th><td>ENSG00000000003</td></tr>\n",
              "\t<tr><th scope=row>ENSG00000000005</th><td>ENSG00000000005</td></tr>\n",
              "\t<tr><th scope=row>ENSG00000000419</th><td>ENSG00000000419</td></tr>\n",
              "\t<tr><th scope=row>ENSG00000000457</th><td>ENSG00000000457</td></tr>\n",
              "\t<tr><th scope=row>ENSG00000000460</th><td>ENSG00000000460</td></tr>\n",
              "\t<tr><th scope=row>ENSG00000000938</th><td>ENSG00000000938</td></tr>\n",
              "</tbody>\n",
              "</table>\n"
            ],
            "text/latex": "A data.frame: 6 × 1\n\\begin{tabular}{r|l}\n  & gene\\\\\n  & <fct>\\\\\n\\hline\n\tENSG00000000003 & ENSG00000000003\\\\\n\tENSG00000000005 & ENSG00000000005\\\\\n\tENSG00000000419 & ENSG00000000419\\\\\n\tENSG00000000457 & ENSG00000000457\\\\\n\tENSG00000000460 & ENSG00000000460\\\\\n\tENSG00000000938 & ENSG00000000938\\\\\n\\end{tabular}\n",
            "text/markdown": "\nA data.frame: 6 × 1\n\n| <!--/--> | gene &lt;fct&gt; |\n|---|---|\n| ENSG00000000003 | ENSG00000000003 |\n| ENSG00000000005 | ENSG00000000005 |\n| ENSG00000000419 | ENSG00000000419 |\n| ENSG00000000457 | ENSG00000000457 |\n| ENSG00000000460 | ENSG00000000460 |\n| ENSG00000000938 | ENSG00000000938 |\n\n",
            "text/plain": [
              "                gene           \n",
              "ENSG00000000003 ENSG00000000003\n",
              "ENSG00000000005 ENSG00000000005\n",
              "ENSG00000000419 ENSG00000000419\n",
              "ENSG00000000457 ENSG00000000457\n",
              "ENSG00000000460 ENSG00000000460\n",
              "ENSG00000000938 ENSG00000000938"
            ]
          },
          "metadata": {},
          "output_type": "display_data"
        },
        {
          "output_type": "display_data",
          "data": {
            "text/html": [
              "<style>\n",
              ".list-inline {list-style: none; margin:0; padding: 0}\n",
              ".list-inline>li {display: inline-block}\n",
              ".list-inline>li:not(:last-child)::after {content: \"\\00b7\"; padding: 0 .5ex}\n",
              "</style>\n",
              "<ol class=list-inline><li>52580</li><li>1</li></ol>\n"
            ],
            "text/markdown": "1. 52580\n2. 1\n\n\n",
            "text/latex": "\\begin{enumerate*}\n\\item 52580\n\\item 1\n\\end{enumerate*}\n",
            "text/plain": [
              "[1] 52580     1"
            ]
          },
          "metadata": {}
        },
        {
          "output_type": "display_data",
          "data": {
            "text/html": [
              "<table class=\"dataframe\">\n",
              "<caption>A data.frame: 6 × 1</caption>\n",
              "<thead>\n",
              "\t<tr><th></th><th scope=col>gene</th></tr>\n",
              "\t<tr><th></th><th scope=col>&lt;fct&gt;</th></tr>\n",
              "</thead>\n",
              "<tbody>\n",
              "\t<tr><th scope=row>ENSG00000000003</th><td>ENSG00000000003</td></tr>\n",
              "\t<tr><th scope=row>ENSG00000000005</th><td>ENSG00000000005</td></tr>\n",
              "\t<tr><th scope=row>ENSG00000000419</th><td>ENSG00000000419</td></tr>\n",
              "\t<tr><th scope=row>ENSG00000000457</th><td>ENSG00000000457</td></tr>\n",
              "\t<tr><th scope=row>ENSG00000000460</th><td>ENSG00000000460</td></tr>\n",
              "\t<tr><th scope=row>ENSG00000000938</th><td>ENSG00000000938</td></tr>\n",
              "</tbody>\n",
              "</table>\n"
            ],
            "text/markdown": "\nA data.frame: 6 × 1\n\n| <!--/--> | gene &lt;fct&gt; |\n|---|---|\n| ENSG00000000003 | ENSG00000000003 |\n| ENSG00000000005 | ENSG00000000005 |\n| ENSG00000000419 | ENSG00000000419 |\n| ENSG00000000457 | ENSG00000000457 |\n| ENSG00000000460 | ENSG00000000460 |\n| ENSG00000000938 | ENSG00000000938 |\n\n",
            "text/latex": "A data.frame: 6 × 1\n\\begin{tabular}{r|l}\n  & gene\\\\\n  & <fct>\\\\\n\\hline\n\tENSG00000000003 & ENSG00000000003\\\\\n\tENSG00000000005 & ENSG00000000005\\\\\n\tENSG00000000419 & ENSG00000000419\\\\\n\tENSG00000000457 & ENSG00000000457\\\\\n\tENSG00000000460 & ENSG00000000460\\\\\n\tENSG00000000938 & ENSG00000000938\\\\\n\\end{tabular}\n",
            "text/plain": [
              "                gene           \n",
              "ENSG00000000003 ENSG00000000003\n",
              "ENSG00000000005 ENSG00000000005\n",
              "ENSG00000000419 ENSG00000000419\n",
              "ENSG00000000457 ENSG00000000457\n",
              "ENSG00000000460 ENSG00000000460\n",
              "ENSG00000000938 ENSG00000000938"
            ]
          },
          "metadata": {}
        }
      ]
    }
  ]
}