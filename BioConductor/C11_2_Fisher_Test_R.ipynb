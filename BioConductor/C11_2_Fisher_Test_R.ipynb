{
  "nbformat": 4,
  "nbformat_minor": 0,
  "metadata": {
    "colab": {
      "provenance": [],
      "authorship_tag": "ABX9TyNHBYxJ7ZHgXSb3mwSHtTKr",
      "include_colab_link": true
    },
    "kernelspec": {
      "name": "ir",
      "display_name": "R"
    },
    "language_info": {
      "name": "R"
    }
  },
  "cells": [
    {
      "cell_type": "markdown",
      "metadata": {
        "id": "view-in-github",
        "colab_type": "text"
      },
      "source": [
        "<a href=\"https://colab.research.google.com/github/ravichas/bioinformatics/blob/main/BioConductor/C11_2_Fisher_Test_R.ipynb\" target=\"_parent\"><img src=\"https://colab.research.google.com/assets/colab-badge.svg\" alt=\"Open In Colab\"/></a>"
      ]
    },
    {
      "cell_type": "markdown",
      "source": [
        "# Prepared for C11-BIFX-550"
      ],
      "metadata": {
        "id": "9Yauz08naF8L"
      }
    },
    {
      "cell_type": "code",
      "source": [
        "# prompt: wget https://github.com/ravichas/bioinformatics/blob/main/data/GSE1397_series_matrix.txt.gz and untar\n",
        "\n",
        "# Download the file\n",
        "download.file('https://github.com/ravichas/bioinformatics/raw/main/data/GEO2R-GSE1397-output.txt.tar.gz', destfile = 'data.gz')\n",
        "\n",
        "# Untar the file\n",
        "untar('data.gz', exdir = 'data')\n"
      ],
      "metadata": {
        "id": "GZadfLaJaTow"
      },
      "execution_count": 5,
      "outputs": []
    },
    {
      "cell_type": "code",
      "source": [
        "data <- read.table(\"data/GEO2R-GSE1397-output.txt\",sep=\"\\t\",header=TRUE,stringsAsFactors = FALSE)\n",
        "nrow(data) #22283 rows or genes\n",
        "\n",
        "head(data)[1:3,]"
      ],
      "metadata": {
        "colab": {
          "base_uri": "https://localhost:8080/",
          "height": 472
        },
        "id": "q91e5RCGbY_0",
        "outputId": "0f4c4d16-6d77-4ec7-cb8b-312ef6f37a37"
      },
      "execution_count": 13,
      "outputs": [
        {
          "output_type": "display_data",
          "data": {
            "text/html": [
              "22283"
            ],
            "text/markdown": "22283",
            "text/latex": "22283",
            "text/plain": [
              "[1] 22283"
            ]
          },
          "metadata": {}
        },
        {
          "output_type": "display_data",
          "data": {
            "text/html": [
              "<table class=\"dataframe\">\n",
              "<caption>A data.frame: 3 × 20</caption>\n",
              "<thead>\n",
              "\t<tr><th></th><th scope=col>ID</th><th scope=col>adj.P.Val</th><th scope=col>P.Value</th><th scope=col>t</th><th scope=col>B</th><th scope=col>logFC</th><th scope=col>Gene.symbol</th><th scope=col>Gene.title</th><th scope=col>Gene.ID</th><th scope=col>Chromosome.location</th><th scope=col>Chromosome.annotation</th><th scope=col>UniGene.title</th><th scope=col>UniGene.symbol</th><th scope=col>UniGene.ID</th><th scope=col>Nucleotide.Title</th><th scope=col>GI</th><th scope=col>GenBank.Accession</th><th scope=col>Platform_CLONEID</th><th scope=col>Platform_ORF</th><th scope=col>Platform_SPOTID</th></tr>\n",
              "\t<tr><th></th><th scope=col>&lt;chr&gt;</th><th scope=col>&lt;dbl&gt;</th><th scope=col>&lt;dbl&gt;</th><th scope=col>&lt;dbl&gt;</th><th scope=col>&lt;dbl&gt;</th><th scope=col>&lt;dbl&gt;</th><th scope=col>&lt;chr&gt;</th><th scope=col>&lt;chr&gt;</th><th scope=col>&lt;chr&gt;</th><th scope=col>&lt;chr&gt;</th><th scope=col>&lt;chr&gt;</th><th scope=col>&lt;chr&gt;</th><th scope=col>&lt;chr&gt;</th><th scope=col>&lt;chr&gt;</th><th scope=col>&lt;chr&gt;</th><th scope=col>&lt;int&gt;</th><th scope=col>&lt;chr&gt;</th><th scope=col>&lt;lgl&gt;</th><th scope=col>&lt;lgl&gt;</th><th scope=col>&lt;chr&gt;</th></tr>\n",
              "</thead>\n",
              "<tbody>\n",
              "\t<tr><th scope=row>1</th><td>206777_s_at</td><td>0.0304</td><td>1.36e-06</td><td>6.488139</td><td>-1.54</td><td>2.2229385</td><td>CRYBB2P1///CRYBB2</td><td>crystallin, beta B2 pseudogene 1///crystallin, beta B2</td><td>1416///1415</td><td>22q11.2-q12.1///22q11.23</td><td>Chromosome 22, NC_000022.11 (25448087..25461678)///Chromosome 22, NC_000022.11 (25212828..25231869)</td><td></td><td></td><td></td><td>Homo sapiens crystallin, beta B2 (CRYBB2), mRNA                                                                 </td><td> 98986448</td><td>NM_000496</td><td>NA</td><td>NA</td><td></td></tr>\n",
              "\t<tr><th scope=row>2</th><td>201123_s_at</td><td>0.0402</td><td>4.54e-06</td><td>5.975773</td><td>-1.76</td><td>1.8454957</td><td>EIF5A            </td><td>eukaryotic translation initiation factor 5A           </td><td>1984       </td><td>17p13-p12               </td><td>Chromosome 17, NC_000017.11 (7306999..7312463)                                                     </td><td></td><td></td><td></td><td>Homo sapiens eukaryotic translation initiation factor 5A (EIF5A), transcript variant B, mRNA                    </td><td>219555708</td><td>NM_001970</td><td>NA</td><td>NA</td><td></td></tr>\n",
              "\t<tr><th scope=row>3</th><td>201122_x_at</td><td>0.0402</td><td>5.42e-06</td><td>5.901872</td><td>-1.79</td><td>0.9023283</td><td>EIF5A            </td><td>eukaryotic translation initiation factor 5A           </td><td>1984       </td><td>17p13-p12               </td><td>Chromosome 17, NC_000017.11 (7306999..7312463)                                                     </td><td></td><td></td><td></td><td>Homo sapiens eukaryotic translation initiation factor 5A, mRNA (cDNA clone MGC:2453 IMAGE:2961296), complete cds</td><td> 33875811</td><td>BC000751 </td><td>NA</td><td>NA</td><td></td></tr>\n",
              "</tbody>\n",
              "</table>\n"
            ],
            "text/markdown": "\nA data.frame: 3 × 20\n\n| <!--/--> | ID &lt;chr&gt; | adj.P.Val &lt;dbl&gt; | P.Value &lt;dbl&gt; | t &lt;dbl&gt; | B &lt;dbl&gt; | logFC &lt;dbl&gt; | Gene.symbol &lt;chr&gt; | Gene.title &lt;chr&gt; | Gene.ID &lt;chr&gt; | Chromosome.location &lt;chr&gt; | Chromosome.annotation &lt;chr&gt; | UniGene.title &lt;chr&gt; | UniGene.symbol &lt;chr&gt; | UniGene.ID &lt;chr&gt; | Nucleotide.Title &lt;chr&gt; | GI &lt;int&gt; | GenBank.Accession &lt;chr&gt; | Platform_CLONEID &lt;lgl&gt; | Platform_ORF &lt;lgl&gt; | Platform_SPOTID &lt;chr&gt; |\n|---|---|---|---|---|---|---|---|---|---|---|---|---|---|---|---|---|---|---|---|---|\n| 1 | 206777_s_at | 0.0304 | 1.36e-06 | 6.488139 | -1.54 | 2.2229385 | CRYBB2P1///CRYBB2 | crystallin, beta B2 pseudogene 1///crystallin, beta B2 | 1416///1415 | 22q11.2-q12.1///22q11.23 | Chromosome 22, NC_000022.11 (25448087..25461678)///Chromosome 22, NC_000022.11 (25212828..25231869) | <!----> | <!----> | <!----> | Homo sapiens crystallin, beta B2 (CRYBB2), mRNA                                                                  |  98986448 | NM_000496 | NA | NA | <!----> |\n| 2 | 201123_s_at | 0.0402 | 4.54e-06 | 5.975773 | -1.76 | 1.8454957 | EIF5A             | eukaryotic translation initiation factor 5A            | 1984        | 17p13-p12                | Chromosome 17, NC_000017.11 (7306999..7312463)                                                      | <!----> | <!----> | <!----> | Homo sapiens eukaryotic translation initiation factor 5A (EIF5A), transcript variant B, mRNA                     | 219555708 | NM_001970 | NA | NA | <!----> |\n| 3 | 201122_x_at | 0.0402 | 5.42e-06 | 5.901872 | -1.79 | 0.9023283 | EIF5A             | eukaryotic translation initiation factor 5A            | 1984        | 17p13-p12                | Chromosome 17, NC_000017.11 (7306999..7312463)                                                      | <!----> | <!----> | <!----> | Homo sapiens eukaryotic translation initiation factor 5A, mRNA (cDNA clone MGC:2453 IMAGE:2961296), complete cds |  33875811 | BC000751  | NA | NA | <!----> |\n\n",
            "text/latex": "A data.frame: 3 × 20\n\\begin{tabular}{r|llllllllllllllllllll}\n  & ID & adj.P.Val & P.Value & t & B & logFC & Gene.symbol & Gene.title & Gene.ID & Chromosome.location & Chromosome.annotation & UniGene.title & UniGene.symbol & UniGene.ID & Nucleotide.Title & GI & GenBank.Accession & Platform\\_CLONEID & Platform\\_ORF & Platform\\_SPOTID\\\\\n  & <chr> & <dbl> & <dbl> & <dbl> & <dbl> & <dbl> & <chr> & <chr> & <chr> & <chr> & <chr> & <chr> & <chr> & <chr> & <chr> & <int> & <chr> & <lgl> & <lgl> & <chr>\\\\\n\\hline\n\t1 & 206777\\_s\\_at & 0.0304 & 1.36e-06 & 6.488139 & -1.54 & 2.2229385 & CRYBB2P1///CRYBB2 & crystallin, beta B2 pseudogene 1///crystallin, beta B2 & 1416///1415 & 22q11.2-q12.1///22q11.23 & Chromosome 22, NC\\_000022.11 (25448087..25461678)///Chromosome 22, NC\\_000022.11 (25212828..25231869) &  &  &  & Homo sapiens crystallin, beta B2 (CRYBB2), mRNA                                                                  &  98986448 & NM\\_000496 & NA & NA & \\\\\n\t2 & 201123\\_s\\_at & 0.0402 & 4.54e-06 & 5.975773 & -1.76 & 1.8454957 & EIF5A             & eukaryotic translation initiation factor 5A            & 1984        & 17p13-p12                & Chromosome 17, NC\\_000017.11 (7306999..7312463)                                                      &  &  &  & Homo sapiens eukaryotic translation initiation factor 5A (EIF5A), transcript variant B, mRNA                     & 219555708 & NM\\_001970 & NA & NA & \\\\\n\t3 & 201122\\_x\\_at & 0.0402 & 5.42e-06 & 5.901872 & -1.79 & 0.9023283 & EIF5A             & eukaryotic translation initiation factor 5A            & 1984        & 17p13-p12                & Chromosome 17, NC\\_000017.11 (7306999..7312463)                                                      &  &  &  & Homo sapiens eukaryotic translation initiation factor 5A, mRNA (cDNA clone MGC:2453 IMAGE:2961296), complete cds &  33875811 & BC000751  & NA & NA & \\\\\n\\end{tabular}\n",
            "text/plain": [
              "  ID          adj.P.Val P.Value  t        B     logFC     Gene.symbol      \n",
              "1 206777_s_at 0.0304    1.36e-06 6.488139 -1.54 2.2229385 CRYBB2P1///CRYBB2\n",
              "2 201123_s_at 0.0402    4.54e-06 5.975773 -1.76 1.8454957 EIF5A            \n",
              "3 201122_x_at 0.0402    5.42e-06 5.901872 -1.79 0.9023283 EIF5A            \n",
              "  Gene.title                                             Gene.ID    \n",
              "1 crystallin, beta B2 pseudogene 1///crystallin, beta B2 1416///1415\n",
              "2 eukaryotic translation initiation factor 5A            1984       \n",
              "3 eukaryotic translation initiation factor 5A            1984       \n",
              "  Chromosome.location     \n",
              "1 22q11.2-q12.1///22q11.23\n",
              "2 17p13-p12               \n",
              "3 17p13-p12               \n",
              "  Chromosome.annotation                                                                              \n",
              "1 Chromosome 22, NC_000022.11 (25448087..25461678)///Chromosome 22, NC_000022.11 (25212828..25231869)\n",
              "2 Chromosome 17, NC_000017.11 (7306999..7312463)                                                     \n",
              "3 Chromosome 17, NC_000017.11 (7306999..7312463)                                                     \n",
              "  UniGene.title UniGene.symbol UniGene.ID\n",
              "1                                        \n",
              "2                                        \n",
              "3                                        \n",
              "  Nucleotide.Title                                                                                                \n",
              "1 Homo sapiens crystallin, beta B2 (CRYBB2), mRNA                                                                 \n",
              "2 Homo sapiens eukaryotic translation initiation factor 5A (EIF5A), transcript variant B, mRNA                    \n",
              "3 Homo sapiens eukaryotic translation initiation factor 5A, mRNA (cDNA clone MGC:2453 IMAGE:2961296), complete cds\n",
              "  GI        GenBank.Accession Platform_CLONEID Platform_ORF Platform_SPOTID\n",
              "1  98986448 NM_000496         NA               NA                          \n",
              "2 219555708 NM_001970         NA               NA                          \n",
              "3  33875811 BC000751          NA               NA                          "
            ]
          },
          "metadata": {}
        }
      ]
    },
    {
      "cell_type": "code",
      "source": [
        "data15 <- data15[1:15,]\n",
        "names(data15)"
      ],
      "metadata": {
        "colab": {
          "base_uri": "https://localhost:8080/",
          "height": 52
        },
        "id": "5mb4PX6Cb95M",
        "outputId": "699a0d1c-5517-4ad1-98c9-270d49d3f392"
      },
      "execution_count": 14,
      "outputs": [
        {
          "output_type": "display_data",
          "data": {
            "text/html": [
              "<style>\n",
              ".list-inline {list-style: none; margin:0; padding: 0}\n",
              ".list-inline>li {display: inline-block}\n",
              ".list-inline>li:not(:last-child)::after {content: \"\\00b7\"; padding: 0 .5ex}\n",
              "</style>\n",
              "<ol class=list-inline><li>'ID'</li><li>'adj.P.Val'</li><li>'P.Value'</li><li>'t'</li><li>'B'</li><li>'logFC'</li><li>'Gene.symbol'</li><li>'Gene.title'</li><li>'Gene.ID'</li><li>'Chromosome.location'</li><li>'Chromosome.annotation'</li><li>'UniGene.title'</li><li>'UniGene.symbol'</li><li>'UniGene.ID'</li><li>'Nucleotide.Title'</li><li>'GI'</li><li>'GenBank.Accession'</li><li>'Platform_CLONEID'</li><li>'Platform_ORF'</li><li>'Platform_SPOTID'</li></ol>\n"
            ],
            "text/markdown": "1. 'ID'\n2. 'adj.P.Val'\n3. 'P.Value'\n4. 't'\n5. 'B'\n6. 'logFC'\n7. 'Gene.symbol'\n8. 'Gene.title'\n9. 'Gene.ID'\n10. 'Chromosome.location'\n11. 'Chromosome.annotation'\n12. 'UniGene.title'\n13. 'UniGene.symbol'\n14. 'UniGene.ID'\n15. 'Nucleotide.Title'\n16. 'GI'\n17. 'GenBank.Accession'\n18. 'Platform_CLONEID'\n19. 'Platform_ORF'\n20. 'Platform_SPOTID'\n\n\n",
            "text/latex": "\\begin{enumerate*}\n\\item 'ID'\n\\item 'adj.P.Val'\n\\item 'P.Value'\n\\item 't'\n\\item 'B'\n\\item 'logFC'\n\\item 'Gene.symbol'\n\\item 'Gene.title'\n\\item 'Gene.ID'\n\\item 'Chromosome.location'\n\\item 'Chromosome.annotation'\n\\item 'UniGene.title'\n\\item 'UniGene.symbol'\n\\item 'UniGene.ID'\n\\item 'Nucleotide.Title'\n\\item 'GI'\n\\item 'GenBank.Accession'\n\\item 'Platform\\_CLONEID'\n\\item 'Platform\\_ORF'\n\\item 'Platform\\_SPOTID'\n\\end{enumerate*}\n",
            "text/plain": [
              " [1] \"ID\"                    \"adj.P.Val\"             \"P.Value\"              \n",
              " [4] \"t\"                     \"B\"                     \"logFC\"                \n",
              " [7] \"Gene.symbol\"           \"Gene.title\"            \"Gene.ID\"              \n",
              "[10] \"Chromosome.location\"   \"Chromosome.annotation\" \"UniGene.title\"        \n",
              "[13] \"UniGene.symbol\"        \"UniGene.ID\"            \"Nucleotide.Title\"     \n",
              "[16] \"GI\"                    \"GenBank.Accession\"     \"Platform_CLONEID\"     \n",
              "[19] \"Platform_ORF\"          \"Platform_SPOTID\"      "
            ]
          },
          "metadata": {}
        }
      ]
    },
    {
      "cell_type": "code",
      "source": [
        "# how to remove entries that contain AFF in their ID\n",
        "# controls that you want to remove\n",
        "#install.packages(\"dplyr\")\n",
        "library(dplyr)\n",
        "Control <- filter(data,grepl(\"AFF\",data$ID))"
      ],
      "metadata": {
        "colab": {
          "base_uri": "https://localhost:8080/"
        },
        "id": "d3GtfX4ncJJZ",
        "outputId": "b4ac4240-58a4-45e5-d196-5757da4a0ca3"
      },
      "execution_count": 15,
      "outputs": [
        {
          "output_type": "stream",
          "name": "stderr",
          "text": [
            "\n",
            "Attaching package: ‘dplyr’\n",
            "\n",
            "\n",
            "The following objects are masked from ‘package:stats’:\n",
            "\n",
            "    filter, lag\n",
            "\n",
            "\n",
            "The following objects are masked from ‘package:base’:\n",
            "\n",
            "    intersect, setdiff, setequal, union\n",
            "\n",
            "\n"
          ]
        }
      ]
    },
    {
      "cell_type": "code",
      "source": [
        "# or you get the IDs using this approach\n",
        "ControlRowNumbers <- which(data$Platform_SPOTID == \"--Control\")\n",
        "# explore the first entry\n",
        "# remove them from data\n",
        "cdata <- data[-ControlRowNumbers, ]\n",
        "#checking\n",
        "which(cdata$Platform_SPOTID == \"--Control\")"
      ],
      "metadata": {
        "colab": {
          "base_uri": "https://localhost:8080/",
          "height": 17
        },
        "id": "gIWqZIOHcOJD",
        "outputId": "47f371ff-d9ec-407d-bc8e-8da64fc8a2d9"
      },
      "execution_count": 16,
      "outputs": [
        {
          "output_type": "display_data",
          "data": {
            "text/html": [],
            "text/markdown": "",
            "text/latex": "",
            "text/plain": [
              "integer(0)"
            ]
          },
          "metadata": {}
        }
      ]
    },
    {
      "cell_type": "code",
      "source": [
        "nrow(cdata) #22215\n",
        "nrow(data)  #22283"
      ],
      "metadata": {
        "colab": {
          "base_uri": "https://localhost:8080/",
          "height": 52
        },
        "id": "PhOmkkC2cQ8j",
        "outputId": "a8ffa1b7-b861-4f9e-9c10-48000e7d8a8b"
      },
      "execution_count": 17,
      "outputs": [
        {
          "output_type": "display_data",
          "data": {
            "text/html": [
              "22215"
            ],
            "text/markdown": "22215",
            "text/latex": "22215",
            "text/plain": [
              "[1] 22215"
            ]
          },
          "metadata": {}
        },
        {
          "output_type": "display_data",
          "data": {
            "text/html": [
              "22283"
            ],
            "text/markdown": "22283",
            "text/latex": "22283",
            "text/plain": [
              "[1] 22283"
            ]
          },
          "metadata": {}
        }
      ]
    },
    {
      "cell_type": "markdown",
      "source": [
        "How many do not have a gene Symbol data$Gene.symbol"
      ],
      "metadata": {
        "id": "KMtiIA2ecZJZ"
      }
    },
    {
      "cell_type": "code",
      "source": [
        "NoGeneSymIDs<- which(cdata$Gene.symbol == \"\")\n",
        "nrow(cdata) - length(NoGeneSymIDs)"
      ],
      "metadata": {
        "colab": {
          "base_uri": "https://localhost:8080/",
          "height": 34
        },
        "id": "iBaJ3HMgcTxj",
        "outputId": "c4a826c6-8c03-462d-b549-3bdb37607ff6"
      },
      "execution_count": 19,
      "outputs": [
        {
          "output_type": "display_data",
          "data": {
            "text/html": [
              "21083"
            ],
            "text/markdown": "21083",
            "text/latex": "21083",
            "text/plain": [
              "[1] 21083"
            ]
          },
          "metadata": {}
        }
      ]
    },
    {
      "cell_type": "code",
      "source": [
        "how_many_from_21 <- grepl(\"21\",data15$Chromosome.location)\n",
        "table(how_many_from_21)"
      ],
      "metadata": {
        "colab": {
          "base_uri": "https://localhost:8080/",
          "height": 69
        },
        "id": "FIOlqfbkcfeq",
        "outputId": "7d932bec-2550-4fc7-f17e-cf8bfbbfb78b"
      },
      "execution_count": 20,
      "outputs": [
        {
          "output_type": "display_data",
          "data": {
            "text/plain": [
              "how_many_from_21\n",
              "FALSE  TRUE \n",
              "    6     9 "
            ]
          },
          "metadata": {}
        }
      ]
    },
    {
      "cell_type": "code",
      "source": [
        "\n",
        "mychr21data <- matrix(c(9,6,671,53834))"
      ],
      "metadata": {
        "id": "fEqyfTkDciBf"
      },
      "execution_count": 21,
      "outputs": []
    },
    {
      "cell_type": "markdown",
      "source": [
        "# example from Jonathan Pevsner book\n",
        "\n",
        "is the occurance of 9 chr21 derived transcript out of 15\n",
        "statisitcally significant?\n",
        "\n",
        "671 chr21 genes  and 53,834 non-chr21 genes in GRCh38\n",
        "we can use fisher's test to check whether 9 transcripts from chr21 are more than what we expect by chance"
      ],
      "metadata": {
        "id": "dU7jLuDEcmBB"
      }
    },
    {
      "cell_type": "code",
      "source": [
        "\n",
        "mychr21data <- matrix(c(9, 15, 671,53834),2,2)\n",
        "mychr21data"
      ],
      "metadata": {
        "colab": {
          "base_uri": "https://localhost:8080/",
          "height": 114
        },
        "id": "-dHh7KPBczVW",
        "outputId": "f548a97f-360b-4953-e595-ffbd81898fc1"
      },
      "execution_count": 22,
      "outputs": [
        {
          "output_type": "display_data",
          "data": {
            "text/html": [
              "<table class=\"dataframe\">\n",
              "<caption>A matrix: 2 × 2 of type dbl</caption>\n",
              "<tbody>\n",
              "\t<tr><td> 9</td><td>  671</td></tr>\n",
              "\t<tr><td>15</td><td>53834</td></tr>\n",
              "</tbody>\n",
              "</table>\n"
            ],
            "text/markdown": "\nA matrix: 2 × 2 of type dbl\n\n|  9 |   671 |\n| 15 | 53834 |\n\n",
            "text/latex": "A matrix: 2 × 2 of type dbl\n\\begin{tabular}{ll}\n\t  9 &   671\\\\\n\t 15 & 53834\\\\\n\\end{tabular}\n",
            "text/plain": [
              "     [,1] [,2] \n",
              "[1,]  9     671\n",
              "[2,] 15   53834"
            ]
          },
          "metadata": {}
        }
      ]
    },
    {
      "cell_type": "markdown",
      "source": [
        "Different from the way shown in the book\n",
        "order doesnt matter but more meaningful this way"
      ],
      "metadata": {
        "id": "px1APxg8c1eP"
      }
    },
    {
      "cell_type": "code",
      "source": [
        "row.names(mychr21data) <- c(\"Sig\",\"nonSig\")\n",
        "colnames(mychr21data) <- c(\"chr21\", \"nchr21\")\n",
        "mychr21data\n",
        "fisher.test(mychr21data,alternative=\"two.sided\")"
      ],
      "metadata": {
        "colab": {
          "base_uri": "https://localhost:8080/",
          "height": 320
        },
        "id": "uTcW8stsc6M1",
        "outputId": "36fffdda-4dfc-4891-81c9-ee66a49d81e1"
      },
      "execution_count": 23,
      "outputs": [
        {
          "output_type": "display_data",
          "data": {
            "text/html": [
              "<table class=\"dataframe\">\n",
              "<caption>A matrix: 2 × 2 of type dbl</caption>\n",
              "<thead>\n",
              "\t<tr><th></th><th scope=col>chr21</th><th scope=col>nchr21</th></tr>\n",
              "</thead>\n",
              "<tbody>\n",
              "\t<tr><th scope=row>Sig</th><td> 9</td><td>  671</td></tr>\n",
              "\t<tr><th scope=row>nonSig</th><td>15</td><td>53834</td></tr>\n",
              "</tbody>\n",
              "</table>\n"
            ],
            "text/markdown": "\nA matrix: 2 × 2 of type dbl\n\n| <!--/--> | chr21 | nchr21 |\n|---|---|---|\n| Sig |  9 |   671 |\n| nonSig | 15 | 53834 |\n\n",
            "text/latex": "A matrix: 2 × 2 of type dbl\n\\begin{tabular}{r|ll}\n  & chr21 & nchr21\\\\\n\\hline\n\tSig &  9 &   671\\\\\n\tnonSig & 15 & 53834\\\\\n\\end{tabular}\n",
            "text/plain": [
              "       chr21 nchr21\n",
              "Sig     9      671 \n",
              "nonSig 15    53834 "
            ]
          },
          "metadata": {}
        },
        {
          "output_type": "display_data",
          "data": {
            "text/plain": [
              "\n",
              "\tFisher's Exact Test for Count Data\n",
              "\n",
              "data:  mychr21data\n",
              "p-value = 7.657e-12\n",
              "alternative hypothesis: true odds ratio is not equal to 1\n",
              "95 percent confidence interval:\n",
              "  18.49852 117.55474\n",
              "sample estimates:\n",
              "odds ratio \n",
              "  48.07209 \n"
            ]
          },
          "metadata": {}
        }
      ]
    },
    {
      "cell_type": "markdown",
      "source": [
        "The p value is very samll so, we can reject the null hypothesis\n",
        "\n",
        "Would the finding be significant if we have 2 out of 15?\n"
      ],
      "metadata": {
        "id": "Rdzh9oogc9MU"
      }
    },
    {
      "cell_type": "code",
      "source": [
        "mychr21data <- matrix(c(2,13,671,53834),2,2)\n",
        "mychr21data\n",
        "fisher.test(mychr21data,alternative=\"two.sided\")"
      ],
      "metadata": {
        "colab": {
          "base_uri": "https://localhost:8080/",
          "height": 305
        },
        "id": "nvlv4k6LdBpU",
        "outputId": "969fbf16-4e22-40bb-dc33-667dd3c0d98b"
      },
      "execution_count": 24,
      "outputs": [
        {
          "output_type": "display_data",
          "data": {
            "text/html": [
              "<table class=\"dataframe\">\n",
              "<caption>A matrix: 2 × 2 of type dbl</caption>\n",
              "<tbody>\n",
              "\t<tr><td> 2</td><td>  671</td></tr>\n",
              "\t<tr><td>13</td><td>53834</td></tr>\n",
              "</tbody>\n",
              "</table>\n"
            ],
            "text/markdown": "\nA matrix: 2 × 2 of type dbl\n\n|  2 |   671 |\n| 13 | 53834 |\n\n",
            "text/latex": "A matrix: 2 × 2 of type dbl\n\\begin{tabular}{ll}\n\t  2 &   671\\\\\n\t 13 & 53834\\\\\n\\end{tabular}\n",
            "text/plain": [
              "     [,1] [,2] \n",
              "[1,]  2     671\n",
              "[2,] 13   53834"
            ]
          },
          "metadata": {}
        },
        {
          "output_type": "display_data",
          "data": {
            "text/plain": [
              "\n",
              "\tFisher's Exact Test for Count Data\n",
              "\n",
              "data:  mychr21data\n",
              "p-value = 0.01436\n",
              "alternative hypothesis: true odds ratio is not equal to 1\n",
              "95 percent confidence interval:\n",
              "  1.349511 54.636938\n",
              "sample estimates:\n",
              "odds ratio \n",
              "  12.34114 \n"
            ]
          },
          "metadata": {}
        }
      ]
    },
    {
      "cell_type": "markdown",
      "source": [
        "The p value is still very samll (< 0.05) so, we are still going to reject the null hypothesis\n",
        "\n",
        "ttest for variability\n",
        "mean of 10 and 20 significant"
      ],
      "metadata": {
        "id": "Z5JGaXxgdFfK"
      }
    },
    {
      "cell_type": "code",
      "source": [
        "x <- c(8,12,9,11)\n",
        "mean(x); var(x)\n",
        "y <- c(18,22,19,21)\n",
        "mean(y); var(y)\n",
        "t.test(x,y)\n",
        "\n",
        "stripchart(list(x,y), jitter = T, vertical = T, col = c(\"red\",\"blue\") )"
      ],
      "metadata": {
        "colab": {
          "base_uri": "https://localhost:8080/",
          "height": 697
        },
        "id": "kjq7WikidMT0",
        "outputId": "235f9350-8ec3-4381-f0eb-af4a64d6bd87"
      },
      "execution_count": 25,
      "outputs": [
        {
          "output_type": "display_data",
          "data": {
            "text/html": [
              "10"
            ],
            "text/markdown": "10",
            "text/latex": "10",
            "text/plain": [
              "[1] 10"
            ]
          },
          "metadata": {}
        },
        {
          "output_type": "display_data",
          "data": {
            "text/html": [
              "3.33333333333333"
            ],
            "text/markdown": "3.33333333333333",
            "text/latex": "3.33333333333333",
            "text/plain": [
              "[1] 3.333333"
            ]
          },
          "metadata": {}
        },
        {
          "output_type": "display_data",
          "data": {
            "text/html": [
              "20"
            ],
            "text/markdown": "20",
            "text/latex": "20",
            "text/plain": [
              "[1] 20"
            ]
          },
          "metadata": {}
        },
        {
          "output_type": "display_data",
          "data": {
            "text/html": [
              "3.33333333333333"
            ],
            "text/markdown": "3.33333333333333",
            "text/latex": "3.33333333333333",
            "text/plain": [
              "[1] 3.333333"
            ]
          },
          "metadata": {}
        },
        {
          "output_type": "display_data",
          "data": {
            "text/plain": [
              "\n",
              "\tWelch Two Sample t-test\n",
              "\n",
              "data:  x and y\n",
              "t = -7.746, df = 6, p-value = 0.0002433\n",
              "alternative hypothesis: true difference in means is not equal to 0\n",
              "95 percent confidence interval:\n",
              " -13.15895  -6.84105\n",
              "sample estimates:\n",
              "mean of x mean of y \n",
              "       10        20 \n"
            ]
          },
          "metadata": {}
        },
        {
          "output_type": "display_data",
          "data": {
            "text/plain": [
              "plot without title"
            ],
            "image/png": "[encoded data removed]"
          },
          "metadata": {
            "image/png": {
              "width": 420,
              "height": 420
            }
          }
        }
      ]
    },
    {
      "cell_type": "code",
      "source": [
        "# ttest for variability\n",
        "# low variability not significant\n",
        "\n",
        "x <- c(8,12,9,11)\n",
        "mean(x); var(x)\n",
        "y <- c(12,12,12,12)\n",
        "\n",
        "mean(y); var(y)\n",
        "\n"
      ],
      "metadata": {
        "colab": {
          "base_uri": "https://localhost:8080/",
          "height": 86
        },
        "id": "qQ4lD6k9dPoM",
        "outputId": "33157154-ebdb-4485-dfc2-8aad65e38c4d"
      },
      "execution_count": 27,
      "outputs": [
        {
          "output_type": "display_data",
          "data": {
            "text/html": [
              "10"
            ],
            "text/markdown": "10",
            "text/latex": "10",
            "text/plain": [
              "[1] 10"
            ]
          },
          "metadata": {}
        },
        {
          "output_type": "display_data",
          "data": {
            "text/html": [
              "3.33333333333333"
            ],
            "text/markdown": "3.33333333333333",
            "text/latex": "3.33333333333333",
            "text/plain": [
              "[1] 3.333333"
            ]
          },
          "metadata": {}
        },
        {
          "output_type": "display_data",
          "data": {
            "text/html": [
              "12"
            ],
            "text/markdown": "12",
            "text/latex": "12",
            "text/plain": [
              "[1] 12"
            ]
          },
          "metadata": {}
        },
        {
          "output_type": "display_data",
          "data": {
            "text/html": [
              "0"
            ],
            "text/markdown": "0",
            "text/latex": "0",
            "text/plain": [
              "[1] 0"
            ]
          },
          "metadata": {}
        }
      ]
    },
    {
      "cell_type": "code",
      "source": [
        "t.test(x,y)\n",
        "stripchart(list(x,y), jitter = T, vertical = T, col = c(\"red\",\"blue\") )\n",
        "points(y)"
      ],
      "metadata": {
        "colab": {
          "base_uri": "https://localhost:8080/",
          "height": 628
        },
        "id": "D1yrYI8xdXYG",
        "outputId": "3db2ca41-2252-4a81-c5a5-a42642f03c0e"
      },
      "execution_count": 29,
      "outputs": [
        {
          "output_type": "display_data",
          "data": {
            "text/plain": [
              "\n",
              "\tWelch Two Sample t-test\n",
              "\n",
              "data:  x and y\n",
              "t = -2.1909, df = 3, p-value = 0.1162\n",
              "alternative hypothesis: true difference in means is not equal to 0\n",
              "95 percent confidence interval:\n",
              " -4.9051627  0.9051627\n",
              "sample estimates:\n",
              "mean of x mean of y \n",
              "       10        12 \n"
            ]
          },
          "metadata": {}
        },
        {
          "output_type": "display_data",
          "data": {
            "text/plain": [
              "plot without title"
            ],
            "image/png": "[encoded data removed]"
          },
          "metadata": {
            "image/png": {
              "width": 420,
              "height": 420
            }
          }
        }
      ]
    },
    {
      "cell_type": "code",
      "execution_count": 30,
      "metadata": {
        "colab": {
          "base_uri": "https://localhost:8080/",
          "height": 697
        },
        "id": "CLuOSL5VZVYH",
        "outputId": "08ac5868-3348-4051-bbdb-a759950654fd"
      },
      "outputs": [
        {
          "output_type": "display_data",
          "data": {
            "text/html": [
              "10"
            ],
            "text/markdown": "10",
            "text/latex": "10",
            "text/plain": [
              "[1] 10"
            ]
          },
          "metadata": {}
        },
        {
          "output_type": "display_data",
          "data": {
            "text/html": [
              "3.33333333333333"
            ],
            "text/markdown": "3.33333333333333",
            "text/latex": "3.33333333333333",
            "text/plain": [
              "[1] 3.333333"
            ]
          },
          "metadata": {}
        },
        {
          "output_type": "display_data",
          "data": {
            "text/html": [
              "14"
            ],
            "text/markdown": "14",
            "text/latex": "14",
            "text/plain": [
              "[1] 14"
            ]
          },
          "metadata": {}
        },
        {
          "output_type": "display_data",
          "data": {
            "text/html": [
              "0"
            ],
            "text/markdown": "0",
            "text/latex": "0",
            "text/plain": [
              "[1] 0"
            ]
          },
          "metadata": {}
        },
        {
          "output_type": "display_data",
          "data": {
            "text/plain": [
              "\n",
              "\tWelch Two Sample t-test\n",
              "\n",
              "data:  x and y\n",
              "t = -4.3818, df = 3, p-value = 0.02201\n",
              "alternative hypothesis: true difference in means is not equal to 0\n",
              "95 percent confidence interval:\n",
              " -6.905163 -1.094837\n",
              "sample estimates:\n",
              "mean of x mean of y \n",
              "       10        14 \n"
            ]
          },
          "metadata": {}
        },
        {
          "output_type": "display_data",
          "data": {
            "text/plain": [
              "plot without title"
            ],
            "image/png": "[encoded data removed]"
          },
          "metadata": {
            "image/png": {
              "width": 420,
              "height": 420
            }
          }
        }
      ],
      "source": [
        "x <- c(8,12,9,11)\n",
        "mean(x); var(x)\n",
        "y <- c(14,14,14,14)\n",
        "mean(y); var(y)\n",
        "t.test(x,y)\n",
        "\n",
        "stripchart(list(x,y), jitter = T, vertical = T, col = c(\"red\",\"blue\") )\n",
        "\n"
      ]
    }
  ]
}