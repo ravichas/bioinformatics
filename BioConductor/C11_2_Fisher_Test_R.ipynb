{
  "nbformat": 4,
  "nbformat_minor": 0,
  "metadata": {
    "colab": {
      "private_outputs": true,
      "provenance": [],
      "authorship_tag": "ABX9TyNHBYxJ7ZHgXSb3mwSHtTKr",
      "include_colab_link": true
    },
    "kernelspec": {
      "name": "ir",
      "display_name": "R"
    },
    "language_info": {
      "name": "R"
    }
  },
  "cells": [
    {
      "cell_type": "markdown",
      "metadata": {
        "id": "view-in-github",
        "colab_type": "text"
      },
      "source": [
        "<a href=\"https://colab.research.google.com/github/ravichas/bioinformatics/blob/main/BioConductor/C11_2_Fisher_Test_R.ipynb\" target=\"_parent\"><img src=\"https://colab.research.google.com/assets/colab-badge.svg\" alt=\"Open In Colab\"/></a>"
      ]
    },
    {
      "cell_type": "markdown",
      "source": [
        "# Prepared for C11-BIFX-550"
      ],
      "metadata": {
        "id": "9Yauz08naF8L"
      }
    },
    {
      "cell_type": "code",
      "source": [
        "# prompt: wget https://github.com/ravichas/bioinformatics/blob/main/data/GSE1397_series_matrix.txt.gz and untar\n",
        "\n",
        "# Download the file\n",
        "download.file('https://github.com/ravichas/bioinformatics/raw/main/data/GEO2R-GSE1397-output.txt.tar.gz', destfile = 'data.gz')\n",
        "\n",
        "# Untar the file\n",
        "untar('data.gz', exdir = 'data')\n"
      ],
      "metadata": {
        "id": "GZadfLaJaTow"
      },
      "execution_count": null,
      "outputs": []
    },
    {
      "cell_type": "code",
      "source": [
        "data <- read.table(\"data/GEO2R-GSE1397-output.txt\",sep=\"\\t\",header=TRUE,stringsAsFactors = FALSE)\n",
        "nrow(data) #22283 rows or genes\n",
        "\n",
        "head(data)[1:3,]"
      ],
      "metadata": {
        "id": "q91e5RCGbY_0"
      },
      "execution_count": null,
      "outputs": []
    },
    {
      "cell_type": "code",
      "source": [
        "data15 <- data15[1:15,]\n",
        "names(data15)"
      ],
      "metadata": {
        "id": "5mb4PX6Cb95M"
      },
      "execution_count": null,
      "outputs": []
    },
    {
      "cell_type": "code",
      "source": [
        "# how to remove entries that contain AFF in their ID\n",
        "# controls that you want to remove\n",
        "#install.packages(\"dplyr\")\n",
        "library(dplyr)\n",
        "Control <- filter(data,grepl(\"AFF\",data$ID))"
      ],
      "metadata": {
        "id": "d3GtfX4ncJJZ"
      },
      "execution_count": null,
      "outputs": []
    },
    {
      "cell_type": "code",
      "source": [
        "# or you get the IDs using this approach\n",
        "ControlRowNumbers <- which(data$Platform_SPOTID == \"--Control\")\n",
        "# explore the first entry\n",
        "# remove them from data\n",
        "cdata <- data[-ControlRowNumbers, ]\n",
        "#checking\n",
        "which(cdata$Platform_SPOTID == \"--Control\")"
      ],
      "metadata": {
        "id": "gIWqZIOHcOJD"
      },
      "execution_count": null,
      "outputs": []
    },
    {
      "cell_type": "code",
      "source": [
        "nrow(cdata) #22215\n",
        "nrow(data)  #22283"
      ],
      "metadata": {
        "id": "PhOmkkC2cQ8j"
      },
      "execution_count": null,
      "outputs": []
    },
    {
      "cell_type": "markdown",
      "source": [
        "How many do not have a gene Symbol data$Gene.symbol"
      ],
      "metadata": {
        "id": "KMtiIA2ecZJZ"
      }
    },
    {
      "cell_type": "code",
      "source": [
        "NoGeneSymIDs<- which(cdata$Gene.symbol == \"\")\n",
        "nrow(cdata) - length(NoGeneSymIDs)"
      ],
      "metadata": {
        "id": "iBaJ3HMgcTxj"
      },
      "execution_count": null,
      "outputs": []
    },
    {
      "cell_type": "code",
      "source": [
        "how_many_from_21 <- grepl(\"21\",data15$Chromosome.location)\n",
        "table(how_many_from_21)"
      ],
      "metadata": {
        "id": "FIOlqfbkcfeq"
      },
      "execution_count": null,
      "outputs": []
    },
    {
      "cell_type": "code",
      "source": [
        "\n",
        "mychr21data <- matrix(c(9,6,671,53834))"
      ],
      "metadata": {
        "id": "fEqyfTkDciBf"
      },
      "execution_count": null,
      "outputs": []
    },
    {
      "cell_type": "markdown",
      "source": [
        "# example from Jonathan Pevsner book\n",
        "\n",
        "is the occurance of 9 chr21 derived transcript out of 15\n",
        "statisitcally significant?\n",
        "\n",
        "671 chr21 genes  and 53,834 non-chr21 genes in GRCh38\n",
        "we can use fisher's test to check whether 9 transcripts from chr21 are more than what we expect by chance"
      ],
      "metadata": {
        "id": "dU7jLuDEcmBB"
      }
    },
    {
      "cell_type": "code",
      "source": [
        "\n",
        "mychr21data <- matrix(c(9, 15, 671,53834),2,2)\n",
        "mychr21data"
      ],
      "metadata": {
        "id": "-dHh7KPBczVW"
      },
      "execution_count": null,
      "outputs": []
    },
    {
      "cell_type": "markdown",
      "source": [
        "Different from the way shown in the book\n",
        "order doesnt matter but more meaningful this way"
      ],
      "metadata": {
        "id": "px1APxg8c1eP"
      }
    },
    {
      "cell_type": "code",
      "source": [
        "row.names(mychr21data) <- c(\"Sig\",\"nonSig\")\n",
        "colnames(mychr21data) <- c(\"chr21\", \"nchr21\")\n",
        "mychr21data\n",
        "fisher.test(mychr21data,alternative=\"two.sided\")"
      ],
      "metadata": {
        "id": "uTcW8stsc6M1"
      },
      "execution_count": null,
      "outputs": []
    },
    {
      "cell_type": "markdown",
      "source": [
        "The p value is very samll so, we can reject the null hypothesis\n",
        "\n",
        "Would the finding be significant if we have 2 out of 15?\n"
      ],
      "metadata": {
        "id": "Rdzh9oogc9MU"
      }
    },
    {
      "cell_type": "code",
      "source": [
        "mychr21data <- matrix(c(2,13,671,53834),2,2)\n",
        "mychr21data\n",
        "fisher.test(mychr21data,alternative=\"two.sided\")"
      ],
      "metadata": {
        "id": "nvlv4k6LdBpU"
      },
      "execution_count": null,
      "outputs": []
    },
    {
      "cell_type": "markdown",
      "source": [
        "The p value is still very samll (< 0.05) so, we are still going to reject the null hypothesis\n",
        "\n",
        "ttest for variability\n",
        "mean of 10 and 20 significant"
      ],
      "metadata": {
        "id": "Z5JGaXxgdFfK"
      }
    },
    {
      "cell_type": "code",
      "source": [
        "x <- c(8,12,9,11)\n",
        "mean(x); var(x)\n",
        "y <- c(18,22,19,21)\n",
        "mean(y); var(y)\n",
        "t.test(x,y)\n",
        "\n",
        "stripchart(list(x,y), jitter = T, vertical = T, col = c(\"red\",\"blue\") )"
      ],
      "metadata": {
        "id": "kjq7WikidMT0"
      },
      "execution_count": null,
      "outputs": []
    },
    {
      "cell_type": "code",
      "source": [
        "# ttest for variability\n",
        "# low variability not significant\n",
        "\n",
        "x <- c(8,12,9,11)\n",
        "mean(x); var(x)\n",
        "y <- c(12,12,12,12)\n",
        "\n",
        "mean(y); var(y)\n",
        "\n"
      ],
      "metadata": {
        "id": "qQ4lD6k9dPoM"
      },
      "execution_count": null,
      "outputs": []
    },
    {
      "cell_type": "code",
      "source": [
        "t.test(x,y)\n",
        "stripchart(list(x,y), jitter = T, vertical = T, col = c(\"red\",\"blue\") )\n",
        "points(y)"
      ],
      "metadata": {
        "id": "D1yrYI8xdXYG"
      },
      "execution_count": null,
      "outputs": []
    },
    {
      "cell_type": "code",
      "execution_count": null,
      "metadata": {
        "id": "CLuOSL5VZVYH"
      },
      "outputs": [],
      "source": [
        "x <- c(8,12,9,11)\n",
        "mean(x); var(x)\n",
        "y <- c(14,14,14,14)\n",
        "mean(y); var(y)\n",
        "t.test(x,y)\n",
        "\n",
        "stripchart(list(x,y), jitter = T, vertical = T, col = c(\"red\",\"blue\") )\n",
        "\n"
      ]
    }
  ]
}