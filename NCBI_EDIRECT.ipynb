{
  "nbformat": 4,
  "nbformat_minor": 0,
  "metadata": {
    "colab": {
      "name": "NCBI-EDIRECT.ipynb",
      "private_outputs": true,
      "provenance": [],
      "collapsed_sections": [],
      "toc_visible": true,
      "authorship_tag": "ABX9TyNdp+ntytbCNxkNyc/mfv7C",
      "include_colab_link": true
    },
    "kernelspec": {
      "name": "python3",
      "display_name": "Python 3"
    },
    "accelerator": "TPU"
  },
  "cells": [
    {
      "cell_type": "markdown",
      "metadata": {
        "id": "view-in-github",
        "colab_type": "text"
      },
      "source": [
        "<a href=\"https://colab.research.google.com/github/ravichas/bioinformatics/blob/main/NCBI_EDIRECT.ipynb\" target=\"_parent\"><img src=\"https://colab.research.google.com/assets/colab-badge.svg\" alt=\"Open In Colab\"/></a>"
      ]
    },
    {
      "cell_type": "markdown",
      "metadata": {
        "id": "FjwSdwTPpwQl"
      },
      "source": [
        "## NCBI Edirect tutorial using COLAB \n",
        "S. Ravichandran (saka.ravi@gmail.com)\n",
        "\n",
        "\n"
      ]
    },
    {
      "cell_type": "markdown",
      "metadata": {
        "id": "-HGNGR6Op-5k"
      },
      "source": [
        "## Install EDIRECT\n",
        "\n",
        "https://www.ncbi.nlm.nih.gov/books/NBK179288/"
      ]
    },
    {
      "cell_type": "code",
      "metadata": {
        "id": "LS0BR-gIxOAj"
      },
      "source": [
        "!date"
      ],
      "execution_count": null,
      "outputs": []
    },
    {
      "cell_type": "code",
      "metadata": {
        "id": "yEg6D3jn_XYo"
      },
      "source": [
        "%%bash\n",
        "MINICONDA_INSTALLER_SCRIPT=Miniconda3-4.5.4-Linux-x86_64.sh\n",
        "MINICONDA_PREFIX=/usr/local\n",
        "wget https://repo.continuum.io/miniconda/$MINICONDA_INSTALLER_SCRIPT >& /dev/null\n",
        "chmod +x $MINICONDA_INSTALLER_SCRIPT\n",
        "./$MINICONDA_INSTALLER_SCRIPT -b -f -p $MINICONDA_PREFIX >& /dev/null "
      ],
      "execution_count": null,
      "outputs": []
    },
    {
      "cell_type": "code",
      "metadata": {
        "id": "by5LfnneBgZJ"
      },
      "source": [
        "!which conda # should return /usr/local/bin/conda"
      ],
      "execution_count": null,
      "outputs": []
    },
    {
      "cell_type": "code",
      "metadata": {
        "id": "g7Nib60-CgxB"
      },
      "source": [
        "!conda --version # should return 4.5.4"
      ],
      "execution_count": null,
      "outputs": []
    },
    {
      "cell_type": "code",
      "metadata": {
        "id": "ub9QlZctBsRV"
      },
      "source": [
        "!which python # still returns /usr/local/bin/python"
      ],
      "execution_count": null,
      "outputs": []
    },
    {
      "cell_type": "code",
      "metadata": {
        "id": "ru-8KXsq_ICC"
      },
      "source": [
        "%%bash\n",
        "conda install --channel defaults conda python=3.7 --yes\n",
        "conda update --channel defaults --all --yes"
      ],
      "execution_count": null,
      "outputs": []
    },
    {
      "cell_type": "code",
      "metadata": {
        "id": "Ns3KDyeUCyt6"
      },
      "source": [
        "!conda --version # now returns 4.8.3"
      ],
      "execution_count": null,
      "outputs": []
    },
    {
      "cell_type": "code",
      "metadata": {
        "id": "v7he1eU6IPlj"
      },
      "source": [
        "import sys\n",
        "sys.path "
      ],
      "execution_count": null,
      "outputs": []
    },
    {
      "cell_type": "code",
      "metadata": {
        "id": "x2HOSzYGIZF8"
      },
      "source": [
        "!ls /usr/local/lib/python3.6/site-packages/"
      ],
      "execution_count": null,
      "outputs": []
    },
    {
      "cell_type": "code",
      "metadata": {
        "id": "UGt9kLe_DgKP"
      },
      "source": [
        "_ = (sys.path.append(\"/usr/local/lib/python3.7/site-packages\"))"
      ],
      "execution_count": null,
      "outputs": []
    },
    {
      "cell_type": "code",
      "metadata": {
        "id": "P5kgs4URwE13"
      },
      "source": [
        "!conda install -c bioconda -y entrez-direct"
      ],
      "execution_count": null,
      "outputs": []
    },
    {
      "cell_type": "code",
      "metadata": {
        "id": "u5gHoTd5IlOD"
      },
      "source": [
        "!ls /usr/local/lib/python3.7/site-packages/"
      ],
      "execution_count": null,
      "outputs": []
    },
    {
      "cell_type": "code",
      "metadata": {
        "id": "tia45APzDlJE"
      },
      "source": [
        "!ls  /usr/local/bin/efetch"
      ],
      "execution_count": null,
      "outputs": []
    },
    {
      "cell_type": "code",
      "metadata": {
        "id": "0DUQYTjM533N"
      },
      "source": [
        "! esearch -db"
      ],
      "execution_count": null,
      "outputs": []
    },
    {
      "cell_type": "markdown",
      "metadata": {
        "id": "JlMDcYQ7qFY5"
      },
      "source": [
        "## Just making sure"
      ]
    },
    {
      "cell_type": "code",
      "metadata": {
        "id": "vluJjypf-x54"
      },
      "source": [
        "!esearch"
      ],
      "execution_count": null,
      "outputs": []
    },
    {
      "cell_type": "code",
      "metadata": {
        "id": "IVLwI46AuVJJ"
      },
      "source": [
        "%%bash\n",
        "echo \"***********************\" > installconfirm\n",
        "echo \"esearch version:\" >> installconfirm\n",
        "esearch -version >> installconfirm\n",
        "echo \"xtract version:\" >> installconfirm\n",
        "xtract -version >> installconfirm\n",
        "echo \"EDirect install status:\" >> installconfirm\n",
        "esearch -db pubmed -query \"Babalobi OO[au] AND 2008[pdat]\" | \\\n",
        "efetch -format xml | \\\n",
        "xtract -pattern Author -if Affiliation -contains Medicine \\\n",
        "-element Initials >> installconfirm\n",
        "echo \"***********************\" >> installconfirm\n",
        "cat installconfirm"
      ],
      "execution_count": null,
      "outputs": []
    },
    {
      "cell_type": "code",
      "metadata": {
        "id": "hUZusrogI52n"
      },
      "source": [
        "!cat installconfirm"
      ],
      "execution_count": null,
      "outputs": []
    },
    {
      "cell_type": "markdown",
      "metadata": {
        "id": "SGLPj_jkqReM"
      },
      "source": [
        "## Run some edirect examples"
      ]
    },
    {
      "cell_type": "code",
      "metadata": {
        "id": "iUFVwun3gkq9"
      },
      "source": [
        "!esearch -db pubmed -query \"breast cancer\" "
      ],
      "execution_count": null,
      "outputs": []
    },
    {
      "cell_type": "code",
      "metadata": {
        "id": "Z0C5Km-Mgy8M"
      },
      "source": [
        "!esearch -db pubmed -query \"selective serotonin reuptake inhibitor\""
      ],
      "execution_count": null,
      "outputs": []
    },
    {
      "cell_type": "code",
      "metadata": {
        "id": "tY3sXZkBoyzn"
      },
      "source": [
        "!efetch -db protein -id 3OQZ_a -format fasta"
      ],
      "execution_count": null,
      "outputs": []
    },
    {
      "cell_type": "code",
      "metadata": {
        "id": "7HchBg9dkPdm"
      },
      "source": [
        "!efetch -db protein -id 7LYZ -format fasta"
      ],
      "execution_count": null,
      "outputs": []
    },
    {
      "cell_type": "code",
      "metadata": {
        "id": "pFQH2lUHpteW"
      },
      "source": [
        "%%bash\n",
        "esearch -db pubmed -query \"opsin gene conversion\" | elink -related | efilter -query \"tetrachromacy\""
      ],
      "execution_count": null,
      "outputs": []
    },
    {
      "cell_type": "markdown",
      "metadata": {
        "id": "_IUqw4fkY-_G"
      },
      "source": [
        "**Genetic and physical maps of Saccharomyces cerevisiae, **\n",
        "\n",
        "Edition R K Mortimer, C R Contopoulou, J S King"
      ]
    },
    {
      "cell_type": "code",
      "metadata": {
        "id": "ne2iI8AnuCC1"
      },
      "source": [
        "! efetch -db pubmed -id 1413997 -format xml | \\\n",
        "  xtract -pattern PubmedArticle -block Author -element Initials LastName"
      ],
      "execution_count": null,
      "outputs": []
    },
    {
      "cell_type": "code",
      "metadata": {
        "id": "ilp2i75xvC6V"
      },
      "source": [
        "%%bash\n",
        "esearch -db pubmed -query \"Havran W [AUTH]\" |\n",
        "  efetch -format xml |\n",
        "  xtract -pattern PubmedArticle -if \"#Author\" -lt 13 \\\n",
        "    -block Author -if LastName -is-not Havran \\\n",
        "      -sep \", \" -tab \"\\n\" -element LastName,Initials |\n",
        "  sort-uniq-count-rank"
      ],
      "execution_count": null,
      "outputs": []
    },
    {
      "cell_type": "code",
      "metadata": {
        "id": "I_vTqBm3vpzF"
      },
      "source": [
        "!esearch -db pubmed -query \"Havran W [AUTH]\""
      ],
      "execution_count": null,
      "outputs": []
    },
    {
      "cell_type": "code",
      "metadata": {
        "id": "DFgSeBWA0Tvg"
      },
      "source": [
        "%%bash\n",
        "esearch -db protein -query \"human[ORGN] AND 799000:900000[molwt]\" \\\n",
        "  | efetch -format gb\n"
      ],
      "execution_count": null,
      "outputs": []
    },
    {
      "cell_type": "markdown",
      "metadata": {
        "id": "fOQZZbzkxlmk"
      },
      "source": [
        "## Linux "
      ]
    },
    {
      "cell_type": "code",
      "metadata": {
        "id": "wy32uvBBwAxk"
      },
      "source": [
        "!uname -a"
      ],
      "execution_count": null,
      "outputs": []
    },
    {
      "cell_type": "code",
      "metadata": {
        "id": "MOZxPcynx-Ux"
      },
      "source": [
        "!cat /etc/issue"
      ],
      "execution_count": null,
      "outputs": []
    },
    {
      "cell_type": "code",
      "metadata": {
        "id": "Rx-fN-OD0SUm"
      },
      "source": [
        "!pwd\n"
      ],
      "execution_count": null,
      "outputs": []
    },
    {
      "cell_type": "code",
      "metadata": {
        "id": "8Gg8J0bjzPfW"
      },
      "source": [
        "%%bash\n",
        "var1=98\n",
        "echo \" var1 is set to:  \" $var1\n",
        "\n",
        "if [ \"${var1}\" -gt  2 ]\n",
        "then\n",
        "   echo \"Var1 is > 3\"\n",
        "else\n",
        "   echo \"Var1 is <= 3\"\n",
        "fi\n",
        "\n"
      ],
      "execution_count": null,
      "outputs": []
    },
    {
      "cell_type": "code",
      "metadata": {
        "id": "96FJ74Xh1Z1t"
      },
      "source": [
        "%%bash\n",
        "cd /content\n",
        "pwd\n",
        "mkdir -p test\n",
        "cd test\n",
        "touch Ravi.txt\n",
        "pwd\n",
        "cd ..\n",
        "\n",
        "pwd"
      ],
      "execution_count": null,
      "outputs": []
    },
    {
      "cell_type": "code",
      "metadata": {
        "id": "c5NcAR4oaaz7"
      },
      "source": [
        "%%bash \n",
        "\n",
        "cd test/test1\n",
        "#mkdir test1\n",
        "pwd"
      ],
      "execution_count": null,
      "outputs": []
    },
    {
      "cell_type": "code",
      "metadata": {
        "id": "suRmWqDXauWF"
      },
      "source": [
        "%%bash\n",
        "cd"
      ],
      "execution_count": null,
      "outputs": []
    },
    {
      "cell_type": "code",
      "metadata": {
        "id": "C6Z3aSw_a0-H"
      },
      "source": [
        "!pwd"
      ],
      "execution_count": null,
      "outputs": []
    },
    {
      "cell_type": "code",
      "metadata": {
        "id": "U7OIsUWl2Ijv"
      },
      "source": [
        "%%bash \n",
        "\n",
        "ls \n",
        "\n",
        "ls -l -f\n"
      ],
      "execution_count": null,
      "outputs": []
    },
    {
      "cell_type": "markdown",
      "metadata": {
        "id": "_Xrapbx12mG1"
      },
      "source": [
        "## Help"
      ]
    },
    {
      "cell_type": "code",
      "metadata": {
        "id": "xfb9f3ry2g8w"
      },
      "source": [
        "man ls"
      ],
      "execution_count": null,
      "outputs": []
    },
    {
      "cell_type": "code",
      "metadata": {
        "id": "ucUY1QHD25nI"
      },
      "source": [
        "%%bash\n",
        "wget http://www.rcsb.org/pdb/files/7lyz.pdb"
      ],
      "execution_count": null,
      "outputs": []
    },
    {
      "cell_type": "code",
      "metadata": {
        "id": "Yil2SEv7b-OJ"
      },
      "source": [
        "!tail 7lyz.pdb"
      ],
      "execution_count": null,
      "outputs": []
    },
    {
      "cell_type": "code",
      "metadata": {
        "id": "fG1GlDrqbtYR"
      },
      "source": [
        "%%bash\n",
        "cat 7lyz.pdb | grep \"ATOM\"  > 7lyzAllATOM.pdb\n",
        "cat 7lyz.pdb | grep \"^ATOM\" > 7lyzATOM.pdb"
      ],
      "execution_count": null,
      "outputs": []
    },
    {
      "cell_type": "code",
      "metadata": {
        "id": "QJWxmSO8btSB"
      },
      "source": [
        "!more 7lyzATOM.pdb"
      ],
      "execution_count": null,
      "outputs": []
    },
    {
      "cell_type": "code",
      "metadata": {
        "id": "Fzn3C3NX3Acc"
      },
      "source": [
        "more 7lyz.pdb"
      ],
      "execution_count": null,
      "outputs": []
    },
    {
      "cell_type": "code",
      "metadata": {
        "id": "gFLxtvMQ3VuW"
      },
      "source": [
        "%%bash\n",
        "wget http://www.rcsb.org/pdb/files/2src.pdb"
      ],
      "execution_count": null,
      "outputs": []
    },
    {
      "cell_type": "code",
      "metadata": {
        "id": "lJ59wMKP3lY4"
      },
      "source": [
        "!mv 2src.pdb 2src.PDB"
      ],
      "execution_count": null,
      "outputs": []
    },
    {
      "cell_type": "code",
      "metadata": {
        "id": "t0uPriHI3pr7"
      },
      "source": [
        "!ls -l\n"
      ],
      "execution_count": null,
      "outputs": []
    },
    {
      "cell_type": "code",
      "metadata": {
        "id": "FfvD8A0Z3qj9"
      },
      "source": [
        "!rm -i 2src.PDB"
      ],
      "execution_count": null,
      "outputs": []
    },
    {
      "cell_type": "code",
      "metadata": {
        "id": "hcs_xP2S3xOH"
      },
      "source": [
        "!ls -l 2src.PDB"
      ],
      "execution_count": null,
      "outputs": []
    },
    {
      "cell_type": "code",
      "metadata": {
        "id": "kAcZCWVJ35fB"
      },
      "source": [
        "!touch new_file.txt\n"
      ],
      "execution_count": null,
      "outputs": []
    },
    {
      "cell_type": "code",
      "metadata": {
        "id": "tz-9bCse39PZ"
      },
      "source": [
        "!ls -l new_file.txt"
      ],
      "execution_count": null,
      "outputs": []
    },
    {
      "cell_type": "code",
      "metadata": {
        "id": "T6HHKaIK4BJw"
      },
      "source": [
        "!find /content -name edirect"
      ],
      "execution_count": null,
      "outputs": []
    },
    {
      "cell_type": "code",
      "metadata": {
        "id": "m86ngp5H4Eb9"
      },
      "source": [
        "!cat 7lyz.pdb | grep CA\n"
      ],
      "execution_count": null,
      "outputs": []
    },
    {
      "cell_type": "code",
      "metadata": {
        "id": "oQq-cCtn4Kea"
      },
      "source": [
        "!cat 7lyz.pdb | grep CA | wc -l"
      ],
      "execution_count": null,
      "outputs": []
    },
    {
      "cell_type": "code",
      "metadata": {
        "id": "-UNUlHp74ezO"
      },
      "source": [
        "!df"
      ],
      "execution_count": null,
      "outputs": []
    },
    {
      "cell_type": "code",
      "metadata": {
        "id": "f5oSwILd4hAI"
      },
      "source": [
        "!head 7lyz.pdb"
      ],
      "execution_count": null,
      "outputs": []
    },
    {
      "cell_type": "code",
      "metadata": {
        "id": "kiwpss994j2h"
      },
      "source": [
        "!tail 7lyz.pdb"
      ],
      "execution_count": null,
      "outputs": []
    },
    {
      "cell_type": "code",
      "metadata": {
        "id": "sjnDjlIr4mKj"
      },
      "source": [
        "%%bash\n",
        "cat << EOF > config.txt\n",
        "first line\n",
        "second lie\n",
        "third line \n",
        "EOF\n"
      ],
      "execution_count": null,
      "outputs": []
    },
    {
      "cell_type": "code",
      "metadata": {
        "id": "PRpP3RWn5EjI"
      },
      "source": [
        "!cat config.txt"
      ],
      "execution_count": null,
      "outputs": []
    },
    {
      "cell_type": "code",
      "metadata": {
        "id": "7Xn6ed305LtI"
      },
      "source": [
        "!tar -czvf test.tar.gz edirect\n"
      ],
      "execution_count": null,
      "outputs": []
    },
    {
      "cell_type": "code",
      "metadata": {
        "id": "1g89H5gd5RQ7"
      },
      "source": [
        "!ls -l *tar*"
      ],
      "execution_count": null,
      "outputs": []
    },
    {
      "cell_type": "code",
      "metadata": {
        "id": "Po4KtWPE5xoj"
      },
      "source": [
        "!top\n"
      ],
      "execution_count": null,
      "outputs": []
    },
    {
      "cell_type": "code",
      "metadata": {
        "id": "BF3RUl5e6aEr"
      },
      "source": [
        "%history"
      ],
      "execution_count": null,
      "outputs": []
    },
    {
      "cell_type": "code",
      "metadata": {
        "id": "PQJf8XYO6hPK"
      },
      "source": [
        "!which zip\n",
        "!which unzip"
      ],
      "execution_count": null,
      "outputs": []
    },
    {
      "cell_type": "markdown",
      "metadata": {
        "id": "drsRiwwq5h79"
      },
      "source": [
        "## Other important commands"
      ]
    },
    {
      "cell_type": "markdown",
      "metadata": {
        "id": "2aD06DXE5r2X"
      },
      "source": [
        "* chmod\n",
        "* chown\n",
        "* kill \n",
        "* Ctrl-c \n",
        "* Ctrl-z  # will pause the command\n"
      ]
    },
    {
      "cell_type": "code",
      "metadata": {
        "id": "qigIS91K5q9M"
      },
      "source": [
        "%%bash\n",
        "esearch -db pubmed -query \"lycopene cyclase\" |efetch -format abstract > HitsFile.txt"
      ],
      "execution_count": null,
      "outputs": []
    },
    {
      "cell_type": "code",
      "metadata": {
        "id": "LqxwaOtyChpk"
      },
      "source": [
        "!wc -l HitsFile.txt"
      ],
      "execution_count": null,
      "outputs": []
    },
    {
      "cell_type": "code",
      "metadata": {
        "id": "rZI07w1JCoS7"
      },
      "source": [
        ""
      ],
      "execution_count": null,
      "outputs": []
    }
  ]
}