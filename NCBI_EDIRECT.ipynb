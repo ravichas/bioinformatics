{
  "nbformat": 4,
  "nbformat_minor": 0,
  "metadata": {
    "colab": {
      "name": "NCBI-EDIRECT.ipynb",
      "private_outputs": true,
      "provenance": [],
      "collapsed_sections": [],
      "toc_visible": true,
      "authorship_tag": "ABX9TyMP4E9RMspphFSdd85PkGMd",
      "include_colab_link": true
    },
    "kernelspec": {
      "name": "python3",
      "display_name": "Python 3"
    },
    "accelerator": "TPU"
  },
  "cells": [
    {
      "cell_type": "markdown",
      "metadata": {
        "id": "view-in-github",
        "colab_type": "text"
      },
      "source": [
        "<a href=\"https://colab.research.google.com/github/ravichas/bioinformatics/blob/main/NCBI_EDIRECT.ipynb\" target=\"_parent\"><img src=\"https://colab.research.google.com/assets/colab-badge.svg\" alt=\"Open In Colab\"/></a>"
      ]
    },
    {
      "cell_type": "code",
      "metadata": {
        "id": "uHiHkBim571Z"
      },
      "source": [
        ""
      ],
      "execution_count": null,
      "outputs": []
    },
    {
      "cell_type": "markdown",
      "metadata": {
        "id": "FjwSdwTPpwQl"
      },
      "source": [
        "## NCBI Edirect tutorial using COLAB \r\n",
        "S. Ravichandran (saka.ravi@gmail.com)\r\n",
        "\r\n",
        "\r\n"
      ]
    },
    {
      "cell_type": "markdown",
      "metadata": {
        "id": "-HGNGR6Op-5k"
      },
      "source": [
        "## Install EDIRECT\r\n",
        "\r\n",
        "https://www.ncbi.nlm.nih.gov/books/NBK179288/"
      ]
    },
    {
      "cell_type": "code",
      "metadata": {
        "id": "LS0BR-gIxOAj"
      },
      "source": [
        "!time"
      ],
      "execution_count": null,
      "outputs": []
    },
    {
      "cell_type": "code",
      "metadata": {
        "id": "MQnQ52CEXBmG"
      },
      "source": [
        "%%bash\r\n",
        "\r\n",
        "wget \"ftp://ftp.ncbi.nlm.nih.gov/entrez/entrezdirect/edirect.tar.gz\"\r\n",
        "tar -xzvf ./edirect.tar.gz\r\n",
        "\r\n",
        "export PATH=${PATH}:/content/edirect\r\n",
        "time ./edirect/setup.sh\r\n",
        "\r\n",
        "# echo y ./edirect/setup.sh\r\n"
      ],
      "execution_count": null,
      "outputs": []
    },
    {
      "cell_type": "markdown",
      "metadata": {
        "id": "Iq4S9rFdqCMM"
      },
      "source": [
        "## Export Path"
      ]
    },
    {
      "cell_type": "code",
      "metadata": {
        "id": "qmo7mFYZZ4rA"
      },
      "source": [
        "%%bash\r\n",
        "echo \"export PATH=\\${PATH}:/content/edirect\" >> $HOME/.bashrc"
      ],
      "execution_count": null,
      "outputs": []
    },
    {
      "cell_type": "markdown",
      "metadata": {
        "id": "JlMDcYQ7qFY5"
      },
      "source": [
        "## Just making sure"
      ]
    },
    {
      "cell_type": "code",
      "metadata": {
        "id": "1c0M-lzxaCl4"
      },
      "source": [
        "!cat /root/.bashrc | grep edirect"
      ],
      "execution_count": null,
      "outputs": []
    },
    {
      "cell_type": "markdown",
      "metadata": {
        "id": "SGLPj_jkqReM"
      },
      "source": [
        "## Run some edirect examples"
      ]
    },
    {
      "cell_type": "code",
      "metadata": {
        "id": "iUFVwun3gkq9"
      },
      "source": [
        "!/content/edirect/esearch -db pubmed -query \"breast cancer\""
      ],
      "execution_count": null,
      "outputs": []
    },
    {
      "cell_type": "code",
      "metadata": {
        "id": "Z0C5Km-Mgy8M"
      },
      "source": [
        "!/content/edirect/esearch -db pubmed -query \"selective serotonin reuptake inhibitor\""
      ],
      "execution_count": null,
      "outputs": []
    },
    {
      "cell_type": "code",
      "metadata": {
        "id": "tY3sXZkBoyzn"
      },
      "source": [
        "!/content/edirect/efetch -db protein -id 7LYZ_a -format fasta"
      ],
      "execution_count": null,
      "outputs": []
    },
    {
      "cell_type": "code",
      "metadata": {
        "id": "7HchBg9dkPdm"
      },
      "source": [
        "!/content/edirect/efetch -db protein -id 7LYZ -format fasta"
      ],
      "execution_count": null,
      "outputs": []
    },
    {
      "cell_type": "code",
      "metadata": {
        "id": "pFQH2lUHpteW"
      },
      "source": [
        "%%bash\r\n",
        "edirect/esearch -db pubmed -query \"opsin gene conversion\" | \\\r\n",
        "edirect/elink -related | edirect/efilter -query \"tetrachromacy\""
      ],
      "execution_count": null,
      "outputs": []
    },
    {
      "cell_type": "code",
      "metadata": {
        "id": "ne2iI8AnuCC1"
      },
      "source": [
        "!edirect/efetch -db pubmed -id 1413997 -format xml | \\\r\n",
        "  edirect/xtract -pattern PubmedArticle -block Author -element Initials LastName"
      ],
      "execution_count": null,
      "outputs": []
    },
    {
      "cell_type": "code",
      "metadata": {
        "id": "ilp2i75xvC6V"
      },
      "source": [
        "%%bash\r\n",
        "edirect/esearch -db pubmed -query \"Havran W [AUTH]\" |\r\n",
        "  edirect/efetch -format xml |\r\n",
        "  edirect/xtract -pattern PubmedArticle -if \"#Author\" -lt 13 \\\r\n",
        "    -block Author -if LastName -is-not Havran \\\r\n",
        "      -sep \", \" -tab \"\\n\" -element LastName,Initials |\r\n",
        "  edirect/sort-uniq-count-rank"
      ],
      "execution_count": null,
      "outputs": []
    },
    {
      "cell_type": "code",
      "metadata": {
        "id": "I_vTqBm3vpzF"
      },
      "source": [
        "!edirect/esearch -db pubmed -query \"Havran W [AUTH]\""
      ],
      "execution_count": null,
      "outputs": []
    },
    {
      "cell_type": "code",
      "metadata": {
        "id": "mp4EnlvXvz88"
      },
      "source": [
        ""
      ],
      "execution_count": null,
      "outputs": []
    },
    {
      "cell_type": "code",
      "metadata": {
        "id": "DFgSeBWA0Tvg"
      },
      "source": [
        "%%bash\r\n",
        "edirect/esearch -db protein -query \"human[ORGN] AND 799000:900000[molwt]\" \\\r\n",
        "  | edirect/efetch -format gb\r\n"
      ],
      "execution_count": null,
      "outputs": []
    },
    {
      "cell_type": "code",
      "metadata": {
        "id": "JqjcFeg50cTO"
      },
      "source": [
        ""
      ],
      "execution_count": null,
      "outputs": []
    },
    {
      "cell_type": "code",
      "metadata": {
        "id": "K_1ewhoO0cSF"
      },
      "source": [
        ""
      ],
      "execution_count": null,
      "outputs": []
    },
    {
      "cell_type": "markdown",
      "metadata": {
        "id": "fOQZZbzkxlmk"
      },
      "source": [
        "## Linux "
      ]
    },
    {
      "cell_type": "code",
      "metadata": {
        "id": "wy32uvBBwAxk"
      },
      "source": [
        "!uname -a"
      ],
      "execution_count": null,
      "outputs": []
    },
    {
      "cell_type": "code",
      "metadata": {
        "id": "MOZxPcynx-Ux"
      },
      "source": [
        "!cat /etc/issue"
      ],
      "execution_count": null,
      "outputs": []
    },
    {
      "cell_type": "code",
      "metadata": {
        "id": "Rx-fN-OD0SUm"
      },
      "source": [
        "!pwd\r\n"
      ],
      "execution_count": null,
      "outputs": []
    },
    {
      "cell_type": "code",
      "metadata": {
        "id": "8Gg8J0bjzPfW"
      },
      "source": [
        "%%bash\r\n",
        "var1=98\r\n",
        "echo \" var1 is set to:  \" $var1\r\n",
        "\r\n",
        "if [ \"${var1}\" -gt  2 ]\r\n",
        "then\r\n",
        "   echo \"Var1 is > 3\"\r\n",
        "else\r\n",
        "   echo \"Var1 is <= 3\"\r\n",
        "fi\r\n",
        "\r\n"
      ],
      "execution_count": null,
      "outputs": []
    },
    {
      "cell_type": "code",
      "metadata": {
        "id": "96FJ74Xh1Z1t"
      },
      "source": [
        "%%bash\r\n",
        "cd /content\r\n",
        "pwd\r\n",
        "mkdir -p test\r\n",
        "cd test\r\n",
        "pwd\r\n",
        "cd ./..\r\n",
        "\r\n",
        "pwd"
      ],
      "execution_count": null,
      "outputs": []
    },
    {
      "cell_type": "code",
      "metadata": {
        "id": "U7OIsUWl2Ijv"
      },
      "source": [
        "%%bash \r\n",
        "\r\n",
        "ls \r\n",
        "\r\n",
        "ls -l -f\r\n"
      ],
      "execution_count": null,
      "outputs": []
    },
    {
      "cell_type": "markdown",
      "metadata": {
        "id": "_Xrapbx12mG1"
      },
      "source": [
        "## Help"
      ]
    },
    {
      "cell_type": "code",
      "metadata": {
        "id": "xfb9f3ry2g8w"
      },
      "source": [
        "man ls"
      ],
      "execution_count": null,
      "outputs": []
    },
    {
      "cell_type": "code",
      "metadata": {
        "id": "ucUY1QHD25nI"
      },
      "source": [
        "%%bash\r\n",
        "wget http://www.rcsb.org/pdb/files/7lyz.pdb\r\n",
        "cat 7lyz.pdb | grep \"ATOM\"  > 7lyzAllATOM.pdb\r\n",
        "cat 7lyz.pdb | grep \"^ATOM\" > 7lyzATOM.pdb"
      ],
      "execution_count": null,
      "outputs": []
    },
    {
      "cell_type": "code",
      "metadata": {
        "id": "Fzn3C3NX3Acc"
      },
      "source": [
        "more 7lyz.pdb"
      ],
      "execution_count": null,
      "outputs": []
    },
    {
      "cell_type": "code",
      "metadata": {
        "id": "gFLxtvMQ3VuW"
      },
      "source": [
        "%%bash\r\n",
        "wget http://www.rcsb.org/pdb/files/2src.pdb"
      ],
      "execution_count": null,
      "outputs": []
    },
    {
      "cell_type": "code",
      "metadata": {
        "id": "lJ59wMKP3lY4"
      },
      "source": [
        "!mv 2src.pdb 2src.PDB"
      ],
      "execution_count": null,
      "outputs": []
    },
    {
      "cell_type": "code",
      "metadata": {
        "id": "t0uPriHI3pr7"
      },
      "source": [
        "!ls -l\r\n"
      ],
      "execution_count": null,
      "outputs": []
    },
    {
      "cell_type": "code",
      "metadata": {
        "id": "FfvD8A0Z3qj9"
      },
      "source": [
        "!rm -i 2src.PDB"
      ],
      "execution_count": null,
      "outputs": []
    },
    {
      "cell_type": "code",
      "metadata": {
        "id": "hcs_xP2S3xOH"
      },
      "source": [
        "!ls -l 2src.PDB"
      ],
      "execution_count": null,
      "outputs": []
    },
    {
      "cell_type": "code",
      "metadata": {
        "id": "kAcZCWVJ35fB"
      },
      "source": [
        "!touch new_file.txt\r\n"
      ],
      "execution_count": null,
      "outputs": []
    },
    {
      "cell_type": "code",
      "metadata": {
        "id": "tz-9bCse39PZ"
      },
      "source": [
        "!ls -l new_file.txt"
      ],
      "execution_count": null,
      "outputs": []
    },
    {
      "cell_type": "code",
      "metadata": {
        "id": "T6HHKaIK4BJw"
      },
      "source": [
        "!find /content -name edirect"
      ],
      "execution_count": null,
      "outputs": []
    },
    {
      "cell_type": "code",
      "metadata": {
        "id": "m86ngp5H4Eb9"
      },
      "source": [
        "!cat 7lyz.pdb | grep CA\r\n"
      ],
      "execution_count": null,
      "outputs": []
    },
    {
      "cell_type": "code",
      "metadata": {
        "id": "oQq-cCtn4Kea"
      },
      "source": [
        "!cat 7lyz.pdb | grep CA | wc -l"
      ],
      "execution_count": null,
      "outputs": []
    },
    {
      "cell_type": "code",
      "metadata": {
        "id": "-UNUlHp74ezO"
      },
      "source": [
        "!df"
      ],
      "execution_count": null,
      "outputs": []
    },
    {
      "cell_type": "code",
      "metadata": {
        "id": "f5oSwILd4hAI"
      },
      "source": [
        "!head 7lyz.pdb"
      ],
      "execution_count": null,
      "outputs": []
    },
    {
      "cell_type": "code",
      "metadata": {
        "id": "kiwpss994j2h"
      },
      "source": [
        "!tail 7lyz.pdb"
      ],
      "execution_count": null,
      "outputs": []
    },
    {
      "cell_type": "code",
      "metadata": {
        "id": "sjnDjlIr4mKj"
      },
      "source": [
        "%%bash\r\n",
        "cat << EOF > config.txt\r\n",
        "first line\r\n",
        "second lie\r\n",
        "third line \r\n",
        "EOF\r\n"
      ],
      "execution_count": null,
      "outputs": []
    },
    {
      "cell_type": "code",
      "metadata": {
        "id": "PRpP3RWn5EjI"
      },
      "source": [
        "!cat config.txt"
      ],
      "execution_count": null,
      "outputs": []
    },
    {
      "cell_type": "code",
      "metadata": {
        "id": "7Xn6ed305LtI"
      },
      "source": [
        "!tar -czvf test.tar.gz edirect\r\n"
      ],
      "execution_count": null,
      "outputs": []
    },
    {
      "cell_type": "code",
      "metadata": {
        "id": "1g89H5gd5RQ7"
      },
      "source": [
        "!ls -l *tar*"
      ],
      "execution_count": null,
      "outputs": []
    },
    {
      "cell_type": "code",
      "metadata": {
        "id": "Po4KtWPE5xoj"
      },
      "source": [
        "!top\r\n"
      ],
      "execution_count": null,
      "outputs": []
    },
    {
      "cell_type": "code",
      "metadata": {
        "id": "BF3RUl5e6aEr"
      },
      "source": [
        "%history"
      ],
      "execution_count": null,
      "outputs": []
    },
    {
      "cell_type": "code",
      "metadata": {
        "id": "PQJf8XYO6hPK"
      },
      "source": [
        "!which zip\r\n",
        "!which unzip"
      ],
      "execution_count": null,
      "outputs": []
    },
    {
      "cell_type": "markdown",
      "metadata": {
        "id": "drsRiwwq5h79"
      },
      "source": [
        "## Other important commands"
      ]
    },
    {
      "cell_type": "markdown",
      "metadata": {
        "id": "2aD06DXE5r2X"
      },
      "source": [
        "* chmod\r\n",
        "* chown\r\n",
        "* kill \r\n",
        "* Ctrl-c \r\n",
        "* Ctrl-z  # will pause the command\r\n"
      ]
    },
    {
      "cell_type": "code",
      "metadata": {
        "id": "qigIS91K5q9M"
      },
      "source": [
        "%%bash\r\n",
        "edirect/esearch -db pubmed -query \"lycopene cyclase\" | edirect/efetch -format abstract > HitsFile.txt"
      ],
      "execution_count": null,
      "outputs": []
    },
    {
      "cell_type": "code",
      "metadata": {
        "id": "LqxwaOtyChpk"
      },
      "source": [
        "!wc -l HitsFile.txt"
      ],
      "execution_count": null,
      "outputs": []
    },
    {
      "cell_type": "code",
      "metadata": {
        "id": "rZI07w1JCoS7"
      },
      "source": [
        ""
      ],
      "execution_count": null,
      "outputs": []
    }
  ]
}