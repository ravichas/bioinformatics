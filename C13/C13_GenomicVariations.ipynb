{
  "nbformat": 4,
  "nbformat_minor": 0,
  "metadata": {
    "colab": {
      "provenance": [],
      "authorship_tag": "ABX9TyMRR1kqw6rnarJhbQDUPlud",
      "include_colab_link": true
    },
    "kernelspec": {
      "name": "python3",
      "display_name": "Python 3"
    },
    "language_info": {
      "name": "python"
    }
  },
  "cells": [
    {
      "cell_type": "markdown",
      "metadata": {
        "id": "view-in-github",
        "colab_type": "text"
      },
      "source": [
        "<a href=\"https://colab.research.google.com/github/ravichas/bioinformatics/blob/main/C13/C13_GenomicVariations.ipynb\" target=\"_parent\"><img src=\"https://colab.research.google.com/assets/colab-badge.svg\" alt=\"Open In Colab\"/></a>"
      ]
    },
    {
      "cell_type": "markdown",
      "source": [
        "# Class-13 Impact Analysis"
      ],
      "metadata": {
        "id": "T7C1wNSWrFZa"
      }
    },
    {
      "cell_type": "markdown",
      "source": [
        "```\n",
        "C13-Variations\n",
        "\n",
        "GRCh38\n",
        "Chr Start     End    Ref Alt\n",
        "1 215844394 215844394 T C\n",
        "1 21598453 21598453 T C\n",
        "1 248038304 248038304 T A\n",
        "1 28605454 28605454 T C\n",
        "11 27093359 27093359 T G\n",
        "11 7639825 7639825 A -\n",
        "12 20634912 20634912 T A\n",
        "12 21440412 21440412 T G\n",
        "12 21862962 21862962 T C\n",
        "12 25227342 25227342 T C\n",
        "12 25245372 25245372 T C\n",
        "13 28024869 28024869 T G\n",
        "17 31337518 31337518 - GA\n",
        "18 31339953 31339953 T G\n",
        "19 12628688 12628688 A -\n",
        "19 19934077 19934077 T C\n",
        "19 21117543 21117543 T A\n",
        "19 22088294 22088294 T C\n",
        "19 22316524 22316524 T C\n",
        "```"
      ],
      "metadata": {
        "id": "--He2A1WrK5H"
      }
    },
    {
      "cell_type": "code",
      "execution_count": null,
      "metadata": {
        "id": "4qm-5L-nrA1V"
      },
      "outputs": [],
      "source": []
    }
  ]
}